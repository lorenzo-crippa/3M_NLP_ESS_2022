{
  "nbformat": 4,
  "nbformat_minor": 0,
  "metadata": {
    "colab": {
      "name": "Tutorial Two (R): Introduction to NLP Annotation Pipelines",
      "provenance": []
    },
    "kernelspec": {
      "name": "ir",
      "display_name": "R"
    },
    "language_info": {
      "name": "R"
    }
  },
  "cells": [
    {
      "cell_type": "markdown",
      "metadata": {
        "id": "L3Paat81Djh0"
      },
      "source": [
        "# Introduction to NLP Annotation Pipelines in R\n",
        "\n",
        "## Douglas Rice\n",
        "\n",
        "*This tutorial was originally created by Burt Monroe for his prior work with the Essex Summer School. I've updated and modified it.*\n",
        "\n",
        "In this notebook, we'll learn about doing NLP tasks in R, including tokenization, stemming, part-of-speech tagging, named entity recognition, and dependency parsing. After completing this notebook, you should be familar with:\n",
        "\n",
        "1. Tokenization\n",
        "2. Stemming & Lemmatization\n",
        "3. Part-of-Speech Tagging\n",
        "4. Named Entity Recognition\n",
        "5. Dependency Parsing\n",
        "\n",
        "# Annotation Pipelines\n",
        "\n",
        "NLP tasks are typically organized around the concept of an annotation \"pipeline\" based on a given \"language model.\" Basically, you download/install/load a given model, then pass the model and your input text to the software's annotation pipeline and receive an output object with annotated text.\n",
        "\n",
        "For example, the pipeline for Stanford CoreNLP is depicted below. The text is first tokenized, then split into sentences, then tokens are tagged with respect to parts of speech, then the tokens are lemmatized, then the named entity recognizer is applied, and finally the dependency parser is applied. The output is an object from which all of those annotations can be accessed.\n",
        "\n",
        "![CoreNLP Pipeline (Source: https://stanfordnlp.github.io/CoreNLP/index.html)](https://stanfordnlp.github.io/CoreNLP/assets/images/pipeline.png)\n",
        "\n",
        "There are, of course, many packages to for NLP in R. We're going to focus on the workhorses, but that isn't to say there aren't other options.\n",
        "\n",
        "Practical note: many of these packages contain functions with the same name, so loading order will affect which libraries' commands mask the others'. I have tried to avoid this issue here by explicit use of namespaces, e.g. \"quanteda::dfm()\". This will often not be necessary when using a particular package in relative isolation."
      ]
    },
    {
      "cell_type": "markdown",
      "metadata": {
        "id": "yeD0b0nQE6Zs"
      },
      "source": [
        "# Installations\n"
      ]
    },
    {
      "cell_type": "markdown",
      "metadata": {
        "id": "hklZuwtzW8sy"
      },
      "source": [
        "\n",
        "### Installations needed for quanteda section"
      ]
    },
    {
      "cell_type": "code",
      "metadata": {
        "colab": {
          "base_uri": "https://localhost:8080/"
        },
        "id": "XxBDkmgVDuNt",
        "outputId": "4b3f706a-d67a-49d0-a0dd-671f54a16784"
      },
      "source": [
        "install.packages(\"quanteda\")"
      ],
      "execution_count": null,
      "outputs": [
        {
          "output_type": "stream",
          "name": "stderr",
          "text": [
            "Installing package into ‘/usr/local/lib/R/site-library’\n",
            "(as ‘lib’ is unspecified)\n",
            "\n",
            "also installing the dependencies ‘ISOcodes’, ‘fastmatch’, ‘RcppParallel’, ‘SnowballC’, ‘stopwords’, ‘RcppArmadillo’\n",
            "\n",
            "\n"
          ]
        }
      ]
    },
    {
      "cell_type": "code",
      "metadata": {
        "id": "c_GG33xwECOr"
      },
      "source": [
        "#install.packages(\"devtools\")\n",
        "library(devtools)\n",
        "devtools::install_github(\"quanteda/quanteda.corpora\")\n",
        "library(\"quanteda.corpora\")\n",
        "devtools::install_github(\"quanteda/quanteda.textmodels\") "
      ],
      "execution_count": null,
      "outputs": []
    },
    {
      "cell_type": "code",
      "metadata": {
        "colab": {
          "base_uri": "https://localhost:8080/"
        },
        "id": "yRe6xU7GGM2a",
        "outputId": "ba1c5662-6374-4801-d805-53f9de1304f9"
      },
      "source": [
        "install.packages(\"tokenizers\")"
      ],
      "execution_count": null,
      "outputs": [
        {
          "output_type": "stream",
          "name": "stderr",
          "text": [
            "Installing package into ‘/usr/local/lib/R/site-library’\n",
            "(as ‘lib’ is unspecified)\n",
            "\n"
          ]
        }
      ]
    },
    {
      "cell_type": "markdown",
      "metadata": {
        "id": "7aT3e2B4GXWT"
      },
      "source": [
        "### Installations needed for tm section"
      ]
    },
    {
      "cell_type": "code",
      "metadata": {
        "colab": {
          "base_uri": "https://localhost:8080/"
        },
        "id": "HwoTJ3BEGbQN",
        "outputId": "8620089e-bb8f-4ab2-bc95-760f1a42649f"
      },
      "source": [
        "install.packages(\"tm\")"
      ],
      "execution_count": null,
      "outputs": [
        {
          "output_type": "stream",
          "name": "stderr",
          "text": [
            "Installing package into ‘/usr/local/lib/R/site-library’\n",
            "(as ‘lib’ is unspecified)\n",
            "\n",
            "also installing the dependencies ‘NLP’, ‘slam’, ‘BH’\n",
            "\n",
            "\n"
          ]
        }
      ]
    },
    {
      "cell_type": "markdown",
      "metadata": {
        "id": "Ln8ExMI5Gni3"
      },
      "source": [
        "### Installations needed for tidytext section"
      ]
    },
    {
      "cell_type": "code",
      "metadata": {
        "colab": {
          "base_uri": "https://localhost:8080/"
        },
        "id": "o4HurodqGq7p",
        "outputId": "32fcd73b-6042-4091-9359-f88bc88e472d"
      },
      "source": [
        "#install.packages(\"tidyverse\") # or just install dplyr, stringr, and magrittr\n",
        "install.packages(\"dplyr\")\n",
        "install.packages(\"stringr\")\n",
        "install.packages(\"magrittr\")\n",
        "install.packages(\"tidytext\")"
      ],
      "execution_count": null,
      "outputs": [
        {
          "output_type": "stream",
          "name": "stderr",
          "text": [
            "Installing package into ‘/usr/local/lib/R/site-library’\n",
            "(as ‘lib’ is unspecified)\n",
            "\n",
            "Installing package into ‘/usr/local/lib/R/site-library’\n",
            "(as ‘lib’ is unspecified)\n",
            "\n",
            "Installing package into ‘/usr/local/lib/R/site-library’\n",
            "(as ‘lib’ is unspecified)\n",
            "\n",
            "Installing package into ‘/usr/local/lib/R/site-library’\n",
            "(as ‘lib’ is unspecified)\n",
            "\n"
          ]
        }
      ]
    },
    {
      "cell_type": "markdown",
      "metadata": {
        "id": "jgrQU_PIXd8I"
      },
      "source": [
        "# Text-as-data frameworks/ecosystems\n",
        "\n",
        "Quanteda, tm, and tidytext are general -- partially overlapping, interrelated, and interconnected -- frameworks for text-as-data analysis, and most social scientific text work in R is managed through one of these. They provide direct access to a varying, but relatively limited, set of tools for NLP per se (things like tokenization, stopword removal, case-folding, and stemming). Their primary strengths are in the data science aspects of managing/wrangling text data as quantitative data for statistical / machine learning analysis.\n",
        "\n"
      ]
    },
    {
      "cell_type": "markdown",
      "metadata": {
        "id": "bnZI3Gg2XhBq"
      },
      "source": [
        "## quanteda\n",
        "\n",
        "Quanteda is a very general ecosystem for text analysis in R. There is a more extensive tutorial on quanteda here: XX."
      ]
    },
    {
      "cell_type": "code",
      "metadata": {
        "colab": {
          "base_uri": "https://localhost:8080/"
        },
        "id": "6P57A0LIB66C",
        "outputId": "9acfbc6d-9a02-4af8-91a2-87d538f6e91d"
      },
      "source": [
        "library(quanteda)"
      ],
      "execution_count": null,
      "outputs": [
        {
          "output_type": "stream",
          "name": "stderr",
          "text": [
            "Package version: 3.1.0\n",
            "Unicode version: 10.0\n",
            "ICU version: 60.2\n",
            "\n",
            "Parallel computing: 2 of 2 threads used.\n",
            "\n",
            "See https://quanteda.io for tutorials and examples.\n",
            "\n"
          ]
        }
      ]
    },
    {
      "cell_type": "markdown",
      "metadata": {
        "id": "7MqFAmmUJoMs"
      },
      "source": [
        "There are a number of sample corpora provided by Quanteda in the \"quanteda.corpora\" and \"quanteda.textmodels\" packages, which must be installed from Github via the package \"devtools.\" Note that to properly install quanteda.textmodels without errors on RStudio Cloud, I had to increase allocated RAM to 2GB.\n"
      ]
    },
    {
      "cell_type": "code",
      "metadata": {
        "id": "doytJ1coJq2X"
      },
      "source": [
        "library(\"quanteda.corpora\")"
      ],
      "execution_count": null,
      "outputs": []
    },
    {
      "cell_type": "markdown",
      "metadata": {
        "id": "n--PjeBNJ5JS"
      },
      "source": [
        "For this demonstration, we will use the movie review dataset provided in quanteda.textmodels (a sample of 2000 movie reviews, classified as positive or negative, from Pang and Lee (2004))."
      ]
    },
    {
      "cell_type": "code",
      "metadata": {
        "id": "2NfX1JWGKCa2"
      },
      "source": [
        "library(\"quanteda.textmodels\")\n",
        "movie_corpus <- quanteda.textmodels::data_corpus_moviereviews"
      ],
      "execution_count": null,
      "outputs": []
    },
    {
      "cell_type": "markdown",
      "metadata": {
        "id": "-MrPjGprKHuS"
      },
      "source": [
        "The basics of a Quanteda corpus can be accessed through the `summary` command."
      ]
    },
    {
      "cell_type": "code",
      "metadata": {
        "colab": {
          "base_uri": "https://localhost:8080/",
          "height": 1000
        },
        "id": "Nyc3A_8WKK8b",
        "outputId": "ce3043a4-0a7d-4e50-a2a2-543d4d1690e6"
      },
      "source": [
        "summary(movie_corpus)"
      ],
      "execution_count": null,
      "outputs": [
        {
          "output_type": "display_data",
          "data": {
            "text/plain": [
              "    Text            Types Tokens Sentences sentiment id1   id2  \n",
              "1   cv000_29416.txt 354    841    9        neg       cv000 29416\n",
              "2   cv001_19502.txt 156    278    1        neg       cv001 19502\n",
              "3   cv002_17424.txt 276    553    3        neg       cv002 17424\n",
              "4   cv003_12683.txt 313    555    2        neg       cv003 12683\n",
              "5   cv004_12641.txt 380    841    2        neg       cv004 12641\n",
              "6   cv005_29357.txt 328    747    1        neg       cv005 29357\n",
              "7   cv006_17022.txt 331    641    5        neg       cv006 17022\n",
              "8   cv007_4992.txt  325    673    6        neg       cv007 4992 \n",
              "9   cv008_29326.txt 441    794   10        neg       cv008 29326\n",
              "10  cv009_29417.txt 401    965   23        neg       cv009 29417\n",
              "11  cv010_29063.txt 430    834    3        neg       cv010 29063\n",
              "12  cv011_13044.txt 307    590    2        neg       cv011 13044\n",
              "13  cv012_29411.txt 286    523    2        neg       cv012 29411\n",
              "14  cv013_10494.txt 437   1106    2        neg       cv013 10494\n",
              "15  cv014_15600.txt 275    596    4        neg       cv014 15600\n",
              "16  cv015_29356.txt 357    776    3        neg       cv015 29356\n",
              "17  cv016_4348.txt  332    720    4        neg       cv016 4348 \n",
              "18  cv017_23487.txt 366    800   11        neg       cv017 23487\n",
              "19  cv018_21672.txt 249    504    5        neg       cv018 21672\n",
              "20  cv019_16117.txt 326    845    5        neg       cv019 16117\n",
              "21  cv020_9234.txt  401    799    4        neg       cv020 9234 \n",
              "22  cv021_17313.txt 355    599    9        neg       cv021 17313\n",
              "23  cv022_14227.txt 309    757    2        neg       cv022 14227\n",
              "24  cv023_13847.txt 450   1223    2        neg       cv023 13847\n",
              "25  cv024_7033.txt  404    770    3        neg       cv024 7033 \n",
              "26  cv025_29825.txt 323    638    2        neg       cv025 29825\n",
              "27  cv026_29229.txt 300    566    3        neg       cv026 29229\n",
              "28  cv027_26270.txt 643   1442    5        neg       cv027 26270\n",
              "29  cv028_26964.txt 324    607    4        neg       cv028 26964\n",
              "30  cv029_19943.txt 193    363    3        neg       cv029 19943\n",
              "⋮   ⋮               ⋮     ⋮      ⋮         ⋮         ⋮     ⋮    \n",
              "71  cv070_13249.txt 481    997    8        neg       cv070 13249\n",
              "72  cv071_12969.txt 358    836    2        neg       cv071 12969\n",
              "73  cv072_5928.txt  411    831    3        neg       cv072 5928 \n",
              "74  cv073_23039.txt 379    748    4        neg       cv073 23039\n",
              "75  cv074_7188.txt  295    579    5        neg       cv074 7188 \n",
              "76  cv075_6250.txt  202    386    1        neg       cv075 6250 \n",
              "77  cv076_26009.txt 212    358    1        neg       cv076 26009\n",
              "78  cv077_23172.txt 347    739    4        neg       cv077 23172\n",
              "79  cv078_16506.txt 342    704    2        neg       cv078 16506\n",
              "80  cv079_12766.txt 552   1270    7        neg       cv079 12766\n",
              "81  cv080_14899.txt 276    552    2        neg       cv080 14899\n",
              "82  cv081_18241.txt 189    312    1        neg       cv081 18241\n",
              "83  cv082_11979.txt 213    473    1        neg       cv082 11979\n",
              "84  cv083_25491.txt 437    951    2        neg       cv083 25491\n",
              "85  cv084_15183.txt 268    547    2        neg       cv084 15183\n",
              "86  cv085_15286.txt 308    622    5        neg       cv085 15286\n",
              "87  cv086_19488.txt 394    950    2        neg       cv086 19488\n",
              "88  cv087_2145.txt  331    786   11        neg       cv087 2145 \n",
              "89  cv088_25274.txt 206    384    8        neg       cv088 25274\n",
              "90  cv089_12222.txt 322    636    3        neg       cv089 12222\n",
              "91  cv090_0049.txt  606   1408    4        neg       cv090 0049 \n",
              "92  cv091_7899.txt  253    492    1        neg       cv091 7899 \n",
              "93  cv092_27987.txt 288    654    2        neg       cv092 27987\n",
              "94  cv093_15606.txt 142    222    4        neg       cv093 15606\n",
              "95  cv094_27868.txt 349    790    1        neg       cv094 27868\n",
              "96  cv095_28730.txt 256    460    3        neg       cv095 28730\n",
              "97  cv096_12262.txt 287    559    8        neg       cv096 12262\n",
              "98  cv097_26081.txt 521   1153    2        neg       cv097 26081\n",
              "99  cv098_17021.txt 213    435    2        neg       cv098 17021\n",
              "100 cv099_11189.txt 359    757   14        neg       cv099 11189"
            ],
            "text/latex": "A summary.corpus: 100 × 7\n\\begin{tabular}{r|lllllll}\n  & Text & Types & Tokens & Sentences & sentiment & id1 & id2\\\\\n  & <chr> & <int> & <int> & <int> & <fct> & <chr> & <chr>\\\\\n\\hline\n\t1 & cv000\\_29416.txt & 354 &  841 &  9 & neg & cv000 & 29416\\\\\n\t2 & cv001\\_19502.txt & 156 &  278 &  1 & neg & cv001 & 19502\\\\\n\t3 & cv002\\_17424.txt & 276 &  553 &  3 & neg & cv002 & 17424\\\\\n\t4 & cv003\\_12683.txt & 313 &  555 &  2 & neg & cv003 & 12683\\\\\n\t5 & cv004\\_12641.txt & 380 &  841 &  2 & neg & cv004 & 12641\\\\\n\t6 & cv005\\_29357.txt & 328 &  747 &  1 & neg & cv005 & 29357\\\\\n\t7 & cv006\\_17022.txt & 331 &  641 &  5 & neg & cv006 & 17022\\\\\n\t8 & cv007\\_4992.txt  & 325 &  673 &  6 & neg & cv007 & 4992 \\\\\n\t9 & cv008\\_29326.txt & 441 &  794 & 10 & neg & cv008 & 29326\\\\\n\t10 & cv009\\_29417.txt & 401 &  965 & 23 & neg & cv009 & 29417\\\\\n\t11 & cv010\\_29063.txt & 430 &  834 &  3 & neg & cv010 & 29063\\\\\n\t12 & cv011\\_13044.txt & 307 &  590 &  2 & neg & cv011 & 13044\\\\\n\t13 & cv012\\_29411.txt & 286 &  523 &  2 & neg & cv012 & 29411\\\\\n\t14 & cv013\\_10494.txt & 437 & 1106 &  2 & neg & cv013 & 10494\\\\\n\t15 & cv014\\_15600.txt & 275 &  596 &  4 & neg & cv014 & 15600\\\\\n\t16 & cv015\\_29356.txt & 357 &  776 &  3 & neg & cv015 & 29356\\\\\n\t17 & cv016\\_4348.txt  & 332 &  720 &  4 & neg & cv016 & 4348 \\\\\n\t18 & cv017\\_23487.txt & 366 &  800 & 11 & neg & cv017 & 23487\\\\\n\t19 & cv018\\_21672.txt & 249 &  504 &  5 & neg & cv018 & 21672\\\\\n\t20 & cv019\\_16117.txt & 326 &  845 &  5 & neg & cv019 & 16117\\\\\n\t21 & cv020\\_9234.txt  & 401 &  799 &  4 & neg & cv020 & 9234 \\\\\n\t22 & cv021\\_17313.txt & 355 &  599 &  9 & neg & cv021 & 17313\\\\\n\t23 & cv022\\_14227.txt & 309 &  757 &  2 & neg & cv022 & 14227\\\\\n\t24 & cv023\\_13847.txt & 450 & 1223 &  2 & neg & cv023 & 13847\\\\\n\t25 & cv024\\_7033.txt  & 404 &  770 &  3 & neg & cv024 & 7033 \\\\\n\t26 & cv025\\_29825.txt & 323 &  638 &  2 & neg & cv025 & 29825\\\\\n\t27 & cv026\\_29229.txt & 300 &  566 &  3 & neg & cv026 & 29229\\\\\n\t28 & cv027\\_26270.txt & 643 & 1442 &  5 & neg & cv027 & 26270\\\\\n\t29 & cv028\\_26964.txt & 324 &  607 &  4 & neg & cv028 & 26964\\\\\n\t30 & cv029\\_19943.txt & 193 &  363 &  3 & neg & cv029 & 19943\\\\\n\t⋮ & ⋮ & ⋮ & ⋮ & ⋮ & ⋮ & ⋮ & ⋮\\\\\n\t71 & cv070\\_13249.txt & 481 &  997 &  8 & neg & cv070 & 13249\\\\\n\t72 & cv071\\_12969.txt & 358 &  836 &  2 & neg & cv071 & 12969\\\\\n\t73 & cv072\\_5928.txt  & 411 &  831 &  3 & neg & cv072 & 5928 \\\\\n\t74 & cv073\\_23039.txt & 379 &  748 &  4 & neg & cv073 & 23039\\\\\n\t75 & cv074\\_7188.txt  & 295 &  579 &  5 & neg & cv074 & 7188 \\\\\n\t76 & cv075\\_6250.txt  & 202 &  386 &  1 & neg & cv075 & 6250 \\\\\n\t77 & cv076\\_26009.txt & 212 &  358 &  1 & neg & cv076 & 26009\\\\\n\t78 & cv077\\_23172.txt & 347 &  739 &  4 & neg & cv077 & 23172\\\\\n\t79 & cv078\\_16506.txt & 342 &  704 &  2 & neg & cv078 & 16506\\\\\n\t80 & cv079\\_12766.txt & 552 & 1270 &  7 & neg & cv079 & 12766\\\\\n\t81 & cv080\\_14899.txt & 276 &  552 &  2 & neg & cv080 & 14899\\\\\n\t82 & cv081\\_18241.txt & 189 &  312 &  1 & neg & cv081 & 18241\\\\\n\t83 & cv082\\_11979.txt & 213 &  473 &  1 & neg & cv082 & 11979\\\\\n\t84 & cv083\\_25491.txt & 437 &  951 &  2 & neg & cv083 & 25491\\\\\n\t85 & cv084\\_15183.txt & 268 &  547 &  2 & neg & cv084 & 15183\\\\\n\t86 & cv085\\_15286.txt & 308 &  622 &  5 & neg & cv085 & 15286\\\\\n\t87 & cv086\\_19488.txt & 394 &  950 &  2 & neg & cv086 & 19488\\\\\n\t88 & cv087\\_2145.txt  & 331 &  786 & 11 & neg & cv087 & 2145 \\\\\n\t89 & cv088\\_25274.txt & 206 &  384 &  8 & neg & cv088 & 25274\\\\\n\t90 & cv089\\_12222.txt & 322 &  636 &  3 & neg & cv089 & 12222\\\\\n\t91 & cv090\\_0049.txt  & 606 & 1408 &  4 & neg & cv090 & 0049 \\\\\n\t92 & cv091\\_7899.txt  & 253 &  492 &  1 & neg & cv091 & 7899 \\\\\n\t93 & cv092\\_27987.txt & 288 &  654 &  2 & neg & cv092 & 27987\\\\\n\t94 & cv093\\_15606.txt & 142 &  222 &  4 & neg & cv093 & 15606\\\\\n\t95 & cv094\\_27868.txt & 349 &  790 &  1 & neg & cv094 & 27868\\\\\n\t96 & cv095\\_28730.txt & 256 &  460 &  3 & neg & cv095 & 28730\\\\\n\t97 & cv096\\_12262.txt & 287 &  559 &  8 & neg & cv096 & 12262\\\\\n\t98 & cv097\\_26081.txt & 521 & 1153 &  2 & neg & cv097 & 26081\\\\\n\t99 & cv098\\_17021.txt & 213 &  435 &  2 & neg & cv098 & 17021\\\\\n\t100 & cv099\\_11189.txt & 359 &  757 & 14 & neg & cv099 & 11189\\\\\n\\end{tabular}\n",
            "text/markdown": "\nA summary.corpus: 100 × 7\n\n| <!--/--> | Text &lt;chr&gt; | Types &lt;int&gt; | Tokens &lt;int&gt; | Sentences &lt;int&gt; | sentiment &lt;fct&gt; | id1 &lt;chr&gt; | id2 &lt;chr&gt; |\n|---|---|---|---|---|---|---|---|\n| 1 | cv000_29416.txt | 354 |  841 |  9 | neg | cv000 | 29416 |\n| 2 | cv001_19502.txt | 156 |  278 |  1 | neg | cv001 | 19502 |\n| 3 | cv002_17424.txt | 276 |  553 |  3 | neg | cv002 | 17424 |\n| 4 | cv003_12683.txt | 313 |  555 |  2 | neg | cv003 | 12683 |\n| 5 | cv004_12641.txt | 380 |  841 |  2 | neg | cv004 | 12641 |\n| 6 | cv005_29357.txt | 328 |  747 |  1 | neg | cv005 | 29357 |\n| 7 | cv006_17022.txt | 331 |  641 |  5 | neg | cv006 | 17022 |\n| 8 | cv007_4992.txt  | 325 |  673 |  6 | neg | cv007 | 4992  |\n| 9 | cv008_29326.txt | 441 |  794 | 10 | neg | cv008 | 29326 |\n| 10 | cv009_29417.txt | 401 |  965 | 23 | neg | cv009 | 29417 |\n| 11 | cv010_29063.txt | 430 |  834 |  3 | neg | cv010 | 29063 |\n| 12 | cv011_13044.txt | 307 |  590 |  2 | neg | cv011 | 13044 |\n| 13 | cv012_29411.txt | 286 |  523 |  2 | neg | cv012 | 29411 |\n| 14 | cv013_10494.txt | 437 | 1106 |  2 | neg | cv013 | 10494 |\n| 15 | cv014_15600.txt | 275 |  596 |  4 | neg | cv014 | 15600 |\n| 16 | cv015_29356.txt | 357 |  776 |  3 | neg | cv015 | 29356 |\n| 17 | cv016_4348.txt  | 332 |  720 |  4 | neg | cv016 | 4348  |\n| 18 | cv017_23487.txt | 366 |  800 | 11 | neg | cv017 | 23487 |\n| 19 | cv018_21672.txt | 249 |  504 |  5 | neg | cv018 | 21672 |\n| 20 | cv019_16117.txt | 326 |  845 |  5 | neg | cv019 | 16117 |\n| 21 | cv020_9234.txt  | 401 |  799 |  4 | neg | cv020 | 9234  |\n| 22 | cv021_17313.txt | 355 |  599 |  9 | neg | cv021 | 17313 |\n| 23 | cv022_14227.txt | 309 |  757 |  2 | neg | cv022 | 14227 |\n| 24 | cv023_13847.txt | 450 | 1223 |  2 | neg | cv023 | 13847 |\n| 25 | cv024_7033.txt  | 404 |  770 |  3 | neg | cv024 | 7033  |\n| 26 | cv025_29825.txt | 323 |  638 |  2 | neg | cv025 | 29825 |\n| 27 | cv026_29229.txt | 300 |  566 |  3 | neg | cv026 | 29229 |\n| 28 | cv027_26270.txt | 643 | 1442 |  5 | neg | cv027 | 26270 |\n| 29 | cv028_26964.txt | 324 |  607 |  4 | neg | cv028 | 26964 |\n| 30 | cv029_19943.txt | 193 |  363 |  3 | neg | cv029 | 19943 |\n| ⋮ | ⋮ | ⋮ | ⋮ | ⋮ | ⋮ | ⋮ | ⋮ |\n| 71 | cv070_13249.txt | 481 |  997 |  8 | neg | cv070 | 13249 |\n| 72 | cv071_12969.txt | 358 |  836 |  2 | neg | cv071 | 12969 |\n| 73 | cv072_5928.txt  | 411 |  831 |  3 | neg | cv072 | 5928  |\n| 74 | cv073_23039.txt | 379 |  748 |  4 | neg | cv073 | 23039 |\n| 75 | cv074_7188.txt  | 295 |  579 |  5 | neg | cv074 | 7188  |\n| 76 | cv075_6250.txt  | 202 |  386 |  1 | neg | cv075 | 6250  |\n| 77 | cv076_26009.txt | 212 |  358 |  1 | neg | cv076 | 26009 |\n| 78 | cv077_23172.txt | 347 |  739 |  4 | neg | cv077 | 23172 |\n| 79 | cv078_16506.txt | 342 |  704 |  2 | neg | cv078 | 16506 |\n| 80 | cv079_12766.txt | 552 | 1270 |  7 | neg | cv079 | 12766 |\n| 81 | cv080_14899.txt | 276 |  552 |  2 | neg | cv080 | 14899 |\n| 82 | cv081_18241.txt | 189 |  312 |  1 | neg | cv081 | 18241 |\n| 83 | cv082_11979.txt | 213 |  473 |  1 | neg | cv082 | 11979 |\n| 84 | cv083_25491.txt | 437 |  951 |  2 | neg | cv083 | 25491 |\n| 85 | cv084_15183.txt | 268 |  547 |  2 | neg | cv084 | 15183 |\n| 86 | cv085_15286.txt | 308 |  622 |  5 | neg | cv085 | 15286 |\n| 87 | cv086_19488.txt | 394 |  950 |  2 | neg | cv086 | 19488 |\n| 88 | cv087_2145.txt  | 331 |  786 | 11 | neg | cv087 | 2145  |\n| 89 | cv088_25274.txt | 206 |  384 |  8 | neg | cv088 | 25274 |\n| 90 | cv089_12222.txt | 322 |  636 |  3 | neg | cv089 | 12222 |\n| 91 | cv090_0049.txt  | 606 | 1408 |  4 | neg | cv090 | 0049  |\n| 92 | cv091_7899.txt  | 253 |  492 |  1 | neg | cv091 | 7899  |\n| 93 | cv092_27987.txt | 288 |  654 |  2 | neg | cv092 | 27987 |\n| 94 | cv093_15606.txt | 142 |  222 |  4 | neg | cv093 | 15606 |\n| 95 | cv094_27868.txt | 349 |  790 |  1 | neg | cv094 | 27868 |\n| 96 | cv095_28730.txt | 256 |  460 |  3 | neg | cv095 | 28730 |\n| 97 | cv096_12262.txt | 287 |  559 |  8 | neg | cv096 | 12262 |\n| 98 | cv097_26081.txt | 521 | 1153 |  2 | neg | cv097 | 26081 |\n| 99 | cv098_17021.txt | 213 |  435 |  2 | neg | cv098 | 17021 |\n| 100 | cv099_11189.txt | 359 |  757 | 14 | neg | cv099 | 11189 |\n\n",
            "text/html": [
              "<table class=\"dataframe\">\n",
              "<caption>A summary.corpus: 100 × 7</caption>\n",
              "<thead>\n",
              "\t<tr><th></th><th scope=col>Text</th><th scope=col>Types</th><th scope=col>Tokens</th><th scope=col>Sentences</th><th scope=col>sentiment</th><th scope=col>id1</th><th scope=col>id2</th></tr>\n",
              "\t<tr><th></th><th scope=col>&lt;chr&gt;</th><th scope=col>&lt;int&gt;</th><th scope=col>&lt;int&gt;</th><th scope=col>&lt;int&gt;</th><th scope=col>&lt;fct&gt;</th><th scope=col>&lt;chr&gt;</th><th scope=col>&lt;chr&gt;</th></tr>\n",
              "</thead>\n",
              "<tbody>\n",
              "\t<tr><th scope=row>1</th><td>cv000_29416.txt</td><td>354</td><td> 841</td><td> 9</td><td>neg</td><td>cv000</td><td>29416</td></tr>\n",
              "\t<tr><th scope=row>2</th><td>cv001_19502.txt</td><td>156</td><td> 278</td><td> 1</td><td>neg</td><td>cv001</td><td>19502</td></tr>\n",
              "\t<tr><th scope=row>3</th><td>cv002_17424.txt</td><td>276</td><td> 553</td><td> 3</td><td>neg</td><td>cv002</td><td>17424</td></tr>\n",
              "\t<tr><th scope=row>4</th><td>cv003_12683.txt</td><td>313</td><td> 555</td><td> 2</td><td>neg</td><td>cv003</td><td>12683</td></tr>\n",
              "\t<tr><th scope=row>5</th><td>cv004_12641.txt</td><td>380</td><td> 841</td><td> 2</td><td>neg</td><td>cv004</td><td>12641</td></tr>\n",
              "\t<tr><th scope=row>6</th><td>cv005_29357.txt</td><td>328</td><td> 747</td><td> 1</td><td>neg</td><td>cv005</td><td>29357</td></tr>\n",
              "\t<tr><th scope=row>7</th><td>cv006_17022.txt</td><td>331</td><td> 641</td><td> 5</td><td>neg</td><td>cv006</td><td>17022</td></tr>\n",
              "\t<tr><th scope=row>8</th><td>cv007_4992.txt </td><td>325</td><td> 673</td><td> 6</td><td>neg</td><td>cv007</td><td>4992 </td></tr>\n",
              "\t<tr><th scope=row>9</th><td>cv008_29326.txt</td><td>441</td><td> 794</td><td>10</td><td>neg</td><td>cv008</td><td>29326</td></tr>\n",
              "\t<tr><th scope=row>10</th><td>cv009_29417.txt</td><td>401</td><td> 965</td><td>23</td><td>neg</td><td>cv009</td><td>29417</td></tr>\n",
              "\t<tr><th scope=row>11</th><td>cv010_29063.txt</td><td>430</td><td> 834</td><td> 3</td><td>neg</td><td>cv010</td><td>29063</td></tr>\n",
              "\t<tr><th scope=row>12</th><td>cv011_13044.txt</td><td>307</td><td> 590</td><td> 2</td><td>neg</td><td>cv011</td><td>13044</td></tr>\n",
              "\t<tr><th scope=row>13</th><td>cv012_29411.txt</td><td>286</td><td> 523</td><td> 2</td><td>neg</td><td>cv012</td><td>29411</td></tr>\n",
              "\t<tr><th scope=row>14</th><td>cv013_10494.txt</td><td>437</td><td>1106</td><td> 2</td><td>neg</td><td>cv013</td><td>10494</td></tr>\n",
              "\t<tr><th scope=row>15</th><td>cv014_15600.txt</td><td>275</td><td> 596</td><td> 4</td><td>neg</td><td>cv014</td><td>15600</td></tr>\n",
              "\t<tr><th scope=row>16</th><td>cv015_29356.txt</td><td>357</td><td> 776</td><td> 3</td><td>neg</td><td>cv015</td><td>29356</td></tr>\n",
              "\t<tr><th scope=row>17</th><td>cv016_4348.txt </td><td>332</td><td> 720</td><td> 4</td><td>neg</td><td>cv016</td><td>4348 </td></tr>\n",
              "\t<tr><th scope=row>18</th><td>cv017_23487.txt</td><td>366</td><td> 800</td><td>11</td><td>neg</td><td>cv017</td><td>23487</td></tr>\n",
              "\t<tr><th scope=row>19</th><td>cv018_21672.txt</td><td>249</td><td> 504</td><td> 5</td><td>neg</td><td>cv018</td><td>21672</td></tr>\n",
              "\t<tr><th scope=row>20</th><td>cv019_16117.txt</td><td>326</td><td> 845</td><td> 5</td><td>neg</td><td>cv019</td><td>16117</td></tr>\n",
              "\t<tr><th scope=row>21</th><td>cv020_9234.txt </td><td>401</td><td> 799</td><td> 4</td><td>neg</td><td>cv020</td><td>9234 </td></tr>\n",
              "\t<tr><th scope=row>22</th><td>cv021_17313.txt</td><td>355</td><td> 599</td><td> 9</td><td>neg</td><td>cv021</td><td>17313</td></tr>\n",
              "\t<tr><th scope=row>23</th><td>cv022_14227.txt</td><td>309</td><td> 757</td><td> 2</td><td>neg</td><td>cv022</td><td>14227</td></tr>\n",
              "\t<tr><th scope=row>24</th><td>cv023_13847.txt</td><td>450</td><td>1223</td><td> 2</td><td>neg</td><td>cv023</td><td>13847</td></tr>\n",
              "\t<tr><th scope=row>25</th><td>cv024_7033.txt </td><td>404</td><td> 770</td><td> 3</td><td>neg</td><td>cv024</td><td>7033 </td></tr>\n",
              "\t<tr><th scope=row>26</th><td>cv025_29825.txt</td><td>323</td><td> 638</td><td> 2</td><td>neg</td><td>cv025</td><td>29825</td></tr>\n",
              "\t<tr><th scope=row>27</th><td>cv026_29229.txt</td><td>300</td><td> 566</td><td> 3</td><td>neg</td><td>cv026</td><td>29229</td></tr>\n",
              "\t<tr><th scope=row>28</th><td>cv027_26270.txt</td><td>643</td><td>1442</td><td> 5</td><td>neg</td><td>cv027</td><td>26270</td></tr>\n",
              "\t<tr><th scope=row>29</th><td>cv028_26964.txt</td><td>324</td><td> 607</td><td> 4</td><td>neg</td><td>cv028</td><td>26964</td></tr>\n",
              "\t<tr><th scope=row>30</th><td>cv029_19943.txt</td><td>193</td><td> 363</td><td> 3</td><td>neg</td><td>cv029</td><td>19943</td></tr>\n",
              "\t<tr><th scope=row>⋮</th><td>⋮</td><td>⋮</td><td>⋮</td><td>⋮</td><td>⋮</td><td>⋮</td><td>⋮</td></tr>\n",
              "\t<tr><th scope=row>71</th><td>cv070_13249.txt</td><td>481</td><td> 997</td><td> 8</td><td>neg</td><td>cv070</td><td>13249</td></tr>\n",
              "\t<tr><th scope=row>72</th><td>cv071_12969.txt</td><td>358</td><td> 836</td><td> 2</td><td>neg</td><td>cv071</td><td>12969</td></tr>\n",
              "\t<tr><th scope=row>73</th><td>cv072_5928.txt </td><td>411</td><td> 831</td><td> 3</td><td>neg</td><td>cv072</td><td>5928 </td></tr>\n",
              "\t<tr><th scope=row>74</th><td>cv073_23039.txt</td><td>379</td><td> 748</td><td> 4</td><td>neg</td><td>cv073</td><td>23039</td></tr>\n",
              "\t<tr><th scope=row>75</th><td>cv074_7188.txt </td><td>295</td><td> 579</td><td> 5</td><td>neg</td><td>cv074</td><td>7188 </td></tr>\n",
              "\t<tr><th scope=row>76</th><td>cv075_6250.txt </td><td>202</td><td> 386</td><td> 1</td><td>neg</td><td>cv075</td><td>6250 </td></tr>\n",
              "\t<tr><th scope=row>77</th><td>cv076_26009.txt</td><td>212</td><td> 358</td><td> 1</td><td>neg</td><td>cv076</td><td>26009</td></tr>\n",
              "\t<tr><th scope=row>78</th><td>cv077_23172.txt</td><td>347</td><td> 739</td><td> 4</td><td>neg</td><td>cv077</td><td>23172</td></tr>\n",
              "\t<tr><th scope=row>79</th><td>cv078_16506.txt</td><td>342</td><td> 704</td><td> 2</td><td>neg</td><td>cv078</td><td>16506</td></tr>\n",
              "\t<tr><th scope=row>80</th><td>cv079_12766.txt</td><td>552</td><td>1270</td><td> 7</td><td>neg</td><td>cv079</td><td>12766</td></tr>\n",
              "\t<tr><th scope=row>81</th><td>cv080_14899.txt</td><td>276</td><td> 552</td><td> 2</td><td>neg</td><td>cv080</td><td>14899</td></tr>\n",
              "\t<tr><th scope=row>82</th><td>cv081_18241.txt</td><td>189</td><td> 312</td><td> 1</td><td>neg</td><td>cv081</td><td>18241</td></tr>\n",
              "\t<tr><th scope=row>83</th><td>cv082_11979.txt</td><td>213</td><td> 473</td><td> 1</td><td>neg</td><td>cv082</td><td>11979</td></tr>\n",
              "\t<tr><th scope=row>84</th><td>cv083_25491.txt</td><td>437</td><td> 951</td><td> 2</td><td>neg</td><td>cv083</td><td>25491</td></tr>\n",
              "\t<tr><th scope=row>85</th><td>cv084_15183.txt</td><td>268</td><td> 547</td><td> 2</td><td>neg</td><td>cv084</td><td>15183</td></tr>\n",
              "\t<tr><th scope=row>86</th><td>cv085_15286.txt</td><td>308</td><td> 622</td><td> 5</td><td>neg</td><td>cv085</td><td>15286</td></tr>\n",
              "\t<tr><th scope=row>87</th><td>cv086_19488.txt</td><td>394</td><td> 950</td><td> 2</td><td>neg</td><td>cv086</td><td>19488</td></tr>\n",
              "\t<tr><th scope=row>88</th><td>cv087_2145.txt </td><td>331</td><td> 786</td><td>11</td><td>neg</td><td>cv087</td><td>2145 </td></tr>\n",
              "\t<tr><th scope=row>89</th><td>cv088_25274.txt</td><td>206</td><td> 384</td><td> 8</td><td>neg</td><td>cv088</td><td>25274</td></tr>\n",
              "\t<tr><th scope=row>90</th><td>cv089_12222.txt</td><td>322</td><td> 636</td><td> 3</td><td>neg</td><td>cv089</td><td>12222</td></tr>\n",
              "\t<tr><th scope=row>91</th><td>cv090_0049.txt </td><td>606</td><td>1408</td><td> 4</td><td>neg</td><td>cv090</td><td>0049 </td></tr>\n",
              "\t<tr><th scope=row>92</th><td>cv091_7899.txt </td><td>253</td><td> 492</td><td> 1</td><td>neg</td><td>cv091</td><td>7899 </td></tr>\n",
              "\t<tr><th scope=row>93</th><td>cv092_27987.txt</td><td>288</td><td> 654</td><td> 2</td><td>neg</td><td>cv092</td><td>27987</td></tr>\n",
              "\t<tr><th scope=row>94</th><td>cv093_15606.txt</td><td>142</td><td> 222</td><td> 4</td><td>neg</td><td>cv093</td><td>15606</td></tr>\n",
              "\t<tr><th scope=row>95</th><td>cv094_27868.txt</td><td>349</td><td> 790</td><td> 1</td><td>neg</td><td>cv094</td><td>27868</td></tr>\n",
              "\t<tr><th scope=row>96</th><td>cv095_28730.txt</td><td>256</td><td> 460</td><td> 3</td><td>neg</td><td>cv095</td><td>28730</td></tr>\n",
              "\t<tr><th scope=row>97</th><td>cv096_12262.txt</td><td>287</td><td> 559</td><td> 8</td><td>neg</td><td>cv096</td><td>12262</td></tr>\n",
              "\t<tr><th scope=row>98</th><td>cv097_26081.txt</td><td>521</td><td>1153</td><td> 2</td><td>neg</td><td>cv097</td><td>26081</td></tr>\n",
              "\t<tr><th scope=row>99</th><td>cv098_17021.txt</td><td>213</td><td> 435</td><td> 2</td><td>neg</td><td>cv098</td><td>17021</td></tr>\n",
              "\t<tr><th scope=row>100</th><td>cv099_11189.txt</td><td>359</td><td> 757</td><td>14</td><td>neg</td><td>cv099</td><td>11189</td></tr>\n",
              "</tbody>\n",
              "</table>\n"
            ]
          },
          "metadata": {}
        }
      ]
    },
    {
      "cell_type": "markdown",
      "metadata": {
        "id": "AEkyrgBeCjk5"
      },
      "source": [
        "The raw text can be examined by applying the `as.character` command. Here's the first document:"
      ]
    },
    {
      "cell_type": "code",
      "metadata": {
        "colab": {
          "base_uri": "https://localhost:8080/",
          "height": 544
        },
        "id": "mXMbJ8usKVRS",
        "outputId": "6013eada-1144-4e75-930e-60359ef6f72e"
      },
      "source": [
        "as.character(movie_corpus[1])"
      ],
      "execution_count": null,
      "outputs": [
        {
          "output_type": "display_data",
          "data": {
            "text/plain": [
              "                                                                                                                                                                                                                                                                                                                                                                                                                                                                                                                                                                                                                                                                                                                                                                                                                                                                                                                                                                                                                                                                                                                                                                                                                                                                                                                                                                                                                                                                                                                                                                                                                                                                                                                                                                                                                                                                                                                                                                                                                                                                                                                                                                                                                                                                                                                                                                                                                                                                                                                                                                                                                                                                                                                                                                                                                                                                                                                                                                                                                                                                                                                                                                                                                                                                                                                                                                                                                                                                                                                                                                                                                                                                                                                                                                                                                                                                                                                                                                                                                                                                                                                                                                                                                                         cv000_29416.txt \n",
              "\"plot : two teen couples go to a church party , drink and then drive . \\nthey get into an accident . \\none of the guys dies , but his girlfriend continues to see him in her life , and has nightmares . \\nwhat's the deal ? \\nwatch the movie and \\\" sorta \\\" find out . . . \\ncritique : a mind-fuck movie for the teen generation that touches on a very cool idea , but presents it in a very bad package . \\nwhich is what makes this review an even harder one to write , since i generally applaud films which attempt to break the mold , mess with your head and such ( lost highway & memento ) , but there are good and bad ways of making all types of films , and these folks just didn't snag this one correctly . \\nthey seem to have taken this pretty neat concept , but executed it terribly . \\nso what are the problems with the movie ? \\nwell , its main problem is that it's simply too jumbled . \\nit starts off \\\" normal \\\" but then downshifts into this \\\" fantasy \\\" world in which you , as an audience member , have no idea what's going on . \\nthere are dreams , there are characters coming back from the dead , there are others who look like the dead , there are strange apparitions , there are disappearances , there are a looooot of chase scenes , there are tons of weird things that happen , and most of it is simply not explained . \\nnow i personally don't mind trying to unravel a film every now and then , but when all it does is give me the same clue over and over again , i get kind of fed up after a while , which is this film's biggest problem . \\nit's obviously got this big secret to hide , but it seems to want to hide it completely until its final five minutes . \\nand do they make things entertaining , thrilling or even engaging , in the meantime ? \\nnot really . \\nthe sad part is that the arrow and i both dig on flicks like this , so we actually figured most of it out by the half-way point , so all of the strangeness after that did start to make a little bit of sense , but it still didn't the make the film all that more entertaining . \\ni guess the bottom line with movies like this is that you should always make sure that the audience is \\\" into it \\\" even before they are given the secret password to enter your world of understanding . \\ni mean , showing melissa sagemiller running away from visions for about 20 minutes throughout the movie is just plain lazy ! ! \\nokay , we get it . . . there \\nare people chasing her and we don't know who they are . \\ndo we really need to see it over and over again ? \\nhow about giving us different scenes offering further insight into all of the strangeness going down in the movie ? \\napparently , the studio took this film away from its director and chopped it up themselves , and it shows . \\nthere might've been a pretty decent teen mind-fuck movie in here somewhere , but i guess \\\" the suits \\\" decided that turning it into a music video with little edge , would make more sense . \\nthe actors are pretty good for the most part , although wes bentley just seemed to be playing the exact same character that he did in american beauty , only in a new neighborhood . \\nbut my biggest kudos go out to sagemiller , who holds her own throughout the entire film , and actually has you feeling her character's unraveling . \\noverall , the film doesn't stick because it doesn't entertain , it's confusing , it rarely excites and it feels pretty redundant for most of its runtime , despite a pretty cool ending and explanation to all of the craziness that came before it . \\noh , and by the way , this is not a horror or teen slasher flick . . . it's \\njust packaged to look that way because someone is apparently assuming that the genre is still hot with the kids . \\nit also wrapped production two years ago and has been sitting on the shelves ever since . \\nwhatever . . . skip \\nit ! \\nwhere's joblo coming from ? \\na nightmare of elm street 3 ( 7/10 ) - blair witch 2 ( 7/10 ) - the crow ( 9/10 ) - the crow : salvation ( 4/10 ) - lost highway ( 10/10 ) - memento ( 10/10 ) - the others ( 9/10 ) - stir of echoes ( 8/10 ) \" "
            ],
            "text/latex": "\\textbf{cv000\\textbackslash{}\\_29416.txt:} 'plot : two teen couples go to a church party , drink and then drive . \\textbackslash{}nthey get into an accident . \\textbackslash{}none of the guys dies , but his girlfriend continues to see him in her life , and has nightmares . \\textbackslash{}nwhat\\textbackslash{}'s the deal ? \\textbackslash{}nwatch the movie and \" sorta \" find out . . . \\textbackslash{}ncritique : a mind-fuck movie for the teen generation that touches on a very cool idea , but presents it in a very bad package . \\textbackslash{}nwhich is what makes this review an even harder one to write , since i generally applaud films which attempt to break the mold , mess with your head and such ( lost highway \\& memento ) , but there are good and bad ways of making all types of films , and these folks just didn\\textbackslash{}'t snag this one correctly . \\textbackslash{}nthey seem to have taken this pretty neat concept , but executed it terribly . \\textbackslash{}nso what are the problems with the movie ? \\textbackslash{}nwell , its main problem is that it\\textbackslash{}'s simply too jumbled . \\textbackslash{}nit starts off \" normal \" but then downshifts into this \" fantasy \" world in which you , as an audience member , have no idea what\\textbackslash{}'s going on . \\textbackslash{}nthere are dreams , there are characters coming back from the dead , there are others who look like the dead , there are strange apparitions , there are disappearances , there are a looooot of chase scenes , there are tons of weird things that happen , and most of it is simply not explained . \\textbackslash{}nnow i personally don\\textbackslash{}'t mind trying to unravel a film every now and then , but when all it does is give me the same clue over and over again , i get kind of fed up after a while , which is this film\\textbackslash{}'s biggest problem . \\textbackslash{}nit\\textbackslash{}'s obviously got this big secret to hide , but it seems to want to hide it completely until its final five minutes . \\textbackslash{}nand do they make things entertaining , thrilling or even engaging , in the meantime ? \\textbackslash{}nnot really . \\textbackslash{}nthe sad part is that the arrow and i both dig on flicks like this , so we actually figured most of it out by the half-way point , so all of the strangeness after that did start to make a little bit of sense , but it still didn\\textbackslash{}'t the make the film all that more entertaining . \\textbackslash{}ni guess the bottom line with movies like this is that you should always make sure that the audience is \" into it \" even before they are given the secret password to enter your world of understanding . \\textbackslash{}ni mean , showing melissa sagemiller running away from visions for about 20 minutes throughout the movie is just plain lazy ! ! \\textbackslash{}nokay , we get it . . . there \\textbackslash{}nare people chasing her and we don\\textbackslash{}'t know who they are . \\textbackslash{}ndo we really need to see it over and over again ? \\textbackslash{}nhow about giving us different scenes offering further insight into all of the strangeness going down in the movie ? \\textbackslash{}napparently , the studio took this film away from its director and chopped it up themselves , and it shows . \\textbackslash{}nthere might\\textbackslash{}'ve been a pretty decent teen mind-fuck movie in here somewhere , but i guess \" the suits \" decided that turning it into a music video with little edge , would make more sense . \\textbackslash{}nthe actors are pretty good for the most part , although wes bentley just seemed to be playing the exact same character that he did in american beauty , only in a new neighborhood . \\textbackslash{}nbut my biggest kudos go out to sagemiller , who holds her own throughout the entire film , and actually has you feeling her character\\textbackslash{}'s unraveling . \\textbackslash{}noverall , the film doesn\\textbackslash{}'t stick because it doesn\\textbackslash{}'t entertain , it\\textbackslash{}'s confusing , it rarely excites and it feels pretty redundant for most of its runtime , despite a pretty cool ending and explanation to all of the craziness that came before it . \\textbackslash{}noh , and by the way , this is not a horror or teen slasher flick . . . it\\textbackslash{}'s \\textbackslash{}njust packaged to look that way because someone is apparently assuming that the genre is still hot with the kids . \\textbackslash{}nit also wrapped production two years ago and has been sitting on the shelves ever since . \\textbackslash{}nwhatever . . . skip \\textbackslash{}nit ! \\textbackslash{}nwhere\\textbackslash{}'s joblo coming from ? \\textbackslash{}na nightmare of elm street 3 ( 7/10 ) - blair witch 2 ( 7/10 ) - the crow ( 9/10 ) - the crow : salvation ( 4/10 ) - lost highway ( 10/10 ) - memento ( 10/10 ) - the others ( 9/10 ) - stir of echoes ( 8/10 ) '",
            "text/markdown": "**cv000_29416.txt:** 'plot : two teen couples go to a church party , drink and then drive . \\nthey get into an accident . \\none of the guys dies , but his girlfriend continues to see him in her life , and has nightmares . \\nwhat\\'s the deal ? \\nwatch the movie and \" sorta \" find out . . . \\ncritique : a mind-fuck movie for the teen generation that touches on a very cool idea , but presents it in a very bad package . \\nwhich is what makes this review an even harder one to write , since i generally applaud films which attempt to break the mold , mess with your head and such ( lost highway &amp; memento ) , but there are good and bad ways of making all types of films , and these folks just didn\\'t snag this one correctly . \\nthey seem to have taken this pretty neat concept , but executed it terribly . \\nso what are the problems with the movie ? \\nwell , its main problem is that it\\'s simply too jumbled . \\nit starts off \" normal \" but then downshifts into this \" fantasy \" world in which you , as an audience member , have no idea what\\'s going on . \\nthere are dreams , there are characters coming back from the dead , there are others who look like the dead , there are strange apparitions , there are disappearances , there are a looooot of chase scenes , there are tons of weird things that happen , and most of it is simply not explained . \\nnow i personally don\\'t mind trying to unravel a film every now and then , but when all it does is give me the same clue over and over again , i get kind of fed up after a while , which is this film\\'s biggest problem . \\nit\\'s obviously got this big secret to hide , but it seems to want to hide it completely until its final five minutes . \\nand do they make things entertaining , thrilling or even engaging , in the meantime ? \\nnot really . \\nthe sad part is that the arrow and i both dig on flicks like this , so we actually figured most of it out by the half-way point , so all of the strangeness after that did start to make a little bit of sense , but it still didn\\'t the make the film all that more entertaining . \\ni guess the bottom line with movies like this is that you should always make sure that the audience is \" into it \" even before they are given the secret password to enter your world of understanding . \\ni mean , showing melissa sagemiller running away from visions for about 20 minutes throughout the movie is just plain lazy ! ! \\nokay , we get it . . . there \\nare people chasing her and we don\\'t know who they are . \\ndo we really need to see it over and over again ? \\nhow about giving us different scenes offering further insight into all of the strangeness going down in the movie ? \\napparently , the studio took this film away from its director and chopped it up themselves , and it shows . \\nthere might\\'ve been a pretty decent teen mind-fuck movie in here somewhere , but i guess \" the suits \" decided that turning it into a music video with little edge , would make more sense . \\nthe actors are pretty good for the most part , although wes bentley just seemed to be playing the exact same character that he did in american beauty , only in a new neighborhood . \\nbut my biggest kudos go out to sagemiller , who holds her own throughout the entire film , and actually has you feeling her character\\'s unraveling . \\noverall , the film doesn\\'t stick because it doesn\\'t entertain , it\\'s confusing , it rarely excites and it feels pretty redundant for most of its runtime , despite a pretty cool ending and explanation to all of the craziness that came before it . \\noh , and by the way , this is not a horror or teen slasher flick . . . it\\'s \\njust packaged to look that way because someone is apparently assuming that the genre is still hot with the kids . \\nit also wrapped production two years ago and has been sitting on the shelves ever since . \\nwhatever . . . skip \\nit ! \\nwhere\\'s joblo coming from ? \\na nightmare of elm street 3 ( 7/10 ) - blair witch 2 ( 7/10 ) - the crow ( 9/10 ) - the crow : salvation ( 4/10 ) - lost highway ( 10/10 ) - memento ( 10/10 ) - the others ( 9/10 ) - stir of echoes ( 8/10 ) '",
            "text/html": [
              "<strong>cv000_29416.txt:</strong> 'plot : two teen couples go to a church party , drink and then drive . \\nthey get into an accident . \\none of the guys dies , but his girlfriend continues to see him in her life , and has nightmares . \\nwhat\\'s the deal ? \\nwatch the movie and \" sorta \" find out . . . \\ncritique : a mind-fuck movie for the teen generation that touches on a very cool idea , but presents it in a very bad package . \\nwhich is what makes this review an even harder one to write , since i generally applaud films which attempt to break the mold , mess with your head and such ( lost highway &amp; memento ) , but there are good and bad ways of making all types of films , and these folks just didn\\'t snag this one correctly . \\nthey seem to have taken this pretty neat concept , but executed it terribly . \\nso what are the problems with the movie ? \\nwell , its main problem is that it\\'s simply too jumbled . \\nit starts off \" normal \" but then downshifts into this \" fantasy \" world in which you , as an audience member , have no idea what\\'s going on . \\nthere are dreams , there are characters coming back from the dead , there are others who look like the dead , there are strange apparitions , there are disappearances , there are a looooot of chase scenes , there are tons of weird things that happen , and most of it is simply not explained . \\nnow i personally don\\'t mind trying to unravel a film every now and then , but when all it does is give me the same clue over and over again , i get kind of fed up after a while , which is this film\\'s biggest problem . \\nit\\'s obviously got this big secret to hide , but it seems to want to hide it completely until its final five minutes . \\nand do they make things entertaining , thrilling or even engaging , in the meantime ? \\nnot really . \\nthe sad part is that the arrow and i both dig on flicks like this , so we actually figured most of it out by the half-way point , so all of the strangeness after that did start to make a little bit of sense , but it still didn\\'t the make the film all that more entertaining . \\ni guess the bottom line with movies like this is that you should always make sure that the audience is \" into it \" even before they are given the secret password to enter your world of understanding . \\ni mean , showing melissa sagemiller running away from visions for about 20 minutes throughout the movie is just plain lazy ! ! \\nokay , we get it . . . there \\nare people chasing her and we don\\'t know who they are . \\ndo we really need to see it over and over again ? \\nhow about giving us different scenes offering further insight into all of the strangeness going down in the movie ? \\napparently , the studio took this film away from its director and chopped it up themselves , and it shows . \\nthere might\\'ve been a pretty decent teen mind-fuck movie in here somewhere , but i guess \" the suits \" decided that turning it into a music video with little edge , would make more sense . \\nthe actors are pretty good for the most part , although wes bentley just seemed to be playing the exact same character that he did in american beauty , only in a new neighborhood . \\nbut my biggest kudos go out to sagemiller , who holds her own throughout the entire film , and actually has you feeling her character\\'s unraveling . \\noverall , the film doesn\\'t stick because it doesn\\'t entertain , it\\'s confusing , it rarely excites and it feels pretty redundant for most of its runtime , despite a pretty cool ending and explanation to all of the craziness that came before it . \\noh , and by the way , this is not a horror or teen slasher flick . . . it\\'s \\njust packaged to look that way because someone is apparently assuming that the genre is still hot with the kids . \\nit also wrapped production two years ago and has been sitting on the shelves ever since . \\nwhatever . . . skip \\nit ! \\nwhere\\'s joblo coming from ? \\na nightmare of elm street 3 ( 7/10 ) - blair witch 2 ( 7/10 ) - the crow ( 9/10 ) - the crow : salvation ( 4/10 ) - lost highway ( 10/10 ) - memento ( 10/10 ) - the others ( 9/10 ) - stir of echoes ( 8/10 ) '"
            ]
          },
          "metadata": {}
        }
      ]
    },
    {
      "cell_type": "markdown",
      "metadata": {
        "id": "veEsImhyKaf7"
      },
      "source": [
        "The most basic NLP task is *tokenizing*. You can apply a tokenizer in Quanteda with the `tokens` command, turning a \"corpus\" object -- or just a vector of texts -- into a \"tokens\" object. In the latest version of Quanteda, most commands operate on a tokens object.\n",
        "\n",
        "The examples from the help file show a few of the options:"
      ]
    },
    {
      "cell_type": "code",
      "metadata": {
        "colab": {
          "base_uri": "https://localhost:8080/",
          "height": 272
        },
        "id": "_WUvQR8oKgP_",
        "outputId": "1064e5a9-f798-406e-a6bf-23e135fbf6c1"
      },
      "source": [
        "txt <- c(doc1 = \"A sentence, showing how tokens() works.\",\n",
        "         doc2 = \"@quantedainit and #textanalysis https://example.com?p=123.\",\n",
        "         doc3 = \"Self-documenting code??\",\n",
        "         doc4 = \"£1,000,000 for 50¢ is gr8 4ever \\U0001f600\")\n",
        "tokens(txt)"
      ],
      "execution_count": null,
      "outputs": [
        {
          "output_type": "display_data",
          "data": {
            "text/plain": [
              "Tokens consisting of 4 documents.\n",
              "doc1 :\n",
              " [1] \"A\"        \"sentence\" \",\"        \"showing\"  \"how\"      \"tokens\"  \n",
              " [7] \"(\"        \")\"        \"works\"    \".\"       \n",
              "\n",
              "doc2 :\n",
              "[1] \"@quantedainit\"              \"and\"                       \n",
              "[3] \"#textanalysis\"              \"https://example.com?p=123.\"\n",
              "\n",
              "doc3 :\n",
              "[1] \"Self-documenting\" \"code\"             \"?\"                \"?\"               \n",
              "\n",
              "doc4 :\n",
              "[1] \"£\"         \"1,000,000\" \"for\"       \"50\"        \"¢\"         \"is\"       \n",
              "[7] \"gr8\"       \"4ever\"     \"😀\"       \n"
            ]
          },
          "metadata": {}
        }
      ]
    },
    {
      "cell_type": "markdown",
      "metadata": {
        "id": "Qv1cwskLKlnW"
      },
      "source": [
        "The `what` option selects different tokenizers. The default is `word` which replaces a slower and less subtle `word1` legacy version."
      ]
    },
    {
      "cell_type": "code",
      "metadata": {
        "colab": {
          "base_uri": "https://localhost:8080/",
          "height": 306
        },
        "id": "aAGy-zu_Kpbi",
        "outputId": "ec3f88dd-7446-4846-b2cf-b4b1c0bd85a8"
      },
      "source": [
        "tokens(txt, what = \"word1\")"
      ],
      "execution_count": null,
      "outputs": [
        {
          "output_type": "display_data",
          "data": {
            "text/plain": [
              "Tokens consisting of 4 documents.\n",
              "doc1 :\n",
              " [1] \"A\"        \"sentence\" \",\"        \"showing\"  \"how\"      \"tokens\"  \n",
              " [7] \"(\"        \")\"        \"works\"    \".\"       \n",
              "\n",
              "doc2 :\n",
              " [1] \"@\"            \"quantedainit\" \"and\"          \"#\"            \"textanalysis\"\n",
              " [6] \"https\"        \":\"            \"/\"            \"/\"            \"example.com\" \n",
              "[11] \"?\"            \"p\"           \n",
              "[ ... and 3 more ]\n",
              "\n",
              "doc3 :\n",
              "[1] \"Self-documenting\" \"code\"             \"?\"                \"?\"               \n",
              "\n",
              "doc4 :\n",
              "[1] \"£\"         \"1,000,000\" \"for\"       \"50\"        \"¢\"         \"is\"       \n",
              "[7] \"gr8\"       \"4ever\"     \"😀\"       \n"
            ]
          },
          "metadata": {}
        }
      ]
    },
    {
      "cell_type": "markdown",
      "metadata": {
        "id": "8ZMvGHBAKuaA"
      },
      "source": [
        "For some purposes you may wish to tokenize by characters:\n"
      ]
    },
    {
      "cell_type": "code",
      "metadata": {
        "colab": {
          "base_uri": "https://localhost:8080/",
          "height": 85
        },
        "id": "dAKAannTKyYy",
        "outputId": "7caaba8d-4bef-4529-8b9b-92093a01e924"
      },
      "source": [
        "tokens(txt[1], what = \"character\")"
      ],
      "execution_count": null,
      "outputs": [
        {
          "output_type": "display_data",
          "data": {
            "text/plain": [
              "Tokens consisting of 1 document.\n",
              "doc1 :\n",
              " [1] \"A\" \"s\" \"e\" \"n\" \"t\" \"e\" \"n\" \"c\" \"e\" \",\" \"s\" \"h\"\n",
              "[ ... and 22 more ]\n"
            ]
          },
          "metadata": {}
        }
      ]
    },
    {
      "cell_type": "markdown",
      "metadata": {
        "id": "EtevwGpjK24G"
      },
      "source": [
        "You can \"tokenize\" (the usual term is \"segment\") by sentence in Quanteda, but note that they do not recommend using their sentence segmentation tool. Note that there are some stumbles here, partly because the movie corpus has already been \"case-folded\" to lower-case and partly because it is not written with conventional sentence structure (lots of \"...\" connectors):"
      ]
    },
    {
      "cell_type": "code",
      "metadata": {
        "colab": {
          "base_uri": "https://localhost:8080/",
          "height": 224
        },
        "id": "GISkUhkuK69B",
        "outputId": "156b477f-2a67-4a38-ceb6-1049557d37af"
      },
      "source": [
        "tokens(movie_corpus[1], what = \"sentence\")"
      ],
      "execution_count": null,
      "outputs": [
        {
          "output_type": "display_data",
          "data": {
            "text/plain": [
              "Tokens consisting of 1 document and 3 docvars.\n",
              "cv000_29416.txt :\n",
              "[1] \"plot : two teen couples go to a church party , drink and then drive .  they get into an accident .  one of the guys dies , but his girlfriend continues to see him in her life , and has nightmares .  what's the deal ?\"                                                                                                                                                                                                                                                                                                                                                                                                                                                                                                                                                                                                                                                                                                                                                                                                                                                                                                                                                                                                            \n",
              "[2] \"watch the movie and \\\" sorta \\\" find out . . .  critique : a mind-fuck movie for the teen generation that touches on a very cool idea , but presents it in a very bad package .  which is what makes this review an even harder one to write , since i generally applaud films which attempt to break the mold , mess with your head and such ( lost highway & memento ) , but there are good and bad ways of making all types of films , and these folks just didn't snag this one correctly .  they seem to have taken this pretty neat concept , but executed it terribly .  so what are the problems with the movie ?\"                                                                                                                                                                                                                                                                                                                                                                                                                                                                                                                                                                                                           \n",
              "[3] \"well , its main problem is that it's simply too jumbled .  it starts off \\\" normal \\\" but then downshifts into this \\\" fantasy \\\" world in which you , as an audience member , have no idea what's going on .  there are dreams , there are characters coming back from the dead , there are others who look like the dead , there are strange apparitions , there are disappearances , there are a looooot of chase scenes , there are tons of weird things that happen , and most of it is simply not explained .  now i personally don't mind trying to unravel a film every now and then , but when all it does is give me the same clue over and over again , i get kind of fed up after a while , which is this film's biggest problem .  it's obviously got this big secret to hide , but it seems to want to hide it completely until its final five minutes .  and do they make things entertaining , thrilling or even engaging , in the meantime ?\"                                                                                                                                                                                                                                                                       \n",
              "[4] \"not really .  the sad part is that the arrow and i both dig on flicks like this , so we actually figured most of it out by the half-way point , so all of the strangeness after that did start to make a little bit of sense , but it still didn't the make the film all that more entertaining .  i guess the bottom line with movies like this is that you should always make sure that the audience is \\\" into it \\\" even before they are given the secret password to enter your world of understanding .  i mean , showing melissa sagemiller running away from visions for about 20 minutes throughout the movie is just plain lazy ! !\"                                                                                                                                                                                                                                                                                                                                                                                                                                                                                                                                                                                       \n",
              "[5] \"okay , we get it . . . there  are people chasing her and we don't know who they are .  do we really need to see it over and over again ?\"                                                                                                                                                                                                                                                                                                                                                                                                                                                                                                                                                                                                                                                                                                                                                                                                                                                                                                                                                                                                                                                                                            \n",
              "[6] \"how about giving us different scenes offering further insight into all of the strangeness going down in the movie ?\"                                                                                                                                                                                                                                                                                                                                                                                                                                                                                                                                                                                                                                                                                                                                                                                                                                                                                                                                                                                                                                                                                                                 \n",
              "[7] \"apparently , the studio took this film away from its director and chopped it up themselves , and it shows .  there might've been a pretty decent teen mind-fuck movie in here somewhere , but i guess \\\" the suits \\\" decided that turning it into a music video with little edge , would make more sense .  the actors are pretty good for the most part , although wes bentley just seemed to be playing the exact same character that he did in american beauty , only in a new neighborhood .  but my biggest kudos go out to sagemiller , who holds her own throughout the entire film , and actually has you feeling her character's unraveling .  overall , the film doesn't stick because it doesn't entertain , it's confusing , it rarely excites and it feels pretty redundant for most of its runtime , despite a pretty cool ending and explanation to all of the craziness that came before it .  oh , and by the way , this is not a horror or teen slasher flick . . . it's  just packaged to look that way because someone is apparently assuming that the genre is still hot with the kids .  it also wrapped production two years ago and has been sitting on the shelves ever since .  whatever . . . skip  it !\"\n",
              "[8] \"where's joblo coming from ?\"                                                                                                                                                                                                                                                                                                                                                                                                                                                                                                                                                                                                                                                                                                                                                                                                                                                                                                                                                                                                                                                                                                                                                                                                         \n",
              "[9] \"a nightmare of elm street 3 ( 7/10 ) - blair witch 2 ( 7/10 ) - the crow ( 9/10 ) - the crow : salvation ( 4/10 ) - lost highway ( 10/10 ) - memento ( 10/10 ) - the others ( 9/10 ) - stir of echoes ( 8/10 )\"                                                                                                                                                                                                                                                                                                                                                                                                                                                                                                                                                                                                                                                                                                                                                                                                                                                                                                                                                                                                                      \n"
            ]
          },
          "metadata": {}
        }
      ]
    },
    {
      "cell_type": "markdown",
      "metadata": {
        "id": "8SWWPpt2LDyw"
      },
      "source": [
        "There are a number of options you can apply with the `tokens` command, controlling how the tokenizer deals with punctuation, numbers, symbols, hyphenization, etc.:\n"
      ]
    },
    {
      "cell_type": "code",
      "metadata": {
        "colab": {
          "base_uri": "https://localhost:8080/",
          "height": 425
        },
        "id": "TjiuXiGtLEzc",
        "outputId": "9c907171-423a-4678-e9ff-6a6cc9357f59"
      },
      "source": [
        "# removing punctuation marks but keeping tags and URLs\n",
        "tokens(txt[1:2], remove_punct = TRUE)\n",
        "\n",
        "# splitting hyphenated words\n",
        "tokens(txt[3])\n",
        "tokens(txt[3], split_hyphens = TRUE)\n",
        "\n",
        "# symbols and numbers\n",
        "tokens(txt[4])\n",
        "tokens(txt[4], remove_numbers = TRUE)\n",
        "tokens(txt[4], remove_numbers = TRUE, remove_symbols = TRUE)"
      ],
      "execution_count": null,
      "outputs": [
        {
          "output_type": "display_data",
          "data": {
            "text/plain": [
              "Tokens consisting of 2 documents.\n",
              "doc1 :\n",
              "[1] \"A\"        \"sentence\" \"showing\"  \"how\"      \"tokens\"   \"works\"   \n",
              "\n",
              "doc2 :\n",
              "[1] \"@quantedainit\"              \"and\"                       \n",
              "[3] \"#textanalysis\"              \"https://example.com?p=123.\"\n"
            ]
          },
          "metadata": {}
        },
        {
          "output_type": "display_data",
          "data": {
            "text/plain": [
              "Tokens consisting of 1 document.\n",
              "doc3 :\n",
              "[1] \"Self-documenting\" \"code\"             \"?\"                \"?\"               \n"
            ]
          },
          "metadata": {}
        },
        {
          "output_type": "display_data",
          "data": {
            "text/plain": [
              "Tokens consisting of 1 document.\n",
              "doc3 :\n",
              "[1] \"Self\"        \"-\"           \"documenting\" \"code\"        \"?\"          \n",
              "[6] \"?\"          \n"
            ]
          },
          "metadata": {}
        },
        {
          "output_type": "display_data",
          "data": {
            "text/plain": [
              "Tokens consisting of 1 document.\n",
              "doc4 :\n",
              "[1] \"£\"         \"1,000,000\" \"for\"       \"50\"        \"¢\"         \"is\"       \n",
              "[7] \"gr8\"       \"4ever\"     \"😀\"       \n"
            ]
          },
          "metadata": {}
        },
        {
          "output_type": "display_data",
          "data": {
            "text/plain": [
              "Tokens consisting of 1 document.\n",
              "doc4 :\n",
              "[1] \"£\"     \"for\"   \"¢\"     \"is\"    \"gr8\"   \"4ever\" \"😀\"   \n"
            ]
          },
          "metadata": {}
        },
        {
          "output_type": "display_data",
          "data": {
            "text/plain": [
              "Tokens consisting of 1 document.\n",
              "doc4 :\n",
              "[1] \"for\"   \"is\"    \"gr8\"   \"4ever\"\n"
            ]
          },
          "metadata": {}
        }
      ]
    },
    {
      "cell_type": "markdown",
      "metadata": {
        "id": "53Qx4lLsLQB6"
      },
      "source": [
        "You can use other tokenizers, like those from the \"tokenizers\" package:"
      ]
    },
    {
      "cell_type": "code",
      "metadata": {
        "colab": {
          "base_uri": "https://localhost:8080/",
          "height": 476
        },
        "id": "agqiMpilLT_n",
        "outputId": "8f0a1732-15ab-4316-973a-093755bc296a"
      },
      "source": [
        "library(tokenizers)\n",
        "tokens(tokenizers::tokenize_words(txt[4]), remove_symbols = TRUE)\n",
        "\n",
        "tokenizers::tokenize_words(txt, lowercase = FALSE, strip_punct = FALSE) %>%\n",
        "  tokens(remove_symbols = TRUE)\n",
        "\n",
        "tokenizers::tokenize_characters(txt[3], strip_non_alphanum = FALSE) %>%\n",
        "    tokens(remove_punct = TRUE)\n",
        "\n",
        "tokenizers::tokenize_sentences(\n",
        "    \"The quick brown fox.  It jumped over the lazy dog.\") %>%\n",
        "    tokens()"
      ],
      "execution_count": null,
      "outputs": [
        {
          "output_type": "display_data",
          "data": {
            "text/plain": [
              "Tokens consisting of 1 document.\n",
              "doc4 :\n",
              "[1] \"1,000,000\" \"for\"       \"50\"        \"is\"        \"gr8\"       \"4ever\"    \n"
            ]
          },
          "metadata": {}
        },
        {
          "output_type": "display_data",
          "data": {
            "text/plain": [
              "Tokens consisting of 4 documents.\n",
              "doc1 :\n",
              " [1] \"A\"        \"sentence\" \",\"        \"showing\"  \"how\"      \"tokens\"  \n",
              " [7] \"(\"        \")\"        \"works\"    \".\"       \n",
              "\n",
              "doc2 :\n",
              " [1] \"@\"            \"quantedainit\" \"and\"          \"#\"            \"textanalysis\"\n",
              " [6] \"https\"        \":\"            \"/\"            \"/\"            \"example.com\" \n",
              "[11] \"?\"            \"p\"           \n",
              "[ ... and 2 more ]\n",
              "\n",
              "doc3 :\n",
              "[1] \"Self\"        \"-\"           \"documenting\" \"code\"        \"?\"          \n",
              "[6] \"?\"          \n",
              "\n",
              "doc4 :\n",
              "[1] \"1,000,000\" \"for\"       \"50\"        \"is\"        \"gr8\"       \"4ever\"    \n"
            ]
          },
          "metadata": {}
        },
        {
          "output_type": "display_data",
          "data": {
            "text/plain": [
              "Tokens consisting of 1 document.\n",
              "doc3 :\n",
              " [1] \"s\" \"e\" \"l\" \"f\" \"d\" \"o\" \"c\" \"u\" \"m\" \"e\" \"n\" \"t\"\n",
              "[ ... and 7 more ]\n"
            ]
          },
          "metadata": {}
        },
        {
          "output_type": "display_data",
          "data": {
            "text/plain": [
              "Tokens consisting of 1 document.\n",
              "text1 :\n",
              "[1] \"The quick brown fox.\"         \"It jumped over the lazy dog.\"\n"
            ]
          },
          "metadata": {}
        }
      ]
    },
    {
      "cell_type": "markdown",
      "metadata": {
        "id": "eL4uew3lLc_f"
      },
      "source": [
        "Let's make a fairly generic tokens object from our movies corpus.\n"
      ]
    },
    {
      "cell_type": "code",
      "metadata": {
        "id": "ITyINSW9LeAm"
      },
      "source": [
        "movie_tokens <- quanteda::tokens(movie_corpus,\n",
        "                       what = \"word\",\n",
        "                       remove_punct = TRUE, # default FALSE\n",
        "                       remove_symbols = TRUE, # default FALSE\n",
        "                       remove_numbers = FALSE,\n",
        "                       remove_url = TRUE, # default FALSE\n",
        "                       remove_separators = TRUE,\n",
        "                       split_hyphens = FALSE,\n",
        "                       include_docvars = TRUE,\n",
        "                       padding = FALSE,\n",
        "                       verbose = quanteda_options(\"verbose\")\n",
        "                       )"
      ],
      "execution_count": null,
      "outputs": []
    },
    {
      "cell_type": "markdown",
      "metadata": {
        "id": "jzXPuz8kLnA6"
      },
      "source": [
        "This provides access to a variety of quanteda utilities. For example, the Key Words in Context utility:"
      ]
    },
    {
      "cell_type": "code",
      "metadata": {
        "colab": {
          "base_uri": "https://localhost:8080/",
          "height": 159
        },
        "id": "ersZ1jwcLoKk",
        "outputId": "bf6b4295-84a7-464c-b39c-811062645987"
      },
      "source": [
        "quanteda::kwic(movie_tokens,\"leprechaun\",window=5)"
      ],
      "execution_count": null,
      "outputs": [
        {
          "output_type": "display_data",
          "data": {
            "text/plain": [
              "  docname         from to  pre                          keyword   \n",
              "1 cv516_12117.txt 362  362 meyer and septien also wrote leprechaun\n",
              "2 cv643_29282.txt 361  361 a guy that starred in        leprechaun\n",
              "  post                          pattern   \n",
              "1 2 together pulled a plot      leprechaun\n",
              "2 3 chock-full of phony emotion leprechaun"
            ],
            "text/latex": "A kwic: 2 × 7\n\\begin{tabular}{lllllll}\n docname & from & to & pre & keyword & post & pattern\\\\\n <chr> & <int> & <int> & <chr> & <chr> & <chr> & <fct>\\\\\n\\hline\n\t cv516\\_12117.txt & 362 & 362 & meyer and septien also wrote & leprechaun & 2 together pulled a plot      & leprechaun\\\\\n\t cv643\\_29282.txt & 361 & 361 & a guy that starred in        & leprechaun & 3 chock-full of phony emotion & leprechaun\\\\\n\\end{tabular}\n",
            "text/markdown": "\nA kwic: 2 × 7\n\n| docname &lt;chr&gt; | from &lt;int&gt; | to &lt;int&gt; | pre &lt;chr&gt; | keyword &lt;chr&gt; | post &lt;chr&gt; | pattern &lt;fct&gt; |\n|---|---|---|---|---|---|---|\n| cv516_12117.txt | 362 | 362 | meyer and septien also wrote | leprechaun | 2 together pulled a plot      | leprechaun |\n| cv643_29282.txt | 361 | 361 | a guy that starred in        | leprechaun | 3 chock-full of phony emotion | leprechaun |\n\n",
            "text/html": [
              "<table class=\"dataframe\">\n",
              "<caption>A kwic: 2 × 7</caption>\n",
              "<thead>\n",
              "\t<tr><th scope=col>docname</th><th scope=col>from</th><th scope=col>to</th><th scope=col>pre</th><th scope=col>keyword</th><th scope=col>post</th><th scope=col>pattern</th></tr>\n",
              "\t<tr><th scope=col>&lt;chr&gt;</th><th scope=col>&lt;int&gt;</th><th scope=col>&lt;int&gt;</th><th scope=col>&lt;chr&gt;</th><th scope=col>&lt;chr&gt;</th><th scope=col>&lt;chr&gt;</th><th scope=col>&lt;fct&gt;</th></tr>\n",
              "</thead>\n",
              "<tbody>\n",
              "\t<tr><td>cv516_12117.txt</td><td>362</td><td>362</td><td>meyer and septien also wrote</td><td>leprechaun</td><td>2 together pulled a plot     </td><td>leprechaun</td></tr>\n",
              "\t<tr><td>cv643_29282.txt</td><td>361</td><td>361</td><td>a guy that starred in       </td><td>leprechaun</td><td>3 chock-full of phony emotion</td><td>leprechaun</td></tr>\n",
              "</tbody>\n",
              "</table>\n"
            ]
          },
          "metadata": {}
        }
      ]
    },
    {
      "cell_type": "markdown",
      "metadata": {
        "id": "pxVw13tKLtlo"
      },
      "source": [
        "Stemming is the truncation of words in an effort to associate related words with a common token, e.g., \"baby\" and \"babies\" -> \"babi\". \n",
        "\n",
        "The tokenizers package provides a wrapper to the `wordStem` function from the SnowballC package, which applies a standard stemmer called the Porter stemmer. (The function takes as input a vector of texts or corpus, and returns a list, each element a vector of the stems for the corresponding text.)"
      ]
    },
    {
      "cell_type": "code",
      "metadata": {
        "colab": {
          "base_uri": "https://localhost:8080/",
          "height": 790
        },
        "id": "nkMNbJL0LyEu",
        "outputId": "c2a9ab54-ac90-45b5-8ed1-2ffdeff86f44"
      },
      "source": [
        "#Example from the help file (one \"text\")\n",
        "song <-  paste0(\"How many roads must a man walk down\\n\",\n",
        "                \"Before you call him a man?\\n\",\n",
        "                \"How many seas must a white dove sail\\n\",\n",
        "                \"Before she sleeps in the sand?\\n\",\n",
        "                \"\\n\",\n",
        "                \"How many times must the cannonballs fly\\n\",\n",
        "                \"Before they're forever banned?\\n\",\n",
        "                \"The answer, my friend, is blowin' in the wind.\\n\",\n",
        "                \"The answer is blowin' in the wind.\\n\")\n",
        "tokenizers::tokenize_word_stems(song)\n",
        "\n",
        "#Example applied to (a subset of) a corpus\n",
        "tokenizers::tokenize_word_stems(movie_corpus[1:2])"
      ],
      "execution_count": null,
      "outputs": [
        {
          "output_type": "display_data",
          "data": {
            "text/plain": [
              "[[1]]\n",
              " [1] \"how\"       \"mani\"      \"road\"      \"must\"      \"a\"         \"man\"      \n",
              " [7] \"walk\"      \"down\"      \"befor\"     \"you\"       \"call\"      \"him\"      \n",
              "[13] \"a\"         \"man\"       \"how\"       \"mani\"      \"sea\"       \"must\"     \n",
              "[19] \"a\"         \"white\"     \"dove\"      \"sail\"      \"befor\"     \"she\"      \n",
              "[25] \"sleep\"     \"in\"        \"the\"       \"sand\"      \"how\"       \"mani\"     \n",
              "[31] \"time\"      \"must\"      \"the\"       \"cannonbal\" \"fli\"       \"befor\"    \n",
              "[37] \"they'r\"    \"forev\"     \"ban\"       \"the\"       \"answer\"    \"my\"       \n",
              "[43] \"friend\"    \"is\"        \"blowin\"    \"in\"        \"the\"       \"wind\"     \n",
              "[49] \"the\"       \"answer\"    \"is\"        \"blowin\"    \"in\"        \"the\"      \n",
              "[55] \"wind\"     \n"
            ],
            "text/latex": "\\begin{enumerate}\n\\item \\begin{enumerate*}\n\\item 'how'\n\\item 'mani'\n\\item 'road'\n\\item 'must'\n\\item 'a'\n\\item 'man'\n\\item 'walk'\n\\item 'down'\n\\item 'befor'\n\\item 'you'\n\\item 'call'\n\\item 'him'\n\\item 'a'\n\\item 'man'\n\\item 'how'\n\\item 'mani'\n\\item 'sea'\n\\item 'must'\n\\item 'a'\n\\item 'white'\n\\item 'dove'\n\\item 'sail'\n\\item 'befor'\n\\item 'she'\n\\item 'sleep'\n\\item 'in'\n\\item 'the'\n\\item 'sand'\n\\item 'how'\n\\item 'mani'\n\\item 'time'\n\\item 'must'\n\\item 'the'\n\\item 'cannonbal'\n\\item 'fli'\n\\item 'befor'\n\\item 'they\\textbackslash{}'r'\n\\item 'forev'\n\\item 'ban'\n\\item 'the'\n\\item 'answer'\n\\item 'my'\n\\item 'friend'\n\\item 'is'\n\\item 'blowin'\n\\item 'in'\n\\item 'the'\n\\item 'wind'\n\\item 'the'\n\\item 'answer'\n\\item 'is'\n\\item 'blowin'\n\\item 'in'\n\\item 'the'\n\\item 'wind'\n\\end{enumerate*}\n\n\\end{enumerate}\n",
            "text/markdown": "1. 1. 'how'\n2. 'mani'\n3. 'road'\n4. 'must'\n5. 'a'\n6. 'man'\n7. 'walk'\n8. 'down'\n9. 'befor'\n10. 'you'\n11. 'call'\n12. 'him'\n13. 'a'\n14. 'man'\n15. 'how'\n16. 'mani'\n17. 'sea'\n18. 'must'\n19. 'a'\n20. 'white'\n21. 'dove'\n22. 'sail'\n23. 'befor'\n24. 'she'\n25. 'sleep'\n26. 'in'\n27. 'the'\n28. 'sand'\n29. 'how'\n30. 'mani'\n31. 'time'\n32. 'must'\n33. 'the'\n34. 'cannonbal'\n35. 'fli'\n36. 'befor'\n37. 'they\\'r'\n38. 'forev'\n39. 'ban'\n40. 'the'\n41. 'answer'\n42. 'my'\n43. 'friend'\n44. 'is'\n45. 'blowin'\n46. 'in'\n47. 'the'\n48. 'wind'\n49. 'the'\n50. 'answer'\n51. 'is'\n52. 'blowin'\n53. 'in'\n54. 'the'\n55. 'wind'\n\n\n\n\n\n",
            "text/html": [
              "<ol>\n",
              "\t<li><style>\n",
              ".list-inline {list-style: none; margin:0; padding: 0}\n",
              ".list-inline>li {display: inline-block}\n",
              ".list-inline>li:not(:last-child)::after {content: \"\\00b7\"; padding: 0 .5ex}\n",
              "</style>\n",
              "<ol class=list-inline><li>'how'</li><li>'mani'</li><li>'road'</li><li>'must'</li><li>'a'</li><li>'man'</li><li>'walk'</li><li>'down'</li><li>'befor'</li><li>'you'</li><li>'call'</li><li>'him'</li><li>'a'</li><li>'man'</li><li>'how'</li><li>'mani'</li><li>'sea'</li><li>'must'</li><li>'a'</li><li>'white'</li><li>'dove'</li><li>'sail'</li><li>'befor'</li><li>'she'</li><li>'sleep'</li><li>'in'</li><li>'the'</li><li>'sand'</li><li>'how'</li><li>'mani'</li><li>'time'</li><li>'must'</li><li>'the'</li><li>'cannonbal'</li><li>'fli'</li><li>'befor'</li><li>'they\\'r'</li><li>'forev'</li><li>'ban'</li><li>'the'</li><li>'answer'</li><li>'my'</li><li>'friend'</li><li>'is'</li><li>'blowin'</li><li>'in'</li><li>'the'</li><li>'wind'</li><li>'the'</li><li>'answer'</li><li>'is'</li><li>'blowin'</li><li>'in'</li><li>'the'</li><li>'wind'</li></ol>\n",
              "</li>\n",
              "</ol>\n"
            ]
          },
          "metadata": {}
        },
        {
          "output_type": "display_data",
          "data": {
            "text/plain": [
              "$cv000_29416.txt\n",
              "  [1] \"plot\"         \"two\"          \"teen\"         \"coupl\"        \"go\"          \n",
              "  [6] \"to\"           \"a\"            \"church\"       \"parti\"        \"drink\"       \n",
              " [11] \"and\"          \"then\"         \"drive\"        \"they\"         \"get\"         \n",
              " [16] \"into\"         \"an\"           \"accid\"        \"one\"          \"of\"          \n",
              " [21] \"the\"          \"guy\"          \"die\"          \"but\"          \"his\"         \n",
              " [26] \"girlfriend\"   \"continu\"      \"to\"           \"see\"          \"him\"         \n",
              " [31] \"in\"           \"her\"          \"life\"         \"and\"          \"has\"         \n",
              " [36] \"nightmar\"     \"what\"         \"the\"          \"deal\"         \"watch\"       \n",
              " [41] \"the\"          \"movi\"         \"and\"          \"sorta\"        \"find\"        \n",
              " [46] \"out\"          \"critiqu\"      \"a\"            \"mind\"         \"fuck\"        \n",
              " [51] \"movi\"         \"for\"          \"the\"          \"teen\"         \"generat\"     \n",
              " [56] \"that\"         \"touch\"        \"on\"           \"a\"            \"veri\"        \n",
              " [61] \"cool\"         \"idea\"         \"but\"          \"present\"      \"it\"          \n",
              " [66] \"in\"           \"a\"            \"veri\"         \"bad\"          \"packag\"      \n",
              " [71] \"which\"        \"is\"           \"what\"         \"make\"         \"this\"        \n",
              " [76] \"review\"       \"an\"           \"even\"         \"harder\"       \"one\"         \n",
              " [81] \"to\"           \"write\"        \"sinc\"         \"i\"            \"general\"     \n",
              " [86] \"applaud\"      \"film\"         \"which\"        \"attempt\"      \"to\"          \n",
              " [91] \"break\"        \"the\"          \"mold\"         \"mess\"         \"with\"        \n",
              " [96] \"your\"         \"head\"         \"and\"          \"such\"         \"lost\"        \n",
              "[101] \"highway\"      \"memento\"      \"but\"          \"there\"        \"are\"         \n",
              "[106] \"good\"         \"and\"          \"bad\"          \"way\"          \"of\"          \n",
              "[111] \"make\"         \"all\"          \"type\"         \"of\"           \"film\"        \n",
              "[116] \"and\"          \"these\"        \"folk\"         \"just\"         \"didn't\"      \n",
              "[121] \"snag\"         \"this\"         \"one\"          \"correct\"      \"they\"        \n",
              "[126] \"seem\"         \"to\"           \"have\"         \"taken\"        \"this\"        \n",
              "[131] \"pretti\"       \"neat\"         \"concept\"      \"but\"          \"execut\"      \n",
              "[136] \"it\"           \"terribl\"      \"so\"           \"what\"         \"are\"         \n",
              "[141] \"the\"          \"problem\"      \"with\"         \"the\"          \"movi\"        \n",
              "[146] \"well\"         \"it\"           \"main\"         \"problem\"      \"is\"          \n",
              "[151] \"that\"         \"it\"           \"simpli\"       \"too\"          \"jumbl\"       \n",
              "[156] \"it\"           \"start\"        \"off\"          \"normal\"       \"but\"         \n",
              "[161] \"then\"         \"downshift\"    \"into\"         \"this\"         \"fantasi\"     \n",
              "[166] \"world\"        \"in\"           \"which\"        \"you\"          \"as\"          \n",
              "[171] \"an\"           \"audienc\"      \"member\"       \"have\"         \"no\"          \n",
              "[176] \"idea\"         \"what\"         \"go\"           \"on\"           \"there\"       \n",
              "[181] \"are\"          \"dream\"        \"there\"        \"are\"          \"charact\"     \n",
              "[186] \"come\"         \"back\"         \"from\"         \"the\"          \"dead\"        \n",
              "[191] \"there\"        \"are\"          \"other\"        \"who\"          \"look\"        \n",
              "[196] \"like\"         \"the\"          \"dead\"         \"there\"        \"are\"         \n",
              "[201] \"strang\"       \"apparit\"      \"there\"        \"are\"          \"disappear\"   \n",
              "[206] \"there\"        \"are\"          \"a\"            \"looooot\"      \"of\"          \n",
              "[211] \"chase\"        \"scene\"        \"there\"        \"are\"          \"ton\"         \n",
              "[216] \"of\"           \"weird\"        \"thing\"        \"that\"         \"happen\"      \n",
              "[221] \"and\"          \"most\"         \"of\"           \"it\"           \"is\"          \n",
              "[226] \"simpli\"       \"not\"          \"explain\"      \"now\"          \"i\"           \n",
              "[231] \"person\"       \"don't\"        \"mind\"         \"tri\"          \"to\"          \n",
              "[236] \"unravel\"      \"a\"            \"film\"         \"everi\"        \"now\"         \n",
              "[241] \"and\"          \"then\"         \"but\"          \"when\"         \"all\"         \n",
              "[246] \"it\"           \"doe\"          \"is\"           \"give\"         \"me\"          \n",
              "[251] \"the\"          \"same\"         \"clue\"         \"over\"         \"and\"         \n",
              "[256] \"over\"         \"again\"        \"i\"            \"get\"          \"kind\"        \n",
              "[261] \"of\"           \"fed\"          \"up\"           \"after\"        \"a\"           \n",
              "[266] \"while\"        \"which\"        \"is\"           \"this\"         \"film\"        \n",
              "[271] \"biggest\"      \"problem\"      \"it\"           \"obvious\"      \"got\"         \n",
              "[276] \"this\"         \"big\"          \"secret\"       \"to\"           \"hide\"        \n",
              "[281] \"but\"          \"it\"           \"seem\"         \"to\"           \"want\"        \n",
              "[286] \"to\"           \"hide\"         \"it\"           \"complet\"      \"until\"       \n",
              "[291] \"it\"           \"final\"        \"five\"         \"minut\"        \"and\"         \n",
              "[296] \"do\"           \"they\"         \"make\"         \"thing\"        \"entertain\"   \n",
              "[301] \"thrill\"       \"or\"           \"even\"         \"engag\"        \"in\"          \n",
              "[306] \"the\"          \"meantim\"      \"not\"          \"realli\"       \"the\"         \n",
              "[311] \"sad\"          \"part\"         \"is\"           \"that\"         \"the\"         \n",
              "[316] \"arrow\"        \"and\"          \"i\"            \"both\"         \"dig\"         \n",
              "[321] \"on\"           \"flick\"        \"like\"         \"this\"         \"so\"          \n",
              "[326] \"we\"           \"actual\"       \"figur\"        \"most\"         \"of\"          \n",
              "[331] \"it\"           \"out\"          \"by\"           \"the\"          \"half\"        \n",
              "[336] \"way\"          \"point\"        \"so\"           \"all\"          \"of\"          \n",
              "[341] \"the\"          \"strang\"       \"after\"        \"that\"         \"did\"         \n",
              "[346] \"start\"        \"to\"           \"make\"         \"a\"            \"littl\"       \n",
              "[351] \"bit\"          \"of\"           \"sens\"         \"but\"          \"it\"          \n",
              "[356] \"still\"        \"didn't\"       \"the\"          \"make\"         \"the\"         \n",
              "[361] \"film\"         \"all\"          \"that\"         \"more\"         \"entertain\"   \n",
              "[366] \"i\"            \"guess\"        \"the\"          \"bottom\"       \"line\"        \n",
              "[371] \"with\"         \"movi\"         \"like\"         \"this\"         \"is\"          \n",
              "[376] \"that\"         \"you\"          \"should\"       \"alway\"        \"make\"        \n",
              "[381] \"sure\"         \"that\"         \"the\"          \"audienc\"      \"is\"          \n",
              "[386] \"into\"         \"it\"           \"even\"         \"befor\"        \"they\"        \n",
              "[391] \"are\"          \"given\"        \"the\"          \"secret\"       \"password\"    \n",
              "[396] \"to\"           \"enter\"        \"your\"         \"world\"        \"of\"          \n",
              "[401] \"understand\"   \"i\"            \"mean\"         \"show\"         \"melissa\"     \n",
              "[406] \"sagemil\"      \"run\"          \"away\"         \"from\"         \"vision\"      \n",
              "[411] \"for\"          \"about\"        \"20\"           \"minut\"        \"throughout\"  \n",
              "[416] \"the\"          \"movi\"         \"is\"           \"just\"         \"plain\"       \n",
              "[421] \"lazi\"         \"okay\"         \"we\"           \"get\"          \"it\"          \n",
              "[426] \"there\"        \"are\"          \"peopl\"        \"chase\"        \"her\"         \n",
              "[431] \"and\"          \"we\"           \"don't\"        \"know\"         \"who\"         \n",
              "[436] \"they\"         \"are\"          \"do\"           \"we\"           \"realli\"      \n",
              "[441] \"need\"         \"to\"           \"see\"          \"it\"           \"over\"        \n",
              "[446] \"and\"          \"over\"         \"again\"        \"how\"          \"about\"       \n",
              "[451] \"give\"         \"us\"           \"differ\"       \"scene\"        \"offer\"       \n",
              "[456] \"further\"      \"insight\"      \"into\"         \"all\"          \"of\"          \n",
              "[461] \"the\"          \"strang\"       \"go\"           \"down\"         \"in\"          \n",
              "[466] \"the\"          \"movi\"         \"appar\"        \"the\"          \"studio\"      \n",
              "[471] \"took\"         \"this\"         \"film\"         \"away\"         \"from\"        \n",
              "[476] \"it\"           \"director\"     \"and\"          \"chop\"         \"it\"          \n",
              "[481] \"up\"           \"themselv\"     \"and\"          \"it\"           \"show\"        \n",
              "[486] \"there\"        \"might'v\"      \"been\"         \"a\"            \"pretti\"      \n",
              "[491] \"decent\"       \"teen\"         \"mind\"         \"fuck\"         \"movi\"        \n",
              "[496] \"in\"           \"here\"         \"somewher\"     \"but\"          \"i\"           \n",
              "[501] \"guess\"        \"the\"          \"suit\"         \"decid\"        \"that\"        \n",
              "[506] \"turn\"         \"it\"           \"into\"         \"a\"            \"music\"       \n",
              "[511] \"video\"        \"with\"         \"littl\"        \"edg\"          \"would\"       \n",
              "[516] \"make\"         \"more\"         \"sens\"         \"the\"          \"actor\"       \n",
              "[521] \"are\"          \"pretti\"       \"good\"         \"for\"          \"the\"         \n",
              "[526] \"most\"         \"part\"         \"although\"     \"wes\"          \"bentley\"     \n",
              "[531] \"just\"         \"seem\"         \"to\"           \"be\"           \"play\"        \n",
              "[536] \"the\"          \"exact\"        \"same\"         \"charact\"      \"that\"        \n",
              "[541] \"he\"           \"did\"          \"in\"           \"american\"     \"beauti\"      \n",
              "[546] \"onli\"         \"in\"           \"a\"            \"new\"          \"neighborhood\"\n",
              "[551] \"but\"          \"my\"           \"biggest\"      \"kudo\"         \"go\"          \n",
              "[556] \"out\"          \"to\"           \"sagemil\"      \"who\"          \"hold\"        \n",
              "[561] \"her\"          \"own\"          \"throughout\"   \"the\"          \"entir\"       \n",
              "[566] \"film\"         \"and\"          \"actual\"       \"has\"          \"you\"         \n",
              "[571] \"feel\"         \"her\"          \"charact\"      \"unravel\"      \"overal\"      \n",
              "[576] \"the\"          \"film\"         \"doesn't\"      \"stick\"        \"becaus\"      \n",
              "[581] \"it\"           \"doesn't\"      \"entertain\"    \"it\"           \"confus\"      \n",
              "[586] \"it\"           \"rare\"         \"excit\"        \"and\"          \"it\"          \n",
              "[591] \"feel\"         \"pretti\"       \"redund\"       \"for\"          \"most\"        \n",
              "[596] \"of\"           \"it\"           \"runtim\"       \"despit\"       \"a\"           \n",
              "[601] \"pretti\"       \"cool\"         \"end\"          \"and\"          \"explan\"      \n",
              "[606] \"to\"           \"all\"          \"of\"           \"the\"          \"crazi\"       \n",
              "[611] \"that\"         \"came\"         \"befor\"        \"it\"           \"oh\"          \n",
              "[616] \"and\"          \"by\"           \"the\"          \"way\"          \"this\"        \n",
              "[621] \"is\"           \"not\"          \"a\"            \"horror\"       \"or\"          \n",
              "[626] \"teen\"         \"slasher\"      \"flick\"        \"it\"           \"just\"        \n",
              "[631] \"packag\"       \"to\"           \"look\"         \"that\"         \"way\"         \n",
              "[636] \"becaus\"       \"someon\"       \"is\"           \"appar\"        \"assum\"       \n",
              "[641] \"that\"         \"the\"          \"genr\"         \"is\"           \"still\"       \n",
              "[646] \"hot\"          \"with\"         \"the\"          \"kid\"          \"it\"          \n",
              "[651] \"also\"         \"wrap\"         \"product\"      \"two\"          \"year\"        \n",
              "[656] \"ago\"          \"and\"          \"has\"          \"been\"         \"sit\"         \n",
              "[661] \"on\"           \"the\"          \"shelv\"        \"ever\"         \"sinc\"        \n",
              "[666] \"whatev\"       \"skip\"         \"it\"           \"where\"        \"joblo\"       \n",
              "[671] \"come\"         \"from\"         \"a\"            \"nightmar\"     \"of\"          \n",
              "[676] \"elm\"          \"street\"       \"3\"            \"7\"            \"10\"          \n",
              "[681] \"blair\"        \"witch\"        \"2\"            \"7\"            \"10\"          \n",
              "[686] \"the\"          \"crow\"         \"9\"            \"10\"           \"the\"         \n",
              "[691] \"crow\"         \"salvat\"       \"4\"            \"10\"           \"lost\"        \n",
              "[696] \"highway\"      \"10\"           \"10\"           \"memento\"      \"10\"          \n",
              "[701] \"10\"           \"the\"          \"other\"        \"9\"            \"10\"          \n",
              "[706] \"stir\"         \"of\"           \"echo\"         \"8\"            \"10\"          \n",
              "\n",
              "$cv001_19502.txt\n",
              "  [1] \"the\"        \"happi\"      \"bastard\"    \"quick\"      \"movi\"      \n",
              "  [6] \"review\"     \"damn\"       \"that\"       \"y2k\"        \"bug\"       \n",
              " [11] \"it\"         \"got\"        \"a\"          \"head\"       \"start\"     \n",
              " [16] \"in\"         \"this\"       \"movi\"       \"star\"       \"jami\"      \n",
              " [21] \"lee\"        \"curti\"      \"and\"        \"anoth\"      \"baldwin\"   \n",
              " [26] \"brother\"    \"william\"    \"this\"       \"time\"       \"in\"        \n",
              " [31] \"a\"          \"stori\"      \"regard\"     \"a\"          \"crew\"      \n",
              " [36] \"of\"         \"a\"          \"tugboat\"    \"that\"       \"come\"      \n",
              " [41] \"across\"     \"a\"          \"desert\"     \"russian\"    \"tech\"      \n",
              " [46] \"ship\"       \"that\"       \"has\"        \"a\"          \"strang\"    \n",
              " [51] \"to\"         \"it\"         \"when\"       \"they\"       \"kick\"      \n",
              " [56] \"the\"        \"power\"      \"back\"       \"on\"         \"littl\"     \n",
              " [61] \"do\"         \"they\"       \"know\"       \"the\"        \"power\"     \n",
              " [66] \"within\"     \"go\"         \"for\"        \"the\"        \"gore\"      \n",
              " [71] \"and\"        \"bring\"      \"on\"         \"a\"          \"few\"       \n",
              " [76] \"action\"     \"sequenc\"    \"here\"       \"and\"        \"there\"     \n",
              " [81] \"virus\"      \"still\"      \"feel\"       \"veri\"       \"empti\"     \n",
              " [86] \"like\"       \"a\"          \"movi\"       \"go\"         \"for\"       \n",
              " [91] \"all\"        \"flash\"      \"and\"        \"no\"         \"substanc\"  \n",
              " [96] \"we\"         \"don't\"      \"know\"       \"whi\"        \"the\"       \n",
              "[101] \"crew\"       \"was\"        \"realli\"     \"out\"        \"in\"        \n",
              "[106] \"the\"        \"middl\"      \"of\"         \"nowher\"     \"we\"        \n",
              "[111] \"don't\"      \"know\"       \"the\"        \"origin\"     \"of\"        \n",
              "[116] \"what\"       \"took\"       \"over\"       \"the\"        \"ship\"      \n",
              "[121] \"just\"       \"that\"       \"a\"          \"big\"        \"pink\"      \n",
              "[126] \"flashi\"     \"thing\"      \"hit\"        \"the\"        \"mir\"       \n",
              "[131] \"and\"        \"of\"         \"cours\"      \"we\"         \"don't\"     \n",
              "[136] \"know\"       \"whi\"        \"donald\"     \"sutherland\" \"is\"        \n",
              "[141] \"stumbl\"     \"around\"     \"drunken\"    \"throughout\" \"here\"      \n",
              "[146] \"it\"         \"just\"       \"hey\"        \"let\"        \"chase\"     \n",
              "[151] \"these\"      \"peopl\"      \"around\"     \"with\"       \"some\"      \n",
              "[156] \"robot\"      \"the\"        \"act\"        \"is\"         \"below\"     \n",
              "[161] \"averag\"     \"even\"       \"from\"       \"the\"        \"like\"      \n",
              "[166] \"of\"         \"curti\"      \"you'r\"      \"more\"       \"like\"      \n",
              "[171] \"to\"         \"get\"        \"a\"          \"kick\"       \"out\"       \n",
              "[176] \"of\"         \"her\"        \"work\"       \"in\"         \"halloween\" \n",
              "[181] \"h20\"        \"sutherland\" \"is\"         \"wast\"       \"and\"       \n",
              "[186] \"baldwin\"    \"well\"       \"he\"         \"act\"        \"like\"      \n",
              "[191] \"a\"          \"baldwin\"    \"of\"         \"cours\"      \"the\"       \n",
              "[196] \"real\"       \"star\"       \"here\"       \"are\"        \"stan\"      \n",
              "[201] \"winston\"    \"robot\"      \"design\"     \"some\"       \"schnazzi\"  \n",
              "[206] \"cgi\"        \"and\"        \"the\"        \"occasion\"   \"good\"      \n",
              "[211] \"gore\"       \"shot\"       \"like\"       \"pick\"       \"into\"      \n",
              "[216] \"someon\"     \"brain\"      \"so\"         \"if\"         \"robot\"     \n",
              "[221] \"and\"        \"bodi\"       \"part\"       \"realli\"     \"turn\"      \n",
              "[226] \"you\"        \"on\"         \"here\"       \"your\"       \"movi\"      \n",
              "[231] \"otherwis\"   \"it\"         \"pretti\"     \"much\"       \"a\"         \n",
              "[236] \"sunken\"     \"ship\"       \"of\"         \"a\"          \"movi\"      \n"
            ],
            "text/latex": "\\begin{description}\n\\item[\\$cv000\\_29416.txt] \\begin{enumerate*}\n\\item 'plot'\n\\item 'two'\n\\item 'teen'\n\\item 'coupl'\n\\item 'go'\n\\item 'to'\n\\item 'a'\n\\item 'church'\n\\item 'parti'\n\\item 'drink'\n\\item 'and'\n\\item 'then'\n\\item 'drive'\n\\item 'they'\n\\item 'get'\n\\item 'into'\n\\item 'an'\n\\item 'accid'\n\\item 'one'\n\\item 'of'\n\\item 'the'\n\\item 'guy'\n\\item 'die'\n\\item 'but'\n\\item 'his'\n\\item 'girlfriend'\n\\item 'continu'\n\\item 'to'\n\\item 'see'\n\\item 'him'\n\\item 'in'\n\\item 'her'\n\\item 'life'\n\\item 'and'\n\\item 'has'\n\\item 'nightmar'\n\\item 'what'\n\\item 'the'\n\\item 'deal'\n\\item 'watch'\n\\item 'the'\n\\item 'movi'\n\\item 'and'\n\\item 'sorta'\n\\item 'find'\n\\item 'out'\n\\item 'critiqu'\n\\item 'a'\n\\item 'mind'\n\\item 'fuck'\n\\item 'movi'\n\\item 'for'\n\\item 'the'\n\\item 'teen'\n\\item 'generat'\n\\item 'that'\n\\item 'touch'\n\\item 'on'\n\\item 'a'\n\\item 'veri'\n\\item 'cool'\n\\item 'idea'\n\\item 'but'\n\\item 'present'\n\\item 'it'\n\\item 'in'\n\\item 'a'\n\\item 'veri'\n\\item 'bad'\n\\item 'packag'\n\\item 'which'\n\\item 'is'\n\\item 'what'\n\\item 'make'\n\\item 'this'\n\\item 'review'\n\\item 'an'\n\\item 'even'\n\\item 'harder'\n\\item 'one'\n\\item 'to'\n\\item 'write'\n\\item 'sinc'\n\\item 'i'\n\\item 'general'\n\\item 'applaud'\n\\item 'film'\n\\item 'which'\n\\item 'attempt'\n\\item 'to'\n\\item 'break'\n\\item 'the'\n\\item 'mold'\n\\item 'mess'\n\\item 'with'\n\\item 'your'\n\\item 'head'\n\\item 'and'\n\\item 'such'\n\\item 'lost'\n\\item 'highway'\n\\item 'memento'\n\\item 'but'\n\\item 'there'\n\\item 'are'\n\\item 'good'\n\\item 'and'\n\\item 'bad'\n\\item 'way'\n\\item 'of'\n\\item 'make'\n\\item 'all'\n\\item 'type'\n\\item 'of'\n\\item 'film'\n\\item 'and'\n\\item 'these'\n\\item 'folk'\n\\item 'just'\n\\item 'didn\\textbackslash{}'t'\n\\item 'snag'\n\\item 'this'\n\\item 'one'\n\\item 'correct'\n\\item 'they'\n\\item 'seem'\n\\item 'to'\n\\item 'have'\n\\item 'taken'\n\\item 'this'\n\\item 'pretti'\n\\item 'neat'\n\\item 'concept'\n\\item 'but'\n\\item 'execut'\n\\item 'it'\n\\item 'terribl'\n\\item 'so'\n\\item 'what'\n\\item 'are'\n\\item 'the'\n\\item 'problem'\n\\item 'with'\n\\item 'the'\n\\item 'movi'\n\\item 'well'\n\\item 'it'\n\\item 'main'\n\\item 'problem'\n\\item 'is'\n\\item 'that'\n\\item 'it'\n\\item 'simpli'\n\\item 'too'\n\\item 'jumbl'\n\\item 'it'\n\\item 'start'\n\\item 'off'\n\\item 'normal'\n\\item 'but'\n\\item 'then'\n\\item 'downshift'\n\\item 'into'\n\\item 'this'\n\\item 'fantasi'\n\\item 'world'\n\\item 'in'\n\\item 'which'\n\\item 'you'\n\\item 'as'\n\\item 'an'\n\\item 'audienc'\n\\item 'member'\n\\item 'have'\n\\item 'no'\n\\item 'idea'\n\\item 'what'\n\\item 'go'\n\\item 'on'\n\\item 'there'\n\\item 'are'\n\\item 'dream'\n\\item 'there'\n\\item 'are'\n\\item 'charact'\n\\item 'come'\n\\item 'back'\n\\item 'from'\n\\item 'the'\n\\item 'dead'\n\\item 'there'\n\\item 'are'\n\\item 'other'\n\\item 'who'\n\\item 'look'\n\\item 'like'\n\\item 'the'\n\\item 'dead'\n\\item 'there'\n\\item 'are'\n\\item ⋯\n\\item 'video'\n\\item 'with'\n\\item 'littl'\n\\item 'edg'\n\\item 'would'\n\\item 'make'\n\\item 'more'\n\\item 'sens'\n\\item 'the'\n\\item 'actor'\n\\item 'are'\n\\item 'pretti'\n\\item 'good'\n\\item 'for'\n\\item 'the'\n\\item 'most'\n\\item 'part'\n\\item 'although'\n\\item 'wes'\n\\item 'bentley'\n\\item 'just'\n\\item 'seem'\n\\item 'to'\n\\item 'be'\n\\item 'play'\n\\item 'the'\n\\item 'exact'\n\\item 'same'\n\\item 'charact'\n\\item 'that'\n\\item 'he'\n\\item 'did'\n\\item 'in'\n\\item 'american'\n\\item 'beauti'\n\\item 'onli'\n\\item 'in'\n\\item 'a'\n\\item 'new'\n\\item 'neighborhood'\n\\item 'but'\n\\item 'my'\n\\item 'biggest'\n\\item 'kudo'\n\\item 'go'\n\\item 'out'\n\\item 'to'\n\\item 'sagemil'\n\\item 'who'\n\\item 'hold'\n\\item 'her'\n\\item 'own'\n\\item 'throughout'\n\\item 'the'\n\\item 'entir'\n\\item 'film'\n\\item 'and'\n\\item 'actual'\n\\item 'has'\n\\item 'you'\n\\item 'feel'\n\\item 'her'\n\\item 'charact'\n\\item 'unravel'\n\\item 'overal'\n\\item 'the'\n\\item 'film'\n\\item 'doesn\\textbackslash{}'t'\n\\item 'stick'\n\\item 'becaus'\n\\item 'it'\n\\item 'doesn\\textbackslash{}'t'\n\\item 'entertain'\n\\item 'it'\n\\item 'confus'\n\\item 'it'\n\\item 'rare'\n\\item 'excit'\n\\item 'and'\n\\item 'it'\n\\item 'feel'\n\\item 'pretti'\n\\item 'redund'\n\\item 'for'\n\\item 'most'\n\\item 'of'\n\\item 'it'\n\\item 'runtim'\n\\item 'despit'\n\\item 'a'\n\\item 'pretti'\n\\item 'cool'\n\\item 'end'\n\\item 'and'\n\\item 'explan'\n\\item 'to'\n\\item 'all'\n\\item 'of'\n\\item 'the'\n\\item 'crazi'\n\\item 'that'\n\\item 'came'\n\\item 'befor'\n\\item 'it'\n\\item 'oh'\n\\item 'and'\n\\item 'by'\n\\item 'the'\n\\item 'way'\n\\item 'this'\n\\item 'is'\n\\item 'not'\n\\item 'a'\n\\item 'horror'\n\\item 'or'\n\\item 'teen'\n\\item 'slasher'\n\\item 'flick'\n\\item 'it'\n\\item 'just'\n\\item 'packag'\n\\item 'to'\n\\item 'look'\n\\item 'that'\n\\item 'way'\n\\item 'becaus'\n\\item 'someon'\n\\item 'is'\n\\item 'appar'\n\\item 'assum'\n\\item 'that'\n\\item 'the'\n\\item 'genr'\n\\item 'is'\n\\item 'still'\n\\item 'hot'\n\\item 'with'\n\\item 'the'\n\\item 'kid'\n\\item 'it'\n\\item 'also'\n\\item 'wrap'\n\\item 'product'\n\\item 'two'\n\\item 'year'\n\\item 'ago'\n\\item 'and'\n\\item 'has'\n\\item 'been'\n\\item 'sit'\n\\item 'on'\n\\item 'the'\n\\item 'shelv'\n\\item 'ever'\n\\item 'sinc'\n\\item 'whatev'\n\\item 'skip'\n\\item 'it'\n\\item 'where'\n\\item 'joblo'\n\\item 'come'\n\\item 'from'\n\\item 'a'\n\\item 'nightmar'\n\\item 'of'\n\\item 'elm'\n\\item 'street'\n\\item '3'\n\\item '7'\n\\item '10'\n\\item 'blair'\n\\item 'witch'\n\\item '2'\n\\item '7'\n\\item '10'\n\\item 'the'\n\\item 'crow'\n\\item '9'\n\\item '10'\n\\item 'the'\n\\item 'crow'\n\\item 'salvat'\n\\item '4'\n\\item '10'\n\\item 'lost'\n\\item 'highway'\n\\item '10'\n\\item '10'\n\\item 'memento'\n\\item '10'\n\\item '10'\n\\item 'the'\n\\item 'other'\n\\item '9'\n\\item '10'\n\\item 'stir'\n\\item 'of'\n\\item 'echo'\n\\item '8'\n\\item '10'\n\\end{enumerate*}\n\n\\item[\\$cv001\\_19502.txt] \\begin{enumerate*}\n\\item 'the'\n\\item 'happi'\n\\item 'bastard'\n\\item 'quick'\n\\item 'movi'\n\\item 'review'\n\\item 'damn'\n\\item 'that'\n\\item 'y2k'\n\\item 'bug'\n\\item 'it'\n\\item 'got'\n\\item 'a'\n\\item 'head'\n\\item 'start'\n\\item 'in'\n\\item 'this'\n\\item 'movi'\n\\item 'star'\n\\item 'jami'\n\\item 'lee'\n\\item 'curti'\n\\item 'and'\n\\item 'anoth'\n\\item 'baldwin'\n\\item 'brother'\n\\item 'william'\n\\item 'this'\n\\item 'time'\n\\item 'in'\n\\item 'a'\n\\item 'stori'\n\\item 'regard'\n\\item 'a'\n\\item 'crew'\n\\item 'of'\n\\item 'a'\n\\item 'tugboat'\n\\item 'that'\n\\item 'come'\n\\item 'across'\n\\item 'a'\n\\item 'desert'\n\\item 'russian'\n\\item 'tech'\n\\item 'ship'\n\\item 'that'\n\\item 'has'\n\\item 'a'\n\\item 'strang'\n\\item 'to'\n\\item 'it'\n\\item 'when'\n\\item 'they'\n\\item 'kick'\n\\item 'the'\n\\item 'power'\n\\item 'back'\n\\item 'on'\n\\item 'littl'\n\\item 'do'\n\\item 'they'\n\\item 'know'\n\\item 'the'\n\\item 'power'\n\\item 'within'\n\\item 'go'\n\\item 'for'\n\\item 'the'\n\\item 'gore'\n\\item 'and'\n\\item 'bring'\n\\item 'on'\n\\item 'a'\n\\item 'few'\n\\item 'action'\n\\item 'sequenc'\n\\item 'here'\n\\item 'and'\n\\item 'there'\n\\item 'virus'\n\\item 'still'\n\\item 'feel'\n\\item 'veri'\n\\item 'empti'\n\\item 'like'\n\\item 'a'\n\\item 'movi'\n\\item 'go'\n\\item 'for'\n\\item 'all'\n\\item 'flash'\n\\item 'and'\n\\item 'no'\n\\item 'substanc'\n\\item 'we'\n\\item 'don\\textbackslash{}'t'\n\\item 'know'\n\\item 'whi'\n\\item 'the'\n\\item 'crew'\n\\item 'was'\n\\item 'realli'\n\\item 'out'\n\\item 'in'\n\\item 'the'\n\\item 'middl'\n\\item 'of'\n\\item 'nowher'\n\\item 'we'\n\\item 'don\\textbackslash{}'t'\n\\item 'know'\n\\item 'the'\n\\item 'origin'\n\\item 'of'\n\\item 'what'\n\\item 'took'\n\\item 'over'\n\\item 'the'\n\\item 'ship'\n\\item 'just'\n\\item 'that'\n\\item 'a'\n\\item 'big'\n\\item 'pink'\n\\item 'flashi'\n\\item 'thing'\n\\item 'hit'\n\\item 'the'\n\\item 'mir'\n\\item 'and'\n\\item 'of'\n\\item 'cours'\n\\item 'we'\n\\item 'don\\textbackslash{}'t'\n\\item 'know'\n\\item 'whi'\n\\item 'donald'\n\\item 'sutherland'\n\\item 'is'\n\\item 'stumbl'\n\\item 'around'\n\\item 'drunken'\n\\item 'throughout'\n\\item 'here'\n\\item 'it'\n\\item 'just'\n\\item 'hey'\n\\item 'let'\n\\item 'chase'\n\\item 'these'\n\\item 'peopl'\n\\item 'around'\n\\item 'with'\n\\item 'some'\n\\item 'robot'\n\\item 'the'\n\\item 'act'\n\\item 'is'\n\\item 'below'\n\\item 'averag'\n\\item 'even'\n\\item 'from'\n\\item 'the'\n\\item 'like'\n\\item 'of'\n\\item 'curti'\n\\item 'you\\textbackslash{}'r'\n\\item 'more'\n\\item 'like'\n\\item 'to'\n\\item 'get'\n\\item 'a'\n\\item 'kick'\n\\item 'out'\n\\item 'of'\n\\item 'her'\n\\item 'work'\n\\item 'in'\n\\item 'halloween'\n\\item 'h20'\n\\item 'sutherland'\n\\item 'is'\n\\item 'wast'\n\\item 'and'\n\\item 'baldwin'\n\\item 'well'\n\\item 'he'\n\\item 'act'\n\\item 'like'\n\\item 'a'\n\\item 'baldwin'\n\\item 'of'\n\\item 'cours'\n\\item 'the'\n\\item 'real'\n\\item 'star'\n\\item 'here'\n\\item 'are'\n\\item 'stan'\n\\item 'winston'\n\\item 'robot'\n\\item 'design'\n\\item 'some'\n\\item 'schnazzi'\n\\item 'cgi'\n\\item 'and'\n\\item 'the'\n\\item 'occasion'\n\\item 'good'\n\\item 'gore'\n\\item 'shot'\n\\item 'like'\n\\item 'pick'\n\\item 'into'\n\\item 'someon'\n\\item 'brain'\n\\item 'so'\n\\item 'if'\n\\item 'robot'\n\\item 'and'\n\\item 'bodi'\n\\item 'part'\n\\item 'realli'\n\\item 'turn'\n\\item 'you'\n\\item 'on'\n\\item 'here'\n\\item 'your'\n\\item 'movi'\n\\item 'otherwis'\n\\item 'it'\n\\item 'pretti'\n\\item 'much'\n\\item 'a'\n\\item 'sunken'\n\\item 'ship'\n\\item 'of'\n\\item 'a'\n\\item 'movi'\n\\end{enumerate*}\n\n\\end{description}\n",
            "text/markdown": "$cv000_29416.txt\n:   1. 'plot'\n2. 'two'\n3. 'teen'\n4. 'coupl'\n5. 'go'\n6. 'to'\n7. 'a'\n8. 'church'\n9. 'parti'\n10. 'drink'\n11. 'and'\n12. 'then'\n13. 'drive'\n14. 'they'\n15. 'get'\n16. 'into'\n17. 'an'\n18. 'accid'\n19. 'one'\n20. 'of'\n21. 'the'\n22. 'guy'\n23. 'die'\n24. 'but'\n25. 'his'\n26. 'girlfriend'\n27. 'continu'\n28. 'to'\n29. 'see'\n30. 'him'\n31. 'in'\n32. 'her'\n33. 'life'\n34. 'and'\n35. 'has'\n36. 'nightmar'\n37. 'what'\n38. 'the'\n39. 'deal'\n40. 'watch'\n41. 'the'\n42. 'movi'\n43. 'and'\n44. 'sorta'\n45. 'find'\n46. 'out'\n47. 'critiqu'\n48. 'a'\n49. 'mind'\n50. 'fuck'\n51. 'movi'\n52. 'for'\n53. 'the'\n54. 'teen'\n55. 'generat'\n56. 'that'\n57. 'touch'\n58. 'on'\n59. 'a'\n60. 'veri'\n61. 'cool'\n62. 'idea'\n63. 'but'\n64. 'present'\n65. 'it'\n66. 'in'\n67. 'a'\n68. 'veri'\n69. 'bad'\n70. 'packag'\n71. 'which'\n72. 'is'\n73. 'what'\n74. 'make'\n75. 'this'\n76. 'review'\n77. 'an'\n78. 'even'\n79. 'harder'\n80. 'one'\n81. 'to'\n82. 'write'\n83. 'sinc'\n84. 'i'\n85. 'general'\n86. 'applaud'\n87. 'film'\n88. 'which'\n89. 'attempt'\n90. 'to'\n91. 'break'\n92. 'the'\n93. 'mold'\n94. 'mess'\n95. 'with'\n96. 'your'\n97. 'head'\n98. 'and'\n99. 'such'\n100. 'lost'\n101. 'highway'\n102. 'memento'\n103. 'but'\n104. 'there'\n105. 'are'\n106. 'good'\n107. 'and'\n108. 'bad'\n109. 'way'\n110. 'of'\n111. 'make'\n112. 'all'\n113. 'type'\n114. 'of'\n115. 'film'\n116. 'and'\n117. 'these'\n118. 'folk'\n119. 'just'\n120. 'didn\\'t'\n121. 'snag'\n122. 'this'\n123. 'one'\n124. 'correct'\n125. 'they'\n126. 'seem'\n127. 'to'\n128. 'have'\n129. 'taken'\n130. 'this'\n131. 'pretti'\n132. 'neat'\n133. 'concept'\n134. 'but'\n135. 'execut'\n136. 'it'\n137. 'terribl'\n138. 'so'\n139. 'what'\n140. 'are'\n141. 'the'\n142. 'problem'\n143. 'with'\n144. 'the'\n145. 'movi'\n146. 'well'\n147. 'it'\n148. 'main'\n149. 'problem'\n150. 'is'\n151. 'that'\n152. 'it'\n153. 'simpli'\n154. 'too'\n155. 'jumbl'\n156. 'it'\n157. 'start'\n158. 'off'\n159. 'normal'\n160. 'but'\n161. 'then'\n162. 'downshift'\n163. 'into'\n164. 'this'\n165. 'fantasi'\n166. 'world'\n167. 'in'\n168. 'which'\n169. 'you'\n170. 'as'\n171. 'an'\n172. 'audienc'\n173. 'member'\n174. 'have'\n175. 'no'\n176. 'idea'\n177. 'what'\n178. 'go'\n179. 'on'\n180. 'there'\n181. 'are'\n182. 'dream'\n183. 'there'\n184. 'are'\n185. 'charact'\n186. 'come'\n187. 'back'\n188. 'from'\n189. 'the'\n190. 'dead'\n191. 'there'\n192. 'are'\n193. 'other'\n194. 'who'\n195. 'look'\n196. 'like'\n197. 'the'\n198. 'dead'\n199. 'there'\n200. 'are'\n201. ⋯\n202. 'video'\n203. 'with'\n204. 'littl'\n205. 'edg'\n206. 'would'\n207. 'make'\n208. 'more'\n209. 'sens'\n210. 'the'\n211. 'actor'\n212. 'are'\n213. 'pretti'\n214. 'good'\n215. 'for'\n216. 'the'\n217. 'most'\n218. 'part'\n219. 'although'\n220. 'wes'\n221. 'bentley'\n222. 'just'\n223. 'seem'\n224. 'to'\n225. 'be'\n226. 'play'\n227. 'the'\n228. 'exact'\n229. 'same'\n230. 'charact'\n231. 'that'\n232. 'he'\n233. 'did'\n234. 'in'\n235. 'american'\n236. 'beauti'\n237. 'onli'\n238. 'in'\n239. 'a'\n240. 'new'\n241. 'neighborhood'\n242. 'but'\n243. 'my'\n244. 'biggest'\n245. 'kudo'\n246. 'go'\n247. 'out'\n248. 'to'\n249. 'sagemil'\n250. 'who'\n251. 'hold'\n252. 'her'\n253. 'own'\n254. 'throughout'\n255. 'the'\n256. 'entir'\n257. 'film'\n258. 'and'\n259. 'actual'\n260. 'has'\n261. 'you'\n262. 'feel'\n263. 'her'\n264. 'charact'\n265. 'unravel'\n266. 'overal'\n267. 'the'\n268. 'film'\n269. 'doesn\\'t'\n270. 'stick'\n271. 'becaus'\n272. 'it'\n273. 'doesn\\'t'\n274. 'entertain'\n275. 'it'\n276. 'confus'\n277. 'it'\n278. 'rare'\n279. 'excit'\n280. 'and'\n281. 'it'\n282. 'feel'\n283. 'pretti'\n284. 'redund'\n285. 'for'\n286. 'most'\n287. 'of'\n288. 'it'\n289. 'runtim'\n290. 'despit'\n291. 'a'\n292. 'pretti'\n293. 'cool'\n294. 'end'\n295. 'and'\n296. 'explan'\n297. 'to'\n298. 'all'\n299. 'of'\n300. 'the'\n301. 'crazi'\n302. 'that'\n303. 'came'\n304. 'befor'\n305. 'it'\n306. 'oh'\n307. 'and'\n308. 'by'\n309. 'the'\n310. 'way'\n311. 'this'\n312. 'is'\n313. 'not'\n314. 'a'\n315. 'horror'\n316. 'or'\n317. 'teen'\n318. 'slasher'\n319. 'flick'\n320. 'it'\n321. 'just'\n322. 'packag'\n323. 'to'\n324. 'look'\n325. 'that'\n326. 'way'\n327. 'becaus'\n328. 'someon'\n329. 'is'\n330. 'appar'\n331. 'assum'\n332. 'that'\n333. 'the'\n334. 'genr'\n335. 'is'\n336. 'still'\n337. 'hot'\n338. 'with'\n339. 'the'\n340. 'kid'\n341. 'it'\n342. 'also'\n343. 'wrap'\n344. 'product'\n345. 'two'\n346. 'year'\n347. 'ago'\n348. 'and'\n349. 'has'\n350. 'been'\n351. 'sit'\n352. 'on'\n353. 'the'\n354. 'shelv'\n355. 'ever'\n356. 'sinc'\n357. 'whatev'\n358. 'skip'\n359. 'it'\n360. 'where'\n361. 'joblo'\n362. 'come'\n363. 'from'\n364. 'a'\n365. 'nightmar'\n366. 'of'\n367. 'elm'\n368. 'street'\n369. '3'\n370. '7'\n371. '10'\n372. 'blair'\n373. 'witch'\n374. '2'\n375. '7'\n376. '10'\n377. 'the'\n378. 'crow'\n379. '9'\n380. '10'\n381. 'the'\n382. 'crow'\n383. 'salvat'\n384. '4'\n385. '10'\n386. 'lost'\n387. 'highway'\n388. '10'\n389. '10'\n390. 'memento'\n391. '10'\n392. '10'\n393. 'the'\n394. 'other'\n395. '9'\n396. '10'\n397. 'stir'\n398. 'of'\n399. 'echo'\n400. '8'\n401. '10'\n\n\n\n$cv001_19502.txt\n:   1. 'the'\n2. 'happi'\n3. 'bastard'\n4. 'quick'\n5. 'movi'\n6. 'review'\n7. 'damn'\n8. 'that'\n9. 'y2k'\n10. 'bug'\n11. 'it'\n12. 'got'\n13. 'a'\n14. 'head'\n15. 'start'\n16. 'in'\n17. 'this'\n18. 'movi'\n19. 'star'\n20. 'jami'\n21. 'lee'\n22. 'curti'\n23. 'and'\n24. 'anoth'\n25. 'baldwin'\n26. 'brother'\n27. 'william'\n28. 'this'\n29. 'time'\n30. 'in'\n31. 'a'\n32. 'stori'\n33. 'regard'\n34. 'a'\n35. 'crew'\n36. 'of'\n37. 'a'\n38. 'tugboat'\n39. 'that'\n40. 'come'\n41. 'across'\n42. 'a'\n43. 'desert'\n44. 'russian'\n45. 'tech'\n46. 'ship'\n47. 'that'\n48. 'has'\n49. 'a'\n50. 'strang'\n51. 'to'\n52. 'it'\n53. 'when'\n54. 'they'\n55. 'kick'\n56. 'the'\n57. 'power'\n58. 'back'\n59. 'on'\n60. 'littl'\n61. 'do'\n62. 'they'\n63. 'know'\n64. 'the'\n65. 'power'\n66. 'within'\n67. 'go'\n68. 'for'\n69. 'the'\n70. 'gore'\n71. 'and'\n72. 'bring'\n73. 'on'\n74. 'a'\n75. 'few'\n76. 'action'\n77. 'sequenc'\n78. 'here'\n79. 'and'\n80. 'there'\n81. 'virus'\n82. 'still'\n83. 'feel'\n84. 'veri'\n85. 'empti'\n86. 'like'\n87. 'a'\n88. 'movi'\n89. 'go'\n90. 'for'\n91. 'all'\n92. 'flash'\n93. 'and'\n94. 'no'\n95. 'substanc'\n96. 'we'\n97. 'don\\'t'\n98. 'know'\n99. 'whi'\n100. 'the'\n101. 'crew'\n102. 'was'\n103. 'realli'\n104. 'out'\n105. 'in'\n106. 'the'\n107. 'middl'\n108. 'of'\n109. 'nowher'\n110. 'we'\n111. 'don\\'t'\n112. 'know'\n113. 'the'\n114. 'origin'\n115. 'of'\n116. 'what'\n117. 'took'\n118. 'over'\n119. 'the'\n120. 'ship'\n121. 'just'\n122. 'that'\n123. 'a'\n124. 'big'\n125. 'pink'\n126. 'flashi'\n127. 'thing'\n128. 'hit'\n129. 'the'\n130. 'mir'\n131. 'and'\n132. 'of'\n133. 'cours'\n134. 'we'\n135. 'don\\'t'\n136. 'know'\n137. 'whi'\n138. 'donald'\n139. 'sutherland'\n140. 'is'\n141. 'stumbl'\n142. 'around'\n143. 'drunken'\n144. 'throughout'\n145. 'here'\n146. 'it'\n147. 'just'\n148. 'hey'\n149. 'let'\n150. 'chase'\n151. 'these'\n152. 'peopl'\n153. 'around'\n154. 'with'\n155. 'some'\n156. 'robot'\n157. 'the'\n158. 'act'\n159. 'is'\n160. 'below'\n161. 'averag'\n162. 'even'\n163. 'from'\n164. 'the'\n165. 'like'\n166. 'of'\n167. 'curti'\n168. 'you\\'r'\n169. 'more'\n170. 'like'\n171. 'to'\n172. 'get'\n173. 'a'\n174. 'kick'\n175. 'out'\n176. 'of'\n177. 'her'\n178. 'work'\n179. 'in'\n180. 'halloween'\n181. 'h20'\n182. 'sutherland'\n183. 'is'\n184. 'wast'\n185. 'and'\n186. 'baldwin'\n187. 'well'\n188. 'he'\n189. 'act'\n190. 'like'\n191. 'a'\n192. 'baldwin'\n193. 'of'\n194. 'cours'\n195. 'the'\n196. 'real'\n197. 'star'\n198. 'here'\n199. 'are'\n200. 'stan'\n201. 'winston'\n202. 'robot'\n203. 'design'\n204. 'some'\n205. 'schnazzi'\n206. 'cgi'\n207. 'and'\n208. 'the'\n209. 'occasion'\n210. 'good'\n211. 'gore'\n212. 'shot'\n213. 'like'\n214. 'pick'\n215. 'into'\n216. 'someon'\n217. 'brain'\n218. 'so'\n219. 'if'\n220. 'robot'\n221. 'and'\n222. 'bodi'\n223. 'part'\n224. 'realli'\n225. 'turn'\n226. 'you'\n227. 'on'\n228. 'here'\n229. 'your'\n230. 'movi'\n231. 'otherwis'\n232. 'it'\n233. 'pretti'\n234. 'much'\n235. 'a'\n236. 'sunken'\n237. 'ship'\n238. 'of'\n239. 'a'\n240. 'movi'\n\n\n\n\n\n",
            "text/html": [
              "<dl>\n",
              "\t<dt>$cv000_29416.txt</dt>\n",
              "\t\t<dd><style>\n",
              ".list-inline {list-style: none; margin:0; padding: 0}\n",
              ".list-inline>li {display: inline-block}\n",
              ".list-inline>li:not(:last-child)::after {content: \"\\00b7\"; padding: 0 .5ex}\n",
              "</style>\n",
              "<ol class=list-inline><li>'plot'</li><li>'two'</li><li>'teen'</li><li>'coupl'</li><li>'go'</li><li>'to'</li><li>'a'</li><li>'church'</li><li>'parti'</li><li>'drink'</li><li>'and'</li><li>'then'</li><li>'drive'</li><li>'they'</li><li>'get'</li><li>'into'</li><li>'an'</li><li>'accid'</li><li>'one'</li><li>'of'</li><li>'the'</li><li>'guy'</li><li>'die'</li><li>'but'</li><li>'his'</li><li>'girlfriend'</li><li>'continu'</li><li>'to'</li><li>'see'</li><li>'him'</li><li>'in'</li><li>'her'</li><li>'life'</li><li>'and'</li><li>'has'</li><li>'nightmar'</li><li>'what'</li><li>'the'</li><li>'deal'</li><li>'watch'</li><li>'the'</li><li>'movi'</li><li>'and'</li><li>'sorta'</li><li>'find'</li><li>'out'</li><li>'critiqu'</li><li>'a'</li><li>'mind'</li><li>'fuck'</li><li>'movi'</li><li>'for'</li><li>'the'</li><li>'teen'</li><li>'generat'</li><li>'that'</li><li>'touch'</li><li>'on'</li><li>'a'</li><li>'veri'</li><li>'cool'</li><li>'idea'</li><li>'but'</li><li>'present'</li><li>'it'</li><li>'in'</li><li>'a'</li><li>'veri'</li><li>'bad'</li><li>'packag'</li><li>'which'</li><li>'is'</li><li>'what'</li><li>'make'</li><li>'this'</li><li>'review'</li><li>'an'</li><li>'even'</li><li>'harder'</li><li>'one'</li><li>'to'</li><li>'write'</li><li>'sinc'</li><li>'i'</li><li>'general'</li><li>'applaud'</li><li>'film'</li><li>'which'</li><li>'attempt'</li><li>'to'</li><li>'break'</li><li>'the'</li><li>'mold'</li><li>'mess'</li><li>'with'</li><li>'your'</li><li>'head'</li><li>'and'</li><li>'such'</li><li>'lost'</li><li>'highway'</li><li>'memento'</li><li>'but'</li><li>'there'</li><li>'are'</li><li>'good'</li><li>'and'</li><li>'bad'</li><li>'way'</li><li>'of'</li><li>'make'</li><li>'all'</li><li>'type'</li><li>'of'</li><li>'film'</li><li>'and'</li><li>'these'</li><li>'folk'</li><li>'just'</li><li>'didn\\'t'</li><li>'snag'</li><li>'this'</li><li>'one'</li><li>'correct'</li><li>'they'</li><li>'seem'</li><li>'to'</li><li>'have'</li><li>'taken'</li><li>'this'</li><li>'pretti'</li><li>'neat'</li><li>'concept'</li><li>'but'</li><li>'execut'</li><li>'it'</li><li>'terribl'</li><li>'so'</li><li>'what'</li><li>'are'</li><li>'the'</li><li>'problem'</li><li>'with'</li><li>'the'</li><li>'movi'</li><li>'well'</li><li>'it'</li><li>'main'</li><li>'problem'</li><li>'is'</li><li>'that'</li><li>'it'</li><li>'simpli'</li><li>'too'</li><li>'jumbl'</li><li>'it'</li><li>'start'</li><li>'off'</li><li>'normal'</li><li>'but'</li><li>'then'</li><li>'downshift'</li><li>'into'</li><li>'this'</li><li>'fantasi'</li><li>'world'</li><li>'in'</li><li>'which'</li><li>'you'</li><li>'as'</li><li>'an'</li><li>'audienc'</li><li>'member'</li><li>'have'</li><li>'no'</li><li>'idea'</li><li>'what'</li><li>'go'</li><li>'on'</li><li>'there'</li><li>'are'</li><li>'dream'</li><li>'there'</li><li>'are'</li><li>'charact'</li><li>'come'</li><li>'back'</li><li>'from'</li><li>'the'</li><li>'dead'</li><li>'there'</li><li>'are'</li><li>'other'</li><li>'who'</li><li>'look'</li><li>'like'</li><li>'the'</li><li>'dead'</li><li>'there'</li><li>'are'</li><li>⋯</li><li>'video'</li><li>'with'</li><li>'littl'</li><li>'edg'</li><li>'would'</li><li>'make'</li><li>'more'</li><li>'sens'</li><li>'the'</li><li>'actor'</li><li>'are'</li><li>'pretti'</li><li>'good'</li><li>'for'</li><li>'the'</li><li>'most'</li><li>'part'</li><li>'although'</li><li>'wes'</li><li>'bentley'</li><li>'just'</li><li>'seem'</li><li>'to'</li><li>'be'</li><li>'play'</li><li>'the'</li><li>'exact'</li><li>'same'</li><li>'charact'</li><li>'that'</li><li>'he'</li><li>'did'</li><li>'in'</li><li>'american'</li><li>'beauti'</li><li>'onli'</li><li>'in'</li><li>'a'</li><li>'new'</li><li>'neighborhood'</li><li>'but'</li><li>'my'</li><li>'biggest'</li><li>'kudo'</li><li>'go'</li><li>'out'</li><li>'to'</li><li>'sagemil'</li><li>'who'</li><li>'hold'</li><li>'her'</li><li>'own'</li><li>'throughout'</li><li>'the'</li><li>'entir'</li><li>'film'</li><li>'and'</li><li>'actual'</li><li>'has'</li><li>'you'</li><li>'feel'</li><li>'her'</li><li>'charact'</li><li>'unravel'</li><li>'overal'</li><li>'the'</li><li>'film'</li><li>'doesn\\'t'</li><li>'stick'</li><li>'becaus'</li><li>'it'</li><li>'doesn\\'t'</li><li>'entertain'</li><li>'it'</li><li>'confus'</li><li>'it'</li><li>'rare'</li><li>'excit'</li><li>'and'</li><li>'it'</li><li>'feel'</li><li>'pretti'</li><li>'redund'</li><li>'for'</li><li>'most'</li><li>'of'</li><li>'it'</li><li>'runtim'</li><li>'despit'</li><li>'a'</li><li>'pretti'</li><li>'cool'</li><li>'end'</li><li>'and'</li><li>'explan'</li><li>'to'</li><li>'all'</li><li>'of'</li><li>'the'</li><li>'crazi'</li><li>'that'</li><li>'came'</li><li>'befor'</li><li>'it'</li><li>'oh'</li><li>'and'</li><li>'by'</li><li>'the'</li><li>'way'</li><li>'this'</li><li>'is'</li><li>'not'</li><li>'a'</li><li>'horror'</li><li>'or'</li><li>'teen'</li><li>'slasher'</li><li>'flick'</li><li>'it'</li><li>'just'</li><li>'packag'</li><li>'to'</li><li>'look'</li><li>'that'</li><li>'way'</li><li>'becaus'</li><li>'someon'</li><li>'is'</li><li>'appar'</li><li>'assum'</li><li>'that'</li><li>'the'</li><li>'genr'</li><li>'is'</li><li>'still'</li><li>'hot'</li><li>'with'</li><li>'the'</li><li>'kid'</li><li>'it'</li><li>'also'</li><li>'wrap'</li><li>'product'</li><li>'two'</li><li>'year'</li><li>'ago'</li><li>'and'</li><li>'has'</li><li>'been'</li><li>'sit'</li><li>'on'</li><li>'the'</li><li>'shelv'</li><li>'ever'</li><li>'sinc'</li><li>'whatev'</li><li>'skip'</li><li>'it'</li><li>'where'</li><li>'joblo'</li><li>'come'</li><li>'from'</li><li>'a'</li><li>'nightmar'</li><li>'of'</li><li>'elm'</li><li>'street'</li><li>'3'</li><li>'7'</li><li>'10'</li><li>'blair'</li><li>'witch'</li><li>'2'</li><li>'7'</li><li>'10'</li><li>'the'</li><li>'crow'</li><li>'9'</li><li>'10'</li><li>'the'</li><li>'crow'</li><li>'salvat'</li><li>'4'</li><li>'10'</li><li>'lost'</li><li>'highway'</li><li>'10'</li><li>'10'</li><li>'memento'</li><li>'10'</li><li>'10'</li><li>'the'</li><li>'other'</li><li>'9'</li><li>'10'</li><li>'stir'</li><li>'of'</li><li>'echo'</li><li>'8'</li><li>'10'</li></ol>\n",
              "</dd>\n",
              "\t<dt>$cv001_19502.txt</dt>\n",
              "\t\t<dd><style>\n",
              ".list-inline {list-style: none; margin:0; padding: 0}\n",
              ".list-inline>li {display: inline-block}\n",
              ".list-inline>li:not(:last-child)::after {content: \"\\00b7\"; padding: 0 .5ex}\n",
              "</style>\n",
              "<ol class=list-inline><li>'the'</li><li>'happi'</li><li>'bastard'</li><li>'quick'</li><li>'movi'</li><li>'review'</li><li>'damn'</li><li>'that'</li><li>'y2k'</li><li>'bug'</li><li>'it'</li><li>'got'</li><li>'a'</li><li>'head'</li><li>'start'</li><li>'in'</li><li>'this'</li><li>'movi'</li><li>'star'</li><li>'jami'</li><li>'lee'</li><li>'curti'</li><li>'and'</li><li>'anoth'</li><li>'baldwin'</li><li>'brother'</li><li>'william'</li><li>'this'</li><li>'time'</li><li>'in'</li><li>'a'</li><li>'stori'</li><li>'regard'</li><li>'a'</li><li>'crew'</li><li>'of'</li><li>'a'</li><li>'tugboat'</li><li>'that'</li><li>'come'</li><li>'across'</li><li>'a'</li><li>'desert'</li><li>'russian'</li><li>'tech'</li><li>'ship'</li><li>'that'</li><li>'has'</li><li>'a'</li><li>'strang'</li><li>'to'</li><li>'it'</li><li>'when'</li><li>'they'</li><li>'kick'</li><li>'the'</li><li>'power'</li><li>'back'</li><li>'on'</li><li>'littl'</li><li>'do'</li><li>'they'</li><li>'know'</li><li>'the'</li><li>'power'</li><li>'within'</li><li>'go'</li><li>'for'</li><li>'the'</li><li>'gore'</li><li>'and'</li><li>'bring'</li><li>'on'</li><li>'a'</li><li>'few'</li><li>'action'</li><li>'sequenc'</li><li>'here'</li><li>'and'</li><li>'there'</li><li>'virus'</li><li>'still'</li><li>'feel'</li><li>'veri'</li><li>'empti'</li><li>'like'</li><li>'a'</li><li>'movi'</li><li>'go'</li><li>'for'</li><li>'all'</li><li>'flash'</li><li>'and'</li><li>'no'</li><li>'substanc'</li><li>'we'</li><li>'don\\'t'</li><li>'know'</li><li>'whi'</li><li>'the'</li><li>'crew'</li><li>'was'</li><li>'realli'</li><li>'out'</li><li>'in'</li><li>'the'</li><li>'middl'</li><li>'of'</li><li>'nowher'</li><li>'we'</li><li>'don\\'t'</li><li>'know'</li><li>'the'</li><li>'origin'</li><li>'of'</li><li>'what'</li><li>'took'</li><li>'over'</li><li>'the'</li><li>'ship'</li><li>'just'</li><li>'that'</li><li>'a'</li><li>'big'</li><li>'pink'</li><li>'flashi'</li><li>'thing'</li><li>'hit'</li><li>'the'</li><li>'mir'</li><li>'and'</li><li>'of'</li><li>'cours'</li><li>'we'</li><li>'don\\'t'</li><li>'know'</li><li>'whi'</li><li>'donald'</li><li>'sutherland'</li><li>'is'</li><li>'stumbl'</li><li>'around'</li><li>'drunken'</li><li>'throughout'</li><li>'here'</li><li>'it'</li><li>'just'</li><li>'hey'</li><li>'let'</li><li>'chase'</li><li>'these'</li><li>'peopl'</li><li>'around'</li><li>'with'</li><li>'some'</li><li>'robot'</li><li>'the'</li><li>'act'</li><li>'is'</li><li>'below'</li><li>'averag'</li><li>'even'</li><li>'from'</li><li>'the'</li><li>'like'</li><li>'of'</li><li>'curti'</li><li>'you\\'r'</li><li>'more'</li><li>'like'</li><li>'to'</li><li>'get'</li><li>'a'</li><li>'kick'</li><li>'out'</li><li>'of'</li><li>'her'</li><li>'work'</li><li>'in'</li><li>'halloween'</li><li>'h20'</li><li>'sutherland'</li><li>'is'</li><li>'wast'</li><li>'and'</li><li>'baldwin'</li><li>'well'</li><li>'he'</li><li>'act'</li><li>'like'</li><li>'a'</li><li>'baldwin'</li><li>'of'</li><li>'cours'</li><li>'the'</li><li>'real'</li><li>'star'</li><li>'here'</li><li>'are'</li><li>'stan'</li><li>'winston'</li><li>'robot'</li><li>'design'</li><li>'some'</li><li>'schnazzi'</li><li>'cgi'</li><li>'and'</li><li>'the'</li><li>'occasion'</li><li>'good'</li><li>'gore'</li><li>'shot'</li><li>'like'</li><li>'pick'</li><li>'into'</li><li>'someon'</li><li>'brain'</li><li>'so'</li><li>'if'</li><li>'robot'</li><li>'and'</li><li>'bodi'</li><li>'part'</li><li>'realli'</li><li>'turn'</li><li>'you'</li><li>'on'</li><li>'here'</li><li>'your'</li><li>'movi'</li><li>'otherwis'</li><li>'it'</li><li>'pretti'</li><li>'much'</li><li>'a'</li><li>'sunken'</li><li>'ship'</li><li>'of'</li><li>'a'</li><li>'movi'</li></ol>\n",
              "</dd>\n",
              "</dl>\n"
            ]
          },
          "metadata": {}
        }
      ]
    },
    {
      "cell_type": "markdown",
      "metadata": {
        "id": "hssduMiwL6dg"
      },
      "source": [
        "Quanteda is focused largely on bag-of-words (or bag-of-tokens or bag-of-terms) models that work from a document-term matrix.\n",
        "\n",
        "For example, you can create a document-term matrix from the movie_tokens object:\n"
      ]
    },
    {
      "cell_type": "code",
      "metadata": {
        "colab": {
          "base_uri": "https://localhost:8080/",
          "height": 34
        },
        "id": "vPvXU6oYL-ce",
        "outputId": "84140adc-86d5-4b20-b514-0bc804d953e5"
      },
      "source": [
        "movie_dfm <- quanteda::dfm(movie_tokens,\n",
        "                              tolower = TRUE # casefold\n",
        ")\n",
        "dim(movie_dfm)"
      ],
      "execution_count": null,
      "outputs": [
        {
          "output_type": "display_data",
          "data": {
            "text/plain": [
              "[1]  2000 48324"
            ],
            "text/latex": "\\begin{enumerate*}\n\\item 2000\n\\item 48324\n\\end{enumerate*}\n",
            "text/markdown": "1. 2000\n2. 48324\n\n\n",
            "text/html": [
              "<style>\n",
              ".list-inline {list-style: none; margin:0; padding: 0}\n",
              ".list-inline>li {display: inline-block}\n",
              ".list-inline>li:not(:last-child)::after {content: \"\\00b7\"; padding: 0 .5ex}\n",
              "</style>\n",
              "<ol class=list-inline><li>2000</li><li>48324</li></ol>\n"
            ]
          },
          "metadata": {}
        }
      ]
    },
    {
      "cell_type": "markdown",
      "metadata": {
        "id": "KZlHkIBVMCF1"
      },
      "source": [
        "You can modify the dfm in a number of ways, such as removing stopwords (`dfm_select`), trimming low frequency documents or terms (`dfm_trim`), weighting features (`dfm_weight` or `dfm_tfidf`), or stemming (`dfm_wordstem`)."
      ]
    },
    {
      "cell_type": "code",
      "metadata": {
        "colab": {
          "base_uri": "https://localhost:8080/",
          "height": 34
        },
        "id": "n8jz1Iy2MH4g",
        "outputId": "a5fc810e-fd0c-4e5f-8bfe-b68ff35a7794"
      },
      "source": [
        "movie_dfm_trim <- movie_dfm %>% quanteda::dfm_trim(min_termfreq=5,min_docfreq=5)\n",
        "dim(movie_dfm_trim)"
      ],
      "execution_count": null,
      "outputs": [
        {
          "output_type": "display_data",
          "data": {
            "text/plain": [
              "[1]  2000 13682"
            ],
            "text/latex": "\\begin{enumerate*}\n\\item 2000\n\\item 13682\n\\end{enumerate*}\n",
            "text/markdown": "1. 2000\n2. 13682\n\n\n",
            "text/html": [
              "<style>\n",
              ".list-inline {list-style: none; margin:0; padding: 0}\n",
              ".list-inline>li {display: inline-block}\n",
              ".list-inline>li:not(:last-child)::after {content: \"\\00b7\"; padding: 0 .5ex}\n",
              "</style>\n",
              "<ol class=list-inline><li>2000</li><li>13682</li></ol>\n"
            ]
          },
          "metadata": {}
        }
      ]
    },
    {
      "cell_type": "markdown",
      "metadata": {
        "id": "RBujodbJML7A"
      },
      "source": [
        "The dfm object can be used for visualization with a word cloud, as input to an unsupervised model like a topic model (e.g., LDA or STM) or a scaling model (e.g., WordFish), as input to a dictionary-based method like Lexicoder/LIWC/VADER sentiment analysis, or as input for a supervised classifier."
      ]
    },
    {
      "cell_type": "markdown",
      "metadata": {
        "id": "GmIlDHzsMRbK"
      },
      "source": [
        "## tm (\"text mining\")\n",
        "\n",
        "The *tm* package is the grand-daddy of text analysis packages in R, predating both quanteda and tidytext. The basic text processing features of tm are very similar to those of quanteda (in fact, quanteda calls many tm functions under the hood) but with different syntax. There is slightly more flexibility in some tm functions, but quanteda does a wide range of things that tm does not."
      ]
    },
    {
      "cell_type": "code",
      "metadata": {
        "colab": {
          "base_uri": "https://localhost:8080/"
        },
        "id": "c8qu10E4MVji",
        "outputId": "0e5e8e8e-2d8b-4582-dec6-8b20c4039cdf"
      },
      "source": [
        "library(tm)"
      ],
      "execution_count": null,
      "outputs": [
        {
          "output_type": "stream",
          "name": "stderr",
          "text": [
            "Loading required package: NLP\n",
            "\n",
            "\n",
            "Attaching package: ‘NLP’\n",
            "\n",
            "\n",
            "The following objects are masked from ‘package:quanteda’:\n",
            "\n",
            "    meta, meta<-\n",
            "\n",
            "\n",
            "\n",
            "Attaching package: ‘tm’\n",
            "\n",
            "\n",
            "The following object is masked from ‘package:quanteda’:\n",
            "\n",
            "    stopwords\n",
            "\n",
            "\n"
          ]
        }
      ]
    },
    {
      "cell_type": "markdown",
      "metadata": {
        "id": "Kq7fDE8EMapI"
      },
      "source": [
        "We can, for example, create a corpus from a vector of texts:"
      ]
    },
    {
      "cell_type": "code",
      "metadata": {
        "colab": {
          "base_uri": "https://localhost:8080/",
          "height": 68
        },
        "id": "I_ZMCfOMMdtj",
        "outputId": "d72a787f-088a-4cfb-d27f-b1549e7857bb"
      },
      "source": [
        "movie_corpus_tm <- VCorpus(VectorSource(as.character(movie_corpus)))\n",
        "movie_corpus_tm"
      ],
      "execution_count": null,
      "outputs": [
        {
          "output_type": "display_data",
          "data": {
            "text/plain": [
              "<<VCorpus>>\n",
              "Metadata:  corpus specific: 0, document level (indexed): 0\n",
              "Content:  documents: 2000"
            ]
          },
          "metadata": {}
        }
      ]
    },
    {
      "cell_type": "markdown",
      "metadata": {
        "id": "UHGhu8LIMjFe"
      },
      "source": [
        "We can associate metadata with each document (in this case transferring from the \"document variables\" of the quanteda corpus object), which are referred to in tm as \"indexed\" metadata:"
      ]
    },
    {
      "cell_type": "code",
      "metadata": {
        "colab": {
          "base_uri": "https://localhost:8080/",
          "height": 68
        },
        "id": "jjGNh0FmMmk1",
        "outputId": "65172eb4-475b-4589-bc69-c3acd883d645"
      },
      "source": [
        "meta(movie_corpus_tm,\"sentiment\") <- quanteda::docvars(movie_corpus,\"sentiment\")\n",
        "meta(movie_corpus_tm,\"id1\") <- quanteda::docvars(movie_corpus,\"id1\")\n",
        "meta(movie_corpus_tm,\"id2\") <- quanteda::docvars(movie_corpus,\"id2\")\n",
        "movie_corpus_tm"
      ],
      "execution_count": null,
      "outputs": [
        {
          "output_type": "display_data",
          "data": {
            "text/plain": [
              "<<VCorpus>>\n",
              "Metadata:  corpus specific: 0, document level (indexed): 3\n",
              "Content:  documents: 2000"
            ]
          },
          "metadata": {}
        }
      ]
    },
    {
      "cell_type": "markdown",
      "metadata": {
        "id": "RAw3_M8NMrTX"
      },
      "source": [
        "You can access documents from the corpus object via the \"content\" attribute:"
      ]
    },
    {
      "cell_type": "code",
      "metadata": {
        "colab": {
          "base_uri": "https://localhost:8080/",
          "height": 544
        },
        "id": "E3BOBohVMvWI",
        "outputId": "ba634453-bb29-4cab-ba4d-4499e531e111"
      },
      "source": [
        "movie_corpus_tm[[1]]$content"
      ],
      "execution_count": null,
      "outputs": [
        {
          "output_type": "display_data",
          "data": {
            "text/plain": [
              "[1] \"plot : two teen couples go to a church party , drink and then drive . \\nthey get into an accident . \\none of the guys dies , but his girlfriend continues to see him in her life , and has nightmares . \\nwhat's the deal ? \\nwatch the movie and \\\" sorta \\\" find out . . . \\ncritique : a mind-fuck movie for the teen generation that touches on a very cool idea , but presents it in a very bad package . \\nwhich is what makes this review an even harder one to write , since i generally applaud films which attempt to break the mold , mess with your head and such ( lost highway & memento ) , but there are good and bad ways of making all types of films , and these folks just didn't snag this one correctly . \\nthey seem to have taken this pretty neat concept , but executed it terribly . \\nso what are the problems with the movie ? \\nwell , its main problem is that it's simply too jumbled . \\nit starts off \\\" normal \\\" but then downshifts into this \\\" fantasy \\\" world in which you , as an audience member , have no idea what's going on . \\nthere are dreams , there are characters coming back from the dead , there are others who look like the dead , there are strange apparitions , there are disappearances , there are a looooot of chase scenes , there are tons of weird things that happen , and most of it is simply not explained . \\nnow i personally don't mind trying to unravel a film every now and then , but when all it does is give me the same clue over and over again , i get kind of fed up after a while , which is this film's biggest problem . \\nit's obviously got this big secret to hide , but it seems to want to hide it completely until its final five minutes . \\nand do they make things entertaining , thrilling or even engaging , in the meantime ? \\nnot really . \\nthe sad part is that the arrow and i both dig on flicks like this , so we actually figured most of it out by the half-way point , so all of the strangeness after that did start to make a little bit of sense , but it still didn't the make the film all that more entertaining . \\ni guess the bottom line with movies like this is that you should always make sure that the audience is \\\" into it \\\" even before they are given the secret password to enter your world of understanding . \\ni mean , showing melissa sagemiller running away from visions for about 20 minutes throughout the movie is just plain lazy ! ! \\nokay , we get it . . . there \\nare people chasing her and we don't know who they are . \\ndo we really need to see it over and over again ? \\nhow about giving us different scenes offering further insight into all of the strangeness going down in the movie ? \\napparently , the studio took this film away from its director and chopped it up themselves , and it shows . \\nthere might've been a pretty decent teen mind-fuck movie in here somewhere , but i guess \\\" the suits \\\" decided that turning it into a music video with little edge , would make more sense . \\nthe actors are pretty good for the most part , although wes bentley just seemed to be playing the exact same character that he did in american beauty , only in a new neighborhood . \\nbut my biggest kudos go out to sagemiller , who holds her own throughout the entire film , and actually has you feeling her character's unraveling . \\noverall , the film doesn't stick because it doesn't entertain , it's confusing , it rarely excites and it feels pretty redundant for most of its runtime , despite a pretty cool ending and explanation to all of the craziness that came before it . \\noh , and by the way , this is not a horror or teen slasher flick . . . it's \\njust packaged to look that way because someone is apparently assuming that the genre is still hot with the kids . \\nit also wrapped production two years ago and has been sitting on the shelves ever since . \\nwhatever . . . skip \\nit ! \\nwhere's joblo coming from ? \\na nightmare of elm street 3 ( 7/10 ) - blair witch 2 ( 7/10 ) - the crow ( 9/10 ) - the crow : salvation ( 4/10 ) - lost highway ( 10/10 ) - memento ( 10/10 ) - the others ( 9/10 ) - stir of echoes ( 8/10 ) \""
            ],
            "text/latex": "'plot : two teen couples go to a church party , drink and then drive . \\textbackslash{}nthey get into an accident . \\textbackslash{}none of the guys dies , but his girlfriend continues to see him in her life , and has nightmares . \\textbackslash{}nwhat\\textbackslash{}'s the deal ? \\textbackslash{}nwatch the movie and \" sorta \" find out . . . \\textbackslash{}ncritique : a mind-fuck movie for the teen generation that touches on a very cool idea , but presents it in a very bad package . \\textbackslash{}nwhich is what makes this review an even harder one to write , since i generally applaud films which attempt to break the mold , mess with your head and such ( lost highway \\& memento ) , but there are good and bad ways of making all types of films , and these folks just didn\\textbackslash{}'t snag this one correctly . \\textbackslash{}nthey seem to have taken this pretty neat concept , but executed it terribly . \\textbackslash{}nso what are the problems with the movie ? \\textbackslash{}nwell , its main problem is that it\\textbackslash{}'s simply too jumbled . \\textbackslash{}nit starts off \" normal \" but then downshifts into this \" fantasy \" world in which you , as an audience member , have no idea what\\textbackslash{}'s going on . \\textbackslash{}nthere are dreams , there are characters coming back from the dead , there are others who look like the dead , there are strange apparitions , there are disappearances , there are a looooot of chase scenes , there are tons of weird things that happen , and most of it is simply not explained . \\textbackslash{}nnow i personally don\\textbackslash{}'t mind trying to unravel a film every now and then , but when all it does is give me the same clue over and over again , i get kind of fed up after a while , which is this film\\textbackslash{}'s biggest problem . \\textbackslash{}nit\\textbackslash{}'s obviously got this big secret to hide , but it seems to want to hide it completely until its final five minutes . \\textbackslash{}nand do they make things entertaining , thrilling or even engaging , in the meantime ? \\textbackslash{}nnot really . \\textbackslash{}nthe sad part is that the arrow and i both dig on flicks like this , so we actually figured most of it out by the half-way point , so all of the strangeness after that did start to make a little bit of sense , but it still didn\\textbackslash{}'t the make the film all that more entertaining . \\textbackslash{}ni guess the bottom line with movies like this is that you should always make sure that the audience is \" into it \" even before they are given the secret password to enter your world of understanding . \\textbackslash{}ni mean , showing melissa sagemiller running away from visions for about 20 minutes throughout the movie is just plain lazy ! ! \\textbackslash{}nokay , we get it . . . there \\textbackslash{}nare people chasing her and we don\\textbackslash{}'t know who they are . \\textbackslash{}ndo we really need to see it over and over again ? \\textbackslash{}nhow about giving us different scenes offering further insight into all of the strangeness going down in the movie ? \\textbackslash{}napparently , the studio took this film away from its director and chopped it up themselves , and it shows . \\textbackslash{}nthere might\\textbackslash{}'ve been a pretty decent teen mind-fuck movie in here somewhere , but i guess \" the suits \" decided that turning it into a music video with little edge , would make more sense . \\textbackslash{}nthe actors are pretty good for the most part , although wes bentley just seemed to be playing the exact same character that he did in american beauty , only in a new neighborhood . \\textbackslash{}nbut my biggest kudos go out to sagemiller , who holds her own throughout the entire film , and actually has you feeling her character\\textbackslash{}'s unraveling . \\textbackslash{}noverall , the film doesn\\textbackslash{}'t stick because it doesn\\textbackslash{}'t entertain , it\\textbackslash{}'s confusing , it rarely excites and it feels pretty redundant for most of its runtime , despite a pretty cool ending and explanation to all of the craziness that came before it . \\textbackslash{}noh , and by the way , this is not a horror or teen slasher flick . . . it\\textbackslash{}'s \\textbackslash{}njust packaged to look that way because someone is apparently assuming that the genre is still hot with the kids . \\textbackslash{}nit also wrapped production two years ago and has been sitting on the shelves ever since . \\textbackslash{}nwhatever . . . skip \\textbackslash{}nit ! \\textbackslash{}nwhere\\textbackslash{}'s joblo coming from ? \\textbackslash{}na nightmare of elm street 3 ( 7/10 ) - blair witch 2 ( 7/10 ) - the crow ( 9/10 ) - the crow : salvation ( 4/10 ) - lost highway ( 10/10 ) - memento ( 10/10 ) - the others ( 9/10 ) - stir of echoes ( 8/10 ) '",
            "text/markdown": "'plot : two teen couples go to a church party , drink and then drive . \\nthey get into an accident . \\none of the guys dies , but his girlfriend continues to see him in her life , and has nightmares . \\nwhat\\'s the deal ? \\nwatch the movie and \" sorta \" find out . . . \\ncritique : a mind-fuck movie for the teen generation that touches on a very cool idea , but presents it in a very bad package . \\nwhich is what makes this review an even harder one to write , since i generally applaud films which attempt to break the mold , mess with your head and such ( lost highway &amp; memento ) , but there are good and bad ways of making all types of films , and these folks just didn\\'t snag this one correctly . \\nthey seem to have taken this pretty neat concept , but executed it terribly . \\nso what are the problems with the movie ? \\nwell , its main problem is that it\\'s simply too jumbled . \\nit starts off \" normal \" but then downshifts into this \" fantasy \" world in which you , as an audience member , have no idea what\\'s going on . \\nthere are dreams , there are characters coming back from the dead , there are others who look like the dead , there are strange apparitions , there are disappearances , there are a looooot of chase scenes , there are tons of weird things that happen , and most of it is simply not explained . \\nnow i personally don\\'t mind trying to unravel a film every now and then , but when all it does is give me the same clue over and over again , i get kind of fed up after a while , which is this film\\'s biggest problem . \\nit\\'s obviously got this big secret to hide , but it seems to want to hide it completely until its final five minutes . \\nand do they make things entertaining , thrilling or even engaging , in the meantime ? \\nnot really . \\nthe sad part is that the arrow and i both dig on flicks like this , so we actually figured most of it out by the half-way point , so all of the strangeness after that did start to make a little bit of sense , but it still didn\\'t the make the film all that more entertaining . \\ni guess the bottom line with movies like this is that you should always make sure that the audience is \" into it \" even before they are given the secret password to enter your world of understanding . \\ni mean , showing melissa sagemiller running away from visions for about 20 minutes throughout the movie is just plain lazy ! ! \\nokay , we get it . . . there \\nare people chasing her and we don\\'t know who they are . \\ndo we really need to see it over and over again ? \\nhow about giving us different scenes offering further insight into all of the strangeness going down in the movie ? \\napparently , the studio took this film away from its director and chopped it up themselves , and it shows . \\nthere might\\'ve been a pretty decent teen mind-fuck movie in here somewhere , but i guess \" the suits \" decided that turning it into a music video with little edge , would make more sense . \\nthe actors are pretty good for the most part , although wes bentley just seemed to be playing the exact same character that he did in american beauty , only in a new neighborhood . \\nbut my biggest kudos go out to sagemiller , who holds her own throughout the entire film , and actually has you feeling her character\\'s unraveling . \\noverall , the film doesn\\'t stick because it doesn\\'t entertain , it\\'s confusing , it rarely excites and it feels pretty redundant for most of its runtime , despite a pretty cool ending and explanation to all of the craziness that came before it . \\noh , and by the way , this is not a horror or teen slasher flick . . . it\\'s \\njust packaged to look that way because someone is apparently assuming that the genre is still hot with the kids . \\nit also wrapped production two years ago and has been sitting on the shelves ever since . \\nwhatever . . . skip \\nit ! \\nwhere\\'s joblo coming from ? \\na nightmare of elm street 3 ( 7/10 ) - blair witch 2 ( 7/10 ) - the crow ( 9/10 ) - the crow : salvation ( 4/10 ) - lost highway ( 10/10 ) - memento ( 10/10 ) - the others ( 9/10 ) - stir of echoes ( 8/10 ) '",
            "text/html": [
              "'plot : two teen couples go to a church party , drink and then drive . \\nthey get into an accident . \\none of the guys dies , but his girlfriend continues to see him in her life , and has nightmares . \\nwhat\\'s the deal ? \\nwatch the movie and \" sorta \" find out . . . \\ncritique : a mind-fuck movie for the teen generation that touches on a very cool idea , but presents it in a very bad package . \\nwhich is what makes this review an even harder one to write , since i generally applaud films which attempt to break the mold , mess with your head and such ( lost highway &amp; memento ) , but there are good and bad ways of making all types of films , and these folks just didn\\'t snag this one correctly . \\nthey seem to have taken this pretty neat concept , but executed it terribly . \\nso what are the problems with the movie ? \\nwell , its main problem is that it\\'s simply too jumbled . \\nit starts off \" normal \" but then downshifts into this \" fantasy \" world in which you , as an audience member , have no idea what\\'s going on . \\nthere are dreams , there are characters coming back from the dead , there are others who look like the dead , there are strange apparitions , there are disappearances , there are a looooot of chase scenes , there are tons of weird things that happen , and most of it is simply not explained . \\nnow i personally don\\'t mind trying to unravel a film every now and then , but when all it does is give me the same clue over and over again , i get kind of fed up after a while , which is this film\\'s biggest problem . \\nit\\'s obviously got this big secret to hide , but it seems to want to hide it completely until its final five minutes . \\nand do they make things entertaining , thrilling or even engaging , in the meantime ? \\nnot really . \\nthe sad part is that the arrow and i both dig on flicks like this , so we actually figured most of it out by the half-way point , so all of the strangeness after that did start to make a little bit of sense , but it still didn\\'t the make the film all that more entertaining . \\ni guess the bottom line with movies like this is that you should always make sure that the audience is \" into it \" even before they are given the secret password to enter your world of understanding . \\ni mean , showing melissa sagemiller running away from visions for about 20 minutes throughout the movie is just plain lazy ! ! \\nokay , we get it . . . there \\nare people chasing her and we don\\'t know who they are . \\ndo we really need to see it over and over again ? \\nhow about giving us different scenes offering further insight into all of the strangeness going down in the movie ? \\napparently , the studio took this film away from its director and chopped it up themselves , and it shows . \\nthere might\\'ve been a pretty decent teen mind-fuck movie in here somewhere , but i guess \" the suits \" decided that turning it into a music video with little edge , would make more sense . \\nthe actors are pretty good for the most part , although wes bentley just seemed to be playing the exact same character that he did in american beauty , only in a new neighborhood . \\nbut my biggest kudos go out to sagemiller , who holds her own throughout the entire film , and actually has you feeling her character\\'s unraveling . \\noverall , the film doesn\\'t stick because it doesn\\'t entertain , it\\'s confusing , it rarely excites and it feels pretty redundant for most of its runtime , despite a pretty cool ending and explanation to all of the craziness that came before it . \\noh , and by the way , this is not a horror or teen slasher flick . . . it\\'s \\njust packaged to look that way because someone is apparently assuming that the genre is still hot with the kids . \\nit also wrapped production two years ago and has been sitting on the shelves ever since . \\nwhatever . . . skip \\nit ! \\nwhere\\'s joblo coming from ? \\na nightmare of elm street 3 ( 7/10 ) - blair witch 2 ( 7/10 ) - the crow ( 9/10 ) - the crow : salvation ( 4/10 ) - lost highway ( 10/10 ) - memento ( 10/10 ) - the others ( 9/10 ) - stir of echoes ( 8/10 ) '"
            ]
          },
          "metadata": {}
        }
      ]
    },
    {
      "cell_type": "markdown",
      "metadata": {
        "id": "DDBTLY0rMztY"
      },
      "source": [
        "You can also create a dtm with the tm package:"
      ]
    },
    {
      "cell_type": "code",
      "metadata": {
        "colab": {
          "base_uri": "https://localhost:8080/"
        },
        "id": "7eaCRQNDM27H",
        "outputId": "dd45c5c8-221c-4a30-84ef-441a959e7155"
      },
      "source": [
        "movie_dtm_tm <- tm::DocumentTermMatrix(movie_corpus_tm)\n",
        "tm::inspect(movie_dtm_tm)"
      ],
      "execution_count": null,
      "outputs": [
        {
          "output_type": "stream",
          "name": "stdout",
          "text": [
            "<<DocumentTermMatrix (documents: 2000, terms: 49854)>>\n",
            "Non-/sparse entries: 634004/99073996\n",
            "Sparsity           : 99%\n",
            "Maximal term length: 79\n",
            "Weighting          : term frequency (tf)\n",
            "Sample             :\n",
            "      Terms\n",
            "Docs   and are but film for his that the this with\n",
            "  108   43   7   8   16  15   2   20 112   10   14\n",
            "  1147  61   7  14   24  10  14   15 143   19    8\n",
            "  1257  35   7  25   11  19  17   21  92    8   15\n",
            "  1513  64  10  18   12   7  24   33 116   11   24\n",
            "  1553  63  12  10   21  10  34   12 140    9   20\n",
            "  1598  58  25  11   39  16   6   34 179   12   11\n",
            "  1639  61   8   8    3  20  11   25 115   21   12\n",
            "  1766  59   7  19   27  20  14   30 177   14    8\n",
            "  1947  71   5  16   28   6  12   20 160    8   19\n",
            "  733   52  17   7    6  12   2   24 175    8    8\n"
          ]
        }
      ]
    },
    {
      "cell_type": "markdown",
      "metadata": {
        "id": "Von4d_9oM-CS"
      },
      "source": [
        "The NLP operations we're focused on here are all applied through the `tm_map` function which applies a \"transformation\" to all documents in a corpus. There are predefined transformations for stemming, word filtering (like stopword removal), removal of numbers and punctuation, and stripping of whitespace -- a list is provided by `getTransformations()`:"
      ]
    },
    {
      "cell_type": "code",
      "metadata": {
        "colab": {
          "base_uri": "https://localhost:8080/",
          "height": 34
        },
        "id": "6hrDlsS8NCEQ",
        "outputId": "a611ff67-01ca-4da4-c0e9-b91255c86805"
      },
      "source": [
        "tm::getTransformations()"
      ],
      "execution_count": null,
      "outputs": [
        {
          "output_type": "display_data",
          "data": {
            "text/plain": [
              "[1] \"removeNumbers\"     \"removePunctuation\" \"removeWords\"      \n",
              "[4] \"stemDocument\"      \"stripWhitespace\"  "
            ],
            "text/latex": "\\begin{enumerate*}\n\\item 'removeNumbers'\n\\item 'removePunctuation'\n\\item 'removeWords'\n\\item 'stemDocument'\n\\item 'stripWhitespace'\n\\end{enumerate*}\n",
            "text/markdown": "1. 'removeNumbers'\n2. 'removePunctuation'\n3. 'removeWords'\n4. 'stemDocument'\n5. 'stripWhitespace'\n\n\n",
            "text/html": [
              "<style>\n",
              ".list-inline {list-style: none; margin:0; padding: 0}\n",
              ".list-inline>li {display: inline-block}\n",
              ".list-inline>li:not(:last-child)::after {content: \"\\00b7\"; padding: 0 .5ex}\n",
              "</style>\n",
              "<ol class=list-inline><li>'removeNumbers'</li><li>'removePunctuation'</li><li>'removeWords'</li><li>'stemDocument'</li><li>'stripWhitespace'</li></ol>\n"
            ]
          },
          "metadata": {}
        }
      ]
    },
    {
      "cell_type": "markdown",
      "metadata": {
        "id": "E-SbfxUxNJqI"
      },
      "source": [
        "Like with quanteda, tm's `stemDocument` also just calls the SnowballC `wordStem` function:"
      ]
    },
    {
      "cell_type": "code",
      "metadata": {
        "colab": {
          "base_uri": "https://localhost:8080/",
          "height": 493
        },
        "id": "ILsIQw7gNKo9",
        "outputId": "e00cb9ed-6b96-480f-e87f-d2458440abed"
      },
      "source": [
        "tm::tm_map(movie_corpus_tm,tm::stemDocument)[[1]]$content"
      ],
      "execution_count": null,
      "outputs": [
        {
          "output_type": "display_data",
          "data": {
            "text/plain": [
              "[1] \"plot : two teen coupl go to a church parti , drink and then drive . they get into an accid . one of the guy die , but his girlfriend continu to see him in her life , and has nightmar . what the deal ? watch the movi and \\\" sorta \\\" find out . . . critiqu : a mind-fuck movi for the teen generat that touch on a veri cool idea , but present it in a veri bad packag . which is what make this review an even harder one to write , sinc i general applaud film which attempt to break the mold , mess with your head and such ( lost highway & memento ) , but there are good and bad way of make all type of film , and these folk just didn't snag this one correct . they seem to have taken this pretti neat concept , but execut it terribl . so what are the problem with the movi ? well , it main problem is that it simpli too jumbl . it start off \\\" normal \\\" but then downshift into this \\\" fantasi \\\" world in which you , as an audienc member , have no idea what go on . there are dream , there are charact come back from the dead , there are other who look like the dead , there are strang apparit , there are disappear , there are a looooot of chase scene , there are ton of weird thing that happen , and most of it is simpli not explain . now i person don't mind tri to unravel a film everi now and then , but when all it doe is give me the same clue over and over again , i get kind of fed up after a while , which is this film biggest problem . it obvious got this big secret to hide , but it seem to want to hide it complet until it final five minut . and do they make thing entertain , thrill or even engag , in the meantim ? not realli . the sad part is that the arrow and i both dig on flick like this , so we actual figur most of it out by the half-way point , so all of the strang after that did start to make a littl bit of sens , but it still didn't the make the film all that more entertain . i guess the bottom line with movi like this is that you should alway make sure that the audienc is \\\" into it \\\" even befor they are given the secret password to enter your world of understand . i mean , show melissa sagemil run away from vision for about 20 minut throughout the movi is just plain lazi ! ! okay , we get it . . . there are peopl chase her and we don't know who they are . do we realli need to see it over and over again ? how about give us differ scene offer further insight into all of the strang go down in the movi ? appar , the studio took this film away from it director and chop it up themselv , and it show . there might'v been a pretti decent teen mind-fuck movi in here somewher , but i guess \\\" the suit \\\" decid that turn it into a music video with littl edg , would make more sens . the actor are pretti good for the most part , although wes bentley just seem to be play the exact same charact that he did in american beauti , onli in a new neighborhood . but my biggest kudo go out to sagemil , who hold her own throughout the entir film , and actual has you feel her charact unravel . overal , the film doesn't stick becaus it doesn't entertain , it confus , it rare excit and it feel pretti redund for most of it runtim , despit a pretti cool end and explan to all of the crazi that came befor it . oh , and by the way , this is not a horror or teen slasher flick . . . it just packag to look that way becaus someon is appar assum that the genr is still hot with the kid . it also wrap product two year ago and has been sit on the shelv ever sinc . whatev . . . skip it ! where joblo come from ? a nightmar of elm street 3 ( 7/10 ) - blair witch 2 ( 7/10 ) - the crow ( 9/10 ) - the crow : salvat ( 4/10 ) - lost highway ( 10/10 ) - memento ( 10/10 ) - the other ( 9/10 ) - stir of echo ( 8/10 )\""
            ],
            "text/latex": "'plot : two teen coupl go to a church parti , drink and then drive . they get into an accid . one of the guy die , but his girlfriend continu to see him in her life , and has nightmar . what the deal ? watch the movi and \" sorta \" find out . . . critiqu : a mind-fuck movi for the teen generat that touch on a veri cool idea , but present it in a veri bad packag . which is what make this review an even harder one to write , sinc i general applaud film which attempt to break the mold , mess with your head and such ( lost highway \\& memento ) , but there are good and bad way of make all type of film , and these folk just didn\\textbackslash{}'t snag this one correct . they seem to have taken this pretti neat concept , but execut it terribl . so what are the problem with the movi ? well , it main problem is that it simpli too jumbl . it start off \" normal \" but then downshift into this \" fantasi \" world in which you , as an audienc member , have no idea what go on . there are dream , there are charact come back from the dead , there are other who look like the dead , there are strang apparit , there are disappear , there are a looooot of chase scene , there are ton of weird thing that happen , and most of it is simpli not explain . now i person don\\textbackslash{}'t mind tri to unravel a film everi now and then , but when all it doe is give me the same clue over and over again , i get kind of fed up after a while , which is this film biggest problem . it obvious got this big secret to hide , but it seem to want to hide it complet until it final five minut . and do they make thing entertain , thrill or even engag , in the meantim ? not realli . the sad part is that the arrow and i both dig on flick like this , so we actual figur most of it out by the half-way point , so all of the strang after that did start to make a littl bit of sens , but it still didn\\textbackslash{}'t the make the film all that more entertain . i guess the bottom line with movi like this is that you should alway make sure that the audienc is \" into it \" even befor they are given the secret password to enter your world of understand . i mean , show melissa sagemil run away from vision for about 20 minut throughout the movi is just plain lazi ! ! okay , we get it . . . there are peopl chase her and we don\\textbackslash{}'t know who they are . do we realli need to see it over and over again ? how about give us differ scene offer further insight into all of the strang go down in the movi ? appar , the studio took this film away from it director and chop it up themselv , and it show . there might\\textbackslash{}'v been a pretti decent teen mind-fuck movi in here somewher , but i guess \" the suit \" decid that turn it into a music video with littl edg , would make more sens . the actor are pretti good for the most part , although wes bentley just seem to be play the exact same charact that he did in american beauti , onli in a new neighborhood . but my biggest kudo go out to sagemil , who hold her own throughout the entir film , and actual has you feel her charact unravel . overal , the film doesn\\textbackslash{}'t stick becaus it doesn\\textbackslash{}'t entertain , it confus , it rare excit and it feel pretti redund for most of it runtim , despit a pretti cool end and explan to all of the crazi that came befor it . oh , and by the way , this is not a horror or teen slasher flick . . . it just packag to look that way becaus someon is appar assum that the genr is still hot with the kid . it also wrap product two year ago and has been sit on the shelv ever sinc . whatev . . . skip it ! where joblo come from ? a nightmar of elm street 3 ( 7/10 ) - blair witch 2 ( 7/10 ) - the crow ( 9/10 ) - the crow : salvat ( 4/10 ) - lost highway ( 10/10 ) - memento ( 10/10 ) - the other ( 9/10 ) - stir of echo ( 8/10 )'",
            "text/markdown": "'plot : two teen coupl go to a church parti , drink and then drive . they get into an accid . one of the guy die , but his girlfriend continu to see him in her life , and has nightmar . what the deal ? watch the movi and \" sorta \" find out . . . critiqu : a mind-fuck movi for the teen generat that touch on a veri cool idea , but present it in a veri bad packag . which is what make this review an even harder one to write , sinc i general applaud film which attempt to break the mold , mess with your head and such ( lost highway &amp; memento ) , but there are good and bad way of make all type of film , and these folk just didn\\'t snag this one correct . they seem to have taken this pretti neat concept , but execut it terribl . so what are the problem with the movi ? well , it main problem is that it simpli too jumbl . it start off \" normal \" but then downshift into this \" fantasi \" world in which you , as an audienc member , have no idea what go on . there are dream , there are charact come back from the dead , there are other who look like the dead , there are strang apparit , there are disappear , there are a looooot of chase scene , there are ton of weird thing that happen , and most of it is simpli not explain . now i person don\\'t mind tri to unravel a film everi now and then , but when all it doe is give me the same clue over and over again , i get kind of fed up after a while , which is this film biggest problem . it obvious got this big secret to hide , but it seem to want to hide it complet until it final five minut . and do they make thing entertain , thrill or even engag , in the meantim ? not realli . the sad part is that the arrow and i both dig on flick like this , so we actual figur most of it out by the half-way point , so all of the strang after that did start to make a littl bit of sens , but it still didn\\'t the make the film all that more entertain . i guess the bottom line with movi like this is that you should alway make sure that the audienc is \" into it \" even befor they are given the secret password to enter your world of understand . i mean , show melissa sagemil run away from vision for about 20 minut throughout the movi is just plain lazi ! ! okay , we get it . . . there are peopl chase her and we don\\'t know who they are . do we realli need to see it over and over again ? how about give us differ scene offer further insight into all of the strang go down in the movi ? appar , the studio took this film away from it director and chop it up themselv , and it show . there might\\'v been a pretti decent teen mind-fuck movi in here somewher , but i guess \" the suit \" decid that turn it into a music video with littl edg , would make more sens . the actor are pretti good for the most part , although wes bentley just seem to be play the exact same charact that he did in american beauti , onli in a new neighborhood . but my biggest kudo go out to sagemil , who hold her own throughout the entir film , and actual has you feel her charact unravel . overal , the film doesn\\'t stick becaus it doesn\\'t entertain , it confus , it rare excit and it feel pretti redund for most of it runtim , despit a pretti cool end and explan to all of the crazi that came befor it . oh , and by the way , this is not a horror or teen slasher flick . . . it just packag to look that way becaus someon is appar assum that the genr is still hot with the kid . it also wrap product two year ago and has been sit on the shelv ever sinc . whatev . . . skip it ! where joblo come from ? a nightmar of elm street 3 ( 7/10 ) - blair witch 2 ( 7/10 ) - the crow ( 9/10 ) - the crow : salvat ( 4/10 ) - lost highway ( 10/10 ) - memento ( 10/10 ) - the other ( 9/10 ) - stir of echo ( 8/10 )'",
            "text/html": [
              "'plot : two teen coupl go to a church parti , drink and then drive . they get into an accid . one of the guy die , but his girlfriend continu to see him in her life , and has nightmar . what the deal ? watch the movi and \" sorta \" find out . . . critiqu : a mind-fuck movi for the teen generat that touch on a veri cool idea , but present it in a veri bad packag . which is what make this review an even harder one to write , sinc i general applaud film which attempt to break the mold , mess with your head and such ( lost highway &amp; memento ) , but there are good and bad way of make all type of film , and these folk just didn\\'t snag this one correct . they seem to have taken this pretti neat concept , but execut it terribl . so what are the problem with the movi ? well , it main problem is that it simpli too jumbl . it start off \" normal \" but then downshift into this \" fantasi \" world in which you , as an audienc member , have no idea what go on . there are dream , there are charact come back from the dead , there are other who look like the dead , there are strang apparit , there are disappear , there are a looooot of chase scene , there are ton of weird thing that happen , and most of it is simpli not explain . now i person don\\'t mind tri to unravel a film everi now and then , but when all it doe is give me the same clue over and over again , i get kind of fed up after a while , which is this film biggest problem . it obvious got this big secret to hide , but it seem to want to hide it complet until it final five minut . and do they make thing entertain , thrill or even engag , in the meantim ? not realli . the sad part is that the arrow and i both dig on flick like this , so we actual figur most of it out by the half-way point , so all of the strang after that did start to make a littl bit of sens , but it still didn\\'t the make the film all that more entertain . i guess the bottom line with movi like this is that you should alway make sure that the audienc is \" into it \" even befor they are given the secret password to enter your world of understand . i mean , show melissa sagemil run away from vision for about 20 minut throughout the movi is just plain lazi ! ! okay , we get it . . . there are peopl chase her and we don\\'t know who they are . do we realli need to see it over and over again ? how about give us differ scene offer further insight into all of the strang go down in the movi ? appar , the studio took this film away from it director and chop it up themselv , and it show . there might\\'v been a pretti decent teen mind-fuck movi in here somewher , but i guess \" the suit \" decid that turn it into a music video with littl edg , would make more sens . the actor are pretti good for the most part , although wes bentley just seem to be play the exact same charact that he did in american beauti , onli in a new neighborhood . but my biggest kudo go out to sagemil , who hold her own throughout the entir film , and actual has you feel her charact unravel . overal , the film doesn\\'t stick becaus it doesn\\'t entertain , it confus , it rare excit and it feel pretti redund for most of it runtim , despit a pretti cool end and explan to all of the crazi that came befor it . oh , and by the way , this is not a horror or teen slasher flick . . . it just packag to look that way becaus someon is appar assum that the genr is still hot with the kid . it also wrap product two year ago and has been sit on the shelv ever sinc . whatev . . . skip it ! where joblo come from ? a nightmar of elm street 3 ( 7/10 ) - blair witch 2 ( 7/10 ) - the crow ( 9/10 ) - the crow : salvat ( 4/10 ) - lost highway ( 10/10 ) - memento ( 10/10 ) - the other ( 9/10 ) - stir of echo ( 8/10 )'"
            ]
          },
          "metadata": {}
        }
      ]
    },
    {
      "cell_type": "markdown",
      "metadata": {
        "id": "oDXnrVf9NPvn"
      },
      "source": [
        "(The transformations are themselves functions that can be applied directly to a document or vector of documents.)"
      ]
    },
    {
      "cell_type": "code",
      "metadata": {
        "colab": {
          "base_uri": "https://localhost:8080/",
          "height": 493
        },
        "id": "TLj7LNdyNT0a",
        "outputId": "ed2fd44d-6e84-432b-a104-d1225373d867"
      },
      "source": [
        "tm::stemDocument(movie_corpus_tm[[1]]$content)"
      ],
      "execution_count": null,
      "outputs": [
        {
          "output_type": "display_data",
          "data": {
            "text/plain": [
              "[1] \"plot : two teen coupl go to a church parti , drink and then drive . they get into an accid . one of the guy die , but his girlfriend continu to see him in her life , and has nightmar . what the deal ? watch the movi and \\\" sorta \\\" find out . . . critiqu : a mind-fuck movi for the teen generat that touch on a veri cool idea , but present it in a veri bad packag . which is what make this review an even harder one to write , sinc i general applaud film which attempt to break the mold , mess with your head and such ( lost highway & memento ) , but there are good and bad way of make all type of film , and these folk just didn't snag this one correct . they seem to have taken this pretti neat concept , but execut it terribl . so what are the problem with the movi ? well , it main problem is that it simpli too jumbl . it start off \\\" normal \\\" but then downshift into this \\\" fantasi \\\" world in which you , as an audienc member , have no idea what go on . there are dream , there are charact come back from the dead , there are other who look like the dead , there are strang apparit , there are disappear , there are a looooot of chase scene , there are ton of weird thing that happen , and most of it is simpli not explain . now i person don't mind tri to unravel a film everi now and then , but when all it doe is give me the same clue over and over again , i get kind of fed up after a while , which is this film biggest problem . it obvious got this big secret to hide , but it seem to want to hide it complet until it final five minut . and do they make thing entertain , thrill or even engag , in the meantim ? not realli . the sad part is that the arrow and i both dig on flick like this , so we actual figur most of it out by the half-way point , so all of the strang after that did start to make a littl bit of sens , but it still didn't the make the film all that more entertain . i guess the bottom line with movi like this is that you should alway make sure that the audienc is \\\" into it \\\" even befor they are given the secret password to enter your world of understand . i mean , show melissa sagemil run away from vision for about 20 minut throughout the movi is just plain lazi ! ! okay , we get it . . . there are peopl chase her and we don't know who they are . do we realli need to see it over and over again ? how about give us differ scene offer further insight into all of the strang go down in the movi ? appar , the studio took this film away from it director and chop it up themselv , and it show . there might'v been a pretti decent teen mind-fuck movi in here somewher , but i guess \\\" the suit \\\" decid that turn it into a music video with littl edg , would make more sens . the actor are pretti good for the most part , although wes bentley just seem to be play the exact same charact that he did in american beauti , onli in a new neighborhood . but my biggest kudo go out to sagemil , who hold her own throughout the entir film , and actual has you feel her charact unravel . overal , the film doesn't stick becaus it doesn't entertain , it confus , it rare excit and it feel pretti redund for most of it runtim , despit a pretti cool end and explan to all of the crazi that came befor it . oh , and by the way , this is not a horror or teen slasher flick . . . it just packag to look that way becaus someon is appar assum that the genr is still hot with the kid . it also wrap product two year ago and has been sit on the shelv ever sinc . whatev . . . skip it ! where joblo come from ? a nightmar of elm street 3 ( 7/10 ) - blair witch 2 ( 7/10 ) - the crow ( 9/10 ) - the crow : salvat ( 4/10 ) - lost highway ( 10/10 ) - memento ( 10/10 ) - the other ( 9/10 ) - stir of echo ( 8/10 )\""
            ],
            "text/latex": "'plot : two teen coupl go to a church parti , drink and then drive . they get into an accid . one of the guy die , but his girlfriend continu to see him in her life , and has nightmar . what the deal ? watch the movi and \" sorta \" find out . . . critiqu : a mind-fuck movi for the teen generat that touch on a veri cool idea , but present it in a veri bad packag . which is what make this review an even harder one to write , sinc i general applaud film which attempt to break the mold , mess with your head and such ( lost highway \\& memento ) , but there are good and bad way of make all type of film , and these folk just didn\\textbackslash{}'t snag this one correct . they seem to have taken this pretti neat concept , but execut it terribl . so what are the problem with the movi ? well , it main problem is that it simpli too jumbl . it start off \" normal \" but then downshift into this \" fantasi \" world in which you , as an audienc member , have no idea what go on . there are dream , there are charact come back from the dead , there are other who look like the dead , there are strang apparit , there are disappear , there are a looooot of chase scene , there are ton of weird thing that happen , and most of it is simpli not explain . now i person don\\textbackslash{}'t mind tri to unravel a film everi now and then , but when all it doe is give me the same clue over and over again , i get kind of fed up after a while , which is this film biggest problem . it obvious got this big secret to hide , but it seem to want to hide it complet until it final five minut . and do they make thing entertain , thrill or even engag , in the meantim ? not realli . the sad part is that the arrow and i both dig on flick like this , so we actual figur most of it out by the half-way point , so all of the strang after that did start to make a littl bit of sens , but it still didn\\textbackslash{}'t the make the film all that more entertain . i guess the bottom line with movi like this is that you should alway make sure that the audienc is \" into it \" even befor they are given the secret password to enter your world of understand . i mean , show melissa sagemil run away from vision for about 20 minut throughout the movi is just plain lazi ! ! okay , we get it . . . there are peopl chase her and we don\\textbackslash{}'t know who they are . do we realli need to see it over and over again ? how about give us differ scene offer further insight into all of the strang go down in the movi ? appar , the studio took this film away from it director and chop it up themselv , and it show . there might\\textbackslash{}'v been a pretti decent teen mind-fuck movi in here somewher , but i guess \" the suit \" decid that turn it into a music video with littl edg , would make more sens . the actor are pretti good for the most part , although wes bentley just seem to be play the exact same charact that he did in american beauti , onli in a new neighborhood . but my biggest kudo go out to sagemil , who hold her own throughout the entir film , and actual has you feel her charact unravel . overal , the film doesn\\textbackslash{}'t stick becaus it doesn\\textbackslash{}'t entertain , it confus , it rare excit and it feel pretti redund for most of it runtim , despit a pretti cool end and explan to all of the crazi that came befor it . oh , and by the way , this is not a horror or teen slasher flick . . . it just packag to look that way becaus someon is appar assum that the genr is still hot with the kid . it also wrap product two year ago and has been sit on the shelv ever sinc . whatev . . . skip it ! where joblo come from ? a nightmar of elm street 3 ( 7/10 ) - blair witch 2 ( 7/10 ) - the crow ( 9/10 ) - the crow : salvat ( 4/10 ) - lost highway ( 10/10 ) - memento ( 10/10 ) - the other ( 9/10 ) - stir of echo ( 8/10 )'",
            "text/markdown": "'plot : two teen coupl go to a church parti , drink and then drive . they get into an accid . one of the guy die , but his girlfriend continu to see him in her life , and has nightmar . what the deal ? watch the movi and \" sorta \" find out . . . critiqu : a mind-fuck movi for the teen generat that touch on a veri cool idea , but present it in a veri bad packag . which is what make this review an even harder one to write , sinc i general applaud film which attempt to break the mold , mess with your head and such ( lost highway &amp; memento ) , but there are good and bad way of make all type of film , and these folk just didn\\'t snag this one correct . they seem to have taken this pretti neat concept , but execut it terribl . so what are the problem with the movi ? well , it main problem is that it simpli too jumbl . it start off \" normal \" but then downshift into this \" fantasi \" world in which you , as an audienc member , have no idea what go on . there are dream , there are charact come back from the dead , there are other who look like the dead , there are strang apparit , there are disappear , there are a looooot of chase scene , there are ton of weird thing that happen , and most of it is simpli not explain . now i person don\\'t mind tri to unravel a film everi now and then , but when all it doe is give me the same clue over and over again , i get kind of fed up after a while , which is this film biggest problem . it obvious got this big secret to hide , but it seem to want to hide it complet until it final five minut . and do they make thing entertain , thrill or even engag , in the meantim ? not realli . the sad part is that the arrow and i both dig on flick like this , so we actual figur most of it out by the half-way point , so all of the strang after that did start to make a littl bit of sens , but it still didn\\'t the make the film all that more entertain . i guess the bottom line with movi like this is that you should alway make sure that the audienc is \" into it \" even befor they are given the secret password to enter your world of understand . i mean , show melissa sagemil run away from vision for about 20 minut throughout the movi is just plain lazi ! ! okay , we get it . . . there are peopl chase her and we don\\'t know who they are . do we realli need to see it over and over again ? how about give us differ scene offer further insight into all of the strang go down in the movi ? appar , the studio took this film away from it director and chop it up themselv , and it show . there might\\'v been a pretti decent teen mind-fuck movi in here somewher , but i guess \" the suit \" decid that turn it into a music video with littl edg , would make more sens . the actor are pretti good for the most part , although wes bentley just seem to be play the exact same charact that he did in american beauti , onli in a new neighborhood . but my biggest kudo go out to sagemil , who hold her own throughout the entir film , and actual has you feel her charact unravel . overal , the film doesn\\'t stick becaus it doesn\\'t entertain , it confus , it rare excit and it feel pretti redund for most of it runtim , despit a pretti cool end and explan to all of the crazi that came befor it . oh , and by the way , this is not a horror or teen slasher flick . . . it just packag to look that way becaus someon is appar assum that the genr is still hot with the kid . it also wrap product two year ago and has been sit on the shelv ever sinc . whatev . . . skip it ! where joblo come from ? a nightmar of elm street 3 ( 7/10 ) - blair witch 2 ( 7/10 ) - the crow ( 9/10 ) - the crow : salvat ( 4/10 ) - lost highway ( 10/10 ) - memento ( 10/10 ) - the other ( 9/10 ) - stir of echo ( 8/10 )'",
            "text/html": [
              "'plot : two teen coupl go to a church parti , drink and then drive . they get into an accid . one of the guy die , but his girlfriend continu to see him in her life , and has nightmar . what the deal ? watch the movi and \" sorta \" find out . . . critiqu : a mind-fuck movi for the teen generat that touch on a veri cool idea , but present it in a veri bad packag . which is what make this review an even harder one to write , sinc i general applaud film which attempt to break the mold , mess with your head and such ( lost highway &amp; memento ) , but there are good and bad way of make all type of film , and these folk just didn\\'t snag this one correct . they seem to have taken this pretti neat concept , but execut it terribl . so what are the problem with the movi ? well , it main problem is that it simpli too jumbl . it start off \" normal \" but then downshift into this \" fantasi \" world in which you , as an audienc member , have no idea what go on . there are dream , there are charact come back from the dead , there are other who look like the dead , there are strang apparit , there are disappear , there are a looooot of chase scene , there are ton of weird thing that happen , and most of it is simpli not explain . now i person don\\'t mind tri to unravel a film everi now and then , but when all it doe is give me the same clue over and over again , i get kind of fed up after a while , which is this film biggest problem . it obvious got this big secret to hide , but it seem to want to hide it complet until it final five minut . and do they make thing entertain , thrill or even engag , in the meantim ? not realli . the sad part is that the arrow and i both dig on flick like this , so we actual figur most of it out by the half-way point , so all of the strang after that did start to make a littl bit of sens , but it still didn\\'t the make the film all that more entertain . i guess the bottom line with movi like this is that you should alway make sure that the audienc is \" into it \" even befor they are given the secret password to enter your world of understand . i mean , show melissa sagemil run away from vision for about 20 minut throughout the movi is just plain lazi ! ! okay , we get it . . . there are peopl chase her and we don\\'t know who they are . do we realli need to see it over and over again ? how about give us differ scene offer further insight into all of the strang go down in the movi ? appar , the studio took this film away from it director and chop it up themselv , and it show . there might\\'v been a pretti decent teen mind-fuck movi in here somewher , but i guess \" the suit \" decid that turn it into a music video with littl edg , would make more sens . the actor are pretti good for the most part , although wes bentley just seem to be play the exact same charact that he did in american beauti , onli in a new neighborhood . but my biggest kudo go out to sagemil , who hold her own throughout the entir film , and actual has you feel her charact unravel . overal , the film doesn\\'t stick becaus it doesn\\'t entertain , it confus , it rare excit and it feel pretti redund for most of it runtim , despit a pretti cool end and explan to all of the crazi that came befor it . oh , and by the way , this is not a horror or teen slasher flick . . . it just packag to look that way becaus someon is appar assum that the genr is still hot with the kid . it also wrap product two year ago and has been sit on the shelv ever sinc . whatev . . . skip it ! where joblo come from ? a nightmar of elm street 3 ( 7/10 ) - blair witch 2 ( 7/10 ) - the crow ( 9/10 ) - the crow : salvat ( 4/10 ) - lost highway ( 10/10 ) - memento ( 10/10 ) - the other ( 9/10 ) - stir of echo ( 8/10 )'"
            ]
          },
          "metadata": {}
        }
      ]
    },
    {
      "cell_type": "markdown",
      "metadata": {
        "id": "8lGlEz2zNd6L"
      },
      "source": [
        "Stopword removal involves passing the `removeWords` function to `tm_map` and a list of words to remove, which can be obtained from the `stopwords` function."
      ]
    },
    {
      "cell_type": "code",
      "metadata": {
        "colab": {
          "base_uri": "https://localhost:8080/",
          "height": 391
        },
        "id": "fGtT7wUgNfHK",
        "outputId": "d5c4f4b3-9a88-420d-ae38-9e3708eb30f9"
      },
      "source": [
        "tm::tm_map(movie_corpus_tm,tm::removeWords,tm::stopwords(kind=\"en\"))[[1]]$content"
      ],
      "execution_count": null,
      "outputs": [
        {
          "output_type": "display_data",
          "data": {
            "text/plain": [
              "[1] \"plot : two teen couples go   church party , drink   drive . \\n get   accident . \\none   guys dies ,   girlfriend continues  see    life ,   nightmares . \\n  deal ? \\nwatch  movie  \\\" sorta \\\" find  . . . \\ncritique :  mind-fuck movie   teen generation  touches    cool idea ,  presents     bad package . \\n   makes  review  even harder one  write , since  generally applaud films  attempt  break  mold , mess   head   ( lost highway & memento ) ,    good  bad ways  making  types  films ,   folks just  snag  one correctly . \\n seem   taken  pretty neat concept ,  executed  terribly . \\n    problems   movie ? \\nwell ,  main problem    simply  jumbled . \\n starts  \\\" normal \\\"   downshifts   \\\" fantasy \\\" world    ,   audience member ,   idea  going  . \\n  dreams ,   characters coming back   dead ,   others  look like  dead ,   strange apparitions ,   disappearances ,    looooot  chase scenes ,   tons  weird things  happen ,      simply  explained . \\nnow  personally  mind trying  unravel  film every now   ,       give    clue     ,  get kind  fed     ,    film's biggest problem . \\n obviously got  big secret  hide ,   seems  want  hide  completely   final five minutes . \\n   make things entertaining , thrilling  even engaging ,   meantime ? \\n really . \\n sad part    arrow    dig  flicks like  ,   actually figured       half-way point ,     strangeness    start  make  little bit  sense ,   still   make  film    entertaining . \\n guess  bottom line  movies like      always make sure   audience  \\\"   \\\" even    given  secret password  enter  world  understanding . \\n mean , showing melissa sagemiller running away  visions   20 minutes throughout  movie  just plain lazy ! ! \\nokay ,  get  . . .  \\n people chasing     know    . \\n  really need  see      ? \\n  giving us different scenes offering  insight     strangeness going    movie ? \\napparently ,  studio took  film away   director  chopped    ,   shows . \\n might've   pretty decent teen mind-fuck movie   somewhere ,   guess \\\"  suits \\\" decided  turning    music video  little edge ,  make  sense . \\n actors  pretty good    part , although wes bentley just seemed   playing  exact  character     american beauty ,    new neighborhood . \\n  biggest kudos go   sagemiller ,  holds   throughout  entire film ,  actually   feeling  character's unraveling . \\noverall ,  film  stick    entertain ,  confusing ,  rarely excites   feels pretty redundant     runtime , despite  pretty cool ending  explanation     craziness  came   . \\noh ,    way ,     horror  teen slasher flick . . .  \\njust packaged  look  way  someone  apparently assuming   genre  still hot   kids . \\n also wrapped production two years ago    sitting   shelves ever since . \\nwhatever . . . skip \\n ! \\n joblo coming  ? \\n nightmare  elm street 3 ( 7/10 ) - blair witch 2 ( 7/10 ) -  crow ( 9/10 ) -  crow : salvation ( 4/10 ) - lost highway ( 10/10 ) - memento ( 10/10 ) -  others ( 9/10 ) - stir  echoes ( 8/10 ) \""
            ],
            "text/latex": "'plot : two teen couples go   church party , drink   drive . \\textbackslash{}n get   accident . \\textbackslash{}none   guys dies ,   girlfriend continues  see    life ,   nightmares . \\textbackslash{}n  deal ? \\textbackslash{}nwatch  movie  \" sorta \" find  . . . \\textbackslash{}ncritique :  mind-fuck movie   teen generation  touches    cool idea ,  presents     bad package . \\textbackslash{}n   makes  review  even harder one  write , since  generally applaud films  attempt  break  mold , mess   head   ( lost highway \\& memento ) ,    good  bad ways  making  types  films ,   folks just  snag  one correctly . \\textbackslash{}n seem   taken  pretty neat concept ,  executed  terribly . \\textbackslash{}n    problems   movie ? \\textbackslash{}nwell ,  main problem    simply  jumbled . \\textbackslash{}n starts  \" normal \"   downshifts   \" fantasy \" world    ,   audience member ,   idea  going  . \\textbackslash{}n  dreams ,   characters coming back   dead ,   others  look like  dead ,   strange apparitions ,   disappearances ,    looooot  chase scenes ,   tons  weird things  happen ,      simply  explained . \\textbackslash{}nnow  personally  mind trying  unravel  film every now   ,       give    clue     ,  get kind  fed     ,    film\\textbackslash{}'s biggest problem . \\textbackslash{}n obviously got  big secret  hide ,   seems  want  hide  completely   final five minutes . \\textbackslash{}n   make things entertaining , thrilling  even engaging ,   meantime ? \\textbackslash{}n really . \\textbackslash{}n sad part    arrow    dig  flicks like  ,   actually figured       half-way point ,     strangeness    start  make  little bit  sense ,   still   make  film    entertaining . \\textbackslash{}n guess  bottom line  movies like      always make sure   audience  \"   \" even    given  secret password  enter  world  understanding . \\textbackslash{}n mean , showing melissa sagemiller running away  visions   20 minutes throughout  movie  just plain lazy ! ! \\textbackslash{}nokay ,  get  . . .  \\textbackslash{}n people chasing     know    . \\textbackslash{}n  really need  see      ? \\textbackslash{}n  giving us different scenes offering  insight     strangeness going    movie ? \\textbackslash{}napparently ,  studio took  film away   director  chopped    ,   shows . \\textbackslash{}n might\\textbackslash{}'ve   pretty decent teen mind-fuck movie   somewhere ,   guess \"  suits \" decided  turning    music video  little edge ,  make  sense . \\textbackslash{}n actors  pretty good    part , although wes bentley just seemed   playing  exact  character     american beauty ,    new neighborhood . \\textbackslash{}n  biggest kudos go   sagemiller ,  holds   throughout  entire film ,  actually   feeling  character\\textbackslash{}'s unraveling . \\textbackslash{}noverall ,  film  stick    entertain ,  confusing ,  rarely excites   feels pretty redundant     runtime , despite  pretty cool ending  explanation     craziness  came   . \\textbackslash{}noh ,    way ,     horror  teen slasher flick . . .  \\textbackslash{}njust packaged  look  way  someone  apparently assuming   genre  still hot   kids . \\textbackslash{}n also wrapped production two years ago    sitting   shelves ever since . \\textbackslash{}nwhatever . . . skip \\textbackslash{}n ! \\textbackslash{}n joblo coming  ? \\textbackslash{}n nightmare  elm street 3 ( 7/10 ) - blair witch 2 ( 7/10 ) -  crow ( 9/10 ) -  crow : salvation ( 4/10 ) - lost highway ( 10/10 ) - memento ( 10/10 ) -  others ( 9/10 ) - stir  echoes ( 8/10 ) '",
            "text/markdown": "<span style=white-space:pre-wrap>'plot : two teen couples go   church party , drink   drive . \\n get   accident . \\none   guys dies ,   girlfriend continues  see    life ,   nightmares . \\n  deal ? \\nwatch  movie  \" sorta \" find  . . . \\ncritique :  mind-fuck movie   teen generation  touches    cool idea ,  presents     bad package . \\n   makes  review  even harder one  write , since  generally applaud films  attempt  break  mold , mess   head   ( lost highway &amp; memento ) ,    good  bad ways  making  types  films ,   folks just  snag  one correctly . \\n seem   taken  pretty neat concept ,  executed  terribly . \\n    problems   movie ? \\nwell ,  main problem    simply  jumbled . \\n starts  \" normal \"   downshifts   \" fantasy \" world    ,   audience member ,   idea  going  . \\n  dreams ,   characters coming back   dead ,   others  look like  dead ,   strange apparitions ,   disappearances ,    looooot  chase scenes ,   tons  weird things  happen ,      simply  explained . \\nnow  personally  mind trying  unravel  film every now   ,       give    clue     ,  get kind  fed     ,    film\\'s biggest problem . \\n obviously got  big secret  hide ,   seems  want  hide  completely   final five minutes . \\n   make things entertaining , thrilling  even engaging ,   meantime ? \\n really . \\n sad part    arrow    dig  flicks like  ,   actually figured       half-way point ,     strangeness    start  make  little bit  sense ,   still   make  film    entertaining . \\n guess  bottom line  movies like      always make sure   audience  \"   \" even    given  secret password  enter  world  understanding . \\n mean , showing melissa sagemiller running away  visions   20 minutes throughout  movie  just plain lazy ! ! \\nokay ,  get  . . .  \\n people chasing     know    . \\n  really need  see      ? \\n  giving us different scenes offering  insight     strangeness going    movie ? \\napparently ,  studio took  film away   director  chopped    ,   shows . \\n might\\'ve   pretty decent teen mind-fuck movie   somewhere ,   guess \"  suits \" decided  turning    music video  little edge ,  make  sense . \\n actors  pretty good    part , although wes bentley just seemed   playing  exact  character     american beauty ,    new neighborhood . \\n  biggest kudos go   sagemiller ,  holds   throughout  entire film ,  actually   feeling  character\\'s unraveling . \\noverall ,  film  stick    entertain ,  confusing ,  rarely excites   feels pretty redundant     runtime , despite  pretty cool ending  explanation     craziness  came   . \\noh ,    way ,     horror  teen slasher flick . . .  \\njust packaged  look  way  someone  apparently assuming   genre  still hot   kids . \\n also wrapped production two years ago    sitting   shelves ever since . \\nwhatever . . . skip \\n ! \\n joblo coming  ? \\n nightmare  elm street 3 ( 7/10 ) - blair witch 2 ( 7/10 ) -  crow ( 9/10 ) -  crow : salvation ( 4/10 ) - lost highway ( 10/10 ) - memento ( 10/10 ) -  others ( 9/10 ) - stir  echoes ( 8/10 ) '</span>",
            "text/html": [
              "<span style=white-space:pre-wrap>'plot : two teen couples go   church party , drink   drive . \\n get   accident . \\none   guys dies ,   girlfriend continues  see    life ,   nightmares . \\n  deal ? \\nwatch  movie  \" sorta \" find  . . . \\ncritique :  mind-fuck movie   teen generation  touches    cool idea ,  presents     bad package . \\n   makes  review  even harder one  write , since  generally applaud films  attempt  break  mold , mess   head   ( lost highway &amp; memento ) ,    good  bad ways  making  types  films ,   folks just  snag  one correctly . \\n seem   taken  pretty neat concept ,  executed  terribly . \\n    problems   movie ? \\nwell ,  main problem    simply  jumbled . \\n starts  \" normal \"   downshifts   \" fantasy \" world    ,   audience member ,   idea  going  . \\n  dreams ,   characters coming back   dead ,   others  look like  dead ,   strange apparitions ,   disappearances ,    looooot  chase scenes ,   tons  weird things  happen ,      simply  explained . \\nnow  personally  mind trying  unravel  film every now   ,       give    clue     ,  get kind  fed     ,    film\\'s biggest problem . \\n obviously got  big secret  hide ,   seems  want  hide  completely   final five minutes . \\n   make things entertaining , thrilling  even engaging ,   meantime ? \\n really . \\n sad part    arrow    dig  flicks like  ,   actually figured       half-way point ,     strangeness    start  make  little bit  sense ,   still   make  film    entertaining . \\n guess  bottom line  movies like      always make sure   audience  \"   \" even    given  secret password  enter  world  understanding . \\n mean , showing melissa sagemiller running away  visions   20 minutes throughout  movie  just plain lazy ! ! \\nokay ,  get  . . .  \\n people chasing     know    . \\n  really need  see      ? \\n  giving us different scenes offering  insight     strangeness going    movie ? \\napparently ,  studio took  film away   director  chopped    ,   shows . \\n might\\'ve   pretty decent teen mind-fuck movie   somewhere ,   guess \"  suits \" decided  turning    music video  little edge ,  make  sense . \\n actors  pretty good    part , although wes bentley just seemed   playing  exact  character     american beauty ,    new neighborhood . \\n  biggest kudos go   sagemiller ,  holds   throughout  entire film ,  actually   feeling  character\\'s unraveling . \\noverall ,  film  stick    entertain ,  confusing ,  rarely excites   feels pretty redundant     runtime , despite  pretty cool ending  explanation     craziness  came   . \\noh ,    way ,     horror  teen slasher flick . . .  \\njust packaged  look  way  someone  apparently assuming   genre  still hot   kids . \\n also wrapped production two years ago    sitting   shelves ever since . \\nwhatever . . . skip \\n ! \\n joblo coming  ? \\n nightmare  elm street 3 ( 7/10 ) - blair witch 2 ( 7/10 ) -  crow ( 9/10 ) -  crow : salvation ( 4/10 ) - lost highway ( 10/10 ) - memento ( 10/10 ) -  others ( 9/10 ) - stir  echoes ( 8/10 ) '</span>"
            ]
          },
          "metadata": {}
        }
      ]
    },
    {
      "cell_type": "markdown",
      "metadata": {
        "id": "USByQukfNj_y"
      },
      "source": [
        "You can also use stopword lists from the *stopwords* package (which I think are mostly the same, as they are loaded by default):"
      ]
    },
    {
      "cell_type": "code",
      "metadata": {
        "colab": {
          "base_uri": "https://localhost:8080/",
          "height": 51
        },
        "id": "nPcKhs4CNoCF",
        "outputId": "f15db7af-8329-46df-8080-9b8af7a0740d"
      },
      "source": [
        "tm::stopwords(kind=\"de\")[1:5]\n",
        "stopwords::stopwords(language=\"de\")[1:5]"
      ],
      "execution_count": null,
      "outputs": [
        {
          "output_type": "display_data",
          "data": {
            "text/plain": [
              "[1] \"aber\"  \"alle\"  \"allem\" \"allen\" \"aller\""
            ],
            "text/latex": "\\begin{enumerate*}\n\\item 'aber'\n\\item 'alle'\n\\item 'allem'\n\\item 'allen'\n\\item 'aller'\n\\end{enumerate*}\n",
            "text/markdown": "1. 'aber'\n2. 'alle'\n3. 'allem'\n4. 'allen'\n5. 'aller'\n\n\n",
            "text/html": [
              "<style>\n",
              ".list-inline {list-style: none; margin:0; padding: 0}\n",
              ".list-inline>li {display: inline-block}\n",
              ".list-inline>li:not(:last-child)::after {content: \"\\00b7\"; padding: 0 .5ex}\n",
              "</style>\n",
              "<ol class=list-inline><li>'aber'</li><li>'alle'</li><li>'allem'</li><li>'allen'</li><li>'aller'</li></ol>\n"
            ]
          },
          "metadata": {}
        },
        {
          "output_type": "display_data",
          "data": {
            "text/plain": [
              "[1] \"aber\"  \"alle\"  \"allem\" \"allen\" \"aller\""
            ],
            "text/latex": "\\begin{enumerate*}\n\\item 'aber'\n\\item 'alle'\n\\item 'allem'\n\\item 'allen'\n\\item 'aller'\n\\end{enumerate*}\n",
            "text/markdown": "1. 'aber'\n2. 'alle'\n3. 'allem'\n4. 'allen'\n5. 'aller'\n\n\n",
            "text/html": [
              "<style>\n",
              ".list-inline {list-style: none; margin:0; padding: 0}\n",
              ".list-inline>li {display: inline-block}\n",
              ".list-inline>li:not(:last-child)::after {content: \"\\00b7\"; padding: 0 .5ex}\n",
              "</style>\n",
              "<ol class=list-inline><li>'aber'</li><li>'alle'</li><li>'allem'</li><li>'allen'</li><li>'aller'</li></ol>\n"
            ]
          },
          "metadata": {}
        }
      ]
    },
    {
      "cell_type": "markdown",
      "metadata": {
        "id": "WRkbIuGTNsUp"
      },
      "source": [
        "You can also create your own transformation functions to apply through tm_map using the `content_transformer` function:"
      ]
    },
    {
      "cell_type": "code",
      "metadata": {
        "colab": {
          "base_uri": "https://localhost:8080/",
          "height": 544
        },
        "id": "xgeaPmOfNwQ4",
        "outputId": "11dbdff0-89b6-47ed-c1d9-c8776cdb03d4"
      },
      "source": [
        "f <- tm::content_transformer(function(x, pattern) gsub(pattern, \"\", x))\n",
        "tm::tm_map(movie_corpus_tm, f, \"[[:digit:]]+\")[[1]]$content"
      ],
      "execution_count": null,
      "outputs": [
        {
          "output_type": "display_data",
          "data": {
            "text/plain": [
              "[1] \"plot : two teen couples go to a church party , drink and then drive . \\nthey get into an accident . \\none of the guys dies , but his girlfriend continues to see him in her life , and has nightmares . \\nwhat's the deal ? \\nwatch the movie and \\\" sorta \\\" find out . . . \\ncritique : a mind-fuck movie for the teen generation that touches on a very cool idea , but presents it in a very bad package . \\nwhich is what makes this review an even harder one to write , since i generally applaud films which attempt to break the mold , mess with your head and such ( lost highway & memento ) , but there are good and bad ways of making all types of films , and these folks just didn't snag this one correctly . \\nthey seem to have taken this pretty neat concept , but executed it terribly . \\nso what are the problems with the movie ? \\nwell , its main problem is that it's simply too jumbled . \\nit starts off \\\" normal \\\" but then downshifts into this \\\" fantasy \\\" world in which you , as an audience member , have no idea what's going on . \\nthere are dreams , there are characters coming back from the dead , there are others who look like the dead , there are strange apparitions , there are disappearances , there are a looooot of chase scenes , there are tons of weird things that happen , and most of it is simply not explained . \\nnow i personally don't mind trying to unravel a film every now and then , but when all it does is give me the same clue over and over again , i get kind of fed up after a while , which is this film's biggest problem . \\nit's obviously got this big secret to hide , but it seems to want to hide it completely until its final five minutes . \\nand do they make things entertaining , thrilling or even engaging , in the meantime ? \\nnot really . \\nthe sad part is that the arrow and i both dig on flicks like this , so we actually figured most of it out by the half-way point , so all of the strangeness after that did start to make a little bit of sense , but it still didn't the make the film all that more entertaining . \\ni guess the bottom line with movies like this is that you should always make sure that the audience is \\\" into it \\\" even before they are given the secret password to enter your world of understanding . \\ni mean , showing melissa sagemiller running away from visions for about  minutes throughout the movie is just plain lazy ! ! \\nokay , we get it . . . there \\nare people chasing her and we don't know who they are . \\ndo we really need to see it over and over again ? \\nhow about giving us different scenes offering further insight into all of the strangeness going down in the movie ? \\napparently , the studio took this film away from its director and chopped it up themselves , and it shows . \\nthere might've been a pretty decent teen mind-fuck movie in here somewhere , but i guess \\\" the suits \\\" decided that turning it into a music video with little edge , would make more sense . \\nthe actors are pretty good for the most part , although wes bentley just seemed to be playing the exact same character that he did in american beauty , only in a new neighborhood . \\nbut my biggest kudos go out to sagemiller , who holds her own throughout the entire film , and actually has you feeling her character's unraveling . \\noverall , the film doesn't stick because it doesn't entertain , it's confusing , it rarely excites and it feels pretty redundant for most of its runtime , despite a pretty cool ending and explanation to all of the craziness that came before it . \\noh , and by the way , this is not a horror or teen slasher flick . . . it's \\njust packaged to look that way because someone is apparently assuming that the genre is still hot with the kids . \\nit also wrapped production two years ago and has been sitting on the shelves ever since . \\nwhatever . . . skip \\nit ! \\nwhere's joblo coming from ? \\na nightmare of elm street  ( / ) - blair witch  ( / ) - the crow ( / ) - the crow : salvation ( / ) - lost highway ( / ) - memento ( / ) - the others ( / ) - stir of echoes ( / ) \""
            ],
            "text/latex": "'plot : two teen couples go to a church party , drink and then drive . \\textbackslash{}nthey get into an accident . \\textbackslash{}none of the guys dies , but his girlfriend continues to see him in her life , and has nightmares . \\textbackslash{}nwhat\\textbackslash{}'s the deal ? \\textbackslash{}nwatch the movie and \" sorta \" find out . . . \\textbackslash{}ncritique : a mind-fuck movie for the teen generation that touches on a very cool idea , but presents it in a very bad package . \\textbackslash{}nwhich is what makes this review an even harder one to write , since i generally applaud films which attempt to break the mold , mess with your head and such ( lost highway \\& memento ) , but there are good and bad ways of making all types of films , and these folks just didn\\textbackslash{}'t snag this one correctly . \\textbackslash{}nthey seem to have taken this pretty neat concept , but executed it terribly . \\textbackslash{}nso what are the problems with the movie ? \\textbackslash{}nwell , its main problem is that it\\textbackslash{}'s simply too jumbled . \\textbackslash{}nit starts off \" normal \" but then downshifts into this \" fantasy \" world in which you , as an audience member , have no idea what\\textbackslash{}'s going on . \\textbackslash{}nthere are dreams , there are characters coming back from the dead , there are others who look like the dead , there are strange apparitions , there are disappearances , there are a looooot of chase scenes , there are tons of weird things that happen , and most of it is simply not explained . \\textbackslash{}nnow i personally don\\textbackslash{}'t mind trying to unravel a film every now and then , but when all it does is give me the same clue over and over again , i get kind of fed up after a while , which is this film\\textbackslash{}'s biggest problem . \\textbackslash{}nit\\textbackslash{}'s obviously got this big secret to hide , but it seems to want to hide it completely until its final five minutes . \\textbackslash{}nand do they make things entertaining , thrilling or even engaging , in the meantime ? \\textbackslash{}nnot really . \\textbackslash{}nthe sad part is that the arrow and i both dig on flicks like this , so we actually figured most of it out by the half-way point , so all of the strangeness after that did start to make a little bit of sense , but it still didn\\textbackslash{}'t the make the film all that more entertaining . \\textbackslash{}ni guess the bottom line with movies like this is that you should always make sure that the audience is \" into it \" even before they are given the secret password to enter your world of understanding . \\textbackslash{}ni mean , showing melissa sagemiller running away from visions for about  minutes throughout the movie is just plain lazy ! ! \\textbackslash{}nokay , we get it . . . there \\textbackslash{}nare people chasing her and we don\\textbackslash{}'t know who they are . \\textbackslash{}ndo we really need to see it over and over again ? \\textbackslash{}nhow about giving us different scenes offering further insight into all of the strangeness going down in the movie ? \\textbackslash{}napparently , the studio took this film away from its director and chopped it up themselves , and it shows . \\textbackslash{}nthere might\\textbackslash{}'ve been a pretty decent teen mind-fuck movie in here somewhere , but i guess \" the suits \" decided that turning it into a music video with little edge , would make more sense . \\textbackslash{}nthe actors are pretty good for the most part , although wes bentley just seemed to be playing the exact same character that he did in american beauty , only in a new neighborhood . \\textbackslash{}nbut my biggest kudos go out to sagemiller , who holds her own throughout the entire film , and actually has you feeling her character\\textbackslash{}'s unraveling . \\textbackslash{}noverall , the film doesn\\textbackslash{}'t stick because it doesn\\textbackslash{}'t entertain , it\\textbackslash{}'s confusing , it rarely excites and it feels pretty redundant for most of its runtime , despite a pretty cool ending and explanation to all of the craziness that came before it . \\textbackslash{}noh , and by the way , this is not a horror or teen slasher flick . . . it\\textbackslash{}'s \\textbackslash{}njust packaged to look that way because someone is apparently assuming that the genre is still hot with the kids . \\textbackslash{}nit also wrapped production two years ago and has been sitting on the shelves ever since . \\textbackslash{}nwhatever . . . skip \\textbackslash{}nit ! \\textbackslash{}nwhere\\textbackslash{}'s joblo coming from ? \\textbackslash{}na nightmare of elm street  ( / ) - blair witch  ( / ) - the crow ( / ) - the crow : salvation ( / ) - lost highway ( / ) - memento ( / ) - the others ( / ) - stir of echoes ( / ) '",
            "text/markdown": "<span style=white-space:pre-wrap>'plot : two teen couples go to a church party , drink and then drive . \\nthey get into an accident . \\none of the guys dies , but his girlfriend continues to see him in her life , and has nightmares . \\nwhat\\'s the deal ? \\nwatch the movie and \" sorta \" find out . . . \\ncritique : a mind-fuck movie for the teen generation that touches on a very cool idea , but presents it in a very bad package . \\nwhich is what makes this review an even harder one to write , since i generally applaud films which attempt to break the mold , mess with your head and such ( lost highway &amp; memento ) , but there are good and bad ways of making all types of films , and these folks just didn\\'t snag this one correctly . \\nthey seem to have taken this pretty neat concept , but executed it terribly . \\nso what are the problems with the movie ? \\nwell , its main problem is that it\\'s simply too jumbled . \\nit starts off \" normal \" but then downshifts into this \" fantasy \" world in which you , as an audience member , have no idea what\\'s going on . \\nthere are dreams , there are characters coming back from the dead , there are others who look like the dead , there are strange apparitions , there are disappearances , there are a looooot of chase scenes , there are tons of weird things that happen , and most of it is simply not explained . \\nnow i personally don\\'t mind trying to unravel a film every now and then , but when all it does is give me the same clue over and over again , i get kind of fed up after a while , which is this film\\'s biggest problem . \\nit\\'s obviously got this big secret to hide , but it seems to want to hide it completely until its final five minutes . \\nand do they make things entertaining , thrilling or even engaging , in the meantime ? \\nnot really . \\nthe sad part is that the arrow and i both dig on flicks like this , so we actually figured most of it out by the half-way point , so all of the strangeness after that did start to make a little bit of sense , but it still didn\\'t the make the film all that more entertaining . \\ni guess the bottom line with movies like this is that you should always make sure that the audience is \" into it \" even before they are given the secret password to enter your world of understanding . \\ni mean , showing melissa sagemiller running away from visions for about  minutes throughout the movie is just plain lazy ! ! \\nokay , we get it . . . there \\nare people chasing her and we don\\'t know who they are . \\ndo we really need to see it over and over again ? \\nhow about giving us different scenes offering further insight into all of the strangeness going down in the movie ? \\napparently , the studio took this film away from its director and chopped it up themselves , and it shows . \\nthere might\\'ve been a pretty decent teen mind-fuck movie in here somewhere , but i guess \" the suits \" decided that turning it into a music video with little edge , would make more sense . \\nthe actors are pretty good for the most part , although wes bentley just seemed to be playing the exact same character that he did in american beauty , only in a new neighborhood . \\nbut my biggest kudos go out to sagemiller , who holds her own throughout the entire film , and actually has you feeling her character\\'s unraveling . \\noverall , the film doesn\\'t stick because it doesn\\'t entertain , it\\'s confusing , it rarely excites and it feels pretty redundant for most of its runtime , despite a pretty cool ending and explanation to all of the craziness that came before it . \\noh , and by the way , this is not a horror or teen slasher flick . . . it\\'s \\njust packaged to look that way because someone is apparently assuming that the genre is still hot with the kids . \\nit also wrapped production two years ago and has been sitting on the shelves ever since . \\nwhatever . . . skip \\nit ! \\nwhere\\'s joblo coming from ? \\na nightmare of elm street  ( / ) - blair witch  ( / ) - the crow ( / ) - the crow : salvation ( / ) - lost highway ( / ) - memento ( / ) - the others ( / ) - stir of echoes ( / ) '</span>",
            "text/html": [
              "<span style=white-space:pre-wrap>'plot : two teen couples go to a church party , drink and then drive . \\nthey get into an accident . \\none of the guys dies , but his girlfriend continues to see him in her life , and has nightmares . \\nwhat\\'s the deal ? \\nwatch the movie and \" sorta \" find out . . . \\ncritique : a mind-fuck movie for the teen generation that touches on a very cool idea , but presents it in a very bad package . \\nwhich is what makes this review an even harder one to write , since i generally applaud films which attempt to break the mold , mess with your head and such ( lost highway &amp; memento ) , but there are good and bad ways of making all types of films , and these folks just didn\\'t snag this one correctly . \\nthey seem to have taken this pretty neat concept , but executed it terribly . \\nso what are the problems with the movie ? \\nwell , its main problem is that it\\'s simply too jumbled . \\nit starts off \" normal \" but then downshifts into this \" fantasy \" world in which you , as an audience member , have no idea what\\'s going on . \\nthere are dreams , there are characters coming back from the dead , there are others who look like the dead , there are strange apparitions , there are disappearances , there are a looooot of chase scenes , there are tons of weird things that happen , and most of it is simply not explained . \\nnow i personally don\\'t mind trying to unravel a film every now and then , but when all it does is give me the same clue over and over again , i get kind of fed up after a while , which is this film\\'s biggest problem . \\nit\\'s obviously got this big secret to hide , but it seems to want to hide it completely until its final five minutes . \\nand do they make things entertaining , thrilling or even engaging , in the meantime ? \\nnot really . \\nthe sad part is that the arrow and i both dig on flicks like this , so we actually figured most of it out by the half-way point , so all of the strangeness after that did start to make a little bit of sense , but it still didn\\'t the make the film all that more entertaining . \\ni guess the bottom line with movies like this is that you should always make sure that the audience is \" into it \" even before they are given the secret password to enter your world of understanding . \\ni mean , showing melissa sagemiller running away from visions for about  minutes throughout the movie is just plain lazy ! ! \\nokay , we get it . . . there \\nare people chasing her and we don\\'t know who they are . \\ndo we really need to see it over and over again ? \\nhow about giving us different scenes offering further insight into all of the strangeness going down in the movie ? \\napparently , the studio took this film away from its director and chopped it up themselves , and it shows . \\nthere might\\'ve been a pretty decent teen mind-fuck movie in here somewhere , but i guess \" the suits \" decided that turning it into a music video with little edge , would make more sense . \\nthe actors are pretty good for the most part , although wes bentley just seemed to be playing the exact same character that he did in american beauty , only in a new neighborhood . \\nbut my biggest kudos go out to sagemiller , who holds her own throughout the entire film , and actually has you feeling her character\\'s unraveling . \\noverall , the film doesn\\'t stick because it doesn\\'t entertain , it\\'s confusing , it rarely excites and it feels pretty redundant for most of its runtime , despite a pretty cool ending and explanation to all of the craziness that came before it . \\noh , and by the way , this is not a horror or teen slasher flick . . . it\\'s \\njust packaged to look that way because someone is apparently assuming that the genre is still hot with the kids . \\nit also wrapped production two years ago and has been sitting on the shelves ever since . \\nwhatever . . . skip \\nit ! \\nwhere\\'s joblo coming from ? \\na nightmare of elm street  ( / ) - blair witch  ( / ) - the crow ( / ) - the crow : salvation ( / ) - lost highway ( / ) - memento ( / ) - the others ( / ) - stir of echoes ( / ) '</span>"
            ]
          },
          "metadata": {}
        }
      ]
    },
    {
      "cell_type": "markdown",
      "metadata": {
        "id": "XKzji0XPN1xF"
      },
      "source": [
        "As of this writing, tm has built in access to three predefined tokenizers:"
      ]
    },
    {
      "cell_type": "code",
      "metadata": {
        "colab": {
          "base_uri": "https://localhost:8080/",
          "height": 34
        },
        "id": "UrewfWkpN5Mx",
        "outputId": "2c10b4f5-4a66-46c9-c087-da6be5710cb7"
      },
      "source": [
        "tm::getTokenizers()"
      ],
      "execution_count": null,
      "outputs": [
        {
          "output_type": "display_data",
          "data": {
            "text/plain": [
              "[1] \"Boost_tokenizer\" \"MC_tokenizer\"    \"scan_tokenizer\" "
            ],
            "text/latex": "\\begin{enumerate*}\n\\item 'Boost\\_tokenizer'\n\\item 'MC\\_tokenizer'\n\\item 'scan\\_tokenizer'\n\\end{enumerate*}\n",
            "text/markdown": "1. 'Boost_tokenizer'\n2. 'MC_tokenizer'\n3. 'scan_tokenizer'\n\n\n",
            "text/html": [
              "<style>\n",
              ".list-inline {list-style: none; margin:0; padding: 0}\n",
              ".list-inline>li {display: inline-block}\n",
              ".list-inline>li:not(:last-child)::after {content: \"\\00b7\"; padding: 0 .5ex}\n",
              "</style>\n",
              "<ol class=list-inline><li>'Boost_tokenizer'</li><li>'MC_tokenizer'</li><li>'scan_tokenizer'</li></ol>\n"
            ]
          },
          "metadata": {}
        }
      ]
    },
    {
      "cell_type": "markdown",
      "metadata": {
        "id": "z_hyFdU7N-eL"
      },
      "source": [
        "Let's try them on our first movie review."
      ]
    },
    {
      "cell_type": "code",
      "metadata": {
        "colab": {
          "base_uri": "https://localhost:8080/",
          "height": 170
        },
        "id": "qvJtHU8vOC0N",
        "outputId": "2657c82a-8645-47c1-b61c-2d458e03b2ce"
      },
      "source": [
        "tm::Boost_tokenizer(as.character(movie_corpus)[1]) %>% head(50)\n",
        "tm::MC_tokenizer(as.character(movie_corpus)[1]) %>% head(50)\n",
        "tm::scan_tokenizer(as.character(movie_corpus)[1]) %>% head(50)"
      ],
      "execution_count": null,
      "outputs": [
        {
          "output_type": "display_data",
          "data": {
            "text/plain": [
              " [1] \"plot\"       \":\"          \"two\"        \"teen\"       \"couples\"   \n",
              " [6] \"go\"         \"to\"         \"a\"          \"church\"     \"party\"     \n",
              "[11] \",\"          \"drink\"      \"and\"        \"then\"       \"drive\"     \n",
              "[16] \".\"          \"they\"       \"get\"        \"into\"       \"an\"        \n",
              "[21] \"accident\"   \".\"          \"one\"        \"of\"         \"the\"       \n",
              "[26] \"guys\"       \"dies\"       \",\"          \"but\"        \"his\"       \n",
              "[31] \"girlfriend\" \"continues\"  \"to\"         \"see\"        \"him\"       \n",
              "[36] \"in\"         \"her\"        \"life\"       \",\"          \"and\"       \n",
              "[41] \"has\"        \"nightmares\" \".\"          \"what's\"     \"the\"       \n",
              "[46] \"deal\"       \"?\"          \"watch\"      \"the\"        \"movie\"     "
            ],
            "text/latex": "\\begin{enumerate*}\n\\item 'plot'\n\\item ':'\n\\item 'two'\n\\item 'teen'\n\\item 'couples'\n\\item 'go'\n\\item 'to'\n\\item 'a'\n\\item 'church'\n\\item 'party'\n\\item ','\n\\item 'drink'\n\\item 'and'\n\\item 'then'\n\\item 'drive'\n\\item '.'\n\\item 'they'\n\\item 'get'\n\\item 'into'\n\\item 'an'\n\\item 'accident'\n\\item '.'\n\\item 'one'\n\\item 'of'\n\\item 'the'\n\\item 'guys'\n\\item 'dies'\n\\item ','\n\\item 'but'\n\\item 'his'\n\\item 'girlfriend'\n\\item 'continues'\n\\item 'to'\n\\item 'see'\n\\item 'him'\n\\item 'in'\n\\item 'her'\n\\item 'life'\n\\item ','\n\\item 'and'\n\\item 'has'\n\\item 'nightmares'\n\\item '.'\n\\item 'what\\textbackslash{}'s'\n\\item 'the'\n\\item 'deal'\n\\item '?'\n\\item 'watch'\n\\item 'the'\n\\item 'movie'\n\\end{enumerate*}\n",
            "text/markdown": "1. 'plot'\n2. ':'\n3. 'two'\n4. 'teen'\n5. 'couples'\n6. 'go'\n7. 'to'\n8. 'a'\n9. 'church'\n10. 'party'\n11. ','\n12. 'drink'\n13. 'and'\n14. 'then'\n15. 'drive'\n16. '.'\n17. 'they'\n18. 'get'\n19. 'into'\n20. 'an'\n21. 'accident'\n22. '.'\n23. 'one'\n24. 'of'\n25. 'the'\n26. 'guys'\n27. 'dies'\n28. ','\n29. 'but'\n30. 'his'\n31. 'girlfriend'\n32. 'continues'\n33. 'to'\n34. 'see'\n35. 'him'\n36. 'in'\n37. 'her'\n38. 'life'\n39. ','\n40. 'and'\n41. 'has'\n42. 'nightmares'\n43. '.'\n44. 'what\\'s'\n45. 'the'\n46. 'deal'\n47. '?'\n48. 'watch'\n49. 'the'\n50. 'movie'\n\n\n",
            "text/html": [
              "<style>\n",
              ".list-inline {list-style: none; margin:0; padding: 0}\n",
              ".list-inline>li {display: inline-block}\n",
              ".list-inline>li:not(:last-child)::after {content: \"\\00b7\"; padding: 0 .5ex}\n",
              "</style>\n",
              "<ol class=list-inline><li>'plot'</li><li>':'</li><li>'two'</li><li>'teen'</li><li>'couples'</li><li>'go'</li><li>'to'</li><li>'a'</li><li>'church'</li><li>'party'</li><li>','</li><li>'drink'</li><li>'and'</li><li>'then'</li><li>'drive'</li><li>'.'</li><li>'they'</li><li>'get'</li><li>'into'</li><li>'an'</li><li>'accident'</li><li>'.'</li><li>'one'</li><li>'of'</li><li>'the'</li><li>'guys'</li><li>'dies'</li><li>','</li><li>'but'</li><li>'his'</li><li>'girlfriend'</li><li>'continues'</li><li>'to'</li><li>'see'</li><li>'him'</li><li>'in'</li><li>'her'</li><li>'life'</li><li>','</li><li>'and'</li><li>'has'</li><li>'nightmares'</li><li>'.'</li><li>'what\\'s'</li><li>'the'</li><li>'deal'</li><li>'?'</li><li>'watch'</li><li>'the'</li><li>'movie'</li></ol>\n"
            ]
          },
          "metadata": {}
        },
        {
          "output_type": "display_data",
          "data": {
            "text/plain": [
              " [1] \"plot\"       \"two\"        \"teen\"       \"couples\"    \"go\"        \n",
              " [6] \"to\"         \"a\"          \"church\"     \"party\"      \"drink\"     \n",
              "[11] \"and\"        \"then\"       \"drive\"      \"they\"       \"get\"       \n",
              "[16] \"into\"       \"an\"         \"accident\"   \"one\"        \"of\"        \n",
              "[21] \"the\"        \"guys\"       \"dies\"       \"but\"        \"his\"       \n",
              "[26] \"girlfriend\" \"continues\"  \"to\"         \"see\"        \"him\"       \n",
              "[31] \"in\"         \"her\"        \"life\"       \"and\"        \"has\"       \n",
              "[36] \"nightmares\" \"what\"       \"s\"          \"the\"        \"deal\"      \n",
              "[41] \"watch\"      \"the\"        \"movie\"      \"and\"        \"sorta\"     \n",
              "[46] \"find\"       \"out\"        \"critique\"   \"a\"          \"mind\"      "
            ],
            "text/latex": "\\begin{enumerate*}\n\\item 'plot'\n\\item 'two'\n\\item 'teen'\n\\item 'couples'\n\\item 'go'\n\\item 'to'\n\\item 'a'\n\\item 'church'\n\\item 'party'\n\\item 'drink'\n\\item 'and'\n\\item 'then'\n\\item 'drive'\n\\item 'they'\n\\item 'get'\n\\item 'into'\n\\item 'an'\n\\item 'accident'\n\\item 'one'\n\\item 'of'\n\\item 'the'\n\\item 'guys'\n\\item 'dies'\n\\item 'but'\n\\item 'his'\n\\item 'girlfriend'\n\\item 'continues'\n\\item 'to'\n\\item 'see'\n\\item 'him'\n\\item 'in'\n\\item 'her'\n\\item 'life'\n\\item 'and'\n\\item 'has'\n\\item 'nightmares'\n\\item 'what'\n\\item 's'\n\\item 'the'\n\\item 'deal'\n\\item 'watch'\n\\item 'the'\n\\item 'movie'\n\\item 'and'\n\\item 'sorta'\n\\item 'find'\n\\item 'out'\n\\item 'critique'\n\\item 'a'\n\\item 'mind'\n\\end{enumerate*}\n",
            "text/markdown": "1. 'plot'\n2. 'two'\n3. 'teen'\n4. 'couples'\n5. 'go'\n6. 'to'\n7. 'a'\n8. 'church'\n9. 'party'\n10. 'drink'\n11. 'and'\n12. 'then'\n13. 'drive'\n14. 'they'\n15. 'get'\n16. 'into'\n17. 'an'\n18. 'accident'\n19. 'one'\n20. 'of'\n21. 'the'\n22. 'guys'\n23. 'dies'\n24. 'but'\n25. 'his'\n26. 'girlfriend'\n27. 'continues'\n28. 'to'\n29. 'see'\n30. 'him'\n31. 'in'\n32. 'her'\n33. 'life'\n34. 'and'\n35. 'has'\n36. 'nightmares'\n37. 'what'\n38. 's'\n39. 'the'\n40. 'deal'\n41. 'watch'\n42. 'the'\n43. 'movie'\n44. 'and'\n45. 'sorta'\n46. 'find'\n47. 'out'\n48. 'critique'\n49. 'a'\n50. 'mind'\n\n\n",
            "text/html": [
              "<style>\n",
              ".list-inline {list-style: none; margin:0; padding: 0}\n",
              ".list-inline>li {display: inline-block}\n",
              ".list-inline>li:not(:last-child)::after {content: \"\\00b7\"; padding: 0 .5ex}\n",
              "</style>\n",
              "<ol class=list-inline><li>'plot'</li><li>'two'</li><li>'teen'</li><li>'couples'</li><li>'go'</li><li>'to'</li><li>'a'</li><li>'church'</li><li>'party'</li><li>'drink'</li><li>'and'</li><li>'then'</li><li>'drive'</li><li>'they'</li><li>'get'</li><li>'into'</li><li>'an'</li><li>'accident'</li><li>'one'</li><li>'of'</li><li>'the'</li><li>'guys'</li><li>'dies'</li><li>'but'</li><li>'his'</li><li>'girlfriend'</li><li>'continues'</li><li>'to'</li><li>'see'</li><li>'him'</li><li>'in'</li><li>'her'</li><li>'life'</li><li>'and'</li><li>'has'</li><li>'nightmares'</li><li>'what'</li><li>'s'</li><li>'the'</li><li>'deal'</li><li>'watch'</li><li>'the'</li><li>'movie'</li><li>'and'</li><li>'sorta'</li><li>'find'</li><li>'out'</li><li>'critique'</li><li>'a'</li><li>'mind'</li></ol>\n"
            ]
          },
          "metadata": {}
        },
        {
          "output_type": "display_data",
          "data": {
            "text/plain": [
              " [1] \"plot\"       \":\"          \"two\"        \"teen\"       \"couples\"   \n",
              " [6] \"go\"         \"to\"         \"a\"          \"church\"     \"party\"     \n",
              "[11] \",\"          \"drink\"      \"and\"        \"then\"       \"drive\"     \n",
              "[16] \".\"          \"they\"       \"get\"        \"into\"       \"an\"        \n",
              "[21] \"accident\"   \".\"          \"one\"        \"of\"         \"the\"       \n",
              "[26] \"guys\"       \"dies\"       \",\"          \"but\"        \"his\"       \n",
              "[31] \"girlfriend\" \"continues\"  \"to\"         \"see\"        \"him\"       \n",
              "[36] \"in\"         \"her\"        \"life\"       \",\"          \"and\"       \n",
              "[41] \"has\"        \"nightmares\" \".\"          \"what's\"     \"the\"       \n",
              "[46] \"deal\"       \"?\"          \"watch\"      \"the\"        \"movie\"     "
            ],
            "text/latex": "\\begin{enumerate*}\n\\item 'plot'\n\\item ':'\n\\item 'two'\n\\item 'teen'\n\\item 'couples'\n\\item 'go'\n\\item 'to'\n\\item 'a'\n\\item 'church'\n\\item 'party'\n\\item ','\n\\item 'drink'\n\\item 'and'\n\\item 'then'\n\\item 'drive'\n\\item '.'\n\\item 'they'\n\\item 'get'\n\\item 'into'\n\\item 'an'\n\\item 'accident'\n\\item '.'\n\\item 'one'\n\\item 'of'\n\\item 'the'\n\\item 'guys'\n\\item 'dies'\n\\item ','\n\\item 'but'\n\\item 'his'\n\\item 'girlfriend'\n\\item 'continues'\n\\item 'to'\n\\item 'see'\n\\item 'him'\n\\item 'in'\n\\item 'her'\n\\item 'life'\n\\item ','\n\\item 'and'\n\\item 'has'\n\\item 'nightmares'\n\\item '.'\n\\item 'what\\textbackslash{}'s'\n\\item 'the'\n\\item 'deal'\n\\item '?'\n\\item 'watch'\n\\item 'the'\n\\item 'movie'\n\\end{enumerate*}\n",
            "text/markdown": "1. 'plot'\n2. ':'\n3. 'two'\n4. 'teen'\n5. 'couples'\n6. 'go'\n7. 'to'\n8. 'a'\n9. 'church'\n10. 'party'\n11. ','\n12. 'drink'\n13. 'and'\n14. 'then'\n15. 'drive'\n16. '.'\n17. 'they'\n18. 'get'\n19. 'into'\n20. 'an'\n21. 'accident'\n22. '.'\n23. 'one'\n24. 'of'\n25. 'the'\n26. 'guys'\n27. 'dies'\n28. ','\n29. 'but'\n30. 'his'\n31. 'girlfriend'\n32. 'continues'\n33. 'to'\n34. 'see'\n35. 'him'\n36. 'in'\n37. 'her'\n38. 'life'\n39. ','\n40. 'and'\n41. 'has'\n42. 'nightmares'\n43. '.'\n44. 'what\\'s'\n45. 'the'\n46. 'deal'\n47. '?'\n48. 'watch'\n49. 'the'\n50. 'movie'\n\n\n",
            "text/html": [
              "<style>\n",
              ".list-inline {list-style: none; margin:0; padding: 0}\n",
              ".list-inline>li {display: inline-block}\n",
              ".list-inline>li:not(:last-child)::after {content: \"\\00b7\"; padding: 0 .5ex}\n",
              "</style>\n",
              "<ol class=list-inline><li>'plot'</li><li>':'</li><li>'two'</li><li>'teen'</li><li>'couples'</li><li>'go'</li><li>'to'</li><li>'a'</li><li>'church'</li><li>'party'</li><li>','</li><li>'drink'</li><li>'and'</li><li>'then'</li><li>'drive'</li><li>'.'</li><li>'they'</li><li>'get'</li><li>'into'</li><li>'an'</li><li>'accident'</li><li>'.'</li><li>'one'</li><li>'of'</li><li>'the'</li><li>'guys'</li><li>'dies'</li><li>','</li><li>'but'</li><li>'his'</li><li>'girlfriend'</li><li>'continues'</li><li>'to'</li><li>'see'</li><li>'him'</li><li>'in'</li><li>'her'</li><li>'life'</li><li>','</li><li>'and'</li><li>'has'</li><li>'nightmares'</li><li>'.'</li><li>'what\\'s'</li><li>'the'</li><li>'deal'</li><li>'?'</li><li>'watch'</li><li>'the'</li><li>'movie'</li></ol>\n"
            ]
          },
          "metadata": {}
        }
      ]
    },
    {
      "cell_type": "markdown",
      "metadata": {
        "id": "qz2J72ugOHab"
      },
      "source": [
        "The tm package also has some nice utilities for reading different text formats -- e.g., pdf and xml -- as well as \"plugins\" for other software (e.g., Alceste) and resources (e.g., Lexis-Nexis)."
      ]
    },
    {
      "cell_type": "markdown",
      "metadata": {
        "id": "iGzwtI-ROSyQ"
      },
      "source": [
        "## tidytext\n",
        "\n",
        "Tidytext is a package -- a philosophy really -- for approaching text analysis with the logic and vast software ecosystem of the \"tidyverse,\" which includes libraries like dplyr, tidyr, and ggplot2.\n",
        "\n",
        "There is a whole book on it: https://www.tidytextmining.com/ (Text Mining with R, by Julia Silge and David Robinson).\n",
        "\n",
        "The usual first principle of tidytext is to format text as a (tidy) data frame (or tibble) with one row per token. (In some cases, you want to look at other units -- ngrams, sentences, etc. -- and tidytext can do that, too.)"
      ]
    },
    {
      "cell_type": "code",
      "metadata": {
        "colab": {
          "base_uri": "https://localhost:8080/"
        },
        "id": "Nqy3FG9oOMEL",
        "outputId": "800e89b4-d7c6-49e9-fe1f-e60929a4dcab"
      },
      "source": [
        "library(dplyr)\n",
        "library(stringr)\n",
        "library(tidytext)"
      ],
      "execution_count": null,
      "outputs": [
        {
          "output_type": "stream",
          "name": "stderr",
          "text": [
            "\n",
            "Attaching package: ‘dplyr’\n",
            "\n",
            "\n",
            "The following objects are masked from ‘package:stats’:\n",
            "\n",
            "    filter, lag\n",
            "\n",
            "\n",
            "The following objects are masked from ‘package:base’:\n",
            "\n",
            "    intersect, setdiff, setequal, union\n",
            "\n",
            "\n"
          ]
        }
      ]
    },
    {
      "cell_type": "markdown",
      "metadata": {
        "id": "HSBzXYHxObD9"
      },
      "source": [
        "We need our input texts to be arranged in a \"tibble,\" the tidyverse data.frame class. We'll just use the first 20 movie reviews for this illustration."
      ]
    },
    {
      "cell_type": "code",
      "metadata": {
        "id": "HGfchyNFOcBl"
      },
      "source": [
        "first_movies <-  tibble(text=as.character(movie_corpus)[1:20])"
      ],
      "execution_count": null,
      "outputs": []
    },
    {
      "cell_type": "markdown",
      "metadata": {
        "id": "5JUp8ZmKOiZb"
      },
      "source": [
        "We then use the `unnest_tokens` function to convert to the tidytext format of one token per row (which it does by calling the tokenizers package):"
      ]
    },
    {
      "cell_type": "code",
      "metadata": {
        "colab": {
          "base_uri": "https://localhost:8080/",
          "height": 334
        },
        "id": "-gmPpyP1Ojb2",
        "outputId": "9ed98832-daa8-475f-dd57-63ae4abf0317"
      },
      "source": [
        "tidy_movie <- unnest_tokens(first_movies,word,text)\n",
        "head(tidy_movie)"
      ],
      "execution_count": null,
      "outputs": [
        {
          "output_type": "stream",
          "name": "stderr",
          "text": [
            "Warning message:\n",
            "“Outer names are only allowed for unnamed scalar atomic inputs”\n"
          ]
        },
        {
          "output_type": "display_data",
          "data": {
            "text/plain": [
              "  word   \n",
              "1 plot   \n",
              "2 two    \n",
              "3 teen   \n",
              "4 couples\n",
              "5 go     \n",
              "6 to     "
            ],
            "text/latex": "A tibble: 6 × 1\n\\begin{tabular}{l}\n word\\\\\n <chr>\\\\\n\\hline\n\t plot   \\\\\n\t two    \\\\\n\t teen   \\\\\n\t couples\\\\\n\t go     \\\\\n\t to     \\\\\n\\end{tabular}\n",
            "text/markdown": "\nA tibble: 6 × 1\n\n| word &lt;chr&gt; |\n|---|\n| plot    |\n| two     |\n| teen    |\n| couples |\n| go      |\n| to      |\n\n",
            "text/html": [
              "<table class=\"dataframe\">\n",
              "<caption>A tibble: 6 × 1</caption>\n",
              "<thead>\n",
              "\t<tr><th scope=col>word</th></tr>\n",
              "\t<tr><th scope=col>&lt;chr&gt;</th></tr>\n",
              "</thead>\n",
              "<tbody>\n",
              "\t<tr><td>plot   </td></tr>\n",
              "\t<tr><td>two    </td></tr>\n",
              "\t<tr><td>teen   </td></tr>\n",
              "\t<tr><td>couples</td></tr>\n",
              "\t<tr><td>go     </td></tr>\n",
              "\t<tr><td>to     </td></tr>\n",
              "</tbody>\n",
              "</table>\n"
            ]
          },
          "metadata": {}
        }
      ]
    },
    {
      "cell_type": "markdown",
      "metadata": {
        "id": "f4abgRbSOueH"
      },
      "source": [
        "You can similarly specify the type of tokenizing to do with built-ins like \"characters\", \"ngrams\", \"sentences\", \"tweets\", or custom tokenizers. This is drawn right from the `tokenizers` package, so everything applies in exactly the same way we have already seen.\n",
        "\n",
        "Since the tokenizing and preprocessing aren't different here, I won't linger in this notebook. But the data management / wrangling principles and practices are and tidytext is definitely worth your time."
      ]
    },
    {
      "cell_type": "markdown",
      "source": [
        "# spacyR: spacy (in R)\n",
        "\n",
        "The **spaCy** package is, by some accounts, now the \"default\" standard NLP pipeline, especially in industry. Unlike its Python predecessor, NLTK, spaCy is \"opinionated\" -- it tries to provide easy, computationally efficient access to the best available model for any given task; NLTK provides many options and more direct ability for the researcher to test and modify different models. Also in contrast to NLTK, spaCy interacts nicely with modern neural / deep learning methods.\n",
        "\n",
        "It was developed, as the above alludes to, for Python. That said, you can access the functionality of spaCy from R using `spacyr`"
      ],
      "metadata": {
        "id": "lafkZ5CfSEW6"
      }
    },
    {
      "cell_type": "code",
      "source": [
        "install.packages(\"spacyr\")\n",
        "library(spacyr)\n",
        "#setup_spacyr()"
      ],
      "metadata": {
        "colab": {
          "base_uri": "https://localhost:8080/"
        },
        "id": "c9-uBTZbM79O",
        "outputId": "1ede5ee3-8dd8-4e85-bb40-4beda22b5faf"
      },
      "execution_count": null,
      "outputs": [
        {
          "output_type": "stream",
          "name": "stderr",
          "text": [
            "Installing package into ‘/usr/local/lib/R/site-library’\n",
            "(as ‘lib’ is unspecified)\n",
            "\n",
            "also installing the dependencies ‘Rcpp’, ‘RcppTOML’, ‘here’, ‘png’, ‘reticulate’\n",
            "\n",
            "\n"
          ]
        }
      ]
    },
    {
      "cell_type": "markdown",
      "metadata": {
        "id": "YiN2LFBo4pi9"
      },
      "source": [
        "### The standard spaCy pipeline (tokens, lemmas, pos, dependencies, ner, morphology, etc.)\n",
        "\n",
        "The R package loads a given model for classification; since we're in Colab, we'll go with the default and avoid further complications. That said, with spaCy, you have a number of different models to choose from that follow a standard naming convention. The first part specifies the language (\"en\"), the second part specifies the capabilities (\"core\"), the third part specifies what it was trained on (\"web\" or \"news\") and the last part specifies the size (\"sm\", \"md\", \"lrg\", or \"trf\"). \n",
        "\n",
        "In the below, we are using the R package's default model, \"en_core_web_sm\", which is the \"English, core capability, trained on the web, small\" model.\n",
        "\n",
        "Note that the model is loaded and assigned to the variable `nlp_spacy`. Now `nlp_spacy` is a *function* that says \"run this model's annotation pipeline on these string(s).\" This is very standard syntax for NLP pipelines.\n",
        "\n",
        "By default, spaCy runs *everything* supported by the given model. Here, we'll set up a small text then look at what spaCy does for us."
      ]
    },
    {
      "cell_type": "code",
      "source": [
        "doc <- c(d1 = \"Joel Embiid should have been the 2022 NBA MVP, but instead Nikola Jokic won the award.\")\n",
        "\n",
        "annotated_doc_spacy <- spacy_parse(doc)\n",
        "annotated_doc_spacy"
      ],
      "metadata": {
        "colab": {
          "base_uri": "https://localhost:8080/",
          "height": 663
        },
        "id": "kbkmxutJQ5S6",
        "outputId": "af713a0c-b889-423b-a0c7-9886047211ca"
      },
      "execution_count": null,
      "outputs": [
        {
          "output_type": "display_data",
          "data": {
            "text/html": [
              "<table class=\"dataframe\">\n",
              "<caption>A spacyr_parsed: 18 × 7</caption>\n",
              "<thead>\n",
              "\t<tr><th scope=col>doc_id</th><th scope=col>sentence_id</th><th scope=col>token_id</th><th scope=col>token</th><th scope=col>lemma</th><th scope=col>pos</th><th scope=col>entity</th></tr>\n",
              "\t<tr><th scope=col>&lt;chr&gt;</th><th scope=col>&lt;int&gt;</th><th scope=col>&lt;int&gt;</th><th scope=col>&lt;chr&gt;</th><th scope=col>&lt;chr&gt;</th><th scope=col>&lt;chr&gt;</th><th scope=col>&lt;chr&gt;</th></tr>\n",
              "</thead>\n",
              "<tbody>\n",
              "\t<tr><td>d1</td><td>1</td><td> 1</td><td>Joel   </td><td>Joel   </td><td>PROPN</td><td>PERSON_B</td></tr>\n",
              "\t<tr><td>d1</td><td>1</td><td> 2</td><td>Embiid </td><td>Embiid </td><td>PROPN</td><td>PERSON_I</td></tr>\n",
              "\t<tr><td>d1</td><td>1</td><td> 3</td><td>should </td><td>should </td><td>AUX  </td><td>        </td></tr>\n",
              "\t<tr><td>d1</td><td>1</td><td> 4</td><td>have   </td><td>have   </td><td>AUX  </td><td>        </td></tr>\n",
              "\t<tr><td>d1</td><td>1</td><td> 5</td><td>been   </td><td>be     </td><td>AUX  </td><td>        </td></tr>\n",
              "\t<tr><td>d1</td><td>1</td><td> 6</td><td>the    </td><td>the    </td><td>DET  </td><td>        </td></tr>\n",
              "\t<tr><td>d1</td><td>1</td><td> 7</td><td>2022   </td><td>2022   </td><td>NUM  </td><td>DATE_B  </td></tr>\n",
              "\t<tr><td>d1</td><td>1</td><td> 8</td><td>NBA    </td><td>NBA    </td><td>PROPN</td><td>ORG_B   </td></tr>\n",
              "\t<tr><td>d1</td><td>1</td><td> 9</td><td>MVP    </td><td>MVP    </td><td>PROPN</td><td>ORG_I   </td></tr>\n",
              "\t<tr><td>d1</td><td>1</td><td>10</td><td>,      </td><td>,      </td><td>PUNCT</td><td>        </td></tr>\n",
              "\t<tr><td>d1</td><td>1</td><td>11</td><td>but    </td><td>but    </td><td>CCONJ</td><td>        </td></tr>\n",
              "\t<tr><td>d1</td><td>1</td><td>12</td><td>instead</td><td>instead</td><td>ADV  </td><td>        </td></tr>\n",
              "\t<tr><td>d1</td><td>1</td><td>13</td><td>Nikola </td><td>Nikola </td><td>PROPN</td><td>        </td></tr>\n",
              "\t<tr><td>d1</td><td>1</td><td>14</td><td>Jokic  </td><td>Jokic  </td><td>PROPN</td><td>        </td></tr>\n",
              "\t<tr><td>d1</td><td>1</td><td>15</td><td>won    </td><td>win    </td><td>VERB </td><td>        </td></tr>\n",
              "\t<tr><td>d1</td><td>1</td><td>16</td><td>the    </td><td>the    </td><td>DET  </td><td>        </td></tr>\n",
              "\t<tr><td>d1</td><td>1</td><td>17</td><td>award  </td><td>award  </td><td>NOUN </td><td>        </td></tr>\n",
              "\t<tr><td>d1</td><td>1</td><td>18</td><td>.      </td><td>.      </td><td>PUNCT</td><td>        </td></tr>\n",
              "</tbody>\n",
              "</table>\n"
            ],
            "text/markdown": "\nA spacyr_parsed: 18 × 7\n\n| doc_id &lt;chr&gt; | sentence_id &lt;int&gt; | token_id &lt;int&gt; | token &lt;chr&gt; | lemma &lt;chr&gt; | pos &lt;chr&gt; | entity &lt;chr&gt; |\n|---|---|---|---|---|---|---|\n| d1 | 1 |  1 | Joel    | Joel    | PROPN | PERSON_B |\n| d1 | 1 |  2 | Embiid  | Embiid  | PROPN | PERSON_I |\n| d1 | 1 |  3 | should  | should  | AUX   | <!----> |\n| d1 | 1 |  4 | have    | have    | AUX   | <!----> |\n| d1 | 1 |  5 | been    | be      | AUX   | <!----> |\n| d1 | 1 |  6 | the     | the     | DET   | <!----> |\n| d1 | 1 |  7 | 2022    | 2022    | NUM   | DATE_B   |\n| d1 | 1 |  8 | NBA     | NBA     | PROPN | ORG_B    |\n| d1 | 1 |  9 | MVP     | MVP     | PROPN | ORG_I    |\n| d1 | 1 | 10 | ,       | ,       | PUNCT | <!----> |\n| d1 | 1 | 11 | but     | but     | CCONJ | <!----> |\n| d1 | 1 | 12 | instead | instead | ADV   | <!----> |\n| d1 | 1 | 13 | Nikola  | Nikola  | PROPN | <!----> |\n| d1 | 1 | 14 | Jokic   | Jokic   | PROPN | <!----> |\n| d1 | 1 | 15 | won     | win     | VERB  | <!----> |\n| d1 | 1 | 16 | the     | the     | DET   | <!----> |\n| d1 | 1 | 17 | award   | award   | NOUN  | <!----> |\n| d1 | 1 | 18 | .       | .       | PUNCT | <!----> |\n\n",
            "text/latex": "A spacyr\\_parsed: 18 × 7\n\\begin{tabular}{lllllll}\n doc\\_id & sentence\\_id & token\\_id & token & lemma & pos & entity\\\\\n <chr> & <int> & <int> & <chr> & <chr> & <chr> & <chr>\\\\\n\\hline\n\t d1 & 1 &  1 & Joel    & Joel    & PROPN & PERSON\\_B\\\\\n\t d1 & 1 &  2 & Embiid  & Embiid  & PROPN & PERSON\\_I\\\\\n\t d1 & 1 &  3 & should  & should  & AUX   &         \\\\\n\t d1 & 1 &  4 & have    & have    & AUX   &         \\\\\n\t d1 & 1 &  5 & been    & be      & AUX   &         \\\\\n\t d1 & 1 &  6 & the     & the     & DET   &         \\\\\n\t d1 & 1 &  7 & 2022    & 2022    & NUM   & DATE\\_B  \\\\\n\t d1 & 1 &  8 & NBA     & NBA     & PROPN & ORG\\_B   \\\\\n\t d1 & 1 &  9 & MVP     & MVP     & PROPN & ORG\\_I   \\\\\n\t d1 & 1 & 10 & ,       & ,       & PUNCT &         \\\\\n\t d1 & 1 & 11 & but     & but     & CCONJ &         \\\\\n\t d1 & 1 & 12 & instead & instead & ADV   &         \\\\\n\t d1 & 1 & 13 & Nikola  & Nikola  & PROPN &         \\\\\n\t d1 & 1 & 14 & Jokic   & Jokic   & PROPN &         \\\\\n\t d1 & 1 & 15 & won     & win     & VERB  &         \\\\\n\t d1 & 1 & 16 & the     & the     & DET   &         \\\\\n\t d1 & 1 & 17 & award   & award   & NOUN  &         \\\\\n\t d1 & 1 & 18 & .       & .       & PUNCT &         \\\\\n\\end{tabular}\n",
            "text/plain": [
              "   doc_id sentence_id token_id token   lemma   pos   entity  \n",
              "1  d1     1            1       Joel    Joel    PROPN PERSON_B\n",
              "2  d1     1            2       Embiid  Embiid  PROPN PERSON_I\n",
              "3  d1     1            3       should  should  AUX           \n",
              "4  d1     1            4       have    have    AUX           \n",
              "5  d1     1            5       been    be      AUX           \n",
              "6  d1     1            6       the     the     DET           \n",
              "7  d1     1            7       2022    2022    NUM   DATE_B  \n",
              "8  d1     1            8       NBA     NBA     PROPN ORG_B   \n",
              "9  d1     1            9       MVP     MVP     PROPN ORG_I   \n",
              "10 d1     1           10       ,       ,       PUNCT         \n",
              "11 d1     1           11       but     but     CCONJ         \n",
              "12 d1     1           12       instead instead ADV           \n",
              "13 d1     1           13       Nikola  Nikola  PROPN         \n",
              "14 d1     1           14       Jokic   Jokic   PROPN         \n",
              "15 d1     1           15       won     win     VERB          \n",
              "16 d1     1           16       the     the     DET           \n",
              "17 d1     1           17       award   award   NOUN          \n",
              "18 d1     1           18       .       .       PUNCT         "
            ]
          },
          "metadata": {}
        }
      ]
    },
    {
      "cell_type": "markdown",
      "source": [
        "As you can see from the above, the default model object contains a host of attributes, which are listed below. Many attributes that are intuitively strings (e.g., the token's lemma, its part of speech tag) are stored internally by spaCy as \"hashes\" (an integer). The attribute that provides the corresponding text will end in an underscore character.\n",
        "\n",
        "* `doc_id`: A unique identifier for the parent document.\n",
        "* `sentence_id`: A unique identifier *within* `doc_id` for the sentence span that this token is a part of.\n",
        "* `token_id`: A unique identifier *within* `doc_id` and `sentence_id` to specify the token within the sentence.\n",
        "* `token`:\tThe actual text of the token.\n",
        "* `lemma`:\tBase form of the token, with no inflectional suffixes. (string)\n",
        "* `pos`:\tCoarse-grained part-of-speech from the Universal POS tag set. (string)\n",
        "* `entity`:\tNamed entity type. (string)"
      ],
      "metadata": {
        "id": "P1e6ZTgfTz5V"
      }
    },
    {
      "cell_type": "markdown",
      "source": [
        "As noted, the model here is \"en_core_web_sm\". Small models are more compact and computationally efficient than the medium, large, or transformer-based models, but less accurate and they do not come with pretrained embeddings. You can see which models are available, along with exact details of each model and performance statistics, here: https://spacy.io/models/ (As of this writing, there are pretrained models for 22 languages: Catalan, Chinese, Croatian, Danish, Dutch, English, Finnish, French, German, Greek, Italian, Japanese, Korean, Lithuanian, Macedonian, Norwegian, Polish, Portuguese, Romanian, Russian, Spanish, and Swedish), as well as a multi-language support model.\n",
        "\n",
        "\n"
      ],
      "metadata": {
        "id": "D3vrGOVUVWJe"
      }
    },
    {
      "cell_type": "markdown",
      "source": [
        "# Named Entities\n",
        "\n",
        "As we saw above, the spacy pipeline includes a named entity recognizer:"
      ],
      "metadata": {
        "id": "a5kXI-wRV-tZ"
      }
    },
    {
      "cell_type": "code",
      "source": [
        "for (i in 1:nrow(annotated_doc_spacy)){\n",
        "   if (annotated_doc_spacy$entity[i] != ''){\n",
        "      print(paste(annotated_doc_spacy$token[i], annotated_doc_spacy$entity[i], sep = \"\\t\"))  \n",
        "   }\n",
        "}"
      ],
      "metadata": {
        "colab": {
          "base_uri": "https://localhost:8080/"
        },
        "id": "Cie0KV41WGAv",
        "outputId": "8780d6fe-d74f-4c20-801c-98c4bdbfd61c"
      },
      "execution_count": null,
      "outputs": [
        {
          "output_type": "stream",
          "name": "stdout",
          "text": [
            "[1] \"Joel\\tPERSON_B\"\n",
            "[1] \"Embiid\\tPERSON_I\"\n",
            "[1] \"2022\\tDATE_B\"\n",
            "[1] \"NBA\\tORG_B\"\n",
            "[1] \"MVP\\tORG_I\"\n"
          ]
        }
      ]
    },
    {
      "cell_type": "markdown",
      "source": [
        "Note that the labels for \"Joel Embiid\" and \"NBA MVP\" are identified as being single entities (i.e., `PERSON_B` and `PERSON_I`). You can combine those fields to form the full name for each. \n",
        "\n",
        "Here's a longer speech, from Ketanji Brown Jackson accepting her nomination to the U.S. Supreme Court."
      ],
      "metadata": {
        "id": "x3kxLKIqYzzO"
      }
    },
    {
      "cell_type": "code",
      "metadata": {
        "id": "uXkO_fDuziZW"
      },
      "source": [
        "kbj <- c(\"I have spent years toiling away in the relative solitude of my chambers, with just my law clerks, in isolation. So, it's been somewhat overwhelming, in a good way, to recently be flooded with thousands of notes and cards and photos expressing just how much this moment means to so many people.\\nThe notes that I've received from children are particularly cute and especially meaningful because, more than anything, they speak directly to the hope and promise of America.\\nIt has taken 232 years and 115 prior appointments for a Black woman to be selected to serve on the Supreme Court of the United States.\\nBut we've made it. We've made it, all of us. All of us.\\nAnd our children are telling me that they see now, more than ever, that, here in America, anything is possible.\\nThey also tell me that I'm a role model, which I take both as an opportunity and as a huge responsibility. I am feeling up to the task, primarily because I know that I am not alone. I am standing on the shoulders of my own role models, generations of Americans who never had anything close to this kind of opportunity but who got up every day and went to work believing in the promise of America, showing others through their determination and, yes, their perseverance that good -- good things can be done in this great country -- from my grandparents on both sides who had only a grade-school education but instilled in my parents the importance of learning, to my parents who went to racially segregated schools growing up and were the first in their families to have the chance to go to college.\\nI am also ever buoyed by the leadership of generations past who helped to light the way: Dr. Martin Luther King Jr., Justice Thurgood Marshall, and my personal heroine, Judge Constance Baker Motley. They, and so many others, did the heavy lifting that made this day possible. And for all of the talk of this historic nomination and now confirmation, I think of them as the true pathbreakers. I am just the very lucky first inheritor of the dream of liberty and justice for all.\\nTo be sure, I have worked hard to get to this point in my career, and I have now achieved something far beyond anything my grandparents could've possibly ever imagined. But no one does this on their own. The path was cleared for me so that I might rise to this occasion. And in the poetic words of Dr. Maya Angelou, I do so now, while 'bringing the gifts...my ancestors gave.'  'I am the dream and the hope of the slave.' So as I take on this new role, I strongly believe that this is a moment in which all Americans can take great pride. We have come a long way toward perfecting our union. In my family, it took just one generation to go from segregation to the Supreme Court of the United States. And it is an honor -- the honor of a lifetime -- for me to have this chance to join the Court, to promote the rule of law at the highest level, and to do my part to carry our shared project of democracy and equal justice under law forward, into the future. Thank you, again, Mr. President and members of the Senate for this incredible honor.\")"
      ],
      "execution_count": null,
      "outputs": []
    },
    {
      "cell_type": "code",
      "source": [
        "annotated_kbj_spacy <- spacy_parse(kbj)\n",
        "annotated_kbj_spacy[1:5,]\n",
        "\n",
        "for (i in 1:nrow(annotated_kbj_spacy)){\n",
        "   if (annotated_kbj_spacy$entity[i] != ''){\n",
        "      print(paste(annotated_kbj_spacy$token[i], annotated_kbj_spacy$entity[i], sep = \"\\t\"))  \n",
        "   }\n",
        "}"
      ],
      "metadata": {
        "colab": {
          "base_uri": "https://localhost:8080/",
          "height": 932
        },
        "id": "4OwMs3PQZxLT",
        "outputId": "52ff3fde-a97e-4878-c5a0-fcc896d9077a"
      },
      "execution_count": null,
      "outputs": [
        {
          "output_type": "display_data",
          "data": {
            "text/html": [
              "<table class=\"dataframe\">\n",
              "<caption>A spacyr_parsed: 5 × 7</caption>\n",
              "<thead>\n",
              "\t<tr><th></th><th scope=col>doc_id</th><th scope=col>sentence_id</th><th scope=col>token_id</th><th scope=col>token</th><th scope=col>lemma</th><th scope=col>pos</th><th scope=col>entity</th></tr>\n",
              "\t<tr><th></th><th scope=col>&lt;chr&gt;</th><th scope=col>&lt;int&gt;</th><th scope=col>&lt;int&gt;</th><th scope=col>&lt;chr&gt;</th><th scope=col>&lt;chr&gt;</th><th scope=col>&lt;chr&gt;</th><th scope=col>&lt;chr&gt;</th></tr>\n",
              "</thead>\n",
              "<tbody>\n",
              "\t<tr><th scope=row>1</th><td>text1</td><td>1</td><td>1</td><td>I      </td><td>I    </td><td>PRON</td><td>      </td></tr>\n",
              "\t<tr><th scope=row>2</th><td>text1</td><td>1</td><td>2</td><td>have   </td><td>have </td><td>AUX </td><td>      </td></tr>\n",
              "\t<tr><th scope=row>3</th><td>text1</td><td>1</td><td>3</td><td>spent  </td><td>spend</td><td>VERB</td><td>      </td></tr>\n",
              "\t<tr><th scope=row>4</th><td>text1</td><td>1</td><td>4</td><td>years  </td><td>year </td><td>NOUN</td><td>DATE_B</td></tr>\n",
              "\t<tr><th scope=row>5</th><td>text1</td><td>1</td><td>5</td><td>toiling</td><td>toil </td><td>VERB</td><td>      </td></tr>\n",
              "</tbody>\n",
              "</table>\n"
            ],
            "text/markdown": "\nA spacyr_parsed: 5 × 7\n\n| <!--/--> | doc_id &lt;chr&gt; | sentence_id &lt;int&gt; | token_id &lt;int&gt; | token &lt;chr&gt; | lemma &lt;chr&gt; | pos &lt;chr&gt; | entity &lt;chr&gt; |\n|---|---|---|---|---|---|---|---|\n| 1 | text1 | 1 | 1 | I       | I     | PRON | <!----> |\n| 2 | text1 | 1 | 2 | have    | have  | AUX  | <!----> |\n| 3 | text1 | 1 | 3 | spent   | spend | VERB | <!----> |\n| 4 | text1 | 1 | 4 | years   | year  | NOUN | DATE_B |\n| 5 | text1 | 1 | 5 | toiling | toil  | VERB | <!----> |\n\n",
            "text/latex": "A spacyr\\_parsed: 5 × 7\n\\begin{tabular}{r|lllllll}\n  & doc\\_id & sentence\\_id & token\\_id & token & lemma & pos & entity\\\\\n  & <chr> & <int> & <int> & <chr> & <chr> & <chr> & <chr>\\\\\n\\hline\n\t1 & text1 & 1 & 1 & I       & I     & PRON &       \\\\\n\t2 & text1 & 1 & 2 & have    & have  & AUX  &       \\\\\n\t3 & text1 & 1 & 3 & spent   & spend & VERB &       \\\\\n\t4 & text1 & 1 & 4 & years   & year  & NOUN & DATE\\_B\\\\\n\t5 & text1 & 1 & 5 & toiling & toil  & VERB &       \\\\\n\\end{tabular}\n",
            "text/plain": [
              "  doc_id sentence_id token_id token   lemma pos  entity\n",
              "1 text1  1           1        I       I     PRON       \n",
              "2 text1  1           2        have    have  AUX        \n",
              "3 text1  1           3        spent   spend VERB       \n",
              "4 text1  1           4        years   year  NOUN DATE_B\n",
              "5 text1  1           5        toiling toil  VERB       "
            ]
          },
          "metadata": {}
        },
        {
          "output_type": "stream",
          "name": "stdout",
          "text": [
            "[1] \"years\\tDATE_B\"\n",
            "[1] \"thousands\\tCARDINAL_B\"\n",
            "[1] \"America\\tGPE_B\"\n",
            "[1] \"232\\tDATE_B\"\n",
            "[1] \"years\\tDATE_I\"\n",
            "[1] \"115\\tCARDINAL_B\"\n",
            "[1] \"the\\tORG_B\"\n",
            "[1] \"Supreme\\tORG_I\"\n",
            "[1] \"Court\\tORG_I\"\n",
            "[1] \"the\\tGPE_B\"\n",
            "[1] \"United\\tGPE_I\"\n",
            "[1] \"States\\tGPE_I\"\n",
            "[1] \"America\\tGPE_B\"\n",
            "[1] \"Americans\\tNORP_B\"\n",
            "[1] \"America\\tGPE_B\"\n",
            "[1] \"first\\tORDINAL_B\"\n",
            "[1] \"Martin\\tPERSON_B\"\n",
            "[1] \"Luther\\tPERSON_I\"\n",
            "[1] \"King\\tPERSON_I\"\n",
            "[1] \"Jr.\\tPERSON_I\"\n",
            "[1] \"Thurgood\\tPERSON_B\"\n",
            "[1] \"Marshall\\tPERSON_I\"\n",
            "[1] \"Constance\\tPERSON_B\"\n",
            "[1] \"Baker\\tPERSON_I\"\n",
            "[1] \"Motley\\tPERSON_I\"\n",
            "[1] \"this\\tDATE_B\"\n",
            "[1] \"day\\tDATE_I\"\n",
            "[1] \"first\\tORDINAL_B\"\n",
            "[1] \"Maya\\tPERSON_B\"\n",
            "[1] \"Angelou\\tPERSON_I\"\n",
            "[1] \"Americans\\tNORP_B\"\n",
            "[1] \"the\\tORG_B\"\n",
            "[1] \"Supreme\\tORG_I\"\n",
            "[1] \"Court\\tORG_I\"\n",
            "[1] \"the\\tGPE_B\"\n",
            "[1] \"United\\tGPE_I\"\n",
            "[1] \"States\\tGPE_I\"\n",
            "[1] \"Court\\tORG_B\"\n",
            "[1] \"Senate\\tORG_B\"\n"
          ]
        }
      ]
    },
    {
      "cell_type": "markdown",
      "metadata": {
        "id": "Yu3l1bndPYKi"
      },
      "source": [
        "## UDPipe\n",
        "\n",
        "The **udpipe** package provides an R wrapper for the C++ software UDPipe, described by Straka, et al. (2016): https://aclanthology.org/L16-1680/ \n",
        "\n",
        "Official description of UDPipe: \n",
        "\n",
        "> UDPipe is a trainable pipeline for tokenization, tagging, lemmatization and dependency parsing of CoNLL-U files. UDPipe is language-agnostic and can be trained given annotated data in CoNLL-U format. Trained models are provided for nearly all UD treebanks.\n",
        "\n",
        "A major benefit of UDPipe generally is its ability to be adapted to multiple languages. There are, as of this writing, 101 models of 65 languages available.\n",
        "\n",
        "A major benefit for R users is that it does not have Java, Python or other dependencies that can offer installation challenges with other NLP pipeline packages."
      ]
    },
    {
      "cell_type": "code",
      "metadata": {
        "id": "hVgPo3QlPceT"
      },
      "source": [
        "library(udpipe)"
      ],
      "execution_count": null,
      "outputs": []
    },
    {
      "cell_type": "code",
      "metadata": {
        "colab": {
          "base_uri": "https://localhost:8080/"
        },
        "id": "g5Gd2NW3PgZv",
        "outputId": "984c2408-d8d7-4e2d-eb90-31249207e307"
      },
      "source": [
        "dl <- udpipe::udpipe_download_model(language = \"english\")\n",
        "str(dl)"
      ],
      "execution_count": null,
      "outputs": [
        {
          "output_type": "stream",
          "name": "stderr",
          "text": [
            "Downloading udpipe model from https://raw.githubusercontent.com/jwijffels/udpipe.models.ud.2.5/master/inst/udpipe-ud-2.5-191206/english-ewt-ud-2.5-191206.udpipe to /content/english-ewt-ud-2.5-191206.udpipe\n",
            "\n",
            " - This model has been trained on version 2.5 of data from https://universaldependencies.org\n",
            "\n",
            " - The model is distributed under the CC-BY-SA-NC license: https://creativecommons.org/licenses/by-nc-sa/4.0\n",
            "\n",
            " - Visit https://github.com/jwijffels/udpipe.models.ud.2.5 for model license details.\n",
            "\n",
            " - For a list of all models and their licenses (most models you can download with this package have either a CC-BY-SA or a CC-BY-SA-NC license) read the documentation at ?udpipe_download_model. For building your own models: visit the documentation by typing vignette('udpipe-train', package = 'udpipe')\n",
            "\n",
            "Downloading finished, model stored at '/content/english-ewt-ud-2.5-191206.udpipe'\n",
            "\n"
          ]
        },
        {
          "output_type": "stream",
          "name": "stdout",
          "text": [
            "'data.frame':\t1 obs. of  5 variables:\n",
            " $ language        : chr \"english-ewt\"\n",
            " $ file_model      : chr \"/content/english-ewt-ud-2.5-191206.udpipe\"\n",
            " $ url             : chr \"https://raw.githubusercontent.com/jwijffels/udpipe.models.ud.2.5/master/inst/udpipe-ud-2.5-191206/english-ewt-u\"| __truncated__\n",
            " $ download_failed : logi FALSE\n",
            " $ download_message: chr \"OK\"\n"
          ]
        }
      ]
    },
    {
      "cell_type": "code",
      "metadata": {
        "id": "LnPhj_qVPl-X"
      },
      "source": [
        "udmodel_english <- udpipe::udpipe_load_model(file = dl$file_model)"
      ],
      "execution_count": null,
      "outputs": []
    },
    {
      "cell_type": "code",
      "metadata": {
        "colab": {
          "base_uri": "https://localhost:8080/",
          "height": 1000
        },
        "id": "MTbT8x7zPrrI",
        "outputId": "e04747f8-e9a3-473e-96e0-2a99a9430757"
      },
      "source": [
        "txt <- \"The quick brown fox jumped over the lazy dog. Wait, don't you mean, 'The quick brown fox jumps over the lazy dog?' Your version is missing the 's'!\"\n",
        "annotated_txt_udp <- udpipe::udpipe_annotate(udmodel_english, x = txt)\n",
        "annotated_txt_udp <- as.data.frame(annotated_txt_udp)\n",
        "annotated_txt_udp"
      ],
      "execution_count": null,
      "outputs": [
        {
          "output_type": "display_data",
          "data": {
            "text/plain": [
              "   doc_id paragraph_id sentence_id\n",
              "1  doc1   1            1          \n",
              "2  doc1   1            1          \n",
              "3  doc1   1            1          \n",
              "4  doc1   1            1          \n",
              "5  doc1   1            1          \n",
              "6  doc1   1            1          \n",
              "7  doc1   1            1          \n",
              "8  doc1   1            1          \n",
              "9  doc1   1            1          \n",
              "10 doc1   1            1          \n",
              "11 doc1   1            2          \n",
              "12 doc1   1            2          \n",
              "13 doc1   1            2          \n",
              "14 doc1   1            2          \n",
              "15 doc1   1            2          \n",
              "16 doc1   1            2          \n",
              "17 doc1   1            2          \n",
              "18 doc1   1            2          \n",
              "19 doc1   1            2          \n",
              "20 doc1   1            2          \n",
              "21 doc1   1            2          \n",
              "22 doc1   1            2          \n",
              "23 doc1   1            2          \n",
              "24 doc1   1            2          \n",
              "25 doc1   1            2          \n",
              "26 doc1   1            2          \n",
              "27 doc1   1            2          \n",
              "28 doc1   1            2          \n",
              "29 doc1   1            2          \n",
              "30 doc1   1            3          \n",
              "31 doc1   1            3          \n",
              "32 doc1   1            3          \n",
              "33 doc1   1            3          \n",
              "34 doc1   1            3          \n",
              "35 doc1   1            3          \n",
              "36 doc1   1            3          \n",
              "37 doc1   1            3          \n",
              "   sentence                                                            \n",
              "1  The quick brown fox jumped over the lazy dog.                       \n",
              "2  The quick brown fox jumped over the lazy dog.                       \n",
              "3  The quick brown fox jumped over the lazy dog.                       \n",
              "4  The quick brown fox jumped over the lazy dog.                       \n",
              "5  The quick brown fox jumped over the lazy dog.                       \n",
              "6  The quick brown fox jumped over the lazy dog.                       \n",
              "7  The quick brown fox jumped over the lazy dog.                       \n",
              "8  The quick brown fox jumped over the lazy dog.                       \n",
              "9  The quick brown fox jumped over the lazy dog.                       \n",
              "10 The quick brown fox jumped over the lazy dog.                       \n",
              "11 Wait, don't you mean, 'The quick brown fox jumps over the lazy dog?'\n",
              "12 Wait, don't you mean, 'The quick brown fox jumps over the lazy dog?'\n",
              "13 Wait, don't you mean, 'The quick brown fox jumps over the lazy dog?'\n",
              "14 Wait, don't you mean, 'The quick brown fox jumps over the lazy dog?'\n",
              "15 Wait, don't you mean, 'The quick brown fox jumps over the lazy dog?'\n",
              "16 Wait, don't you mean, 'The quick brown fox jumps over the lazy dog?'\n",
              "17 Wait, don't you mean, 'The quick brown fox jumps over the lazy dog?'\n",
              "18 Wait, don't you mean, 'The quick brown fox jumps over the lazy dog?'\n",
              "19 Wait, don't you mean, 'The quick brown fox jumps over the lazy dog?'\n",
              "20 Wait, don't you mean, 'The quick brown fox jumps over the lazy dog?'\n",
              "21 Wait, don't you mean, 'The quick brown fox jumps over the lazy dog?'\n",
              "22 Wait, don't you mean, 'The quick brown fox jumps over the lazy dog?'\n",
              "23 Wait, don't you mean, 'The quick brown fox jumps over the lazy dog?'\n",
              "24 Wait, don't you mean, 'The quick brown fox jumps over the lazy dog?'\n",
              "25 Wait, don't you mean, 'The quick brown fox jumps over the lazy dog?'\n",
              "26 Wait, don't you mean, 'The quick brown fox jumps over the lazy dog?'\n",
              "27 Wait, don't you mean, 'The quick brown fox jumps over the lazy dog?'\n",
              "28 Wait, don't you mean, 'The quick brown fox jumps over the lazy dog?'\n",
              "29 Wait, don't you mean, 'The quick brown fox jumps over the lazy dog?'\n",
              "30 Your version is missing the 's'!                                    \n",
              "31 Your version is missing the 's'!                                    \n",
              "32 Your version is missing the 's'!                                    \n",
              "33 Your version is missing the 's'!                                    \n",
              "34 Your version is missing the 's'!                                    \n",
              "35 Your version is missing the 's'!                                    \n",
              "36 Your version is missing the 's'!                                    \n",
              "37 Your version is missing the 's'!                                    \n",
              "   token_id token   lemma   upos  xpos\n",
              "1  1        The     the     DET   DT  \n",
              "2  2        quick   quick   ADJ   JJ  \n",
              "3  3        brown   brown   ADJ   JJ  \n",
              "4  4        fox     fox     NOUN  NN  \n",
              "5  5        jumped  jump    VERB  VBD \n",
              "6  6        over    over    ADP   IN  \n",
              "7  7        the     the     DET   DT  \n",
              "8  8        lazy    lazy    ADJ   JJ  \n",
              "9  9        dog     dog     NOUN  NN  \n",
              "10 10       .       .       PUNCT .   \n",
              "11 1        Wait    wait    VERB  VB  \n",
              "12 2        ,       ,       PUNCT ,   \n",
              "13 3        do      do      AUX   VBP \n",
              "14 4        n't     not     PART  RB  \n",
              "15 5        you     you     PRON  PRP \n",
              "16 6        mean    mean    VERB  VB  \n",
              "17 7        ,       ,       PUNCT ,   \n",
              "18 8        '       '       PUNCT ``  \n",
              "19 9        The     the     DET   DT  \n",
              "20 10       quick   quick   ADJ   JJ  \n",
              "21 11       brown   brown   ADJ   JJ  \n",
              "22 12       fox     fox     NOUN  NN  \n",
              "23 13       jumps   jump    VERB  VBZ \n",
              "24 14       over    over    ADP   IN  \n",
              "25 15       the     the     DET   DT  \n",
              "26 16       lazy    lazy    ADJ   JJ  \n",
              "27 17       dog     dog     NOUN  NN  \n",
              "28 18       ?       ?       PUNCT .   \n",
              "29 19       '       '       PUNCT ''  \n",
              "30 1        Your    you     PRON  PRP$\n",
              "31 2        version version NOUN  NN  \n",
              "32 3        is      be      AUX   VBZ \n",
              "33 4        missing miss    VERB  VBG \n",
              "34 5        the     the     DET   DT  \n",
              "35 6        's      '       NOUN  NNS \n",
              "36 7        '       '       PUNCT ''  \n",
              "37 8        !       !       PUNCT .   \n",
              "   feats                                                 head_token_id\n",
              "1  Definite=Def|PronType=Art                             4            \n",
              "2  Degree=Pos                                            4            \n",
              "3  Degree=Pos                                            4            \n",
              "4  Number=Sing                                           5            \n",
              "5  Mood=Ind|Tense=Past|VerbForm=Fin                      0            \n",
              "6  NA                                                    9            \n",
              "7  Definite=Def|PronType=Art                             9            \n",
              "8  Degree=Pos                                            9            \n",
              "9  Number=Sing                                           5            \n",
              "10 NA                                                    5            \n",
              "11 Mood=Imp|VerbForm=Fin                                 0            \n",
              "12 NA                                                    1            \n",
              "13 Mood=Ind|Tense=Pres|VerbForm=Fin                      6            \n",
              "14 NA                                                    6            \n",
              "15 Case=Nom|Person=2|PronType=Prs                        6            \n",
              "16 VerbForm=Inf                                          1            \n",
              "17 NA                                                    1            \n",
              "18 NA                                                    1            \n",
              "19 Definite=Def|PronType=Art                             12           \n",
              "20 Degree=Pos                                            12           \n",
              "21 Degree=Pos                                            12           \n",
              "22 Number=Sing                                           13           \n",
              "23 Mood=Ind|Number=Sing|Person=3|Tense=Pres|VerbForm=Fin 1            \n",
              "24 NA                                                    17           \n",
              "25 Definite=Def|PronType=Art                             17           \n",
              "26 Degree=Pos                                            17           \n",
              "27 Number=Sing                                           13           \n",
              "28 NA                                                    1            \n",
              "29 NA                                                    1            \n",
              "30 Person=2|Poss=Yes|PronType=Prs                        2            \n",
              "31 Number=Sing                                           4            \n",
              "32 Mood=Ind|Number=Sing|Person=3|Tense=Pres|VerbForm=Fin 4            \n",
              "33 Tense=Pres|VerbForm=Part                              0            \n",
              "34 Definite=Def|PronType=Art                             6            \n",
              "35 Number=Plur|Typo=Yes                                  4            \n",
              "36 NA                                                    4            \n",
              "37 NA                                                    4            \n",
              "   dep_rel   deps misc           \n",
              "1  det       NA   NA             \n",
              "2  amod      NA   NA             \n",
              "3  amod      NA   NA             \n",
              "4  nsubj     NA   NA             \n",
              "5  root      NA   NA             \n",
              "6  case      NA   NA             \n",
              "7  det       NA   NA             \n",
              "8  amod      NA   NA             \n",
              "9  obl       NA   SpaceAfter=No  \n",
              "10 punct     NA   NA             \n",
              "11 root      NA   SpaceAfter=No  \n",
              "12 punct     NA   NA             \n",
              "13 aux       NA   SpaceAfter=No  \n",
              "14 advmod    NA   NA             \n",
              "15 nsubj     NA   NA             \n",
              "16 parataxis NA   SpaceAfter=No  \n",
              "17 punct     NA   NA             \n",
              "18 punct     NA   SpaceAfter=No  \n",
              "19 det       NA   NA             \n",
              "20 amod      NA   NA             \n",
              "21 amod      NA   NA             \n",
              "22 nsubj     NA   NA             \n",
              "23 ccomp     NA   NA             \n",
              "24 case      NA   NA             \n",
              "25 det       NA   NA             \n",
              "26 amod      NA   NA             \n",
              "27 obl       NA   SpaceAfter=No  \n",
              "28 punct     NA   SpaceAfter=No  \n",
              "29 punct     NA   NA             \n",
              "30 nmod:poss NA   NA             \n",
              "31 nsubj     NA   NA             \n",
              "32 aux       NA   NA             \n",
              "33 root      NA   NA             \n",
              "34 det       NA   NA             \n",
              "35 obj       NA   SpaceAfter=No  \n",
              "36 punct     NA   SpaceAfter=No  \n",
              "37 punct     NA   SpacesAfter=\\\\n"
            ],
            "text/latex": "A data.frame: 37 × 14\n\\begin{tabular}{llllllllllllll}\n doc\\_id & paragraph\\_id & sentence\\_id & sentence & token\\_id & token & lemma & upos & xpos & feats & head\\_token\\_id & dep\\_rel & deps & misc\\\\\n <chr> & <int> & <int> & <chr> & <chr> & <chr> & <chr> & <chr> & <chr> & <chr> & <chr> & <chr> & <chr> & <chr>\\\\\n\\hline\n\t doc1 & 1 & 1 & The quick brown fox jumped over the lazy dog.                        & 1  & The     & the     & DET   & DT   & Definite=Def\\textbar{}PronType=Art                             & 4  & det       & NA & NA             \\\\\n\t doc1 & 1 & 1 & The quick brown fox jumped over the lazy dog.                        & 2  & quick   & quick   & ADJ   & JJ   & Degree=Pos                                            & 4  & amod      & NA & NA             \\\\\n\t doc1 & 1 & 1 & The quick brown fox jumped over the lazy dog.                        & 3  & brown   & brown   & ADJ   & JJ   & Degree=Pos                                            & 4  & amod      & NA & NA             \\\\\n\t doc1 & 1 & 1 & The quick brown fox jumped over the lazy dog.                        & 4  & fox     & fox     & NOUN  & NN   & Number=Sing                                           & 5  & nsubj     & NA & NA             \\\\\n\t doc1 & 1 & 1 & The quick brown fox jumped over the lazy dog.                        & 5  & jumped  & jump    & VERB  & VBD  & Mood=Ind\\textbar{}Tense=Past\\textbar{}VerbForm=Fin                      & 0  & root      & NA & NA             \\\\\n\t doc1 & 1 & 1 & The quick brown fox jumped over the lazy dog.                        & 6  & over    & over    & ADP   & IN   & NA                                                    & 9  & case      & NA & NA             \\\\\n\t doc1 & 1 & 1 & The quick brown fox jumped over the lazy dog.                        & 7  & the     & the     & DET   & DT   & Definite=Def\\textbar{}PronType=Art                             & 9  & det       & NA & NA             \\\\\n\t doc1 & 1 & 1 & The quick brown fox jumped over the lazy dog.                        & 8  & lazy    & lazy    & ADJ   & JJ   & Degree=Pos                                            & 9  & amod      & NA & NA             \\\\\n\t doc1 & 1 & 1 & The quick brown fox jumped over the lazy dog.                        & 9  & dog     & dog     & NOUN  & NN   & Number=Sing                                           & 5  & obl       & NA & SpaceAfter=No  \\\\\n\t doc1 & 1 & 1 & The quick brown fox jumped over the lazy dog.                        & 10 & .       & .       & PUNCT & .    & NA                                                    & 5  & punct     & NA & NA             \\\\\n\t doc1 & 1 & 2 & Wait, don't you mean, 'The quick brown fox jumps over the lazy dog?' & 1  & Wait    & wait    & VERB  & VB   & Mood=Imp\\textbar{}VerbForm=Fin                                 & 0  & root      & NA & SpaceAfter=No  \\\\\n\t doc1 & 1 & 2 & Wait, don't you mean, 'The quick brown fox jumps over the lazy dog?' & 2  & ,       & ,       & PUNCT & ,    & NA                                                    & 1  & punct     & NA & NA             \\\\\n\t doc1 & 1 & 2 & Wait, don't you mean, 'The quick brown fox jumps over the lazy dog?' & 3  & do      & do      & AUX   & VBP  & Mood=Ind\\textbar{}Tense=Pres\\textbar{}VerbForm=Fin                      & 6  & aux       & NA & SpaceAfter=No  \\\\\n\t doc1 & 1 & 2 & Wait, don't you mean, 'The quick brown fox jumps over the lazy dog?' & 4  & n't     & not     & PART  & RB   & NA                                                    & 6  & advmod    & NA & NA             \\\\\n\t doc1 & 1 & 2 & Wait, don't you mean, 'The quick brown fox jumps over the lazy dog?' & 5  & you     & you     & PRON  & PRP  & Case=Nom\\textbar{}Person=2\\textbar{}PronType=Prs                        & 6  & nsubj     & NA & NA             \\\\\n\t doc1 & 1 & 2 & Wait, don't you mean, 'The quick brown fox jumps over the lazy dog?' & 6  & mean    & mean    & VERB  & VB   & VerbForm=Inf                                          & 1  & parataxis & NA & SpaceAfter=No  \\\\\n\t doc1 & 1 & 2 & Wait, don't you mean, 'The quick brown fox jumps over the lazy dog?' & 7  & ,       & ,       & PUNCT & ,    & NA                                                    & 1  & punct     & NA & NA             \\\\\n\t doc1 & 1 & 2 & Wait, don't you mean, 'The quick brown fox jumps over the lazy dog?' & 8  & '       & '       & PUNCT & ``   & NA                                                    & 1  & punct     & NA & SpaceAfter=No  \\\\\n\t doc1 & 1 & 2 & Wait, don't you mean, 'The quick brown fox jumps over the lazy dog?' & 9  & The     & the     & DET   & DT   & Definite=Def\\textbar{}PronType=Art                             & 12 & det       & NA & NA             \\\\\n\t doc1 & 1 & 2 & Wait, don't you mean, 'The quick brown fox jumps over the lazy dog?' & 10 & quick   & quick   & ADJ   & JJ   & Degree=Pos                                            & 12 & amod      & NA & NA             \\\\\n\t doc1 & 1 & 2 & Wait, don't you mean, 'The quick brown fox jumps over the lazy dog?' & 11 & brown   & brown   & ADJ   & JJ   & Degree=Pos                                            & 12 & amod      & NA & NA             \\\\\n\t doc1 & 1 & 2 & Wait, don't you mean, 'The quick brown fox jumps over the lazy dog?' & 12 & fox     & fox     & NOUN  & NN   & Number=Sing                                           & 13 & nsubj     & NA & NA             \\\\\n\t doc1 & 1 & 2 & Wait, don't you mean, 'The quick brown fox jumps over the lazy dog?' & 13 & jumps   & jump    & VERB  & VBZ  & Mood=Ind\\textbar{}Number=Sing\\textbar{}Person=3\\textbar{}Tense=Pres\\textbar{}VerbForm=Fin & 1  & ccomp     & NA & NA             \\\\\n\t doc1 & 1 & 2 & Wait, don't you mean, 'The quick brown fox jumps over the lazy dog?' & 14 & over    & over    & ADP   & IN   & NA                                                    & 17 & case      & NA & NA             \\\\\n\t doc1 & 1 & 2 & Wait, don't you mean, 'The quick brown fox jumps over the lazy dog?' & 15 & the     & the     & DET   & DT   & Definite=Def\\textbar{}PronType=Art                             & 17 & det       & NA & NA             \\\\\n\t doc1 & 1 & 2 & Wait, don't you mean, 'The quick brown fox jumps over the lazy dog?' & 16 & lazy    & lazy    & ADJ   & JJ   & Degree=Pos                                            & 17 & amod      & NA & NA             \\\\\n\t doc1 & 1 & 2 & Wait, don't you mean, 'The quick brown fox jumps over the lazy dog?' & 17 & dog     & dog     & NOUN  & NN   & Number=Sing                                           & 13 & obl       & NA & SpaceAfter=No  \\\\\n\t doc1 & 1 & 2 & Wait, don't you mean, 'The quick brown fox jumps over the lazy dog?' & 18 & ?       & ?       & PUNCT & .    & NA                                                    & 1  & punct     & NA & SpaceAfter=No  \\\\\n\t doc1 & 1 & 2 & Wait, don't you mean, 'The quick brown fox jumps over the lazy dog?' & 19 & '       & '       & PUNCT & ''   & NA                                                    & 1  & punct     & NA & NA             \\\\\n\t doc1 & 1 & 3 & Your version is missing the 's'!                                     & 1  & Your    & you     & PRON  & PRP\\$ & Person=2\\textbar{}Poss=Yes\\textbar{}PronType=Prs                        & 2  & nmod:poss & NA & NA             \\\\\n\t doc1 & 1 & 3 & Your version is missing the 's'!                                     & 2  & version & version & NOUN  & NN   & Number=Sing                                           & 4  & nsubj     & NA & NA             \\\\\n\t doc1 & 1 & 3 & Your version is missing the 's'!                                     & 3  & is      & be      & AUX   & VBZ  & Mood=Ind\\textbar{}Number=Sing\\textbar{}Person=3\\textbar{}Tense=Pres\\textbar{}VerbForm=Fin & 4  & aux       & NA & NA             \\\\\n\t doc1 & 1 & 3 & Your version is missing the 's'!                                     & 4  & missing & miss    & VERB  & VBG  & Tense=Pres\\textbar{}VerbForm=Part                              & 0  & root      & NA & NA             \\\\\n\t doc1 & 1 & 3 & Your version is missing the 's'!                                     & 5  & the     & the     & DET   & DT   & Definite=Def\\textbar{}PronType=Art                             & 6  & det       & NA & NA             \\\\\n\t doc1 & 1 & 3 & Your version is missing the 's'!                                     & 6  & 's      & '       & NOUN  & NNS  & Number=Plur\\textbar{}Typo=Yes                                  & 4  & obj       & NA & SpaceAfter=No  \\\\\n\t doc1 & 1 & 3 & Your version is missing the 's'!                                     & 7  & '       & '       & PUNCT & ''   & NA                                                    & 4  & punct     & NA & SpaceAfter=No  \\\\\n\t doc1 & 1 & 3 & Your version is missing the 's'!                                     & 8  & !       & !       & PUNCT & .    & NA                                                    & 4  & punct     & NA & SpacesAfter=\\textbackslash{}n\\\\\n\\end{tabular}\n",
            "text/markdown": "\nA data.frame: 37 × 14\n\n| doc_id &lt;chr&gt; | paragraph_id &lt;int&gt; | sentence_id &lt;int&gt; | sentence &lt;chr&gt; | token_id &lt;chr&gt; | token &lt;chr&gt; | lemma &lt;chr&gt; | upos &lt;chr&gt; | xpos &lt;chr&gt; | feats &lt;chr&gt; | head_token_id &lt;chr&gt; | dep_rel &lt;chr&gt; | deps &lt;chr&gt; | misc &lt;chr&gt; |\n|---|---|---|---|---|---|---|---|---|---|---|---|---|---|\n| doc1 | 1 | 1 | The quick brown fox jumped over the lazy dog.                        | 1  | The     | the     | DET   | DT   | Definite=Def|PronType=Art                             | 4  | det       | NA | NA              |\n| doc1 | 1 | 1 | The quick brown fox jumped over the lazy dog.                        | 2  | quick   | quick   | ADJ   | JJ   | Degree=Pos                                            | 4  | amod      | NA | NA              |\n| doc1 | 1 | 1 | The quick brown fox jumped over the lazy dog.                        | 3  | brown   | brown   | ADJ   | JJ   | Degree=Pos                                            | 4  | amod      | NA | NA              |\n| doc1 | 1 | 1 | The quick brown fox jumped over the lazy dog.                        | 4  | fox     | fox     | NOUN  | NN   | Number=Sing                                           | 5  | nsubj     | NA | NA              |\n| doc1 | 1 | 1 | The quick brown fox jumped over the lazy dog.                        | 5  | jumped  | jump    | VERB  | VBD  | Mood=Ind|Tense=Past|VerbForm=Fin                      | 0  | root      | NA | NA              |\n| doc1 | 1 | 1 | The quick brown fox jumped over the lazy dog.                        | 6  | over    | over    | ADP   | IN   | NA                                                    | 9  | case      | NA | NA              |\n| doc1 | 1 | 1 | The quick brown fox jumped over the lazy dog.                        | 7  | the     | the     | DET   | DT   | Definite=Def|PronType=Art                             | 9  | det       | NA | NA              |\n| doc1 | 1 | 1 | The quick brown fox jumped over the lazy dog.                        | 8  | lazy    | lazy    | ADJ   | JJ   | Degree=Pos                                            | 9  | amod      | NA | NA              |\n| doc1 | 1 | 1 | The quick brown fox jumped over the lazy dog.                        | 9  | dog     | dog     | NOUN  | NN   | Number=Sing                                           | 5  | obl       | NA | SpaceAfter=No   |\n| doc1 | 1 | 1 | The quick brown fox jumped over the lazy dog.                        | 10 | .       | .       | PUNCT | .    | NA                                                    | 5  | punct     | NA | NA              |\n| doc1 | 1 | 2 | Wait, don't you mean, 'The quick brown fox jumps over the lazy dog?' | 1  | Wait    | wait    | VERB  | VB   | Mood=Imp|VerbForm=Fin                                 | 0  | root      | NA | SpaceAfter=No   |\n| doc1 | 1 | 2 | Wait, don't you mean, 'The quick brown fox jumps over the lazy dog?' | 2  | ,       | ,       | PUNCT | ,    | NA                                                    | 1  | punct     | NA | NA              |\n| doc1 | 1 | 2 | Wait, don't you mean, 'The quick brown fox jumps over the lazy dog?' | 3  | do      | do      | AUX   | VBP  | Mood=Ind|Tense=Pres|VerbForm=Fin                      | 6  | aux       | NA | SpaceAfter=No   |\n| doc1 | 1 | 2 | Wait, don't you mean, 'The quick brown fox jumps over the lazy dog?' | 4  | n't     | not     | PART  | RB   | NA                                                    | 6  | advmod    | NA | NA              |\n| doc1 | 1 | 2 | Wait, don't you mean, 'The quick brown fox jumps over the lazy dog?' | 5  | you     | you     | PRON  | PRP  | Case=Nom|Person=2|PronType=Prs                        | 6  | nsubj     | NA | NA              |\n| doc1 | 1 | 2 | Wait, don't you mean, 'The quick brown fox jumps over the lazy dog?' | 6  | mean    | mean    | VERB  | VB   | VerbForm=Inf                                          | 1  | parataxis | NA | SpaceAfter=No   |\n| doc1 | 1 | 2 | Wait, don't you mean, 'The quick brown fox jumps over the lazy dog?' | 7  | ,       | ,       | PUNCT | ,    | NA                                                    | 1  | punct     | NA | NA              |\n| doc1 | 1 | 2 | Wait, don't you mean, 'The quick brown fox jumps over the lazy dog?' | 8  | '       | '       | PUNCT | ``   | NA                                                    | 1  | punct     | NA | SpaceAfter=No   |\n| doc1 | 1 | 2 | Wait, don't you mean, 'The quick brown fox jumps over the lazy dog?' | 9  | The     | the     | DET   | DT   | Definite=Def|PronType=Art                             | 12 | det       | NA | NA              |\n| doc1 | 1 | 2 | Wait, don't you mean, 'The quick brown fox jumps over the lazy dog?' | 10 | quick   | quick   | ADJ   | JJ   | Degree=Pos                                            | 12 | amod      | NA | NA              |\n| doc1 | 1 | 2 | Wait, don't you mean, 'The quick brown fox jumps over the lazy dog?' | 11 | brown   | brown   | ADJ   | JJ   | Degree=Pos                                            | 12 | amod      | NA | NA              |\n| doc1 | 1 | 2 | Wait, don't you mean, 'The quick brown fox jumps over the lazy dog?' | 12 | fox     | fox     | NOUN  | NN   | Number=Sing                                           | 13 | nsubj     | NA | NA              |\n| doc1 | 1 | 2 | Wait, don't you mean, 'The quick brown fox jumps over the lazy dog?' | 13 | jumps   | jump    | VERB  | VBZ  | Mood=Ind|Number=Sing|Person=3|Tense=Pres|VerbForm=Fin | 1  | ccomp     | NA | NA              |\n| doc1 | 1 | 2 | Wait, don't you mean, 'The quick brown fox jumps over the lazy dog?' | 14 | over    | over    | ADP   | IN   | NA                                                    | 17 | case      | NA | NA              |\n| doc1 | 1 | 2 | Wait, don't you mean, 'The quick brown fox jumps over the lazy dog?' | 15 | the     | the     | DET   | DT   | Definite=Def|PronType=Art                             | 17 | det       | NA | NA              |\n| doc1 | 1 | 2 | Wait, don't you mean, 'The quick brown fox jumps over the lazy dog?' | 16 | lazy    | lazy    | ADJ   | JJ   | Degree=Pos                                            | 17 | amod      | NA | NA              |\n| doc1 | 1 | 2 | Wait, don't you mean, 'The quick brown fox jumps over the lazy dog?' | 17 | dog     | dog     | NOUN  | NN   | Number=Sing                                           | 13 | obl       | NA | SpaceAfter=No   |\n| doc1 | 1 | 2 | Wait, don't you mean, 'The quick brown fox jumps over the lazy dog?' | 18 | ?       | ?       | PUNCT | .    | NA                                                    | 1  | punct     | NA | SpaceAfter=No   |\n| doc1 | 1 | 2 | Wait, don't you mean, 'The quick brown fox jumps over the lazy dog?' | 19 | '       | '       | PUNCT | ''   | NA                                                    | 1  | punct     | NA | NA              |\n| doc1 | 1 | 3 | Your version is missing the 's'!                                     | 1  | Your    | you     | PRON  | PRP$ | Person=2|Poss=Yes|PronType=Prs                        | 2  | nmod:poss | NA | NA              |\n| doc1 | 1 | 3 | Your version is missing the 's'!                                     | 2  | version | version | NOUN  | NN   | Number=Sing                                           | 4  | nsubj     | NA | NA              |\n| doc1 | 1 | 3 | Your version is missing the 's'!                                     | 3  | is      | be      | AUX   | VBZ  | Mood=Ind|Number=Sing|Person=3|Tense=Pres|VerbForm=Fin | 4  | aux       | NA | NA              |\n| doc1 | 1 | 3 | Your version is missing the 's'!                                     | 4  | missing | miss    | VERB  | VBG  | Tense=Pres|VerbForm=Part                              | 0  | root      | NA | NA              |\n| doc1 | 1 | 3 | Your version is missing the 's'!                                     | 5  | the     | the     | DET   | DT   | Definite=Def|PronType=Art                             | 6  | det       | NA | NA              |\n| doc1 | 1 | 3 | Your version is missing the 's'!                                     | 6  | 's      | '       | NOUN  | NNS  | Number=Plur|Typo=Yes                                  | 4  | obj       | NA | SpaceAfter=No   |\n| doc1 | 1 | 3 | Your version is missing the 's'!                                     | 7  | '       | '       | PUNCT | ''   | NA                                                    | 4  | punct     | NA | SpaceAfter=No   |\n| doc1 | 1 | 3 | Your version is missing the 's'!                                     | 8  | !       | !       | PUNCT | .    | NA                                                    | 4  | punct     | NA | SpacesAfter=\\n |\n\n",
            "text/html": [
              "<table class=\"dataframe\">\n",
              "<caption>A data.frame: 37 × 14</caption>\n",
              "<thead>\n",
              "\t<tr><th scope=col>doc_id</th><th scope=col>paragraph_id</th><th scope=col>sentence_id</th><th scope=col>sentence</th><th scope=col>token_id</th><th scope=col>token</th><th scope=col>lemma</th><th scope=col>upos</th><th scope=col>xpos</th><th scope=col>feats</th><th scope=col>head_token_id</th><th scope=col>dep_rel</th><th scope=col>deps</th><th scope=col>misc</th></tr>\n",
              "\t<tr><th scope=col>&lt;chr&gt;</th><th scope=col>&lt;int&gt;</th><th scope=col>&lt;int&gt;</th><th scope=col>&lt;chr&gt;</th><th scope=col>&lt;chr&gt;</th><th scope=col>&lt;chr&gt;</th><th scope=col>&lt;chr&gt;</th><th scope=col>&lt;chr&gt;</th><th scope=col>&lt;chr&gt;</th><th scope=col>&lt;chr&gt;</th><th scope=col>&lt;chr&gt;</th><th scope=col>&lt;chr&gt;</th><th scope=col>&lt;chr&gt;</th><th scope=col>&lt;chr&gt;</th></tr>\n",
              "</thead>\n",
              "<tbody>\n",
              "\t<tr><td>doc1</td><td>1</td><td>1</td><td>The quick brown fox jumped over the lazy dog.                       </td><td>1 </td><td>The    </td><td>the    </td><td>DET  </td><td>DT  </td><td>Definite=Def|PronType=Art                            </td><td>4 </td><td>det      </td><td>NA</td><td>NA             </td></tr>\n",
              "\t<tr><td>doc1</td><td>1</td><td>1</td><td>The quick brown fox jumped over the lazy dog.                       </td><td>2 </td><td>quick  </td><td>quick  </td><td>ADJ  </td><td>JJ  </td><td>Degree=Pos                                           </td><td>4 </td><td>amod     </td><td>NA</td><td>NA             </td></tr>\n",
              "\t<tr><td>doc1</td><td>1</td><td>1</td><td>The quick brown fox jumped over the lazy dog.                       </td><td>3 </td><td>brown  </td><td>brown  </td><td>ADJ  </td><td>JJ  </td><td>Degree=Pos                                           </td><td>4 </td><td>amod     </td><td>NA</td><td>NA             </td></tr>\n",
              "\t<tr><td>doc1</td><td>1</td><td>1</td><td>The quick brown fox jumped over the lazy dog.                       </td><td>4 </td><td>fox    </td><td>fox    </td><td>NOUN </td><td>NN  </td><td>Number=Sing                                          </td><td>5 </td><td>nsubj    </td><td>NA</td><td>NA             </td></tr>\n",
              "\t<tr><td>doc1</td><td>1</td><td>1</td><td>The quick brown fox jumped over the lazy dog.                       </td><td>5 </td><td>jumped </td><td>jump   </td><td>VERB </td><td>VBD </td><td>Mood=Ind|Tense=Past|VerbForm=Fin                     </td><td>0 </td><td>root     </td><td>NA</td><td>NA             </td></tr>\n",
              "\t<tr><td>doc1</td><td>1</td><td>1</td><td>The quick brown fox jumped over the lazy dog.                       </td><td>6 </td><td>over   </td><td>over   </td><td>ADP  </td><td>IN  </td><td>NA                                                   </td><td>9 </td><td>case     </td><td>NA</td><td>NA             </td></tr>\n",
              "\t<tr><td>doc1</td><td>1</td><td>1</td><td>The quick brown fox jumped over the lazy dog.                       </td><td>7 </td><td>the    </td><td>the    </td><td>DET  </td><td>DT  </td><td>Definite=Def|PronType=Art                            </td><td>9 </td><td>det      </td><td>NA</td><td>NA             </td></tr>\n",
              "\t<tr><td>doc1</td><td>1</td><td>1</td><td>The quick brown fox jumped over the lazy dog.                       </td><td>8 </td><td>lazy   </td><td>lazy   </td><td>ADJ  </td><td>JJ  </td><td>Degree=Pos                                           </td><td>9 </td><td>amod     </td><td>NA</td><td>NA             </td></tr>\n",
              "\t<tr><td>doc1</td><td>1</td><td>1</td><td>The quick brown fox jumped over the lazy dog.                       </td><td>9 </td><td>dog    </td><td>dog    </td><td>NOUN </td><td>NN  </td><td>Number=Sing                                          </td><td>5 </td><td>obl      </td><td>NA</td><td>SpaceAfter=No  </td></tr>\n",
              "\t<tr><td>doc1</td><td>1</td><td>1</td><td>The quick brown fox jumped over the lazy dog.                       </td><td>10</td><td>.      </td><td>.      </td><td>PUNCT</td><td>.   </td><td>NA                                                   </td><td>5 </td><td>punct    </td><td>NA</td><td>NA             </td></tr>\n",
              "\t<tr><td>doc1</td><td>1</td><td>2</td><td>Wait, don't you mean, 'The quick brown fox jumps over the lazy dog?'</td><td>1 </td><td>Wait   </td><td>wait   </td><td>VERB </td><td>VB  </td><td>Mood=Imp|VerbForm=Fin                                </td><td>0 </td><td>root     </td><td>NA</td><td>SpaceAfter=No  </td></tr>\n",
              "\t<tr><td>doc1</td><td>1</td><td>2</td><td>Wait, don't you mean, 'The quick brown fox jumps over the lazy dog?'</td><td>2 </td><td>,      </td><td>,      </td><td>PUNCT</td><td>,   </td><td>NA                                                   </td><td>1 </td><td>punct    </td><td>NA</td><td>NA             </td></tr>\n",
              "\t<tr><td>doc1</td><td>1</td><td>2</td><td>Wait, don't you mean, 'The quick brown fox jumps over the lazy dog?'</td><td>3 </td><td>do     </td><td>do     </td><td>AUX  </td><td>VBP </td><td>Mood=Ind|Tense=Pres|VerbForm=Fin                     </td><td>6 </td><td>aux      </td><td>NA</td><td>SpaceAfter=No  </td></tr>\n",
              "\t<tr><td>doc1</td><td>1</td><td>2</td><td>Wait, don't you mean, 'The quick brown fox jumps over the lazy dog?'</td><td>4 </td><td>n't    </td><td>not    </td><td>PART </td><td>RB  </td><td>NA                                                   </td><td>6 </td><td>advmod   </td><td>NA</td><td>NA             </td></tr>\n",
              "\t<tr><td>doc1</td><td>1</td><td>2</td><td>Wait, don't you mean, 'The quick brown fox jumps over the lazy dog?'</td><td>5 </td><td>you    </td><td>you    </td><td>PRON </td><td>PRP </td><td>Case=Nom|Person=2|PronType=Prs                       </td><td>6 </td><td>nsubj    </td><td>NA</td><td>NA             </td></tr>\n",
              "\t<tr><td>doc1</td><td>1</td><td>2</td><td>Wait, don't you mean, 'The quick brown fox jumps over the lazy dog?'</td><td>6 </td><td>mean   </td><td>mean   </td><td>VERB </td><td>VB  </td><td>VerbForm=Inf                                         </td><td>1 </td><td>parataxis</td><td>NA</td><td>SpaceAfter=No  </td></tr>\n",
              "\t<tr><td>doc1</td><td>1</td><td>2</td><td>Wait, don't you mean, 'The quick brown fox jumps over the lazy dog?'</td><td>7 </td><td>,      </td><td>,      </td><td>PUNCT</td><td>,   </td><td>NA                                                   </td><td>1 </td><td>punct    </td><td>NA</td><td>NA             </td></tr>\n",
              "\t<tr><td>doc1</td><td>1</td><td>2</td><td>Wait, don't you mean, 'The quick brown fox jumps over the lazy dog?'</td><td>8 </td><td>'      </td><td>'      </td><td>PUNCT</td><td>``  </td><td>NA                                                   </td><td>1 </td><td>punct    </td><td>NA</td><td>SpaceAfter=No  </td></tr>\n",
              "\t<tr><td>doc1</td><td>1</td><td>2</td><td>Wait, don't you mean, 'The quick brown fox jumps over the lazy dog?'</td><td>9 </td><td>The    </td><td>the    </td><td>DET  </td><td>DT  </td><td>Definite=Def|PronType=Art                            </td><td>12</td><td>det      </td><td>NA</td><td>NA             </td></tr>\n",
              "\t<tr><td>doc1</td><td>1</td><td>2</td><td>Wait, don't you mean, 'The quick brown fox jumps over the lazy dog?'</td><td>10</td><td>quick  </td><td>quick  </td><td>ADJ  </td><td>JJ  </td><td>Degree=Pos                                           </td><td>12</td><td>amod     </td><td>NA</td><td>NA             </td></tr>\n",
              "\t<tr><td>doc1</td><td>1</td><td>2</td><td>Wait, don't you mean, 'The quick brown fox jumps over the lazy dog?'</td><td>11</td><td>brown  </td><td>brown  </td><td>ADJ  </td><td>JJ  </td><td>Degree=Pos                                           </td><td>12</td><td>amod     </td><td>NA</td><td>NA             </td></tr>\n",
              "\t<tr><td>doc1</td><td>1</td><td>2</td><td>Wait, don't you mean, 'The quick brown fox jumps over the lazy dog?'</td><td>12</td><td>fox    </td><td>fox    </td><td>NOUN </td><td>NN  </td><td>Number=Sing                                          </td><td>13</td><td>nsubj    </td><td>NA</td><td>NA             </td></tr>\n",
              "\t<tr><td>doc1</td><td>1</td><td>2</td><td>Wait, don't you mean, 'The quick brown fox jumps over the lazy dog?'</td><td>13</td><td>jumps  </td><td>jump   </td><td>VERB </td><td>VBZ </td><td>Mood=Ind|Number=Sing|Person=3|Tense=Pres|VerbForm=Fin</td><td>1 </td><td>ccomp    </td><td>NA</td><td>NA             </td></tr>\n",
              "\t<tr><td>doc1</td><td>1</td><td>2</td><td>Wait, don't you mean, 'The quick brown fox jumps over the lazy dog?'</td><td>14</td><td>over   </td><td>over   </td><td>ADP  </td><td>IN  </td><td>NA                                                   </td><td>17</td><td>case     </td><td>NA</td><td>NA             </td></tr>\n",
              "\t<tr><td>doc1</td><td>1</td><td>2</td><td>Wait, don't you mean, 'The quick brown fox jumps over the lazy dog?'</td><td>15</td><td>the    </td><td>the    </td><td>DET  </td><td>DT  </td><td>Definite=Def|PronType=Art                            </td><td>17</td><td>det      </td><td>NA</td><td>NA             </td></tr>\n",
              "\t<tr><td>doc1</td><td>1</td><td>2</td><td>Wait, don't you mean, 'The quick brown fox jumps over the lazy dog?'</td><td>16</td><td>lazy   </td><td>lazy   </td><td>ADJ  </td><td>JJ  </td><td>Degree=Pos                                           </td><td>17</td><td>amod     </td><td>NA</td><td>NA             </td></tr>\n",
              "\t<tr><td>doc1</td><td>1</td><td>2</td><td>Wait, don't you mean, 'The quick brown fox jumps over the lazy dog?'</td><td>17</td><td>dog    </td><td>dog    </td><td>NOUN </td><td>NN  </td><td>Number=Sing                                          </td><td>13</td><td>obl      </td><td>NA</td><td>SpaceAfter=No  </td></tr>\n",
              "\t<tr><td>doc1</td><td>1</td><td>2</td><td>Wait, don't you mean, 'The quick brown fox jumps over the lazy dog?'</td><td>18</td><td>?      </td><td>?      </td><td>PUNCT</td><td>.   </td><td>NA                                                   </td><td>1 </td><td>punct    </td><td>NA</td><td>SpaceAfter=No  </td></tr>\n",
              "\t<tr><td>doc1</td><td>1</td><td>2</td><td>Wait, don't you mean, 'The quick brown fox jumps over the lazy dog?'</td><td>19</td><td>'      </td><td>'      </td><td>PUNCT</td><td>''  </td><td>NA                                                   </td><td>1 </td><td>punct    </td><td>NA</td><td>NA             </td></tr>\n",
              "\t<tr><td>doc1</td><td>1</td><td>3</td><td>Your version is missing the 's'!                                    </td><td>1 </td><td>Your   </td><td>you    </td><td>PRON </td><td>PRP$</td><td>Person=2|Poss=Yes|PronType=Prs                       </td><td>2 </td><td>nmod:poss</td><td>NA</td><td>NA             </td></tr>\n",
              "\t<tr><td>doc1</td><td>1</td><td>3</td><td>Your version is missing the 's'!                                    </td><td>2 </td><td>version</td><td>version</td><td>NOUN </td><td>NN  </td><td>Number=Sing                                          </td><td>4 </td><td>nsubj    </td><td>NA</td><td>NA             </td></tr>\n",
              "\t<tr><td>doc1</td><td>1</td><td>3</td><td>Your version is missing the 's'!                                    </td><td>3 </td><td>is     </td><td>be     </td><td>AUX  </td><td>VBZ </td><td>Mood=Ind|Number=Sing|Person=3|Tense=Pres|VerbForm=Fin</td><td>4 </td><td>aux      </td><td>NA</td><td>NA             </td></tr>\n",
              "\t<tr><td>doc1</td><td>1</td><td>3</td><td>Your version is missing the 's'!                                    </td><td>4 </td><td>missing</td><td>miss   </td><td>VERB </td><td>VBG </td><td>Tense=Pres|VerbForm=Part                             </td><td>0 </td><td>root     </td><td>NA</td><td>NA             </td></tr>\n",
              "\t<tr><td>doc1</td><td>1</td><td>3</td><td>Your version is missing the 's'!                                    </td><td>5 </td><td>the    </td><td>the    </td><td>DET  </td><td>DT  </td><td>Definite=Def|PronType=Art                            </td><td>6 </td><td>det      </td><td>NA</td><td>NA             </td></tr>\n",
              "\t<tr><td>doc1</td><td>1</td><td>3</td><td>Your version is missing the 's'!                                    </td><td>6 </td><td>'s     </td><td>'      </td><td>NOUN </td><td>NNS </td><td>Number=Plur|Typo=Yes                                 </td><td>4 </td><td>obj      </td><td>NA</td><td>SpaceAfter=No  </td></tr>\n",
              "\t<tr><td>doc1</td><td>1</td><td>3</td><td>Your version is missing the 's'!                                    </td><td>7 </td><td>'      </td><td>'      </td><td>PUNCT</td><td>''  </td><td>NA                                                   </td><td>4 </td><td>punct    </td><td>NA</td><td>SpaceAfter=No  </td></tr>\n",
              "\t<tr><td>doc1</td><td>1</td><td>3</td><td>Your version is missing the 's'!                                    </td><td>8 </td><td>!      </td><td>!      </td><td>PUNCT</td><td>.   </td><td>NA                                                   </td><td>4 </td><td>punct    </td><td>NA</td><td>SpacesAfter=\\n</td></tr>\n",
              "</tbody>\n",
              "</table>\n"
            ]
          },
          "metadata": {}
        }
      ]
    },
    {
      "cell_type": "markdown",
      "metadata": {
        "id": "em2BgZbLO-QY"
      },
      "source": [
        "By default, the `udpipe_annotate` command does tokenization, POS tagging, lemmatization and dependency parsing, but you can leave parts of this out with options. \n",
        "\n",
        "It should also be noted that udpipe has support for general text-as-data sorts of tasks, as noted above.\n",
        "\n",
        "The udpipe package author, Jan Wijffels, has authored several other NLP/text packages mentioned here or in other notebooks with this course and there are many interrelations: https://cran.r-project.org/web/packages/udpipe/vignettes/udpipe-universe.html. This is another advantage of udpipe for R users.\n",
        "\n",
        "The documentation offers several social science text-as-data sorts of use cases, especially unsupervised tasks like topic modeling. See for example  https://cran.r-project.org/web/packages/udpipe/vignettes/udpipe-usecase-postagging-lemmatisation.html and https://cran.r-project.org/web/packages/udpipe/vignettes/udpipe-usecase-topicmodelling.html."
      ]
    },
    {
      "cell_type": "markdown",
      "source": [
        "# cleanNLP"
      ],
      "metadata": {
        "id": "x1UV0t-gk8p0"
      }
    },
    {
      "cell_type": "code",
      "metadata": {
        "colab": {
          "base_uri": "https://localhost:8080/"
        },
        "id": "VkHGU9G5bbEs",
        "outputId": "9ebae80b-15ba-4f34-e9b4-9c46d47e9bef"
      },
      "source": [
        "install.packages(\"cleanNLP\")\n",
        "library(cleanNLP)\n"
      ],
      "execution_count": null,
      "outputs": [
        {
          "output_type": "stream",
          "name": "stderr",
          "text": [
            "Installing package into ‘/usr/local/lib/R/site-library’\n",
            "(as ‘lib’ is unspecified)\n",
            "\n",
            "also installing the dependencies ‘Rcpp’, ‘RcppTOML’, ‘here’, ‘png’, ‘udpipe’, ‘reticulate’\n",
            "\n",
            "\n"
          ]
        }
      ]
    },
    {
      "cell_type": "markdown",
      "metadata": {
        "id": "fq7VRERA3mAn"
      },
      "source": [
        "## `cleanNLP` and CoreNLP and  Spacy, oh my.\n",
        "\n",
        "The standard-bearer for NLP work is Stanford's CoreNLP suite (available [here](https://stanfordnlp.github.io/CoreNLP/)). Historically, that work was available in Java, with really ineffective ports to other programming languages. Fortunately, the past few years have seen major progress in making the suite more accessible in both Python and R. We're going to leverage the best package with the best port to R --- `cleanNLP` --- for our NLP tasks. \n",
        "\n",
        "Stanford's CoreNLP, though, is just one of many NLP annotation tools available with `cleanNLP`. There are two important points to highlight related to this. First, in addition to CoreNLP, `cleanNLP` can leverage spacy, a high-powered Python library; spacy is (much) faster than CoreNLP, but with some cost in classification accuracy. Second, both CoreNLP and spacy require a Python installation on your machine. Because of that, we can't run the CoreNLP or spacy code **here on Colab** (it's a long story). We will be able to use the universal dependencies pipe (udpipe), so that's what we'll do here. \n",
        "\n",
        "More generally, though, you'll want to have the capacity provided by CoreNLP or spacy available for your projects on your personal machine. Therefore, you need to install Python. I recommend installing Anaconda Python (available [here](https://www.anaconda.com/products/individual)). Once you've done that, you'll need to install the `cleanNLP` module within Python. "
      ]
    },
    {
      "cell_type": "markdown",
      "metadata": {
        "id": "dsaJNiDvsbMc"
      },
      "source": [
        "# CleanNLP\n",
        "\n",
        "To get started, you'll need to initialize the NLP backend. We'll be using the `udpipe` backend, which comes installed with the `cleanNLP` package. "
      ]
    },
    {
      "cell_type": "code",
      "metadata": {
        "id": "tlV5YJPPnIWz",
        "colab": {
          "base_uri": "https://localhost:8080/"
        },
        "outputId": "5f53777b-ffd6-4e1b-d201-a6dc55d0107c"
      },
      "source": [
        "cnlp_init_udpipe()"
      ],
      "execution_count": null,
      "outputs": [
        {
          "output_type": "stream",
          "text": [
            "Downloading udpipe model from https://raw.githubusercontent.com/jwijffels/udpipe.models.ud.2.5/master/inst/udpipe-ud-2.5-191206/english-ewt-ud-2.5-191206.udpipe to /usr/local/lib/R/site-library/cleanNLP/extdata/english-ewt-ud-2.5-191206.udpipe\n",
            "\n",
            " - This model has been trained on version 2.5 of data from https://universaldependencies.org\n",
            "\n",
            " - The model is distributed under the CC-BY-SA-NC license: https://creativecommons.org/licenses/by-nc-sa/4.0\n",
            "\n",
            " - Visit https://github.com/jwijffels/udpipe.models.ud.2.5 for model license details.\n",
            "\n",
            " - For a list of all models and their licenses (most models you can download with this package have either a CC-BY-SA or a CC-BY-SA-NC license) read the documentation at ?udpipe_download_model. For building your own models: visit the documentation by typing vignette('udpipe-train', package = 'udpipe')\n",
            "\n",
            "Downloading finished, model stored at '/usr/local/lib/R/site-library/cleanNLP/extdata/english-ewt-ud-2.5-191206.udpipe'\n",
            "\n"
          ],
          "name": "stderr"
        }
      ]
    },
    {
      "cell_type": "markdown",
      "metadata": {
        "id": "Q40gP6aAZAGV"
      },
      "source": [
        "We have our NLP backend initialized and ready to roll. But we never decided on data for today! We'll be using the U.S. Presidential Inaugural Address corpus, which comes pre-loaded with `quanteda`. The corpus is already in your workspace (since it is pre-loaded) as `data_corpus_inaugural`; it features speeches from 1789 to the present, with document variables indicating the year (`Year`) of the speech, the last name of the president (`President`), and their political party (`Party`).  "
      ]
    },
    {
      "cell_type": "code",
      "metadata": {
        "colab": {
          "base_uri": "https://localhost:8080/"
        },
        "id": "uM-QCDCIdhrW",
        "outputId": "c77c98c2-2023-4813-8288-81b6be3bbee5"
      },
      "source": [
        "# pull the corpus as a character vector (which works with cleanNLP) rather than a corpus object, which does not.\n",
        "text <- texts(data_corpus_inaugural)\n",
        "\n",
        "# To give you an idea of what these look like, here's Trump's speech\n",
        "text[length(text)]"
      ],
      "execution_count": null,
      "outputs": [
        {
          "output_type": "display_data",
          "data": {
            "text/plain": [
              "                                                                                                                                                                                                                                                                                                                                                                                                                                                                                                                                                                                                                                                                                                                                                                                                                                                                                                                                                                                                                                                                                                                                                                                                                                                                                                                                                                                                                                                                                                                                                                                                                                                                                                                                                                                                                                                                                                                                                                                                                                                                                                                                                                                                                                                                                                                                                                                                                                                                                                                                                                                                                                                                                                                                                                                                                                                                                                                                                                                                                                                                                                                                                                                                                                                                                                                                                                                                                                                                                                                                                                                                                                                                                                                                                                                                                                                                                                                                                                                                                                                                                                                                                                                                                                                                                                                                                                                                                                                                                                                                                                                                                                                                                                                                                                                                                                                                                                                                                                                                                                                                                                                                                                                                                                                                                                                                                                                                                                                                                                                                                                                                                                                                                                                                                                                                                                                                                                                                                                                                                                                                                                                                                                                                                                                                                                                                                                                                                                                                                                                                                                                                                                                                                                                                                                                                                                                                                                                                                                                                                                                                                                                                                                                                                                                                                                                                                                                                                                                                                                                                                                                                                                                                                                                                                                                                                                                                                                                                                                                                                                                                                                                                                                                                                                                                                                                                                                                                                                                                                                                                                                                                                                                                                                                                                                                                                                                                                                                         2017-Trump \n",
              "\"Chief Justice Roberts, President Carter, President Clinton, President Bush, President Obama, fellow Americans, and people of the world: thank you.\\n\\nWe, the citizens of America, are now joined in a great national effort to rebuild our country and restore its promise for all of our people.\\n\\nTogether, we will determine the course of America and the world for many, many years to come.\\n\\nWe will face challenges. We will confront hardships. But we will get the job done.\\n\\nEvery four years, we gather on these steps to carry out the orderly and peaceful transfer of power, and we are grateful to President Obama and First Lady Michelle Obama for their gracious aid throughout this transition. They have been magnificent. Thank you.\\n\\nToday's ceremony, however, has very special meaning. Because today we are not merely transferring power from one Administration to another, or from one party to another - but we are transferring power from Washington DC and giving it back to you, the people.\\n\\nFor too long, a small group in our nation's Capital has reaped the rewards of government while the people have borne the cost.\\n\\nWashington flourished - but the people did not share in its wealth.\\n\\nPoliticians prospered - but the jobs left, and the factories closed.\\n\\nThe establishment protected itself, but not the citizens of our country.\\n\\nTheir victories have not been your victories; their triumphs have not been your triumphs; and while they celebrated in our nation's capital, there was little to celebrate for struggling families all across our land.\\n\\nThat all changes - starting right here, and right now, because this moment is your moment: it belongs to you.\\n\\nIt belongs to everyone gathered here today and everyone watching all across America.\\n\\nThis is your day. This is your celebration.\\n\\nAnd this, the United States of America, is your country.\\n\\nWhat truly matters is not which party controls our government, but whether our government is controlled by the people.\\n\\nJanuary 20, 2017, will be remembered as the day the people became the rulers of this nation again.\\n\\nThe forgotten men and women of our country will be forgotten no longer.\\n\\nEveryone is listening to you now.\\n\\nYou came by the tens of millions to become part of a historic movement the likes of which the world has never seen before.\\n\\nAt the center of this movement is a crucial conviction: that a nation exists to serve its citizens.\\n\\nAmericans want great schools for their children, safe neighborhoods for their families, and good jobs for themselves.\\n\\nThese are just and reasonable demands of righteous people and a righteous public.\\n\\nBut for too many of our citizens, a different reality exists: mothers and children trapped in poverty in our inner cities; rusted-out factories scattered like tombstones across the landscape of our nation; an education system, flush with cash, but which leaves our young and beautiful students deprived of all knowledge; and the crime and the gangs and the drugs that have stolen too many lives and robbed our country of so much unrealized potential.\\n\\nThis American carnage stops right here and stops right now.\\n\\nWe are one nation - and their pain is our pain. Their dreams are our dreams; and their success will be our success. We share one heart, one home, and one glorious destiny.\\n\\nThe oath of office I take today is an oath of allegiance to all Americans.\\n\\nFor many decades, we've enriched foreign industry at the expense of American industry; subsidized the armies of other countries while allowing for the very sad depletion of our military; we've defended other nations' borders while refusing to defend our own; and spent trillions and trillions of dollars overseas while America's infrastructure has fallen into disrepair and decay.\\n\\nWe've made other countries rich while the wealth, strength, and confidence of our country has dissipated over the horizon.\\n\\nOne by one, the factories shuttered and left our shores, with not even a thought about the millions and millions of American workers that were left behind.\\n\\nThe wealth of our middle class has been ripped from their homes and then redistributed all across the world.\\n\\nBut that is the past. And now we are looking only to the future.\\n\\nWe assembled here today are issuing a new decree to be heard in every city, in every foreign capital, and in every hall of power.\\n\\nFrom this day forward, a new vision will govern our land.\\n\\nFrom this day forward, it's going to be only America first, America first.\\n\\nEvery decision on trade, on taxes, on immigration, on foreign affairs, will be made to benefit American workers and American families.\\n\\nWe must protect our borders from the ravages of other countries making our products, stealing our companies, and destroying our jobs. Protection will lead to great prosperity and strength.\\n\\nI will fight for you with every breath in my body - and I will never, ever let you down.\\n\\nAmerica will start winning again, winning like never before.\\n\\nWe will bring back our jobs. We will bring back our borders. We will bring back our wealth. And we will bring back our dreams.\\n\\nWe will build new roads, and highways, and bridges, and airports, and tunnels, and railways all across our wonderful nation.\\n\\nWe will get our people off of welfare and back to work - rebuilding our country with American hands and American labor.\\n\\nWe will follow two simple rules: buy American and hire American.\\n\\nWe will seek friendship and goodwill with the nations of the world - but we do so with the understanding that it is the right of all nations to put their own interests first.\\n\\nWe do not seek to impose our way of life on anyone, but rather to let it shine as an example for everyone to follow.\\n\\nWe will reinforce old alliances and form new ones - and unite the civilized world against radical Islamic terrorism, which we will eradicate from the face of the Earth.\\n\\nAt the bedrock of our politics will be a total allegiance to the United States of America, and through our loyalty to our country, we will rediscover our loyalty to each other.\\n\\nWhen you open your heart to patriotism, there is no room for prejudice.\\n\\nThe Bible tells us: \\\"How good and pleasant it is when God's people live together in unity.\\\"\\n\\nWe must speak our minds openly, debate our disagreements honestly, but always pursue solidarity.\\n\\nWhen America is united, America is totally unstoppable.\\n\\nThere should be no fear - we are protected, and we will always be protected.\\n\\nWe will be protected by the great men and women of our military and law enforcement and, most importantly, we are protected by God.\\n\\nFinally, we must think big and dream even bigger.\\n\\nIn America, we understand that a nation is only living as long as it is striving.\\n\\nWe will no longer accept politicians who are all talk and no action - constantly complaining but never doing anything about it.\\n\\nThe time for empty talk is over.\\n\\nNow arrives the hour of action.\\n\\nDo not let anyone tell you it cannot be done. No challenge can match the heart and fight and spirit of America.\\n\\nWe will not fail. Our country will thrive and prosper again.\\n\\nWe stand at the birth of a new millennium, ready to unlock the mysteries of space, to free the Earth from the miseries of disease, and to harness the energies, industries and technologies of tomorrow.\\n\\nA new national pride will stir ourselves, lift our sights, and heal our divisions.\\n\\nIt is time to remember that old wisdom our soldiers will never forget: that whether we are black or brown or white, we all bleed the same red blood of patriots, we all enjoy the same glorious freedoms, and we all salute the same great American Flag.\\n\\nAnd whether a child is born in the urban sprawl of Detroit or the windswept plains of Nebraska, they look up at the same night sky, they fill their heart with the same dreams, and they are infused with the breath of life by the same almighty Creator.\\n\\nSo to all Americans, in every city near and far, small and large, from mountain to mountain, and from ocean to ocean, hear these words:\\n\\nYou will never be ignored again.\\n\\nYour voice, your hopes, and your dreams, will define our American destiny. And your courage and goodness and love will forever guide us along the way.\\n\\nTogether, we will make America strong again.\\n\\nWe will make America wealthy again.\\n\\nWe will make America proud again.\\n\\nWe will make America safe again.\\n\\nAnd, yes, together, we will make America great again. Thank you, God bless you, and God bless America.\" "
            ],
            "text/latex": "\\textbf{2017-Trump:} 'Chief Justice Roberts, President Carter, President Clinton, President Bush, President Obama, fellow Americans, and people of the world: thank you.\\textbackslash{}n\\textbackslash{}nWe, the citizens of America, are now joined in a great national effort to rebuild our country and restore its promise for all of our people.\\textbackslash{}n\\textbackslash{}nTogether, we will determine the course of America and the world for many, many years to come.\\textbackslash{}n\\textbackslash{}nWe will face challenges. We will confront hardships. But we will get the job done.\\textbackslash{}n\\textbackslash{}nEvery four years, we gather on these steps to carry out the orderly and peaceful transfer of power, and we are grateful to President Obama and First Lady Michelle Obama for their gracious aid throughout this transition. They have been magnificent. Thank you.\\textbackslash{}n\\textbackslash{}nToday\\textbackslash{}'s ceremony, however, has very special meaning. Because today we are not merely transferring power from one Administration to another, or from one party to another - but we are transferring power from Washington DC and giving it back to you, the people.\\textbackslash{}n\\textbackslash{}nFor too long, a small group in our nation\\textbackslash{}'s Capital has reaped the rewards of government while the people have borne the cost.\\textbackslash{}n\\textbackslash{}nWashington flourished - but the people did not share in its wealth.\\textbackslash{}n\\textbackslash{}nPoliticians prospered - but the jobs left, and the factories closed.\\textbackslash{}n\\textbackslash{}nThe establishment protected itself, but not the citizens of our country.\\textbackslash{}n\\textbackslash{}nTheir victories have not been your victories; their triumphs have not been your triumphs; and while they celebrated in our nation\\textbackslash{}'s capital, there was little to celebrate for struggling families all across our land.\\textbackslash{}n\\textbackslash{}nThat all changes - starting right here, and right now, because this moment is your moment: it belongs to you.\\textbackslash{}n\\textbackslash{}nIt belongs to everyone gathered here today and everyone watching all across America.\\textbackslash{}n\\textbackslash{}nThis is your day. This is your celebration.\\textbackslash{}n\\textbackslash{}nAnd this, the United States of America, is your country.\\textbackslash{}n\\textbackslash{}nWhat truly matters is not which party controls our government, but whether our government is controlled by the people.\\textbackslash{}n\\textbackslash{}nJanuary 20, 2017, will be remembered as the day the people became the rulers of this nation again.\\textbackslash{}n\\textbackslash{}nThe forgotten men and women of our country will be forgotten no longer.\\textbackslash{}n\\textbackslash{}nEveryone is listening to you now.\\textbackslash{}n\\textbackslash{}nYou came by the tens of millions to become part of a historic movement the likes of which the world has never seen before.\\textbackslash{}n\\textbackslash{}nAt the center of this movement is a crucial conviction: that a nation exists to serve its citizens.\\textbackslash{}n\\textbackslash{}nAmericans want great schools for their children, safe neighborhoods for their families, and good jobs for themselves.\\textbackslash{}n\\textbackslash{}nThese are just and reasonable demands of righteous people and a righteous public.\\textbackslash{}n\\textbackslash{}nBut for too many of our citizens, a different reality exists: mothers and children trapped in poverty in our inner cities; rusted-out factories scattered like tombstones across the landscape of our nation; an education system, flush with cash, but which leaves our young and beautiful students deprived of all knowledge; and the crime and the gangs and the drugs that have stolen too many lives and robbed our country of so much unrealized potential.\\textbackslash{}n\\textbackslash{}nThis American carnage stops right here and stops right now.\\textbackslash{}n\\textbackslash{}nWe are one nation - and their pain is our pain. Their dreams are our dreams; and their success will be our success. We share one heart, one home, and one glorious destiny.\\textbackslash{}n\\textbackslash{}nThe oath of office I take today is an oath of allegiance to all Americans.\\textbackslash{}n\\textbackslash{}nFor many decades, we\\textbackslash{}'ve enriched foreign industry at the expense of American industry; subsidized the armies of other countries while allowing for the very sad depletion of our military; we\\textbackslash{}'ve defended other nations\\textbackslash{}' borders while refusing to defend our own; and spent trillions and trillions of dollars overseas while America\\textbackslash{}'s infrastructure has fallen into disrepair and decay.\\textbackslash{}n\\textbackslash{}nWe\\textbackslash{}'ve made other countries rich while the wealth, strength, and confidence of our country has dissipated over the horizon.\\textbackslash{}n\\textbackslash{}nOne by one, the factories shuttered and left our shores, with not even a thought about the millions and millions of American workers that were left behind.\\textbackslash{}n\\textbackslash{}nThe wealth of our middle class has been ripped from their homes and then redistributed all across the world.\\textbackslash{}n\\textbackslash{}nBut that is the past. And now we are looking only to the future.\\textbackslash{}n\\textbackslash{}nWe assembled here today are issuing a new decree to be heard in every city, in every foreign capital, and in every hall of power.\\textbackslash{}n\\textbackslash{}nFrom this day forward, a new vision will govern our land.\\textbackslash{}n\\textbackslash{}nFrom this day forward, it\\textbackslash{}'s going to be only America first, America first.\\textbackslash{}n\\textbackslash{}nEvery decision on trade, on taxes, on immigration, on foreign affairs, will be made to benefit American workers and American families.\\textbackslash{}n\\textbackslash{}nWe must protect our borders from the ravages of other countries making our products, stealing our companies, and destroying our jobs. Protection will lead to great prosperity and strength.\\textbackslash{}n\\textbackslash{}nI will fight for you with every breath in my body - and I will never, ever let you down.\\textbackslash{}n\\textbackslash{}nAmerica will start winning again, winning like never before.\\textbackslash{}n\\textbackslash{}nWe will bring back our jobs. We will bring back our borders. We will bring back our wealth. And we will bring back our dreams.\\textbackslash{}n\\textbackslash{}nWe will build new roads, and highways, and bridges, and airports, and tunnels, and railways all across our wonderful nation.\\textbackslash{}n\\textbackslash{}nWe will get our people off of welfare and back to work - rebuilding our country with American hands and American labor.\\textbackslash{}n\\textbackslash{}nWe will follow two simple rules: buy American and hire American.\\textbackslash{}n\\textbackslash{}nWe will seek friendship and goodwill with the nations of the world - but we do so with the understanding that it is the right of all nations to put their own interests first.\\textbackslash{}n\\textbackslash{}nWe do not seek to impose our way of life on anyone, but rather to let it shine as an example for everyone to follow.\\textbackslash{}n\\textbackslash{}nWe will reinforce old alliances and form new ones - and unite the civilized world against radical Islamic terrorism, which we will eradicate from the face of the Earth.\\textbackslash{}n\\textbackslash{}nAt the bedrock of our politics will be a total allegiance to the United States of America, and through our loyalty to our country, we will rediscover our loyalty to each other.\\textbackslash{}n\\textbackslash{}nWhen you open your heart to patriotism, there is no room for prejudice.\\textbackslash{}n\\textbackslash{}nThe Bible tells us: \"How good and pleasant it is when God\\textbackslash{}'s people live together in unity.\"\\textbackslash{}n\\textbackslash{}nWe must speak our minds openly, debate our disagreements honestly, but always pursue solidarity.\\textbackslash{}n\\textbackslash{}nWhen America is united, America is totally unstoppable.\\textbackslash{}n\\textbackslash{}nThere should be no fear - we are protected, and we will always be protected.\\textbackslash{}n\\textbackslash{}nWe will be protected by the great men and women of our military and law enforcement and, most importantly, we are protected by God.\\textbackslash{}n\\textbackslash{}nFinally, we must think big and dream even bigger.\\textbackslash{}n\\textbackslash{}nIn America, we understand that a nation is only living as long as it is striving.\\textbackslash{}n\\textbackslash{}nWe will no longer accept politicians who are all talk and no action - constantly complaining but never doing anything about it.\\textbackslash{}n\\textbackslash{}nThe time for empty talk is over.\\textbackslash{}n\\textbackslash{}nNow arrives the hour of action.\\textbackslash{}n\\textbackslash{}nDo not let anyone tell you it cannot be done. No challenge can match the heart and fight and spirit of America.\\textbackslash{}n\\textbackslash{}nWe will not fail. Our country will thrive and prosper again.\\textbackslash{}n\\textbackslash{}nWe stand at the birth of a new millennium, ready to unlock the mysteries of space, to free the Earth from the miseries of disease, and to harness the energies, industries and technologies of tomorrow.\\textbackslash{}n\\textbackslash{}nA new national pride will stir ourselves, lift our sights, and heal our divisions.\\textbackslash{}n\\textbackslash{}nIt is time to remember that old wisdom our soldiers will never forget: that whether we are black or brown or white, we all bleed the same red blood of patriots, we all enjoy the same glorious freedoms, and we all salute the same great American Flag.\\textbackslash{}n\\textbackslash{}nAnd whether a child is born in the urban sprawl of Detroit or the windswept plains of Nebraska, they look up at the same night sky, they fill their heart with the same dreams, and they are infused with the breath of life by the same almighty Creator.\\textbackslash{}n\\textbackslash{}nSo to all Americans, in every city near and far, small and large, from mountain to mountain, and from ocean to ocean, hear these words:\\textbackslash{}n\\textbackslash{}nYou will never be ignored again.\\textbackslash{}n\\textbackslash{}nYour voice, your hopes, and your dreams, will define our American destiny. And your courage and goodness and love will forever guide us along the way.\\textbackslash{}n\\textbackslash{}nTogether, we will make America strong again.\\textbackslash{}n\\textbackslash{}nWe will make America wealthy again.\\textbackslash{}n\\textbackslash{}nWe will make America proud again.\\textbackslash{}n\\textbackslash{}nWe will make America safe again.\\textbackslash{}n\\textbackslash{}nAnd, yes, together, we will make America great again. Thank you, God bless you, and God bless America.'",
            "text/markdown": "**2017-Trump:** 'Chief Justice Roberts, President Carter, President Clinton, President Bush, President Obama, fellow Americans, and people of the world: thank you.\\n\\nWe, the citizens of America, are now joined in a great national effort to rebuild our country and restore its promise for all of our people.\\n\\nTogether, we will determine the course of America and the world for many, many years to come.\\n\\nWe will face challenges. We will confront hardships. But we will get the job done.\\n\\nEvery four years, we gather on these steps to carry out the orderly and peaceful transfer of power, and we are grateful to President Obama and First Lady Michelle Obama for their gracious aid throughout this transition. They have been magnificent. Thank you.\\n\\nToday\\'s ceremony, however, has very special meaning. Because today we are not merely transferring power from one Administration to another, or from one party to another - but we are transferring power from Washington DC and giving it back to you, the people.\\n\\nFor too long, a small group in our nation\\'s Capital has reaped the rewards of government while the people have borne the cost.\\n\\nWashington flourished - but the people did not share in its wealth.\\n\\nPoliticians prospered - but the jobs left, and the factories closed.\\n\\nThe establishment protected itself, but not the citizens of our country.\\n\\nTheir victories have not been your victories; their triumphs have not been your triumphs; and while they celebrated in our nation\\'s capital, there was little to celebrate for struggling families all across our land.\\n\\nThat all changes - starting right here, and right now, because this moment is your moment: it belongs to you.\\n\\nIt belongs to everyone gathered here today and everyone watching all across America.\\n\\nThis is your day. This is your celebration.\\n\\nAnd this, the United States of America, is your country.\\n\\nWhat truly matters is not which party controls our government, but whether our government is controlled by the people.\\n\\nJanuary 20, 2017, will be remembered as the day the people became the rulers of this nation again.\\n\\nThe forgotten men and women of our country will be forgotten no longer.\\n\\nEveryone is listening to you now.\\n\\nYou came by the tens of millions to become part of a historic movement the likes of which the world has never seen before.\\n\\nAt the center of this movement is a crucial conviction: that a nation exists to serve its citizens.\\n\\nAmericans want great schools for their children, safe neighborhoods for their families, and good jobs for themselves.\\n\\nThese are just and reasonable demands of righteous people and a righteous public.\\n\\nBut for too many of our citizens, a different reality exists: mothers and children trapped in poverty in our inner cities; rusted-out factories scattered like tombstones across the landscape of our nation; an education system, flush with cash, but which leaves our young and beautiful students deprived of all knowledge; and the crime and the gangs and the drugs that have stolen too many lives and robbed our country of so much unrealized potential.\\n\\nThis American carnage stops right here and stops right now.\\n\\nWe are one nation - and their pain is our pain. Their dreams are our dreams; and their success will be our success. We share one heart, one home, and one glorious destiny.\\n\\nThe oath of office I take today is an oath of allegiance to all Americans.\\n\\nFor many decades, we\\'ve enriched foreign industry at the expense of American industry; subsidized the armies of other countries while allowing for the very sad depletion of our military; we\\'ve defended other nations\\' borders while refusing to defend our own; and spent trillions and trillions of dollars overseas while America\\'s infrastructure has fallen into disrepair and decay.\\n\\nWe\\'ve made other countries rich while the wealth, strength, and confidence of our country has dissipated over the horizon.\\n\\nOne by one, the factories shuttered and left our shores, with not even a thought about the millions and millions of American workers that were left behind.\\n\\nThe wealth of our middle class has been ripped from their homes and then redistributed all across the world.\\n\\nBut that is the past. And now we are looking only to the future.\\n\\nWe assembled here today are issuing a new decree to be heard in every city, in every foreign capital, and in every hall of power.\\n\\nFrom this day forward, a new vision will govern our land.\\n\\nFrom this day forward, it\\'s going to be only America first, America first.\\n\\nEvery decision on trade, on taxes, on immigration, on foreign affairs, will be made to benefit American workers and American families.\\n\\nWe must protect our borders from the ravages of other countries making our products, stealing our companies, and destroying our jobs. Protection will lead to great prosperity and strength.\\n\\nI will fight for you with every breath in my body - and I will never, ever let you down.\\n\\nAmerica will start winning again, winning like never before.\\n\\nWe will bring back our jobs. We will bring back our borders. We will bring back our wealth. And we will bring back our dreams.\\n\\nWe will build new roads, and highways, and bridges, and airports, and tunnels, and railways all across our wonderful nation.\\n\\nWe will get our people off of welfare and back to work - rebuilding our country with American hands and American labor.\\n\\nWe will follow two simple rules: buy American and hire American.\\n\\nWe will seek friendship and goodwill with the nations of the world - but we do so with the understanding that it is the right of all nations to put their own interests first.\\n\\nWe do not seek to impose our way of life on anyone, but rather to let it shine as an example for everyone to follow.\\n\\nWe will reinforce old alliances and form new ones - and unite the civilized world against radical Islamic terrorism, which we will eradicate from the face of the Earth.\\n\\nAt the bedrock of our politics will be a total allegiance to the United States of America, and through our loyalty to our country, we will rediscover our loyalty to each other.\\n\\nWhen you open your heart to patriotism, there is no room for prejudice.\\n\\nThe Bible tells us: \"How good and pleasant it is when God\\'s people live together in unity.\"\\n\\nWe must speak our minds openly, debate our disagreements honestly, but always pursue solidarity.\\n\\nWhen America is united, America is totally unstoppable.\\n\\nThere should be no fear - we are protected, and we will always be protected.\\n\\nWe will be protected by the great men and women of our military and law enforcement and, most importantly, we are protected by God.\\n\\nFinally, we must think big and dream even bigger.\\n\\nIn America, we understand that a nation is only living as long as it is striving.\\n\\nWe will no longer accept politicians who are all talk and no action - constantly complaining but never doing anything about it.\\n\\nThe time for empty talk is over.\\n\\nNow arrives the hour of action.\\n\\nDo not let anyone tell you it cannot be done. No challenge can match the heart and fight and spirit of America.\\n\\nWe will not fail. Our country will thrive and prosper again.\\n\\nWe stand at the birth of a new millennium, ready to unlock the mysteries of space, to free the Earth from the miseries of disease, and to harness the energies, industries and technologies of tomorrow.\\n\\nA new national pride will stir ourselves, lift our sights, and heal our divisions.\\n\\nIt is time to remember that old wisdom our soldiers will never forget: that whether we are black or brown or white, we all bleed the same red blood of patriots, we all enjoy the same glorious freedoms, and we all salute the same great American Flag.\\n\\nAnd whether a child is born in the urban sprawl of Detroit or the windswept plains of Nebraska, they look up at the same night sky, they fill their heart with the same dreams, and they are infused with the breath of life by the same almighty Creator.\\n\\nSo to all Americans, in every city near and far, small and large, from mountain to mountain, and from ocean to ocean, hear these words:\\n\\nYou will never be ignored again.\\n\\nYour voice, your hopes, and your dreams, will define our American destiny. And your courage and goodness and love will forever guide us along the way.\\n\\nTogether, we will make America strong again.\\n\\nWe will make America wealthy again.\\n\\nWe will make America proud again.\\n\\nWe will make America safe again.\\n\\nAnd, yes, together, we will make America great again. Thank you, God bless you, and God bless America.'",
            "text/html": [
              "<strong>2017-Trump:</strong> 'Chief Justice Roberts, President Carter, President Clinton, President Bush, President Obama, fellow Americans, and people of the world: thank you.\\n\\nWe, the citizens of America, are now joined in a great national effort to rebuild our country and restore its promise for all of our people.\\n\\nTogether, we will determine the course of America and the world for many, many years to come.\\n\\nWe will face challenges. We will confront hardships. But we will get the job done.\\n\\nEvery four years, we gather on these steps to carry out the orderly and peaceful transfer of power, and we are grateful to President Obama and First Lady Michelle Obama for their gracious aid throughout this transition. They have been magnificent. Thank you.\\n\\nToday\\'s ceremony, however, has very special meaning. Because today we are not merely transferring power from one Administration to another, or from one party to another - but we are transferring power from Washington DC and giving it back to you, the people.\\n\\nFor too long, a small group in our nation\\'s Capital has reaped the rewards of government while the people have borne the cost.\\n\\nWashington flourished - but the people did not share in its wealth.\\n\\nPoliticians prospered - but the jobs left, and the factories closed.\\n\\nThe establishment protected itself, but not the citizens of our country.\\n\\nTheir victories have not been your victories; their triumphs have not been your triumphs; and while they celebrated in our nation\\'s capital, there was little to celebrate for struggling families all across our land.\\n\\nThat all changes - starting right here, and right now, because this moment is your moment: it belongs to you.\\n\\nIt belongs to everyone gathered here today and everyone watching all across America.\\n\\nThis is your day. This is your celebration.\\n\\nAnd this, the United States of America, is your country.\\n\\nWhat truly matters is not which party controls our government, but whether our government is controlled by the people.\\n\\nJanuary 20, 2017, will be remembered as the day the people became the rulers of this nation again.\\n\\nThe forgotten men and women of our country will be forgotten no longer.\\n\\nEveryone is listening to you now.\\n\\nYou came by the tens of millions to become part of a historic movement the likes of which the world has never seen before.\\n\\nAt the center of this movement is a crucial conviction: that a nation exists to serve its citizens.\\n\\nAmericans want great schools for their children, safe neighborhoods for their families, and good jobs for themselves.\\n\\nThese are just and reasonable demands of righteous people and a righteous public.\\n\\nBut for too many of our citizens, a different reality exists: mothers and children trapped in poverty in our inner cities; rusted-out factories scattered like tombstones across the landscape of our nation; an education system, flush with cash, but which leaves our young and beautiful students deprived of all knowledge; and the crime and the gangs and the drugs that have stolen too many lives and robbed our country of so much unrealized potential.\\n\\nThis American carnage stops right here and stops right now.\\n\\nWe are one nation - and their pain is our pain. Their dreams are our dreams; and their success will be our success. We share one heart, one home, and one glorious destiny.\\n\\nThe oath of office I take today is an oath of allegiance to all Americans.\\n\\nFor many decades, we\\'ve enriched foreign industry at the expense of American industry; subsidized the armies of other countries while allowing for the very sad depletion of our military; we\\'ve defended other nations\\' borders while refusing to defend our own; and spent trillions and trillions of dollars overseas while America\\'s infrastructure has fallen into disrepair and decay.\\n\\nWe\\'ve made other countries rich while the wealth, strength, and confidence of our country has dissipated over the horizon.\\n\\nOne by one, the factories shuttered and left our shores, with not even a thought about the millions and millions of American workers that were left behind.\\n\\nThe wealth of our middle class has been ripped from their homes and then redistributed all across the world.\\n\\nBut that is the past. And now we are looking only to the future.\\n\\nWe assembled here today are issuing a new decree to be heard in every city, in every foreign capital, and in every hall of power.\\n\\nFrom this day forward, a new vision will govern our land.\\n\\nFrom this day forward, it\\'s going to be only America first, America first.\\n\\nEvery decision on trade, on taxes, on immigration, on foreign affairs, will be made to benefit American workers and American families.\\n\\nWe must protect our borders from the ravages of other countries making our products, stealing our companies, and destroying our jobs. Protection will lead to great prosperity and strength.\\n\\nI will fight for you with every breath in my body - and I will never, ever let you down.\\n\\nAmerica will start winning again, winning like never before.\\n\\nWe will bring back our jobs. We will bring back our borders. We will bring back our wealth. And we will bring back our dreams.\\n\\nWe will build new roads, and highways, and bridges, and airports, and tunnels, and railways all across our wonderful nation.\\n\\nWe will get our people off of welfare and back to work - rebuilding our country with American hands and American labor.\\n\\nWe will follow two simple rules: buy American and hire American.\\n\\nWe will seek friendship and goodwill with the nations of the world - but we do so with the understanding that it is the right of all nations to put their own interests first.\\n\\nWe do not seek to impose our way of life on anyone, but rather to let it shine as an example for everyone to follow.\\n\\nWe will reinforce old alliances and form new ones - and unite the civilized world against radical Islamic terrorism, which we will eradicate from the face of the Earth.\\n\\nAt the bedrock of our politics will be a total allegiance to the United States of America, and through our loyalty to our country, we will rediscover our loyalty to each other.\\n\\nWhen you open your heart to patriotism, there is no room for prejudice.\\n\\nThe Bible tells us: \"How good and pleasant it is when God\\'s people live together in unity.\"\\n\\nWe must speak our minds openly, debate our disagreements honestly, but always pursue solidarity.\\n\\nWhen America is united, America is totally unstoppable.\\n\\nThere should be no fear - we are protected, and we will always be protected.\\n\\nWe will be protected by the great men and women of our military and law enforcement and, most importantly, we are protected by God.\\n\\nFinally, we must think big and dream even bigger.\\n\\nIn America, we understand that a nation is only living as long as it is striving.\\n\\nWe will no longer accept politicians who are all talk and no action - constantly complaining but never doing anything about it.\\n\\nThe time for empty talk is over.\\n\\nNow arrives the hour of action.\\n\\nDo not let anyone tell you it cannot be done. No challenge can match the heart and fight and spirit of America.\\n\\nWe will not fail. Our country will thrive and prosper again.\\n\\nWe stand at the birth of a new millennium, ready to unlock the mysteries of space, to free the Earth from the miseries of disease, and to harness the energies, industries and technologies of tomorrow.\\n\\nA new national pride will stir ourselves, lift our sights, and heal our divisions.\\n\\nIt is time to remember that old wisdom our soldiers will never forget: that whether we are black or brown or white, we all bleed the same red blood of patriots, we all enjoy the same glorious freedoms, and we all salute the same great American Flag.\\n\\nAnd whether a child is born in the urban sprawl of Detroit or the windswept plains of Nebraska, they look up at the same night sky, they fill their heart with the same dreams, and they are infused with the breath of life by the same almighty Creator.\\n\\nSo to all Americans, in every city near and far, small and large, from mountain to mountain, and from ocean to ocean, hear these words:\\n\\nYou will never be ignored again.\\n\\nYour voice, your hopes, and your dreams, will define our American destiny. And your courage and goodness and love will forever guide us along the way.\\n\\nTogether, we will make America strong again.\\n\\nWe will make America wealthy again.\\n\\nWe will make America proud again.\\n\\nWe will make America safe again.\\n\\nAnd, yes, together, we will make America great again. Thank you, God bless you, and God bless America.'"
            ]
          },
          "metadata": {
            "tags": []
          }
        }
      ]
    },
    {
      "cell_type": "code",
      "metadata": {
        "colab": {
          "base_uri": "https://localhost:8080/"
        },
        "id": "7XhDS0qQs9fp",
        "outputId": "9b515f07-acbf-4950-b976-51ed914cbe4a"
      },
      "source": [
        "# pull out the data we want\n",
        "myData <- docvars(data_corpus_inaugural)\n",
        "head(myData)\n",
        "\n",
        "# now add the text to our data frame for running the annotation tool; column must be named `text`\n",
        "myData$text <- text"
      ],
      "execution_count": null,
      "outputs": [
        {
          "output_type": "display_data",
          "data": {
            "text/plain": [
              "  Year President  FirstName Party                \n",
              "1 1789 Washington George    none                 \n",
              "2 1793 Washington George    none                 \n",
              "3 1797 Adams      John      Federalist           \n",
              "4 1801 Jefferson  Thomas    Democratic-Republican\n",
              "5 1805 Jefferson  Thomas    Democratic-Republican\n",
              "6 1809 Madison    James     Democratic-Republican"
            ],
            "text/latex": "A data.frame: 6 × 4\n\\begin{tabular}{r|llll}\n  & Year & President & FirstName & Party\\\\\n  & <int> & <chr> & <chr> & <fct>\\\\\n\\hline\n\t1 & 1789 & Washington & George & none                 \\\\\n\t2 & 1793 & Washington & George & none                 \\\\\n\t3 & 1797 & Adams      & John   & Federalist           \\\\\n\t4 & 1801 & Jefferson  & Thomas & Democratic-Republican\\\\\n\t5 & 1805 & Jefferson  & Thomas & Democratic-Republican\\\\\n\t6 & 1809 & Madison    & James  & Democratic-Republican\\\\\n\\end{tabular}\n",
            "text/markdown": "\nA data.frame: 6 × 4\n\n| <!--/--> | Year &lt;int&gt; | President &lt;chr&gt; | FirstName &lt;chr&gt; | Party &lt;fct&gt; |\n|---|---|---|---|---|\n| 1 | 1789 | Washington | George | none                  |\n| 2 | 1793 | Washington | George | none                  |\n| 3 | 1797 | Adams      | John   | Federalist            |\n| 4 | 1801 | Jefferson  | Thomas | Democratic-Republican |\n| 5 | 1805 | Jefferson  | Thomas | Democratic-Republican |\n| 6 | 1809 | Madison    | James  | Democratic-Republican |\n\n",
            "text/html": [
              "<table>\n",
              "<caption>A data.frame: 6 × 4</caption>\n",
              "<thead>\n",
              "\t<tr><th></th><th scope=col>Year</th><th scope=col>President</th><th scope=col>FirstName</th><th scope=col>Party</th></tr>\n",
              "\t<tr><th></th><th scope=col>&lt;int&gt;</th><th scope=col>&lt;chr&gt;</th><th scope=col>&lt;chr&gt;</th><th scope=col>&lt;fct&gt;</th></tr>\n",
              "</thead>\n",
              "<tbody>\n",
              "\t<tr><th scope=row>1</th><td>1789</td><td>Washington</td><td>George</td><td>none                 </td></tr>\n",
              "\t<tr><th scope=row>2</th><td>1793</td><td>Washington</td><td>George</td><td>none                 </td></tr>\n",
              "\t<tr><th scope=row>3</th><td>1797</td><td>Adams     </td><td>John  </td><td>Federalist           </td></tr>\n",
              "\t<tr><th scope=row>4</th><td>1801</td><td>Jefferson </td><td>Thomas</td><td>Democratic-Republican</td></tr>\n",
              "\t<tr><th scope=row>5</th><td>1805</td><td>Jefferson </td><td>Thomas</td><td>Democratic-Republican</td></tr>\n",
              "\t<tr><th scope=row>6</th><td>1809</td><td>Madison   </td><td>James </td><td>Democratic-Republican</td></tr>\n",
              "</tbody>\n",
              "</table>\n"
            ]
          },
          "metadata": {
            "tags": []
          }
        }
      ]
    },
    {
      "cell_type": "markdown",
      "metadata": {
        "id": "HPaRYTRLYx3V"
      },
      "source": [
        "The steps we take in the above get the data ready for use with the NLP package `cleanNLP`. This is, unfortunately, a common theme in R and other open-source programming languages. The ability for users to contribute their own packages means we have an enormous amount of flexibility and progress happens **fast**, but the tradeoff is that the different packages don't always play well with one another. As you get more familiar with working in R, getting used to moving between the preferred formats of different packages becomes easier. \n",
        "\n",
        "With that said, those simple steps above are all we need to do to get our texts ready for annotation with `cleanNLP`, which takes a vector of file names, a character vector with one document in each element, *or* a data frame as input. If we have a corpus --- as we often do --- we can convert it to a character vector as above and be ready to annotate."
      ]
    },
    {
      "cell_type": "markdown",
      "metadata": {
        "id": "65fG-SCAcvOo"
      },
      "source": [
        "## Annotation\n",
        "\n",
        "So, let's annotate. The next line is going to take a few minutes so it's a good chance to go take care of making that pot of coffee you forgot to make before starting this up."
      ]
    },
    {
      "cell_type": "code",
      "metadata": {
        "colab": {
          "base_uri": "https://localhost:8080/"
        },
        "id": "SFpyl0vdZ6mV",
        "outputId": "b991713a-e01a-46a0-b1c6-66c80c56050f"
      },
      "source": [
        "annotated <- cnlp_annotate(myData)"
      ],
      "execution_count": null,
      "outputs": [
        {
          "output_type": "stream",
          "text": [
            "Processed document 10 of 58\n",
            "Processed document 20 of 58\n",
            "Processed document 30 of 58\n",
            "Processed document 40 of 58\n",
            "Processed document 50 of 58\n"
          ],
          "name": "stdout"
        }
      ]
    },
    {
      "cell_type": "markdown",
      "metadata": {
        "id": "Clh5z0J3dGQa"
      },
      "source": [
        "The output for each of the backends is going to look a little bit different, though the general structure will be consistent. Here we can start seeing what our udpipe annotation looks like. The first thing to note is that it is a very particular type of object with two fields: `token` and `document`. Both are dataframes; `token` is a dataframe featuring the annotations from the text, while `document` is a dataframe featuring just the unique document IDs.  We'll primarily be interested in the former. "
      ]
    },
    {
      "cell_type": "code",
      "metadata": {
        "colab": {
          "base_uri": "https://localhost:8080/"
        },
        "id": "SSdrX4cpe1EH",
        "outputId": "2ed88102-d502-4b2e-c9b3-ba236e142b2a"
      },
      "source": [
        "head(annotated$token)"
      ],
      "execution_count": null,
      "outputs": [
        {
          "output_type": "display_data",
          "data": {
            "text/plain": [
              "  doc_id sid tid token    token_with_ws lemma   upos  xpos\n",
              "1 1      1   1   Fellow   Fellow        fellow  ADJ   JJ  \n",
              "2 1      1   2   -        -             -       PUNCT HYPH\n",
              "3 1      1   3   Citizens Citizens      citizen NOUN  NNS \n",
              "4 1      1   4   of       of            of      ADP   IN  \n",
              "5 1      1   5   the      the           the     DET   DT  \n",
              "6 1      1   6   Senate   Senate        Senate  PROPN NNP \n",
              "  feats                     tid_source relation\n",
              "1 Degree=Pos                3          amod    \n",
              "2 NA                        3          punct   \n",
              "3 Number=Plur               0          root    \n",
              "4 NA                        6          case    \n",
              "5 Definite=Def|PronType=Art 6          det     \n",
              "6 Number=Sing               3          nmod    "
            ],
            "text/latex": "A tibble: 6 × 11\n\\begin{tabular}{lllllllllll}\n doc\\_id & sid & tid & token & token\\_with\\_ws & lemma & upos & xpos & feats & tid\\_source & relation\\\\\n <int> & <int> & <chr> & <chr> & <chr> & <chr> & <chr> & <chr> & <chr> & <chr> & <chr>\\\\\n\\hline\n\t 1 & 1 & 1 & Fellow   & Fellow    & fellow  & ADJ   & JJ   & Degree=Pos                & 3 & amod \\\\\n\t 1 & 1 & 2 & -        & -         & -       & PUNCT & HYPH & NA                        & 3 & punct\\\\\n\t 1 & 1 & 3 & Citizens & Citizens  & citizen & NOUN  & NNS  & Number=Plur               & 0 & root \\\\\n\t 1 & 1 & 4 & of       & of        & of      & ADP   & IN   & NA                        & 6 & case \\\\\n\t 1 & 1 & 5 & the      & the       & the     & DET   & DT   & Definite=Def\\textbar{}PronType=Art & 6 & det  \\\\\n\t 1 & 1 & 6 & Senate   & Senate    & Senate  & PROPN & NNP  & Number=Sing               & 3 & nmod \\\\\n\\end{tabular}\n",
            "text/markdown": "\nA tibble: 6 × 11\n\n| doc_id &lt;int&gt; | sid &lt;int&gt; | tid &lt;chr&gt; | token &lt;chr&gt; | token_with_ws &lt;chr&gt; | lemma &lt;chr&gt; | upos &lt;chr&gt; | xpos &lt;chr&gt; | feats &lt;chr&gt; | tid_source &lt;chr&gt; | relation &lt;chr&gt; |\n|---|---|---|---|---|---|---|---|---|---|---|\n| 1 | 1 | 1 | Fellow   | Fellow    | fellow  | ADJ   | JJ   | Degree=Pos                | 3 | amod  |\n| 1 | 1 | 2 | -        | -         | -       | PUNCT | HYPH | NA                        | 3 | punct |\n| 1 | 1 | 3 | Citizens | Citizens  | citizen | NOUN  | NNS  | Number=Plur               | 0 | root  |\n| 1 | 1 | 4 | of       | of        | of      | ADP   | IN   | NA                        | 6 | case  |\n| 1 | 1 | 5 | the      | the       | the     | DET   | DT   | Definite=Def|PronType=Art | 6 | det   |\n| 1 | 1 | 6 | Senate   | Senate    | Senate  | PROPN | NNP  | Number=Sing               | 3 | nmod  |\n\n",
            "text/html": [
              "<table>\n",
              "<caption>A tibble: 6 × 11</caption>\n",
              "<thead>\n",
              "\t<tr><th scope=col>doc_id</th><th scope=col>sid</th><th scope=col>tid</th><th scope=col>token</th><th scope=col>token_with_ws</th><th scope=col>lemma</th><th scope=col>upos</th><th scope=col>xpos</th><th scope=col>feats</th><th scope=col>tid_source</th><th scope=col>relation</th></tr>\n",
              "\t<tr><th scope=col>&lt;int&gt;</th><th scope=col>&lt;int&gt;</th><th scope=col>&lt;chr&gt;</th><th scope=col>&lt;chr&gt;</th><th scope=col>&lt;chr&gt;</th><th scope=col>&lt;chr&gt;</th><th scope=col>&lt;chr&gt;</th><th scope=col>&lt;chr&gt;</th><th scope=col>&lt;chr&gt;</th><th scope=col>&lt;chr&gt;</th><th scope=col>&lt;chr&gt;</th></tr>\n",
              "</thead>\n",
              "<tbody>\n",
              "\t<tr><td>1</td><td>1</td><td>1</td><td>Fellow  </td><td>Fellow   </td><td>fellow </td><td>ADJ  </td><td>JJ  </td><td>Degree=Pos               </td><td>3</td><td>amod </td></tr>\n",
              "\t<tr><td>1</td><td>1</td><td>2</td><td>-       </td><td>-        </td><td>-      </td><td>PUNCT</td><td>HYPH</td><td>NA                       </td><td>3</td><td>punct</td></tr>\n",
              "\t<tr><td>1</td><td>1</td><td>3</td><td>Citizens</td><td>Citizens </td><td>citizen</td><td>NOUN </td><td>NNS </td><td>Number=Plur              </td><td>0</td><td>root </td></tr>\n",
              "\t<tr><td>1</td><td>1</td><td>4</td><td>of      </td><td>of       </td><td>of     </td><td>ADP  </td><td>IN  </td><td>NA                       </td><td>6</td><td>case </td></tr>\n",
              "\t<tr><td>1</td><td>1</td><td>5</td><td>the     </td><td>the      </td><td>the    </td><td>DET  </td><td>DT  </td><td>Definite=Def|PronType=Art</td><td>6</td><td>det  </td></tr>\n",
              "\t<tr><td>1</td><td>1</td><td>6</td><td>Senate  </td><td>Senate   </td><td>Senate </td><td>PROPN</td><td>NNP </td><td>Number=Sing              </td><td>3</td><td>nmod </td></tr>\n",
              "</tbody>\n",
              "</table>\n"
            ]
          },
          "metadata": {
            "tags": []
          }
        }
      ]
    },
    {
      "cell_type": "code",
      "metadata": {
        "colab": {
          "base_uri": "https://localhost:8080/"
        },
        "id": "QxDvYgOpFbfk",
        "outputId": "86c8d195-7ce2-4062-f8f2-47533c2b962d"
      },
      "source": [
        "head(annotated$document)"
      ],
      "execution_count": null,
      "outputs": [
        {
          "output_type": "display_data",
          "data": {
            "text/plain": [
              "  Year President  FirstName Party                 doc_id\n",
              "1 1789 Washington George    none                  1     \n",
              "2 1793 Washington George    none                  2     \n",
              "3 1797 Adams      John      Federalist            3     \n",
              "4 1801 Jefferson  Thomas    Democratic-Republican 4     \n",
              "5 1805 Jefferson  Thomas    Democratic-Republican 5     \n",
              "6 1809 Madison    James     Democratic-Republican 6     "
            ],
            "text/latex": "A data.frame: 6 × 5\n\\begin{tabular}{r|lllll}\n  & Year & President & FirstName & Party & doc\\_id\\\\\n  & <int> & <chr> & <chr> & <fct> & <int>\\\\\n\\hline\n\t1 & 1789 & Washington & George & none                  & 1\\\\\n\t2 & 1793 & Washington & George & none                  & 2\\\\\n\t3 & 1797 & Adams      & John   & Federalist            & 3\\\\\n\t4 & 1801 & Jefferson  & Thomas & Democratic-Republican & 4\\\\\n\t5 & 1805 & Jefferson  & Thomas & Democratic-Republican & 5\\\\\n\t6 & 1809 & Madison    & James  & Democratic-Republican & 6\\\\\n\\end{tabular}\n",
            "text/markdown": "\nA data.frame: 6 × 5\n\n| <!--/--> | Year &lt;int&gt; | President &lt;chr&gt; | FirstName &lt;chr&gt; | Party &lt;fct&gt; | doc_id &lt;int&gt; |\n|---|---|---|---|---|---|\n| 1 | 1789 | Washington | George | none                  | 1 |\n| 2 | 1793 | Washington | George | none                  | 2 |\n| 3 | 1797 | Adams      | John   | Federalist            | 3 |\n| 4 | 1801 | Jefferson  | Thomas | Democratic-Republican | 4 |\n| 5 | 1805 | Jefferson  | Thomas | Democratic-Republican | 5 |\n| 6 | 1809 | Madison    | James  | Democratic-Republican | 6 |\n\n",
            "text/html": [
              "<table>\n",
              "<caption>A data.frame: 6 × 5</caption>\n",
              "<thead>\n",
              "\t<tr><th></th><th scope=col>Year</th><th scope=col>President</th><th scope=col>FirstName</th><th scope=col>Party</th><th scope=col>doc_id</th></tr>\n",
              "\t<tr><th></th><th scope=col>&lt;int&gt;</th><th scope=col>&lt;chr&gt;</th><th scope=col>&lt;chr&gt;</th><th scope=col>&lt;fct&gt;</th><th scope=col>&lt;int&gt;</th></tr>\n",
              "</thead>\n",
              "<tbody>\n",
              "\t<tr><th scope=row>1</th><td>1789</td><td>Washington</td><td>George</td><td>none                 </td><td>1</td></tr>\n",
              "\t<tr><th scope=row>2</th><td>1793</td><td>Washington</td><td>George</td><td>none                 </td><td>2</td></tr>\n",
              "\t<tr><th scope=row>3</th><td>1797</td><td>Adams     </td><td>John  </td><td>Federalist           </td><td>3</td></tr>\n",
              "\t<tr><th scope=row>4</th><td>1801</td><td>Jefferson </td><td>Thomas</td><td>Democratic-Republican</td><td>4</td></tr>\n",
              "\t<tr><th scope=row>5</th><td>1805</td><td>Jefferson </td><td>Thomas</td><td>Democratic-Republican</td><td>5</td></tr>\n",
              "\t<tr><th scope=row>6</th><td>1809</td><td>Madison   </td><td>James </td><td>Democratic-Republican</td><td>6</td></tr>\n",
              "</tbody>\n",
              "</table>\n"
            ]
          },
          "metadata": {
            "tags": []
          }
        }
      ]
    },
    {
      "cell_type": "markdown",
      "metadata": {
        "id": "QMSMBgoNekQX"
      },
      "source": [
        "If we wanted, we could create a single database from both of these using `doc_id` variable present in both. This is particularly helpful for downstream analyses we might want to do that would analyze --- say --- patterns over time. "
      ]
    },
    {
      "cell_type": "code",
      "metadata": {
        "colab": {
          "base_uri": "https://localhost:8080/"
        },
        "id": "3FIUkXYETaya",
        "outputId": "aa93e9ab-0b16-4abc-ae3b-4734981f455a"
      },
      "source": [
        "annoData <- left_join(annotated$document, annotated$token, by = \"doc_id\")\n",
        "head(annoData)"
      ],
      "execution_count": null,
      "outputs": [
        {
          "output_type": "display_data",
          "data": {
            "text/plain": [
              "  Year President  FirstName Party doc_id sid tid token    token_with_ws lemma  \n",
              "1 1789 Washington George    none  1      1   1   Fellow   Fellow        fellow \n",
              "2 1789 Washington George    none  1      1   2   -        -             -      \n",
              "3 1789 Washington George    none  1      1   3   Citizens Citizens      citizen\n",
              "4 1789 Washington George    none  1      1   4   of       of            of     \n",
              "5 1789 Washington George    none  1      1   5   the      the           the    \n",
              "6 1789 Washington George    none  1      1   6   Senate   Senate        Senate \n",
              "  upos  xpos feats                     tid_source relation\n",
              "1 ADJ   JJ   Degree=Pos                3          amod    \n",
              "2 PUNCT HYPH NA                        3          punct   \n",
              "3 NOUN  NNS  Number=Plur               0          root    \n",
              "4 ADP   IN   NA                        6          case    \n",
              "5 DET   DT   Definite=Def|PronType=Art 6          det     \n",
              "6 PROPN NNP  Number=Sing               3          nmod    "
            ],
            "text/latex": "A data.frame: 6 × 15\n\\begin{tabular}{r|lllllllllllllll}\n  & Year & President & FirstName & Party & doc\\_id & sid & tid & token & token\\_with\\_ws & lemma & upos & xpos & feats & tid\\_source & relation\\\\\n  & <int> & <chr> & <chr> & <fct> & <int> & <int> & <chr> & <chr> & <chr> & <chr> & <chr> & <chr> & <chr> & <chr> & <chr>\\\\\n\\hline\n\t1 & 1789 & Washington & George & none & 1 & 1 & 1 & Fellow   & Fellow    & fellow  & ADJ   & JJ   & Degree=Pos                & 3 & amod \\\\\n\t2 & 1789 & Washington & George & none & 1 & 1 & 2 & -        & -         & -       & PUNCT & HYPH & NA                        & 3 & punct\\\\\n\t3 & 1789 & Washington & George & none & 1 & 1 & 3 & Citizens & Citizens  & citizen & NOUN  & NNS  & Number=Plur               & 0 & root \\\\\n\t4 & 1789 & Washington & George & none & 1 & 1 & 4 & of       & of        & of      & ADP   & IN   & NA                        & 6 & case \\\\\n\t5 & 1789 & Washington & George & none & 1 & 1 & 5 & the      & the       & the     & DET   & DT   & Definite=Def\\textbar{}PronType=Art & 6 & det  \\\\\n\t6 & 1789 & Washington & George & none & 1 & 1 & 6 & Senate   & Senate    & Senate  & PROPN & NNP  & Number=Sing               & 3 & nmod \\\\\n\\end{tabular}\n",
            "text/markdown": "\nA data.frame: 6 × 15\n\n| <!--/--> | Year &lt;int&gt; | President &lt;chr&gt; | FirstName &lt;chr&gt; | Party &lt;fct&gt; | doc_id &lt;int&gt; | sid &lt;int&gt; | tid &lt;chr&gt; | token &lt;chr&gt; | token_with_ws &lt;chr&gt; | lemma &lt;chr&gt; | upos &lt;chr&gt; | xpos &lt;chr&gt; | feats &lt;chr&gt; | tid_source &lt;chr&gt; | relation &lt;chr&gt; |\n|---|---|---|---|---|---|---|---|---|---|---|---|---|---|---|---|\n| 1 | 1789 | Washington | George | none | 1 | 1 | 1 | Fellow   | Fellow    | fellow  | ADJ   | JJ   | Degree=Pos                | 3 | amod  |\n| 2 | 1789 | Washington | George | none | 1 | 1 | 2 | -        | -         | -       | PUNCT | HYPH | NA                        | 3 | punct |\n| 3 | 1789 | Washington | George | none | 1 | 1 | 3 | Citizens | Citizens  | citizen | NOUN  | NNS  | Number=Plur               | 0 | root  |\n| 4 | 1789 | Washington | George | none | 1 | 1 | 4 | of       | of        | of      | ADP   | IN   | NA                        | 6 | case  |\n| 5 | 1789 | Washington | George | none | 1 | 1 | 5 | the      | the       | the     | DET   | DT   | Definite=Def|PronType=Art | 6 | det   |\n| 6 | 1789 | Washington | George | none | 1 | 1 | 6 | Senate   | Senate    | Senate  | PROPN | NNP  | Number=Sing               | 3 | nmod  |\n\n",
            "text/html": [
              "<table>\n",
              "<caption>A data.frame: 6 × 15</caption>\n",
              "<thead>\n",
              "\t<tr><th></th><th scope=col>Year</th><th scope=col>President</th><th scope=col>FirstName</th><th scope=col>Party</th><th scope=col>doc_id</th><th scope=col>sid</th><th scope=col>tid</th><th scope=col>token</th><th scope=col>token_with_ws</th><th scope=col>lemma</th><th scope=col>upos</th><th scope=col>xpos</th><th scope=col>feats</th><th scope=col>tid_source</th><th scope=col>relation</th></tr>\n",
              "\t<tr><th></th><th scope=col>&lt;int&gt;</th><th scope=col>&lt;chr&gt;</th><th scope=col>&lt;chr&gt;</th><th scope=col>&lt;fct&gt;</th><th scope=col>&lt;int&gt;</th><th scope=col>&lt;int&gt;</th><th scope=col>&lt;chr&gt;</th><th scope=col>&lt;chr&gt;</th><th scope=col>&lt;chr&gt;</th><th scope=col>&lt;chr&gt;</th><th scope=col>&lt;chr&gt;</th><th scope=col>&lt;chr&gt;</th><th scope=col>&lt;chr&gt;</th><th scope=col>&lt;chr&gt;</th><th scope=col>&lt;chr&gt;</th></tr>\n",
              "</thead>\n",
              "<tbody>\n",
              "\t<tr><th scope=row>1</th><td>1789</td><td>Washington</td><td>George</td><td>none</td><td>1</td><td>1</td><td>1</td><td>Fellow  </td><td>Fellow   </td><td>fellow </td><td>ADJ  </td><td>JJ  </td><td>Degree=Pos               </td><td>3</td><td>amod </td></tr>\n",
              "\t<tr><th scope=row>2</th><td>1789</td><td>Washington</td><td>George</td><td>none</td><td>1</td><td>1</td><td>2</td><td>-       </td><td>-        </td><td>-      </td><td>PUNCT</td><td>HYPH</td><td>NA                       </td><td>3</td><td>punct</td></tr>\n",
              "\t<tr><th scope=row>3</th><td>1789</td><td>Washington</td><td>George</td><td>none</td><td>1</td><td>1</td><td>3</td><td>Citizens</td><td>Citizens </td><td>citizen</td><td>NOUN </td><td>NNS </td><td>Number=Plur              </td><td>0</td><td>root </td></tr>\n",
              "\t<tr><th scope=row>4</th><td>1789</td><td>Washington</td><td>George</td><td>none</td><td>1</td><td>1</td><td>4</td><td>of      </td><td>of       </td><td>of     </td><td>ADP  </td><td>IN  </td><td>NA                       </td><td>6</td><td>case </td></tr>\n",
              "\t<tr><th scope=row>5</th><td>1789</td><td>Washington</td><td>George</td><td>none</td><td>1</td><td>1</td><td>5</td><td>the     </td><td>the      </td><td>the    </td><td>DET  </td><td>DT  </td><td>Definite=Def|PronType=Art</td><td>6</td><td>det  </td></tr>\n",
              "\t<tr><th scope=row>6</th><td>1789</td><td>Washington</td><td>George</td><td>none</td><td>1</td><td>1</td><td>6</td><td>Senate  </td><td>Senate   </td><td>Senate </td><td>PROPN</td><td>NNP </td><td>Number=Sing              </td><td>3</td><td>nmod </td></tr>\n",
              "</tbody>\n",
              "</table>\n"
            ]
          },
          "metadata": {
            "tags": []
          }
        }
      ]
    },
    {
      "cell_type": "markdown",
      "metadata": {
        "id": "XKPQvP6_T3d0"
      },
      "source": [
        "# Annotated Data\n",
        "\n",
        "Let's discuss what this new annotated data set provides. First, note that speeches are now organized at the token level. Three variables help us to index this new level: `doc_id`, the number of the document in the corpus; `sid`, the number of the sentence within the document; and `tid`, the number of the `token` within the sentence. At a really basic level then, we can now figure out the number of sentences within each document, and the average length (in tokens) of those sentences. Here's the former. "
      ]
    },
    {
      "cell_type": "code",
      "metadata": {
        "colab": {
          "base_uri": "https://localhost:8080/"
        },
        "id": "kPh2qLA9hYS1",
        "outputId": "2ff0b5e5-1aed-4ef5-99dd-27b74ac47588"
      },
      "source": [
        "# plot length of documents (in sentences) over time\n",
        "annoData %>% \n",
        "  group_by(Year) %>% \n",
        "  summarize(Sentences = max(sid)) %>%\n",
        "  ggplot(aes(Year, Sentences)) +\n",
        "    geom_line() +\n",
        "    geom_smooth() +\n",
        "    theme_bw()"
      ],
      "execution_count": null,
      "outputs": [
        {
          "output_type": "stream",
          "text": [
            "`geom_smooth()` using method = 'loess' and formula 'y ~ x'\n",
            "\n"
          ],
          "name": "stderr"
        },
        {
          "output_type": "display_data",
          "data": {
            "image/png": "[encoded data removed]",
            "text/plain": [
              "plot without title"
            ]
          },
          "metadata": {
            "tags": [],
            "image/png": {
              "width": 420,
              "height": 420
            }
          }
        }
      ]
    },
    {
      "cell_type": "markdown",
      "metadata": {
        "id": "POHYFWfdW-kp"
      },
      "source": [
        "This is interesting and potentially useful information. Length is incredibly simple to estimate and has been used as a proxy in published research for, among other things, the [complexity of public policies like the Affordable Care Act](https://papers.ssrn.com/sol3/papers.cfm?abstract_id=2307352) and, in the case of judicial opinions, [a host of legal characteristics of interest (dicta, law clerk influence, etc.)](https://houstonlawreview.org/article/4873-an-empirical-analysis-of-the-length-of-u-s-supreme-court-opinions). Length is also often connected with readability statistics, which we will come to in later sections of the course.\n",
        "\n",
        "That said, the real prize of the annotations are the details related to each individual token. The next three columns (`token`, `token_with_ws`, and `lemma`) all relate directly to the actual characters of the token. Take, as an example, \"Citizens\" (third row). The `token` is \"Citizens\", while the lemma is a headword for a group of related words; here, \"citizen\" is the lemma of \"Citizens\" as it is the non-plural version of the token. To get an idea of how else lemmatization changes the tokens, here's a comparison of the first 40 tokens in the dataset. "
      ]
    },
    {
      "cell_type": "code",
      "metadata": {
        "colab": {
          "base_uri": "https://localhost:8080/"
        },
        "id": "j9rzDqcnWWY2",
        "outputId": "268771e6-af71-4dec-9743-3c7b5ca1d1ff"
      },
      "source": [
        "cbind(head(annoData$token,40), head(annoData$lemma,40))"
      ],
      "execution_count": null,
      "outputs": [
        {
          "output_type": "display_data",
          "data": {
            "text/plain": [
              "      [,1]            [,2]           \n",
              " [1,] Fellow          fellow         \n",
              " [2,] -               -              \n",
              " [3,] Citizens        citizen        \n",
              " [4,] of              of             \n",
              " [5,] the             the            \n",
              " [6,] Senate          Senate         \n",
              " [7,] and             and            \n",
              " [8,] of              of             \n",
              " [9,] the             the            \n",
              "[10,] House           House          \n",
              "[11,] of              of             \n",
              "[12,] Representatives Representatives\n",
              "[13,] :               :              \n",
              "[14,] Among           among          \n",
              "[15,] the             the            \n",
              "[16,] vicissitudes    vicissitude    \n",
              "[17,] incident        incident       \n",
              "[18,] to              to             \n",
              "[19,] life            life           \n",
              "[20,] no              no             \n",
              "[21,] event           event          \n",
              "[22,] could           could          \n",
              "[23,] have            have           \n",
              "[24,] filled          fill           \n",
              "[25,] me              I              \n",
              "[26,] with            with           \n",
              "[27,] greater         greater        \n",
              "[28,] anxieties       anxiety        \n",
              "[29,] than            than           \n",
              "[30,] that            that           \n",
              "[31,] of              of             \n",
              "[32,] which           which          \n",
              "[33,] the             the            \n",
              "[34,] notification    notification   \n",
              "[35,] was             be             \n",
              "[36,] transmitted     transmit       \n",
              "[37,] by              by             \n",
              "[38,] your            you            \n",
              "[39,] order           order          \n",
              "[40,] ,               ,              "
            ],
            "text/latex": "A matrix: 40 × 2 of type chr\n\\begin{tabular}{ll}\n\t Fellow          & fellow         \\\\\n\t -               & -              \\\\\n\t Citizens        & citizen        \\\\\n\t of              & of             \\\\\n\t the             & the            \\\\\n\t Senate          & Senate         \\\\\n\t and             & and            \\\\\n\t of              & of             \\\\\n\t the             & the            \\\\\n\t House           & House          \\\\\n\t of              & of             \\\\\n\t Representatives & Representatives\\\\\n\t :               & :              \\\\\n\t Among           & among          \\\\\n\t the             & the            \\\\\n\t vicissitudes    & vicissitude    \\\\\n\t incident        & incident       \\\\\n\t to              & to             \\\\\n\t life            & life           \\\\\n\t no              & no             \\\\\n\t event           & event          \\\\\n\t could           & could          \\\\\n\t have            & have           \\\\\n\t filled          & fill           \\\\\n\t me              & I              \\\\\n\t with            & with           \\\\\n\t greater         & greater        \\\\\n\t anxieties       & anxiety        \\\\\n\t than            & than           \\\\\n\t that            & that           \\\\\n\t of              & of             \\\\\n\t which           & which          \\\\\n\t the             & the            \\\\\n\t notification    & notification   \\\\\n\t was             & be             \\\\\n\t transmitted     & transmit       \\\\\n\t by              & by             \\\\\n\t your            & you            \\\\\n\t order           & order          \\\\\n\t ,               & ,              \\\\\n\\end{tabular}\n",
            "text/markdown": "\nA matrix: 40 × 2 of type chr\n\n| Fellow          | fellow          |\n| -               | -               |\n| Citizens        | citizen         |\n| of              | of              |\n| the             | the             |\n| Senate          | Senate          |\n| and             | and             |\n| of              | of              |\n| the             | the             |\n| House           | House           |\n| of              | of              |\n| Representatives | Representatives |\n| :               | :               |\n| Among           | among           |\n| the             | the             |\n| vicissitudes    | vicissitude     |\n| incident        | incident        |\n| to              | to              |\n| life            | life            |\n| no              | no              |\n| event           | event           |\n| could           | could           |\n| have            | have            |\n| filled          | fill            |\n| me              | I               |\n| with            | with            |\n| greater         | greater         |\n| anxieties       | anxiety         |\n| than            | than            |\n| that            | that            |\n| of              | of              |\n| which           | which           |\n| the             | the             |\n| notification    | notification    |\n| was             | be              |\n| transmitted     | transmit        |\n| by              | by              |\n| your            | you             |\n| order           | order           |\n| ,               | ,               |\n\n",
            "text/html": [
              "<table>\n",
              "<caption>A matrix: 40 × 2 of type chr</caption>\n",
              "<tbody>\n",
              "\t<tr><td>Fellow         </td><td>fellow         </td></tr>\n",
              "\t<tr><td>-              </td><td>-              </td></tr>\n",
              "\t<tr><td>Citizens       </td><td>citizen        </td></tr>\n",
              "\t<tr><td>of             </td><td>of             </td></tr>\n",
              "\t<tr><td>the            </td><td>the            </td></tr>\n",
              "\t<tr><td>Senate         </td><td>Senate         </td></tr>\n",
              "\t<tr><td>and            </td><td>and            </td></tr>\n",
              "\t<tr><td>of             </td><td>of             </td></tr>\n",
              "\t<tr><td>the            </td><td>the            </td></tr>\n",
              "\t<tr><td>House          </td><td>House          </td></tr>\n",
              "\t<tr><td>of             </td><td>of             </td></tr>\n",
              "\t<tr><td>Representatives</td><td>Representatives</td></tr>\n",
              "\t<tr><td>:              </td><td>:              </td></tr>\n",
              "\t<tr><td>Among          </td><td>among          </td></tr>\n",
              "\t<tr><td>the            </td><td>the            </td></tr>\n",
              "\t<tr><td>vicissitudes   </td><td>vicissitude    </td></tr>\n",
              "\t<tr><td>incident       </td><td>incident       </td></tr>\n",
              "\t<tr><td>to             </td><td>to             </td></tr>\n",
              "\t<tr><td>life           </td><td>life           </td></tr>\n",
              "\t<tr><td>no             </td><td>no             </td></tr>\n",
              "\t<tr><td>event          </td><td>event          </td></tr>\n",
              "\t<tr><td>could          </td><td>could          </td></tr>\n",
              "\t<tr><td>have           </td><td>have           </td></tr>\n",
              "\t<tr><td>filled         </td><td>fill           </td></tr>\n",
              "\t<tr><td>me             </td><td>I              </td></tr>\n",
              "\t<tr><td>with           </td><td>with           </td></tr>\n",
              "\t<tr><td>greater        </td><td>greater        </td></tr>\n",
              "\t<tr><td>anxieties      </td><td>anxiety        </td></tr>\n",
              "\t<tr><td>than           </td><td>than           </td></tr>\n",
              "\t<tr><td>that           </td><td>that           </td></tr>\n",
              "\t<tr><td>of             </td><td>of             </td></tr>\n",
              "\t<tr><td>which          </td><td>which          </td></tr>\n",
              "\t<tr><td>the            </td><td>the            </td></tr>\n",
              "\t<tr><td>notification   </td><td>notification   </td></tr>\n",
              "\t<tr><td>was            </td><td>be             </td></tr>\n",
              "\t<tr><td>transmitted    </td><td>transmit       </td></tr>\n",
              "\t<tr><td>by             </td><td>by             </td></tr>\n",
              "\t<tr><td>your           </td><td>you            </td></tr>\n",
              "\t<tr><td>order          </td><td>order          </td></tr>\n",
              "\t<tr><td>,              </td><td>,              </td></tr>\n",
              "</tbody>\n",
              "</table>\n"
            ]
          },
          "metadata": {
            "tags": []
          }
        }
      ]
    },
    {
      "cell_type": "markdown",
      "metadata": {
        "id": "xFjHrbuPbSwe"
      },
      "source": [
        "Lemmatization can be particularly useful as a pre-processing step in some analyses; topic modeling immediately comes to mind. The general reason is that references to different forms of the same underlying token (say, \"transmit\", \"transmitted\", \"transmits\") all connote one related concept but are going to be treated as entirely distinct tokens if we were to say just look for the most frequent tokens in the corpus or in a speech. We'll come back to this later this semester when we discuss stemming and other related pre-processing considerations.\n",
        "\n"
      ]
    },
    {
      "cell_type": "markdown",
      "metadata": {
        "id": "t1olK2fOcTDr"
      },
      "source": [
        "# Universal Dependencies\n",
        "\n",
        "Now we are into the heart of the annotations. Let's highlight a chunk of the data to use as illustrations."
      ]
    },
    {
      "cell_type": "code",
      "metadata": {
        "colab": {
          "base_uri": "https://localhost:8080/",
          "height": 686
        },
        "id": "QXgcrfkIcirb",
        "outputId": "1ceeadcd-ecac-4ec5-e0c8-a795041d8229"
      },
      "source": [
        "# First tokens from Trump's speech\n",
        "head(annoData[which(annoData$Year == 2017),9:15],28)"
      ],
      "execution_count": null,
      "outputs": [
        {
          "output_type": "display_data",
          "data": {
            "text/plain": [
              "       token_with_ws lemma     upos  xpos feats                           \n",
              "147953 Chief         Chief     PROPN NNP  Number=Sing                     \n",
              "147954 Justice       Justice   PROPN NNP  Number=Sing                     \n",
              "147955 Roberts       Roberts   PROPN NNP  Number=Sing                     \n",
              "147956 ,             ,         PUNCT ,    NA                              \n",
              "147957 President     President PROPN NNP  Number=Sing                     \n",
              "147958 Carter        Carter    PROPN NNP  Number=Sing                     \n",
              "147959 ,             ,         PUNCT ,    NA                              \n",
              "147960 President     President PROPN NNP  Number=Sing                     \n",
              "147961 Clinton       Clinton   PROPN NNP  Number=Sing                     \n",
              "147962 ,             ,         PUNCT ,    NA                              \n",
              "147963 President     President PROPN NNP  Number=Sing                     \n",
              "147964 Bush          Bush      PROPN NNP  Number=Sing                     \n",
              "147965 ,             ,         PUNCT ,    NA                              \n",
              "147966 President     President PROPN NNP  Number=Sing                     \n",
              "147967 Obama         Obama     PROPN NNP  Number=Sing                     \n",
              "147968 ,             ,         PUNCT ,    NA                              \n",
              "147969 fellow        fellow    ADJ   JJ   Degree=Pos                      \n",
              "147970 Americans     Americans PROPN NNPS Number=Plur                     \n",
              "147971 ,             ,         PUNCT ,    NA                              \n",
              "147972 and           and       CCONJ CC   NA                              \n",
              "147973 people        people    NOUN  NNS  Number=Plur                     \n",
              "147974 of            of        ADP   IN   NA                              \n",
              "147975 the           the       DET   DT   Definite=Def|PronType=Art       \n",
              "147976 world         world     NOUN  NN   Number=Sing                     \n",
              "147977 :             :         PUNCT :    NA                              \n",
              "147978 thank         thank     VERB  VBP  Mood=Ind|Tense=Pres|VerbForm=Fin\n",
              "147979 you           you       PRON  PRP  Case=Acc|Person=2|PronType=Prs  \n",
              "147980 .\\n\\n         .         PUNCT .    NA                              \n",
              "       tid_source relation \n",
              "147953 2          compound \n",
              "147954 0          root     \n",
              "147955 2          flat     \n",
              "147956 2          punct    \n",
              "147957 2          conj     \n",
              "147958 5          flat     \n",
              "147959 8          punct    \n",
              "147960 2          conj     \n",
              "147961 8          flat     \n",
              "147962 11         punct    \n",
              "147963 2          conj     \n",
              "147964 11         flat     \n",
              "147965 14         punct    \n",
              "147966 2          conj     \n",
              "147967 14         flat     \n",
              "147968 18         punct    \n",
              "147969 18         amod     \n",
              "147970 2          conj     \n",
              "147971 21         punct    \n",
              "147972 21         cc       \n",
              "147973 2          conj     \n",
              "147974 24         case     \n",
              "147975 24         det      \n",
              "147976 21         nmod     \n",
              "147977 2          punct    \n",
              "147978 2          parataxis\n",
              "147979 26         obj      \n",
              "147980 2          punct    "
            ],
            "text/latex": "A data.frame: 28 × 7\n\\begin{tabular}{r|lllllll}\n  & token\\_with\\_ws & lemma & upos & xpos & feats & tid\\_source & relation\\\\\n  & <chr> & <chr> & <chr> & <chr> & <chr> & <chr> & <chr>\\\\\n\\hline\n\t147953 & Chief      & Chief     & PROPN & NNP  & Number=Sing                      & 2  & compound \\\\\n\t147954 & Justice    & Justice   & PROPN & NNP  & Number=Sing                      & 0  & root     \\\\\n\t147955 & Roberts    & Roberts   & PROPN & NNP  & Number=Sing                      & 2  & flat     \\\\\n\t147956 & ,          & ,         & PUNCT & ,    & NA                               & 2  & punct    \\\\\n\t147957 & President  & President & PROPN & NNP  & Number=Sing                      & 2  & conj     \\\\\n\t147958 & Carter     & Carter    & PROPN & NNP  & Number=Sing                      & 5  & flat     \\\\\n\t147959 & ,          & ,         & PUNCT & ,    & NA                               & 8  & punct    \\\\\n\t147960 & President  & President & PROPN & NNP  & Number=Sing                      & 2  & conj     \\\\\n\t147961 & Clinton    & Clinton   & PROPN & NNP  & Number=Sing                      & 8  & flat     \\\\\n\t147962 & ,          & ,         & PUNCT & ,    & NA                               & 11 & punct    \\\\\n\t147963 & President  & President & PROPN & NNP  & Number=Sing                      & 2  & conj     \\\\\n\t147964 & Bush       & Bush      & PROPN & NNP  & Number=Sing                      & 11 & flat     \\\\\n\t147965 & ,          & ,         & PUNCT & ,    & NA                               & 14 & punct    \\\\\n\t147966 & President  & President & PROPN & NNP  & Number=Sing                      & 2  & conj     \\\\\n\t147967 & Obama      & Obama     & PROPN & NNP  & Number=Sing                      & 14 & flat     \\\\\n\t147968 & ,          & ,         & PUNCT & ,    & NA                               & 18 & punct    \\\\\n\t147969 & fellow     & fellow    & ADJ   & JJ   & Degree=Pos                       & 18 & amod     \\\\\n\t147970 & Americans  & Americans & PROPN & NNPS & Number=Plur                      & 2  & conj     \\\\\n\t147971 & ,          & ,         & PUNCT & ,    & NA                               & 21 & punct    \\\\\n\t147972 & and        & and       & CCONJ & CC   & NA                               & 21 & cc       \\\\\n\t147973 & people     & people    & NOUN  & NNS  & Number=Plur                      & 2  & conj     \\\\\n\t147974 & of         & of        & ADP   & IN   & NA                               & 24 & case     \\\\\n\t147975 & the        & the       & DET   & DT   & Definite=Def\\textbar{}PronType=Art        & 24 & det      \\\\\n\t147976 & world      & world     & NOUN  & NN   & Number=Sing                      & 21 & nmod     \\\\\n\t147977 & :          & :         & PUNCT & :    & NA                               & 2  & punct    \\\\\n\t147978 & thank      & thank     & VERB  & VBP  & Mood=Ind\\textbar{}Tense=Pres\\textbar{}VerbForm=Fin & 2  & parataxis\\\\\n\t147979 & you        & you       & PRON  & PRP  & Case=Acc\\textbar{}Person=2\\textbar{}PronType=Prs   & 26 & obj      \\\\\n\t147980 & .\n\n      & .         & PUNCT & .    & NA                               & 2  & punct    \\\\\n\\end{tabular}\n",
            "text/markdown": "\nA data.frame: 28 × 7\n\n| <!--/--> | token_with_ws &lt;chr&gt; | lemma &lt;chr&gt; | upos &lt;chr&gt; | xpos &lt;chr&gt; | feats &lt;chr&gt; | tid_source &lt;chr&gt; | relation &lt;chr&gt; |\n|---|---|---|---|---|---|---|---|\n| 147953 | Chief      | Chief     | PROPN | NNP  | Number=Sing                      | 2  | compound  |\n| 147954 | Justice    | Justice   | PROPN | NNP  | Number=Sing                      | 0  | root      |\n| 147955 | Roberts    | Roberts   | PROPN | NNP  | Number=Sing                      | 2  | flat      |\n| 147956 | ,          | ,         | PUNCT | ,    | NA                               | 2  | punct     |\n| 147957 | President  | President | PROPN | NNP  | Number=Sing                      | 2  | conj      |\n| 147958 | Carter     | Carter    | PROPN | NNP  | Number=Sing                      | 5  | flat      |\n| 147959 | ,          | ,         | PUNCT | ,    | NA                               | 8  | punct     |\n| 147960 | President  | President | PROPN | NNP  | Number=Sing                      | 2  | conj      |\n| 147961 | Clinton    | Clinton   | PROPN | NNP  | Number=Sing                      | 8  | flat      |\n| 147962 | ,          | ,         | PUNCT | ,    | NA                               | 11 | punct     |\n| 147963 | President  | President | PROPN | NNP  | Number=Sing                      | 2  | conj      |\n| 147964 | Bush       | Bush      | PROPN | NNP  | Number=Sing                      | 11 | flat      |\n| 147965 | ,          | ,         | PUNCT | ,    | NA                               | 14 | punct     |\n| 147966 | President  | President | PROPN | NNP  | Number=Sing                      | 2  | conj      |\n| 147967 | Obama      | Obama     | PROPN | NNP  | Number=Sing                      | 14 | flat      |\n| 147968 | ,          | ,         | PUNCT | ,    | NA                               | 18 | punct     |\n| 147969 | fellow     | fellow    | ADJ   | JJ   | Degree=Pos                       | 18 | amod      |\n| 147970 | Americans  | Americans | PROPN | NNPS | Number=Plur                      | 2  | conj      |\n| 147971 | ,          | ,         | PUNCT | ,    | NA                               | 21 | punct     |\n| 147972 | and        | and       | CCONJ | CC   | NA                               | 21 | cc        |\n| 147973 | people     | people    | NOUN  | NNS  | Number=Plur                      | 2  | conj      |\n| 147974 | of         | of        | ADP   | IN   | NA                               | 24 | case      |\n| 147975 | the        | the       | DET   | DT   | Definite=Def|PronType=Art        | 24 | det       |\n| 147976 | world      | world     | NOUN  | NN   | Number=Sing                      | 21 | nmod      |\n| 147977 | :          | :         | PUNCT | :    | NA                               | 2  | punct     |\n| 147978 | thank      | thank     | VERB  | VBP  | Mood=Ind|Tense=Pres|VerbForm=Fin | 2  | parataxis |\n| 147979 | you        | you       | PRON  | PRP  | Case=Acc|Person=2|PronType=Prs   | 26 | obj       |\n| 147980 | .\n\n      | .         | PUNCT | .    | NA                               | 2  | punct     |\n\n",
            "text/html": [
              "<table>\n",
              "<caption>A data.frame: 28 × 7</caption>\n",
              "<thead>\n",
              "\t<tr><th></th><th scope=col>token_with_ws</th><th scope=col>lemma</th><th scope=col>upos</th><th scope=col>xpos</th><th scope=col>feats</th><th scope=col>tid_source</th><th scope=col>relation</th></tr>\n",
              "\t<tr><th></th><th scope=col>&lt;chr&gt;</th><th scope=col>&lt;chr&gt;</th><th scope=col>&lt;chr&gt;</th><th scope=col>&lt;chr&gt;</th><th scope=col>&lt;chr&gt;</th><th scope=col>&lt;chr&gt;</th><th scope=col>&lt;chr&gt;</th></tr>\n",
              "</thead>\n",
              "<tbody>\n",
              "\t<tr><th scope=row>147953</th><td>Chief     </td><td>Chief    </td><td>PROPN</td><td>NNP </td><td>Number=Sing                     </td><td>2 </td><td>compound </td></tr>\n",
              "\t<tr><th scope=row>147954</th><td>Justice   </td><td>Justice  </td><td>PROPN</td><td>NNP </td><td>Number=Sing                     </td><td>0 </td><td>root     </td></tr>\n",
              "\t<tr><th scope=row>147955</th><td>Roberts   </td><td>Roberts  </td><td>PROPN</td><td>NNP </td><td>Number=Sing                     </td><td>2 </td><td>flat     </td></tr>\n",
              "\t<tr><th scope=row>147956</th><td>,         </td><td>,        </td><td>PUNCT</td><td>,   </td><td>NA                              </td><td>2 </td><td>punct    </td></tr>\n",
              "\t<tr><th scope=row>147957</th><td>President </td><td>President</td><td>PROPN</td><td>NNP </td><td>Number=Sing                     </td><td>2 </td><td>conj     </td></tr>\n",
              "\t<tr><th scope=row>147958</th><td>Carter    </td><td>Carter   </td><td>PROPN</td><td>NNP </td><td>Number=Sing                     </td><td>5 </td><td>flat     </td></tr>\n",
              "\t<tr><th scope=row>147959</th><td>,         </td><td>,        </td><td>PUNCT</td><td>,   </td><td>NA                              </td><td>8 </td><td>punct    </td></tr>\n",
              "\t<tr><th scope=row>147960</th><td>President </td><td>President</td><td>PROPN</td><td>NNP </td><td>Number=Sing                     </td><td>2 </td><td>conj     </td></tr>\n",
              "\t<tr><th scope=row>147961</th><td>Clinton   </td><td>Clinton  </td><td>PROPN</td><td>NNP </td><td>Number=Sing                     </td><td>8 </td><td>flat     </td></tr>\n",
              "\t<tr><th scope=row>147962</th><td>,         </td><td>,        </td><td>PUNCT</td><td>,   </td><td>NA                              </td><td>11</td><td>punct    </td></tr>\n",
              "\t<tr><th scope=row>147963</th><td>President </td><td>President</td><td>PROPN</td><td>NNP </td><td>Number=Sing                     </td><td>2 </td><td>conj     </td></tr>\n",
              "\t<tr><th scope=row>147964</th><td>Bush      </td><td>Bush     </td><td>PROPN</td><td>NNP </td><td>Number=Sing                     </td><td>11</td><td>flat     </td></tr>\n",
              "\t<tr><th scope=row>147965</th><td>,         </td><td>,        </td><td>PUNCT</td><td>,   </td><td>NA                              </td><td>14</td><td>punct    </td></tr>\n",
              "\t<tr><th scope=row>147966</th><td>President </td><td>President</td><td>PROPN</td><td>NNP </td><td>Number=Sing                     </td><td>2 </td><td>conj     </td></tr>\n",
              "\t<tr><th scope=row>147967</th><td>Obama     </td><td>Obama    </td><td>PROPN</td><td>NNP </td><td>Number=Sing                     </td><td>14</td><td>flat     </td></tr>\n",
              "\t<tr><th scope=row>147968</th><td>,         </td><td>,        </td><td>PUNCT</td><td>,   </td><td>NA                              </td><td>18</td><td>punct    </td></tr>\n",
              "\t<tr><th scope=row>147969</th><td>fellow    </td><td>fellow   </td><td>ADJ  </td><td>JJ  </td><td>Degree=Pos                      </td><td>18</td><td>amod     </td></tr>\n",
              "\t<tr><th scope=row>147970</th><td>Americans </td><td>Americans</td><td>PROPN</td><td>NNPS</td><td>Number=Plur                     </td><td>2 </td><td>conj     </td></tr>\n",
              "\t<tr><th scope=row>147971</th><td>,         </td><td>,        </td><td>PUNCT</td><td>,   </td><td>NA                              </td><td>21</td><td>punct    </td></tr>\n",
              "\t<tr><th scope=row>147972</th><td>and       </td><td>and      </td><td>CCONJ</td><td>CC  </td><td>NA                              </td><td>21</td><td>cc       </td></tr>\n",
              "\t<tr><th scope=row>147973</th><td>people    </td><td>people   </td><td>NOUN </td><td>NNS </td><td>Number=Plur                     </td><td>2 </td><td>conj     </td></tr>\n",
              "\t<tr><th scope=row>147974</th><td>of        </td><td>of       </td><td>ADP  </td><td>IN  </td><td>NA                              </td><td>24</td><td>case     </td></tr>\n",
              "\t<tr><th scope=row>147975</th><td>the       </td><td>the      </td><td>DET  </td><td>DT  </td><td>Definite=Def|PronType=Art       </td><td>24</td><td>det      </td></tr>\n",
              "\t<tr><th scope=row>147976</th><td>world     </td><td>world    </td><td>NOUN </td><td>NN  </td><td>Number=Sing                     </td><td>21</td><td>nmod     </td></tr>\n",
              "\t<tr><th scope=row>147977</th><td>:         </td><td>:        </td><td>PUNCT</td><td>:   </td><td>NA                              </td><td>2 </td><td>punct    </td></tr>\n",
              "\t<tr><th scope=row>147978</th><td>thank     </td><td>thank    </td><td>VERB </td><td>VBP </td><td>Mood=Ind|Tense=Pres|VerbForm=Fin</td><td>2 </td><td>parataxis</td></tr>\n",
              "\t<tr><th scope=row>147979</th><td>you       </td><td>you      </td><td>PRON </td><td>PRP </td><td>Case=Acc|Person=2|PronType=Prs  </td><td>26</td><td>obj      </td></tr>\n",
              "\t<tr><th scope=row>147980</th><td>.\n",
              "\n",
              "     </td><td>.        </td><td>PUNCT</td><td>.   </td><td>NA                              </td><td>2 </td><td>punct    </td></tr>\n",
              "</tbody>\n",
              "</table>\n"
            ]
          },
          "metadata": {
            "tags": []
          }
        }
      ]
    },
    {
      "cell_type": "markdown",
      "metadata": {
        "id": "mSpHYghiseTa"
      },
      "source": [
        "Next, `upos` stands for the universal part of speech tag while `xpos` stands for the treebank-specific part of speech. You can find descriptions of each `upos` classification tag [here](https://universaldependencies.org/u/pos/index.html). Knowing the parts of speech, we could --- at a really basic level --- just look to see what adjectives are most frequently used in presidential addresses overall, and in the most recent era (i.e., post 2000). "
      ]
    },
    {
      "cell_type": "code",
      "metadata": {
        "colab": {
          "base_uri": "https://localhost:8080/",
          "height": 627
        },
        "id": "W_I_ngeWuNfU",
        "outputId": "9b8c8ebe-843f-4274-d70f-92b5254f43ea"
      },
      "source": [
        "annoData %>% \n",
        "  filter(Party == \"Republican\") %>%\n",
        "  filter(Year > 1980) %>%\n",
        "  filter(upos == \"NOUN\") %>%\n",
        "  group_by(lemma) %>% \n",
        "  summarize(count = n()) %>%\n",
        "  top_n(n=10) %>%\n",
        "  arrange(desc(count))\n",
        "\n",
        "annoData %>% \n",
        "  filter(Party == \"Democratic\") %>%\n",
        "  filter(Year > 1980) %>%\n",
        "  filter(upos == \"NOUN\") %>%\n",
        "  group_by(lemma) %>% \n",
        "  summarize(count = n()) %>%\n",
        "  top_n(n=10) %>%\n",
        "  arrange(desc(count))"
      ],
      "execution_count": null,
      "outputs": [
        {
          "output_type": "stream",
          "text": [
            "Selecting by count\n",
            "\n"
          ],
          "name": "stderr"
        },
        {
          "output_type": "display_data",
          "data": {
            "text/plain": [
              "   lemma      count\n",
              "1  freedom    61   \n",
              "2  nation     53   \n",
              "3  people     51   \n",
              "4  world      51   \n",
              "5  time       48   \n",
              "6  government 47   \n",
              "7  country    36   \n",
              "8  day        34   \n",
              "9  citizen    33   \n",
              "10 life       30   "
            ],
            "text/latex": "A tibble: 10 × 2\n\\begin{tabular}{ll}\n lemma & count\\\\\n <chr> & <int>\\\\\n\\hline\n\t freedom    & 61\\\\\n\t nation     & 53\\\\\n\t people     & 51\\\\\n\t world      & 51\\\\\n\t time       & 48\\\\\n\t government & 47\\\\\n\t country    & 36\\\\\n\t day        & 34\\\\\n\t citizen    & 33\\\\\n\t life       & 30\\\\\n\\end{tabular}\n",
            "text/markdown": "\nA tibble: 10 × 2\n\n| lemma &lt;chr&gt; | count &lt;int&gt; |\n|---|---|\n| freedom    | 61 |\n| nation     | 53 |\n| people     | 51 |\n| world      | 51 |\n| time       | 48 |\n| government | 47 |\n| country    | 36 |\n| day        | 34 |\n| citizen    | 33 |\n| life       | 30 |\n\n",
            "text/html": [
              "<table>\n",
              "<caption>A tibble: 10 × 2</caption>\n",
              "<thead>\n",
              "\t<tr><th scope=col>lemma</th><th scope=col>count</th></tr>\n",
              "\t<tr><th scope=col>&lt;chr&gt;</th><th scope=col>&lt;int&gt;</th></tr>\n",
              "</thead>\n",
              "<tbody>\n",
              "\t<tr><td>freedom   </td><td>61</td></tr>\n",
              "\t<tr><td>nation    </td><td>53</td></tr>\n",
              "\t<tr><td>people    </td><td>51</td></tr>\n",
              "\t<tr><td>world     </td><td>51</td></tr>\n",
              "\t<tr><td>time      </td><td>48</td></tr>\n",
              "\t<tr><td>government</td><td>47</td></tr>\n",
              "\t<tr><td>country   </td><td>36</td></tr>\n",
              "\t<tr><td>day       </td><td>34</td></tr>\n",
              "\t<tr><td>citizen   </td><td>33</td></tr>\n",
              "\t<tr><td>life      </td><td>30</td></tr>\n",
              "</tbody>\n",
              "</table>\n"
            ]
          },
          "metadata": {
            "tags": []
          }
        },
        {
          "output_type": "stream",
          "text": [
            "Selecting by count\n",
            "\n"
          ],
          "name": "stderr"
        },
        {
          "output_type": "display_data",
          "data": {
            "text/plain": [
              "   lemma      count\n",
              "1  world      45   \n",
              "2  nation     43   \n",
              "3  people     42   \n",
              "4  time       37   \n",
              "5  today      28   \n",
              "6  century    23   \n",
              "7  government 22   \n",
              "8  life       21   \n",
              "9  child      20   \n",
              "10 generation 20   "
            ],
            "text/latex": "A tibble: 10 × 2\n\\begin{tabular}{ll}\n lemma & count\\\\\n <chr> & <int>\\\\\n\\hline\n\t world      & 45\\\\\n\t nation     & 43\\\\\n\t people     & 42\\\\\n\t time       & 37\\\\\n\t today      & 28\\\\\n\t century    & 23\\\\\n\t government & 22\\\\\n\t life       & 21\\\\\n\t child      & 20\\\\\n\t generation & 20\\\\\n\\end{tabular}\n",
            "text/markdown": "\nA tibble: 10 × 2\n\n| lemma &lt;chr&gt; | count &lt;int&gt; |\n|---|---|\n| world      | 45 |\n| nation     | 43 |\n| people     | 42 |\n| time       | 37 |\n| today      | 28 |\n| century    | 23 |\n| government | 22 |\n| life       | 21 |\n| child      | 20 |\n| generation | 20 |\n\n",
            "text/html": [
              "<table>\n",
              "<caption>A tibble: 10 × 2</caption>\n",
              "<thead>\n",
              "\t<tr><th scope=col>lemma</th><th scope=col>count</th></tr>\n",
              "\t<tr><th scope=col>&lt;chr&gt;</th><th scope=col>&lt;int&gt;</th></tr>\n",
              "</thead>\n",
              "<tbody>\n",
              "\t<tr><td>world     </td><td>45</td></tr>\n",
              "\t<tr><td>nation    </td><td>43</td></tr>\n",
              "\t<tr><td>people    </td><td>42</td></tr>\n",
              "\t<tr><td>time      </td><td>37</td></tr>\n",
              "\t<tr><td>today     </td><td>28</td></tr>\n",
              "\t<tr><td>century   </td><td>23</td></tr>\n",
              "\t<tr><td>government</td><td>22</td></tr>\n",
              "\t<tr><td>life      </td><td>21</td></tr>\n",
              "\t<tr><td>child     </td><td>20</td></tr>\n",
              "\t<tr><td>generation</td><td>20</td></tr>\n",
              "</tbody>\n",
              "</table>\n"
            ]
          },
          "metadata": {
            "tags": []
          }
        }
      ]
    },
    {
      "cell_type": "markdown",
      "metadata": {
        "id": "NnzZLteP2QqG"
      },
      "source": [
        "You can further distinguish parts of speech using the `feats` field, which references more specific \"features\" related to the parts of speech. More information on the features can be found [here](https://universaldependencies.org/u/feat/index.html). "
      ]
    },
    {
      "cell_type": "markdown",
      "metadata": {
        "id": "dEemkk4CIczZ"
      },
      "source": [
        "## Dependency Relations\n",
        "\n",
        "Finally, the relationships *between* tokens are captured in dependency relations, which are reflected by syntactic annotations through `tid_source` and `relation`. The goal of dependency relations is to form a generalizable structure of language that works *across* languages (thus, universal dependencies). If we want to capture meaning from many different texts in different languages (with all of the different customs of those particular languages), we would first want to have some generalizable structure about how words in languages fit together.\n",
        "\n",
        "Consider a sentence like: \n",
        "\n",
        "> The child chased the dog down the hall.\n",
        "\n",
        "The underlying idea behind dependency relations is to focus primarily on content words; in the above, that would be \"child\", \"chased\", \"dog\", and \"hall\". We can start to see how knowing *just* those four words gets us a long way to understanding what might be happening; if we can add in some sort of structure (say, that \"child\" is the nominal subject [`nsubj`], or the do-er of the action, and \"dog\" is the object [`obj`], or the receiver of the action) then we can recognize that a child chased a dog (rather than the much-less-cute reverse).  \n",
        "\n",
        "The full list of dependency relations and their abbreviations can be found [here](https://universaldependencies.org/u/dep/). \n",
        "\n",
        "What can we do with dependency relations? At the simplest level, they can be features that we rely on for classification. For that matter, everything we've covered in this tutorial could be a feature. We'll cover classifiers later this semester and will be able to explore this avenue a bit more then.\n",
        "\n",
        "We could also, however, be more directly interested in using the dependency relations to study particular choices over word usage in texts. As an example, consider unique phrasings from President Obama's 2009 inauguration speech and President Trump's 2017 speech (for more on the approach here, see the `cleanNLP` documentation [here](https://statsmaths.github.io/cleanNLP/state-of-union.html). "
      ]
    },
    {
      "cell_type": "code",
      "metadata": {
        "id": "H6eK_AknQeKh",
        "colab": {
          "base_uri": "https://localhost:8080/",
          "height": 306
        },
        "outputId": "09552213-4e15-4a3b-8032-6a524e69fd76"
      },
      "source": [
        "library(magrittr)\n",
        "\n",
        "# Trump 2017\n",
        "annoData %>%\n",
        "  left_join(\n",
        "    annotated$token,\n",
        "    c(\"doc_id\"=\"doc_id\", \"sid\"=\"sid\", \"tid\"=\"tid_source\"),\n",
        "    suffix=c(\"\", \"_source\")\n",
        "  ) %>%\n",
        "  filter(Year == 2017) %>%\n",
        "  filter(relation == \"obj\") %>%\n",
        "  select(doc_id = doc_id, start = token, word = token_source) %>%\n",
        "  left_join(word_frequency, by=\"word\") %>%\n",
        "  filter(frequency < 0.005) %>%\n",
        "  select(doc_id, start, word) %$%\n",
        "  sprintf(\"%s => %s\", start, word)"
      ],
      "execution_count": null,
      "outputs": [
        {
          "output_type": "stream",
          "text": [
            "\n",
            "Attaching package: ‘magrittr’\n",
            "\n",
            "\n",
            "The following object is masked from ‘package:purrr’:\n",
            "\n",
            "    set_names\n",
            "\n",
            "\n",
            "The following object is masked from ‘package:tidyr’:\n",
            "\n",
            "    extract\n",
            "\n",
            "\n"
          ],
          "name": "stderr"
        },
        {
          "output_type": "display_data",
          "data": {
            "text/plain": [
              " [1] \"transfer => orderly\"      \"schools => neighborhoods\"\n",
              " [3] \"mothers => trapped\"       \"mothers => flush\"        \n",
              " [5] \"industry => expense\"      \"industry => subsidized\"  \n",
              " [7] \"trillions => trillions\"   \"friendship => goodwill\"  \n",
              " [9] \"energies => tomorrow\"     \"blood => patriots\"       \n",
              "[11] \"freedoms => glorious\"    "
            ],
            "text/latex": "\\begin{enumerate*}\n\\item 'transfer => orderly'\n\\item 'schools => neighborhoods'\n\\item 'mothers => trapped'\n\\item 'mothers => flush'\n\\item 'industry => expense'\n\\item 'industry => subsidized'\n\\item 'trillions => trillions'\n\\item 'friendship => goodwill'\n\\item 'energies => tomorrow'\n\\item 'blood => patriots'\n\\item 'freedoms => glorious'\n\\end{enumerate*}\n",
            "text/markdown": "1. 'transfer =&gt; orderly'\n2. 'schools =&gt; neighborhoods'\n3. 'mothers =&gt; trapped'\n4. 'mothers =&gt; flush'\n5. 'industry =&gt; expense'\n6. 'industry =&gt; subsidized'\n7. 'trillions =&gt; trillions'\n8. 'friendship =&gt; goodwill'\n9. 'energies =&gt; tomorrow'\n10. 'blood =&gt; patriots'\n11. 'freedoms =&gt; glorious'\n\n\n",
            "text/html": [
              "<style>\n",
              ".list-inline {list-style: none; margin:0; padding: 0}\n",
              ".list-inline>li {display: inline-block}\n",
              ".list-inline>li:not(:last-child)::after {content: \"\\00b7\"; padding: 0 .5ex}\n",
              "</style>\n",
              "<ol class=list-inline><li>'transfer =&gt; orderly'</li><li>'schools =&gt; neighborhoods'</li><li>'mothers =&gt; trapped'</li><li>'mothers =&gt; flush'</li><li>'industry =&gt; expense'</li><li>'industry =&gt; subsidized'</li><li>'trillions =&gt; trillions'</li><li>'friendship =&gt; goodwill'</li><li>'energies =&gt; tomorrow'</li><li>'blood =&gt; patriots'</li><li>'freedoms =&gt; glorious'</li></ol>\n"
            ]
          },
          "metadata": {
            "tags": []
          }
        }
      ]
    },
    {
      "cell_type": "code",
      "metadata": {
        "colab": {
          "base_uri": "https://localhost:8080/",
          "height": 238
        },
        "id": "qRaaycLWm9BY",
        "outputId": "0930e3c9-d905-4daa-bbb3-6ecb7b30c6e3"
      },
      "source": [
        "# Obama 2009\n",
        "annoData %>%\n",
        "  left_join(\n",
        "    annotated$token,\n",
        "    c(\"doc_id\"=\"doc_id\", \"sid\"=\"sid\", \"tid\"=\"tid_source\"),\n",
        "    suffix=c(\"\", \"_source\")\n",
        "  ) %>%\n",
        "  filter(Year == 2009) %>%\n",
        "  filter(relation == \"obj\") %>%\n",
        "  select(doc_id = doc_id, start = token, word = token_source) %>%\n",
        "  left_join(word_frequency, by=\"word\") %>%\n",
        "  filter(frequency < 0.005) %>%\n",
        "  select(doc_id, start, word) %$%\n",
        "  sprintf(\"%s => %s\", start, word)"
      ],
      "execution_count": null,
      "outputs": [
        {
          "output_type": "display_data",
          "data": {
            "text/plain": [
              " [1] \"oath => presidential\"      \"consequence => greed\"     \n",
              " [3] \"hope => fear\"              \"end => grievances\"        \n",
              " [5] \"recriminations => dogmas\"  \"spirit => enduring\"       \n",
              " [7] \"gift => precious\"          \"chance => pursue\"         \n",
              " [9] \"measure => happiness\"      \"pleasures => riches\"      \n",
              "[11] \"path => rugged\"            \"path => prosperity\"       \n",
              "[13] \"possessions => worldly\"    \"lash => whip\"             \n",
              "[15] \"nation => prosperous\"      \"interests => narrow\"      \n",
              "[17] \"decisions => unpleasant\"   \"work => remaking\"         \n",
              "[19] \"roads => bridges\"          \"wonders => raise\"         \n",
              "[21] \"schools => colleges\"       \"schools => universities\"  \n",
              "[23] \"scale => ambitions\"        \"retirement => dignified\"  \n",
              "[25] \"trust => vital\"            \"charter => assure\"        \n",
              "[27] \"charter => expanded\"       \"that => generations\"      \n",
              "[29] \"generations => faced\"      \"generations => missiles\"  \n",
              "[31] \"effort => cooperation\"     \"peace => earned\"          \n",
              "[33] \"terror => slaughtering\"    \"swill => bitter\"          \n",
              "[35] \"bodies => starved\"         \"bodies => minds\"          \n",
              "[37] \"plenty => relative\"        \"indifference => suffering\"\n",
              "[39] \"road => unfolds\"           \"faith => ultimately\"      \n",
              "[41] \"faith => determination\"    \"job => sees\"              \n",
              "[43] \"stairway => filled\"        \"child => decides\"         \n",
              "[45] \"work => honesty\"           \"work => courage\"          \n",
              "[47] \"work => tolerance\"         \"work => curiosity\"        \n",
              "[49] \"work => loyalty\"           \"work => patriotism\"       \n",
              "[51] \"destiny => uncertain\"      \"oath => sacred\"           \n",
              "[53] \"words => timeless\"         \"currents => icy\"          \n",
              "[55] \"end => journey\"           "
            ],
            "text/latex": "\\begin{enumerate*}\n\\item 'oath => presidential'\n\\item 'consequence => greed'\n\\item 'hope => fear'\n\\item 'end => grievances'\n\\item 'recriminations => dogmas'\n\\item 'spirit => enduring'\n\\item 'gift => precious'\n\\item 'chance => pursue'\n\\item 'measure => happiness'\n\\item 'pleasures => riches'\n\\item 'path => rugged'\n\\item 'path => prosperity'\n\\item 'possessions => worldly'\n\\item 'lash => whip'\n\\item 'nation => prosperous'\n\\item 'interests => narrow'\n\\item 'decisions => unpleasant'\n\\item 'work => remaking'\n\\item 'roads => bridges'\n\\item 'wonders => raise'\n\\item 'schools => colleges'\n\\item 'schools => universities'\n\\item 'scale => ambitions'\n\\item 'retirement => dignified'\n\\item 'trust => vital'\n\\item 'charter => assure'\n\\item 'charter => expanded'\n\\item 'that => generations'\n\\item 'generations => faced'\n\\item 'generations => missiles'\n\\item 'effort => cooperation'\n\\item 'peace => earned'\n\\item 'terror => slaughtering'\n\\item 'swill => bitter'\n\\item 'bodies => starved'\n\\item 'bodies => minds'\n\\item 'plenty => relative'\n\\item 'indifference => suffering'\n\\item 'road => unfolds'\n\\item 'faith => ultimately'\n\\item 'faith => determination'\n\\item 'job => sees'\n\\item 'stairway => filled'\n\\item 'child => decides'\n\\item 'work => honesty'\n\\item 'work => courage'\n\\item 'work => tolerance'\n\\item 'work => curiosity'\n\\item 'work => loyalty'\n\\item 'work => patriotism'\n\\item 'destiny => uncertain'\n\\item 'oath => sacred'\n\\item 'words => timeless'\n\\item 'currents => icy'\n\\item 'end => journey'\n\\end{enumerate*}\n",
            "text/markdown": "1. 'oath =&gt; presidential'\n2. 'consequence =&gt; greed'\n3. 'hope =&gt; fear'\n4. 'end =&gt; grievances'\n5. 'recriminations =&gt; dogmas'\n6. 'spirit =&gt; enduring'\n7. 'gift =&gt; precious'\n8. 'chance =&gt; pursue'\n9. 'measure =&gt; happiness'\n10. 'pleasures =&gt; riches'\n11. 'path =&gt; rugged'\n12. 'path =&gt; prosperity'\n13. 'possessions =&gt; worldly'\n14. 'lash =&gt; whip'\n15. 'nation =&gt; prosperous'\n16. 'interests =&gt; narrow'\n17. 'decisions =&gt; unpleasant'\n18. 'work =&gt; remaking'\n19. 'roads =&gt; bridges'\n20. 'wonders =&gt; raise'\n21. 'schools =&gt; colleges'\n22. 'schools =&gt; universities'\n23. 'scale =&gt; ambitions'\n24. 'retirement =&gt; dignified'\n25. 'trust =&gt; vital'\n26. 'charter =&gt; assure'\n27. 'charter =&gt; expanded'\n28. 'that =&gt; generations'\n29. 'generations =&gt; faced'\n30. 'generations =&gt; missiles'\n31. 'effort =&gt; cooperation'\n32. 'peace =&gt; earned'\n33. 'terror =&gt; slaughtering'\n34. 'swill =&gt; bitter'\n35. 'bodies =&gt; starved'\n36. 'bodies =&gt; minds'\n37. 'plenty =&gt; relative'\n38. 'indifference =&gt; suffering'\n39. 'road =&gt; unfolds'\n40. 'faith =&gt; ultimately'\n41. 'faith =&gt; determination'\n42. 'job =&gt; sees'\n43. 'stairway =&gt; filled'\n44. 'child =&gt; decides'\n45. 'work =&gt; honesty'\n46. 'work =&gt; courage'\n47. 'work =&gt; tolerance'\n48. 'work =&gt; curiosity'\n49. 'work =&gt; loyalty'\n50. 'work =&gt; patriotism'\n51. 'destiny =&gt; uncertain'\n52. 'oath =&gt; sacred'\n53. 'words =&gt; timeless'\n54. 'currents =&gt; icy'\n55. 'end =&gt; journey'\n\n\n",
            "text/html": [
              "<style>\n",
              ".list-inline {list-style: none; margin:0; padding: 0}\n",
              ".list-inline>li {display: inline-block}\n",
              ".list-inline>li:not(:last-child)::after {content: \"\\00b7\"; padding: 0 .5ex}\n",
              "</style>\n",
              "<ol class=list-inline><li>'oath =&gt; presidential'</li><li>'consequence =&gt; greed'</li><li>'hope =&gt; fear'</li><li>'end =&gt; grievances'</li><li>'recriminations =&gt; dogmas'</li><li>'spirit =&gt; enduring'</li><li>'gift =&gt; precious'</li><li>'chance =&gt; pursue'</li><li>'measure =&gt; happiness'</li><li>'pleasures =&gt; riches'</li><li>'path =&gt; rugged'</li><li>'path =&gt; prosperity'</li><li>'possessions =&gt; worldly'</li><li>'lash =&gt; whip'</li><li>'nation =&gt; prosperous'</li><li>'interests =&gt; narrow'</li><li>'decisions =&gt; unpleasant'</li><li>'work =&gt; remaking'</li><li>'roads =&gt; bridges'</li><li>'wonders =&gt; raise'</li><li>'schools =&gt; colleges'</li><li>'schools =&gt; universities'</li><li>'scale =&gt; ambitions'</li><li>'retirement =&gt; dignified'</li><li>'trust =&gt; vital'</li><li>'charter =&gt; assure'</li><li>'charter =&gt; expanded'</li><li>'that =&gt; generations'</li><li>'generations =&gt; faced'</li><li>'generations =&gt; missiles'</li><li>'effort =&gt; cooperation'</li><li>'peace =&gt; earned'</li><li>'terror =&gt; slaughtering'</li><li>'swill =&gt; bitter'</li><li>'bodies =&gt; starved'</li><li>'bodies =&gt; minds'</li><li>'plenty =&gt; relative'</li><li>'indifference =&gt; suffering'</li><li>'road =&gt; unfolds'</li><li>'faith =&gt; ultimately'</li><li>'faith =&gt; determination'</li><li>'job =&gt; sees'</li><li>'stairway =&gt; filled'</li><li>'child =&gt; decides'</li><li>'work =&gt; honesty'</li><li>'work =&gt; courage'</li><li>'work =&gt; tolerance'</li><li>'work =&gt; curiosity'</li><li>'work =&gt; loyalty'</li><li>'work =&gt; patriotism'</li><li>'destiny =&gt; uncertain'</li><li>'oath =&gt; sacred'</li><li>'words =&gt; timeless'</li><li>'currents =&gt; icy'</li><li>'end =&gt; journey'</li></ol>\n"
            ]
          },
          "metadata": {
            "tags": []
          }
        }
      ]
    },
    {
      "cell_type": "markdown",
      "metadata": {
        "id": "7Dt8tIP1T6hs"
      },
      "source": [
        "# Utility packages\n",
        "\n",
        "These are  packages that provide supporting functionality and more specialized options for things like tokenization.\n",
        "\n"
      ]
    },
    {
      "cell_type": "markdown",
      "metadata": {
        "id": "vj7o-H6mYVRA"
      },
      "source": [
        "## SnowballC / Rstem\n",
        "\n",
        "Official description of **SnowballC**: \n",
        "\n",
        "> An R interface to the C 'libstemmer' library that implements Porter's word stemming algorithm for collapsing words to a common root to aid comparison of vocabulary. Currently supported languages are Danish, Dutch, English, Finnish, French, German, Hungarian, Italian, Norwegian, Portuguese, Romanian, Russian, Spanish, Swedish and Turkish.\n",
        "\n",
        "SnowballC is called by the stemming functions of several of the general packages discussed above.\n",
        "\n",
        "The package **Rstem** appears to do the same thing. \n",
        "\n"
      ]
    },
    {
      "cell_type": "markdown",
      "metadata": {
        "id": "U7IYFTYNYd5t"
      },
      "source": [
        "## stopwords\n",
        "\n",
        "Official description: \n",
        "\n",
        "> R package providing “one-stop shopping” (or should that be “one-shop stopping”?) for stopword lists in R, for multiple languages and sources. No longer should text analysis or NLP packages bake in their own stopword lists or functions, since this package can accommodate them all, and is easily extended.\n",
        "\n",
        "*stopwords* is part of the quanteda ecosystem. It wraps stopword lists from multiple sources. To access, specify a source and a language:"
      ]
    },
    {
      "cell_type": "code",
      "metadata": {
        "colab": {
          "base_uri": "https://localhost:8080/",
          "height": 85
        },
        "id": "QnkjODupT9LE",
        "outputId": "90319bca-f817-4989-b7b7-5e9f96896201"
      },
      "source": [
        "head(stopwords::stopwords(\"de\", source = \"snowball\"), 20)\n",
        "head(stopwords::stopwords(\"ja\", source = \"marimo\"), 20)"
      ],
      "execution_count": null,
      "outputs": [
        {
          "output_type": "display_data",
          "data": {
            "text/plain": [
              " [1] \"aber\"    \"alle\"    \"allem\"   \"allen\"   \"aller\"   \"alles\"   \"als\"    \n",
              " [8] \"also\"    \"am\"      \"an\"      \"ander\"   \"andere\"  \"anderem\" \"anderen\"\n",
              "[15] \"anderer\" \"anderes\" \"anderm\"  \"andern\"  \"anderr\"  \"anders\" "
            ],
            "text/latex": "\\begin{enumerate*}\n\\item 'aber'\n\\item 'alle'\n\\item 'allem'\n\\item 'allen'\n\\item 'aller'\n\\item 'alles'\n\\item 'als'\n\\item 'also'\n\\item 'am'\n\\item 'an'\n\\item 'ander'\n\\item 'andere'\n\\item 'anderem'\n\\item 'anderen'\n\\item 'anderer'\n\\item 'anderes'\n\\item 'anderm'\n\\item 'andern'\n\\item 'anderr'\n\\item 'anders'\n\\end{enumerate*}\n",
            "text/markdown": "1. 'aber'\n2. 'alle'\n3. 'allem'\n4. 'allen'\n5. 'aller'\n6. 'alles'\n7. 'als'\n8. 'also'\n9. 'am'\n10. 'an'\n11. 'ander'\n12. 'andere'\n13. 'anderem'\n14. 'anderen'\n15. 'anderer'\n16. 'anderes'\n17. 'anderm'\n18. 'andern'\n19. 'anderr'\n20. 'anders'\n\n\n",
            "text/html": [
              "<style>\n",
              ".list-inline {list-style: none; margin:0; padding: 0}\n",
              ".list-inline>li {display: inline-block}\n",
              ".list-inline>li:not(:last-child)::after {content: \"\\00b7\"; padding: 0 .5ex}\n",
              "</style>\n",
              "<ol class=list-inline><li>'aber'</li><li>'alle'</li><li>'allem'</li><li>'allen'</li><li>'aller'</li><li>'alles'</li><li>'als'</li><li>'also'</li><li>'am'</li><li>'an'</li><li>'ander'</li><li>'andere'</li><li>'anderem'</li><li>'anderen'</li><li>'anderer'</li><li>'anderes'</li><li>'anderm'</li><li>'andern'</li><li>'anderr'</li><li>'anders'</li></ol>\n"
            ]
          },
          "metadata": {}
        },
        {
          "output_type": "display_data",
          "data": {
            "text/plain": [
              " [1] \"私\"       \"僕\"       \"自分\"     \"自身\"     \"我々\"     \"私達\"    \n",
              " [7] \"あなた\"   \"彼\"       \"彼女\"     \"彼ら\"     \"彼女ら\"   \"あれ\"    \n",
              "[13] \"それ\"     \"これ\"     \"あれら\"   \"あれらの\" \"それら\"   \"それらの\"\n",
              "[19] \"これら\"   \"これらの\""
            ],
            "text/latex": "\\begin{enumerate*}\n\\item '私'\n\\item '僕'\n\\item '自分'\n\\item '自身'\n\\item '我々'\n\\item '私達'\n\\item 'あなた'\n\\item '彼'\n\\item '彼女'\n\\item '彼ら'\n\\item '彼女ら'\n\\item 'あれ'\n\\item 'それ'\n\\item 'これ'\n\\item 'あれら'\n\\item 'あれらの'\n\\item 'それら'\n\\item 'それらの'\n\\item 'これら'\n\\item 'これらの'\n\\end{enumerate*}\n",
            "text/markdown": "1. '私'\n2. '僕'\n3. '自分'\n4. '自身'\n5. '我々'\n6. '私達'\n7. 'あなた'\n8. '彼'\n9. '彼女'\n10. '彼ら'\n11. '彼女ら'\n12. 'あれ'\n13. 'それ'\n14. 'これ'\n15. 'あれら'\n16. 'あれらの'\n17. 'それら'\n18. 'それらの'\n19. 'これら'\n20. 'これらの'\n\n\n",
            "text/html": [
              "<style>\n",
              ".list-inline {list-style: none; margin:0; padding: 0}\n",
              ".list-inline>li {display: inline-block}\n",
              ".list-inline>li:not(:last-child)::after {content: \"\\00b7\"; padding: 0 .5ex}\n",
              "</style>\n",
              "<ol class=list-inline><li>'私'</li><li>'僕'</li><li>'自分'</li><li>'自身'</li><li>'我々'</li><li>'私達'</li><li>'あなた'</li><li>'彼'</li><li>'彼女'</li><li>'彼ら'</li><li>'彼女ら'</li><li>'あれ'</li><li>'それ'</li><li>'これ'</li><li>'あれら'</li><li>'あれらの'</li><li>'それら'</li><li>'それらの'</li><li>'これら'</li><li>'これらの'</li></ol>\n"
            ]
          },
          "metadata": {}
        }
      ]
    },
    {
      "cell_type": "markdown",
      "metadata": {
        "id": "aK7PM5Y1UC98"
      },
      "source": [
        "The sources can be accessed with `stopwords_getsources`:"
      ]
    },
    {
      "cell_type": "code",
      "metadata": {
        "colab": {
          "base_uri": "https://localhost:8080/",
          "height": 34
        },
        "id": "2_y3vsUBUER1",
        "outputId": "d6e8ef62-7760-4a91-d083-09c49e327134"
      },
      "source": [
        "# list all sources\n",
        "stopwords::stopwords_getsources()"
      ],
      "execution_count": null,
      "outputs": [
        {
          "output_type": "display_data",
          "data": {
            "text/plain": [
              "[1] \"snowball\"      \"stopwords-iso\" \"misc\"          \"smart\"        \n",
              "[5] \"marimo\"        \"ancient\"       \"nltk\"          \"perseus\"      "
            ],
            "text/latex": "\\begin{enumerate*}\n\\item 'snowball'\n\\item 'stopwords-iso'\n\\item 'misc'\n\\item 'smart'\n\\item 'marimo'\n\\item 'ancient'\n\\item 'nltk'\n\\item 'perseus'\n\\end{enumerate*}\n",
            "text/markdown": "1. 'snowball'\n2. 'stopwords-iso'\n3. 'misc'\n4. 'smart'\n5. 'marimo'\n6. 'ancient'\n7. 'nltk'\n8. 'perseus'\n\n\n",
            "text/html": [
              "<style>\n",
              ".list-inline {list-style: none; margin:0; padding: 0}\n",
              ".list-inline>li {display: inline-block}\n",
              ".list-inline>li:not(:last-child)::after {content: \"\\00b7\"; padding: 0 .5ex}\n",
              "</style>\n",
              "<ol class=list-inline><li>'snowball'</li><li>'stopwords-iso'</li><li>'misc'</li><li>'smart'</li><li>'marimo'</li><li>'ancient'</li><li>'nltk'</li><li>'perseus'</li></ol>\n"
            ]
          },
          "metadata": {}
        }
      ]
    },
    {
      "cell_type": "markdown",
      "metadata": {
        "id": "IkZ4PsE1UJED"
      },
      "source": [
        "The languages for each source can be accessed via `stopwords_getlanguages`:"
      ]
    },
    {
      "cell_type": "code",
      "metadata": {
        "colab": {
          "base_uri": "https://localhost:8080/",
          "height": 34
        },
        "id": "e7CRBGkrUNaE",
        "outputId": "d747b6a9-0077-498b-de1b-c87e323918ac"
      },
      "source": [
        "stopwords::stopwords_getlanguages(\"snowball\")"
      ],
      "execution_count": null,
      "outputs": [
        {
          "output_type": "display_data",
          "data": {
            "text/plain": [
              " [1] \"da\" \"de\" \"en\" \"es\" \"fi\" \"fr\" \"hu\" \"ir\" \"it\" \"nl\" \"no\" \"pt\" \"ro\" \"ru\" \"sv\""
            ],
            "text/latex": "\\begin{enumerate*}\n\\item 'da'\n\\item 'de'\n\\item 'en'\n\\item 'es'\n\\item 'fi'\n\\item 'fr'\n\\item 'hu'\n\\item 'ir'\n\\item 'it'\n\\item 'nl'\n\\item 'no'\n\\item 'pt'\n\\item 'ro'\n\\item 'ru'\n\\item 'sv'\n\\end{enumerate*}\n",
            "text/markdown": "1. 'da'\n2. 'de'\n3. 'en'\n4. 'es'\n5. 'fi'\n6. 'fr'\n7. 'hu'\n8. 'ir'\n9. 'it'\n10. 'nl'\n11. 'no'\n12. 'pt'\n13. 'ro'\n14. 'ru'\n15. 'sv'\n\n\n",
            "text/html": [
              "<style>\n",
              ".list-inline {list-style: none; margin:0; padding: 0}\n",
              ".list-inline>li {display: inline-block}\n",
              ".list-inline>li:not(:last-child)::after {content: \"\\00b7\"; padding: 0 .5ex}\n",
              "</style>\n",
              "<ol class=list-inline><li>'da'</li><li>'de'</li><li>'en'</li><li>'es'</li><li>'fi'</li><li>'fr'</li><li>'hu'</li><li>'ir'</li><li>'it'</li><li>'nl'</li><li>'no'</li><li>'pt'</li><li>'ro'</li><li>'ru'</li><li>'sv'</li></ol>\n"
            ]
          },
          "metadata": {}
        }
      ]
    },
    {
      "cell_type": "markdown",
      "metadata": {
        "id": "6N0NVMj2UU3J"
      },
      "source": [
        "A full list is maintained on the project's github: https://github.com/quanteda/stopwords.\n",
        "\n",
        "## tokenizers\n",
        "\n",
        "Examples from the tokenizers documentation:"
      ]
    },
    {
      "cell_type": "code",
      "metadata": {
        "id": "j6WY7meBUV-A"
      },
      "source": [
        "james <- paste0(\n",
        "  \"The question thus becomes a verbal one\\n\",\n",
        "  \"again; and our knowledge of all these early stages of thought and feeling\\n\",\n",
        "  \"is in any case so conjectural and imperfect that farther discussion would\\n\",\n",
        "  \"not be worth while.\\n\",\n",
        "  \"\\n\",\n",
        "  \"Religion, therefore, as I now ask you arbitrarily to take it, shall mean\\n\",\n",
        "  \"for us _the feelings, acts, and experiences of individual men in their\\n\",\n",
        "  \"solitude, so far as they apprehend themselves to stand in relation to\\n\",\n",
        "  \"whatever they may consider the divine_. Since the relation may be either\\n\",\n",
        "  \"moral, physical, or ritual, it is evident that out of religion in the\\n\",\n",
        "  \"sense in which we take it, theologies, philosophies, and ecclesiastical\\n\",\n",
        "  \"organizations may secondarily grow.\\n\"\n",
        ")"
      ],
      "execution_count": null,
      "outputs": []
    },
    {
      "cell_type": "markdown",
      "metadata": {
        "id": "1q5XVaeVUb1z"
      },
      "source": [
        "Tokenize into characters:"
      ]
    },
    {
      "cell_type": "code",
      "metadata": {
        "colab": {
          "base_uri": "https://localhost:8080/",
          "height": 34
        },
        "id": "ikJ5AzeHUe3b",
        "outputId": "a2b308ff-8ab2-4d6a-8f94-413ffea71b9f"
      },
      "source": [
        "tokenizers::tokenize_characters(james)[[1]] %>% head(20)\n"
      ],
      "execution_count": null,
      "outputs": [
        {
          "output_type": "display_data",
          "data": {
            "text/plain": [
              " [1] \"t\" \"h\" \"e\" \"q\" \"u\" \"e\" \"s\" \"t\" \"i\" \"o\" \"n\" \"t\" \"h\" \"u\" \"s\" \"b\" \"e\" \"c\" \"o\"\n",
              "[20] \"m\""
            ],
            "text/latex": "\\begin{enumerate*}\n\\item 't'\n\\item 'h'\n\\item 'e'\n\\item 'q'\n\\item 'u'\n\\item 'e'\n\\item 's'\n\\item 't'\n\\item 'i'\n\\item 'o'\n\\item 'n'\n\\item 't'\n\\item 'h'\n\\item 'u'\n\\item 's'\n\\item 'b'\n\\item 'e'\n\\item 'c'\n\\item 'o'\n\\item 'm'\n\\end{enumerate*}\n",
            "text/markdown": "1. 't'\n2. 'h'\n3. 'e'\n4. 'q'\n5. 'u'\n6. 'e'\n7. 's'\n8. 't'\n9. 'i'\n10. 'o'\n11. 'n'\n12. 't'\n13. 'h'\n14. 'u'\n15. 's'\n16. 'b'\n17. 'e'\n18. 'c'\n19. 'o'\n20. 'm'\n\n\n",
            "text/html": [
              "<style>\n",
              ".list-inline {list-style: none; margin:0; padding: 0}\n",
              ".list-inline>li {display: inline-block}\n",
              ".list-inline>li:not(:last-child)::after {content: \"\\00b7\"; padding: 0 .5ex}\n",
              "</style>\n",
              "<ol class=list-inline><li>'t'</li><li>'h'</li><li>'e'</li><li>'q'</li><li>'u'</li><li>'e'</li><li>'s'</li><li>'t'</li><li>'i'</li><li>'o'</li><li>'n'</li><li>'t'</li><li>'h'</li><li>'u'</li><li>'s'</li><li>'b'</li><li>'e'</li><li>'c'</li><li>'o'</li><li>'m'</li></ol>\n"
            ]
          },
          "metadata": {}
        }
      ]
    },
    {
      "cell_type": "markdown",
      "metadata": {
        "id": "W5iOVpv_UjS5"
      },
      "source": [
        "Tokenize into character shingles:"
      ]
    },
    {
      "cell_type": "code",
      "metadata": {
        "colab": {
          "base_uri": "https://localhost:8080/",
          "height": 34
        },
        "id": "FTHCGtHHUm_l",
        "outputId": "b3b076a2-7901-4da8-9557-83e1963f0e2b"
      },
      "source": [
        "tokenizers::tokenize_character_shingles(james)[[1]] %>% head(20)"
      ],
      "execution_count": null,
      "outputs": [
        {
          "output_type": "display_data",
          "data": {
            "text/plain": [
              " [1] \"the\" \"heq\" \"equ\" \"que\" \"ues\" \"est\" \"sti\" \"tio\" \"ion\" \"ont\" \"nth\" \"thu\"\n",
              "[13] \"hus\" \"usb\" \"sbe\" \"bec\" \"eco\" \"com\" \"ome\" \"mes\""
            ],
            "text/latex": "\\begin{enumerate*}\n\\item 'the'\n\\item 'heq'\n\\item 'equ'\n\\item 'que'\n\\item 'ues'\n\\item 'est'\n\\item 'sti'\n\\item 'tio'\n\\item 'ion'\n\\item 'ont'\n\\item 'nth'\n\\item 'thu'\n\\item 'hus'\n\\item 'usb'\n\\item 'sbe'\n\\item 'bec'\n\\item 'eco'\n\\item 'com'\n\\item 'ome'\n\\item 'mes'\n\\end{enumerate*}\n",
            "text/markdown": "1. 'the'\n2. 'heq'\n3. 'equ'\n4. 'que'\n5. 'ues'\n6. 'est'\n7. 'sti'\n8. 'tio'\n9. 'ion'\n10. 'ont'\n11. 'nth'\n12. 'thu'\n13. 'hus'\n14. 'usb'\n15. 'sbe'\n16. 'bec'\n17. 'eco'\n18. 'com'\n19. 'ome'\n20. 'mes'\n\n\n",
            "text/html": [
              "<style>\n",
              ".list-inline {list-style: none; margin:0; padding: 0}\n",
              ".list-inline>li {display: inline-block}\n",
              ".list-inline>li:not(:last-child)::after {content: \"\\00b7\"; padding: 0 .5ex}\n",
              "</style>\n",
              "<ol class=list-inline><li>'the'</li><li>'heq'</li><li>'equ'</li><li>'que'</li><li>'ues'</li><li>'est'</li><li>'sti'</li><li>'tio'</li><li>'ion'</li><li>'ont'</li><li>'nth'</li><li>'thu'</li><li>'hus'</li><li>'usb'</li><li>'sbe'</li><li>'bec'</li><li>'eco'</li><li>'com'</li><li>'ome'</li><li>'mes'</li></ol>\n"
            ]
          },
          "metadata": {}
        }
      ]
    },
    {
      "cell_type": "markdown",
      "metadata": {
        "id": "zyWXpmDfUrQU"
      },
      "source": [
        "Tokenize into words:"
      ]
    },
    {
      "cell_type": "code",
      "metadata": {
        "colab": {
          "base_uri": "https://localhost:8080/",
          "height": 51
        },
        "id": "A88hvvcDUutj",
        "outputId": "f5bf358b-fdf4-4c78-f369-256607ba738d"
      },
      "source": [
        "tokenizers::tokenize_words(james)[[1]] %>% head(20)"
      ],
      "execution_count": null,
      "outputs": [
        {
          "output_type": "display_data",
          "data": {
            "text/plain": [
              " [1] \"the\"       \"question\"  \"thus\"      \"becomes\"   \"a\"         \"verbal\"   \n",
              " [7] \"one\"       \"again\"     \"and\"       \"our\"       \"knowledge\" \"of\"       \n",
              "[13] \"all\"       \"these\"     \"early\"     \"stages\"    \"of\"        \"thought\"  \n",
              "[19] \"and\"       \"feeling\"  "
            ],
            "text/latex": "\\begin{enumerate*}\n\\item 'the'\n\\item 'question'\n\\item 'thus'\n\\item 'becomes'\n\\item 'a'\n\\item 'verbal'\n\\item 'one'\n\\item 'again'\n\\item 'and'\n\\item 'our'\n\\item 'knowledge'\n\\item 'of'\n\\item 'all'\n\\item 'these'\n\\item 'early'\n\\item 'stages'\n\\item 'of'\n\\item 'thought'\n\\item 'and'\n\\item 'feeling'\n\\end{enumerate*}\n",
            "text/markdown": "1. 'the'\n2. 'question'\n3. 'thus'\n4. 'becomes'\n5. 'a'\n6. 'verbal'\n7. 'one'\n8. 'again'\n9. 'and'\n10. 'our'\n11. 'knowledge'\n12. 'of'\n13. 'all'\n14. 'these'\n15. 'early'\n16. 'stages'\n17. 'of'\n18. 'thought'\n19. 'and'\n20. 'feeling'\n\n\n",
            "text/html": [
              "<style>\n",
              ".list-inline {list-style: none; margin:0; padding: 0}\n",
              ".list-inline>li {display: inline-block}\n",
              ".list-inline>li:not(:last-child)::after {content: \"\\00b7\"; padding: 0 .5ex}\n",
              "</style>\n",
              "<ol class=list-inline><li>'the'</li><li>'question'</li><li>'thus'</li><li>'becomes'</li><li>'a'</li><li>'verbal'</li><li>'one'</li><li>'again'</li><li>'and'</li><li>'our'</li><li>'knowledge'</li><li>'of'</li><li>'all'</li><li>'these'</li><li>'early'</li><li>'stages'</li><li>'of'</li><li>'thought'</li><li>'and'</li><li>'feeling'</li></ol>\n"
            ]
          },
          "metadata": {}
        }
      ]
    },
    {
      "cell_type": "markdown",
      "metadata": {
        "id": "dEMTf0GCU0yK"
      },
      "source": [
        "Tokenize into word stems:\n"
      ]
    },
    {
      "cell_type": "code",
      "metadata": {
        "colab": {
          "base_uri": "https://localhost:8080/",
          "height": 51
        },
        "id": "mI4l75VdU3xS",
        "outputId": "7fc78d30-ea0a-4440-f555-db543e3149e5"
      },
      "source": [
        "tokenizers::tokenize_word_stems(james)[[1]] %>% head(20)"
      ],
      "execution_count": null,
      "outputs": [
        {
          "output_type": "display_data",
          "data": {
            "text/plain": [
              " [1] \"the\"      \"question\" \"thus\"     \"becom\"    \"a\"        \"verbal\"  \n",
              " [7] \"one\"      \"again\"    \"and\"      \"our\"      \"knowledg\" \"of\"      \n",
              "[13] \"all\"      \"these\"    \"earli\"    \"stage\"    \"of\"       \"thought\" \n",
              "[19] \"and\"      \"feel\"    "
            ],
            "text/latex": "\\begin{enumerate*}\n\\item 'the'\n\\item 'question'\n\\item 'thus'\n\\item 'becom'\n\\item 'a'\n\\item 'verbal'\n\\item 'one'\n\\item 'again'\n\\item 'and'\n\\item 'our'\n\\item 'knowledg'\n\\item 'of'\n\\item 'all'\n\\item 'these'\n\\item 'earli'\n\\item 'stage'\n\\item 'of'\n\\item 'thought'\n\\item 'and'\n\\item 'feel'\n\\end{enumerate*}\n",
            "text/markdown": "1. 'the'\n2. 'question'\n3. 'thus'\n4. 'becom'\n5. 'a'\n6. 'verbal'\n7. 'one'\n8. 'again'\n9. 'and'\n10. 'our'\n11. 'knowledg'\n12. 'of'\n13. 'all'\n14. 'these'\n15. 'earli'\n16. 'stage'\n17. 'of'\n18. 'thought'\n19. 'and'\n20. 'feel'\n\n\n",
            "text/html": [
              "<style>\n",
              ".list-inline {list-style: none; margin:0; padding: 0}\n",
              ".list-inline>li {display: inline-block}\n",
              ".list-inline>li:not(:last-child)::after {content: \"\\00b7\"; padding: 0 .5ex}\n",
              "</style>\n",
              "<ol class=list-inline><li>'the'</li><li>'question'</li><li>'thus'</li><li>'becom'</li><li>'a'</li><li>'verbal'</li><li>'one'</li><li>'again'</li><li>'and'</li><li>'our'</li><li>'knowledg'</li><li>'of'</li><li>'all'</li><li>'these'</li><li>'earli'</li><li>'stage'</li><li>'of'</li><li>'thought'</li><li>'and'</li><li>'feel'</li></ol>\n"
            ]
          },
          "metadata": {}
        }
      ]
    },
    {
      "cell_type": "markdown",
      "metadata": {
        "id": "OvbnVrPpU9jE"
      },
      "source": [
        "Tokenize into words omitting stopwords:"
      ]
    },
    {
      "cell_type": "code",
      "metadata": {
        "colab": {
          "base_uri": "https://localhost:8080/",
          "height": 51
        },
        "id": "NAmfz5hvVBcX",
        "outputId": "d9dc61eb-1800-493b-fdbc-82eea470f52f"
      },
      "source": [
        "tokenizers::tokenize_words(james, stopwords = stopwords::stopwords(\"en\"))[[1]] %>% head(20)"
      ],
      "execution_count": null,
      "outputs": [
        {
          "output_type": "display_data",
          "data": {
            "text/plain": [
              " [1] \"question\"    \"thus\"        \"becomes\"     \"verbal\"      \"one\"        \n",
              " [6] \"knowledge\"   \"early\"       \"stages\"      \"thought\"     \"feeling\"    \n",
              "[11] \"case\"        \"conjectural\" \"imperfect\"   \"farther\"     \"discussion\" \n",
              "[16] \"worth\"       \"religion\"    \"therefore\"   \"now\"         \"ask\"        "
            ],
            "text/latex": "\\begin{enumerate*}\n\\item 'question'\n\\item 'thus'\n\\item 'becomes'\n\\item 'verbal'\n\\item 'one'\n\\item 'knowledge'\n\\item 'early'\n\\item 'stages'\n\\item 'thought'\n\\item 'feeling'\n\\item 'case'\n\\item 'conjectural'\n\\item 'imperfect'\n\\item 'farther'\n\\item 'discussion'\n\\item 'worth'\n\\item 'religion'\n\\item 'therefore'\n\\item 'now'\n\\item 'ask'\n\\end{enumerate*}\n",
            "text/markdown": "1. 'question'\n2. 'thus'\n3. 'becomes'\n4. 'verbal'\n5. 'one'\n6. 'knowledge'\n7. 'early'\n8. 'stages'\n9. 'thought'\n10. 'feeling'\n11. 'case'\n12. 'conjectural'\n13. 'imperfect'\n14. 'farther'\n15. 'discussion'\n16. 'worth'\n17. 'religion'\n18. 'therefore'\n19. 'now'\n20. 'ask'\n\n\n",
            "text/html": [
              "<style>\n",
              ".list-inline {list-style: none; margin:0; padding: 0}\n",
              ".list-inline>li {display: inline-block}\n",
              ".list-inline>li:not(:last-child)::after {content: \"\\00b7\"; padding: 0 .5ex}\n",
              "</style>\n",
              "<ol class=list-inline><li>'question'</li><li>'thus'</li><li>'becomes'</li><li>'verbal'</li><li>'one'</li><li>'knowledge'</li><li>'early'</li><li>'stages'</li><li>'thought'</li><li>'feeling'</li><li>'case'</li><li>'conjectural'</li><li>'imperfect'</li><li>'farther'</li><li>'discussion'</li><li>'worth'</li><li>'religion'</li><li>'therefore'</li><li>'now'</li><li>'ask'</li></ol>\n"
            ]
          },
          "metadata": {}
        }
      ]
    },
    {
      "cell_type": "markdown",
      "metadata": {
        "id": "NvpVjdwLVHVt"
      },
      "source": [
        "Tokenize into words (and punctuation) using the Penn Tree Bank tokenizer instead:"
      ]
    },
    {
      "cell_type": "code",
      "metadata": {
        "colab": {
          "base_uri": "https://localhost:8080/",
          "height": 51
        },
        "id": "XQoyfdNzVLba",
        "outputId": "2a3d3a44-cf31-41ab-eb4f-c4c11da12d80"
      },
      "source": [
        "tokenizers::tokenize_ptb(james)[[1]] %>% head(20)"
      ],
      "execution_count": null,
      "outputs": [
        {
          "output_type": "display_data",
          "data": {
            "text/plain": [
              " [1] \"The\"       \"question\"  \"thus\"      \"becomes\"   \"a\"         \"verbal\"   \n",
              " [7] \"one\"       \"again\"     \";\"         \"and\"       \"our\"       \"knowledge\"\n",
              "[13] \"of\"        \"all\"       \"these\"     \"early\"     \"stages\"    \"of\"       \n",
              "[19] \"thought\"   \"and\"      "
            ],
            "text/latex": "\\begin{enumerate*}\n\\item 'The'\n\\item 'question'\n\\item 'thus'\n\\item 'becomes'\n\\item 'a'\n\\item 'verbal'\n\\item 'one'\n\\item 'again'\n\\item ';'\n\\item 'and'\n\\item 'our'\n\\item 'knowledge'\n\\item 'of'\n\\item 'all'\n\\item 'these'\n\\item 'early'\n\\item 'stages'\n\\item 'of'\n\\item 'thought'\n\\item 'and'\n\\end{enumerate*}\n",
            "text/markdown": "1. 'The'\n2. 'question'\n3. 'thus'\n4. 'becomes'\n5. 'a'\n6. 'verbal'\n7. 'one'\n8. 'again'\n9. ';'\n10. 'and'\n11. 'our'\n12. 'knowledge'\n13. 'of'\n14. 'all'\n15. 'these'\n16. 'early'\n17. 'stages'\n18. 'of'\n19. 'thought'\n20. 'and'\n\n\n",
            "text/html": [
              "<style>\n",
              ".list-inline {list-style: none; margin:0; padding: 0}\n",
              ".list-inline>li {display: inline-block}\n",
              ".list-inline>li:not(:last-child)::after {content: \"\\00b7\"; padding: 0 .5ex}\n",
              "</style>\n",
              "<ol class=list-inline><li>'The'</li><li>'question'</li><li>'thus'</li><li>'becomes'</li><li>'a'</li><li>'verbal'</li><li>'one'</li><li>'again'</li><li>';'</li><li>'and'</li><li>'our'</li><li>'knowledge'</li><li>'of'</li><li>'all'</li><li>'these'</li><li>'early'</li><li>'stages'</li><li>'of'</li><li>'thought'</li><li>'and'</li></ol>\n"
            ]
          },
          "metadata": {}
        }
      ]
    },
    {
      "cell_type": "markdown",
      "metadata": {
        "id": "x8pBHlNtVPvK"
      },
      "source": [
        "Tokenize into ngrams:"
      ]
    },
    {
      "cell_type": "code",
      "metadata": {
        "colab": {
          "base_uri": "https://localhost:8080/",
          "height": 85
        },
        "id": "A0pG9LY5VTEm",
        "outputId": "437ba177-ee76-40f0-9f94-65358f8558a5"
      },
      "source": [
        "tokenizers::tokenize_ngrams(james, n = 5, n_min = 2)[[1]] %>% head(20)"
      ],
      "execution_count": null,
      "outputs": [
        {
          "output_type": "display_data",
          "data": {
            "text/plain": [
              " [1] \"the question\"                   \"the question thus\"             \n",
              " [3] \"the question thus becomes\"      \"the question thus becomes a\"   \n",
              " [5] \"question thus\"                  \"question thus becomes\"         \n",
              " [7] \"question thus becomes a\"        \"question thus becomes a verbal\"\n",
              " [9] \"thus becomes\"                   \"thus becomes a\"                \n",
              "[11] \"thus becomes a verbal\"          \"thus becomes a verbal one\"     \n",
              "[13] \"becomes a\"                      \"becomes a verbal\"              \n",
              "[15] \"becomes a verbal one\"           \"becomes a verbal one again\"    \n",
              "[17] \"a verbal\"                       \"a verbal one\"                  \n",
              "[19] \"a verbal one again\"             \"a verbal one again and\"        "
            ],
            "text/latex": "\\begin{enumerate*}\n\\item 'the question'\n\\item 'the question thus'\n\\item 'the question thus becomes'\n\\item 'the question thus becomes a'\n\\item 'question thus'\n\\item 'question thus becomes'\n\\item 'question thus becomes a'\n\\item 'question thus becomes a verbal'\n\\item 'thus becomes'\n\\item 'thus becomes a'\n\\item 'thus becomes a verbal'\n\\item 'thus becomes a verbal one'\n\\item 'becomes a'\n\\item 'becomes a verbal'\n\\item 'becomes a verbal one'\n\\item 'becomes a verbal one again'\n\\item 'a verbal'\n\\item 'a verbal one'\n\\item 'a verbal one again'\n\\item 'a verbal one again and'\n\\end{enumerate*}\n",
            "text/markdown": "1. 'the question'\n2. 'the question thus'\n3. 'the question thus becomes'\n4. 'the question thus becomes a'\n5. 'question thus'\n6. 'question thus becomes'\n7. 'question thus becomes a'\n8. 'question thus becomes a verbal'\n9. 'thus becomes'\n10. 'thus becomes a'\n11. 'thus becomes a verbal'\n12. 'thus becomes a verbal one'\n13. 'becomes a'\n14. 'becomes a verbal'\n15. 'becomes a verbal one'\n16. 'becomes a verbal one again'\n17. 'a verbal'\n18. 'a verbal one'\n19. 'a verbal one again'\n20. 'a verbal one again and'\n\n\n",
            "text/html": [
              "<style>\n",
              ".list-inline {list-style: none; margin:0; padding: 0}\n",
              ".list-inline>li {display: inline-block}\n",
              ".list-inline>li:not(:last-child)::after {content: \"\\00b7\"; padding: 0 .5ex}\n",
              "</style>\n",
              "<ol class=list-inline><li>'the question'</li><li>'the question thus'</li><li>'the question thus becomes'</li><li>'the question thus becomes a'</li><li>'question thus'</li><li>'question thus becomes'</li><li>'question thus becomes a'</li><li>'question thus becomes a verbal'</li><li>'thus becomes'</li><li>'thus becomes a'</li><li>'thus becomes a verbal'</li><li>'thus becomes a verbal one'</li><li>'becomes a'</li><li>'becomes a verbal'</li><li>'becomes a verbal one'</li><li>'becomes a verbal one again'</li><li>'a verbal'</li><li>'a verbal one'</li><li>'a verbal one again'</li><li>'a verbal one again and'</li></ol>\n"
            ]
          },
          "metadata": {}
        }
      ]
    },
    {
      "cell_type": "markdown",
      "metadata": {
        "id": "MlecudpnVaBm"
      },
      "source": [
        "Tokenize into skipgrams:"
      ]
    },
    {
      "cell_type": "code",
      "metadata": {
        "colab": {
          "base_uri": "https://localhost:8080/",
          "height": 85
        },
        "id": "jqiYs_zeVi2y",
        "outputId": "ccb8686e-cb2e-4734-91ab-1b71d024b6f4"
      },
      "source": [
        "tokenizers::tokenize_skip_ngrams(james, n = 5, n_min = 2,k=2)[[1]] %>% head(20)"
      ],
      "execution_count": null,
      "outputs": [
        {
          "output_type": "display_data",
          "data": {
            "text/plain": [
              " [1] \"the question\"                \"the thus\"                   \n",
              " [3] \"the becomes\"                 \"the question thus\"          \n",
              " [5] \"the question becomes\"        \"the question a\"             \n",
              " [7] \"the thus becomes\"            \"the thus a\"                 \n",
              " [9] \"the thus verbal\"             \"the becomes a\"              \n",
              "[11] \"the becomes verbal\"          \"the becomes one\"            \n",
              "[13] \"the question thus becomes\"   \"the question thus a\"        \n",
              "[15] \"the question thus verbal\"    \"the question becomes a\"     \n",
              "[17] \"the question becomes verbal\" \"the question becomes one\"   \n",
              "[19] \"the question a verbal\"       \"the question a one\"         "
            ],
            "text/latex": "\\begin{enumerate*}\n\\item 'the question'\n\\item 'the thus'\n\\item 'the becomes'\n\\item 'the question thus'\n\\item 'the question becomes'\n\\item 'the question a'\n\\item 'the thus becomes'\n\\item 'the thus a'\n\\item 'the thus verbal'\n\\item 'the becomes a'\n\\item 'the becomes verbal'\n\\item 'the becomes one'\n\\item 'the question thus becomes'\n\\item 'the question thus a'\n\\item 'the question thus verbal'\n\\item 'the question becomes a'\n\\item 'the question becomes verbal'\n\\item 'the question becomes one'\n\\item 'the question a verbal'\n\\item 'the question a one'\n\\end{enumerate*}\n",
            "text/markdown": "1. 'the question'\n2. 'the thus'\n3. 'the becomes'\n4. 'the question thus'\n5. 'the question becomes'\n6. 'the question a'\n7. 'the thus becomes'\n8. 'the thus a'\n9. 'the thus verbal'\n10. 'the becomes a'\n11. 'the becomes verbal'\n12. 'the becomes one'\n13. 'the question thus becomes'\n14. 'the question thus a'\n15. 'the question thus verbal'\n16. 'the question becomes a'\n17. 'the question becomes verbal'\n18. 'the question becomes one'\n19. 'the question a verbal'\n20. 'the question a one'\n\n\n",
            "text/html": [
              "<style>\n",
              ".list-inline {list-style: none; margin:0; padding: 0}\n",
              ".list-inline>li {display: inline-block}\n",
              ".list-inline>li:not(:last-child)::after {content: \"\\00b7\"; padding: 0 .5ex}\n",
              "</style>\n",
              "<ol class=list-inline><li>'the question'</li><li>'the thus'</li><li>'the becomes'</li><li>'the question thus'</li><li>'the question becomes'</li><li>'the question a'</li><li>'the thus becomes'</li><li>'the thus a'</li><li>'the thus verbal'</li><li>'the becomes a'</li><li>'the becomes verbal'</li><li>'the becomes one'</li><li>'the question thus becomes'</li><li>'the question thus a'</li><li>'the question thus verbal'</li><li>'the question becomes a'</li><li>'the question becomes verbal'</li><li>'the question becomes one'</li><li>'the question a verbal'</li><li>'the question a one'</li></ol>\n"
            ]
          },
          "metadata": {}
        }
      ]
    },
    {
      "cell_type": "markdown",
      "metadata": {
        "id": "ndzQVWHEVnzD"
      },
      "source": [
        "There is a special tweet tokenizer, treating usernames and hashtags differently:"
      ]
    },
    {
      "cell_type": "code",
      "metadata": {
        "colab": {
          "base_uri": "https://localhost:8080/",
          "height": 62
        },
        "id": "pqovGZvWVrVU",
        "outputId": "84f9ddd0-ec01-48de-8e43-e52c45c526d1"
      },
      "source": [
        "tokenize_tweets(\"Welcome, @user, to the tokenizers package. #rstats #forever\")"
      ],
      "execution_count": null,
      "outputs": [
        {
          "output_type": "display_data",
          "data": {
            "text/plain": [
              "[[1]]\n",
              "[1] \"welcome\"    \"@user\"      \"to\"         \"the\"        \"tokenizers\"\n",
              "[6] \"package\"    \"#rstats\"    \"#forever\"  \n"
            ],
            "text/latex": "\\begin{enumerate}\n\\item \\begin{enumerate*}\n\\item 'welcome'\n\\item '@user'\n\\item 'to'\n\\item 'the'\n\\item 'tokenizers'\n\\item 'package'\n\\item '\\#rstats'\n\\item '\\#forever'\n\\end{enumerate*}\n\n\\end{enumerate}\n",
            "text/markdown": "1. 1. 'welcome'\n2. '@user'\n3. 'to'\n4. 'the'\n5. 'tokenizers'\n6. 'package'\n7. '#rstats'\n8. '#forever'\n\n\n\n\n\n",
            "text/html": [
              "<ol>\n",
              "\t<li><style>\n",
              ".list-inline {list-style: none; margin:0; padding: 0}\n",
              ".list-inline>li {display: inline-block}\n",
              ".list-inline>li:not(:last-child)::after {content: \"\\00b7\"; padding: 0 .5ex}\n",
              "</style>\n",
              "<ol class=list-inline><li>'welcome'</li><li>'@user'</li><li>'to'</li><li>'the'</li><li>'tokenizers'</li><li>'package'</li><li>'#rstats'</li><li>'#forever'</li></ol>\n",
              "</li>\n",
              "</ol>\n"
            ]
          },
          "metadata": {}
        }
      ]
    },
    {
      "cell_type": "markdown",
      "metadata": {
        "id": "6WGOiQStVvQr"
      },
      "source": [
        "\"Tokenize\" into sentences:"
      ]
    },
    {
      "cell_type": "code",
      "metadata": {
        "colab": {
          "base_uri": "https://localhost:8080/",
          "height": 147
        },
        "id": "p2N0VUWRV0EC",
        "outputId": "18fa2845-b5d1-4614-cc76-03d0821044e8"
      },
      "source": [
        "tokenizers::tokenize_sentences(james)"
      ],
      "execution_count": null,
      "outputs": [
        {
          "output_type": "display_data",
          "data": {
            "text/plain": [
              "[[1]]\n",
              "[1] \"The question thus becomes a verbal one again; and our knowledge of all these early stages of thought and feeling is in any case so conjectural and imperfect that farther discussion would not be worth while.\"                                               \n",
              "[2] \"Religion, therefore, as I now ask you arbitrarily to take it, shall mean for us _the feelings, acts, and experiences of individual men in their solitude, so far as they apprehend themselves to stand in relation to whatever they may consider the divine_.\"\n",
              "[3] \"Since the relation may be either moral, physical, or ritual, it is evident that out of religion in the sense in which we take it, theologies, philosophies, and ecclesiastical organizations may secondarily grow.\"                                           \n"
            ],
            "text/latex": "\\begin{enumerate}\n\\item \\begin{enumerate*}\n\\item 'The question thus becomes a verbal one again; and our knowledge of all these early stages of thought and feeling is in any case so conjectural and imperfect that farther discussion would not be worth while.'\n\\item 'Religion, therefore, as I now ask you arbitrarily to take it, shall mean for us \\_the feelings, acts, and experiences of individual men in their solitude, so far as they apprehend themselves to stand in relation to whatever they may consider the divine\\_.'\n\\item 'Since the relation may be either moral, physical, or ritual, it is evident that out of religion in the sense in which we take it, theologies, philosophies, and ecclesiastical organizations may secondarily grow.'\n\\end{enumerate*}\n\n\\end{enumerate}\n",
            "text/markdown": "1. 1. 'The question thus becomes a verbal one again; and our knowledge of all these early stages of thought and feeling is in any case so conjectural and imperfect that farther discussion would not be worth while.'\n2. 'Religion, therefore, as I now ask you arbitrarily to take it, shall mean for us _the feelings, acts, and experiences of individual men in their solitude, so far as they apprehend themselves to stand in relation to whatever they may consider the divine_.'\n3. 'Since the relation may be either moral, physical, or ritual, it is evident that out of religion in the sense in which we take it, theologies, philosophies, and ecclesiastical organizations may secondarily grow.'\n\n\n\n\n\n",
            "text/html": [
              "<ol>\n",
              "\t<li><style>\n",
              ".list-inline {list-style: none; margin:0; padding: 0}\n",
              ".list-inline>li {display: inline-block}\n",
              ".list-inline>li:not(:last-child)::after {content: \"\\00b7\"; padding: 0 .5ex}\n",
              "</style>\n",
              "<ol class=list-inline><li>'The question thus becomes a verbal one again; and our knowledge of all these early stages of thought and feeling is in any case so conjectural and imperfect that farther discussion would not be worth while.'</li><li>'Religion, therefore, as I now ask you arbitrarily to take it, shall mean for us _the feelings, acts, and experiences of individual men in their solitude, so far as they apprehend themselves to stand in relation to whatever they may consider the divine_.'</li><li>'Since the relation may be either moral, physical, or ritual, it is evident that out of religion in the sense in which we take it, theologies, philosophies, and ecclesiastical organizations may secondarily grow.'</li></ol>\n",
              "</li>\n",
              "</ol>\n"
            ]
          },
          "metadata": {}
        }
      ]
    },
    {
      "cell_type": "markdown",
      "metadata": {
        "id": "dsfZDAWbV8hd"
      },
      "source": [
        "\"Tokenize\" into paragraphs:"
      ]
    },
    {
      "cell_type": "code",
      "metadata": {
        "colab": {
          "base_uri": "https://localhost:8080/",
          "height": 147
        },
        "id": "dyAPvay5V_oq",
        "outputId": "e9e764bf-dd4c-4363-d311-d15cbfea8b58"
      },
      "source": [
        "tokenizers::tokenize_paragraphs(james)"
      ],
      "execution_count": null,
      "outputs": [
        {
          "output_type": "display_data",
          "data": {
            "text/plain": [
              "[[1]]\n",
              "[1] \"The question thus becomes a verbal one again; and our knowledge of all these early stages of thought and feeling is in any case so conjectural and imperfect that farther discussion would not be worth while.\"                                                                                                                                                                                                                                                                   \n",
              "[2] \"Religion, therefore, as I now ask you arbitrarily to take it, shall mean for us _the feelings, acts, and experiences of individual men in their solitude, so far as they apprehend themselves to stand in relation to whatever they may consider the divine_. Since the relation may be either moral, physical, or ritual, it is evident that out of religion in the sense in which we take it, theologies, philosophies, and ecclesiastical organizations may secondarily grow. \"\n"
            ],
            "text/latex": "\\begin{enumerate}\n\\item \\begin{enumerate*}\n\\item 'The question thus becomes a verbal one again; and our knowledge of all these early stages of thought and feeling is in any case so conjectural and imperfect that farther discussion would not be worth while.'\n\\item 'Religion, therefore, as I now ask you arbitrarily to take it, shall mean for us \\_the feelings, acts, and experiences of individual men in their solitude, so far as they apprehend themselves to stand in relation to whatever they may consider the divine\\_. Since the relation may be either moral, physical, or ritual, it is evident that out of religion in the sense in which we take it, theologies, philosophies, and ecclesiastical organizations may secondarily grow. '\n\\end{enumerate*}\n\n\\end{enumerate}\n",
            "text/markdown": "1. 1. 'The question thus becomes a verbal one again; and our knowledge of all these early stages of thought and feeling is in any case so conjectural and imperfect that farther discussion would not be worth while.'\n2. 'Religion, therefore, as I now ask you arbitrarily to take it, shall mean for us _the feelings, acts, and experiences of individual men in their solitude, so far as they apprehend themselves to stand in relation to whatever they may consider the divine_. Since the relation may be either moral, physical, or ritual, it is evident that out of religion in the sense in which we take it, theologies, philosophies, and ecclesiastical organizations may secondarily grow. '\n\n\n\n\n\n",
            "text/html": [
              "<ol>\n",
              "\t<li><style>\n",
              ".list-inline {list-style: none; margin:0; padding: 0}\n",
              ".list-inline>li {display: inline-block}\n",
              ".list-inline>li:not(:last-child)::after {content: \"\\00b7\"; padding: 0 .5ex}\n",
              "</style>\n",
              "<ol class=list-inline><li>'The question thus becomes a verbal one again; and our knowledge of all these early stages of thought and feeling is in any case so conjectural and imperfect that farther discussion would not be worth while.'</li><li>'Religion, therefore, as I now ask you arbitrarily to take it, shall mean for us _the feelings, acts, and experiences of individual men in their solitude, so far as they apprehend themselves to stand in relation to whatever they may consider the divine_. Since the relation may be either moral, physical, or ritual, it is evident that out of religion in the sense in which we take it, theologies, philosophies, and ecclesiastical organizations may secondarily grow. '</li></ol>\n",
              "</li>\n",
              "</ol>\n"
            ]
          },
          "metadata": {}
        }
      ]
    },
    {
      "cell_type": "markdown",
      "metadata": {
        "id": "rM9VY29tWEc6"
      },
      "source": [
        "## tokenizers.bpe\n",
        "\n",
        "Does Byte-Pair Encoding tokenization (syllables/wordpieces) using \"YouTokenToMe\".\n",
        "\n",
        "## sentencepiece\n",
        "\n",
        "Another Byte Pair Encoding algorithm\n",
        "\n",
        "\n"
      ]
    },
    {
      "cell_type": "markdown",
      "metadata": {
        "id": "90RCpupjYorN"
      },
      "source": [
        "## NLP\n",
        "\n",
        "Official description: \"Basic classes and methods for Natural Language Processing.\" Provides some of the underlying infrastructure for udpipe, openNLP, and cleanNLP. The use of the String, Annotator, Annotations, Span classes is shown in the openNLP discussion above.\n",
        "\n",
        "\n"
      ]
    },
    {
      "cell_type": "markdown",
      "metadata": {
        "id": "18lHgY34Yxbv"
      },
      "source": [
        "## tif - Text Interchange Format\n",
        "\n",
        "Official description: \n",
        "\n",
        "> This package describes and validates formats for storing common object arising in text analysis as native R objects. Representations of a text corpus, document term matrix, and tokenized text are included. The tokenized text format is extensible to include other annotations. There are two versions of the corpus and tokens objects; packages should accept both and return or coerce to at least one of these.\n",
        "\n",
        "Lincoln Mullen describes tif, which he adopted in the tokenizers package:\n",
        "\n",
        "> The Text Interchange Formats are a set of standards defined at an rOpenSci sponsored meeting in London in 2017. The formats allow R text analysis packages to target defined inputs and outputs for corpora, tokens, and document-term matrices. By adhering to these recommendations, R packages can buy into an interoperable ecosystem.\n",
        "\n",
        "See https://github.com/ropensci/tif "
      ]
    },
    {
      "cell_type": "markdown",
      "metadata": {
        "id": "2ckrSZpWWSC7"
      },
      "source": [
        "## Others\n",
        "\n",
        "### nametagger\n",
        "\n",
        "NER with Markov models\n",
        "\n",
        "### torch.ner\n",
        "\n",
        "NER with torch.\n",
        "\n",
        "### crfsuite\n",
        "\n",
        "NER with conditional random fields.\n",
        "\n",
        "### hunspell\n",
        "\n",
        "Spell-checking\n",
        "\n",
        "### wordnet\n",
        "\n",
        "Access to WordNet (https://wordnet.princeton.edu/)\n",
        "\n",
        "### tau\n",
        "\n",
        "Provides encoding utilities\n",
        "\n",
        "\n"
      ]
    }
  ]
}