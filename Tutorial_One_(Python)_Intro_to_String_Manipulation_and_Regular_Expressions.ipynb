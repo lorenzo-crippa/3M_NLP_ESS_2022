{
  "nbformat": 4,
  "nbformat_minor": 0,
  "metadata": {
    "anaconda-cloud": {},
    "kernelspec": {
      "display_name": "Python 3",
      "name": "python3"
    },
    "language_info": {
      "name": "python"
    },
    "colab": {
      "name": "Tutorial One (Python): Intro to String Manipulation and Regular Expressions",
      "provenance": [],
      "include_colab_link": true
    },
    "gpuClass": "standard"
  },
  "cells": [
    {
      "cell_type": "markdown",
      "metadata": {
        "id": "view-in-github",
        "colab_type": "text"
      },
      "source": [
        "<a href=\"https://colab.research.google.com/github/lorenzo-crippa/3M_NLP_ESS_2022/blob/main/Tutorial_One_(Python)_Intro_to_String_Manipulation_and_Regular_Expressions.ipynb\" target=\"_parent\"><img src=\"https://colab.research.google.com/assets/colab-badge.svg\" alt=\"Open In Colab\"/></a>"
      ]
    },
    {
      "cell_type": "markdown",
      "metadata": {
        "id": "dosOI8RgTVvc"
      },
      "source": [
        "# Intro to String Manipulation and Regular Expressions in Python\n",
        "### Douglas Rice\n",
        "\n",
        "*This tutorial was originally created by Burt Monroe for his prior work with the Essex Summer School. I've updated and modified it.*\n",
        "\n",
        "In this notebook, we'll learn about doing standard natural language processing (NLP) tasks in Python, and will be introduced to regular expressions. After completing this notebook, you should be familar with:\n",
        "\n",
        "\n",
        "1.   Manipulate strings in Python.\n",
        "2.   Extract elements from lists.\n",
        "3. Work with Regular Expressions in Python\n",
        "\n"
      ]
    },
    {
      "cell_type": "markdown",
      "source": [
        "# Working with Strings\n",
        "\n",
        "Our focus is on \"strings\", or ordered sequences of characters. Importantly, a string can be short (\"Hello!\"), long (\"supercalafragalisticexpealadotios!\"), much longer (like a book), and everything in between. In a word, strings are text. Python is a language of choice for many doing work in data science specifically because of it's facility in working with text and with complex data, but also because of the utility of many add-on modules that facilitate better work. Here, much of the work we'll do can be done in the base Python distribution, but you'll need to import the \"re\" module when we get to some regular expressions work."
      ],
      "metadata": {
        "id": "HlwBTjOX0bQg"
      }
    },
    {
      "cell_type": "markdown",
      "metadata": {
        "id": "WOxnnsI_TVvc"
      },
      "source": [
        "Let's look at a string. These can be specified using double quotes (“) or single quotes (’):"
      ]
    },
    {
      "cell_type": "code",
      "metadata": {
        "colab": {
          "base_uri": "https://localhost:8080/",
          "height": 35
        },
        "id": "T1MwChx9TVvd",
        "outputId": "5fd384e5-a86c-4afd-8d3d-331c30d21d9f"
      },
      "source": [
        "a_string = 'Example STRING, with numbers (12, 15 and also 10.2)?!'\n",
        "a_string"
      ],
      "execution_count": null,
      "outputs": [
        {
          "output_type": "execute_result",
          "data": {
            "text/plain": [
              "'Example STRING, with numbers (12, 15 and also 10.2)?!'"
            ],
            "application/vnd.google.colaboratory.intrinsic+json": {
              "type": "string"
            }
          },
          "metadata": {},
          "execution_count": 2
        }
      ]
    },
    {
      "cell_type": "markdown",
      "metadata": {
        "id": "ArFG113CTVve"
      },
      "source": [
        "Whether you use one or two quotes is really up to you, but you might choose one if your string actually contains the other:"
      ]
    },
    {
      "cell_type": "code",
      "metadata": {
        "colab": {
          "base_uri": "https://localhost:8080/",
          "height": 35
        },
        "id": "SZvuHN67TVvf",
        "outputId": "5a3c5b0f-0337-4dce-f70c-8509fa278ea2"
      },
      "source": [
        "my_double_quoted_string = \"He asked, 'Why would you use double quotes?'\"\n",
        "my_double_quoted_string"
      ],
      "execution_count": null,
      "outputs": [
        {
          "output_type": "execute_result",
          "data": {
            "text/plain": [
              "\"He asked, 'Why would you use double quotes?'\""
            ],
            "application/vnd.google.colaboratory.intrinsic+json": {
              "type": "string"
            }
          },
          "metadata": {},
          "execution_count": 3
        }
      ]
    },
    {
      "cell_type": "markdown",
      "source": [
        "What happens if you use one of the quotes that *is* inside the string? "
      ],
      "metadata": {
        "id": "wziyusAfwDlk"
      }
    },
    {
      "cell_type": "code",
      "source": [
        "my_whoops_string = \"He asked, \"Why would you use double quotes\"\""
      ],
      "metadata": {
        "colab": {
          "base_uri": "https://localhost:8080/",
          "height": 131
        },
        "id": "UwJFBFkFwMD5",
        "outputId": "7f7f583a-448e-4d59-df34-6d538339de8a"
      },
      "execution_count": null,
      "outputs": [
        {
          "output_type": "error",
          "ename": "SyntaxError",
          "evalue": "ignored",
          "traceback": [
            "\u001b[0;36m  File \u001b[0;32m\"<ipython-input-2-14014679d1bb>\"\u001b[0;36m, line \u001b[0;32m1\u001b[0m\n\u001b[0;31m    my_whoops_string = \"He asked, \"Why would you use double quotes\"\"\u001b[0m\n\u001b[0m                                     ^\u001b[0m\n\u001b[0;31mSyntaxError\u001b[0m\u001b[0;31m:\u001b[0m invalid syntax\n"
          ]
        }
      ]
    },
    {
      "cell_type": "markdown",
      "source": [
        "Ah, a dreaded syntax error! This is because quotes are *special characters*; they signify something in the programming language. "
      ],
      "metadata": {
        "id": "LKVW6mIZwDhg"
      }
    },
    {
      "cell_type": "markdown",
      "metadata": {
        "id": "3XbkzvivTVvf"
      },
      "source": [
        "To get around this conundrum, you can use a \\ (backslash) to tell Python to *escape* the next character. In the example below, the \\\" is saying, \" is part of the string, not the end of the string."
      ]
    },
    {
      "cell_type": "code",
      "metadata": {
        "colab": {
          "base_uri": "https://localhost:8080/",
          "height": 35
        },
        "id": "TUWv4bDoTVvf",
        "outputId": "a8c307a6-6a34-40da-c931-9018d0540bc4"
      },
      "source": [
        "my_string_with_double_quotes = \"She answered, \\\"Convenience, but you never really have to.\\\"\"\n",
        "my_string_with_double_quotes"
      ],
      "execution_count": null,
      "outputs": [
        {
          "output_type": "execute_result",
          "data": {
            "text/plain": [
              "'She answered, \"Convenience, but you never really have to.\"'"
            ],
            "application/vnd.google.colaboratory.intrinsic+json": {
              "type": "string"
            }
          },
          "metadata": {},
          "execution_count": 4
        }
      ]
    },
    {
      "cell_type": "markdown",
      "metadata": {
        "id": "tjRU0LodTVvf"
      },
      "source": [
        "If you ever want to see how your string with escape characters displays when printed or (typically) in an editor, use print."
      ]
    },
    {
      "cell_type": "code",
      "metadata": {
        "colab": {
          "base_uri": "https://localhost:8080/"
        },
        "id": "arXmIXMRTVvg",
        "outputId": "0b792c83-83c0-4694-9f35-20359a93ed32"
      },
      "source": [
        "print(my_double_quoted_string)"
      ],
      "execution_count": null,
      "outputs": [
        {
          "output_type": "stream",
          "name": "stdout",
          "text": [
            "He asked, 'Why would you use double quotes?'\n"
          ]
        }
      ]
    },
    {
      "cell_type": "code",
      "metadata": {
        "colab": {
          "base_uri": "https://localhost:8080/"
        },
        "id": "RhwxiXiATVvg",
        "outputId": "93b4dd3e-277f-4113-b685-c399b5c3aade"
      },
      "source": [
        "print(my_string_with_double_quotes)"
      ],
      "execution_count": null,
      "outputs": [
        {
          "output_type": "stream",
          "name": "stdout",
          "text": [
            "She answered, \"Convenience, but you never really have to.\"\n"
          ]
        }
      ]
    },
    {
      "cell_type": "markdown",
      "metadata": {
        "id": "mnjiZwagTVvg"
      },
      "source": [
        "This can get a little bit confusing. For example, since the backslash character tells Python to escape, to indicate an actual backslash character you have to backslash your backslashes:"
      ]
    },
    {
      "cell_type": "code",
      "metadata": {
        "colab": {
          "base_uri": "https://localhost:8080/",
          "height": 53
        },
        "id": "h4LAK3YUTVvh",
        "outputId": "1ccf9135-0aa3-4bca-ba7f-d92b540f0274"
      },
      "source": [
        "a_string_with_backslashes = \"To indicate a backslash, \\\\, you have to type two: \\\\\\\\. Just there, to indicate two backslashes, I had to type four: \\\\\\\\\\\\\\\\.\"\n",
        "a_string_with_backslashes"
      ],
      "execution_count": null,
      "outputs": [
        {
          "output_type": "execute_result",
          "data": {
            "text/plain": [
              "'To indicate a backslash, \\\\, you have to type two: \\\\\\\\. Just there, to indicate two backslashes, I had to type four: \\\\\\\\\\\\\\\\.'"
            ],
            "application/vnd.google.colaboratory.intrinsic+json": {
              "type": "string"
            }
          },
          "metadata": {},
          "execution_count": 7
        }
      ]
    },
    {
      "cell_type": "code",
      "metadata": {
        "colab": {
          "base_uri": "https://localhost:8080/"
        },
        "id": "VQhBhMoMTVvh",
        "outputId": "c3c25876-b168-4ddc-e9ed-f50f9fa3e65d"
      },
      "source": [
        "print(a_string_with_backslashes)"
      ],
      "execution_count": null,
      "outputs": [
        {
          "output_type": "stream",
          "name": "stdout",
          "text": [
            "To indicate a backslash, \\, you have to type two: \\\\. Just there, to indicate two backslashes, I had to type four: \\\\\\\\.\n"
          ]
        }
      ]
    },
    {
      "cell_type": "markdown",
      "metadata": {
        "id": "g-wyxNk6TVvh"
      },
      "source": [
        "## Other Escape Characters\n",
        "\n",
        "As mentioned above, quotes (single or double) are just one many special escape characters that are used to perform special functions. The most common are two that you’re already used to tapping a keyboard key for without expecting a character to appear on your screen: \\t (tab) and \\n (newline, or \"Enter\")."
      ]
    },
    {
      "cell_type": "code",
      "metadata": {
        "colab": {
          "base_uri": "https://localhost:8080/",
          "height": 35
        },
        "id": "EniPyCMmTVvh",
        "outputId": "42d399ee-722a-4993-da42-25247c005649"
      },
      "source": [
        "test_string = \"Hark, a Lark!\\t*Tweet Tweet*\\n  \\nWhere'd it go?\"\n",
        "test_string"
      ],
      "execution_count": null,
      "outputs": [
        {
          "output_type": "execute_result",
          "data": {
            "text/plain": [
              "\"Hark, a Lark!\\t*Tweet Tweet*\\n  \\nWhere'd it go?\""
            ],
            "application/vnd.google.colaboratory.intrinsic+json": {
              "type": "string"
            }
          },
          "metadata": {},
          "execution_count": 4
        }
      ]
    },
    {
      "cell_type": "code",
      "metadata": {
        "colab": {
          "base_uri": "https://localhost:8080/"
        },
        "id": "qise7lVgTVvi",
        "outputId": "50ef1f5a-3f2a-4f04-e8cd-1b68ee0e3343"
      },
      "source": [
        "print(test_string)"
      ],
      "execution_count": null,
      "outputs": [
        {
          "output_type": "stream",
          "name": "stdout",
          "text": [
            "Hark, a Lark!\t*Tweet Tweet*\n",
            "  \n",
            "Where'd it go?\n"
          ]
        }
      ]
    },
    {
      "cell_type": "markdown",
      "metadata": {
        "id": "LvRjOc9kTVvi"
      },
      "source": [
        "If you want to define a multiline string without using escaped newline characters, use triple quotation marks:"
      ]
    },
    {
      "cell_type": "code",
      "metadata": {
        "colab": {
          "base_uri": "https://localhost:8080/",
          "height": 35
        },
        "id": "y9dmlj0fTVvi",
        "outputId": "18be135a-7805-4df1-cdfd-f901a20f7687"
      },
      "source": [
        "test_string2 = \"\"\"Hark, a Lark!\\t*Tweet Tweet*\n",
        "\n",
        "Where'd it go?\"\"\"\n",
        "test_string2"
      ],
      "execution_count": null,
      "outputs": [
        {
          "output_type": "execute_result",
          "data": {
            "text/plain": [
              "\"Hark, a Lark!\\t*Tweet Tweet*\\n\\nWhere'd it go?\""
            ],
            "application/vnd.google.colaboratory.intrinsic+json": {
              "type": "string"
            }
          },
          "metadata": {},
          "execution_count": 7
        }
      ]
    },
    {
      "cell_type": "markdown",
      "metadata": {
        "id": "TaICpIeeTVvj"
      },
      "source": [
        "## Lists of Strings \n",
        "\n",
        "To this point, we have just looked at a single string. Rarely is that what we are actually interested in manipulating as social scientists, though. More frequently, we have sets of lots and lots of strings. To that end, we can create lists of strings."
      ]
    },
    {
      "cell_type": "code",
      "metadata": {
        "colab": {
          "base_uri": "https://localhost:8080/"
        },
        "id": "teVj52tKTVvj",
        "outputId": "318d37e3-5fa6-46b1-fbef-5bbd91fb238e"
      },
      "source": [
        "a_list_of_strings = [\"Manchester City\", \"Liverpool\", \"Chelsea\", \"Tottenham\", \"Arsenal\"]\n",
        "a_list_of_strings"
      ],
      "execution_count": null,
      "outputs": [
        {
          "output_type": "execute_result",
          "data": {
            "text/plain": [
              "['Manchester City', 'Liverpool', 'Chelsea', 'Tottenham', 'Arsenal']"
            ]
          },
          "metadata": {},
          "execution_count": 15
        }
      ]
    },
    {
      "cell_type": "markdown",
      "metadata": {
        "id": "9Vf4vm80TVvj"
      },
      "source": [
        "\n",
        "\n",
        "Let's load in some other strings to work with. Here are letters from the \"string\" module. "
      ]
    },
    {
      "cell_type": "code",
      "metadata": {
        "colab": {
          "base_uri": "https://localhost:8080/",
          "height": 35
        },
        "id": "QuS2XT8PTVvk",
        "outputId": "e0b55702-e485-4c6e-d299-886081d93e88"
      },
      "source": [
        "import string\n",
        "letters_string = string.ascii_lowercase\n",
        "letters_string"
      ],
      "execution_count": null,
      "outputs": [
        {
          "output_type": "execute_result",
          "data": {
            "text/plain": [
              "'abcdefghijklmnopqrstuvwxyz'"
            ],
            "application/vnd.google.colaboratory.intrinsic+json": {
              "type": "string"
            }
          },
          "metadata": {},
          "execution_count": 9
        }
      ]
    },
    {
      "cell_type": "markdown",
      "source": [
        "We can create a list from those letters, and call it `letters_list` \n",
        "\n"
      ],
      "metadata": {
        "id": "yUpXGXEv3i6e"
      }
    },
    {
      "cell_type": "code",
      "metadata": {
        "colab": {
          "base_uri": "https://localhost:8080/"
        },
        "id": "u3CNp-rcTVvk",
        "outputId": "b3042871-b16f-4213-9e8f-525d1c476345"
      },
      "source": [
        "letters_list = list(letters_string)\n",
        "letters_list"
      ],
      "execution_count": null,
      "outputs": [
        {
          "output_type": "execute_result",
          "data": {
            "text/plain": [
              "['a',\n",
              " 'b',\n",
              " 'c',\n",
              " 'd',\n",
              " 'e',\n",
              " 'f',\n",
              " 'g',\n",
              " 'h',\n",
              " 'i',\n",
              " 'j',\n",
              " 'k',\n",
              " 'l',\n",
              " 'm',\n",
              " 'n',\n",
              " 'o',\n",
              " 'p',\n",
              " 'q',\n",
              " 'r',\n",
              " 's',\n",
              " 't',\n",
              " 'u',\n",
              " 'v',\n",
              " 'w',\n",
              " 'x',\n",
              " 'y',\n",
              " 'z']"
            ]
          },
          "metadata": {},
          "execution_count": 10
        }
      ]
    },
    {
      "cell_type": "markdown",
      "source": [
        "We can also use some built in functionality in the \"string\" module to create upper-case versions of both the string and the list, and we'll call them `LETTERS`. "
      ],
      "metadata": {
        "id": "7Qme3OI14AF7"
      }
    },
    {
      "cell_type": "code",
      "metadata": {
        "colab": {
          "base_uri": "https://localhost:8080/",
          "height": 35
        },
        "id": "gyKD7xjQTVvk",
        "outputId": "d8226d51-b80f-4676-eefa-1deeecc14802"
      },
      "source": [
        "LETTERS_string = string.ascii_uppercase\n",
        "LETTERS_string"
      ],
      "execution_count": null,
      "outputs": [
        {
          "output_type": "execute_result",
          "data": {
            "text/plain": [
              "'ABCDEFGHIJKLMNOPQRSTUVWXYZ'"
            ],
            "application/vnd.google.colaboratory.intrinsic+json": {
              "type": "string"
            }
          },
          "metadata": {},
          "execution_count": 11
        }
      ]
    },
    {
      "cell_type": "code",
      "metadata": {
        "colab": {
          "base_uri": "https://localhost:8080/"
        },
        "id": "rX_DBqtQTVvk",
        "outputId": "667867ee-74d9-44e6-83a5-6edc808eddc9"
      },
      "source": [
        "LETTERS_list = list(LETTERS_string)\n",
        "LETTERS_list"
      ],
      "execution_count": null,
      "outputs": [
        {
          "output_type": "execute_result",
          "data": {
            "text/plain": [
              "['A',\n",
              " 'B',\n",
              " 'C',\n",
              " 'D',\n",
              " 'E',\n",
              " 'F',\n",
              " 'G',\n",
              " 'H',\n",
              " 'I',\n",
              " 'J',\n",
              " 'K',\n",
              " 'L',\n",
              " 'M',\n",
              " 'N',\n",
              " 'O',\n",
              " 'P',\n",
              " 'Q',\n",
              " 'R',\n",
              " 'S',\n",
              " 'T',\n",
              " 'U',\n",
              " 'V',\n",
              " 'W',\n",
              " 'X',\n",
              " 'Y',\n",
              " 'Z']"
            ]
          },
          "metadata": {},
          "execution_count": 16
        }
      ]
    },
    {
      "cell_type": "markdown",
      "metadata": {
        "id": "JgLb2YzbTVvl"
      },
      "source": [
        "We'll make two different month lists, one with the abbreviation (`month_abb`) and one with the full name (`month_name`)."
      ]
    },
    {
      "cell_type": "code",
      "metadata": {
        "colab": {
          "base_uri": "https://localhost:8080/"
        },
        "id": "5j5hMgK_TVvl",
        "outputId": "c8e8dd32-f894-4864-98b1-a074d959a9f5"
      },
      "source": [
        "month_abb = [\"Jan\", \"Feb\", \"Mar\", \"Apr\", \"May\", \"Jun\", \"Jul\", \"Aug\", \"Sep\", \"Oct\", \"Nov\", \"Dec\"]\n",
        "month_abb"
      ],
      "execution_count": null,
      "outputs": [
        {
          "output_type": "execute_result",
          "data": {
            "text/plain": [
              "['Jan',\n",
              " 'Feb',\n",
              " 'Mar',\n",
              " 'Apr',\n",
              " 'May',\n",
              " 'Jun',\n",
              " 'Jul',\n",
              " 'Aug',\n",
              " 'Sep',\n",
              " 'Oct',\n",
              " 'Nov',\n",
              " 'Dec']"
            ]
          },
          "metadata": {},
          "execution_count": 18
        }
      ]
    },
    {
      "cell_type": "code",
      "metadata": {
        "colab": {
          "base_uri": "https://localhost:8080/"
        },
        "id": "QPGyDaAxTVvl",
        "outputId": "8a57b48d-07f5-4828-9a87-3235faabca5a"
      },
      "source": [
        "month_name = [\"January\", \"February\", \"March\", \"April\", \"May\", \"June\", \"July\", \"August\", \"September\", \"October\", \"November\", \"December\"]\n",
        "month_name"
      ],
      "execution_count": null,
      "outputs": [
        {
          "output_type": "execute_result",
          "data": {
            "text/plain": [
              "['January',\n",
              " 'February',\n",
              " 'March',\n",
              " 'April',\n",
              " 'May',\n",
              " 'June',\n",
              " 'July',\n",
              " 'August',\n",
              " 'September',\n",
              " 'October',\n",
              " 'November',\n",
              " 'December']"
            ]
          },
          "metadata": {},
          "execution_count": 17
        }
      ]
    },
    {
      "cell_type": "markdown",
      "source": [
        "In the R tutorial, we use two lists that are provided directly in R. To get around that, Burt has downloaded and posted both lists to his Github. We'll load them up. The first (`fruit`) is a list of fruits, and the second (`words`) is a list of words.  "
      ],
      "metadata": {
        "id": "TuQ_ZH2w5gYa"
      }
    },
    {
      "cell_type": "code",
      "metadata": {
        "colab": {
          "base_uri": "https://localhost:8080/"
        },
        "id": "z0hw7f5kTVvl",
        "outputId": "1c557925-7156-4faf-8825-c82fa7f226e1"
      },
      "source": [
        "import pandas as pd\n",
        "fruit = pd.read_csv(\"https://raw.githubusercontent.com/burtmonroe/TextAsDataCourse/master/Tutorials/fruit.txt\", header=None)[0].to_list()\n",
        "print(fruit)"
      ],
      "execution_count": null,
      "outputs": [
        {
          "output_type": "stream",
          "name": "stdout",
          "text": [
            "['apple', 'apricot', 'avocado', 'banana', 'bell pepper', 'bilberry', 'blackberry', 'blackcurrant', 'blood orange', 'blueberry', 'boysenberry', 'breadfruit', 'canary melon', 'cantaloupe', 'cherimoya', 'cherry', 'chili pepper', 'clementine', 'cloudberry', 'coconut', 'cranberry', 'cucumber', 'currant', 'damson', 'date', 'dragonfruit', 'durian', 'eggplant', 'elderberry', 'feijoa', 'fig', 'goji berry', 'gooseberry', 'grape', 'grapefruit', 'guava', 'honeydew', 'huckleberry', 'jackfruit', 'jambul', 'jujube', 'kiwi fruit', 'kumquat', 'lemon', 'lime', 'loquat', 'lychee', 'mandarine', 'mango', 'mulberry', 'nectarine', 'nut', 'olive', 'orange', 'pamelo', 'papaya', 'passionfruit', 'peach', 'pear', 'persimmon', 'physalis', 'pineapple', 'plum', 'pomegranate', 'pomelo', 'purple mangosteen', 'quince', 'raisin', 'rambutan', 'raspberry', 'redcurrant', 'rock melon', 'salal berry', 'satsuma', 'star fruit', 'strawberry', 'tamarillo', 'tangerine', 'ugli fruit', 'watermelon']\n"
          ]
        }
      ]
    },
    {
      "cell_type": "code",
      "metadata": {
        "colab": {
          "base_uri": "https://localhost:8080/"
        },
        "id": "PhjPtm58TVvm",
        "outputId": "22137227-f0b3-4bd5-8012-d76bd3db7882"
      },
      "source": [
        "\n",
        "words = pd.read_csv(\"https://raw.githubusercontent.com/burtmonroe/TextAsDataCourse/master/Tutorials/words.txt\", header=None)[0].to_list()\n",
        "len(words)"
      ],
      "execution_count": null,
      "outputs": [
        {
          "output_type": "execute_result",
          "data": {
            "text/plain": [
              "980"
            ]
          },
          "metadata": {},
          "execution_count": 20
        }
      ]
    },
    {
      "cell_type": "markdown",
      "metadata": {
        "id": "m89l8p8jTVvm"
      },
      "source": [
        "As you can see above, the word list is 980 words long, so let's spare ourselves printing all of them now and just look at a few.\n"
      ]
    },
    {
      "cell_type": "code",
      "metadata": {
        "colab": {
          "base_uri": "https://localhost:8080/"
        },
        "id": "EqzTTGOxTVvm",
        "outputId": "c94f7e3c-4972-47a0-d166-909a90c9ced5"
      },
      "source": [
        "words[0:5]"
      ],
      "execution_count": null,
      "outputs": [
        {
          "output_type": "execute_result",
          "data": {
            "text/plain": [
              "['a', 'able', 'about', 'absolute', 'accept']"
            ]
          },
          "metadata": {},
          "execution_count": 21
        }
      ]
    },
    {
      "cell_type": "code",
      "source": [
        "words[1]"
      ],
      "metadata": {
        "colab": {
          "base_uri": "https://localhost:8080/",
          "height": 35
        },
        "id": "klwd9d777-iz",
        "outputId": "ff5ec1b8-77f7-4aa6-a7d2-e1c1443fd9aa"
      },
      "execution_count": null,
      "outputs": [
        {
          "output_type": "execute_result",
          "data": {
            "text/plain": [
              "'able'"
            ],
            "application/vnd.google.colaboratory.intrinsic+json": {
              "type": "string"
            }
          },
          "metadata": {},
          "execution_count": 23
        }
      ]
    },
    {
      "cell_type": "code",
      "metadata": {
        "colab": {
          "base_uri": "https://localhost:8080/",
          "height": 35
        },
        "id": "9WRghc_8TVvm",
        "outputId": "1d27044e-3ece-4fe8-c5fa-1920f4bc0325"
      },
      "source": [
        "words[5]"
      ],
      "execution_count": null,
      "outputs": [
        {
          "output_type": "execute_result",
          "data": {
            "text/plain": [
              "'account'"
            ],
            "application/vnd.google.colaboratory.intrinsic+json": {
              "type": "string"
            }
          },
          "metadata": {},
          "execution_count": 22
        }
      ]
    },
    {
      "cell_type": "markdown",
      "source": [
        "The first line above takes the first five elements of the list. Folks who do not have as much experience with indexing in Python might be a bit confused by the `[0:5]` chunk. Python starts at base 0 for indexing, whereas other programming languages like R start at base 1 for indexing. So `words[0]` is \"a\". When you want to take multiple elements, the index operates in terms of \"between\" characters. You can think of the index as capturing any terms \"slightly to the left of\" the indicated number. So `[0:5]` captures elements indexed between `[-0.01,4.99]`.   "
      ],
      "metadata": {
        "id": "EJH-sMQU7jgm"
      }
    },
    {
      "cell_type": "markdown",
      "metadata": {
        "id": "K1o5FAQ9TVvn"
      },
      "source": [
        "Finally, let's read in the sentences list, which is also long."
      ]
    },
    {
      "cell_type": "code",
      "metadata": {
        "colab": {
          "base_uri": "https://localhost:8080/"
        },
        "id": "pHv1uwGpTVvn",
        "outputId": "5ea556f0-e0f7-4a98-b0e3-b43b5a9f311d"
      },
      "source": [
        "\n",
        "sentences = pd.read_csv(\"https://raw.githubusercontent.com/burtmonroe/TextAsDataCourse/master/Tutorials/sentences.txt\", header=None, sep=\"@\")[0].to_list()\n",
        "len(sentences)"
      ],
      "execution_count": null,
      "outputs": [
        {
          "output_type": "execute_result",
          "data": {
            "text/plain": [
              "720"
            ]
          },
          "metadata": {},
          "execution_count": 25
        }
      ]
    },
    {
      "cell_type": "code",
      "metadata": {
        "colab": {
          "base_uri": "https://localhost:8080/"
        },
        "id": "uQuZpRRLTVvn",
        "outputId": "53970538-fbfb-474d-8f3e-ba1c361fb5ae"
      },
      "source": [
        "sentences[0:5]"
      ],
      "execution_count": null,
      "outputs": [
        {
          "output_type": "execute_result",
          "data": {
            "text/plain": [
              "['The birch canoe slid on the smooth planks.',\n",
              " 'Glue the sheet to the dark blue background.',\n",
              " \"It's easy to tell the depth of a well.\",\n",
              " 'These days a chicken leg is a rare dish.',\n",
              " 'Rice is often served in round bowls.']"
            ]
          },
          "metadata": {},
          "execution_count": 26
        }
      ]
    },
    {
      "cell_type": "markdown",
      "metadata": {
        "collapsed": true,
        "id": "xHk_4Nq_TVvn"
      },
      "source": [
        "# Manipulating strings\n",
        "\n",
        "We have lots of strings to play with now. You can combine, or “concatenate”, strings very naturally using the \"+\" sign. Note that in the below we also add in a space between the two strings. You could potentially add anything you want in this particular spot (and can keep going with more strings)."
      ]
    },
    {
      "cell_type": "code",
      "metadata": {
        "colab": {
          "base_uri": "https://localhost:8080/",
          "height": 35
        },
        "id": "PlRx6uY3TVvn",
        "outputId": "5a7fe1e2-a35e-4708-aa04-b7267974b331"
      },
      "source": [
        "a_string = \"A first sentence!\"\n",
        "second_string = \"Wow, two sentences.\"\n",
        "combined_string = a_string + \" \" + second_string\n",
        "combined_string"
      ],
      "execution_count": null,
      "outputs": [
        {
          "output_type": "execute_result",
          "data": {
            "text/plain": [
              "'A first sentence! Wow, two sentences.'"
            ],
            "application/vnd.google.colaboratory.intrinsic+json": {
              "type": "string"
            }
          },
          "metadata": {},
          "execution_count": 37
        }
      ]
    },
    {
      "cell_type": "markdown",
      "metadata": {
        "id": "UbjI4vY4TVvo"
      },
      "source": [
        "You can also combine lists of strings by a separator using the \"join\" method. To again join the two strings above separated by a space, place the strings to be joined in a *list* by using square brackets, and the separator in a string and use the syntax *sep*`.join(`*list*`)`:"
      ]
    },
    {
      "cell_type": "code",
      "metadata": {
        "colab": {
          "base_uri": "https://localhost:8080/",
          "height": 35
        },
        "id": "0SE6KexOTVvo",
        "outputId": "e659cecf-69c7-43ec-dd37-ac30add7a4a1"
      },
      "source": [
        "\" \".join([a_string,second_string]) "
      ],
      "execution_count": null,
      "outputs": [
        {
          "output_type": "execute_result",
          "data": {
            "text/plain": [
              "'A first sentence. Wow, two sentences.'"
            ],
            "application/vnd.google.colaboratory.intrinsic+json": {
              "type": "string"
            }
          },
          "metadata": {},
          "execution_count": 28
        }
      ]
    },
    {
      "cell_type": "markdown",
      "metadata": {
        "id": "e8Tz4_S3TVvo"
      },
      "source": [
        "Note that \"join\" takes a list of strings of *any* length and concatenates *all* the strings together with the separator."
      ]
    },
    {
      "cell_type": "code",
      "metadata": {
        "colab": {
          "base_uri": "https://localhost:8080/",
          "height": 53
        },
        "id": "d2ya0kHaTVvo",
        "outputId": "47790bf7-e3d5-4da7-f36c-a86a4b39b8d1"
      },
      "source": [
        "\" then \".join(month_name)"
      ],
      "execution_count": null,
      "outputs": [
        {
          "output_type": "execute_result",
          "data": {
            "text/plain": [
              "'January then February then March then April then May then June then July then August then September then October then November then December'"
            ],
            "application/vnd.google.colaboratory.intrinsic+json": {
              "type": "string"
            }
          },
          "metadata": {},
          "execution_count": 29
        }
      ]
    },
    {
      "cell_type": "markdown",
      "metadata": {
        "id": "-IxVQESATVvo"
      },
      "source": [
        "Let's work with those months to match abbreviations to month names. There are multiple ways to do this. We could do a `for` loop that iterates through the elements:"
      ]
    },
    {
      "cell_type": "code",
      "metadata": {
        "colab": {
          "base_uri": "https://localhost:8080/"
        },
        "id": "yVtLd5JGTVvo",
        "outputId": "05b0edd0-16c9-49af-c1f0-3782c6f93abe"
      },
      "source": [
        "month_explanations = []\n",
        "for i in range(12):\n",
        "    new_string = \" stands for \".join([month_abb[i], month_name[i]])\n",
        "    month_explanations.append(new_string)\n",
        "month_explanations"
      ],
      "execution_count": null,
      "outputs": [
        {
          "output_type": "execute_result",
          "data": {
            "text/plain": [
              "['Jan stands for January',\n",
              " 'Feb stands for February',\n",
              " 'Mar stands for March',\n",
              " 'Apr stands for April',\n",
              " 'May stands for May',\n",
              " 'Jun stands for June',\n",
              " 'Jul stands for July',\n",
              " 'Aug stands for August',\n",
              " 'Sep stands for September',\n",
              " 'Oct stands for October',\n",
              " 'Nov stands for November',\n",
              " 'Dec stands for December']"
            ]
          },
          "metadata": {},
          "execution_count": 30
        }
      ]
    },
    {
      "cell_type": "markdown",
      "metadata": {
        "id": "a3VXJt0vTVvp"
      },
      "source": [
        "Python programming prides itself on simplicity and clarity though, so the loop might be frowned upon. What are some alternatives? The \"zip\" function iterates over and \"zips\" together two lists. Let's look inside the zip function first by making a list of the zipped elements:"
      ]
    },
    {
      "cell_type": "code",
      "metadata": {
        "colab": {
          "base_uri": "https://localhost:8080/"
        },
        "id": "4NpfRyy5TVvp",
        "outputId": "f3afb592-771e-430a-b355-5ba3a98e748b"
      },
      "source": [
        "list(zip(month_abb, month_name))"
      ],
      "execution_count": null,
      "outputs": [
        {
          "output_type": "execute_result",
          "data": {
            "text/plain": [
              "[('Jan', 'January'),\n",
              " ('Feb', 'February'),\n",
              " ('Mar', 'March'),\n",
              " ('Apr', 'April'),\n",
              " ('May', 'May'),\n",
              " ('Jun', 'June'),\n",
              " ('Jul', 'July'),\n",
              " ('Aug', 'August'),\n",
              " ('Sep', 'September'),\n",
              " ('Oct', 'October'),\n",
              " ('Nov', 'November'),\n",
              " ('Dec', 'December')]"
            ]
          },
          "metadata": {},
          "execution_count": 31
        }
      ]
    },
    {
      "cell_type": "markdown",
      "metadata": {
        "id": "PPgA6pESTVvp"
      },
      "source": [
        "Not quite what we want, but we can expand on this as we iterate over the zip object using a \"list comprehension\":"
      ]
    },
    {
      "cell_type": "code",
      "metadata": {
        "colab": {
          "base_uri": "https://localhost:8080/"
        },
        "id": "o7q6Z9f2TVvp",
        "outputId": "64e4b7bb-5aaf-46d7-d7f6-e3c71162dc64"
      },
      "source": [
        "[\" stands for \".join([abbrev,name]) for abbrev,name in zip(month_abb, month_name)]"
      ],
      "execution_count": null,
      "outputs": [
        {
          "output_type": "execute_result",
          "data": {
            "text/plain": [
              "['Jan stands for January',\n",
              " 'Feb stands for February',\n",
              " 'Mar stands for March',\n",
              " 'Apr stands for April',\n",
              " 'May stands for May',\n",
              " 'Jun stands for June',\n",
              " 'Jul stands for July',\n",
              " 'Aug stands for August',\n",
              " 'Sep stands for September',\n",
              " 'Oct stands for October',\n",
              " 'Nov stands for November',\n",
              " 'Dec stands for December']"
            ]
          },
          "metadata": {},
          "execution_count": 32
        }
      ]
    },
    {
      "cell_type": "markdown",
      "metadata": {
        "id": "VbFUnUpJTVvp"
      },
      "source": [
        "The \"list comprehension\" is defined by those square brackets on the outside (making it a list) and the \"for loop\"-like instruction inside. \n",
        "\n",
        "There are many ways to do the same thing. For example, we can change the string manipulation operation that gets repeated from the join method to the format method:"
      ]
    },
    {
      "cell_type": "code",
      "metadata": {
        "colab": {
          "base_uri": "https://localhost:8080/"
        },
        "id": "H4Nvc77BTVvp",
        "outputId": "4b9d0470-3082-4a6c-ac31-30c2fa60a21d"
      },
      "source": [
        "[\"{} stands for {}\".format(abbrev,name) for abbrev,name in zip(month_abb, month_name)]"
      ],
      "execution_count": null,
      "outputs": [
        {
          "output_type": "execute_result",
          "data": {
            "text/plain": [
              "['Jan stands for January',\n",
              " 'Feb stands for February',\n",
              " 'Mar stands for March',\n",
              " 'Apr stands for April',\n",
              " 'May stands for May',\n",
              " 'Jun stands for June',\n",
              " 'Jul stands for July',\n",
              " 'Aug stands for August',\n",
              " 'Sep stands for September',\n",
              " 'Oct stands for October',\n",
              " 'Nov stands for November',\n",
              " 'Dec stands for December']"
            ]
          },
          "metadata": {},
          "execution_count": 33
        }
      ]
    },
    {
      "cell_type": "markdown",
      "metadata": {
        "id": "0YtmR7u_TVvq"
      },
      "source": [
        "The join/zip idiom works for the letters example in the other notebook as well:"
      ]
    },
    {
      "cell_type": "code",
      "metadata": {
        "colab": {
          "base_uri": "https://localhost:8080/"
        },
        "id": "n9lU8UKqTVvq",
        "outputId": "0a99e10c-baca-415e-a0e1-432db54b6b4b"
      },
      "source": [
        "letterpairs = [\"\".join([lower,upper]) for lower, upper in zip(letters_list, LETTERS_list)]\n",
        "print(letterpairs)"
      ],
      "execution_count": null,
      "outputs": [
        {
          "output_type": "stream",
          "name": "stdout",
          "text": [
            "['aA', 'bB', 'cC', 'dD', 'eE', 'fF', 'gG', 'hH', 'iI', 'jJ', 'kK', 'lL', 'mM', 'nN', 'oO', 'pP', 'qQ', 'rR', 'sS', 'tT', 'uU', 'vV', 'wW', 'xX', 'yY', 'zZ']\n"
          ]
        }
      ]
    },
    {
      "cell_type": "markdown",
      "metadata": {
        "id": "f0FyBmOeTVvq"
      },
      "source": [
        "You can zip two lists together, concatenate those element by element, and then join them by a separator."
      ]
    },
    {
      "cell_type": "code",
      "metadata": {
        "colab": {
          "base_uri": "https://localhost:8080/",
          "height": 53
        },
        "id": "stVa7GSCTVvq",
        "outputId": "62a9a7ad-5ce8-49a2-c837-be95cee93b3a"
      },
      "source": [
        "\" then \".join([\"{} ({})\".format(name,abbrev) for name,abbrev in zip(month_name,month_abb)])"
      ],
      "execution_count": null,
      "outputs": [
        {
          "output_type": "execute_result",
          "data": {
            "text/plain": [
              "'January (Jan) then February (Feb) then March (Mar) then April (Apr) then May (May) then June (Jun) then July (Jul) then August (Aug) then September (Sep) then October (Oct) then November (Nov) then December (Dec)'"
            ],
            "application/vnd.google.colaboratory.intrinsic+json": {
              "type": "string"
            }
          },
          "metadata": {},
          "execution_count": 35
        }
      ]
    },
    {
      "cell_type": "markdown",
      "metadata": {
        "id": "klyQF3aUTVvq"
      },
      "source": [
        "You can split up a string into pieces, based on a pattern, with the \"split\" method."
      ]
    },
    {
      "cell_type": "code",
      "metadata": {
        "colab": {
          "base_uri": "https://localhost:8080/"
        },
        "id": "J1ezjhgvTVvq",
        "outputId": "81c9ee6f-ea04-46a6-d2b4-546c12ca4339"
      },
      "source": [
        "combined_string.split(\"! \")"
      ],
      "execution_count": null,
      "outputs": [
        {
          "output_type": "execute_result",
          "data": {
            "text/plain": [
              "['A first sentence', 'Wow, two sentences.']"
            ]
          },
          "metadata": {},
          "execution_count": 39
        }
      ]
    },
    {
      "cell_type": "markdown",
      "metadata": {
        "id": "dYo3eGdUTVvr"
      },
      "source": [
        "## Substrings (Slices)"
      ]
    },
    {
      "cell_type": "markdown",
      "metadata": {
        "id": "kN7vhjkLTVvr"
      },
      "source": [
        "Substrings are just slices in Python. We are just taking a little slice from a longer string and exporting it. For instance, to get a list of the second through fourth character in each fruit name:"
      ]
    },
    {
      "cell_type": "code",
      "metadata": {
        "colab": {
          "base_uri": "https://localhost:8080/"
        },
        "id": "qpgln_TLTVvr",
        "outputId": "5bdf6dc4-652d-4760-adbd-44a4aa0c9bb1"
      },
      "source": [
        "substringfromfruit = [eachfruit[1:4] for eachfruit in fruit]\n",
        "print(substringfromfruit)"
      ],
      "execution_count": null,
      "outputs": [
        {
          "output_type": "stream",
          "name": "stdout",
          "text": [
            "['ppl', 'pri', 'voc', 'ana', 'ell', 'ilb', 'lac', 'lac', 'loo', 'lue', 'oys', 'rea', 'ana', 'ant', 'her', 'her', 'hil', 'lem', 'lou', 'oco', 'ran', 'ucu', 'urr', 'ams', 'ate', 'rag', 'uri', 'ggp', 'lde', 'eij', 'ig', 'oji', 'oos', 'rap', 'rap', 'uav', 'one', 'uck', 'ack', 'amb', 'uju', 'iwi', 'umq', 'emo', 'ime', 'oqu', 'ych', 'and', 'ang', 'ulb', 'ect', 'ut', 'liv', 'ran', 'ame', 'apa', 'ass', 'eac', 'ear', 'ers', 'hys', 'ine', 'lum', 'ome', 'ome', 'urp', 'uin', 'ais', 'amb', 'asp', 'edc', 'ock', 'ala', 'ats', 'tar', 'tra', 'ama', 'ang', 'gli', 'ate']\n"
          ]
        }
      ]
    },
    {
      "cell_type": "markdown",
      "metadata": {
        "id": "3AnLpZu6TVvr"
      },
      "source": [
        "You can also count backwards from the end of the string in order to extract a slice from that end. To do so, use negative numbers and count backwards. "
      ]
    },
    {
      "cell_type": "code",
      "metadata": {
        "colab": {
          "base_uri": "https://localhost:8080/"
        },
        "id": "5PZIMT1eTVvr",
        "outputId": "a423c510-a6d7-48fb-e83a-541f657b9ba5"
      },
      "source": [
        "subfromend = [eachfruit[-3:-1] for eachfruit in fruit]\n",
        "print(subfromend)"
      ],
      "execution_count": null,
      "outputs": [
        {
          "output_type": "stream",
          "name": "stdout",
          "text": [
            "['pl', 'co', 'ad', 'an', 'pe', 'rr', 'rr', 'an', 'ng', 'rr', 'rr', 'ui', 'lo', 'up', 'oy', 'rr', 'pe', 'in', 'rr', 'nu', 'rr', 'be', 'an', 'so', 'at', 'ui', 'ia', 'an', 'rr', 'jo', 'fi', 'rr', 'rr', 'ap', 'ui', 'av', 'de', 'rr', 'ui', 'bu', 'ub', 'ui', 'ua', 'mo', 'im', 'ua', 'he', 'in', 'ng', 'rr', 'in', 'nu', 'iv', 'ng', 'el', 'ay', 'ui', 'ac', 'ea', 'mo', 'li', 'pl', 'lu', 'at', 'el', 'ee', 'nc', 'si', 'ta', 'rr', 'an', 'lo', 'rr', 'um', 'ui', 'rr', 'll', 'in', 'ui', 'lo']\n"
          ]
        }
      ]
    },
    {
      "cell_type": "markdown",
      "source": [
        "You might notice that misses the last character. Remember how the indexing works with Python, where slices are \"slightly to the left of\" the index. Therefore, if you want to catch the last character, you need to leave it blank:"
      ],
      "metadata": {
        "id": "UVTkrbyIC48K"
      }
    },
    {
      "cell_type": "code",
      "source": [
        "subfromend = [eachfruit[-3:] for eachfruit in fruit]\n",
        "print(subfromend)"
      ],
      "metadata": {
        "colab": {
          "base_uri": "https://localhost:8080/"
        },
        "id": "tE0hmGzxDFS4",
        "outputId": "2a771588-96c9-46e7-bc21-68ec8041242a"
      },
      "execution_count": null,
      "outputs": [
        {
          "output_type": "stream",
          "name": "stdout",
          "text": [
            "['ple', 'cot', 'ado', 'ana', 'per', 'rry', 'rry', 'ant', 'nge', 'rry', 'rry', 'uit', 'lon', 'upe', 'oya', 'rry', 'per', 'ine', 'rry', 'nut', 'rry', 'ber', 'ant', 'son', 'ate', 'uit', 'ian', 'ant', 'rry', 'joa', 'fig', 'rry', 'rry', 'ape', 'uit', 'ava', 'dew', 'rry', 'uit', 'bul', 'ube', 'uit', 'uat', 'mon', 'ime', 'uat', 'hee', 'ine', 'ngo', 'rry', 'ine', 'nut', 'ive', 'nge', 'elo', 'aya', 'uit', 'ach', 'ear', 'mon', 'lis', 'ple', 'lum', 'ate', 'elo', 'een', 'nce', 'sin', 'tan', 'rry', 'ant', 'lon', 'rry', 'uma', 'uit', 'rry', 'llo', 'ine', 'uit', 'lon']\n"
          ]
        }
      ]
    },
    {
      "cell_type": "markdown",
      "metadata": {
        "id": "rJf_2e7iTVvs"
      },
      "source": [
        "You can use slicing to extract data from strings:"
      ]
    },
    {
      "cell_type": "code",
      "metadata": {
        "colab": {
          "base_uri": "https://localhost:8080/"
        },
        "id": "bkTkdgjuTVvs",
        "outputId": "35d3cd3e-1424-40a2-cd7f-a46af5e7610e"
      },
      "source": [
        "some_dates = [\"1999/01/01\",\"1998/12/15\",\"2001/09/03\"]\n",
        "years = [date[0:4] for date in some_dates]\n",
        "print(years)"
      ],
      "execution_count": null,
      "outputs": [
        {
          "output_type": "stream",
          "name": "stdout",
          "text": [
            "['1999', '1998', '2001']\n"
          ]
        }
      ]
    },
    {
      "cell_type": "code",
      "metadata": {
        "colab": {
          "base_uri": "https://localhost:8080/"
        },
        "id": "eTJcrw1LTVvs",
        "outputId": "734cf376-6dca-42a3-8a97-de56c5c63da2"
      },
      "source": [
        "months = [date[5:7] for date in some_dates]\n",
        "print(months)"
      ],
      "execution_count": null,
      "outputs": [
        {
          "output_type": "stream",
          "name": "stdout",
          "text": [
            "['01', '12', '09']\n"
          ]
        }
      ]
    },
    {
      "cell_type": "markdown",
      "metadata": {
        "id": "ItbXk0SZTVvs"
      },
      "source": [
        "Getting a copy of a string with specific positions replaced is also a matter of slicing:"
      ]
    },
    {
      "cell_type": "code",
      "metadata": {
        "colab": {
          "base_uri": "https://localhost:8080/",
          "height": 35
        },
        "id": "G4qfO3grTVvs",
        "outputId": "a053009d-3d1b-4447-b0f8-0460e1eae6f3"
      },
      "source": [
        "apple = \"apple\"\n",
        "zebra = \"--!ZEBRA!--\"\n",
        "zebraapple = apple[0:1] + zebra + apple[3:]\n",
        "zebraapple"
      ],
      "execution_count": null,
      "outputs": [
        {
          "output_type": "execute_result",
          "data": {
            "text/plain": [
              "'a--!ZEBRA!--le'"
            ],
            "application/vnd.google.colaboratory.intrinsic+json": {
              "type": "string"
            }
          },
          "metadata": {},
          "execution_count": 49
        }
      ]
    },
    {
      "cell_type": "markdown",
      "metadata": {
        "id": "XD4nxq4KTVvt"
      },
      "source": [
        "## Capitalization\n",
        "\n",
        "Strings have a simple casefolding method that can be applied:"
      ]
    },
    {
      "cell_type": "code",
      "metadata": {
        "colab": {
          "base_uri": "https://localhost:8080/",
          "height": 35
        },
        "id": "1Q6cpdcPTVvt",
        "outputId": "af32696a-66dc-4d46-e911-df687403151a"
      },
      "source": [
        "combined_string.lower()"
      ],
      "execution_count": null,
      "outputs": [
        {
          "output_type": "execute_result",
          "data": {
            "text/plain": [
              "'a first sentence! wow, two sentences.'"
            ],
            "application/vnd.google.colaboratory.intrinsic+json": {
              "type": "string"
            }
          },
          "metadata": {},
          "execution_count": 51
        }
      ]
    },
    {
      "cell_type": "code",
      "metadata": {
        "colab": {
          "base_uri": "https://localhost:8080/",
          "height": 35
        },
        "id": "56HXFptdTVvt",
        "outputId": "603330bb-54d4-4f8a-d00c-4db28476d427"
      },
      "source": [
        "combined_string.upper()"
      ],
      "execution_count": null,
      "outputs": [
        {
          "output_type": "execute_result",
          "data": {
            "text/plain": [
              "'A FIRST SENTENCE! WOW, TWO SENTENCES.'"
            ],
            "application/vnd.google.colaboratory.intrinsic+json": {
              "type": "string"
            }
          },
          "metadata": {},
          "execution_count": 52
        }
      ]
    },
    {
      "cell_type": "markdown",
      "metadata": {
        "id": "4ufE0dgDTVvt"
      },
      "source": [
        "## White Space\n",
        "\n",
        "Also, Python has several methods to trim excess white space *off the ends* of strings:"
      ]
    },
    {
      "cell_type": "code",
      "metadata": {
        "colab": {
          "base_uri": "https://localhost:8080/",
          "height": 35
        },
        "id": "JqAqaa4KTVvt",
        "outputId": "8cc2b94f-a24b-4157-9d60-b71d1cd2d3de"
      },
      "source": [
        "lotsofspace = '   Why   so much  space?   '\n",
        "lotsofspace.strip()"
      ],
      "execution_count": null,
      "outputs": [
        {
          "output_type": "execute_result",
          "data": {
            "text/plain": [
              "'Why   so much  space?'"
            ],
            "application/vnd.google.colaboratory.intrinsic+json": {
              "type": "string"
            }
          },
          "metadata": {},
          "execution_count": 53
        }
      ]
    },
    {
      "cell_type": "code",
      "metadata": {
        "colab": {
          "base_uri": "https://localhost:8080/",
          "height": 35
        },
        "id": "xBHAngEkTVvu",
        "outputId": "c3f036e4-d9f3-4867-8fc2-9e2b9f58de60"
      },
      "source": [
        "lotsofspace.lstrip()"
      ],
      "execution_count": null,
      "outputs": [
        {
          "output_type": "execute_result",
          "data": {
            "text/plain": [
              "'Why   so much  space?   '"
            ],
            "application/vnd.google.colaboratory.intrinsic+json": {
              "type": "string"
            }
          },
          "metadata": {},
          "execution_count": 54
        }
      ]
    },
    {
      "cell_type": "code",
      "metadata": {
        "colab": {
          "base_uri": "https://localhost:8080/",
          "height": 35
        },
        "id": "9OJ0HKJ4TVvu",
        "outputId": "97d56346-78a4-48e3-d2ee-86988db3fb68"
      },
      "source": [
        "lotsofspace.rstrip()"
      ],
      "execution_count": null,
      "outputs": [
        {
          "output_type": "execute_result",
          "data": {
            "text/plain": [
              "'   Why   so much  space?'"
            ],
            "application/vnd.google.colaboratory.intrinsic+json": {
              "type": "string"
            }
          },
          "metadata": {},
          "execution_count": 55
        }
      ]
    },
    {
      "cell_type": "markdown",
      "metadata": {
        "id": "AsCmZ3doTVvu"
      },
      "source": [
        "## Matching substrings\n",
        "\n",
        "If we're looking for specific substrings, there are string methods to do that."
      ]
    },
    {
      "cell_type": "code",
      "metadata": {
        "colab": {
          "base_uri": "https://localhost:8080/"
        },
        "id": "eVnhAgR_TVvu",
        "outputId": "d1de18b7-00ec-4b8d-def5-44b649717721"
      },
      "source": [
        "\"strawberry\".find(\"berry\")"
      ],
      "execution_count": null,
      "outputs": [
        {
          "output_type": "execute_result",
          "data": {
            "text/plain": [
              "5"
            ]
          },
          "metadata": {},
          "execution_count": 56
        }
      ]
    },
    {
      "cell_type": "markdown",
      "metadata": {
        "id": "Z2iECnnHTVvu"
      },
      "source": [
        "That returns the position of the first match. If there is no match, find returns a value of -1."
      ]
    },
    {
      "cell_type": "code",
      "metadata": {
        "colab": {
          "base_uri": "https://localhost:8080/"
        },
        "id": "i0jCD08fTVvu",
        "outputId": "c63933b6-ad0e-40d8-9afa-75688d2b7258"
      },
      "source": [
        "\"apple\".find(\"berry\")"
      ],
      "execution_count": null,
      "outputs": [
        {
          "output_type": "execute_result",
          "data": {
            "text/plain": [
              "-1"
            ]
          },
          "metadata": {},
          "execution_count": 57
        }
      ]
    },
    {
      "cell_type": "markdown",
      "metadata": {
        "id": "PMo_uu-6TVvu"
      },
      "source": [
        "If there are multiple matches, find returns the position of the first match."
      ]
    },
    {
      "cell_type": "code",
      "metadata": {
        "colab": {
          "base_uri": "https://localhost:8080/"
        },
        "id": "Oo2_y5wKTVvv",
        "outputId": "9c803d5e-7ba0-4474-f887-b006a3cdee45"
      },
      "source": [
        "\"berryberryboberrybananafanafoferrymemymomerry berry\".find(\"berry\")"
      ],
      "execution_count": null,
      "outputs": [
        {
          "output_type": "execute_result",
          "data": {
            "text/plain": [
              "0"
            ]
          },
          "metadata": {},
          "execution_count": 58
        }
      ]
    },
    {
      "cell_type": "markdown",
      "metadata": {
        "id": "ONAWGiasTVvv"
      },
      "source": [
        "We can use this in a list comprehension, with the addition of an \"if\" condition, to extract a list of all matching fruits."
      ]
    },
    {
      "cell_type": "code",
      "metadata": {
        "colab": {
          "base_uri": "https://localhost:8080/"
        },
        "id": "4W5i4A8uTVvv",
        "outputId": "0f145ea7-9a5b-44ac-e3bb-0accebc5d950"
      },
      "source": [
        "[fr for fr in fruit if fr.find(\"berry\")> -1]"
      ],
      "execution_count": null,
      "outputs": [
        {
          "output_type": "execute_result",
          "data": {
            "text/plain": [
              "['bilberry',\n",
              " 'blackberry',\n",
              " 'blueberry',\n",
              " 'boysenberry',\n",
              " 'cloudberry',\n",
              " 'cranberry',\n",
              " 'elderberry',\n",
              " 'goji berry',\n",
              " 'gooseberry',\n",
              " 'huckleberry',\n",
              " 'mulberry',\n",
              " 'raspberry',\n",
              " 'salal berry',\n",
              " 'strawberry']"
            ]
          },
          "metadata": {},
          "execution_count": 59
        }
      ]
    },
    {
      "cell_type": "markdown",
      "metadata": {
        "id": "TCdd2e8yTVvv"
      },
      "source": [
        "We can get a copy of the string with the substring replaced with something else:"
      ]
    },
    {
      "cell_type": "code",
      "metadata": {
        "colab": {
          "base_uri": "https://localhost:8080/",
          "height": 35
        },
        "id": "MsPpORSSTVvv",
        "outputId": "396abb4b-563f-47e0-b351-005adbd750d1"
      },
      "source": [
        "\"strawberry\".replace(\"berry\",\"fish\")"
      ],
      "execution_count": null,
      "outputs": [
        {
          "output_type": "execute_result",
          "data": {
            "text/plain": [
              "'strawfish'"
            ],
            "application/vnd.google.colaboratory.intrinsic+json": {
              "type": "string"
            }
          },
          "metadata": {},
          "execution_count": 60
        }
      ]
    },
    {
      "cell_type": "code",
      "metadata": {
        "colab": {
          "base_uri": "https://localhost:8080/"
        },
        "id": "eG0I9TFJTVvv",
        "outputId": "13741407-e36f-40ff-9c4c-eca33f89ac2e"
      },
      "source": [
        "fishfruit = [fr.replace(\"berry\",\"fish\") for fr in fruit]\n",
        "print(fishfruit)"
      ],
      "execution_count": null,
      "outputs": [
        {
          "output_type": "stream",
          "name": "stdout",
          "text": [
            "['apple', 'apricot', 'avocado', 'banana', 'bell pepper', 'bilfish', 'blackfish', 'blackcurrant', 'blood orange', 'bluefish', 'boysenfish', 'breadfruit', 'canary melon', 'cantaloupe', 'cherimoya', 'cherry', 'chili pepper', 'clementine', 'cloudfish', 'coconut', 'cranfish', 'cucumber', 'currant', 'damson', 'date', 'dragonfruit', 'durian', 'eggplant', 'elderfish', 'feijoa', 'fig', 'goji fish', 'goosefish', 'grape', 'grapefruit', 'guava', 'honeydew', 'hucklefish', 'jackfruit', 'jambul', 'jujube', 'kiwi fruit', 'kumquat', 'lemon', 'lime', 'loquat', 'lychee', 'mandarine', 'mango', 'mulfish', 'nectarine', 'nut', 'olive', 'orange', 'pamelo', 'papaya', 'passionfruit', 'peach', 'pear', 'persimmon', 'physalis', 'pineapple', 'plum', 'pomegranate', 'pomelo', 'purple mangosteen', 'quince', 'raisin', 'rambutan', 'raspfish', 'redcurrant', 'rock melon', 'salal fish', 'satsuma', 'star fruit', 'strawfish', 'tamarillo', 'tangerine', 'ugli fruit', 'watermelon']\n"
          ]
        }
      ]
    },
    {
      "cell_type": "markdown",
      "metadata": {
        "id": "ovgJccRuTVvv"
      },
      "source": [
        "# Regular Expressions\n",
        "\n",
        "Our searches above rely on relatively inflexible patterns (\"berry\") that could miss lots of variations (e.g., \"-berries\"). We can instead leverage regular expressions as  flexible patterns for finding matches. For this we need to import the **re** module.\n",
        "\n",
        "Just for comparison's sake, let's start with a search for the same pattern as above: \"berry\"."
      ]
    },
    {
      "cell_type": "code",
      "metadata": {
        "colab": {
          "base_uri": "https://localhost:8080/"
        },
        "id": "R85Utq_nTVvw",
        "outputId": "cefe44cd-f53e-40f6-a741-ce9a1d9b0cfa"
      },
      "source": [
        "import re\n",
        "mo = re.search(r'berry', 'strawberry')\n",
        "mo"
      ],
      "execution_count": null,
      "outputs": [
        {
          "output_type": "execute_result",
          "data": {
            "text/plain": [
              "<re.Match object; span=(5, 10), match='berry'>"
            ]
          },
          "metadata": {},
          "execution_count": 71
        }
      ]
    },
    {
      "cell_type": "markdown",
      "metadata": {
        "id": "nR7JyoDpTVvw"
      },
      "source": [
        "We created a `Match` object above called `mo`. That object has different attributes that we can then pull. For instance, the start and end positions of the match object are in the \"span\" attribute:"
      ]
    },
    {
      "cell_type": "code",
      "metadata": {
        "colab": {
          "base_uri": "https://localhost:8080/"
        },
        "id": "_YziOFx1TVvw",
        "outputId": "e225aa87-784a-4d0a-b489-4122b68c1c36"
      },
      "source": [
        "mo.span()"
      ],
      "execution_count": null,
      "outputs": [
        {
          "output_type": "execute_result",
          "data": {
            "text/plain": [
              "(5, 10)"
            ]
          },
          "metadata": {},
          "execution_count": 68
        }
      ]
    },
    {
      "cell_type": "markdown",
      "metadata": {
        "id": "smDj25iFTVvw"
      },
      "source": [
        "The match itself is in the \"group\" attribute, which I'll explain below."
      ]
    },
    {
      "cell_type": "code",
      "metadata": {
        "colab": {
          "base_uri": "https://localhost:8080/",
          "height": 35
        },
        "id": "YrkJ0alBTVvw",
        "outputId": "bd8cacbb-ad68-4586-ad49-943c842ad0e9"
      },
      "source": [
        "mo.group()"
      ],
      "execution_count": null,
      "outputs": [
        {
          "output_type": "execute_result",
          "data": {
            "application/vnd.google.colaboratory.intrinsic+json": {
              "type": "string"
            },
            "text/plain": [
              "'berry'"
            ]
          },
          "metadata": {
            "tags": []
          },
          "execution_count": 217
        }
      ]
    },
    {
      "cell_type": "markdown",
      "metadata": {
        "id": "JmNyJCvfTVvw"
      },
      "source": [
        "If there is no match, the match object is null-valued (\"None\"). You can, more or less, use match objects in conditional statements, with null equalling \"False\" and any match resulting in \"True\"."
      ]
    },
    {
      "cell_type": "code",
      "metadata": {
        "id": "Nsvzb7SoTVvw"
      },
      "source": [
        "mo_miss = re.search(r'berry','apple')\n",
        "mo_miss"
      ],
      "execution_count": null,
      "outputs": []
    },
    {
      "cell_type": "code",
      "metadata": {
        "colab": {
          "base_uri": "https://localhost:8080/"
        },
        "id": "RJYr9g57TVvx",
        "outputId": "8db39457-f9ed-4e00-ed16-f00cf250fc1a"
      },
      "source": [
        "print(mo_miss)"
      ],
      "execution_count": null,
      "outputs": [
        {
          "output_type": "stream",
          "name": "stdout",
          "text": [
            "None\n"
          ]
        }
      ]
    },
    {
      "cell_type": "code",
      "metadata": {
        "colab": {
          "base_uri": "https://localhost:8080/"
        },
        "id": "rB-A4OvrTVvx",
        "outputId": "d039016a-a70d-4570-9ffc-6e2f8261b316"
      },
      "source": [
        "if mo:\n",
        "    print(\"Strawberry is a berry!\")\n",
        "else:\n",
        "    print(\"Strawberry is not a berry.\")"
      ],
      "execution_count": null,
      "outputs": [
        {
          "output_type": "stream",
          "name": "stdout",
          "text": [
            "Strawberry is a berry!\n"
          ]
        }
      ]
    },
    {
      "cell_type": "code",
      "metadata": {
        "colab": {
          "base_uri": "https://localhost:8080/"
        },
        "id": "pZWnQjKPTVvx",
        "outputId": "6590ffdd-846b-4528-bfd1-9dafe4f2162a"
      },
      "source": [
        "if mo_miss:\n",
        "    print(\"Apple is a berry\")\n",
        "else:\n",
        "    print(\"Apple is not a berry.\")"
      ],
      "execution_count": null,
      "outputs": [
        {
          "output_type": "stream",
          "name": "stdout",
          "text": [
            "Apple is not a berry.\n"
          ]
        }
      ]
    },
    {
      "cell_type": "markdown",
      "metadata": {
        "id": "i0RURZ3cTVvx"
      },
      "source": [
        "Which, again can be put in a list comprehension to get a list of all berries:"
      ]
    },
    {
      "cell_type": "code",
      "metadata": {
        "colab": {
          "base_uri": "https://localhost:8080/"
        },
        "id": "pwJLM9SgTVvx",
        "outputId": "b90e4421-dc35-4277-ad42-d1c905d30d80"
      },
      "source": [
        "berries = [itsaberry for itsaberry in fruit if re.search(r'berry',itsaberry)]\n",
        "print(berries)"
      ],
      "execution_count": null,
      "outputs": [
        {
          "output_type": "stream",
          "name": "stdout",
          "text": [
            "['bilberry', 'blackberry', 'blueberry', 'boysenberry', 'cloudberry', 'cranberry', 'elderberry', 'goji berry', 'gooseberry', 'huckleberry', 'mulberry', 'raspberry', 'salal berry', 'strawberry']\n"
          ]
        }
      ]
    },
    {
      "cell_type": "markdown",
      "metadata": {
        "id": "MP27cnyNTVvx"
      },
      "source": [
        "As a sidebar, this \"compiles\" the regular expression every time through the loop. It's more efficient to compile it once before the loop using a slightly different syntax:"
      ]
    },
    {
      "cell_type": "code",
      "metadata": {
        "colab": {
          "base_uri": "https://localhost:8080/"
        },
        "id": "31Qupxc9TVvy",
        "outputId": "541ba0b8-79b4-4e90-ac51-527ec6b0220d"
      },
      "source": [
        "reo = re.compile(r'berry') # compile the pattern into a regular expression object\n",
        "berries = [itsaberry for itsaberry in fruit if reo.search(itsaberry)]\n",
        "print(berries)"
      ],
      "execution_count": null,
      "outputs": [
        {
          "output_type": "stream",
          "name": "stdout",
          "text": [
            "['bilberry', 'blackberry', 'blueberry', 'boysenberry', 'cloudberry', 'cranberry', 'elderberry', 'goji berry', 'gooseberry', 'huckleberry', 'mulberry', 'raspberry', 'salal berry', 'strawberry']\n"
          ]
        }
      ]
    },
    {
      "cell_type": "markdown",
      "metadata": {
        "id": "hMMTyYbkTVvy"
      },
      "source": [
        "The \"search\" method will return a single object describing only the first match in the string."
      ]
    },
    {
      "cell_type": "code",
      "metadata": {
        "colab": {
          "base_uri": "https://localhost:8080/"
        },
        "id": "PwkVBXHTTVvy",
        "outputId": "6ce9edeb-5e33-45cd-f3c8-1e1c44b16a05"
      },
      "source": [
        "mo_many = re.search(r'berry',\"berryberryboberrybananafanafoferrymemymomerry berry\")\n",
        "mo_many"
      ],
      "execution_count": null,
      "outputs": [
        {
          "output_type": "execute_result",
          "data": {
            "text/plain": [
              "<re.Match object; span=(0, 5), match='berry'>"
            ]
          },
          "metadata": {},
          "execution_count": 74
        }
      ]
    },
    {
      "cell_type": "markdown",
      "metadata": {
        "id": "oXSVhvQNTVvy"
      },
      "source": [
        "The findall method returns a list of all matching strings."
      ]
    },
    {
      "cell_type": "code",
      "metadata": {
        "colab": {
          "base_uri": "https://localhost:8080/"
        },
        "id": "1UBUKY8ETVvy",
        "outputId": "14b8d174-7d17-4fdd-e4bd-d1974e314f0c"
      },
      "source": [
        "mo_many2 = re.findall(r'berry',\"berryberryboberrybananafanafoferrymemymomerry berry\")\n",
        "mo_many2"
      ],
      "execution_count": null,
      "outputs": [
        {
          "output_type": "execute_result",
          "data": {
            "text/plain": [
              "['berry', 'berry', 'berry', 'berry']"
            ]
          },
          "metadata": {
            "tags": []
          },
          "execution_count": 225
        }
      ]
    },
    {
      "cell_type": "markdown",
      "metadata": {
        "id": "LgKFKsjFTVvy"
      },
      "source": [
        "The \"finditer\" method returns an \"iterator\" (thing, like a list, over which you can, um, iterate) containing match objects for every match."
      ]
    },
    {
      "cell_type": "code",
      "metadata": {
        "colab": {
          "base_uri": "https://localhost:8080/"
        },
        "id": "yyHnOr-wTVvy",
        "outputId": "2a890275-c92b-4255-b745-1ee01f3c9d7f"
      },
      "source": [
        "mo_iter = re.finditer(r'berry',\"berryberryboberrybananafanafoferrymemymomerry berry\")\n",
        "for moi in mo_iter:\n",
        "    print(moi)"
      ],
      "execution_count": null,
      "outputs": [
        {
          "output_type": "stream",
          "text": [
            "<re.Match object; span=(0, 5), match='berry'>\n",
            "<re.Match object; span=(5, 10), match='berry'>\n",
            "<re.Match object; span=(12, 17), match='berry'>\n",
            "<re.Match object; span=(46, 51), match='berry'>\n"
          ],
          "name": "stdout"
        }
      ]
    },
    {
      "cell_type": "markdown",
      "metadata": {
        "id": "GkU29Z3PTVvz"
      },
      "source": [
        "Now let's use regex to look for more complex patterns than just substrings.\n",
        "\n",
        "#### Square brackets for “or” (disjunction) of characters.\n",
        "\n",
        "Match “any one of” the characters in the square brackets."
      ]
    },
    {
      "cell_type": "code",
      "metadata": {
        "colab": {
          "base_uri": "https://localhost:8080/"
        },
        "id": "j5s16gzWTVvz",
        "outputId": "f324c5f0-590e-4450-89e0-21e092e63c70"
      },
      "source": [
        "reodemo = re.compile(r' [bhp]eat ')\n",
        "matches = [itsamatch for itsamatch in sentences if reodemo.search(itsamatch)]\n",
        "matches"
      ],
      "execution_count": null,
      "outputs": [
        {
          "output_type": "execute_result",
          "data": {
            "text/plain": [
              "['The heart beat strongly and with firm strokes.',\n",
              " 'Burn peat after the logs give out.',\n",
              " 'Feel the heat of the weak dying flame.',\n",
              " 'A speedy man can beat this track mark.',\n",
              " 'Even the worst will beat his low score.',\n",
              " 'It takes heat to bring out the odor.']"
            ]
          },
          "metadata": {},
          "execution_count": 75
        }
      ]
    },
    {
      "cell_type": "markdown",
      "metadata": {
        "id": "81SrbbwoTVvz"
      },
      "source": [
        "#### Square brackets with ^ for negation.\n",
        "\n",
        "Match “anything but one of” the characters in the square brackets.\n",
        "\n",
        "(Be careful ... the carat ... ^ ... means something else in different context.)"
      ]
    },
    {
      "cell_type": "code",
      "metadata": {
        "colab": {
          "base_uri": "https://localhost:8080/"
        },
        "id": "6jTLML42TVvz",
        "outputId": "06583a4d-aa1f-4ffb-ae76-90f12d0f17dc"
      },
      "source": [
        "reodemo = re.compile(r' [^bhp]eat ')\n",
        "matches = [itsamatch for itsamatch in sentences if reodemo.search(itsamatch)]\n",
        "matches"
      ],
      "execution_count": null,
      "outputs": [
        {
          "output_type": "execute_result",
          "data": {
            "text/plain": [
              "['Pack the records in a neat thin case.', 'A clean neck means a neat collar.']"
            ]
          },
          "metadata": {},
          "execution_count": 76
        }
      ]
    },
    {
      "cell_type": "markdown",
      "metadata": {
        "id": "C38jgm0dTVv0"
      },
      "source": [
        "#### Square brackets for “or” over a range of characters"
      ]
    },
    {
      "cell_type": "code",
      "metadata": {
        "colab": {
          "base_uri": "https://localhost:8080/"
        },
        "id": "6yA7X2uSTVv0",
        "outputId": "9f22348c-e9c9-428b-d834-c6d4ceb08161"
      },
      "source": [
        "reodemo = re.compile(r' [b-p]eat ')\n",
        "matches = [itsamatch for itsamatch in sentences if reodemo.search(itsamatch)]\n",
        "matches"
      ],
      "execution_count": null,
      "outputs": [
        {
          "output_type": "execute_result",
          "data": {
            "text/plain": [
              "['The heart beat strongly and with firm strokes.',\n",
              " 'Burn peat after the logs give out.',\n",
              " 'Feel the heat of the weak dying flame.',\n",
              " 'A speedy man can beat this track mark.',\n",
              " 'Even the worst will beat his low score.',\n",
              " 'Pack the records in a neat thin case.',\n",
              " 'It takes heat to bring out the odor.',\n",
              " 'A clean neck means a neat collar.']"
            ]
          },
          "metadata": {},
          "execution_count": 77
        }
      ]
    },
    {
      "cell_type": "markdown",
      "metadata": {
        "id": "Yyy22gM7TVv0"
      },
      "source": [
        "#### Pipe operator for \"or\" over multi-character patterns\n",
        "\n",
        "When we need an “or” over multi-character patterns, we can use the “pipe” operator, using parentheses as necessary to identify what’s with what."
      ]
    },
    {
      "cell_type": "code",
      "metadata": {
        "colab": {
          "base_uri": "https://localhost:8080/"
        },
        "id": "nUlyai9-TVv0",
        "outputId": "61b8b4ec-1f5f-4a52-ea23-103c3e05c465"
      },
      "source": [
        "reodemo = re.compile(r'(black|blue|red)(currant|berry)')\n",
        "matches = [itsamatch for itsamatch in fruit if reodemo.search(itsamatch)]\n",
        "matches"
      ],
      "execution_count": null,
      "outputs": [
        {
          "output_type": "execute_result",
          "data": {
            "text/plain": [
              "['blackberry', 'blackcurrant', 'blueberry', 'redcurrant']"
            ]
          },
          "metadata": {},
          "execution_count": 78
        }
      ]
    },
    {
      "cell_type": "markdown",
      "metadata": {
        "id": "C8g9eg2CTVv0"
      },
      "source": [
        "#### Special characters and the backslash\n",
        "\n",
        "In addition to the backslash itself, there are several characters that have special meaning in Python regexes, and (may) have to be escaped in order to match the literal character. Here are the big ones: ^ $ . * + | ! ? ( ) [ ] { } < >.\n",
        "\n",
        "For example, the period – “.” – means “any character but a newline.” It’s a wildcard. We get different results when we escape or don’t escape it."
      ]
    },
    {
      "cell_type": "code",
      "metadata": {
        "colab": {
          "base_uri": "https://localhost:8080/"
        },
        "id": "4wEPg0buTVv1",
        "outputId": "d85ab869-5826-46bc-ae1d-e99c4b8bd612"
      },
      "source": [
        "allchars = re.findall(r'.',combined_string)\n",
        "print(allchars)"
      ],
      "execution_count": null,
      "outputs": [
        {
          "output_type": "stream",
          "name": "stdout",
          "text": [
            "['A', ' ', 'f', 'i', 'r', 's', 't', ' ', 's', 'e', 'n', 't', 'e', 'n', 'c', 'e', '!', ' ', 'W', 'o', 'w', ',', ' ', 't', 'w', 'o', ' ', 's', 'e', 'n', 't', 'e', 'n', 'c', 'e', 's', '.']\n"
          ]
        }
      ]
    },
    {
      "cell_type": "code",
      "metadata": {
        "colab": {
          "base_uri": "https://localhost:8080/"
        },
        "id": "14iWmfAITVv1",
        "outputId": "57f38f5f-b299-4890-9ba9-d011e4aa8de3"
      },
      "source": [
        "allperiods = re.findall(r'\\.',combined_string)\n",
        "print(allperiods)"
      ],
      "execution_count": null,
      "outputs": [
        {
          "output_type": "stream",
          "name": "stdout",
          "text": [
            "['.']\n"
          ]
        }
      ]
    },
    {
      "cell_type": "code",
      "metadata": {
        "colab": {
          "base_uri": "https://localhost:8080/"
        },
        "id": "xemhHUBJTVv1",
        "outputId": "4c42d3ef-9272-405e-c3c3-7b9fcffec3d9"
      },
      "source": [
        "matches = re.findall(r'e.',combined_string)\n",
        "print(matches)"
      ],
      "execution_count": null,
      "outputs": [
        {
          "output_type": "stream",
          "name": "stdout",
          "text": [
            "['en', 'en', 'e!', 'en', 'en', 'es']\n"
          ]
        }
      ]
    },
    {
      "cell_type": "code",
      "metadata": {
        "colab": {
          "base_uri": "https://localhost:8080/"
        },
        "id": "jyiLT2MCTVv1",
        "outputId": "cb9c54e4-1d19-49c4-ab92-dd2502160113"
      },
      "source": [
        "matches = re.findall(r'e\\.',combined_string)\n",
        "print(matches)"
      ],
      "execution_count": null,
      "outputs": [
        {
          "output_type": "stream",
          "name": "stdout",
          "text": [
            "[]\n"
          ]
        }
      ]
    },
    {
      "cell_type": "markdown",
      "metadata": {
        "id": "Y4JNa0AfTVv1"
      },
      "source": [
        "Some of these are only special characters in certain contexts and don’t have to be escaped to be recognized when not in those contexts. But they can be escaped in all circumstances and I recommend that rather than trying to figure out the exact rules.\n",
        "\n",
        "The exclamation point is such a character."
      ]
    },
    {
      "cell_type": "code",
      "metadata": {
        "colab": {
          "base_uri": "https://localhost:8080/"
        },
        "id": "O7EZcY-QTVv1",
        "outputId": "c0fd93a4-9c63-4fcb-fd85-9105fe040092"
      },
      "source": [
        "matches = re.findall(r'\\!',combined_string)\n",
        "print(matches)"
      ],
      "execution_count": null,
      "outputs": [
        {
          "output_type": "stream",
          "name": "stdout",
          "text": [
            "['!']\n"
          ]
        }
      ]
    },
    {
      "cell_type": "code",
      "metadata": {
        "colab": {
          "base_uri": "https://localhost:8080/"
        },
        "id": "RqJswR1XTVv2",
        "outputId": "18d8a3da-c1b9-4077-9cfa-01836c92559f"
      },
      "source": [
        "matches = re.findall(r'!',combined_string) # Not special char in this context, so still finds it\n",
        "print(matches)"
      ],
      "execution_count": null,
      "outputs": [
        {
          "output_type": "stream",
          "name": "stdout",
          "text": [
            "['!']\n"
          ]
        }
      ]
    },
    {
      "cell_type": "markdown",
      "metadata": {
        "id": "cx7stOoMTVv2"
      },
      "source": [
        "#### Class shorthands\n",
        "\n",
        "Conversely, there are a number of characters that have special meaning only when escaped. The main ones for now are “\\w” (any alphanumeric character), “\\s” (any space character), and “\\d” (any numeric digit). The capitalized versions of these are used to mean “anything but” that class."
      ]
    },
    {
      "cell_type": "code",
      "metadata": {
        "colab": {
          "base_uri": "https://localhost:8080/"
        },
        "id": "wUjBmSoLTVv2",
        "outputId": "dd079b0a-e419-4177-e12b-a1ad00f955af"
      },
      "source": [
        "matches = re.findall(r'\\w',combined_string) # any alphanumeric character\n",
        "print(matches)"
      ],
      "execution_count": null,
      "outputs": [
        {
          "output_type": "stream",
          "name": "stdout",
          "text": [
            "['A', 'f', 'i', 'r', 's', 't', 's', 'e', 'n', 't', 'e', 'n', 'c', 'e', 'W', 'o', 'w', 't', 'w', 'o', 's', 'e', 'n', 't', 'e', 'n', 'c', 'e', 's']\n"
          ]
        }
      ]
    },
    {
      "cell_type": "code",
      "metadata": {
        "colab": {
          "base_uri": "https://localhost:8080/"
        },
        "id": "-8OHe0MOTVv2",
        "outputId": "c922d06f-cfee-4a17-eb31-cf1d87b3d080"
      },
      "source": [
        "matches = re.findall(r'\\W',combined_string) # any non-alphanumeric character\n",
        "print(matches)"
      ],
      "execution_count": null,
      "outputs": [
        {
          "output_type": "stream",
          "name": "stdout",
          "text": [
            "[' ', ' ', '!', ' ', ',', ' ', ' ', '.']\n"
          ]
        }
      ]
    },
    {
      "cell_type": "code",
      "metadata": {
        "colab": {
          "base_uri": "https://localhost:8080/"
        },
        "id": "9PkcggvrTVv2",
        "outputId": "a0f9be2c-1dd6-4c8a-cd3c-150a9e9c55a3"
      },
      "source": [
        "matches = re.findall(r'\\s',combined_string) # any whitespace character\n",
        "print(matches)"
      ],
      "execution_count": null,
      "outputs": [
        {
          "output_type": "stream",
          "name": "stdout",
          "text": [
            "[' ', ' ', ' ', ' ', ' ']\n"
          ]
        }
      ]
    },
    {
      "cell_type": "code",
      "metadata": {
        "colab": {
          "base_uri": "https://localhost:8080/"
        },
        "id": "J01qTjAATVv3",
        "outputId": "1912fed1-32a7-49b3-c2d9-a1250a32512d"
      },
      "source": [
        "matches = re.findall(r'\\S',combined_string) # any non-whitespace character\n",
        "print(matches)"
      ],
      "execution_count": null,
      "outputs": [
        {
          "output_type": "stream",
          "name": "stdout",
          "text": [
            "['A', 'f', 'i', 'r', 's', 't', 's', 'e', 'n', 't', 'e', 'n', 'c', 'e', '!', 'W', 'o', 'w', ',', 't', 'w', 'o', 's', 'e', 'n', 't', 'e', 'n', 'c', 'e', 's', '.']\n"
          ]
        }
      ]
    },
    {
      "cell_type": "code",
      "metadata": {
        "colab": {
          "base_uri": "https://localhost:8080/"
        },
        "id": "ryB3hT-_TVv3",
        "outputId": "6606e3fa-9099-40bb-9b6d-ecfc0004d4a2"
      },
      "source": [
        "matches = re.findall(r'\\d',combined_string) # any digit character\n",
        "print(matches)"
      ],
      "execution_count": null,
      "outputs": [
        {
          "output_type": "stream",
          "name": "stdout",
          "text": [
            "[]\n"
          ]
        }
      ]
    },
    {
      "cell_type": "code",
      "metadata": {
        "colab": {
          "base_uri": "https://localhost:8080/"
        },
        "id": "gCayNPkQTVv3",
        "outputId": "c751c6c6-25b2-4278-fcb0-6320f8c7ddb7"
      },
      "source": [
        "matches = re.findall(r'\\D',combined_string) # any non-digit character\n",
        "print(matches)"
      ],
      "execution_count": null,
      "outputs": [
        {
          "output_type": "stream",
          "name": "stdout",
          "text": [
            "['A', ' ', 'f', 'i', 'r', 's', 't', ' ', 's', 'e', 'n', 't', 'e', 'n', 'c', 'e', '!', ' ', 'W', 'o', 'w', ',', ' ', 't', 'w', 'o', ' ', 's', 'e', 'n', 't', 'e', 'n', 'c', 'e', 's', '.']\n"
          ]
        }
      ]
    },
    {
      "cell_type": "markdown",
      "metadata": {
        "id": "ioqazDiETVv3"
      },
      "source": [
        "The Python re module does not directly support \"POSIX\" classes."
      ]
    },
    {
      "cell_type": "markdown",
      "metadata": {
        "id": "O5I8lTAXTVv3"
      },
      "source": [
        "#### Quantifiers: * (zero or more of the previous)\n",
        "\n",
        "This is also known as the “Kleene star” (pronounced clean-ee), after its original user (Kleene) who introduced the notation in formal logic."
      ]
    },
    {
      "cell_type": "code",
      "metadata": {
        "colab": {
          "base_uri": "https://localhost:8080/"
        },
        "id": "mI5wRYlNTVv3",
        "outputId": "3d29bbbc-4a1e-4504-9b8d-3ec6578aae51"
      },
      "source": [
        "matches = re.findall('\\d*',combined_string) # any string of zero or more digits\n",
        "print(matches)"
      ],
      "execution_count": null,
      "outputs": [
        {
          "output_type": "stream",
          "name": "stdout",
          "text": [
            "['', '', '', '', '', '', '', '', '', '', '', '', '', '', '', '', '', '', '', '', '', '', '', '', '', '', '', '', '', '', '', '', '', '', '', '', '', '']\n"
          ]
        }
      ]
    },
    {
      "cell_type": "markdown",
      "metadata": {
        "id": "LHciyytwTVv4"
      },
      "source": [
        "Note the \"zero\" or more led it to identify every position of the string as a match, many of them empty (containing no characters).\n",
        "\n",
        "#### Quantifiers: + (one or more of the previous)\n",
        "\n",
        "This is also known as the “Kleene plus.”"
      ]
    },
    {
      "cell_type": "code",
      "metadata": {
        "colab": {
          "base_uri": "https://localhost:8080/"
        },
        "id": "5UWJ4wQ0TVv4",
        "outputId": "2a90b7d2-8bcf-4b28-c86f-b4b77b9efa1d"
      },
      "source": [
        "matches = re.findall('\\d+',combined_string) # any string of zero or more digits\n",
        "print(matches)"
      ],
      "execution_count": null,
      "outputs": [
        {
          "output_type": "stream",
          "name": "stdout",
          "text": [
            "[]\n"
          ]
        }
      ]
    },
    {
      "cell_type": "markdown",
      "metadata": {
        "id": "ePy1u-XeTVv4"
      },
      "source": [
        "#### Quantifiers {n} {n,m} and {n,}\n",
        "\n",
        "{n} = “exactly n” of the previous\n",
        "{n,m} = “between n and m” of the previous\n",
        "{n,} = “n or more” of the previous"
      ]
    },
    {
      "cell_type": "code",
      "metadata": {
        "colab": {
          "base_uri": "https://localhost:8080/"
        },
        "id": "apm_0J3xTVv4",
        "outputId": "4b666ea6-be46-4bcc-c0c8-b8685133c311"
      },
      "source": [
        "matches = re.findall(r'x{3}','x xx xxx xxxx xxxxx') # 3 x's\n",
        "print(matches)"
      ],
      "execution_count": null,
      "outputs": [
        {
          "output_type": "stream",
          "name": "stdout",
          "text": [
            "['xxx', 'xxx', 'xxx']\n"
          ]
        }
      ]
    },
    {
      "cell_type": "code",
      "metadata": {
        "colab": {
          "base_uri": "https://localhost:8080/"
        },
        "id": "AP5_jjAWTVv4",
        "outputId": "707e1453-8607-499a-ec51-cdb47935a1fe"
      },
      "source": [
        "matches = re.findall(r'x{3,4}','x xx xxx xxxx xxxxx') # 3 or 4 x's\n",
        "print(matches)"
      ],
      "execution_count": null,
      "outputs": [
        {
          "output_type": "stream",
          "text": [
            "['xxx', 'xxxx', 'xxxx']\n"
          ],
          "name": "stdout"
        }
      ]
    },
    {
      "cell_type": "code",
      "metadata": {
        "colab": {
          "base_uri": "https://localhost:8080/"
        },
        "id": "rWsT9DuaTVv4",
        "outputId": "56946058-0cac-4219-bd76-94917654a007"
      },
      "source": [
        "matches = re.findall(r'x{3,}','x xx xxx xxxx xxxxx') # 3 or more x's\n",
        "print(matches)"
      ],
      "execution_count": null,
      "outputs": [
        {
          "output_type": "stream",
          "text": [
            "['xxx', 'xxxx', 'xxxxx']\n"
          ],
          "name": "stdout"
        }
      ]
    },
    {
      "cell_type": "markdown",
      "metadata": {
        "id": "LbSdP-FSTVv4"
      },
      "source": [
        "Were any of those unexpected? (Probably ... how many strings of 3 x's are in that string?) Use your regex viewer to see what's going on."
      ]
    },
    {
      "cell_type": "markdown",
      "metadata": {
        "id": "0P0Sc0zrTVv5"
      },
      "source": [
        "#### Quantifier ? (zero or one of the previous)"
      ]
    },
    {
      "cell_type": "code",
      "metadata": {
        "colab": {
          "base_uri": "https://localhost:8080/"
        },
        "id": "ylhcx2U4TVv5",
        "outputId": "7acaa0ad-7d91-47ba-9e0c-c1636a6672dd"
      },
      "source": [
        "matches = re.findall(r'\\d?', combined_string) # any string of zero or one digits\n",
        "print(matches)"
      ],
      "execution_count": null,
      "outputs": [
        {
          "output_type": "stream",
          "name": "stdout",
          "text": [
            "['', '', '', '', '', '', '', '', '', '', '', '', '', '', '', '', '', '', '', '', '', '', '', '', '', '', '', '', '', '', '', '', '', '', '', '', '', '']\n"
          ]
        }
      ]
    },
    {
      "cell_type": "code",
      "metadata": {
        "colab": {
          "base_uri": "https://localhost:8080/"
        },
        "id": "nUmPJ0v_TVv5",
        "outputId": "ff1497d6-07d1-4b57-d58a-655e29c24061"
      },
      "source": [
        "reodemo = re.compile(r' [bp]?eat ')\n",
        "matches = [itsamatch for itsamatch in sentences if reodemo.search(itsamatch)]\n",
        "matches"
      ],
      "execution_count": null,
      "outputs": [
        {
          "output_type": "execute_result",
          "data": {
            "text/plain": [
              "['The heart beat strongly and with firm strokes.',\n",
              " 'Burn peat after the logs give out.',\n",
              " 'A speedy man can beat this track mark.',\n",
              " 'Even the worst will beat his low score.',\n",
              " 'Quench your thirst, then eat the crackers.']"
            ]
          },
          "metadata": {},
          "execution_count": 100
        }
      ]
    },
    {
      "cell_type": "markdown",
      "metadata": {
        "id": "mkidoMuUTVv5"
      },
      "source": [
        "#### Question Mark as Nongreedy Modifier to Quantifier (smallest match of previous possible)\n"
      ]
    },
    {
      "cell_type": "code",
      "metadata": {
        "colab": {
          "base_uri": "https://localhost:8080/"
        },
        "id": "z6VAqg5DTVv5",
        "outputId": "4e2367f1-07cd-484e-9cd3-4a5d00cef478"
      },
      "source": [
        "# greedy - roughly, longest match\n",
        "matches = re.findall(r'\\(.+\\)','(First bracketed statement) Other text (Second bracketed statement)')\n",
        "print(matches)"
      ],
      "execution_count": null,
      "outputs": [
        {
          "output_type": "stream",
          "name": "stdout",
          "text": [
            "['(First bracketed statement) Other text (Second bracketed statement)']\n"
          ]
        }
      ]
    },
    {
      "cell_type": "code",
      "metadata": {
        "colab": {
          "base_uri": "https://localhost:8080/"
        },
        "id": "spOCIZBuTVv5",
        "outputId": "c063e992-62f7-4f10-95ac-84c21ba85e02"
      },
      "source": [
        "# nongreedy - roughly, smallest matches\n",
        "matches = re.findall(r'\\(.+?\\)','(First bracketed statement) Other text (Second bracketed statement)')\n",
        "print(matches)"
      ],
      "execution_count": null,
      "outputs": [
        {
          "output_type": "stream",
          "name": "stdout",
          "text": [
            "['(First bracketed statement)', '(Second bracketed statement)']\n"
          ]
        }
      ]
    },
    {
      "cell_type": "code",
      "metadata": {
        "colab": {
          "base_uri": "https://localhost:8080/"
        },
        "id": "2qSe2kB6TVv6",
        "outputId": "c34aa84b-8da3-455a-a948-c549109f8144"
      },
      "source": [
        "# greedy - matches whole string\n",
        "matches = re.findall(r'x.+x','x xx xxx xxxx xxxxx')\n",
        "print(matches)"
      ],
      "execution_count": null,
      "outputs": [
        {
          "output_type": "stream",
          "name": "stdout",
          "text": [
            "['x xx xxx xxxx xxxxx']\n"
          ]
        }
      ]
    },
    {
      "cell_type": "code",
      "metadata": {
        "colab": {
          "base_uri": "https://localhost:8080/"
        },
        "id": "U7Y3VlDeTVv6",
        "outputId": "3677c71a-3362-45af-8756-2728cff4dab1"
      },
      "source": [
        "# nongreedy - minimal match as placeholder moves across string\n",
        "matches = re.findall(r'x.+?x','x xx xxx xxxx xxxxx')\n",
        "print(matches)"
      ],
      "execution_count": null,
      "outputs": [
        {
          "output_type": "stream",
          "name": "stdout",
          "text": [
            "['x x', 'x x', 'xx x', 'xxx', 'xxx']\n"
          ]
        }
      ]
    },
    {
      "cell_type": "markdown",
      "metadata": {
        "id": "Esi7o-hxTVv6"
      },
      "source": [
        "#### Anchors at beginning and end of string"
      ]
    },
    {
      "cell_type": "code",
      "metadata": {
        "colab": {
          "base_uri": "https://localhost:8080/"
        },
        "id": "VCUd22KbTVv6",
        "outputId": "87ef5498-84f7-4b97-90b1-a1a4609da350"
      },
      "source": [
        "matches = re.findall(r'^\\w+',combined_string) # ^ is beginning of string\n",
        "print(matches)"
      ],
      "execution_count": null,
      "outputs": [
        {
          "output_type": "stream",
          "name": "stdout",
          "text": [
            "['A']\n"
          ]
        }
      ]
    },
    {
      "cell_type": "code",
      "metadata": {
        "colab": {
          "base_uri": "https://localhost:8080/"
        },
        "id": "seXn9HB-TVv6",
        "outputId": "7ee2684f-57ec-4005-82a5-236692c014b0"
      },
      "source": [
        "matches = re.findall(r'\\w+$',combined_string) # $ is end of string\n",
        "print(matches)"
      ],
      "execution_count": null,
      "outputs": [
        {
          "output_type": "stream",
          "name": "stdout",
          "text": [
            "[]\n"
          ]
        }
      ]
    },
    {
      "cell_type": "code",
      "metadata": {
        "colab": {
          "base_uri": "https://localhost:8080/"
        },
        "id": "VGasQaPVTVv6",
        "outputId": "46d4f570-9282-4494-97b6-aa417604d4a7"
      },
      "source": [
        "matches = re.findall(r'\\W+$',combined_string) # $ is end of string\n",
        "print(matches)"
      ],
      "execution_count": null,
      "outputs": [
        {
          "output_type": "stream",
          "name": "stdout",
          "text": [
            "['.']\n"
          ]
        }
      ]
    },
    {
      "cell_type": "markdown",
      "metadata": {
        "id": "Ndd0HAcWTVv6"
      },
      "source": [
        "#### Anchors at word boundaries"
      ]
    },
    {
      "cell_type": "markdown",
      "metadata": {
        "id": "ENRwDSOzTVv7"
      },
      "source": [
        "Similarly, we can identify \"word boundaries\" with \\b. This solves the greedy/nongreedy problem we had with the ”x\" sequences above. "
      ]
    },
    {
      "cell_type": "code",
      "metadata": {
        "colab": {
          "base_uri": "https://localhost:8080/"
        },
        "id": "i9OWyEFKTVv7",
        "outputId": "706ec215-66d1-4579-89af-f431b9188d40"
      },
      "source": [
        "matches = re.findall(r'\\bx.*?\\b','x xx xxx xxxx xxxxx')\n",
        "print(matches)"
      ],
      "execution_count": null,
      "outputs": [
        {
          "output_type": "stream",
          "name": "stdout",
          "text": [
            "['x', 'xx', 'xxx', 'xxxx', 'xxxxx']\n"
          ]
        }
      ]
    },
    {
      "cell_type": "code",
      "metadata": {
        "colab": {
          "base_uri": "https://localhost:8080/"
        },
        "id": "mJBoX67YTVv7",
        "outputId": "3c8c4f6f-c944-445c-cd08-4e3db6f9a014"
      },
      "source": [
        "matches = re.findall(r'\\b\\w+?\\b',combined_string) \n",
        "print(matches)"
      ],
      "execution_count": null,
      "outputs": [
        {
          "output_type": "stream",
          "name": "stdout",
          "text": [
            "['A', 'first', 'sentence', 'Wow', 'two', 'sentences']\n"
          ]
        }
      ]
    },
    {
      "cell_type": "markdown",
      "metadata": {
        "id": "AbLhz4lHTVv7"
      },
      "source": [
        "#### Capture groups\n",
        "\n",
        "When we use parentheses, it tells the regex engine to capture the part of the match enclosed in parentheses. Each set of parentheses defines its own \"capture group\" and these are held in the group() attribute of the match object. Whether there are parentheses are not, the entire match is held in group(0). Smaller parts are in group(1), group(2), etc."
      ]
    },
    {
      "cell_type": "code",
      "metadata": {
        "colab": {
          "base_uri": "https://localhost:8080/"
        },
        "id": "9M4h_C30TVv7",
        "outputId": "1cbab44a-f563-4f1c-f537-c2841be2da94"
      },
      "source": [
        "matches = [re.search(r'^(.+?)(berry|fruit)$',fr) for fr in fruit]\n",
        "for match in matches:\n",
        "    if match:\n",
        "        print(match.group(0), match.group(1), match.group(2))"
      ],
      "execution_count": null,
      "outputs": [
        {
          "output_type": "stream",
          "name": "stdout",
          "text": [
            "bilberry bil berry\n",
            "blackberry black berry\n",
            "blueberry blue berry\n",
            "boysenberry boysen berry\n",
            "breadfruit bread fruit\n",
            "cloudberry cloud berry\n",
            "cranberry cran berry\n",
            "dragonfruit dragon fruit\n",
            "elderberry elder berry\n",
            "goji berry goji  berry\n",
            "gooseberry goose berry\n",
            "grapefruit grape fruit\n",
            "huckleberry huckle berry\n",
            "jackfruit jack fruit\n",
            "kiwi fruit kiwi  fruit\n",
            "mulberry mul berry\n",
            "passionfruit passion fruit\n",
            "raspberry rasp berry\n",
            "salal berry salal  berry\n",
            "star fruit star  fruit\n",
            "strawberry straw berry\n",
            "ugli fruit ugli  fruit\n"
          ]
        }
      ]
    },
    {
      "cell_type": "markdown",
      "metadata": {
        "id": "T5NffUPuTVv7"
      },
      "source": [
        "## An example\n",
        "\n",
        "Consider the following text from a Congressional Bill. We're going to try to use regular expressions to make data out of the appropriations dollars and purposes in bullets 1-9."
      ]
    },
    {
      "cell_type": "code",
      "metadata": {
        "id": "WTBvd-1jTVv8"
      },
      "source": [
        "text = \"\"\"SEC. 101. FISCAL YEAR 2017.\n",
        "(a) In General.--There are authorized to be appropriated to NASA\n",
        "for fiscal year 2017 $19,508,000,000, as follows:\n",
        "(1) For Exploration, $4,330,000,000.\n",
        "(2) For Space Operations, $5,023,000,000.\n",
        "(3) For Science, $5,500,000,000.\n",
        "(4) For Aeronautics, $640,000,000.\n",
        "(5) For Space Technology, $686,000,000.\n",
        "(6) For Education, $115,000,000.\n",
        "(7) For Safety, Security, and Mission Services,\n",
        "$2,788,600,000.\n",
        "(8) For Construction and Environmental Compliance and\n",
        "Restoration, $388,000,000.\n",
        "(9) For Inspector General, $37,400,000.\n",
        "(b) Exception.--In addition to the amounts authorized to be\n",
        "appropriated for each account under subsection (a), there are\n",
        "authorized to be appropriated additional funds for each such account,\n",
        "but only if the authorized amounts for all such accounts are fully\n",
        "provided for in annual appropriation Acts, consistent with the\n",
        "discretionary spending limits in section 251(c) of the Balanced Budget\n",
        "and Emergency Deficit Control Act of 1985.\"\"\""
      ],
      "execution_count": null,
      "outputs": []
    },
    {
      "cell_type": "markdown",
      "metadata": {
        "id": "-0_TtpbXdfro"
      },
      "source": [
        "Note that's *one* string with a bunch of newline characters."
      ]
    },
    {
      "cell_type": "code",
      "metadata": {
        "colab": {
          "base_uri": "https://localhost:8080/",
          "height": 174
        },
        "id": "naeIvs2MTVv8",
        "outputId": "143ae843-f0d9-4e44-9be1-66d56d35dad8"
      },
      "source": [
        "text"
      ],
      "execution_count": null,
      "outputs": [
        {
          "output_type": "execute_result",
          "data": {
            "text/plain": [
              "'SEC. 101. FISCAL YEAR 2017.\\n(a) In General.--There are authorized to be appropriated to NASA\\nfor fiscal year 2017 $19,508,000,000, as follows:\\n(1) For Exploration, $4,330,000,000.\\n(2) For Space Operations, $5,023,000,000.\\n(3) For Science, $5,500,000,000.\\n(4) For Aeronautics, $640,000,000.\\n(5) For Space Technology, $686,000,000.\\n(6) For Education, $115,000,000.\\n(7) For Safety, Security, and Mission Services,\\n$2,788,600,000.\\n(8) For Construction and Environmental Compliance and\\nRestoration, $388,000,000.\\n(9) For Inspector General, $37,400,000.\\n(b) Exception.--In addition to the amounts authorized to be\\nappropriated for each account under subsection (a), there are\\nauthorized to be appropriated additional funds for each such account,\\nbut only if the authorized amounts for all such accounts are fully\\nprovided for in annual appropriation Acts, consistent with the\\ndiscretionary spending limits in section 251(c) of the Balanced Budget\\nand Emergency Deficit Control Act of 1985.'"
            ],
            "application/vnd.google.colaboratory.intrinsic+json": {
              "type": "string"
            }
          },
          "metadata": {},
          "execution_count": 112
        }
      ]
    },
    {
      "cell_type": "markdown",
      "metadata": {
        "id": "bQefqyzRTVv8"
      },
      "source": [
        "Lets play around with a few things. Extract all contiguous sequences of one or more numbers."
      ]
    },
    {
      "cell_type": "code",
      "metadata": {
        "colab": {
          "base_uri": "https://localhost:8080/"
        },
        "id": "4sRXAYciTVv8",
        "outputId": "80e9859a-7cf9-41c2-97bc-0ae1bbd76a19"
      },
      "source": [
        "digitmatches = re.findall(r'[0-9]+',text) # one or more consecutive digits\n",
        "print(digitmatches)"
      ],
      "execution_count": null,
      "outputs": [
        {
          "output_type": "stream",
          "name": "stdout",
          "text": [
            "['101', '2017', '2017', '19', '508', '000', '000', '1', '4', '330', '000', '000', '2', '5', '023', '000', '000', '3', '5', '500', '000', '000', '4', '640', '000', '000', '5', '686', '000', '000', '6', '115', '000', '000', '7', '2', '788', '600', '000', '8', '388', '000', '000', '9', '37', '400', '000', '251', '1985']\n"
          ]
        }
      ]
    },
    {
      "cell_type": "markdown",
      "metadata": {
        "id": "eltFzL6jTVv8"
      },
      "source": [
        "That does two things we don't like ... separates numbers at the 1000s separating comma and gets numbers (\"101\", \"2017\", etc.) that aren't dollar amounts. So, let's try getting everything that:\n",
        "* Starts with a \"$\" (which needs to be escaped)\n",
        "* Followed by one or more strings of commas or digits."
      ]
    },
    {
      "cell_type": "code",
      "metadata": {
        "colab": {
          "base_uri": "https://localhost:8080/"
        },
        "id": "H5RHIc6pTVv9",
        "outputId": "0767bd7f-cb73-4ec0-e0ab-4aad1ff4b3e0"
      },
      "source": [
        "dollarmatches = re.findall(r'\\$[,0-9]+',text) # $ followed by one or more digits or commas\n",
        "print(dollarmatches)"
      ],
      "execution_count": null,
      "outputs": [
        {
          "output_type": "stream",
          "name": "stdout",
          "text": [
            "['$19,508,000,000,', '$4,330,000,000', '$5,023,000,000', '$5,500,000,000', '$640,000,000', '$686,000,000', '$115,000,000', '$2,788,600,000', '$388,000,000', '$37,400,000']\n"
          ]
        }
      ]
    },
    {
      "cell_type": "markdown",
      "metadata": {
        "id": "wF7WKPJ0TVv_"
      },
      "source": [
        "Almost ... don't like that extra comma on the first number. Let's require it to end with a number."
      ]
    },
    {
      "cell_type": "code",
      "metadata": {
        "colab": {
          "base_uri": "https://localhost:8080/"
        },
        "id": "_ZbwDeuTTVwA",
        "outputId": "080e2c16-0601-4e8b-edff-08ec2248634b"
      },
      "source": [
        "dollarmatches2 = re.findall(r'\\$[,0-9]+[0-9]',text) # $ followed by one or more digits or commas AND ENDS IN A NUMBER\n",
        "print(dollarmatches2)"
      ],
      "execution_count": null,
      "outputs": [
        {
          "output_type": "stream",
          "name": "stdout",
          "text": [
            "['$19,508,000,000', '$4,330,000,000', '$5,023,000,000', '$5,500,000,000', '$640,000,000', '$686,000,000', '$115,000,000', '$2,788,600,000', '$388,000,000', '$37,400,000']\n"
          ]
        }
      ]
    },
    {
      "cell_type": "markdown",
      "metadata": {
        "id": "obM-sCKHTVwA"
      },
      "source": [
        "The things we want are demarcated by numbered items in parentheses. Let's see if we can extract those:"
      ]
    },
    {
      "cell_type": "code",
      "metadata": {
        "colab": {
          "base_uri": "https://localhost:8080/"
        },
        "id": "97pJfQXGTVwA",
        "outputId": "62002399-becd-4f85-fb24-f2d7681ba9e3"
      },
      "source": [
        "bulletmatches = re.findall(r'\\([0-9]\\)',text) # ( followed by a digit followed by )\n",
        "print(bulletmatches)"
      ],
      "execution_count": null,
      "outputs": [
        {
          "output_type": "stream",
          "name": "stdout",
          "text": [
            "['(1)', '(2)', '(3)', '(4)', '(5)', '(6)', '(7)', '(8)', '(9)']\n"
          ]
        }
      ]
    },
    {
      "cell_type": "markdown",
      "metadata": {
        "id": "Ar_3FvHnTVwA"
      },
      "source": [
        "Let's go back to the original and get rid of the newlines. Note that the string.replace() method doesn't accept regular expressions and you need to use re.sub()."
      ]
    },
    {
      "cell_type": "code",
      "metadata": {
        "id": "09jJdhpJTVwA"
      },
      "source": [
        "one_line = re.sub('\\n',' ',text)\n",
        "one_line"
      ],
      "execution_count": null,
      "outputs": []
    },
    {
      "cell_type": "markdown",
      "metadata": {
        "id": "kC3xoYluTVwA"
      },
      "source": [
        "and find all the matches from \"(number)\" to a period, lazily rather than greedily:"
      ]
    },
    {
      "cell_type": "code",
      "metadata": {
        "id": "rPlVW3KDTVwB"
      },
      "source": [
        "item_strings = re.findall('\\(\\d\\).+?\\.', one_line)\n",
        "print(item_strings)"
      ],
      "execution_count": null,
      "outputs": []
    },
    {
      "cell_type": "markdown",
      "metadata": {
        "id": "Q8o6uIpGTVwB"
      },
      "source": [
        "We can use a capture group to gather just the \"for what\" data ..."
      ]
    },
    {
      "cell_type": "code",
      "metadata": {
        "colab": {
          "base_uri": "https://localhost:8080/"
        },
        "id": "63GGcpWvTVwB",
        "outputId": "62856fce-25c1-420b-e6ea-c316eb71c1d9"
      },
      "source": [
        "for_matches = [re.search(r'For (.+), \\$', item_string) for item_string in item_strings]\n",
        "for_strings = [for_match.group(1) for for_match in for_matches if for_match]\n",
        "for_strings"
      ],
      "execution_count": null,
      "outputs": [
        {
          "output_type": "execute_result",
          "data": {
            "text/plain": [
              "['Exploration',\n",
              " 'Space Operations',\n",
              " 'Science',\n",
              " 'Aeronautics',\n",
              " 'Space Technology',\n",
              " 'Education',\n",
              " 'Safety, Security, and Mission Services',\n",
              " 'Construction and Environmental Compliance and Restoration',\n",
              " 'Inspector General']"
            ]
          },
          "metadata": {},
          "execution_count": 119
        }
      ]
    },
    {
      "cell_type": "markdown",
      "metadata": {
        "id": "16OyEoExTVwB"
      },
      "source": [
        "We can also use a capture group just for the money data"
      ]
    },
    {
      "cell_type": "code",
      "metadata": {
        "colab": {
          "base_uri": "https://localhost:8080/"
        },
        "id": "TCedwF-NTVwB",
        "outputId": "10e0b314-8da4-41b1-c022-8da4f0d6e331"
      },
      "source": [
        "money_matches = [re.search(r'\\$([,\\d]+)', item_string) for item_string in item_strings]\n",
        "money_strings = [money_match.group(1) for money_match in money_matches if money_match]\n",
        "money_strings"
      ],
      "execution_count": null,
      "outputs": [
        {
          "output_type": "execute_result",
          "data": {
            "text/plain": [
              "['4,330,000,000',\n",
              " '5,023,000,000',\n",
              " '5,500,000,000',\n",
              " '640,000,000',\n",
              " '686,000,000',\n",
              " '115,000,000',\n",
              " '2,788,600,000',\n",
              " '388,000,000',\n",
              " '37,400,000']"
            ]
          },
          "metadata": {},
          "execution_count": 120
        }
      ]
    },
    {
      "cell_type": "markdown",
      "metadata": {
        "id": "hDGE9dZrTVwB"
      },
      "source": [
        "We'll probably want those just to be numbers, so we'll strip the $ sign and commas:"
      ]
    },
    {
      "cell_type": "code",
      "metadata": {
        "colab": {
          "base_uri": "https://localhost:8080/"
        },
        "id": "VNra1_xETVwB",
        "outputId": "da76b234-49f4-4541-ad22-6bd32e2529e5"
      },
      "source": [
        "money_strings_clean = [re.sub('[\\$,]','',moneystring) for moneystring in money_strings]\n",
        "money_strings_clean"
      ],
      "execution_count": null,
      "outputs": [
        {
          "output_type": "execute_result",
          "data": {
            "text/plain": [
              "['4330000000',\n",
              " '5023000000',\n",
              " '5500000000',\n",
              " '640000000',\n",
              " '686000000',\n",
              " '115000000',\n",
              " '2788600000',\n",
              " '388000000',\n",
              " '37400000']"
            ]
          },
          "metadata": {},
          "execution_count": 121
        }
      ]
    },
    {
      "cell_type": "markdown",
      "metadata": {
        "id": "yBef-b8Rfby5"
      },
      "source": [
        "We'll turn that into numbers and reformat them as millions."
      ]
    },
    {
      "cell_type": "code",
      "metadata": {
        "id": "4duIaPg_eyb0"
      },
      "source": [
        "millions=[int(x)/10e6 for x in money_strings_clean]"
      ],
      "execution_count": null,
      "outputs": []
    },
    {
      "cell_type": "markdown",
      "metadata": {
        "id": "0Q1H9WUVTVwC"
      },
      "source": [
        "Finally, we can format the data in a pandas dataframe for later processing."
      ]
    },
    {
      "cell_type": "code",
      "metadata": {
        "colab": {
          "base_uri": "https://localhost:8080/"
        },
        "id": "jkVqA9XneIk4",
        "outputId": "e607aa35-6fd1-4799-a04f-3b532057dba0"
      },
      "source": [
        "# we already imported pandas above\n",
        "appropriations_df = pd.DataFrame({'item': for_strings,'mdollars': millions})\n",
        "print(appropriations_df)"
      ],
      "execution_count": null,
      "outputs": [
        {
          "output_type": "stream",
          "name": "stdout",
          "text": [
            "                                                item  mdollars\n",
            "0                                        Exploration    433.00\n",
            "1                                   Space Operations    502.30\n",
            "2                                            Science    550.00\n",
            "3                                        Aeronautics     64.00\n",
            "4                                   Space Technology     68.60\n",
            "5                                          Education     11.50\n",
            "6             Safety, Security, and Mission Services    278.86\n",
            "7  Construction and Environmental Compliance and ...     38.80\n",
            "8                                  Inspector General      3.74\n"
          ]
        }
      ]
    }
  ]
}