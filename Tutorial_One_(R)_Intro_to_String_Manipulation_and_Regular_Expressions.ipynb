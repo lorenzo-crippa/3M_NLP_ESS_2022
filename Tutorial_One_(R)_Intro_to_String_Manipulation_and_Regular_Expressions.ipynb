{
  "nbformat": 4,
  "nbformat_minor": 0,
  "metadata": {
    "colab": {
      "name": "Tutorial One (R): Intro to String Manipulation and Regular Expressions",
      "provenance": [],
      "include_colab_link": true
    },
    "kernelspec": {
      "name": "ir",
      "display_name": "R"
    },
    "language_info": {
      "name": "R"
    },
    "gpuClass": "standard"
  },
  "cells": [
    {
      "cell_type": "markdown",
      "metadata": {
        "id": "view-in-github",
        "colab_type": "text"
      },
      "source": [
        "<a href=\"https://colab.research.google.com/github/lorenzo-crippa/3M_NLP_ESS_2022/blob/main/Tutorial_One_(R)_Intro_to_String_Manipulation_and_Regular_Expressions.ipynb\" target=\"_parent\"><img src=\"https://colab.research.google.com/assets/colab-badge.svg\" alt=\"Open In Colab\"/></a>"
      ]
    },
    {
      "cell_type": "markdown",
      "metadata": {
        "id": "5I83O24uCtuh"
      },
      "source": [
        "# Intro to String Manipulation and Regular Expressions in R\n",
        "\n",
        "### Douglas Rice\n",
        "\n",
        "In this notebook, we'll learn about doing standard natural language processing (NLP) tasks in R, and will be introduced to regular expressions. After completing this notebook, you should be familar with:\n",
        "\n",
        "\n",
        "1.   Manipulating strings in R.\n",
        "2.   Extracting elements from strings / vectors.\n",
        "3. Working with Regular Expressions in R\n",
        "\n",
        "\n",
        "\n",
        "\n",
        "\n",
        "# Working with Strings\n",
        "\n",
        "Our focus is on \"strings\", or ordered sequences of characters. Importantly, a string can be short (\"Hello!\"), long (\"supercalafragalisticexpealadotios!\"), much longer (like a book), and everything in between. In a word, strings are text. \n",
        "\n"
      ]
    },
    {
      "cell_type": "markdown",
      "metadata": {
        "id": "w2luVfeeC5sP"
      },
      "source": [
        "## Setup"
      ]
    },
    {
      "cell_type": "code",
      "metadata": {
        "colab": {
          "base_uri": "https://localhost:8080/"
        },
        "id": "B20QmKpR8CSm",
        "outputId": "cbf9f762-b79d-4f0a-9cb3-da389761a700"
      },
      "source": [
        "install.packages(\"quanteda\")\n",
        "\n",
        "library(quanteda)\n",
        "library(tidyverse)"
      ],
      "execution_count": null,
      "outputs": [
        {
          "output_type": "stream",
          "name": "stderr",
          "text": [
            "Installing package into ‘/usr/local/lib/R/site-library’\n",
            "(as ‘lib’ is unspecified)\n",
            "\n"
          ]
        }
      ]
    },
    {
      "cell_type": "markdown",
      "source": [
        "## Working with Strings\n",
        "\n",
        "Let's look at a string. These can be specified using double quotes (“) or single quotes (’):"
      ],
      "metadata": {
        "id": "vlGlL9yL93PL"
      }
    },
    {
      "cell_type": "code",
      "source": [
        "a_string <- 'Example STRING, with numbers (12, 15 and also 10.2)?!'\n",
        "a_string"
      ],
      "metadata": {
        "colab": {
          "base_uri": "https://localhost:8080/",
          "height": 34
        },
        "id": "pB_OYpFfQWWq",
        "outputId": "1ca5c1d1-be1d-457c-cfbd-375d8b56f47a"
      },
      "execution_count": null,
      "outputs": [
        {
          "output_type": "display_data",
          "data": {
            "text/html": [
              "'Example STRING, with numbers (12, 15 and also 10.2)?!'"
            ],
            "text/markdown": "'Example STRING, with numbers (12, 15 and also 10.2)?!'",
            "text/latex": "'Example STRING, with numbers (12, 15 and also 10.2)?!'",
            "text/plain": [
              "[1] \"Example STRING, with numbers (12, 15 and also 10.2)?!\""
            ]
          },
          "metadata": {}
        }
      ]
    },
    {
      "cell_type": "markdown",
      "source": [
        "What happens if you use one of the quotes that *is* inside the string? "
      ],
      "metadata": {
        "id": "KOjkmTMtQZaK"
      }
    },
    {
      "cell_type": "code",
      "source": [
        "#my_whoops_string <- \"He asked, \"Why would you use double quotes\"\""
      ],
      "metadata": {
        "id": "r-1N3UdAQiIs"
      },
      "execution_count": null,
      "outputs": []
    },
    {
      "cell_type": "markdown",
      "source": [
        "Ah, a dreaded syntax error! This is because quotes are *special characters*; they signify something in the programming language. \n",
        "\n",
        "To get around this conundrum, you can use a \\ (backslash) to tell R to *escape* the next character. In the example below, the \\\" is saying, \" is part of the string, not the end of the string."
      ],
      "metadata": {
        "id": "JsUKH2nxQff-"
      }
    },
    {
      "cell_type": "code",
      "source": [
        "my_string_with_double_quotes <- \"She answered, \\\"Convenience, but you never really have to.\\\"\"\n",
        "my_string_with_double_quotes"
      ],
      "metadata": {
        "colab": {
          "base_uri": "https://localhost:8080/",
          "height": 34
        },
        "id": "j7mHzeXYQzKR",
        "outputId": "9a020f28-84fe-4bc5-86e2-d5c204c2fb83"
      },
      "execution_count": null,
      "outputs": [
        {
          "output_type": "display_data",
          "data": {
            "text/html": [
              "'She answered, \"Convenience, but you never really have to.\"'"
            ],
            "text/markdown": "'She answered, \"Convenience, but you never really have to.\"'",
            "text/latex": "'She answered, \"Convenience, but you never really have to.\"'",
            "text/plain": [
              "[1] \"She answered, \\\"Convenience, but you never really have to.\\\"\""
            ]
          },
          "metadata": {}
        }
      ]
    },
    {
      "cell_type": "markdown",
      "source": [
        "If you ever want to see how your string with escape characters displays when printed or (typically) in an editor, use `writeLines()`."
      ],
      "metadata": {
        "id": "X63LVy2VQ1fG"
      }
    },
    {
      "cell_type": "code",
      "source": [
        "writeLines(my_string_with_double_quotes)"
      ],
      "metadata": {
        "colab": {
          "base_uri": "https://localhost:8080/"
        },
        "id": "072gO7PMQ55a",
        "outputId": "6d9ca824-470b-497c-d8b5-40a7cd749f8c"
      },
      "execution_count": null,
      "outputs": [
        {
          "output_type": "stream",
          "name": "stdout",
          "text": [
            "She answered, \"Convenience, but you never really have to.\"\n"
          ]
        }
      ]
    },
    {
      "cell_type": "markdown",
      "source": [
        "This can get a little bit confusing. For example, since the backslash character tells R to escape, to indicate an actual backslash character you have to backslash your backslashes:"
      ],
      "metadata": {
        "id": "QavNuRjzQ82E"
      }
    },
    {
      "cell_type": "code",
      "source": [
        "a_string_with_backslashes <- \"To indicate a backslash, \\\\, you have to type two: \\\\\\\\. Just there, to indicate two backslashes, I had to type four: \\\\\\\\\\\\\\\\.\"\n",
        "a_string_with_backslashes"
      ],
      "metadata": {
        "colab": {
          "base_uri": "https://localhost:8080/",
          "height": 34
        },
        "id": "Yvk69PMhRAHV",
        "outputId": "f657ff1a-e176-4cd7-87f6-5495228a6c9e"
      },
      "execution_count": null,
      "outputs": [
        {
          "output_type": "display_data",
          "data": {
            "text/html": [
              "'To indicate a backslash, \\\\, you have to type two: \\\\\\\\. Just there, to indicate two backslashes, I had to type four: \\\\\\\\\\\\\\\\.'"
            ],
            "text/markdown": "'To indicate a backslash, \\\\, you have to type two: \\\\\\\\. Just there, to indicate two backslashes, I had to type four: \\\\\\\\\\\\\\\\.'",
            "text/latex": "'To indicate a backslash, \\textbackslash{}\\textbackslash{}, you have to type two: \\textbackslash{}\\textbackslash{}\\textbackslash{}\\textbackslash{}. Just there, to indicate two backslashes, I had to type four: \\textbackslash{}\\textbackslash{}\\textbackslash{}\\textbackslash{}\\textbackslash{}\\textbackslash{}\\textbackslash{}\\textbackslash{}.'",
            "text/plain": [
              "[1] \"To indicate a backslash, \\\\, you have to type two: \\\\\\\\. Just there, to indicate two backslashes, I had to type four: \\\\\\\\\\\\\\\\.\""
            ]
          },
          "metadata": {}
        }
      ]
    },
    {
      "cell_type": "code",
      "source": [
        "writeLines(a_string_with_backslashes)"
      ],
      "metadata": {
        "colab": {
          "base_uri": "https://localhost:8080/"
        },
        "id": "cN4AgekURB-r",
        "outputId": "158715cb-31e0-4aec-a84f-6fc3c8ba9370"
      },
      "execution_count": null,
      "outputs": [
        {
          "output_type": "stream",
          "name": "stdout",
          "text": [
            "To indicate a backslash, \\, you have to type two: \\\\. Just there, to indicate two backslashes, I had to type four: \\\\\\\\.\n"
          ]
        }
      ]
    },
    {
      "cell_type": "markdown",
      "source": [
        "## Other Escape Characters\n",
        "\n",
        "As mentioned above, quotes (single or double) are just one many special escape characters that are used to perform special functions. The most common are two that you’re already used to tapping a keyboard key for without expecting a character to appear on your screen: \\t (tab) and \\n (newline, or \"Enter\")."
      ],
      "metadata": {
        "id": "LpCtVEw9RFav"
      }
    },
    {
      "cell_type": "code",
      "source": [
        "test_string <- \"Hark, a Lark!\\t*Tweet Tweet*\\n  \\nWhere'd it go?\"\n",
        "test_string"
      ],
      "metadata": {
        "colab": {
          "base_uri": "https://localhost:8080/",
          "height": 34
        },
        "id": "MBKH0uEFRJQB",
        "outputId": "4bef602d-a98d-4654-8bc7-8065c6b45423"
      },
      "execution_count": null,
      "outputs": [
        {
          "output_type": "display_data",
          "data": {
            "text/html": [
              "<span style=white-space:pre-wrap>'Hark, a Lark!\\t*Tweet Tweet*\\n  \\nWhere\\'d it go?'</span>"
            ],
            "text/markdown": "<span style=white-space:pre-wrap>'Hark, a Lark!\\t*Tweet Tweet*\\n  \\nWhere\\'d it go?'</span>",
            "text/latex": "'Hark, a Lark!\\textbackslash{}t*Tweet Tweet*\\textbackslash{}n  \\textbackslash{}nWhere\\textbackslash{}'d it go?'",
            "text/plain": [
              "[1] \"Hark, a Lark!\\t*Tweet Tweet*\\n  \\nWhere'd it go?\""
            ]
          },
          "metadata": {}
        }
      ]
    },
    {
      "cell_type": "code",
      "source": [
        "writeLines(test_string)"
      ],
      "metadata": {
        "colab": {
          "base_uri": "https://localhost:8080/"
        },
        "id": "3j-kTfIORLJP",
        "outputId": "0f39dcb5-6775-45c6-a404-d935f15dcf3f"
      },
      "execution_count": null,
      "outputs": [
        {
          "output_type": "stream",
          "name": "stdout",
          "text": [
            "Hark, a Lark!\t*Tweet Tweet*\n",
            "  \n",
            "Where'd it go?\n"
          ]
        }
      ]
    },
    {
      "cell_type": "markdown",
      "source": [
        "## Sets of Strings \n",
        "\n",
        "To this point, we have just looked at a single string. Rarely is that what we are actually interested in manipulating as social scientists, though. More frequently, we have sets of lots and lots of strings. To that end, we can create a vector of strings."
      ],
      "metadata": {
        "id": "DveuAPixRQHn"
      }
    },
    {
      "cell_type": "code",
      "source": [
        "a_list_of_strings <-  c(\"Manchester City\", \"Liverpool\", \"Chelsea\", \"Tottenham\", \"Arsenal\")\n",
        "a_list_of_strings"
      ],
      "metadata": {
        "colab": {
          "base_uri": "https://localhost:8080/",
          "height": 34
        },
        "id": "5yfVVCS-TG6Z",
        "outputId": "f4e4e35a-c634-4dbb-ce5a-ad5199c1d461"
      },
      "execution_count": null,
      "outputs": [
        {
          "output_type": "display_data",
          "data": {
            "text/html": [
              "<style>\n",
              ".list-inline {list-style: none; margin:0; padding: 0}\n",
              ".list-inline>li {display: inline-block}\n",
              ".list-inline>li:not(:last-child)::after {content: \"\\00b7\"; padding: 0 .5ex}\n",
              "</style>\n",
              "<ol class=list-inline><li>'Manchester City'</li><li>'Liverpool'</li><li>'Chelsea'</li><li>'Tottenham'</li><li>'Arsenal'</li></ol>\n"
            ],
            "text/markdown": "1. 'Manchester City'\n2. 'Liverpool'\n3. 'Chelsea'\n4. 'Tottenham'\n5. 'Arsenal'\n\n\n",
            "text/latex": "\\begin{enumerate*}\n\\item 'Manchester City'\n\\item 'Liverpool'\n\\item 'Chelsea'\n\\item 'Tottenham'\n\\item 'Arsenal'\n\\end{enumerate*}\n",
            "text/plain": [
              "[1] \"Manchester City\" \"Liverpool\"       \"Chelsea\"         \"Tottenham\"      \n",
              "[5] \"Arsenal\"        "
            ]
          },
          "metadata": {}
        }
      ]
    },
    {
      "cell_type": "markdown",
      "source": [
        "\n",
        "\n",
        "Let's load in some other strings to work with. "
      ],
      "metadata": {
        "id": "Okzi1KAjTI0D"
      }
    },
    {
      "cell_type": "code",
      "source": [
        "letters_string <- letters\n",
        "letters_string"
      ],
      "metadata": {
        "colab": {
          "base_uri": "https://localhost:8080/",
          "height": 34
        },
        "id": "uRkF13ZKTNTe",
        "outputId": "30519cde-cb5b-4935-aa7a-d412332043bf"
      },
      "execution_count": null,
      "outputs": [
        {
          "output_type": "display_data",
          "data": {
            "text/html": [
              "<style>\n",
              ".list-inline {list-style: none; margin:0; padding: 0}\n",
              ".list-inline>li {display: inline-block}\n",
              ".list-inline>li:not(:last-child)::after {content: \"\\00b7\"; padding: 0 .5ex}\n",
              "</style>\n",
              "<ol class=list-inline><li>'a'</li><li>'b'</li><li>'c'</li><li>'d'</li><li>'e'</li><li>'f'</li><li>'g'</li><li>'h'</li><li>'i'</li><li>'j'</li><li>'k'</li><li>'l'</li><li>'m'</li><li>'n'</li><li>'o'</li><li>'p'</li><li>'q'</li><li>'r'</li><li>'s'</li><li>'t'</li><li>'u'</li><li>'v'</li><li>'w'</li><li>'x'</li><li>'y'</li><li>'z'</li></ol>\n"
            ],
            "text/markdown": "1. 'a'\n2. 'b'\n3. 'c'\n4. 'd'\n5. 'e'\n6. 'f'\n7. 'g'\n8. 'h'\n9. 'i'\n10. 'j'\n11. 'k'\n12. 'l'\n13. 'm'\n14. 'n'\n15. 'o'\n16. 'p'\n17. 'q'\n18. 'r'\n19. 's'\n20. 't'\n21. 'u'\n22. 'v'\n23. 'w'\n24. 'x'\n25. 'y'\n26. 'z'\n\n\n",
            "text/latex": "\\begin{enumerate*}\n\\item 'a'\n\\item 'b'\n\\item 'c'\n\\item 'd'\n\\item 'e'\n\\item 'f'\n\\item 'g'\n\\item 'h'\n\\item 'i'\n\\item 'j'\n\\item 'k'\n\\item 'l'\n\\item 'm'\n\\item 'n'\n\\item 'o'\n\\item 'p'\n\\item 'q'\n\\item 'r'\n\\item 's'\n\\item 't'\n\\item 'u'\n\\item 'v'\n\\item 'w'\n\\item 'x'\n\\item 'y'\n\\item 'z'\n\\end{enumerate*}\n",
            "text/plain": [
              " [1] \"a\" \"b\" \"c\" \"d\" \"e\" \"f\" \"g\" \"h\" \"i\" \"j\" \"k\" \"l\" \"m\" \"n\" \"o\" \"p\" \"q\" \"r\" \"s\"\n",
              "[20] \"t\" \"u\" \"v\" \"w\" \"x\" \"y\" \"z\""
            ]
          },
          "metadata": {}
        }
      ]
    },
    {
      "cell_type": "markdown",
      "source": [
        "We can create a list from those letters, and call it letters_list"
      ],
      "metadata": {
        "id": "hKSzOWR0TQrE"
      }
    },
    {
      "cell_type": "code",
      "source": [
        "letters_list <- list(letters_string)\n",
        "letters_list"
      ],
      "metadata": {
        "colab": {
          "base_uri": "https://localhost:8080/",
          "height": 62
        },
        "id": "n393eJz8TS9L",
        "outputId": "b8eea463-4e37-452c-e189-bf8809ec326e"
      },
      "execution_count": null,
      "outputs": [
        {
          "output_type": "display_data",
          "data": {
            "text/html": [
              "<ol>\n",
              "\t<li><style>\n",
              ".list-inline {list-style: none; margin:0; padding: 0}\n",
              ".list-inline>li {display: inline-block}\n",
              ".list-inline>li:not(:last-child)::after {content: \"\\00b7\"; padding: 0 .5ex}\n",
              "</style>\n",
              "<ol class=list-inline><li>'a'</li><li>'b'</li><li>'c'</li><li>'d'</li><li>'e'</li><li>'f'</li><li>'g'</li><li>'h'</li><li>'i'</li><li>'j'</li><li>'k'</li><li>'l'</li><li>'m'</li><li>'n'</li><li>'o'</li><li>'p'</li><li>'q'</li><li>'r'</li><li>'s'</li><li>'t'</li><li>'u'</li><li>'v'</li><li>'w'</li><li>'x'</li><li>'y'</li><li>'z'</li></ol>\n",
              "</li>\n",
              "</ol>\n"
            ],
            "text/markdown": "1. 1. 'a'\n2. 'b'\n3. 'c'\n4. 'd'\n5. 'e'\n6. 'f'\n7. 'g'\n8. 'h'\n9. 'i'\n10. 'j'\n11. 'k'\n12. 'l'\n13. 'm'\n14. 'n'\n15. 'o'\n16. 'p'\n17. 'q'\n18. 'r'\n19. 's'\n20. 't'\n21. 'u'\n22. 'v'\n23. 'w'\n24. 'x'\n25. 'y'\n26. 'z'\n\n\n\n\n\n",
            "text/latex": "\\begin{enumerate}\n\\item \\begin{enumerate*}\n\\item 'a'\n\\item 'b'\n\\item 'c'\n\\item 'd'\n\\item 'e'\n\\item 'f'\n\\item 'g'\n\\item 'h'\n\\item 'i'\n\\item 'j'\n\\item 'k'\n\\item 'l'\n\\item 'm'\n\\item 'n'\n\\item 'o'\n\\item 'p'\n\\item 'q'\n\\item 'r'\n\\item 's'\n\\item 't'\n\\item 'u'\n\\item 'v'\n\\item 'w'\n\\item 'x'\n\\item 'y'\n\\item 'z'\n\\end{enumerate*}\n\n\\end{enumerate}\n",
            "text/plain": [
              "[[1]]\n",
              " [1] \"a\" \"b\" \"c\" \"d\" \"e\" \"f\" \"g\" \"h\" \"i\" \"j\" \"k\" \"l\" \"m\" \"n\" \"o\" \"p\" \"q\" \"r\" \"s\"\n",
              "[20] \"t\" \"u\" \"v\" \"w\" \"x\" \"y\" \"z\"\n"
            ]
          },
          "metadata": {}
        }
      ]
    },
    {
      "cell_type": "markdown",
      "source": [
        "We can also use some built in functionality in the \"string\" module to create upper-case versions of both the string and the list, and we'll call them `LETTERS`. "
      ],
      "metadata": {
        "id": "RXET6wBbTamb"
      }
    },
    {
      "cell_type": "code",
      "source": [
        "LETTERS_string <- toupper(letters_string)\n",
        "LETTERS_string"
      ],
      "metadata": {
        "colab": {
          "base_uri": "https://localhost:8080/",
          "height": 34
        },
        "id": "N-qq0X-WTdO1",
        "outputId": "6a586a2e-e4b1-431e-fde4-ad396ae328f2"
      },
      "execution_count": null,
      "outputs": [
        {
          "output_type": "display_data",
          "data": {
            "text/html": [
              "<style>\n",
              ".list-inline {list-style: none; margin:0; padding: 0}\n",
              ".list-inline>li {display: inline-block}\n",
              ".list-inline>li:not(:last-child)::after {content: \"\\00b7\"; padding: 0 .5ex}\n",
              "</style>\n",
              "<ol class=list-inline><li>'A'</li><li>'B'</li><li>'C'</li><li>'D'</li><li>'E'</li><li>'F'</li><li>'G'</li><li>'H'</li><li>'I'</li><li>'J'</li><li>'K'</li><li>'L'</li><li>'M'</li><li>'N'</li><li>'O'</li><li>'P'</li><li>'Q'</li><li>'R'</li><li>'S'</li><li>'T'</li><li>'U'</li><li>'V'</li><li>'W'</li><li>'X'</li><li>'Y'</li><li>'Z'</li></ol>\n"
            ],
            "text/markdown": "1. 'A'\n2. 'B'\n3. 'C'\n4. 'D'\n5. 'E'\n6. 'F'\n7. 'G'\n8. 'H'\n9. 'I'\n10. 'J'\n11. 'K'\n12. 'L'\n13. 'M'\n14. 'N'\n15. 'O'\n16. 'P'\n17. 'Q'\n18. 'R'\n19. 'S'\n20. 'T'\n21. 'U'\n22. 'V'\n23. 'W'\n24. 'X'\n25. 'Y'\n26. 'Z'\n\n\n",
            "text/latex": "\\begin{enumerate*}\n\\item 'A'\n\\item 'B'\n\\item 'C'\n\\item 'D'\n\\item 'E'\n\\item 'F'\n\\item 'G'\n\\item 'H'\n\\item 'I'\n\\item 'J'\n\\item 'K'\n\\item 'L'\n\\item 'M'\n\\item 'N'\n\\item 'O'\n\\item 'P'\n\\item 'Q'\n\\item 'R'\n\\item 'S'\n\\item 'T'\n\\item 'U'\n\\item 'V'\n\\item 'W'\n\\item 'X'\n\\item 'Y'\n\\item 'Z'\n\\end{enumerate*}\n",
            "text/plain": [
              " [1] \"A\" \"B\" \"C\" \"D\" \"E\" \"F\" \"G\" \"H\" \"I\" \"J\" \"K\" \"L\" \"M\" \"N\" \"O\" \"P\" \"Q\" \"R\" \"S\"\n",
              "[20] \"T\" \"U\" \"V\" \"W\" \"X\" \"Y\" \"Z\""
            ]
          },
          "metadata": {}
        }
      ]
    },
    {
      "cell_type": "code",
      "source": [
        "LETTERS_list = list(LETTERS_string)\n",
        "LETTERS_list"
      ],
      "metadata": {
        "colab": {
          "base_uri": "https://localhost:8080/",
          "height": 62
        },
        "id": "PMXhS7otTe9P",
        "outputId": "2ad50960-b032-40e6-ba8c-5b22d8f3883f"
      },
      "execution_count": null,
      "outputs": [
        {
          "output_type": "display_data",
          "data": {
            "text/html": [
              "<ol>\n",
              "\t<li><style>\n",
              ".list-inline {list-style: none; margin:0; padding: 0}\n",
              ".list-inline>li {display: inline-block}\n",
              ".list-inline>li:not(:last-child)::after {content: \"\\00b7\"; padding: 0 .5ex}\n",
              "</style>\n",
              "<ol class=list-inline><li>'A'</li><li>'B'</li><li>'C'</li><li>'D'</li><li>'E'</li><li>'F'</li><li>'G'</li><li>'H'</li><li>'I'</li><li>'J'</li><li>'K'</li><li>'L'</li><li>'M'</li><li>'N'</li><li>'O'</li><li>'P'</li><li>'Q'</li><li>'R'</li><li>'S'</li><li>'T'</li><li>'U'</li><li>'V'</li><li>'W'</li><li>'X'</li><li>'Y'</li><li>'Z'</li></ol>\n",
              "</li>\n",
              "</ol>\n"
            ],
            "text/markdown": "1. 1. 'A'\n2. 'B'\n3. 'C'\n4. 'D'\n5. 'E'\n6. 'F'\n7. 'G'\n8. 'H'\n9. 'I'\n10. 'J'\n11. 'K'\n12. 'L'\n13. 'M'\n14. 'N'\n15. 'O'\n16. 'P'\n17. 'Q'\n18. 'R'\n19. 'S'\n20. 'T'\n21. 'U'\n22. 'V'\n23. 'W'\n24. 'X'\n25. 'Y'\n26. 'Z'\n\n\n\n\n\n",
            "text/latex": "\\begin{enumerate}\n\\item \\begin{enumerate*}\n\\item 'A'\n\\item 'B'\n\\item 'C'\n\\item 'D'\n\\item 'E'\n\\item 'F'\n\\item 'G'\n\\item 'H'\n\\item 'I'\n\\item 'J'\n\\item 'K'\n\\item 'L'\n\\item 'M'\n\\item 'N'\n\\item 'O'\n\\item 'P'\n\\item 'Q'\n\\item 'R'\n\\item 'S'\n\\item 'T'\n\\item 'U'\n\\item 'V'\n\\item 'W'\n\\item 'X'\n\\item 'Y'\n\\item 'Z'\n\\end{enumerate*}\n\n\\end{enumerate}\n",
            "text/plain": [
              "[[1]]\n",
              " [1] \"A\" \"B\" \"C\" \"D\" \"E\" \"F\" \"G\" \"H\" \"I\" \"J\" \"K\" \"L\" \"M\" \"N\" \"O\" \"P\" \"Q\" \"R\" \"S\"\n",
              "[20] \"T\" \"U\" \"V\" \"W\" \"X\" \"Y\" \"Z\"\n"
            ]
          },
          "metadata": {}
        }
      ]
    },
    {
      "cell_type": "markdown",
      "source": [
        "We'll make two different month lists, one with the abbreviation (`month_abb`) and one with the full name (`month_name`)"
      ],
      "metadata": {
        "id": "NfHu4QOMTiWP"
      }
    },
    {
      "cell_type": "code",
      "source": [
        "month_abb <- c(\"Jan\", \"Feb\", \"Mar\", \"Apr\", \"May\", \"Jun\", \"Jul\", \"Aug\", \"Sep\", \"Oct\", \"Nov\", \"Dec\")\n",
        "month_abb"
      ],
      "metadata": {
        "colab": {
          "base_uri": "https://localhost:8080/",
          "height": 34
        },
        "id": "7hFYE68fTk-D",
        "outputId": "3665863c-0b41-4b78-a6a7-16e5b9a037ad"
      },
      "execution_count": null,
      "outputs": [
        {
          "output_type": "display_data",
          "data": {
            "text/html": [
              "<style>\n",
              ".list-inline {list-style: none; margin:0; padding: 0}\n",
              ".list-inline>li {display: inline-block}\n",
              ".list-inline>li:not(:last-child)::after {content: \"\\00b7\"; padding: 0 .5ex}\n",
              "</style>\n",
              "<ol class=list-inline><li>'Jan'</li><li>'Feb'</li><li>'Mar'</li><li>'Apr'</li><li>'May'</li><li>'Jun'</li><li>'Jul'</li><li>'Aug'</li><li>'Sep'</li><li>'Oct'</li><li>'Nov'</li><li>'Dec'</li></ol>\n"
            ],
            "text/markdown": "1. 'Jan'\n2. 'Feb'\n3. 'Mar'\n4. 'Apr'\n5. 'May'\n6. 'Jun'\n7. 'Jul'\n8. 'Aug'\n9. 'Sep'\n10. 'Oct'\n11. 'Nov'\n12. 'Dec'\n\n\n",
            "text/latex": "\\begin{enumerate*}\n\\item 'Jan'\n\\item 'Feb'\n\\item 'Mar'\n\\item 'Apr'\n\\item 'May'\n\\item 'Jun'\n\\item 'Jul'\n\\item 'Aug'\n\\item 'Sep'\n\\item 'Oct'\n\\item 'Nov'\n\\item 'Dec'\n\\end{enumerate*}\n",
            "text/plain": [
              " [1] \"Jan\" \"Feb\" \"Mar\" \"Apr\" \"May\" \"Jun\" \"Jul\" \"Aug\" \"Sep\" \"Oct\" \"Nov\" \"Dec\""
            ]
          },
          "metadata": {}
        }
      ]
    },
    {
      "cell_type": "code",
      "source": [
        "month_name <- c(\"January\", \"February\", \"March\", \"April\", \"May\", \"June\", \"July\", \"August\", \"September\", \"October\", \"November\", \"December\")\n",
        "month_name"
      ],
      "metadata": {
        "colab": {
          "base_uri": "https://localhost:8080/",
          "height": 34
        },
        "id": "jY3VBpNqTnBI",
        "outputId": "fb28fd5a-8d51-4992-fc32-6a93cf3c573f"
      },
      "execution_count": null,
      "outputs": [
        {
          "output_type": "display_data",
          "data": {
            "text/html": [
              "<style>\n",
              ".list-inline {list-style: none; margin:0; padding: 0}\n",
              ".list-inline>li {display: inline-block}\n",
              ".list-inline>li:not(:last-child)::after {content: \"\\00b7\"; padding: 0 .5ex}\n",
              "</style>\n",
              "<ol class=list-inline><li>'January'</li><li>'February'</li><li>'March'</li><li>'April'</li><li>'May'</li><li>'June'</li><li>'July'</li><li>'August'</li><li>'September'</li><li>'October'</li><li>'November'</li><li>'December'</li></ol>\n"
            ],
            "text/markdown": "1. 'January'\n2. 'February'\n3. 'March'\n4. 'April'\n5. 'May'\n6. 'June'\n7. 'July'\n8. 'August'\n9. 'September'\n10. 'October'\n11. 'November'\n12. 'December'\n\n\n",
            "text/latex": "\\begin{enumerate*}\n\\item 'January'\n\\item 'February'\n\\item 'March'\n\\item 'April'\n\\item 'May'\n\\item 'June'\n\\item 'July'\n\\item 'August'\n\\item 'September'\n\\item 'October'\n\\item 'November'\n\\item 'December'\n\\end{enumerate*}\n",
            "text/plain": [
              " [1] \"January\"   \"February\"  \"March\"     \"April\"     \"May\"       \"June\"     \n",
              " [7] \"July\"      \"August\"    \"September\" \"October\"   \"November\"  \"December\" "
            ]
          },
          "metadata": {}
        }
      ]
    },
    {
      "cell_type": "markdown",
      "source": [
        "Let's also bring in two lists of strings for us to work with. The first (`fruit`) is a list of fruits, and the second (`words`) is a list of words. "
      ],
      "metadata": {
        "id": "-MpfDBniTtjm"
      }
    },
    {
      "cell_type": "code",
      "source": [
        "install.packages(\"ds4psy\")\n",
        "library(ds4psy)\n",
        "fruits"
      ],
      "metadata": {
        "colab": {
          "base_uri": "https://localhost:8080/",
          "height": 312
        },
        "id": "oCOVqk5jWF8G",
        "outputId": "0e30b229-9804-47d0-de39-85957a4187c0"
      },
      "execution_count": null,
      "outputs": [
        {
          "output_type": "stream",
          "name": "stderr",
          "text": [
            "Installing package into ‘/usr/local/lib/R/site-library’\n",
            "(as ‘lib’ is unspecified)\n",
            "\n",
            "also installing the dependency ‘unikn’\n",
            "\n",
            "\n",
            "Welcome to ds4psy (v0.8.0)!\n",
            "\n"
          ]
        },
        {
          "output_type": "display_data",
          "data": {
            "text/html": [
              "<style>\n",
              ".list-inline {list-style: none; margin:0; padding: 0}\n",
              ".list-inline>li {display: inline-block}\n",
              ".list-inline>li:not(:last-child)::after {content: \"\\00b7\"; padding: 0 .5ex}\n",
              "</style>\n",
              "<ol class=list-inline><li>'Acai'</li><li>'Ackee'</li><li>'Apple'</li><li>'Apricot'</li><li>'Avocado'</li><li>'Banana'</li><li>'Bell pepper'</li><li>'Bilberry'</li><li>'Black sapote'</li><li>'Blackberry'</li><li>'Blackcurrant'</li><li>'Blood orange'</li><li>'Blueberry'</li><li>'Boysenberry'</li><li>'Breadfruit'</li><li>'Buddha\\'s hand (fingered citron)'</li><li>'Cactus pear'</li><li>'Cantaloupe'</li><li>'Cherimoya (Custard Apple)'</li><li>'Cherry'</li><li>'Chico fruit'</li><li>'Chile pepper'</li><li>'Clementine'</li><li>'Cloudberry'</li><li>'Coconut'</li><li>'Corn kernel'</li><li>'Crab apple'</li><li>'Cranberry'</li><li>'Cucumber'</li><li>'Currant'</li><li>'Damson'</li><li>'Date'</li><li>'Dragonfruit'</li><li>'Durian'</li><li>'Eggplant'</li><li>'Elderberry'</li><li>'Feijoa'</li><li>'Fig'</li><li>'Galia melon'</li><li>'Goji berry'</li><li>'Gooseberry'</li><li>'Grape'</li><li>'Grapefruit'</li><li>'Grewia asiatica phalsa'</li><li>'Guava'</li><li>'Hala fruit'</li><li>'Honeyberry'</li><li>'Honeydew'</li><li>'Huckleberry'</li><li>'Jabuticaba'</li><li>'Jackfruit'</li><li>'Jalapeno'</li><li>'Jambul'</li><li>'Japanese plum'</li><li>'Jostaberry'</li><li>'Jujube'</li><li>'Juniper berry'</li><li>'Kiwano (horned melon)'</li><li>'Kiwifruit'</li><li>'Kumquat'</li><li>'Lemon'</li><li>'Lime'</li><li>'Loganberry'</li><li>'Longan'</li><li>'Loquat'</li><li>'Lychee'</li><li>'Mandarine'</li><li>'Mango'</li><li>'Mangosteen'</li><li>'Marionberry'</li><li>'Melon'</li><li>'Miracle fruit'</li><li>'Monstera Delisiousa'</li><li>'Mulberry'</li><li>'Nance'</li><li>'Nectarine'</li><li>'Olive'</li><li>'Orange'</li><li>'Papaya'</li><li>'Passionfruit'</li><li>'Pea'</li><li>'Peach'</li><li>'Pear'</li><li>'Persimmon'</li><li>'Pineapple (Ananas)'</li><li>'Pineberry'</li><li>'Pitaya'</li><li>'Plantain'</li><li>'Plum'</li><li>'Plumcot (or Pluot)'</li><li>'Pomegranate'</li><li>'Pomelo'</li><li>'Prune (dried plum)'</li><li>'Pumpkin'</li><li>'Purple mangosteen'</li><li>'Quince'</li><li>'Raisin'</li><li>'Rambutan (or Mamin Chino)'</li><li>'Raspberry'</li><li>'Redcurrant'</li><li>'Salak'</li><li>'Salal berry'</li><li>'Salmonberry'</li><li>'Satsuma'</li><li>'Soursop'</li><li>'Squash'</li><li>'Star apple'</li><li>'Star fruit'</li><li>'Strawberry'</li><li>'Surinam cherry'</li><li>'Tamarillo'</li><li>'Tamarind'</li><li>'Tangelo'</li><li>'Tangerine'</li><li>'Tayberry'</li><li>'Tomato'</li><li>'Ugli fruit'</li><li>'Watermelon'</li><li>'White currant'</li><li>'White sapote'</li><li>'Yuzu'</li><li>'Zucchini'</li></ol>\n"
            ],
            "text/markdown": "1. 'Acai'\n2. 'Ackee'\n3. 'Apple'\n4. 'Apricot'\n5. 'Avocado'\n6. 'Banana'\n7. 'Bell pepper'\n8. 'Bilberry'\n9. 'Black sapote'\n10. 'Blackberry'\n11. 'Blackcurrant'\n12. 'Blood orange'\n13. 'Blueberry'\n14. 'Boysenberry'\n15. 'Breadfruit'\n16. 'Buddha\\'s hand (fingered citron)'\n17. 'Cactus pear'\n18. 'Cantaloupe'\n19. 'Cherimoya (Custard Apple)'\n20. 'Cherry'\n21. 'Chico fruit'\n22. 'Chile pepper'\n23. 'Clementine'\n24. 'Cloudberry'\n25. 'Coconut'\n26. 'Corn kernel'\n27. 'Crab apple'\n28. 'Cranberry'\n29. 'Cucumber'\n30. 'Currant'\n31. 'Damson'\n32. 'Date'\n33. 'Dragonfruit'\n34. 'Durian'\n35. 'Eggplant'\n36. 'Elderberry'\n37. 'Feijoa'\n38. 'Fig'\n39. 'Galia melon'\n40. 'Goji berry'\n41. 'Gooseberry'\n42. 'Grape'\n43. 'Grapefruit'\n44. 'Grewia asiatica phalsa'\n45. 'Guava'\n46. 'Hala fruit'\n47. 'Honeyberry'\n48. 'Honeydew'\n49. 'Huckleberry'\n50. 'Jabuticaba'\n51. 'Jackfruit'\n52. 'Jalapeno'\n53. 'Jambul'\n54. 'Japanese plum'\n55. 'Jostaberry'\n56. 'Jujube'\n57. 'Juniper berry'\n58. 'Kiwano (horned melon)'\n59. 'Kiwifruit'\n60. 'Kumquat'\n61. 'Lemon'\n62. 'Lime'\n63. 'Loganberry'\n64. 'Longan'\n65. 'Loquat'\n66. 'Lychee'\n67. 'Mandarine'\n68. 'Mango'\n69. 'Mangosteen'\n70. 'Marionberry'\n71. 'Melon'\n72. 'Miracle fruit'\n73. 'Monstera Delisiousa'\n74. 'Mulberry'\n75. 'Nance'\n76. 'Nectarine'\n77. 'Olive'\n78. 'Orange'\n79. 'Papaya'\n80. 'Passionfruit'\n81. 'Pea'\n82. 'Peach'\n83. 'Pear'\n84. 'Persimmon'\n85. 'Pineapple (Ananas)'\n86. 'Pineberry'\n87. 'Pitaya'\n88. 'Plantain'\n89. 'Plum'\n90. 'Plumcot (or Pluot)'\n91. 'Pomegranate'\n92. 'Pomelo'\n93. 'Prune (dried plum)'\n94. 'Pumpkin'\n95. 'Purple mangosteen'\n96. 'Quince'\n97. 'Raisin'\n98. 'Rambutan (or Mamin Chino)'\n99. 'Raspberry'\n100. 'Redcurrant'\n101. 'Salak'\n102. 'Salal berry'\n103. 'Salmonberry'\n104. 'Satsuma'\n105. 'Soursop'\n106. 'Squash'\n107. 'Star apple'\n108. 'Star fruit'\n109. 'Strawberry'\n110. 'Surinam cherry'\n111. 'Tamarillo'\n112. 'Tamarind'\n113. 'Tangelo'\n114. 'Tangerine'\n115. 'Tayberry'\n116. 'Tomato'\n117. 'Ugli fruit'\n118. 'Watermelon'\n119. 'White currant'\n120. 'White sapote'\n121. 'Yuzu'\n122. 'Zucchini'\n\n\n",
            "text/latex": "\\begin{enumerate*}\n\\item 'Acai'\n\\item 'Ackee'\n\\item 'Apple'\n\\item 'Apricot'\n\\item 'Avocado'\n\\item 'Banana'\n\\item 'Bell pepper'\n\\item 'Bilberry'\n\\item 'Black sapote'\n\\item 'Blackberry'\n\\item 'Blackcurrant'\n\\item 'Blood orange'\n\\item 'Blueberry'\n\\item 'Boysenberry'\n\\item 'Breadfruit'\n\\item 'Buddha\\textbackslash{}'s hand (fingered citron)'\n\\item 'Cactus pear'\n\\item 'Cantaloupe'\n\\item 'Cherimoya (Custard Apple)'\n\\item 'Cherry'\n\\item 'Chico fruit'\n\\item 'Chile pepper'\n\\item 'Clementine'\n\\item 'Cloudberry'\n\\item 'Coconut'\n\\item 'Corn kernel'\n\\item 'Crab apple'\n\\item 'Cranberry'\n\\item 'Cucumber'\n\\item 'Currant'\n\\item 'Damson'\n\\item 'Date'\n\\item 'Dragonfruit'\n\\item 'Durian'\n\\item 'Eggplant'\n\\item 'Elderberry'\n\\item 'Feijoa'\n\\item 'Fig'\n\\item 'Galia melon'\n\\item 'Goji berry'\n\\item 'Gooseberry'\n\\item 'Grape'\n\\item 'Grapefruit'\n\\item 'Grewia asiatica phalsa'\n\\item 'Guava'\n\\item 'Hala fruit'\n\\item 'Honeyberry'\n\\item 'Honeydew'\n\\item 'Huckleberry'\n\\item 'Jabuticaba'\n\\item 'Jackfruit'\n\\item 'Jalapeno'\n\\item 'Jambul'\n\\item 'Japanese plum'\n\\item 'Jostaberry'\n\\item 'Jujube'\n\\item 'Juniper berry'\n\\item 'Kiwano (horned melon)'\n\\item 'Kiwifruit'\n\\item 'Kumquat'\n\\item 'Lemon'\n\\item 'Lime'\n\\item 'Loganberry'\n\\item 'Longan'\n\\item 'Loquat'\n\\item 'Lychee'\n\\item 'Mandarine'\n\\item 'Mango'\n\\item 'Mangosteen'\n\\item 'Marionberry'\n\\item 'Melon'\n\\item 'Miracle fruit'\n\\item 'Monstera Delisiousa'\n\\item 'Mulberry'\n\\item 'Nance'\n\\item 'Nectarine'\n\\item 'Olive'\n\\item 'Orange'\n\\item 'Papaya'\n\\item 'Passionfruit'\n\\item 'Pea'\n\\item 'Peach'\n\\item 'Pear'\n\\item 'Persimmon'\n\\item 'Pineapple (Ananas)'\n\\item 'Pineberry'\n\\item 'Pitaya'\n\\item 'Plantain'\n\\item 'Plum'\n\\item 'Plumcot (or Pluot)'\n\\item 'Pomegranate'\n\\item 'Pomelo'\n\\item 'Prune (dried plum)'\n\\item 'Pumpkin'\n\\item 'Purple mangosteen'\n\\item 'Quince'\n\\item 'Raisin'\n\\item 'Rambutan (or Mamin Chino)'\n\\item 'Raspberry'\n\\item 'Redcurrant'\n\\item 'Salak'\n\\item 'Salal berry'\n\\item 'Salmonberry'\n\\item 'Satsuma'\n\\item 'Soursop'\n\\item 'Squash'\n\\item 'Star apple'\n\\item 'Star fruit'\n\\item 'Strawberry'\n\\item 'Surinam cherry'\n\\item 'Tamarillo'\n\\item 'Tamarind'\n\\item 'Tangelo'\n\\item 'Tangerine'\n\\item 'Tayberry'\n\\item 'Tomato'\n\\item 'Ugli fruit'\n\\item 'Watermelon'\n\\item 'White currant'\n\\item 'White sapote'\n\\item 'Yuzu'\n\\item 'Zucchini'\n\\end{enumerate*}\n",
            "text/plain": [
              "  [1] \"Acai\"                            \"Ackee\"                          \n",
              "  [3] \"Apple\"                           \"Apricot\"                        \n",
              "  [5] \"Avocado\"                         \"Banana\"                         \n",
              "  [7] \"Bell pepper\"                     \"Bilberry\"                       \n",
              "  [9] \"Black sapote\"                    \"Blackberry\"                     \n",
              " [11] \"Blackcurrant\"                    \"Blood orange\"                   \n",
              " [13] \"Blueberry\"                       \"Boysenberry\"                    \n",
              " [15] \"Breadfruit\"                      \"Buddha's hand (fingered citron)\"\n",
              " [17] \"Cactus pear\"                     \"Cantaloupe\"                     \n",
              " [19] \"Cherimoya (Custard Apple)\"       \"Cherry\"                         \n",
              " [21] \"Chico fruit\"                     \"Chile pepper\"                   \n",
              " [23] \"Clementine\"                      \"Cloudberry\"                     \n",
              " [25] \"Coconut\"                         \"Corn kernel\"                    \n",
              " [27] \"Crab apple\"                      \"Cranberry\"                      \n",
              " [29] \"Cucumber\"                        \"Currant\"                        \n",
              " [31] \"Damson\"                          \"Date\"                           \n",
              " [33] \"Dragonfruit\"                     \"Durian\"                         \n",
              " [35] \"Eggplant\"                        \"Elderberry\"                     \n",
              " [37] \"Feijoa\"                          \"Fig\"                            \n",
              " [39] \"Galia melon\"                     \"Goji berry\"                     \n",
              " [41] \"Gooseberry\"                      \"Grape\"                          \n",
              " [43] \"Grapefruit\"                      \"Grewia asiatica phalsa\"         \n",
              " [45] \"Guava\"                           \"Hala fruit\"                     \n",
              " [47] \"Honeyberry\"                      \"Honeydew\"                       \n",
              " [49] \"Huckleberry\"                     \"Jabuticaba\"                     \n",
              " [51] \"Jackfruit\"                       \"Jalapeno\"                       \n",
              " [53] \"Jambul\"                          \"Japanese plum\"                  \n",
              " [55] \"Jostaberry\"                      \"Jujube\"                         \n",
              " [57] \"Juniper berry\"                   \"Kiwano (horned melon)\"          \n",
              " [59] \"Kiwifruit\"                       \"Kumquat\"                        \n",
              " [61] \"Lemon\"                           \"Lime\"                           \n",
              " [63] \"Loganberry\"                      \"Longan\"                         \n",
              " [65] \"Loquat\"                          \"Lychee\"                         \n",
              " [67] \"Mandarine\"                       \"Mango\"                          \n",
              " [69] \"Mangosteen\"                      \"Marionberry\"                    \n",
              " [71] \"Melon\"                           \"Miracle fruit\"                  \n",
              " [73] \"Monstera Delisiousa\"             \"Mulberry\"                       \n",
              " [75] \"Nance\"                           \"Nectarine\"                      \n",
              " [77] \"Olive\"                           \"Orange\"                         \n",
              " [79] \"Papaya\"                          \"Passionfruit\"                   \n",
              " [81] \"Pea\"                             \"Peach\"                          \n",
              " [83] \"Pear\"                            \"Persimmon\"                      \n",
              " [85] \"Pineapple (Ananas)\"              \"Pineberry\"                      \n",
              " [87] \"Pitaya\"                          \"Plantain\"                       \n",
              " [89] \"Plum\"                            \"Plumcot (or Pluot)\"             \n",
              " [91] \"Pomegranate\"                     \"Pomelo\"                         \n",
              " [93] \"Prune (dried plum)\"              \"Pumpkin\"                        \n",
              " [95] \"Purple mangosteen\"               \"Quince\"                         \n",
              " [97] \"Raisin\"                          \"Rambutan (or Mamin Chino)\"      \n",
              " [99] \"Raspberry\"                       \"Redcurrant\"                     \n",
              "[101] \"Salak\"                           \"Salal berry\"                    \n",
              "[103] \"Salmonberry\"                     \"Satsuma\"                        \n",
              "[105] \"Soursop\"                         \"Squash\"                         \n",
              "[107] \"Star apple\"                      \"Star fruit\"                     \n",
              "[109] \"Strawberry\"                      \"Surinam cherry\"                 \n",
              "[111] \"Tamarillo\"                       \"Tamarind\"                       \n",
              "[113] \"Tangelo\"                         \"Tangerine\"                      \n",
              "[115] \"Tayberry\"                        \"Tomato\"                         \n",
              "[117] \"Ugli fruit\"                      \"Watermelon\"                     \n",
              "[119] \"White currant\"                   \"White sapote\"                   \n",
              "[121] \"Yuzu\"                            \"Zucchini\"                       "
            ]
          },
          "metadata": {}
        }
      ]
    },
    {
      "cell_type": "code",
      "source": [
        "words"
      ],
      "metadata": {
        "colab": {
          "base_uri": "https://localhost:8080/",
          "height": 329
        },
        "id": "rpooxxswTzdB",
        "outputId": "22b788f4-b528-4a8f-ae1a-e66588d68851"
      },
      "execution_count": null,
      "outputs": [
        {
          "output_type": "display_data",
          "data": {
            "text/html": [
              "<style>\n",
              ".list-inline {list-style: none; margin:0; padding: 0}\n",
              ".list-inline>li {display: inline-block}\n",
              ".list-inline>li:not(:last-child)::after {content: \"\\00b7\"; padding: 0 .5ex}\n",
              "</style>\n",
              "<ol class=list-inline><li>'a'</li><li>'able'</li><li>'about'</li><li>'absolute'</li><li>'accept'</li><li>'account'</li><li>'achieve'</li><li>'across'</li><li>'act'</li><li>'active'</li><li>'actual'</li><li>'add'</li><li>'address'</li><li>'admit'</li><li>'advertise'</li><li>'affect'</li><li>'afford'</li><li>'after'</li><li>'afternoon'</li><li>'again'</li><li>'against'</li><li>'age'</li><li>'agent'</li><li>'ago'</li><li>'agree'</li><li>'air'</li><li>'all'</li><li>'allow'</li><li>'almost'</li><li>'along'</li><li>'already'</li><li>'alright'</li><li>'also'</li><li>'although'</li><li>'always'</li><li>'america'</li><li>'amount'</li><li>'and'</li><li>'another'</li><li>'answer'</li><li>'any'</li><li>'apart'</li><li>'apparent'</li><li>'appear'</li><li>'apply'</li><li>'appoint'</li><li>'approach'</li><li>'appropriate'</li><li>'area'</li><li>'argue'</li><li>'arm'</li><li>'around'</li><li>'arrange'</li><li>'art'</li><li>'as'</li><li>'ask'</li><li>'associate'</li><li>'assume'</li><li>'at'</li><li>'attend'</li><li>'authority'</li><li>'available'</li><li>'aware'</li><li>'away'</li><li>'awful'</li><li>'baby'</li><li>'back'</li><li>'bad'</li><li>'bag'</li><li>'balance'</li><li>'ball'</li><li>'bank'</li><li>'bar'</li><li>'base'</li><li>'basis'</li><li>'be'</li><li>'bear'</li><li>'beat'</li><li>'beauty'</li><li>'because'</li><li>'become'</li><li>'bed'</li><li>'before'</li><li>'begin'</li><li>'behind'</li><li>'believe'</li><li>'benefit'</li><li>'best'</li><li>'bet'</li><li>'between'</li><li>'big'</li><li>'bill'</li><li>'birth'</li><li>'bit'</li><li>'black'</li><li>'bloke'</li><li>'blood'</li><li>'blow'</li><li>'blue'</li><li>'board'</li><li>'boat'</li><li>'body'</li><li>'book'</li><li>'both'</li><li>'bother'</li><li>'bottle'</li><li>'bottom'</li><li>'box'</li><li>'boy'</li><li>'break'</li><li>'brief'</li><li>'brilliant'</li><li>'bring'</li><li>'britain'</li><li>'brother'</li><li>'budget'</li><li>'build'</li><li>'bus'</li><li>'business'</li><li>'busy'</li><li>'but'</li><li>'buy'</li><li>'by'</li><li>'cake'</li><li>'call'</li><li>'can'</li><li>'car'</li><li>'card'</li><li>'care'</li><li>'carry'</li><li>'case'</li><li>'cat'</li><li>'catch'</li><li>'cause'</li><li>'cent'</li><li>'centre'</li><li>'certain'</li><li>'chair'</li><li>'chairman'</li><li>'chance'</li><li>'change'</li><li>'chap'</li><li>'character'</li><li>'charge'</li><li>'cheap'</li><li>'check'</li><li>'child'</li><li>'choice'</li><li>'choose'</li><li>'Christ'</li><li>'Christmas'</li><li>'church'</li><li>'city'</li><li>'claim'</li><li>'class'</li><li>'clean'</li><li>'clear'</li><li>'client'</li><li>'clock'</li><li>'close'</li><li>'closes'</li><li>'clothe'</li><li>'club'</li><li>'coffee'</li><li>'cold'</li><li>'colleague'</li><li>'collect'</li><li>'college'</li><li>'colour'</li><li>'come'</li><li>'comment'</li><li>'commit'</li><li>'committee'</li><li>'common'</li><li>'community'</li><li>'company'</li><li>'compare'</li><li>'complete'</li><li>'compute'</li><li>'concern'</li><li>'condition'</li><li>'confer'</li><li>'consider'</li><li>'consult'</li><li>'contact'</li><li>'continue'</li><li>'contract'</li><li>'control'</li><li>'converse'</li><li>'cook'</li><li>'copy'</li><li>'corner'</li><li>'correct'</li><li>'cost'</li><li>'could'</li><li>'council'</li><li>'count'</li><li>'country'</li><li>'county'</li><li>'couple'</li><li>⋯</li><li>'society'</li><li>'some'</li><li>'son'</li><li>'soon'</li><li>'sorry'</li><li>'sort'</li><li>'sound'</li><li>'south'</li><li>'space'</li><li>'speak'</li><li>'special'</li><li>'specific'</li><li>'speed'</li><li>'spell'</li><li>'spend'</li><li>'square'</li><li>'staff'</li><li>'stage'</li><li>'stairs'</li><li>'stand'</li><li>'standard'</li><li>'start'</li><li>'state'</li><li>'station'</li><li>'stay'</li><li>'step'</li><li>'stick'</li><li>'still'</li><li>'stop'</li><li>'story'</li><li>'straight'</li><li>'strategy'</li><li>'street'</li><li>'strike'</li><li>'strong'</li><li>'structure'</li><li>'student'</li><li>'study'</li><li>'stuff'</li><li>'stupid'</li><li>'subject'</li><li>'succeed'</li><li>'such'</li><li>'sudden'</li><li>'suggest'</li><li>'suit'</li><li>'summer'</li><li>'sun'</li><li>'sunday'</li><li>'supply'</li><li>'support'</li><li>'suppose'</li><li>'sure'</li><li>'surprise'</li><li>'switch'</li><li>'system'</li><li>'table'</li><li>'take'</li><li>'talk'</li><li>'tape'</li><li>'tax'</li><li>'tea'</li><li>'teach'</li><li>'team'</li><li>'telephone'</li><li>'television'</li><li>'tell'</li><li>'ten'</li><li>'tend'</li><li>'term'</li><li>'terrible'</li><li>'test'</li><li>'than'</li><li>'thank'</li><li>'the'</li><li>'then'</li><li>'there'</li><li>'therefore'</li><li>'they'</li><li>'thing'</li><li>'think'</li><li>'thirteen'</li><li>'thirty'</li><li>'this'</li><li>'thou'</li><li>'though'</li><li>'thousand'</li><li>'three'</li><li>'through'</li><li>'throw'</li><li>'thursday'</li><li>'tie'</li><li>'time'</li><li>'to'</li><li>'today'</li><li>'together'</li><li>'tomorrow'</li><li>'tonight'</li><li>'too'</li><li>'top'</li><li>'total'</li><li>'touch'</li><li>'toward'</li><li>'town'</li><li>'trade'</li><li>'traffic'</li><li>'train'</li><li>'transport'</li><li>'travel'</li><li>'treat'</li><li>'tree'</li><li>'trouble'</li><li>'true'</li><li>'trust'</li><li>'try'</li><li>'tuesday'</li><li>'turn'</li><li>'twelve'</li><li>'twenty'</li><li>'two'</li><li>'type'</li><li>'under'</li><li>'understand'</li><li>'union'</li><li>'unit'</li><li>'unite'</li><li>'university'</li><li>'unless'</li><li>'until'</li><li>'up'</li><li>'upon'</li><li>'use'</li><li>'usual'</li><li>'value'</li><li>'various'</li><li>'very'</li><li>'video'</li><li>'view'</li><li>'village'</li><li>'visit'</li><li>'vote'</li><li>'wage'</li><li>'wait'</li><li>'walk'</li><li>'wall'</li><li>'want'</li><li>'war'</li><li>'warm'</li><li>'wash'</li><li>'waste'</li><li>'watch'</li><li>'water'</li><li>'way'</li><li>'we'</li><li>'wear'</li><li>'wednesday'</li><li>'wee'</li><li>'week'</li><li>'weigh'</li><li>'welcome'</li><li>'well'</li><li>'west'</li><li>'what'</li><li>'when'</li><li>'where'</li><li>'whether'</li><li>'which'</li><li>'while'</li><li>'white'</li><li>'who'</li><li>'whole'</li><li>'why'</li><li>'wide'</li><li>'wife'</li><li>'will'</li><li>'win'</li><li>'wind'</li><li>'window'</li><li>'wish'</li><li>'with'</li><li>'within'</li><li>'without'</li><li>'woman'</li><li>'wonder'</li><li>'wood'</li><li>'word'</li><li>'work'</li><li>'world'</li><li>'worry'</li><li>'worse'</li><li>'worth'</li><li>'would'</li><li>'write'</li><li>'wrong'</li><li>'year'</li><li>'yes'</li><li>'yesterday'</li><li>'yet'</li><li>'you'</li><li>'young'</li></ol>\n"
            ],
            "text/markdown": "1. 'a'\n2. 'able'\n3. 'about'\n4. 'absolute'\n5. 'accept'\n6. 'account'\n7. 'achieve'\n8. 'across'\n9. 'act'\n10. 'active'\n11. 'actual'\n12. 'add'\n13. 'address'\n14. 'admit'\n15. 'advertise'\n16. 'affect'\n17. 'afford'\n18. 'after'\n19. 'afternoon'\n20. 'again'\n21. 'against'\n22. 'age'\n23. 'agent'\n24. 'ago'\n25. 'agree'\n26. 'air'\n27. 'all'\n28. 'allow'\n29. 'almost'\n30. 'along'\n31. 'already'\n32. 'alright'\n33. 'also'\n34. 'although'\n35. 'always'\n36. 'america'\n37. 'amount'\n38. 'and'\n39. 'another'\n40. 'answer'\n41. 'any'\n42. 'apart'\n43. 'apparent'\n44. 'appear'\n45. 'apply'\n46. 'appoint'\n47. 'approach'\n48. 'appropriate'\n49. 'area'\n50. 'argue'\n51. 'arm'\n52. 'around'\n53. 'arrange'\n54. 'art'\n55. 'as'\n56. 'ask'\n57. 'associate'\n58. 'assume'\n59. 'at'\n60. 'attend'\n61. 'authority'\n62. 'available'\n63. 'aware'\n64. 'away'\n65. 'awful'\n66. 'baby'\n67. 'back'\n68. 'bad'\n69. 'bag'\n70. 'balance'\n71. 'ball'\n72. 'bank'\n73. 'bar'\n74. 'base'\n75. 'basis'\n76. 'be'\n77. 'bear'\n78. 'beat'\n79. 'beauty'\n80. 'because'\n81. 'become'\n82. 'bed'\n83. 'before'\n84. 'begin'\n85. 'behind'\n86. 'believe'\n87. 'benefit'\n88. 'best'\n89. 'bet'\n90. 'between'\n91. 'big'\n92. 'bill'\n93. 'birth'\n94. 'bit'\n95. 'black'\n96. 'bloke'\n97. 'blood'\n98. 'blow'\n99. 'blue'\n100. 'board'\n101. 'boat'\n102. 'body'\n103. 'book'\n104. 'both'\n105. 'bother'\n106. 'bottle'\n107. 'bottom'\n108. 'box'\n109. 'boy'\n110. 'break'\n111. 'brief'\n112. 'brilliant'\n113. 'bring'\n114. 'britain'\n115. 'brother'\n116. 'budget'\n117. 'build'\n118. 'bus'\n119. 'business'\n120. 'busy'\n121. 'but'\n122. 'buy'\n123. 'by'\n124. 'cake'\n125. 'call'\n126. 'can'\n127. 'car'\n128. 'card'\n129. 'care'\n130. 'carry'\n131. 'case'\n132. 'cat'\n133. 'catch'\n134. 'cause'\n135. 'cent'\n136. 'centre'\n137. 'certain'\n138. 'chair'\n139. 'chairman'\n140. 'chance'\n141. 'change'\n142. 'chap'\n143. 'character'\n144. 'charge'\n145. 'cheap'\n146. 'check'\n147. 'child'\n148. 'choice'\n149. 'choose'\n150. 'Christ'\n151. 'Christmas'\n152. 'church'\n153. 'city'\n154. 'claim'\n155. 'class'\n156. 'clean'\n157. 'clear'\n158. 'client'\n159. 'clock'\n160. 'close'\n161. 'closes'\n162. 'clothe'\n163. 'club'\n164. 'coffee'\n165. 'cold'\n166. 'colleague'\n167. 'collect'\n168. 'college'\n169. 'colour'\n170. 'come'\n171. 'comment'\n172. 'commit'\n173. 'committee'\n174. 'common'\n175. 'community'\n176. 'company'\n177. 'compare'\n178. 'complete'\n179. 'compute'\n180. 'concern'\n181. 'condition'\n182. 'confer'\n183. 'consider'\n184. 'consult'\n185. 'contact'\n186. 'continue'\n187. 'contract'\n188. 'control'\n189. 'converse'\n190. 'cook'\n191. 'copy'\n192. 'corner'\n193. 'correct'\n194. 'cost'\n195. 'could'\n196. 'council'\n197. 'count'\n198. 'country'\n199. 'county'\n200. 'couple'\n201. ⋯\n202. 'society'\n203. 'some'\n204. 'son'\n205. 'soon'\n206. 'sorry'\n207. 'sort'\n208. 'sound'\n209. 'south'\n210. 'space'\n211. 'speak'\n212. 'special'\n213. 'specific'\n214. 'speed'\n215. 'spell'\n216. 'spend'\n217. 'square'\n218. 'staff'\n219. 'stage'\n220. 'stairs'\n221. 'stand'\n222. 'standard'\n223. 'start'\n224. 'state'\n225. 'station'\n226. 'stay'\n227. 'step'\n228. 'stick'\n229. 'still'\n230. 'stop'\n231. 'story'\n232. 'straight'\n233. 'strategy'\n234. 'street'\n235. 'strike'\n236. 'strong'\n237. 'structure'\n238. 'student'\n239. 'study'\n240. 'stuff'\n241. 'stupid'\n242. 'subject'\n243. 'succeed'\n244. 'such'\n245. 'sudden'\n246. 'suggest'\n247. 'suit'\n248. 'summer'\n249. 'sun'\n250. 'sunday'\n251. 'supply'\n252. 'support'\n253. 'suppose'\n254. 'sure'\n255. 'surprise'\n256. 'switch'\n257. 'system'\n258. 'table'\n259. 'take'\n260. 'talk'\n261. 'tape'\n262. 'tax'\n263. 'tea'\n264. 'teach'\n265. 'team'\n266. 'telephone'\n267. 'television'\n268. 'tell'\n269. 'ten'\n270. 'tend'\n271. 'term'\n272. 'terrible'\n273. 'test'\n274. 'than'\n275. 'thank'\n276. 'the'\n277. 'then'\n278. 'there'\n279. 'therefore'\n280. 'they'\n281. 'thing'\n282. 'think'\n283. 'thirteen'\n284. 'thirty'\n285. 'this'\n286. 'thou'\n287. 'though'\n288. 'thousand'\n289. 'three'\n290. 'through'\n291. 'throw'\n292. 'thursday'\n293. 'tie'\n294. 'time'\n295. 'to'\n296. 'today'\n297. 'together'\n298. 'tomorrow'\n299. 'tonight'\n300. 'too'\n301. 'top'\n302. 'total'\n303. 'touch'\n304. 'toward'\n305. 'town'\n306. 'trade'\n307. 'traffic'\n308. 'train'\n309. 'transport'\n310. 'travel'\n311. 'treat'\n312. 'tree'\n313. 'trouble'\n314. 'true'\n315. 'trust'\n316. 'try'\n317. 'tuesday'\n318. 'turn'\n319. 'twelve'\n320. 'twenty'\n321. 'two'\n322. 'type'\n323. 'under'\n324. 'understand'\n325. 'union'\n326. 'unit'\n327. 'unite'\n328. 'university'\n329. 'unless'\n330. 'until'\n331. 'up'\n332. 'upon'\n333. 'use'\n334. 'usual'\n335. 'value'\n336. 'various'\n337. 'very'\n338. 'video'\n339. 'view'\n340. 'village'\n341. 'visit'\n342. 'vote'\n343. 'wage'\n344. 'wait'\n345. 'walk'\n346. 'wall'\n347. 'want'\n348. 'war'\n349. 'warm'\n350. 'wash'\n351. 'waste'\n352. 'watch'\n353. 'water'\n354. 'way'\n355. 'we'\n356. 'wear'\n357. 'wednesday'\n358. 'wee'\n359. 'week'\n360. 'weigh'\n361. 'welcome'\n362. 'well'\n363. 'west'\n364. 'what'\n365. 'when'\n366. 'where'\n367. 'whether'\n368. 'which'\n369. 'while'\n370. 'white'\n371. 'who'\n372. 'whole'\n373. 'why'\n374. 'wide'\n375. 'wife'\n376. 'will'\n377. 'win'\n378. 'wind'\n379. 'window'\n380. 'wish'\n381. 'with'\n382. 'within'\n383. 'without'\n384. 'woman'\n385. 'wonder'\n386. 'wood'\n387. 'word'\n388. 'work'\n389. 'world'\n390. 'worry'\n391. 'worse'\n392. 'worth'\n393. 'would'\n394. 'write'\n395. 'wrong'\n396. 'year'\n397. 'yes'\n398. 'yesterday'\n399. 'yet'\n400. 'you'\n401. 'young'\n\n\n",
            "text/latex": "\\begin{enumerate*}\n\\item 'a'\n\\item 'able'\n\\item 'about'\n\\item 'absolute'\n\\item 'accept'\n\\item 'account'\n\\item 'achieve'\n\\item 'across'\n\\item 'act'\n\\item 'active'\n\\item 'actual'\n\\item 'add'\n\\item 'address'\n\\item 'admit'\n\\item 'advertise'\n\\item 'affect'\n\\item 'afford'\n\\item 'after'\n\\item 'afternoon'\n\\item 'again'\n\\item 'against'\n\\item 'age'\n\\item 'agent'\n\\item 'ago'\n\\item 'agree'\n\\item 'air'\n\\item 'all'\n\\item 'allow'\n\\item 'almost'\n\\item 'along'\n\\item 'already'\n\\item 'alright'\n\\item 'also'\n\\item 'although'\n\\item 'always'\n\\item 'america'\n\\item 'amount'\n\\item 'and'\n\\item 'another'\n\\item 'answer'\n\\item 'any'\n\\item 'apart'\n\\item 'apparent'\n\\item 'appear'\n\\item 'apply'\n\\item 'appoint'\n\\item 'approach'\n\\item 'appropriate'\n\\item 'area'\n\\item 'argue'\n\\item 'arm'\n\\item 'around'\n\\item 'arrange'\n\\item 'art'\n\\item 'as'\n\\item 'ask'\n\\item 'associate'\n\\item 'assume'\n\\item 'at'\n\\item 'attend'\n\\item 'authority'\n\\item 'available'\n\\item 'aware'\n\\item 'away'\n\\item 'awful'\n\\item 'baby'\n\\item 'back'\n\\item 'bad'\n\\item 'bag'\n\\item 'balance'\n\\item 'ball'\n\\item 'bank'\n\\item 'bar'\n\\item 'base'\n\\item 'basis'\n\\item 'be'\n\\item 'bear'\n\\item 'beat'\n\\item 'beauty'\n\\item 'because'\n\\item 'become'\n\\item 'bed'\n\\item 'before'\n\\item 'begin'\n\\item 'behind'\n\\item 'believe'\n\\item 'benefit'\n\\item 'best'\n\\item 'bet'\n\\item 'between'\n\\item 'big'\n\\item 'bill'\n\\item 'birth'\n\\item 'bit'\n\\item 'black'\n\\item 'bloke'\n\\item 'blood'\n\\item 'blow'\n\\item 'blue'\n\\item 'board'\n\\item 'boat'\n\\item 'body'\n\\item 'book'\n\\item 'both'\n\\item 'bother'\n\\item 'bottle'\n\\item 'bottom'\n\\item 'box'\n\\item 'boy'\n\\item 'break'\n\\item 'brief'\n\\item 'brilliant'\n\\item 'bring'\n\\item 'britain'\n\\item 'brother'\n\\item 'budget'\n\\item 'build'\n\\item 'bus'\n\\item 'business'\n\\item 'busy'\n\\item 'but'\n\\item 'buy'\n\\item 'by'\n\\item 'cake'\n\\item 'call'\n\\item 'can'\n\\item 'car'\n\\item 'card'\n\\item 'care'\n\\item 'carry'\n\\item 'case'\n\\item 'cat'\n\\item 'catch'\n\\item 'cause'\n\\item 'cent'\n\\item 'centre'\n\\item 'certain'\n\\item 'chair'\n\\item 'chairman'\n\\item 'chance'\n\\item 'change'\n\\item 'chap'\n\\item 'character'\n\\item 'charge'\n\\item 'cheap'\n\\item 'check'\n\\item 'child'\n\\item 'choice'\n\\item 'choose'\n\\item 'Christ'\n\\item 'Christmas'\n\\item 'church'\n\\item 'city'\n\\item 'claim'\n\\item 'class'\n\\item 'clean'\n\\item 'clear'\n\\item 'client'\n\\item 'clock'\n\\item 'close'\n\\item 'closes'\n\\item 'clothe'\n\\item 'club'\n\\item 'coffee'\n\\item 'cold'\n\\item 'colleague'\n\\item 'collect'\n\\item 'college'\n\\item 'colour'\n\\item 'come'\n\\item 'comment'\n\\item 'commit'\n\\item 'committee'\n\\item 'common'\n\\item 'community'\n\\item 'company'\n\\item 'compare'\n\\item 'complete'\n\\item 'compute'\n\\item 'concern'\n\\item 'condition'\n\\item 'confer'\n\\item 'consider'\n\\item 'consult'\n\\item 'contact'\n\\item 'continue'\n\\item 'contract'\n\\item 'control'\n\\item 'converse'\n\\item 'cook'\n\\item 'copy'\n\\item 'corner'\n\\item 'correct'\n\\item 'cost'\n\\item 'could'\n\\item 'council'\n\\item 'count'\n\\item 'country'\n\\item 'county'\n\\item 'couple'\n\\item ⋯\n\\item 'society'\n\\item 'some'\n\\item 'son'\n\\item 'soon'\n\\item 'sorry'\n\\item 'sort'\n\\item 'sound'\n\\item 'south'\n\\item 'space'\n\\item 'speak'\n\\item 'special'\n\\item 'specific'\n\\item 'speed'\n\\item 'spell'\n\\item 'spend'\n\\item 'square'\n\\item 'staff'\n\\item 'stage'\n\\item 'stairs'\n\\item 'stand'\n\\item 'standard'\n\\item 'start'\n\\item 'state'\n\\item 'station'\n\\item 'stay'\n\\item 'step'\n\\item 'stick'\n\\item 'still'\n\\item 'stop'\n\\item 'story'\n\\item 'straight'\n\\item 'strategy'\n\\item 'street'\n\\item 'strike'\n\\item 'strong'\n\\item 'structure'\n\\item 'student'\n\\item 'study'\n\\item 'stuff'\n\\item 'stupid'\n\\item 'subject'\n\\item 'succeed'\n\\item 'such'\n\\item 'sudden'\n\\item 'suggest'\n\\item 'suit'\n\\item 'summer'\n\\item 'sun'\n\\item 'sunday'\n\\item 'supply'\n\\item 'support'\n\\item 'suppose'\n\\item 'sure'\n\\item 'surprise'\n\\item 'switch'\n\\item 'system'\n\\item 'table'\n\\item 'take'\n\\item 'talk'\n\\item 'tape'\n\\item 'tax'\n\\item 'tea'\n\\item 'teach'\n\\item 'team'\n\\item 'telephone'\n\\item 'television'\n\\item 'tell'\n\\item 'ten'\n\\item 'tend'\n\\item 'term'\n\\item 'terrible'\n\\item 'test'\n\\item 'than'\n\\item 'thank'\n\\item 'the'\n\\item 'then'\n\\item 'there'\n\\item 'therefore'\n\\item 'they'\n\\item 'thing'\n\\item 'think'\n\\item 'thirteen'\n\\item 'thirty'\n\\item 'this'\n\\item 'thou'\n\\item 'though'\n\\item 'thousand'\n\\item 'three'\n\\item 'through'\n\\item 'throw'\n\\item 'thursday'\n\\item 'tie'\n\\item 'time'\n\\item 'to'\n\\item 'today'\n\\item 'together'\n\\item 'tomorrow'\n\\item 'tonight'\n\\item 'too'\n\\item 'top'\n\\item 'total'\n\\item 'touch'\n\\item 'toward'\n\\item 'town'\n\\item 'trade'\n\\item 'traffic'\n\\item 'train'\n\\item 'transport'\n\\item 'travel'\n\\item 'treat'\n\\item 'tree'\n\\item 'trouble'\n\\item 'true'\n\\item 'trust'\n\\item 'try'\n\\item 'tuesday'\n\\item 'turn'\n\\item 'twelve'\n\\item 'twenty'\n\\item 'two'\n\\item 'type'\n\\item 'under'\n\\item 'understand'\n\\item 'union'\n\\item 'unit'\n\\item 'unite'\n\\item 'university'\n\\item 'unless'\n\\item 'until'\n\\item 'up'\n\\item 'upon'\n\\item 'use'\n\\item 'usual'\n\\item 'value'\n\\item 'various'\n\\item 'very'\n\\item 'video'\n\\item 'view'\n\\item 'village'\n\\item 'visit'\n\\item 'vote'\n\\item 'wage'\n\\item 'wait'\n\\item 'walk'\n\\item 'wall'\n\\item 'want'\n\\item 'war'\n\\item 'warm'\n\\item 'wash'\n\\item 'waste'\n\\item 'watch'\n\\item 'water'\n\\item 'way'\n\\item 'we'\n\\item 'wear'\n\\item 'wednesday'\n\\item 'wee'\n\\item 'week'\n\\item 'weigh'\n\\item 'welcome'\n\\item 'well'\n\\item 'west'\n\\item 'what'\n\\item 'when'\n\\item 'where'\n\\item 'whether'\n\\item 'which'\n\\item 'while'\n\\item 'white'\n\\item 'who'\n\\item 'whole'\n\\item 'why'\n\\item 'wide'\n\\item 'wife'\n\\item 'will'\n\\item 'win'\n\\item 'wind'\n\\item 'window'\n\\item 'wish'\n\\item 'with'\n\\item 'within'\n\\item 'without'\n\\item 'woman'\n\\item 'wonder'\n\\item 'wood'\n\\item 'word'\n\\item 'work'\n\\item 'world'\n\\item 'worry'\n\\item 'worse'\n\\item 'worth'\n\\item 'would'\n\\item 'write'\n\\item 'wrong'\n\\item 'year'\n\\item 'yes'\n\\item 'yesterday'\n\\item 'yet'\n\\item 'you'\n\\item 'young'\n\\end{enumerate*}\n",
            "text/plain": [
              "  [1] \"a\"           \"able\"        \"about\"       \"absolute\"    \"accept\"     \n",
              "  [6] \"account\"     \"achieve\"     \"across\"      \"act\"         \"active\"     \n",
              " [11] \"actual\"      \"add\"         \"address\"     \"admit\"       \"advertise\"  \n",
              " [16] \"affect\"      \"afford\"      \"after\"       \"afternoon\"   \"again\"      \n",
              " [21] \"against\"     \"age\"         \"agent\"       \"ago\"         \"agree\"      \n",
              " [26] \"air\"         \"all\"         \"allow\"       \"almost\"      \"along\"      \n",
              " [31] \"already\"     \"alright\"     \"also\"        \"although\"    \"always\"     \n",
              " [36] \"america\"     \"amount\"      \"and\"         \"another\"     \"answer\"     \n",
              " [41] \"any\"         \"apart\"       \"apparent\"    \"appear\"      \"apply\"      \n",
              " [46] \"appoint\"     \"approach\"    \"appropriate\" \"area\"        \"argue\"      \n",
              " [51] \"arm\"         \"around\"      \"arrange\"     \"art\"         \"as\"         \n",
              " [56] \"ask\"         \"associate\"   \"assume\"      \"at\"          \"attend\"     \n",
              " [61] \"authority\"   \"available\"   \"aware\"       \"away\"        \"awful\"      \n",
              " [66] \"baby\"        \"back\"        \"bad\"         \"bag\"         \"balance\"    \n",
              " [71] \"ball\"        \"bank\"        \"bar\"         \"base\"        \"basis\"      \n",
              " [76] \"be\"          \"bear\"        \"beat\"        \"beauty\"      \"because\"    \n",
              " [81] \"become\"      \"bed\"         \"before\"      \"begin\"       \"behind\"     \n",
              " [86] \"believe\"     \"benefit\"     \"best\"        \"bet\"         \"between\"    \n",
              " [91] \"big\"         \"bill\"        \"birth\"       \"bit\"         \"black\"      \n",
              " [96] \"bloke\"       \"blood\"       \"blow\"        \"blue\"        \"board\"      \n",
              "[101] \"boat\"        \"body\"        \"book\"        \"both\"        \"bother\"     \n",
              "[106] \"bottle\"      \"bottom\"      \"box\"         \"boy\"         \"break\"      \n",
              "[111] \"brief\"       \"brilliant\"   \"bring\"       \"britain\"     \"brother\"    \n",
              "[116] \"budget\"      \"build\"       \"bus\"         \"business\"    \"busy\"       \n",
              "[121] \"but\"         \"buy\"         \"by\"          \"cake\"        \"call\"       \n",
              "[126] \"can\"         \"car\"         \"card\"        \"care\"        \"carry\"      \n",
              "[131] \"case\"        \"cat\"         \"catch\"       \"cause\"       \"cent\"       \n",
              "[136] \"centre\"      \"certain\"     \"chair\"       \"chairman\"    \"chance\"     \n",
              "[141] \"change\"      \"chap\"        \"character\"   \"charge\"      \"cheap\"      \n",
              "[146] \"check\"       \"child\"       \"choice\"      \"choose\"      \"Christ\"     \n",
              "[151] \"Christmas\"   \"church\"      \"city\"        \"claim\"       \"class\"      \n",
              "[156] \"clean\"       \"clear\"       \"client\"      \"clock\"       \"close\"      \n",
              "[161] \"closes\"      \"clothe\"      \"club\"        \"coffee\"      \"cold\"       \n",
              "[166] \"colleague\"   \"collect\"     \"college\"     \"colour\"      \"come\"       \n",
              "[171] \"comment\"     \"commit\"      \"committee\"   \"common\"      \"community\"  \n",
              "[176] \"company\"     \"compare\"     \"complete\"    \"compute\"     \"concern\"    \n",
              "[181] \"condition\"   \"confer\"      \"consider\"    \"consult\"     \"contact\"    \n",
              "[186] \"continue\"    \"contract\"    \"control\"     \"converse\"    \"cook\"       \n",
              "[191] \"copy\"        \"corner\"      \"correct\"     \"cost\"        \"could\"      \n",
              "[196] \"council\"     \"count\"       \"country\"     \"county\"      \"couple\"     \n",
              "[201] \"course\"      \"court\"       \"cover\"       \"create\"      \"cross\"      \n",
              "[206] \"cup\"         \"current\"     \"cut\"         \"dad\"         \"danger\"     \n",
              "[211] \"date\"        \"day\"         \"dead\"        \"deal\"        \"dear\"       \n",
              "[216] \"debate\"      \"decide\"      \"decision\"    \"deep\"        \"definite\"   \n",
              "[221] \"degree\"      \"department\"  \"depend\"      \"describe\"    \"design\"     \n",
              "[226] \"detail\"      \"develop\"     \"die\"         \"difference\"  \"difficult\"  \n",
              "[231] \"dinner\"      \"direct\"      \"discuss\"     \"district\"    \"divide\"     \n",
              "[236] \"do\"          \"doctor\"      \"document\"    \"dog\"         \"door\"       \n",
              "[241] \"double\"      \"doubt\"       \"down\"        \"draw\"        \"dress\"      \n",
              "[246] \"drink\"       \"drive\"       \"drop\"        \"dry\"         \"due\"        \n",
              "[251] \"during\"      \"each\"        \"early\"       \"east\"        \"easy\"       \n",
              "[256] \"eat\"         \"economy\"     \"educate\"     \"effect\"      \"egg\"        \n",
              "[261] \"eight\"       \"either\"      \"elect\"       \"electric\"    \"eleven\"     \n",
              "[266] \"else\"        \"employ\"      \"encourage\"   \"end\"         \"engine\"     \n",
              "[271] \"english\"     \"enjoy\"       \"enough\"      \"enter\"       \"environment\"\n",
              "[276] \"equal\"       \"especial\"    \"europe\"      \"even\"        \"evening\"    \n",
              "[281] \"ever\"        \"every\"       \"evidence\"    \"exact\"       \"example\"    \n",
              "[286] \"except\"      \"excuse\"      \"exercise\"    \"exist\"       \"expect\"     \n",
              "[291] \"expense\"     \"experience\"  \"explain\"     \"express\"     \"extra\"      \n",
              "[296] \"eye\"         \"face\"        \"fact\"        \"fair\"        \"fall\"       \n",
              "[301] \"family\"      \"far\"         \"farm\"        \"fast\"        \"father\"     \n",
              "[306] \"favour\"      \"feed\"        \"feel\"        \"few\"         \"field\"      \n",
              "[311] \"fight\"       \"figure\"      \"file\"        \"fill\"        \"film\"       \n",
              "[316] \"final\"       \"finance\"     \"find\"        \"fine\"        \"finish\"     \n",
              "[321] \"fire\"        \"first\"       \"fish\"        \"fit\"         \"five\"       \n",
              "[326] \"flat\"        \"floor\"       \"fly\"         \"follow\"      \"food\"       \n",
              "[331] \"foot\"        \"for\"         \"force\"       \"forget\"      \"form\"       \n",
              "[336] \"fortune\"     \"forward\"     \"four\"        \"france\"      \"free\"       \n",
              "[341] \"friday\"      \"friend\"      \"from\"        \"front\"       \"full\"       \n",
              "[346] \"fun\"         \"function\"    \"fund\"        \"further\"     \"future\"     \n",
              "[351] \"game\"        \"garden\"      \"gas\"         \"general\"     \"germany\"    \n",
              "[356] \"get\"         \"girl\"        \"give\"        \"glass\"       \"go\"         \n",
              "[361] \"god\"         \"good\"        \"goodbye\"     \"govern\"      \"grand\"      \n",
              "[366] \"grant\"       \"great\"       \"green\"       \"ground\"      \"group\"      \n",
              "[371] \"grow\"        \"guess\"       \"guy\"         \"hair\"        \"half\"       \n",
              "[376] \"hall\"        \"hand\"        \"hang\"        \"happen\"      \"happy\"      \n",
              "[381] \"hard\"        \"hate\"        \"have\"        \"he\"          \"head\"       \n",
              "[386] \"health\"      \"hear\"        \"heart\"       \"heat\"        \"heavy\"      \n",
              "[391] \"hell\"        \"help\"        \"here\"        \"high\"        \"history\"    \n",
              "[396] \"hit\"         \"hold\"        \"holiday\"     \"home\"        \"honest\"     \n",
              "[401] \"hope\"        \"horse\"       \"hospital\"    \"hot\"         \"hour\"       \n",
              "[406] \"house\"       \"how\"         \"however\"     \"hullo\"       \"hundred\"    \n",
              "[411] \"husband\"     \"idea\"        \"identify\"    \"if\"          \"imagine\"    \n",
              "[416] \"important\"   \"improve\"     \"in\"          \"include\"     \"income\"     \n",
              "[421] \"increase\"    \"indeed\"      \"individual\"  \"industry\"    \"inform\"     \n",
              "[426] \"inside\"      \"instead\"     \"insure\"      \"interest\"    \"into\"       \n",
              "[431] \"introduce\"   \"invest\"      \"involve\"     \"issue\"       \"it\"         \n",
              "[436] \"item\"        \"jesus\"       \"job\"         \"join\"        \"judge\"      \n",
              "[441] \"jump\"        \"just\"        \"keep\"        \"key\"         \"kid\"        \n",
              "[446] \"kill\"        \"kind\"        \"king\"        \"kitchen\"     \"knock\"      \n",
              "[451] \"know\"        \"labour\"      \"lad\"         \"lady\"        \"land\"       \n",
              "[456] \"language\"    \"large\"       \"last\"        \"late\"        \"laugh\"      \n",
              "[461] \"law\"         \"lay\"         \"lead\"        \"learn\"       \"leave\"      \n",
              "[466] \"left\"        \"leg\"         \"less\"        \"let\"         \"letter\"     \n",
              "[471] \"level\"       \"lie\"         \"life\"        \"light\"       \"like\"       \n",
              "[476] \"likely\"      \"limit\"       \"line\"        \"link\"        \"list\"       \n",
              "[481] \"listen\"      \"little\"      \"live\"        \"load\"        \"local\"      \n",
              "[486] \"lock\"        \"london\"      \"long\"        \"look\"        \"lord\"       \n",
              "[491] \"lose\"        \"lot\"         \"love\"        \"low\"         \"luck\"       \n",
              "[496] \"lunch\"       \"machine\"     \"main\"        \"major\"       \"make\"       \n",
              "[501] \"man\"         \"manage\"      \"many\"        \"mark\"        \"market\"     \n",
              "[506] \"marry\"       \"match\"       \"matter\"      \"may\"         \"maybe\"      \n",
              "[511] \"mean\"        \"meaning\"     \"measure\"     \"meet\"        \"member\"     \n",
              "[516] \"mention\"     \"middle\"      \"might\"       \"mile\"        \"milk\"       \n",
              "[521] \"million\"     \"mind\"        \"minister\"    \"minus\"       \"minute\"     \n",
              "[526] \"miss\"        \"mister\"      \"moment\"      \"monday\"      \"money\"      \n",
              "[531] \"month\"       \"more\"        \"morning\"     \"most\"        \"mother\"     \n",
              "[536] \"motion\"      \"move\"        \"mrs\"         \"much\"        \"music\"      \n",
              "[541] \"must\"        \"name\"        \"nation\"      \"nature\"      \"near\"       \n",
              "[546] \"necessary\"   \"need\"        \"never\"       \"new\"         \"news\"       \n",
              "[551] \"next\"        \"nice\"        \"night\"       \"nine\"        \"no\"         \n",
              "[556] \"non\"         \"none\"        \"normal\"      \"north\"       \"not\"        \n",
              "[561] \"note\"        \"notice\"      \"now\"         \"number\"      \"obvious\"    \n",
              "[566] \"occasion\"    \"odd\"         \"of\"          \"off\"         \"offer\"      \n",
              "[571] \"office\"      \"often\"       \"okay\"        \"old\"         \"on\"         \n",
              "[576] \"once\"        \"one\"         \"only\"        \"open\"        \"operate\"    \n",
              "[581] \"opportunity\" \"oppose\"      \"or\"          \"order\"       \"organize\"   \n",
              "[586] \"original\"    \"other\"       \"otherwise\"   \"ought\"       \"out\"        \n",
              "[591] \"over\"        \"own\"         \"pack\"        \"page\"        \"paint\"      \n",
              "[596] \"pair\"        \"paper\"       \"paragraph\"   \"pardon\"      \"parent\"     \n",
              "[601] \"park\"        \"part\"        \"particular\"  \"party\"       \"pass\"       \n",
              "[606] \"past\"        \"pay\"         \"pence\"       \"pension\"     \"people\"     \n",
              "[611] \"per\"         \"percent\"     \"perfect\"     \"perhaps\"     \"period\"     \n",
              "[616] \"person\"      \"photograph\"  \"pick\"        \"picture\"     \"piece\"      \n",
              "[621] \"place\"       \"plan\"        \"play\"        \"please\"      \"plus\"       \n",
              "[626] \"point\"       \"police\"      \"policy\"      \"politic\"     \"poor\"       \n",
              "[631] \"position\"    \"positive\"    \"possible\"    \"post\"        \"pound\"      \n",
              "[636] \"power\"       \"practise\"    \"prepare\"     \"present\"     \"press\"      \n",
              "[641] \"pressure\"    \"presume\"     \"pretty\"      \"previous\"    \"price\"      \n",
              "[646] \"print\"       \"private\"     \"probable\"    \"problem\"     \"proceed\"    \n",
              "[651] \"process\"     \"produce\"     \"product\"     \"programme\"   \"project\"    \n",
              "[656] \"proper\"      \"propose\"     \"protect\"     \"provide\"     \"public\"     \n",
              "[661] \"pull\"        \"purpose\"     \"push\"        \"put\"         \"quality\"    \n",
              "[666] \"quarter\"     \"question\"    \"quick\"       \"quid\"        \"quiet\"      \n",
              "[671] \"quite\"       \"radio\"       \"rail\"        \"raise\"       \"range\"      \n",
              "[676] \"rate\"        \"rather\"      \"read\"        \"ready\"       \"real\"       \n",
              "[681] \"realise\"     \"really\"      \"reason\"      \"receive\"     \"recent\"     \n",
              "[686] \"reckon\"      \"recognize\"   \"recommend\"   \"record\"      \"red\"        \n",
              "[691] \"reduce\"      \"refer\"       \"regard\"      \"region\"      \"relation\"   \n",
              "[696] \"remember\"    \"report\"      \"represent\"   \"require\"     \"research\"   \n",
              "[701] \"resource\"    \"respect\"     \"responsible\" \"rest\"        \"result\"     \n",
              "[706] \"return\"      \"rid\"         \"right\"       \"ring\"        \"rise\"       \n",
              "[711] \"road\"        \"role\"        \"roll\"        \"room\"        \"round\"      \n",
              "[716] \"rule\"        \"run\"         \"safe\"        \"sale\"        \"same\"       \n",
              "[721] \"saturday\"    \"save\"        \"say\"         \"scheme\"      \"school\"     \n",
              "[726] \"science\"     \"score\"       \"scotland\"    \"seat\"        \"second\"     \n",
              "[731] \"secretary\"   \"section\"     \"secure\"      \"see\"         \"seem\"       \n",
              "[736] \"self\"        \"sell\"        \"send\"        \"sense\"       \"separate\"   \n",
              "[741] \"serious\"     \"serve\"       \"service\"     \"set\"         \"settle\"     \n",
              "[746] \"seven\"       \"sex\"         \"shall\"       \"share\"       \"she\"        \n",
              "[751] \"sheet\"       \"shoe\"        \"shoot\"       \"shop\"        \"short\"      \n",
              "[756] \"should\"      \"show\"        \"shut\"        \"sick\"        \"side\"       \n",
              "[761] \"sign\"        \"similar\"     \"simple\"      \"since\"       \"sing\"       \n",
              "[766] \"single\"      \"sir\"         \"sister\"      \"sit\"         \"site\"       \n",
              "[771] \"situate\"     \"six\"         \"size\"        \"sleep\"       \"slight\"     \n",
              "[776] \"slow\"        \"small\"       \"smoke\"       \"so\"          \"social\"     \n",
              "[781] \"society\"     \"some\"        \"son\"         \"soon\"        \"sorry\"      \n",
              "[786] \"sort\"        \"sound\"       \"south\"       \"space\"       \"speak\"      \n",
              "[791] \"special\"     \"specific\"    \"speed\"       \"spell\"       \"spend\"      \n",
              "[796] \"square\"      \"staff\"       \"stage\"       \"stairs\"      \"stand\"      \n",
              "[801] \"standard\"    \"start\"       \"state\"       \"station\"     \"stay\"       \n",
              "[806] \"step\"        \"stick\"       \"still\"       \"stop\"        \"story\"      \n",
              "[811] \"straight\"    \"strategy\"    \"street\"      \"strike\"      \"strong\"     \n",
              "[816] \"structure\"   \"student\"     \"study\"       \"stuff\"       \"stupid\"     \n",
              "[821] \"subject\"     \"succeed\"     \"such\"        \"sudden\"      \"suggest\"    \n",
              "[826] \"suit\"        \"summer\"      \"sun\"         \"sunday\"      \"supply\"     \n",
              "[831] \"support\"     \"suppose\"     \"sure\"        \"surprise\"    \"switch\"     \n",
              "[836] \"system\"      \"table\"       \"take\"        \"talk\"        \"tape\"       \n",
              "[841] \"tax\"         \"tea\"         \"teach\"       \"team\"        \"telephone\"  \n",
              "[846] \"television\"  \"tell\"        \"ten\"         \"tend\"        \"term\"       \n",
              "[851] \"terrible\"    \"test\"        \"than\"        \"thank\"       \"the\"        \n",
              "[856] \"then\"        \"there\"       \"therefore\"   \"they\"        \"thing\"      \n",
              "[861] \"think\"       \"thirteen\"    \"thirty\"      \"this\"        \"thou\"       \n",
              "[866] \"though\"      \"thousand\"    \"three\"       \"through\"     \"throw\"      \n",
              "[871] \"thursday\"    \"tie\"         \"time\"        \"to\"          \"today\"      \n",
              "[876] \"together\"    \"tomorrow\"    \"tonight\"     \"too\"         \"top\"        \n",
              "[881] \"total\"       \"touch\"       \"toward\"      \"town\"        \"trade\"      \n",
              "[886] \"traffic\"     \"train\"       \"transport\"   \"travel\"      \"treat\"      \n",
              "[891] \"tree\"        \"trouble\"     \"true\"        \"trust\"       \"try\"        \n",
              "[896] \"tuesday\"     \"turn\"        \"twelve\"      \"twenty\"      \"two\"        \n",
              "[901] \"type\"        \"under\"       \"understand\"  \"union\"       \"unit\"       \n",
              "[906] \"unite\"       \"university\"  \"unless\"      \"until\"       \"up\"         \n",
              "[911] \"upon\"        \"use\"         \"usual\"       \"value\"       \"various\"    \n",
              "[916] \"very\"        \"video\"       \"view\"        \"village\"     \"visit\"      \n",
              "[921] \"vote\"        \"wage\"        \"wait\"        \"walk\"        \"wall\"       \n",
              "[926] \"want\"        \"war\"         \"warm\"        \"wash\"        \"waste\"      \n",
              "[931] \"watch\"       \"water\"       \"way\"         \"we\"          \"wear\"       \n",
              "[936] \"wednesday\"   \"wee\"         \"week\"        \"weigh\"       \"welcome\"    \n",
              "[941] \"well\"        \"west\"        \"what\"        \"when\"        \"where\"      \n",
              "[946] \"whether\"     \"which\"       \"while\"       \"white\"       \"who\"        \n",
              "[951] \"whole\"       \"why\"         \"wide\"        \"wife\"        \"will\"       \n",
              "[956] \"win\"         \"wind\"        \"window\"      \"wish\"        \"with\"       \n",
              "[961] \"within\"      \"without\"     \"woman\"       \"wonder\"      \"wood\"       \n",
              "[966] \"word\"        \"work\"        \"world\"       \"worry\"       \"worse\"      \n",
              "[971] \"worth\"       \"would\"       \"write\"       \"wrong\"       \"year\"       \n",
              "[976] \"yes\"         \"yesterday\"   \"yet\"         \"you\"         \"young\"      "
            ]
          },
          "metadata": {}
        }
      ]
    },
    {
      "cell_type": "code",
      "source": [
        "length(words)"
      ],
      "metadata": {
        "colab": {
          "base_uri": "https://localhost:8080/",
          "height": 34
        },
        "id": "qV4OZGgFWwEW",
        "outputId": "96fe2da0-8653-421e-98b7-ba909cba16ba"
      },
      "execution_count": null,
      "outputs": [
        {
          "output_type": "display_data",
          "data": {
            "text/html": [
              "980"
            ],
            "text/markdown": "980",
            "text/latex": "980",
            "text/plain": [
              "[1] 980"
            ]
          },
          "metadata": {}
        }
      ]
    },
    {
      "cell_type": "markdown",
      "source": [
        "As you can see above, the word list is 980 words long. Let's use these to do a quick detour on indexing.\n"
      ],
      "metadata": {
        "id": "kdR9UkK_Tthf"
      }
    },
    {
      "cell_type": "code",
      "source": [
        "words[1:5]"
      ],
      "metadata": {
        "colab": {
          "base_uri": "https://localhost:8080/",
          "height": 34
        },
        "id": "cSzr5WuCT1bn",
        "outputId": "23ef5a6d-2446-4ed1-95b9-3eb0e2867048"
      },
      "execution_count": null,
      "outputs": [
        {
          "output_type": "display_data",
          "data": {
            "text/html": [
              "<style>\n",
              ".list-inline {list-style: none; margin:0; padding: 0}\n",
              ".list-inline>li {display: inline-block}\n",
              ".list-inline>li:not(:last-child)::after {content: \"\\00b7\"; padding: 0 .5ex}\n",
              "</style>\n",
              "<ol class=list-inline><li>'a'</li><li>'able'</li><li>'about'</li><li>'absolute'</li><li>'accept'</li></ol>\n"
            ],
            "text/markdown": "1. 'a'\n2. 'able'\n3. 'about'\n4. 'absolute'\n5. 'accept'\n\n\n",
            "text/latex": "\\begin{enumerate*}\n\\item 'a'\n\\item 'able'\n\\item 'about'\n\\item 'absolute'\n\\item 'accept'\n\\end{enumerate*}\n",
            "text/plain": [
              "[1] \"a\"        \"able\"     \"about\"    \"absolute\" \"accept\"  "
            ]
          },
          "metadata": {}
        }
      ]
    },
    {
      "cell_type": "code",
      "source": [
        "words[1]"
      ],
      "metadata": {
        "colab": {
          "base_uri": "https://localhost:8080/",
          "height": 34
        },
        "id": "euoCgPDlT5Qa",
        "outputId": "527393b4-1fe7-42a3-bfd0-f34435a84f8a"
      },
      "execution_count": null,
      "outputs": [
        {
          "output_type": "display_data",
          "data": {
            "text/html": [
              "'a'"
            ],
            "text/markdown": "'a'",
            "text/latex": "'a'",
            "text/plain": [
              "[1] \"a\""
            ]
          },
          "metadata": {}
        }
      ]
    },
    {
      "cell_type": "code",
      "source": [
        "words[5]"
      ],
      "metadata": {
        "colab": {
          "base_uri": "https://localhost:8080/",
          "height": 34
        },
        "id": "7vb2RrjIT7Sp",
        "outputId": "ddeb38e1-aeb2-4626-cc5a-f3f2cc5d12eb"
      },
      "execution_count": null,
      "outputs": [
        {
          "output_type": "display_data",
          "data": {
            "text/html": [
              "'accept'"
            ],
            "text/markdown": "'accept'",
            "text/latex": "'accept'",
            "text/plain": [
              "[1] \"accept\""
            ]
          },
          "metadata": {}
        }
      ]
    },
    {
      "cell_type": "markdown",
      "source": [
        "The first line above takes the first five elements of the list. R starts at base 1 for indexing. So `words[1]` is \"a\", and `words[5]` \"accept\".    "
      ],
      "metadata": {
        "id": "Oa68mwOCT9YX"
      }
    },
    {
      "cell_type": "markdown",
      "source": [
        "Finally, R also has a dataset called `sentences` that we can make use of."
      ],
      "metadata": {
        "id": "l-6AKLJbUEjo"
      }
    },
    {
      "cell_type": "code",
      "source": [
        "length(sentences)"
      ],
      "metadata": {
        "colab": {
          "base_uri": "https://localhost:8080/",
          "height": 34
        },
        "id": "Ywoxv9EjUGjk",
        "outputId": "46f0ea2c-1331-43b0-b332-eae6136de7fc"
      },
      "execution_count": null,
      "outputs": [
        {
          "output_type": "display_data",
          "data": {
            "text/html": [
              "720"
            ],
            "text/markdown": "720",
            "text/latex": "720",
            "text/plain": [
              "[1] 720"
            ]
          },
          "metadata": {}
        }
      ]
    },
    {
      "cell_type": "code",
      "source": [
        "sentences[1:5]"
      ],
      "metadata": {
        "colab": {
          "base_uri": "https://localhost:8080/",
          "height": 52
        },
        "id": "snBX1A_kUIFi",
        "outputId": "32e1d9bf-cc77-4a09-c278-a1526d97029d"
      },
      "execution_count": null,
      "outputs": [
        {
          "output_type": "display_data",
          "data": {
            "text/html": [
              "<style>\n",
              ".list-inline {list-style: none; margin:0; padding: 0}\n",
              ".list-inline>li {display: inline-block}\n",
              ".list-inline>li:not(:last-child)::after {content: \"\\00b7\"; padding: 0 .5ex}\n",
              "</style>\n",
              "<ol class=list-inline><li>'The birch canoe slid on the smooth planks.'</li><li>'Glue the sheet to the dark blue background.'</li><li>'It\\'s easy to tell the depth of a well.'</li><li>'These days a chicken leg is a rare dish.'</li><li>'Rice is often served in round bowls.'</li></ol>\n"
            ],
            "text/markdown": "1. 'The birch canoe slid on the smooth planks.'\n2. 'Glue the sheet to the dark blue background.'\n3. 'It\\'s easy to tell the depth of a well.'\n4. 'These days a chicken leg is a rare dish.'\n5. 'Rice is often served in round bowls.'\n\n\n",
            "text/latex": "\\begin{enumerate*}\n\\item 'The birch canoe slid on the smooth planks.'\n\\item 'Glue the sheet to the dark blue background.'\n\\item 'It\\textbackslash{}'s easy to tell the depth of a well.'\n\\item 'These days a chicken leg is a rare dish.'\n\\item 'Rice is often served in round bowls.'\n\\end{enumerate*}\n",
            "text/plain": [
              "[1] \"The birch canoe slid on the smooth planks.\" \n",
              "[2] \"Glue the sheet to the dark blue background.\"\n",
              "[3] \"It's easy to tell the depth of a well.\"     \n",
              "[4] \"These days a chicken leg is a rare dish.\"   \n",
              "[5] \"Rice is often served in round bowls.\"       "
            ]
          },
          "metadata": {}
        }
      ]
    },
    {
      "cell_type": "markdown",
      "metadata": {
        "collapsed": true,
        "id": "xHk_4Nq_TVvn"
      },
      "source": [
        "# Manipulating strings\n",
        "\n",
        "We have lots of strings to play with now. You can combine, or “concatenate”, strings very naturally using the \"+\" sign. Note that in the below we also add in a space between the two strings. You could potentially add anything you want in this particular spot (and can keep going with more strings)."
      ]
    },
    {
      "cell_type": "code",
      "metadata": {
        "colab": {
          "base_uri": "https://localhost:8080/",
          "height": 34
        },
        "id": "PlRx6uY3TVvn",
        "outputId": "b8a4503e-1dd1-47db-bf34-262b6c7face2"
      },
      "source": [
        "a_string <- \"A first sentence!\"\n",
        "second_string <- \"Wow, two sentences.\"\n",
        "combined_string <- paste(a_string, second_string, sep = \" \")\n",
        "combined_string"
      ],
      "execution_count": null,
      "outputs": [
        {
          "output_type": "display_data",
          "data": {
            "text/html": [
              "'A first sentence! Wow, two sentences.'"
            ],
            "text/markdown": "'A first sentence! Wow, two sentences.'",
            "text/latex": "'A first sentence! Wow, two sentences.'",
            "text/plain": [
              "[1] \"A first sentence! Wow, two sentences.\""
            ]
          },
          "metadata": {}
        }
      ]
    },
    {
      "cell_type": "markdown",
      "metadata": {
        "id": "e8Tz4_S3TVvo"
      },
      "source": [
        "We can concatenate *all* the strings using `paste()` with the `collapse` argument."
      ]
    },
    {
      "cell_type": "code",
      "metadata": {
        "colab": {
          "base_uri": "https://localhost:8080/",
          "height": 34
        },
        "id": "d2ya0kHaTVvo",
        "outputId": "8811b164-c40e-44ac-cfd2-6109ca39ff63"
      },
      "source": [
        "paste(month_name, collapse = \" then \")"
      ],
      "execution_count": null,
      "outputs": [
        {
          "output_type": "display_data",
          "data": {
            "text/html": [
              "'January then February then March then April then May then June then July then August then September then October then November then December'"
            ],
            "text/markdown": "'January then February then March then April then May then June then July then August then September then October then November then December'",
            "text/latex": "'January then February then March then April then May then June then July then August then September then October then November then December'",
            "text/plain": [
              "[1] \"January then February then March then April then May then June then July then August then September then October then November then December\""
            ]
          },
          "metadata": {}
        }
      ]
    },
    {
      "cell_type": "markdown",
      "metadata": {
        "id": "-IxVQESATVvo"
      },
      "source": [
        "Let's work with those months to match abbreviations to month names. There are multiple ways to do this. We could do a `for` loop that iterates through the elements:"
      ]
    },
    {
      "cell_type": "code",
      "metadata": {
        "colab": {
          "base_uri": "https://localhost:8080/",
          "height": 52
        },
        "id": "yVtLd5JGTVvo",
        "outputId": "c455ce90-c003-493d-f114-ecda25610a2c"
      },
      "source": [
        "month_explanations <- c()\n",
        "for(i in 1:12){\n",
        "    new_string <- paste(month.abb[i], month.name[i], sep = \" stands for \")\n",
        "    month_explanations <- c(month_explanations, new_string)\n",
        "}\n",
        "month_explanations"
      ],
      "execution_count": null,
      "outputs": [
        {
          "output_type": "display_data",
          "data": {
            "text/html": [
              "<style>\n",
              ".list-inline {list-style: none; margin:0; padding: 0}\n",
              ".list-inline>li {display: inline-block}\n",
              ".list-inline>li:not(:last-child)::after {content: \"\\00b7\"; padding: 0 .5ex}\n",
              "</style>\n",
              "<ol class=list-inline><li>'Jan stands for January'</li><li>'Feb stands for February'</li><li>'Mar stands for March'</li><li>'Apr stands for April'</li><li>'May stands for May'</li><li>'Jun stands for June'</li><li>'Jul stands for July'</li><li>'Aug stands for August'</li><li>'Sep stands for September'</li><li>'Oct stands for October'</li><li>'Nov stands for November'</li><li>'Dec stands for December'</li></ol>\n"
            ],
            "text/markdown": "1. 'Jan stands for January'\n2. 'Feb stands for February'\n3. 'Mar stands for March'\n4. 'Apr stands for April'\n5. 'May stands for May'\n6. 'Jun stands for June'\n7. 'Jul stands for July'\n8. 'Aug stands for August'\n9. 'Sep stands for September'\n10. 'Oct stands for October'\n11. 'Nov stands for November'\n12. 'Dec stands for December'\n\n\n",
            "text/latex": "\\begin{enumerate*}\n\\item 'Jan stands for January'\n\\item 'Feb stands for February'\n\\item 'Mar stands for March'\n\\item 'Apr stands for April'\n\\item 'May stands for May'\n\\item 'Jun stands for June'\n\\item 'Jul stands for July'\n\\item 'Aug stands for August'\n\\item 'Sep stands for September'\n\\item 'Oct stands for October'\n\\item 'Nov stands for November'\n\\item 'Dec stands for December'\n\\end{enumerate*}\n",
            "text/plain": [
              " [1] \"Jan stands for January\"   \"Feb stands for February\" \n",
              " [3] \"Mar stands for March\"     \"Apr stands for April\"    \n",
              " [5] \"May stands for May\"       \"Jun stands for June\"     \n",
              " [7] \"Jul stands for July\"      \"Aug stands for August\"   \n",
              " [9] \"Sep stands for September\" \"Oct stands for October\"  \n",
              "[11] \"Nov stands for November\"  \"Dec stands for December\" "
            ]
          },
          "metadata": {}
        }
      ]
    },
    {
      "cell_type": "markdown",
      "metadata": {
        "id": "0YtmR7u_TVvq"
      },
      "source": [
        "Let's do the same with letter pairs"
      ]
    },
    {
      "cell_type": "code",
      "metadata": {
        "colab": {
          "base_uri": "https://localhost:8080/",
          "height": 34
        },
        "id": "n9lU8UKqTVvq",
        "outputId": "a649c51f-bcca-4450-d15d-6e8df00a75f8"
      },
      "source": [
        "letterpairs <- c()\n",
        "for(i in 1:length(letters_string)){\n",
        "    letterpair <- paste(letters_string[i], LETTERS_string[i], sep = \"\")\n",
        "    letterpairs <- c(letterpairs, letterpair)\n",
        "}\n",
        "letterpairs"
      ],
      "execution_count": null,
      "outputs": [
        {
          "output_type": "display_data",
          "data": {
            "text/html": [
              "<style>\n",
              ".list-inline {list-style: none; margin:0; padding: 0}\n",
              ".list-inline>li {display: inline-block}\n",
              ".list-inline>li:not(:last-child)::after {content: \"\\00b7\"; padding: 0 .5ex}\n",
              "</style>\n",
              "<ol class=list-inline><li>'aA'</li><li>'bB'</li><li>'cC'</li><li>'dD'</li><li>'eE'</li><li>'fF'</li><li>'gG'</li><li>'hH'</li><li>'iI'</li><li>'jJ'</li><li>'kK'</li><li>'lL'</li><li>'mM'</li><li>'nN'</li><li>'oO'</li><li>'pP'</li><li>'qQ'</li><li>'rR'</li><li>'sS'</li><li>'tT'</li><li>'uU'</li><li>'vV'</li><li>'wW'</li><li>'xX'</li><li>'yY'</li><li>'zZ'</li></ol>\n"
            ],
            "text/markdown": "1. 'aA'\n2. 'bB'\n3. 'cC'\n4. 'dD'\n5. 'eE'\n6. 'fF'\n7. 'gG'\n8. 'hH'\n9. 'iI'\n10. 'jJ'\n11. 'kK'\n12. 'lL'\n13. 'mM'\n14. 'nN'\n15. 'oO'\n16. 'pP'\n17. 'qQ'\n18. 'rR'\n19. 'sS'\n20. 'tT'\n21. 'uU'\n22. 'vV'\n23. 'wW'\n24. 'xX'\n25. 'yY'\n26. 'zZ'\n\n\n",
            "text/latex": "\\begin{enumerate*}\n\\item 'aA'\n\\item 'bB'\n\\item 'cC'\n\\item 'dD'\n\\item 'eE'\n\\item 'fF'\n\\item 'gG'\n\\item 'hH'\n\\item 'iI'\n\\item 'jJ'\n\\item 'kK'\n\\item 'lL'\n\\item 'mM'\n\\item 'nN'\n\\item 'oO'\n\\item 'pP'\n\\item 'qQ'\n\\item 'rR'\n\\item 'sS'\n\\item 'tT'\n\\item 'uU'\n\\item 'vV'\n\\item 'wW'\n\\item 'xX'\n\\item 'yY'\n\\item 'zZ'\n\\end{enumerate*}\n",
            "text/plain": [
              " [1] \"aA\" \"bB\" \"cC\" \"dD\" \"eE\" \"fF\" \"gG\" \"hH\" \"iI\" \"jJ\" \"kK\" \"lL\" \"mM\" \"nN\" \"oO\"\n",
              "[16] \"pP\" \"qQ\" \"rR\" \"sS\" \"tT\" \"uU\" \"vV\" \"wW\" \"xX\" \"yY\" \"zZ\""
            ]
          },
          "metadata": {}
        }
      ]
    },
    {
      "cell_type": "markdown",
      "metadata": {
        "id": "klyQF3aUTVvq"
      },
      "source": [
        "You can split up a string into pieces, based on a pattern, with the \"split\" method."
      ]
    },
    {
      "cell_type": "code",
      "metadata": {
        "colab": {
          "base_uri": "https://localhost:8080/",
          "height": 62
        },
        "id": "J1ezjhgvTVvq",
        "outputId": "5cacfccb-95c8-43b1-f94b-4960f6c9b99d"
      },
      "source": [
        "str_split(combined_string, \"! \")"
      ],
      "execution_count": null,
      "outputs": [
        {
          "output_type": "display_data",
          "data": {
            "text/html": [
              "<ol>\n",
              "\t<li><style>\n",
              ".list-inline {list-style: none; margin:0; padding: 0}\n",
              ".list-inline>li {display: inline-block}\n",
              ".list-inline>li:not(:last-child)::after {content: \"\\00b7\"; padding: 0 .5ex}\n",
              "</style>\n",
              "<ol class=list-inline><li>'A first sentence'</li><li>'Wow, two sentences.'</li></ol>\n",
              "</li>\n",
              "</ol>\n"
            ],
            "text/markdown": "1. 1. 'A first sentence'\n2. 'Wow, two sentences.'\n\n\n\n\n\n",
            "text/latex": "\\begin{enumerate}\n\\item \\begin{enumerate*}\n\\item 'A first sentence'\n\\item 'Wow, two sentences.'\n\\end{enumerate*}\n\n\\end{enumerate}\n",
            "text/plain": [
              "[[1]]\n",
              "[1] \"A first sentence\"    \"Wow, two sentences.\"\n"
            ]
          },
          "metadata": {}
        }
      ]
    },
    {
      "cell_type": "markdown",
      "metadata": {
        "id": "dYo3eGdUTVvr"
      },
      "source": [
        "## Substrings (Slices)"
      ]
    },
    {
      "cell_type": "markdown",
      "metadata": {
        "id": "kN7vhjkLTVvr"
      },
      "source": [
        "Substrings are just slices. We are just taking a little slice from a longer string and exporting it. For instance, to get a list of the second through fourth character in each fruit name:"
      ]
    },
    {
      "cell_type": "code",
      "metadata": {
        "colab": {
          "base_uri": "https://localhost:8080/",
          "height": 69
        },
        "id": "qpgln_TLTVvr",
        "outputId": "c02c4fcc-6215-46b8-f8a6-d24ee0f56418"
      },
      "source": [
        "substringfromfruit <- str_sub(fruit, start = 2, end = 4)\n",
        "substringfromfruit"
      ],
      "execution_count": null,
      "outputs": [
        {
          "output_type": "display_data",
          "data": {
            "text/html": [
              "<style>\n",
              ".list-inline {list-style: none; margin:0; padding: 0}\n",
              ".list-inline>li {display: inline-block}\n",
              ".list-inline>li:not(:last-child)::after {content: \"\\00b7\"; padding: 0 .5ex}\n",
              "</style>\n",
              "<ol class=list-inline><li>'ppl'</li><li>'pri'</li><li>'voc'</li><li>'ana'</li><li>'ell'</li><li>'ilb'</li><li>'lac'</li><li>'lac'</li><li>'loo'</li><li>'lue'</li><li>'oys'</li><li>'rea'</li><li>'ana'</li><li>'ant'</li><li>'her'</li><li>'her'</li><li>'hil'</li><li>'lem'</li><li>'lou'</li><li>'oco'</li><li>'ran'</li><li>'ucu'</li><li>'urr'</li><li>'ams'</li><li>'ate'</li><li>'rag'</li><li>'uri'</li><li>'ggp'</li><li>'lde'</li><li>'eij'</li><li>'ig'</li><li>'oji'</li><li>'oos'</li><li>'rap'</li><li>'rap'</li><li>'uav'</li><li>'one'</li><li>'uck'</li><li>'ack'</li><li>'amb'</li><li>'uju'</li><li>'iwi'</li><li>'umq'</li><li>'emo'</li><li>'ime'</li><li>'oqu'</li><li>'ych'</li><li>'and'</li><li>'ang'</li><li>'ulb'</li><li>'ect'</li><li>'ut'</li><li>'liv'</li><li>'ran'</li><li>'ame'</li><li>'apa'</li><li>'ass'</li><li>'eac'</li><li>'ear'</li><li>'ers'</li><li>'hys'</li><li>'ine'</li><li>'lum'</li><li>'ome'</li><li>'ome'</li><li>'urp'</li><li>'uin'</li><li>'ais'</li><li>'amb'</li><li>'asp'</li><li>'edc'</li><li>'ock'</li><li>'ala'</li><li>'ats'</li><li>'tar'</li><li>'tra'</li><li>'ama'</li><li>'ang'</li><li>'gli'</li><li>'ate'</li></ol>\n"
            ],
            "text/markdown": "1. 'ppl'\n2. 'pri'\n3. 'voc'\n4. 'ana'\n5. 'ell'\n6. 'ilb'\n7. 'lac'\n8. 'lac'\n9. 'loo'\n10. 'lue'\n11. 'oys'\n12. 'rea'\n13. 'ana'\n14. 'ant'\n15. 'her'\n16. 'her'\n17. 'hil'\n18. 'lem'\n19. 'lou'\n20. 'oco'\n21. 'ran'\n22. 'ucu'\n23. 'urr'\n24. 'ams'\n25. 'ate'\n26. 'rag'\n27. 'uri'\n28. 'ggp'\n29. 'lde'\n30. 'eij'\n31. 'ig'\n32. 'oji'\n33. 'oos'\n34. 'rap'\n35. 'rap'\n36. 'uav'\n37. 'one'\n38. 'uck'\n39. 'ack'\n40. 'amb'\n41. 'uju'\n42. 'iwi'\n43. 'umq'\n44. 'emo'\n45. 'ime'\n46. 'oqu'\n47. 'ych'\n48. 'and'\n49. 'ang'\n50. 'ulb'\n51. 'ect'\n52. 'ut'\n53. 'liv'\n54. 'ran'\n55. 'ame'\n56. 'apa'\n57. 'ass'\n58. 'eac'\n59. 'ear'\n60. 'ers'\n61. 'hys'\n62. 'ine'\n63. 'lum'\n64. 'ome'\n65. 'ome'\n66. 'urp'\n67. 'uin'\n68. 'ais'\n69. 'amb'\n70. 'asp'\n71. 'edc'\n72. 'ock'\n73. 'ala'\n74. 'ats'\n75. 'tar'\n76. 'tra'\n77. 'ama'\n78. 'ang'\n79. 'gli'\n80. 'ate'\n\n\n",
            "text/latex": "\\begin{enumerate*}\n\\item 'ppl'\n\\item 'pri'\n\\item 'voc'\n\\item 'ana'\n\\item 'ell'\n\\item 'ilb'\n\\item 'lac'\n\\item 'lac'\n\\item 'loo'\n\\item 'lue'\n\\item 'oys'\n\\item 'rea'\n\\item 'ana'\n\\item 'ant'\n\\item 'her'\n\\item 'her'\n\\item 'hil'\n\\item 'lem'\n\\item 'lou'\n\\item 'oco'\n\\item 'ran'\n\\item 'ucu'\n\\item 'urr'\n\\item 'ams'\n\\item 'ate'\n\\item 'rag'\n\\item 'uri'\n\\item 'ggp'\n\\item 'lde'\n\\item 'eij'\n\\item 'ig'\n\\item 'oji'\n\\item 'oos'\n\\item 'rap'\n\\item 'rap'\n\\item 'uav'\n\\item 'one'\n\\item 'uck'\n\\item 'ack'\n\\item 'amb'\n\\item 'uju'\n\\item 'iwi'\n\\item 'umq'\n\\item 'emo'\n\\item 'ime'\n\\item 'oqu'\n\\item 'ych'\n\\item 'and'\n\\item 'ang'\n\\item 'ulb'\n\\item 'ect'\n\\item 'ut'\n\\item 'liv'\n\\item 'ran'\n\\item 'ame'\n\\item 'apa'\n\\item 'ass'\n\\item 'eac'\n\\item 'ear'\n\\item 'ers'\n\\item 'hys'\n\\item 'ine'\n\\item 'lum'\n\\item 'ome'\n\\item 'ome'\n\\item 'urp'\n\\item 'uin'\n\\item 'ais'\n\\item 'amb'\n\\item 'asp'\n\\item 'edc'\n\\item 'ock'\n\\item 'ala'\n\\item 'ats'\n\\item 'tar'\n\\item 'tra'\n\\item 'ama'\n\\item 'ang'\n\\item 'gli'\n\\item 'ate'\n\\end{enumerate*}\n",
            "text/plain": [
              " [1] \"ppl\" \"pri\" \"voc\" \"ana\" \"ell\" \"ilb\" \"lac\" \"lac\" \"loo\" \"lue\" \"oys\" \"rea\"\n",
              "[13] \"ana\" \"ant\" \"her\" \"her\" \"hil\" \"lem\" \"lou\" \"oco\" \"ran\" \"ucu\" \"urr\" \"ams\"\n",
              "[25] \"ate\" \"rag\" \"uri\" \"ggp\" \"lde\" \"eij\" \"ig\"  \"oji\" \"oos\" \"rap\" \"rap\" \"uav\"\n",
              "[37] \"one\" \"uck\" \"ack\" \"amb\" \"uju\" \"iwi\" \"umq\" \"emo\" \"ime\" \"oqu\" \"ych\" \"and\"\n",
              "[49] \"ang\" \"ulb\" \"ect\" \"ut\"  \"liv\" \"ran\" \"ame\" \"apa\" \"ass\" \"eac\" \"ear\" \"ers\"\n",
              "[61] \"hys\" \"ine\" \"lum\" \"ome\" \"ome\" \"urp\" \"uin\" \"ais\" \"amb\" \"asp\" \"edc\" \"ock\"\n",
              "[73] \"ala\" \"ats\" \"tar\" \"tra\" \"ama\" \"ang\" \"gli\" \"ate\""
            ]
          },
          "metadata": {}
        }
      ]
    },
    {
      "cell_type": "markdown",
      "metadata": {
        "id": "3AnLpZu6TVvr"
      },
      "source": [
        "You can also count backwards from the end of the string in order to extract a slice from that end. To do so, use negative numbers and count backwards. "
      ]
    },
    {
      "cell_type": "code",
      "metadata": {
        "colab": {
          "base_uri": "https://localhost:8080/"
        },
        "id": "5PZIMT1eTVvr",
        "outputId": "4078d721-32df-495f-d9b4-b5825b4ff8db"
      },
      "source": [
        "subfromend <- str_sub(fruit, start = -2, end = -1)\n",
        "print(subfromend)"
      ],
      "execution_count": null,
      "outputs": [
        {
          "output_type": "stream",
          "name": "stdout",
          "text": [
            " [1] \"le\" \"ot\" \"do\" \"na\" \"er\" \"ry\" \"ry\" \"nt\" \"ge\" \"ry\" \"ry\" \"it\" \"on\" \"pe\" \"ya\"\n",
            "[16] \"ry\" \"er\" \"ne\" \"ry\" \"ut\" \"ry\" \"er\" \"nt\" \"on\" \"te\" \"it\" \"an\" \"nt\" \"ry\" \"oa\"\n",
            "[31] \"ig\" \"ry\" \"ry\" \"pe\" \"it\" \"va\" \"ew\" \"ry\" \"it\" \"ul\" \"be\" \"it\" \"at\" \"on\" \"me\"\n",
            "[46] \"at\" \"ee\" \"ne\" \"go\" \"ry\" \"ne\" \"ut\" \"ve\" \"ge\" \"lo\" \"ya\" \"it\" \"ch\" \"ar\" \"on\"\n",
            "[61] \"is\" \"le\" \"um\" \"te\" \"lo\" \"en\" \"ce\" \"in\" \"an\" \"ry\" \"nt\" \"on\" \"ry\" \"ma\" \"it\"\n",
            "[76] \"ry\" \"lo\" \"ne\" \"it\" \"on\"\n"
          ]
        }
      ]
    },
    {
      "cell_type": "markdown",
      "metadata": {
        "id": "rJf_2e7iTVvs"
      },
      "source": [
        "You can use slicing to extract data from strings:"
      ]
    },
    {
      "cell_type": "code",
      "metadata": {
        "colab": {
          "base_uri": "https://localhost:8080/",
          "height": 34
        },
        "id": "bkTkdgjuTVvs",
        "outputId": "e49a657d-d687-4c3b-8cdb-ddc5ea58f1d2"
      },
      "source": [
        "some_dates <- c(\"1999/01/01\",\"1998/12/15\",\"2001/09/03\")\n",
        "years <- str_sub(some_dates, start = 1, end = 4)\n",
        "years"
      ],
      "execution_count": null,
      "outputs": [
        {
          "output_type": "display_data",
          "data": {
            "text/html": [
              "<style>\n",
              ".list-inline {list-style: none; margin:0; padding: 0}\n",
              ".list-inline>li {display: inline-block}\n",
              ".list-inline>li:not(:last-child)::after {content: \"\\00b7\"; padding: 0 .5ex}\n",
              "</style>\n",
              "<ol class=list-inline><li>'1999'</li><li>'1998'</li><li>'2001'</li></ol>\n"
            ],
            "text/markdown": "1. '1999'\n2. '1998'\n3. '2001'\n\n\n",
            "text/latex": "\\begin{enumerate*}\n\\item '1999'\n\\item '1998'\n\\item '2001'\n\\end{enumerate*}\n",
            "text/plain": [
              "[1] \"1999\" \"1998\" \"2001\""
            ]
          },
          "metadata": {}
        }
      ]
    },
    {
      "cell_type": "code",
      "metadata": {
        "colab": {
          "base_uri": "https://localhost:8080/"
        },
        "id": "eTJcrw1LTVvs",
        "outputId": "7c31d9f0-af87-48b2-9a83-5eecff59274d"
      },
      "source": [
        "months <- str_sub(some_dates, start = 6, end = 7)\n",
        "print(months)"
      ],
      "execution_count": null,
      "outputs": [
        {
          "output_type": "stream",
          "name": "stdout",
          "text": [
            "[1] \"01\" \"12\" \"09\"\n"
          ]
        }
      ]
    },
    {
      "cell_type": "markdown",
      "metadata": {
        "id": "ItbXk0SZTVvs"
      },
      "source": [
        "Getting a copy of a string with specific positions replaced is also a matter of slicing:"
      ]
    },
    {
      "cell_type": "code",
      "metadata": {
        "colab": {
          "base_uri": "https://localhost:8080/",
          "height": 34
        },
        "id": "G4qfO3grTVvs",
        "outputId": "f1b1fef5-7244-47b7-a8e0-7695df0a7fb5"
      },
      "source": [
        "apple <- \"apple\"\n",
        "zebra <- \"--!ZEBRA!--\"\n",
        "zebraapple <- paste(str_sub(apple, 1, 2), zebra, str_sub(apple, start = 3), sep = \"\")\n",
        "zebraapple"
      ],
      "execution_count": null,
      "outputs": [
        {
          "output_type": "display_data",
          "data": {
            "text/html": [
              "'ap--!ZEBRA!--ple'"
            ],
            "text/markdown": "'ap--!ZEBRA!--ple'",
            "text/latex": "'ap--!ZEBRA!--ple'",
            "text/plain": [
              "[1] \"ap--!ZEBRA!--ple\""
            ]
          },
          "metadata": {}
        }
      ]
    },
    {
      "cell_type": "markdown",
      "metadata": {
        "id": "XD4nxq4KTVvt"
      },
      "source": [
        "## Capitalization\n",
        "\n",
        "Strings have a simple casefolding method that can be applied:"
      ]
    },
    {
      "cell_type": "code",
      "metadata": {
        "colab": {
          "base_uri": "https://localhost:8080/",
          "height": 34
        },
        "id": "1Q6cpdcPTVvt",
        "outputId": "5d3171d7-7acf-4784-cf4f-875051c33e5f"
      },
      "source": [
        "tolower(combined_string)"
      ],
      "execution_count": null,
      "outputs": [
        {
          "output_type": "display_data",
          "data": {
            "text/html": [
              "'a first sentence! wow, two sentences.'"
            ],
            "text/markdown": "'a first sentence! wow, two sentences.'",
            "text/latex": "'a first sentence! wow, two sentences.'",
            "text/plain": [
              "[1] \"a first sentence! wow, two sentences.\""
            ]
          },
          "metadata": {}
        }
      ]
    },
    {
      "cell_type": "code",
      "metadata": {
        "colab": {
          "base_uri": "https://localhost:8080/",
          "height": 34
        },
        "id": "56HXFptdTVvt",
        "outputId": "9ea5382e-c788-4597-ee43-4b739744e244"
      },
      "source": [
        "toupper(combined_string)"
      ],
      "execution_count": null,
      "outputs": [
        {
          "output_type": "display_data",
          "data": {
            "text/html": [
              "'A FIRST SENTENCE! WOW, TWO SENTENCES.'"
            ],
            "text/markdown": "'A FIRST SENTENCE! WOW, TWO SENTENCES.'",
            "text/latex": "'A FIRST SENTENCE! WOW, TWO SENTENCES.'",
            "text/plain": [
              "[1] \"A FIRST SENTENCE! WOW, TWO SENTENCES.\""
            ]
          },
          "metadata": {}
        }
      ]
    },
    {
      "cell_type": "markdown",
      "metadata": {
        "id": "4ufE0dgDTVvt"
      },
      "source": [
        "## White Space\n",
        "\n",
        "R has several methods to trim excess white space *off the ends* of strings:"
      ]
    },
    {
      "cell_type": "code",
      "metadata": {
        "colab": {
          "base_uri": "https://localhost:8080/",
          "height": 34
        },
        "id": "JqAqaa4KTVvt",
        "outputId": "04d20b36-3ea2-49e5-bb79-41e33f1983d7"
      },
      "source": [
        "lotsofspace = '   Why   so much  space?   '\n",
        "trimws(lotsofspace, which = \"left\") "
      ],
      "execution_count": null,
      "outputs": [
        {
          "output_type": "display_data",
          "data": {
            "text/html": [
              "<span style=white-space:pre-wrap>'Why   so much  space?   '</span>"
            ],
            "text/markdown": "<span style=white-space:pre-wrap>'Why   so much  space?   '</span>",
            "text/latex": "'Why   so much  space?   '",
            "text/plain": [
              "[1] \"Why   so much  space?   \""
            ]
          },
          "metadata": {}
        }
      ]
    },
    {
      "cell_type": "code",
      "metadata": {
        "colab": {
          "base_uri": "https://localhost:8080/",
          "height": 34
        },
        "id": "xBHAngEkTVvu",
        "outputId": "2617b7f8-7cca-4e13-9c3b-93d417ec0790"
      },
      "source": [
        "trimws(lotsofspace, which = \"right\")"
      ],
      "execution_count": null,
      "outputs": [
        {
          "output_type": "display_data",
          "data": {
            "text/html": [
              "<span style=white-space:pre-wrap>'   Why   so much  space?'</span>"
            ],
            "text/markdown": "<span style=white-space:pre-wrap>'   Why   so much  space?'</span>",
            "text/latex": "'   Why   so much  space?'",
            "text/plain": [
              "[1] \"   Why   so much  space?\""
            ]
          },
          "metadata": {}
        }
      ]
    },
    {
      "cell_type": "code",
      "metadata": {
        "colab": {
          "base_uri": "https://localhost:8080/",
          "height": 34
        },
        "id": "9OJ0HKJ4TVvu",
        "outputId": "48447969-64bd-44a0-d0e0-69222369a9d5"
      },
      "source": [
        "trimws(lotsofspace, which = \"both\")"
      ],
      "execution_count": null,
      "outputs": [
        {
          "output_type": "display_data",
          "data": {
            "text/html": [
              "<span style=white-space:pre-wrap>'Why   so much  space?'</span>"
            ],
            "text/markdown": "<span style=white-space:pre-wrap>'Why   so much  space?'</span>",
            "text/latex": "'Why   so much  space?'",
            "text/plain": [
              "[1] \"Why   so much  space?\""
            ]
          },
          "metadata": {}
        }
      ]
    },
    {
      "cell_type": "markdown",
      "metadata": {
        "id": "AsCmZ3doTVvu"
      },
      "source": [
        "## Matching substrings\n",
        "\n",
        "If we're looking for specific substrings, there are string methods to do that."
      ]
    },
    {
      "cell_type": "code",
      "metadata": {
        "colab": {
          "base_uri": "https://localhost:8080/",
          "height": 115
        },
        "id": "eVnhAgR_TVvu",
        "outputId": "d33b2df3-8a19-43ae-d151-511f432c4237"
      },
      "source": [
        "str_locate(\"strawberry\", \"berry\")"
      ],
      "execution_count": null,
      "outputs": [
        {
          "output_type": "display_data",
          "data": {
            "text/html": [
              "<table class=\"dataframe\">\n",
              "<caption>A matrix: 1 × 2 of type int</caption>\n",
              "<thead>\n",
              "\t<tr><th scope=col>start</th><th scope=col>end</th></tr>\n",
              "</thead>\n",
              "<tbody>\n",
              "\t<tr><td>6</td><td>10</td></tr>\n",
              "</tbody>\n",
              "</table>\n"
            ],
            "text/markdown": "\nA matrix: 1 × 2 of type int\n\n| start | end |\n|---|---|\n| 6 | 10 |\n\n",
            "text/latex": "A matrix: 1 × 2 of type int\n\\begin{tabular}{ll}\n start & end\\\\\n\\hline\n\t 6 & 10\\\\\n\\end{tabular}\n",
            "text/plain": [
              "     start end\n",
              "[1,] 6     10 "
            ]
          },
          "metadata": {}
        }
      ]
    },
    {
      "cell_type": "markdown",
      "metadata": {
        "id": "Z2iECnnHTVvu"
      },
      "source": [
        "That returns a matrix with the position of the beginning and the end of the match. If there is no match, it returns an empty matrix."
      ]
    },
    {
      "cell_type": "code",
      "metadata": {
        "colab": {
          "base_uri": "https://localhost:8080/",
          "height": 115
        },
        "id": "i0jCD08fTVvu",
        "outputId": "b1994463-41ff-45d5-a083-76e2ff240134"
      },
      "source": [
        "str_locate(\"apple\", \"berry\")"
      ],
      "execution_count": null,
      "outputs": [
        {
          "output_type": "display_data",
          "data": {
            "text/html": [
              "<table class=\"dataframe\">\n",
              "<caption>A matrix: 1 × 2 of type int</caption>\n",
              "<thead>\n",
              "\t<tr><th scope=col>start</th><th scope=col>end</th></tr>\n",
              "</thead>\n",
              "<tbody>\n",
              "\t<tr><td>NA</td><td>NA</td></tr>\n",
              "</tbody>\n",
              "</table>\n"
            ],
            "text/markdown": "\nA matrix: 1 × 2 of type int\n\n| start | end |\n|---|---|\n| NA | NA |\n\n",
            "text/latex": "A matrix: 1 × 2 of type int\n\\begin{tabular}{ll}\n start & end\\\\\n\\hline\n\t NA & NA\\\\\n\\end{tabular}\n",
            "text/plain": [
              "     start end\n",
              "[1,] NA    NA "
            ]
          },
          "metadata": {}
        }
      ]
    },
    {
      "cell_type": "markdown",
      "metadata": {
        "id": "PMo_uu-6TVvu"
      },
      "source": [
        "If there are multiple matches, `str_locate()` returns the position of the first match."
      ]
    },
    {
      "cell_type": "code",
      "metadata": {
        "colab": {
          "base_uri": "https://localhost:8080/",
          "height": 115
        },
        "id": "Oo2_y5wKTVvv",
        "outputId": "c0f2c755-2519-4672-b12f-129abb66279a"
      },
      "source": [
        "str_locate(\"berryberryboberrybananafanafoferrymemymomerry berry\", \"berry\")"
      ],
      "execution_count": null,
      "outputs": [
        {
          "output_type": "display_data",
          "data": {
            "text/html": [
              "<table class=\"dataframe\">\n",
              "<caption>A matrix: 1 × 2 of type int</caption>\n",
              "<thead>\n",
              "\t<tr><th scope=col>start</th><th scope=col>end</th></tr>\n",
              "</thead>\n",
              "<tbody>\n",
              "\t<tr><td>1</td><td>5</td></tr>\n",
              "</tbody>\n",
              "</table>\n"
            ],
            "text/markdown": "\nA matrix: 1 × 2 of type int\n\n| start | end |\n|---|---|\n| 1 | 5 |\n\n",
            "text/latex": "A matrix: 1 × 2 of type int\n\\begin{tabular}{ll}\n start & end\\\\\n\\hline\n\t 1 & 5\\\\\n\\end{tabular}\n",
            "text/plain": [
              "     start end\n",
              "[1,] 1     5  "
            ]
          },
          "metadata": {}
        }
      ]
    },
    {
      "cell_type": "markdown",
      "metadata": {
        "id": "ONAWGiasTVvv"
      },
      "source": [
        "You can pull all of the matches with `str_locate_all()`"
      ]
    },
    {
      "cell_type": "code",
      "metadata": {
        "colab": {
          "base_uri": "https://localhost:8080/",
          "height": 238
        },
        "id": "4W5i4A8uTVvv",
        "outputId": "cb9aac6f-ea29-4187-bf09-ef77ba0a2d7f"
      },
      "source": [
        "str_locate_all(\"berryberryboberrybananafanafoferrymemymomerry berry\", \"berry\")"
      ],
      "execution_count": null,
      "outputs": [
        {
          "output_type": "display_data",
          "data": {
            "text/html": [
              "<ol>\n",
              "\t<li><table class=\"dataframe\">\n",
              "<caption>A matrix: 4 × 2 of type int</caption>\n",
              "<thead>\n",
              "\t<tr><th scope=col>start</th><th scope=col>end</th></tr>\n",
              "</thead>\n",
              "<tbody>\n",
              "\t<tr><td> 1</td><td> 5</td></tr>\n",
              "\t<tr><td> 6</td><td>10</td></tr>\n",
              "\t<tr><td>13</td><td>17</td></tr>\n",
              "\t<tr><td>47</td><td>51</td></tr>\n",
              "</tbody>\n",
              "</table>\n",
              "</li>\n",
              "</ol>\n"
            ],
            "text/markdown": "1. \nA matrix: 4 × 2 of type int\n\n| start | end |\n|---|---|\n|  1 |  5 |\n|  6 | 10 |\n| 13 | 17 |\n| 47 | 51 |\n\n\n\n\n",
            "text/latex": "\\begin{enumerate}\n\\item A matrix: 4 × 2 of type int\n\\begin{tabular}{ll}\n start & end\\\\\n\\hline\n\t  1 &  5\\\\\n\t  6 & 10\\\\\n\t 13 & 17\\\\\n\t 47 & 51\\\\\n\\end{tabular}\n\n\\end{enumerate}\n",
            "text/plain": [
              "[[1]]\n",
              "     start end\n",
              "[1,]     1   5\n",
              "[2,]     6  10\n",
              "[3,]    13  17\n",
              "[4,]    47  51\n"
            ]
          },
          "metadata": {}
        }
      ]
    },
    {
      "cell_type": "markdown",
      "source": [
        "We can print all the matches from a vector of strings using `str_detect()` and relying on indexing `[]`"
      ],
      "metadata": {
        "id": "ruTtRteTNOEN"
      }
    },
    {
      "cell_type": "code",
      "source": [
        "fruit[str_detect(fruit, \"berry\")]"
      ],
      "metadata": {
        "colab": {
          "base_uri": "https://localhost:8080/",
          "height": 34
        },
        "id": "ijMGVGz3NQzT",
        "outputId": "16b89ab9-646e-4dfe-febf-45cb0784f384"
      },
      "execution_count": null,
      "outputs": [
        {
          "output_type": "display_data",
          "data": {
            "text/html": [
              "<style>\n",
              ".list-inline {list-style: none; margin:0; padding: 0}\n",
              ".list-inline>li {display: inline-block}\n",
              ".list-inline>li:not(:last-child)::after {content: \"\\00b7\"; padding: 0 .5ex}\n",
              "</style>\n",
              "<ol class=list-inline><li>'bilberry'</li><li>'blackberry'</li><li>'blueberry'</li><li>'boysenberry'</li><li>'cloudberry'</li><li>'cranberry'</li><li>'elderberry'</li><li>'goji berry'</li><li>'gooseberry'</li><li>'huckleberry'</li><li>'mulberry'</li><li>'raspberry'</li><li>'salal berry'</li><li>'strawberry'</li></ol>\n"
            ],
            "text/markdown": "1. 'bilberry'\n2. 'blackberry'\n3. 'blueberry'\n4. 'boysenberry'\n5. 'cloudberry'\n6. 'cranberry'\n7. 'elderberry'\n8. 'goji berry'\n9. 'gooseberry'\n10. 'huckleberry'\n11. 'mulberry'\n12. 'raspberry'\n13. 'salal berry'\n14. 'strawberry'\n\n\n",
            "text/latex": "\\begin{enumerate*}\n\\item 'bilberry'\n\\item 'blackberry'\n\\item 'blueberry'\n\\item 'boysenberry'\n\\item 'cloudberry'\n\\item 'cranberry'\n\\item 'elderberry'\n\\item 'goji berry'\n\\item 'gooseberry'\n\\item 'huckleberry'\n\\item 'mulberry'\n\\item 'raspberry'\n\\item 'salal berry'\n\\item 'strawberry'\n\\end{enumerate*}\n",
            "text/plain": [
              " [1] \"bilberry\"    \"blackberry\"  \"blueberry\"   \"boysenberry\" \"cloudberry\" \n",
              " [6] \"cranberry\"   \"elderberry\"  \"goji berry\"  \"gooseberry\"  \"huckleberry\"\n",
              "[11] \"mulberry\"    \"raspberry\"   \"salal berry\" \"strawberry\" "
            ]
          },
          "metadata": {}
        }
      ]
    },
    {
      "cell_type": "markdown",
      "metadata": {
        "id": "TCdd2e8yTVvv"
      },
      "source": [
        "We can get a copy of the string with the substring replaced with something else:"
      ]
    },
    {
      "cell_type": "code",
      "metadata": {
        "colab": {
          "base_uri": "https://localhost:8080/",
          "height": 34
        },
        "id": "MsPpORSSTVvv",
        "outputId": "4c5478a8-c4f8-4be7-e69b-3712f56f3331"
      },
      "source": [
        "str_replace(\"strawberry\",\"berry\", \"fish\")"
      ],
      "execution_count": null,
      "outputs": [
        {
          "output_type": "display_data",
          "data": {
            "text/html": [
              "'strawfish'"
            ],
            "text/markdown": "'strawfish'",
            "text/latex": "'strawfish'",
            "text/plain": [
              "[1] \"strawfish\""
            ]
          },
          "metadata": {}
        }
      ]
    },
    {
      "cell_type": "code",
      "metadata": {
        "colab": {
          "base_uri": "https://localhost:8080/",
          "height": 104
        },
        "id": "eG0I9TFJTVvv",
        "outputId": "93873d5e-55ce-4f60-e49a-4f724b2b84ae"
      },
      "source": [
        "fishfruit <- str_replace(fruit, \"berry\",\"fish\")\n",
        "fishfruit"
      ],
      "execution_count": null,
      "outputs": [
        {
          "output_type": "display_data",
          "data": {
            "text/html": [
              "<style>\n",
              ".list-inline {list-style: none; margin:0; padding: 0}\n",
              ".list-inline>li {display: inline-block}\n",
              ".list-inline>li:not(:last-child)::after {content: \"\\00b7\"; padding: 0 .5ex}\n",
              "</style>\n",
              "<ol class=list-inline><li>'apple'</li><li>'apricot'</li><li>'avocado'</li><li>'banana'</li><li>'bell pepper'</li><li>'bilfish'</li><li>'blackfish'</li><li>'blackcurrant'</li><li>'blood orange'</li><li>'bluefish'</li><li>'boysenfish'</li><li>'breadfruit'</li><li>'canary melon'</li><li>'cantaloupe'</li><li>'cherimoya'</li><li>'cherry'</li><li>'chili pepper'</li><li>'clementine'</li><li>'cloudfish'</li><li>'coconut'</li><li>'cranfish'</li><li>'cucumber'</li><li>'currant'</li><li>'damson'</li><li>'date'</li><li>'dragonfruit'</li><li>'durian'</li><li>'eggplant'</li><li>'elderfish'</li><li>'feijoa'</li><li>'fig'</li><li>'goji fish'</li><li>'goosefish'</li><li>'grape'</li><li>'grapefruit'</li><li>'guava'</li><li>'honeydew'</li><li>'hucklefish'</li><li>'jackfruit'</li><li>'jambul'</li><li>'jujube'</li><li>'kiwi fruit'</li><li>'kumquat'</li><li>'lemon'</li><li>'lime'</li><li>'loquat'</li><li>'lychee'</li><li>'mandarine'</li><li>'mango'</li><li>'mulfish'</li><li>'nectarine'</li><li>'nut'</li><li>'olive'</li><li>'orange'</li><li>'pamelo'</li><li>'papaya'</li><li>'passionfruit'</li><li>'peach'</li><li>'pear'</li><li>'persimmon'</li><li>'physalis'</li><li>'pineapple'</li><li>'plum'</li><li>'pomegranate'</li><li>'pomelo'</li><li>'purple mangosteen'</li><li>'quince'</li><li>'raisin'</li><li>'rambutan'</li><li>'raspfish'</li><li>'redcurrant'</li><li>'rock melon'</li><li>'salal fish'</li><li>'satsuma'</li><li>'star fruit'</li><li>'strawfish'</li><li>'tamarillo'</li><li>'tangerine'</li><li>'ugli fruit'</li><li>'watermelon'</li></ol>\n"
            ],
            "text/markdown": "1. 'apple'\n2. 'apricot'\n3. 'avocado'\n4. 'banana'\n5. 'bell pepper'\n6. 'bilfish'\n7. 'blackfish'\n8. 'blackcurrant'\n9. 'blood orange'\n10. 'bluefish'\n11. 'boysenfish'\n12. 'breadfruit'\n13. 'canary melon'\n14. 'cantaloupe'\n15. 'cherimoya'\n16. 'cherry'\n17. 'chili pepper'\n18. 'clementine'\n19. 'cloudfish'\n20. 'coconut'\n21. 'cranfish'\n22. 'cucumber'\n23. 'currant'\n24. 'damson'\n25. 'date'\n26. 'dragonfruit'\n27. 'durian'\n28. 'eggplant'\n29. 'elderfish'\n30. 'feijoa'\n31. 'fig'\n32. 'goji fish'\n33. 'goosefish'\n34. 'grape'\n35. 'grapefruit'\n36. 'guava'\n37. 'honeydew'\n38. 'hucklefish'\n39. 'jackfruit'\n40. 'jambul'\n41. 'jujube'\n42. 'kiwi fruit'\n43. 'kumquat'\n44. 'lemon'\n45. 'lime'\n46. 'loquat'\n47. 'lychee'\n48. 'mandarine'\n49. 'mango'\n50. 'mulfish'\n51. 'nectarine'\n52. 'nut'\n53. 'olive'\n54. 'orange'\n55. 'pamelo'\n56. 'papaya'\n57. 'passionfruit'\n58. 'peach'\n59. 'pear'\n60. 'persimmon'\n61. 'physalis'\n62. 'pineapple'\n63. 'plum'\n64. 'pomegranate'\n65. 'pomelo'\n66. 'purple mangosteen'\n67. 'quince'\n68. 'raisin'\n69. 'rambutan'\n70. 'raspfish'\n71. 'redcurrant'\n72. 'rock melon'\n73. 'salal fish'\n74. 'satsuma'\n75. 'star fruit'\n76. 'strawfish'\n77. 'tamarillo'\n78. 'tangerine'\n79. 'ugli fruit'\n80. 'watermelon'\n\n\n",
            "text/latex": "\\begin{enumerate*}\n\\item 'apple'\n\\item 'apricot'\n\\item 'avocado'\n\\item 'banana'\n\\item 'bell pepper'\n\\item 'bilfish'\n\\item 'blackfish'\n\\item 'blackcurrant'\n\\item 'blood orange'\n\\item 'bluefish'\n\\item 'boysenfish'\n\\item 'breadfruit'\n\\item 'canary melon'\n\\item 'cantaloupe'\n\\item 'cherimoya'\n\\item 'cherry'\n\\item 'chili pepper'\n\\item 'clementine'\n\\item 'cloudfish'\n\\item 'coconut'\n\\item 'cranfish'\n\\item 'cucumber'\n\\item 'currant'\n\\item 'damson'\n\\item 'date'\n\\item 'dragonfruit'\n\\item 'durian'\n\\item 'eggplant'\n\\item 'elderfish'\n\\item 'feijoa'\n\\item 'fig'\n\\item 'goji fish'\n\\item 'goosefish'\n\\item 'grape'\n\\item 'grapefruit'\n\\item 'guava'\n\\item 'honeydew'\n\\item 'hucklefish'\n\\item 'jackfruit'\n\\item 'jambul'\n\\item 'jujube'\n\\item 'kiwi fruit'\n\\item 'kumquat'\n\\item 'lemon'\n\\item 'lime'\n\\item 'loquat'\n\\item 'lychee'\n\\item 'mandarine'\n\\item 'mango'\n\\item 'mulfish'\n\\item 'nectarine'\n\\item 'nut'\n\\item 'olive'\n\\item 'orange'\n\\item 'pamelo'\n\\item 'papaya'\n\\item 'passionfruit'\n\\item 'peach'\n\\item 'pear'\n\\item 'persimmon'\n\\item 'physalis'\n\\item 'pineapple'\n\\item 'plum'\n\\item 'pomegranate'\n\\item 'pomelo'\n\\item 'purple mangosteen'\n\\item 'quince'\n\\item 'raisin'\n\\item 'rambutan'\n\\item 'raspfish'\n\\item 'redcurrant'\n\\item 'rock melon'\n\\item 'salal fish'\n\\item 'satsuma'\n\\item 'star fruit'\n\\item 'strawfish'\n\\item 'tamarillo'\n\\item 'tangerine'\n\\item 'ugli fruit'\n\\item 'watermelon'\n\\end{enumerate*}\n",
            "text/plain": [
              " [1] \"apple\"             \"apricot\"           \"avocado\"          \n",
              " [4] \"banana\"            \"bell pepper\"       \"bilfish\"          \n",
              " [7] \"blackfish\"         \"blackcurrant\"      \"blood orange\"     \n",
              "[10] \"bluefish\"          \"boysenfish\"        \"breadfruit\"       \n",
              "[13] \"canary melon\"      \"cantaloupe\"        \"cherimoya\"        \n",
              "[16] \"cherry\"            \"chili pepper\"      \"clementine\"       \n",
              "[19] \"cloudfish\"         \"coconut\"           \"cranfish\"         \n",
              "[22] \"cucumber\"          \"currant\"           \"damson\"           \n",
              "[25] \"date\"              \"dragonfruit\"       \"durian\"           \n",
              "[28] \"eggplant\"          \"elderfish\"         \"feijoa\"           \n",
              "[31] \"fig\"               \"goji fish\"         \"goosefish\"        \n",
              "[34] \"grape\"             \"grapefruit\"        \"guava\"            \n",
              "[37] \"honeydew\"          \"hucklefish\"        \"jackfruit\"        \n",
              "[40] \"jambul\"            \"jujube\"            \"kiwi fruit\"       \n",
              "[43] \"kumquat\"           \"lemon\"             \"lime\"             \n",
              "[46] \"loquat\"            \"lychee\"            \"mandarine\"        \n",
              "[49] \"mango\"             \"mulfish\"           \"nectarine\"        \n",
              "[52] \"nut\"               \"olive\"             \"orange\"           \n",
              "[55] \"pamelo\"            \"papaya\"            \"passionfruit\"     \n",
              "[58] \"peach\"             \"pear\"              \"persimmon\"        \n",
              "[61] \"physalis\"          \"pineapple\"         \"plum\"             \n",
              "[64] \"pomegranate\"       \"pomelo\"            \"purple mangosteen\"\n",
              "[67] \"quince\"            \"raisin\"            \"rambutan\"         \n",
              "[70] \"raspfish\"          \"redcurrant\"        \"rock melon\"       \n",
              "[73] \"salal fish\"        \"satsuma\"           \"star fruit\"       \n",
              "[76] \"strawfish\"         \"tamarillo\"         \"tangerine\"        \n",
              "[79] \"ugli fruit\"        \"watermelon\"       "
            ]
          },
          "metadata": {}
        }
      ]
    },
    {
      "cell_type": "markdown",
      "metadata": {
        "id": "UX_3aPrtmCEQ"
      },
      "source": [
        "# Regular Expressions"
      ]
    },
    {
      "cell_type": "markdown",
      "metadata": {
        "id": "nCTPOyOvmIma"
      },
      "source": [
        "Now we can try to generalize beyond the simple word case to broader patterns. Regular expressions allow us to capture more complex phenomena, which are often what we need when we are doing work with text-as-data. \n",
        "\n",
        "To illustrate, we'll go back to the `sentences` data from earlier.  Let's look for the substring \"dog\" in it."
      ]
    },
    {
      "cell_type": "code",
      "source": [
        "str_subset(sentences, \"dog\")"
      ],
      "metadata": {
        "colab": {
          "base_uri": "https://localhost:8080/",
          "height": 52
        },
        "id": "8O4IJssfP28B",
        "outputId": "1fcdad8d-5164-4ff4-e786-367012063ef4"
      },
      "execution_count": null,
      "outputs": [
        {
          "output_type": "display_data",
          "data": {
            "text/html": [
              "<style>\n",
              ".list-inline {list-style: none; margin:0; padding: 0}\n",
              ".list-inline>li {display: inline-block}\n",
              ".list-inline>li:not(:last-child)::after {content: \"\\00b7\"; padding: 0 .5ex}\n",
              "</style>\n",
              "<ol class=list-inline><li>'Cats and dogs each hate the other.'</li><li>'The child almost hurt the small dog.'</li><li>'The kitten chased the dog down the street.'</li><li>'Tend the sheep while the dog wanders.'</li><li>'The sheep were led home by a dog.'</li><li>'Five years he lived with a shaggy dog.'</li></ol>\n"
            ],
            "text/markdown": "1. 'Cats and dogs each hate the other.'\n2. 'The child almost hurt the small dog.'\n3. 'The kitten chased the dog down the street.'\n4. 'Tend the sheep while the dog wanders.'\n5. 'The sheep were led home by a dog.'\n6. 'Five years he lived with a shaggy dog.'\n\n\n",
            "text/latex": "\\begin{enumerate*}\n\\item 'Cats and dogs each hate the other.'\n\\item 'The child almost hurt the small dog.'\n\\item 'The kitten chased the dog down the street.'\n\\item 'Tend the sheep while the dog wanders.'\n\\item 'The sheep were led home by a dog.'\n\\item 'Five years he lived with a shaggy dog.'\n\\end{enumerate*}\n",
            "text/plain": [
              "[1] \"Cats and dogs each hate the other.\"        \n",
              "[2] \"The child almost hurt the small dog.\"      \n",
              "[3] \"The kitten chased the dog down the street.\"\n",
              "[4] \"Tend the sheep while the dog wanders.\"     \n",
              "[5] \"The sheep were led home by a dog.\"         \n",
              "[6] \"Five years he lived with a shaggy dog.\"    "
            ]
          },
          "metadata": {}
        }
      ]
    },
    {
      "cell_type": "markdown",
      "source": [
        "That's just a search for a substring. Let's start to expand from there and use regex to look for more complex patterns than just substrings.\n",
        "\n",
        "#### Square brackets for “or” (disjunction) of characters.\n",
        "\n",
        "Match “any one of” the characters in the square brackets."
      ],
      "metadata": {
        "id": "yAn0wlXHPr2t"
      }
    },
    {
      "cell_type": "code",
      "metadata": {
        "colab": {
          "base_uri": "https://localhost:8080/",
          "height": 34
        },
        "id": "Ao0o4pFkmopE",
        "outputId": "4c15269d-e433-4133-8a62-d65c12e845a0"
      },
      "source": [
        "# note that the spaces are important within the quotes below. what happens if you remove them? Why?\n",
        "str_subset(sentences, ' [hbd]og ')"
      ],
      "execution_count": null,
      "outputs": [
        {
          "output_type": "display_data",
          "data": {
            "text/html": [
              "<style>\n",
              ".list-inline {list-style: none; margin:0; padding: 0}\n",
              ".list-inline>li {display: inline-block}\n",
              ".list-inline>li:not(:last-child)::after {content: \"\\00b7\"; padding: 0 .5ex}\n",
              "</style>\n",
              "<ol class=list-inline><li>'The hog crawled under the high fence.'</li><li>'The kitten chased the dog down the street.'</li><li>'Tend the sheep while the dog wanders.'</li></ol>\n"
            ],
            "text/markdown": "1. 'The hog crawled under the high fence.'\n2. 'The kitten chased the dog down the street.'\n3. 'Tend the sheep while the dog wanders.'\n\n\n",
            "text/latex": "\\begin{enumerate*}\n\\item 'The hog crawled under the high fence.'\n\\item 'The kitten chased the dog down the street.'\n\\item 'Tend the sheep while the dog wanders.'\n\\end{enumerate*}\n",
            "text/plain": [
              "[1] \"The hog crawled under the high fence.\"     \n",
              "[2] \"The kitten chased the dog down the street.\"\n",
              "[3] \"Tend the sheep while the dog wanders.\"     "
            ]
          },
          "metadata": {}
        }
      ]
    },
    {
      "cell_type": "markdown",
      "metadata": {
        "id": "81SrbbwoTVvz"
      },
      "source": [
        "#### Square brackets with ^ for negation.\n",
        "\n",
        "Match “anything but one of” the characters in the square brackets."
      ]
    },
    {
      "cell_type": "code",
      "metadata": {
        "id": "wLzXX1p3no2D",
        "colab": {
          "base_uri": "https://localhost:8080/",
          "height": 34
        },
        "outputId": "7740ba4c-0a46-4a18-fe18-65d64a0448cd"
      },
      "source": [
        "# look for anything but hbd\n",
        "str_subset(sentences, ' [^hbd]og ')\n"
      ],
      "execution_count": null,
      "outputs": [
        {
          "output_type": "display_data",
          "data": {
            "text/html": [
              "<style>\n",
              ".list-inline {list-style: none; margin:0; padding: 0}\n",
              ".list-inline>li {display: inline-block}\n",
              ".list-inline>li:not(:last-child)::after {content: \"\\00b7\"; padding: 0 .5ex}\n",
              "</style>\n",
              "<ol class=list-inline><li>'Split the log with a quick, sharp blow.'</li><li>'Watch the log float in the wide river.'</li></ol>\n"
            ],
            "text/markdown": "1. 'Split the log with a quick, sharp blow.'\n2. 'Watch the log float in the wide river.'\n\n\n",
            "text/latex": "\\begin{enumerate*}\n\\item 'Split the log with a quick, sharp blow.'\n\\item 'Watch the log float in the wide river.'\n\\end{enumerate*}\n",
            "text/plain": [
              "[1] \"Split the log with a quick, sharp blow.\"\n",
              "[2] \"Watch the log float in the wide river.\" "
            ]
          },
          "metadata": {}
        }
      ]
    },
    {
      "cell_type": "markdown",
      "metadata": {
        "id": "C38jgm0dTVv0"
      },
      "source": [
        "#### Square brackets for “or” over a range of characters"
      ]
    },
    {
      "cell_type": "markdown",
      "metadata": {
        "id": "ksXEo0Q5nNtB"
      },
      "source": [
        " Or we can use `-` to look across a range of characters"
      ]
    },
    {
      "cell_type": "code",
      "metadata": {
        "id": "u5_zfDLYoMj-"
      },
      "source": [
        "# look for anything between b and l\n",
        "str_subset(sentences, ' [b-l]ot ')\n"
      ],
      "execution_count": null,
      "outputs": []
    },
    {
      "cell_type": "markdown",
      "metadata": {
        "id": "Yyy22gM7TVv0"
      },
      "source": [
        "#### Pipe operator for \"or\" over multi-character patterns\n",
        "\n",
        "When we need an “or” over multi-character patterns, we can use the “pipe” operator, using parentheses as necessary to identify what’s with what. Note that we *should not* use this with the square brackets now. Instead, we use the square brackets to put an option for upper or lower case s at the beginning of the regex match."
      ]
    },
    {
      "cell_type": "code",
      "metadata": {
        "colab": {
          "base_uri": "https://localhost:8080/",
          "height": 34
        },
        "id": "nUlyai9-TVv0",
        "outputId": "c6fa1105-0d5b-42bb-dc51-0fc039e5b6dd"
      },
      "source": [
        "str_subset(sentences, '([Ss]pl|f)it ')"
      ],
      "execution_count": null,
      "outputs": [
        {
          "output_type": "display_data",
          "data": {
            "text/html": [
              "<style>\n",
              ".list-inline {list-style: none; margin:0; padding: 0}\n",
              ".list-inline>li {display: inline-block}\n",
              ".list-inline>li:not(:last-child)::after {content: \"\\00b7\"; padding: 0 .5ex}\n",
              "</style>\n",
              "<ol class=list-inline><li>'Split the log with a quick, sharp blow.'</li><li>'A ripe plum is fit for a king\\'s palate.'</li><li>'The key you designed will fit the lock.'</li><li>'Ripe pears are fit for a queen\\'s table.'</li><li>'The gloss on top made it unfit to read.'</li></ol>\n"
            ],
            "text/markdown": "1. 'Split the log with a quick, sharp blow.'\n2. 'A ripe plum is fit for a king\\'s palate.'\n3. 'The key you designed will fit the lock.'\n4. 'Ripe pears are fit for a queen\\'s table.'\n5. 'The gloss on top made it unfit to read.'\n\n\n",
            "text/latex": "\\begin{enumerate*}\n\\item 'Split the log with a quick, sharp blow.'\n\\item 'A ripe plum is fit for a king\\textbackslash{}'s palate.'\n\\item 'The key you designed will fit the lock.'\n\\item 'Ripe pears are fit for a queen\\textbackslash{}'s table.'\n\\item 'The gloss on top made it unfit to read.'\n\\end{enumerate*}\n",
            "text/plain": [
              "[1] \"Split the log with a quick, sharp blow.\"\n",
              "[2] \"A ripe plum is fit for a king's palate.\"\n",
              "[3] \"The key you designed will fit the lock.\"\n",
              "[4] \"Ripe pears are fit for a queen's table.\"\n",
              "[5] \"The gloss on top made it unfit to read.\""
            ]
          },
          "metadata": {}
        }
      ]
    },
    {
      "cell_type": "markdown",
      "metadata": {
        "id": "C8g9eg2CTVv0"
      },
      "source": [
        "#### Special characters and the backslash\n",
        "\n",
        "In addition to the backslash itself, there are several characters that have special meaning in R regexes, and (may) have to be escaped in order to match the literal character. Here are the big ones: ^ $ . * + | ! ? ( ) [ ] { } < >.\n",
        "\n",
        "For example, the period – “.” – means “any character but a newline.” It’s a wildcard. We get different results when we escape or don’t escape it."
      ]
    },
    {
      "cell_type": "code",
      "metadata": {
        "colab": {
          "base_uri": "https://localhost:8080/",
          "height": 62
        },
        "id": "4wEPg0buTVv1",
        "outputId": "f9590982-ab6e-4862-c702-37dab78440e5"
      },
      "source": [
        "allchars <- str_extract_all(combined_string, \".\")\n",
        "allchars"
      ],
      "execution_count": null,
      "outputs": [
        {
          "output_type": "display_data",
          "data": {
            "text/html": [
              "<ol>\n",
              "\t<li><style>\n",
              ".list-inline {list-style: none; margin:0; padding: 0}\n",
              ".list-inline>li {display: inline-block}\n",
              ".list-inline>li:not(:last-child)::after {content: \"\\00b7\"; padding: 0 .5ex}\n",
              "</style>\n",
              "<ol class=list-inline><li>'A'</li><li>' '</li><li>'f'</li><li>'i'</li><li>'r'</li><li>'s'</li><li>'t'</li><li>' '</li><li>'s'</li><li>'e'</li><li>'n'</li><li>'t'</li><li>'e'</li><li>'n'</li><li>'c'</li><li>'e'</li><li>'!'</li><li>' '</li><li>'W'</li><li>'o'</li><li>'w'</li><li>','</li><li>' '</li><li>'t'</li><li>'w'</li><li>'o'</li><li>' '</li><li>'s'</li><li>'e'</li><li>'n'</li><li>'t'</li><li>'e'</li><li>'n'</li><li>'c'</li><li>'e'</li><li>'s'</li><li>'.'</li></ol>\n",
              "</li>\n",
              "</ol>\n"
            ],
            "text/markdown": "1. 1. 'A'\n2. ' '\n3. 'f'\n4. 'i'\n5. 'r'\n6. 's'\n7. 't'\n8. ' '\n9. 's'\n10. 'e'\n11. 'n'\n12. 't'\n13. 'e'\n14. 'n'\n15. 'c'\n16. 'e'\n17. '!'\n18. ' '\n19. 'W'\n20. 'o'\n21. 'w'\n22. ','\n23. ' '\n24. 't'\n25. 'w'\n26. 'o'\n27. ' '\n28. 's'\n29. 'e'\n30. 'n'\n31. 't'\n32. 'e'\n33. 'n'\n34. 'c'\n35. 'e'\n36. 's'\n37. '.'\n\n\n\n\n\n",
            "text/latex": "\\begin{enumerate}\n\\item \\begin{enumerate*}\n\\item 'A'\n\\item ' '\n\\item 'f'\n\\item 'i'\n\\item 'r'\n\\item 's'\n\\item 't'\n\\item ' '\n\\item 's'\n\\item 'e'\n\\item 'n'\n\\item 't'\n\\item 'e'\n\\item 'n'\n\\item 'c'\n\\item 'e'\n\\item '!'\n\\item ' '\n\\item 'W'\n\\item 'o'\n\\item 'w'\n\\item ','\n\\item ' '\n\\item 't'\n\\item 'w'\n\\item 'o'\n\\item ' '\n\\item 's'\n\\item 'e'\n\\item 'n'\n\\item 't'\n\\item 'e'\n\\item 'n'\n\\item 'c'\n\\item 'e'\n\\item 's'\n\\item '.'\n\\end{enumerate*}\n\n\\end{enumerate}\n",
            "text/plain": [
              "[[1]]\n",
              " [1] \"A\" \" \" \"f\" \"i\" \"r\" \"s\" \"t\" \" \" \"s\" \"e\" \"n\" \"t\" \"e\" \"n\" \"c\" \"e\" \"!\" \" \" \"W\"\n",
              "[20] \"o\" \"w\" \",\" \" \" \"t\" \"w\" \"o\" \" \" \"s\" \"e\" \"n\" \"t\" \"e\" \"n\" \"c\" \"e\" \"s\" \".\"\n"
            ]
          },
          "metadata": {}
        }
      ]
    },
    {
      "cell_type": "code",
      "metadata": {
        "colab": {
          "base_uri": "https://localhost:8080/",
          "height": 62
        },
        "id": "14iWmfAITVv1",
        "outputId": "35dcedc3-a8dc-4b99-ab72-649e722d70bc"
      },
      "source": [
        "allchars <- str_extract_all(combined_string, \"\\\\.\")\n",
        "allchars"
      ],
      "execution_count": null,
      "outputs": [
        {
          "output_type": "display_data",
          "data": {
            "text/html": [
              "<ol>\n",
              "\t<li>'.'</li>\n",
              "</ol>\n"
            ],
            "text/markdown": "1. '.'\n\n\n",
            "text/latex": "\\begin{enumerate}\n\\item '.'\n\\end{enumerate}\n",
            "text/plain": [
              "[[1]]\n",
              "[1] \".\"\n"
            ]
          },
          "metadata": {}
        }
      ]
    },
    {
      "cell_type": "code",
      "metadata": {
        "colab": {
          "base_uri": "https://localhost:8080/",
          "height": 62
        },
        "id": "xemhHUBJTVv1",
        "outputId": "84dbed31-e317-4160-86cb-6a1e33b73e59"
      },
      "source": [
        "allchars <- str_extract_all(combined_string, \"s.\")\n",
        "allchars"
      ],
      "execution_count": null,
      "outputs": [
        {
          "output_type": "display_data",
          "data": {
            "text/html": [
              "<ol>\n",
              "\t<li><style>\n",
              ".list-inline {list-style: none; margin:0; padding: 0}\n",
              ".list-inline>li {display: inline-block}\n",
              ".list-inline>li:not(:last-child)::after {content: \"\\00b7\"; padding: 0 .5ex}\n",
              "</style>\n",
              "<ol class=list-inline><li>'st'</li><li>'se'</li><li>'se'</li><li>'s.'</li></ol>\n",
              "</li>\n",
              "</ol>\n"
            ],
            "text/markdown": "1. 1. 'st'\n2. 'se'\n3. 'se'\n4. 's.'\n\n\n\n\n\n",
            "text/latex": "\\begin{enumerate}\n\\item \\begin{enumerate*}\n\\item 'st'\n\\item 'se'\n\\item 'se'\n\\item 's.'\n\\end{enumerate*}\n\n\\end{enumerate}\n",
            "text/plain": [
              "[[1]]\n",
              "[1] \"st\" \"se\" \"se\" \"s.\"\n"
            ]
          },
          "metadata": {}
        }
      ]
    },
    {
      "cell_type": "code",
      "metadata": {
        "colab": {
          "base_uri": "https://localhost:8080/",
          "height": 62
        },
        "id": "jyiLT2MCTVv1",
        "outputId": "eb6a78ec-e08f-4ed1-c3c9-5b02d35f0618"
      },
      "source": [
        "allchars <- str_extract_all(combined_string, \"s\\\\.\")\n",
        "allchars"
      ],
      "execution_count": null,
      "outputs": [
        {
          "output_type": "display_data",
          "data": {
            "text/html": [
              "<ol>\n",
              "\t<li>'s.'</li>\n",
              "</ol>\n"
            ],
            "text/markdown": "1. 's.'\n\n\n",
            "text/latex": "\\begin{enumerate}\n\\item 's.'\n\\end{enumerate}\n",
            "text/plain": [
              "[[1]]\n",
              "[1] \"s.\"\n"
            ]
          },
          "metadata": {}
        }
      ]
    },
    {
      "cell_type": "markdown",
      "metadata": {
        "id": "Y4JNa0AfTVv1"
      },
      "source": [
        "Some of these are only special characters in certain contexts and don’t have to be escaped to be recognized when not in those contexts. But they can be escaped in all circumstances and I recommend that rather than trying to figure out the exact rules.\n",
        "\n",
        "The exclamation point is such a character."
      ]
    },
    {
      "cell_type": "code",
      "metadata": {
        "colab": {
          "base_uri": "https://localhost:8080/",
          "height": 62
        },
        "id": "O7EZcY-QTVv1",
        "outputId": "124ffddc-34b7-4306-fd7c-ea3febadd7b6"
      },
      "source": [
        "allchars <- str_extract_all(combined_string, \"\\\\!\")\n",
        "allchars"
      ],
      "execution_count": null,
      "outputs": [
        {
          "output_type": "display_data",
          "data": {
            "text/html": [
              "<ol>\n",
              "\t<li>'!'</li>\n",
              "</ol>\n"
            ],
            "text/markdown": "1. '!'\n\n\n",
            "text/latex": "\\begin{enumerate}\n\\item '!'\n\\end{enumerate}\n",
            "text/plain": [
              "[[1]]\n",
              "[1] \"!\"\n"
            ]
          },
          "metadata": {}
        }
      ]
    },
    {
      "cell_type": "markdown",
      "metadata": {
        "id": "cx7stOoMTVv2"
      },
      "source": [
        "#### Class shorthands\n",
        "\n",
        "Conversely, there are a number of characters that have special meaning only when escaped. The main ones for now are “\\\\w” (any alphanumeric character), “\\\\s” (any space character), and “\\\\d” (any numeric digit). The capitalized versions of these are used to mean “anything but” that class."
      ]
    },
    {
      "cell_type": "code",
      "metadata": {
        "colab": {
          "base_uri": "https://localhost:8080/",
          "height": 62
        },
        "id": "wUjBmSoLTVv2",
        "outputId": "2ab7b503-753e-4946-d2db-ae57804180b8"
      },
      "source": [
        "allchars <- str_extract_all(combined_string, \"\\\\w\")\n",
        "allchars"
      ],
      "execution_count": null,
      "outputs": [
        {
          "output_type": "display_data",
          "data": {
            "text/html": [
              "<ol>\n",
              "\t<li><style>\n",
              ".list-inline {list-style: none; margin:0; padding: 0}\n",
              ".list-inline>li {display: inline-block}\n",
              ".list-inline>li:not(:last-child)::after {content: \"\\00b7\"; padding: 0 .5ex}\n",
              "</style>\n",
              "<ol class=list-inline><li>'A'</li><li>'f'</li><li>'i'</li><li>'r'</li><li>'s'</li><li>'t'</li><li>'s'</li><li>'e'</li><li>'n'</li><li>'t'</li><li>'e'</li><li>'n'</li><li>'c'</li><li>'e'</li><li>'W'</li><li>'o'</li><li>'w'</li><li>'t'</li><li>'w'</li><li>'o'</li><li>'s'</li><li>'e'</li><li>'n'</li><li>'t'</li><li>'e'</li><li>'n'</li><li>'c'</li><li>'e'</li><li>'s'</li></ol>\n",
              "</li>\n",
              "</ol>\n"
            ],
            "text/markdown": "1. 1. 'A'\n2. 'f'\n3. 'i'\n4. 'r'\n5. 's'\n6. 't'\n7. 's'\n8. 'e'\n9. 'n'\n10. 't'\n11. 'e'\n12. 'n'\n13. 'c'\n14. 'e'\n15. 'W'\n16. 'o'\n17. 'w'\n18. 't'\n19. 'w'\n20. 'o'\n21. 's'\n22. 'e'\n23. 'n'\n24. 't'\n25. 'e'\n26. 'n'\n27. 'c'\n28. 'e'\n29. 's'\n\n\n\n\n\n",
            "text/latex": "\\begin{enumerate}\n\\item \\begin{enumerate*}\n\\item 'A'\n\\item 'f'\n\\item 'i'\n\\item 'r'\n\\item 's'\n\\item 't'\n\\item 's'\n\\item 'e'\n\\item 'n'\n\\item 't'\n\\item 'e'\n\\item 'n'\n\\item 'c'\n\\item 'e'\n\\item 'W'\n\\item 'o'\n\\item 'w'\n\\item 't'\n\\item 'w'\n\\item 'o'\n\\item 's'\n\\item 'e'\n\\item 'n'\n\\item 't'\n\\item 'e'\n\\item 'n'\n\\item 'c'\n\\item 'e'\n\\item 's'\n\\end{enumerate*}\n\n\\end{enumerate}\n",
            "text/plain": [
              "[[1]]\n",
              " [1] \"A\" \"f\" \"i\" \"r\" \"s\" \"t\" \"s\" \"e\" \"n\" \"t\" \"e\" \"n\" \"c\" \"e\" \"W\" \"o\" \"w\" \"t\" \"w\"\n",
              "[20] \"o\" \"s\" \"e\" \"n\" \"t\" \"e\" \"n\" \"c\" \"e\" \"s\"\n"
            ]
          },
          "metadata": {}
        }
      ]
    },
    {
      "cell_type": "code",
      "metadata": {
        "colab": {
          "base_uri": "https://localhost:8080/",
          "height": 62
        },
        "id": "-8OHe0MOTVv2",
        "outputId": "506b75b4-8805-4409-c59a-c420748152a8"
      },
      "source": [
        "allchars <- str_extract_all(combined_string, \"\\\\W\")\n",
        "allchars"
      ],
      "execution_count": null,
      "outputs": [
        {
          "output_type": "display_data",
          "data": {
            "text/html": [
              "<ol>\n",
              "\t<li><style>\n",
              ".list-inline {list-style: none; margin:0; padding: 0}\n",
              ".list-inline>li {display: inline-block}\n",
              ".list-inline>li:not(:last-child)::after {content: \"\\00b7\"; padding: 0 .5ex}\n",
              "</style>\n",
              "<ol class=list-inline><li>' '</li><li>' '</li><li>'!'</li><li>' '</li><li>','</li><li>' '</li><li>' '</li><li>'.'</li></ol>\n",
              "</li>\n",
              "</ol>\n"
            ],
            "text/markdown": "1. 1. ' '\n2. ' '\n3. '!'\n4. ' '\n5. ','\n6. ' '\n7. ' '\n8. '.'\n\n\n\n\n\n",
            "text/latex": "\\begin{enumerate}\n\\item \\begin{enumerate*}\n\\item ' '\n\\item ' '\n\\item '!'\n\\item ' '\n\\item ','\n\\item ' '\n\\item ' '\n\\item '.'\n\\end{enumerate*}\n\n\\end{enumerate}\n",
            "text/plain": [
              "[[1]]\n",
              "[1] \" \" \" \" \"!\" \" \" \",\" \" \" \" \" \".\"\n"
            ]
          },
          "metadata": {}
        }
      ]
    },
    {
      "cell_type": "code",
      "metadata": {
        "colab": {
          "base_uri": "https://localhost:8080/",
          "height": 62
        },
        "id": "9PkcggvrTVv2",
        "outputId": "c35efbf0-9812-47bb-f589-7d3d4ef3463b"
      },
      "source": [
        "allchars <- str_extract_all(combined_string, \"\\\\s\")\n",
        "allchars"
      ],
      "execution_count": null,
      "outputs": [
        {
          "output_type": "display_data",
          "data": {
            "text/html": [
              "<ol>\n",
              "\t<li><style>\n",
              ".list-inline {list-style: none; margin:0; padding: 0}\n",
              ".list-inline>li {display: inline-block}\n",
              ".list-inline>li:not(:last-child)::after {content: \"\\00b7\"; padding: 0 .5ex}\n",
              "</style>\n",
              "<ol class=list-inline><li>' '</li><li>' '</li><li>' '</li><li>' '</li><li>' '</li></ol>\n",
              "</li>\n",
              "</ol>\n"
            ],
            "text/markdown": "1. 1. ' '\n2. ' '\n3. ' '\n4. ' '\n5. ' '\n\n\n\n\n\n",
            "text/latex": "\\begin{enumerate}\n\\item \\begin{enumerate*}\n\\item ' '\n\\item ' '\n\\item ' '\n\\item ' '\n\\item ' '\n\\end{enumerate*}\n\n\\end{enumerate}\n",
            "text/plain": [
              "[[1]]\n",
              "[1] \" \" \" \" \" \" \" \" \" \"\n"
            ]
          },
          "metadata": {}
        }
      ]
    },
    {
      "cell_type": "code",
      "metadata": {
        "colab": {
          "base_uri": "https://localhost:8080/",
          "height": 62
        },
        "id": "J01qTjAATVv3",
        "outputId": "f6ebd701-c59b-415b-fada-831aea668828"
      },
      "source": [
        "allchars <- str_extract_all(combined_string, \"\\\\S\")\n",
        "allchars"
      ],
      "execution_count": null,
      "outputs": [
        {
          "output_type": "display_data",
          "data": {
            "text/html": [
              "<ol>\n",
              "\t<li><style>\n",
              ".list-inline {list-style: none; margin:0; padding: 0}\n",
              ".list-inline>li {display: inline-block}\n",
              ".list-inline>li:not(:last-child)::after {content: \"\\00b7\"; padding: 0 .5ex}\n",
              "</style>\n",
              "<ol class=list-inline><li>'A'</li><li>'f'</li><li>'i'</li><li>'r'</li><li>'s'</li><li>'t'</li><li>'s'</li><li>'e'</li><li>'n'</li><li>'t'</li><li>'e'</li><li>'n'</li><li>'c'</li><li>'e'</li><li>'!'</li><li>'W'</li><li>'o'</li><li>'w'</li><li>','</li><li>'t'</li><li>'w'</li><li>'o'</li><li>'s'</li><li>'e'</li><li>'n'</li><li>'t'</li><li>'e'</li><li>'n'</li><li>'c'</li><li>'e'</li><li>'s'</li><li>'.'</li></ol>\n",
              "</li>\n",
              "</ol>\n"
            ],
            "text/markdown": "1. 1. 'A'\n2. 'f'\n3. 'i'\n4. 'r'\n5. 's'\n6. 't'\n7. 's'\n8. 'e'\n9. 'n'\n10. 't'\n11. 'e'\n12. 'n'\n13. 'c'\n14. 'e'\n15. '!'\n16. 'W'\n17. 'o'\n18. 'w'\n19. ','\n20. 't'\n21. 'w'\n22. 'o'\n23. 's'\n24. 'e'\n25. 'n'\n26. 't'\n27. 'e'\n28. 'n'\n29. 'c'\n30. 'e'\n31. 's'\n32. '.'\n\n\n\n\n\n",
            "text/latex": "\\begin{enumerate}\n\\item \\begin{enumerate*}\n\\item 'A'\n\\item 'f'\n\\item 'i'\n\\item 'r'\n\\item 's'\n\\item 't'\n\\item 's'\n\\item 'e'\n\\item 'n'\n\\item 't'\n\\item 'e'\n\\item 'n'\n\\item 'c'\n\\item 'e'\n\\item '!'\n\\item 'W'\n\\item 'o'\n\\item 'w'\n\\item ','\n\\item 't'\n\\item 'w'\n\\item 'o'\n\\item 's'\n\\item 'e'\n\\item 'n'\n\\item 't'\n\\item 'e'\n\\item 'n'\n\\item 'c'\n\\item 'e'\n\\item 's'\n\\item '.'\n\\end{enumerate*}\n\n\\end{enumerate}\n",
            "text/plain": [
              "[[1]]\n",
              " [1] \"A\" \"f\" \"i\" \"r\" \"s\" \"t\" \"s\" \"e\" \"n\" \"t\" \"e\" \"n\" \"c\" \"e\" \"!\" \"W\" \"o\" \"w\" \",\"\n",
              "[20] \"t\" \"w\" \"o\" \"s\" \"e\" \"n\" \"t\" \"e\" \"n\" \"c\" \"e\" \"s\" \".\"\n"
            ]
          },
          "metadata": {}
        }
      ]
    },
    {
      "cell_type": "code",
      "metadata": {
        "colab": {
          "base_uri": "https://localhost:8080/",
          "height": 62
        },
        "id": "ryB3hT-_TVv3",
        "outputId": "bf46c9a7-777b-4db9-b6cf-15d97d9356cf"
      },
      "source": [
        "allchars <- str_extract_all(combined_string, \"\\\\d\")\n",
        "allchars"
      ],
      "execution_count": null,
      "outputs": [
        {
          "output_type": "display_data",
          "data": {
            "text/html": [
              "<ol>\n",
              "\t<li></li>\n",
              "</ol>\n"
            ],
            "text/markdown": "1. \n\n\n",
            "text/latex": "\\begin{enumerate}\n\\item \n\\end{enumerate}\n",
            "text/plain": [
              "[[1]]\n",
              "character(0)\n"
            ]
          },
          "metadata": {}
        }
      ]
    },
    {
      "cell_type": "code",
      "metadata": {
        "colab": {
          "base_uri": "https://localhost:8080/",
          "height": 62
        },
        "id": "gCayNPkQTVv3",
        "outputId": "2364e268-c9e5-4bfc-de5c-08dfb4d16b4b"
      },
      "source": [
        "allchars <- str_extract_all(combined_string, \"\\\\D\")\n",
        "allchars"
      ],
      "execution_count": null,
      "outputs": [
        {
          "output_type": "display_data",
          "data": {
            "text/html": [
              "<ol>\n",
              "\t<li><style>\n",
              ".list-inline {list-style: none; margin:0; padding: 0}\n",
              ".list-inline>li {display: inline-block}\n",
              ".list-inline>li:not(:last-child)::after {content: \"\\00b7\"; padding: 0 .5ex}\n",
              "</style>\n",
              "<ol class=list-inline><li>'A'</li><li>' '</li><li>'f'</li><li>'i'</li><li>'r'</li><li>'s'</li><li>'t'</li><li>' '</li><li>'s'</li><li>'e'</li><li>'n'</li><li>'t'</li><li>'e'</li><li>'n'</li><li>'c'</li><li>'e'</li><li>'!'</li><li>' '</li><li>'W'</li><li>'o'</li><li>'w'</li><li>','</li><li>' '</li><li>'t'</li><li>'w'</li><li>'o'</li><li>' '</li><li>'s'</li><li>'e'</li><li>'n'</li><li>'t'</li><li>'e'</li><li>'n'</li><li>'c'</li><li>'e'</li><li>'s'</li><li>'.'</li></ol>\n",
              "</li>\n",
              "</ol>\n"
            ],
            "text/markdown": "1. 1. 'A'\n2. ' '\n3. 'f'\n4. 'i'\n5. 'r'\n6. 's'\n7. 't'\n8. ' '\n9. 's'\n10. 'e'\n11. 'n'\n12. 't'\n13. 'e'\n14. 'n'\n15. 'c'\n16. 'e'\n17. '!'\n18. ' '\n19. 'W'\n20. 'o'\n21. 'w'\n22. ','\n23. ' '\n24. 't'\n25. 'w'\n26. 'o'\n27. ' '\n28. 's'\n29. 'e'\n30. 'n'\n31. 't'\n32. 'e'\n33. 'n'\n34. 'c'\n35. 'e'\n36. 's'\n37. '.'\n\n\n\n\n\n",
            "text/latex": "\\begin{enumerate}\n\\item \\begin{enumerate*}\n\\item 'A'\n\\item ' '\n\\item 'f'\n\\item 'i'\n\\item 'r'\n\\item 's'\n\\item 't'\n\\item ' '\n\\item 's'\n\\item 'e'\n\\item 'n'\n\\item 't'\n\\item 'e'\n\\item 'n'\n\\item 'c'\n\\item 'e'\n\\item '!'\n\\item ' '\n\\item 'W'\n\\item 'o'\n\\item 'w'\n\\item ','\n\\item ' '\n\\item 't'\n\\item 'w'\n\\item 'o'\n\\item ' '\n\\item 's'\n\\item 'e'\n\\item 'n'\n\\item 't'\n\\item 'e'\n\\item 'n'\n\\item 'c'\n\\item 'e'\n\\item 's'\n\\item '.'\n\\end{enumerate*}\n\n\\end{enumerate}\n",
            "text/plain": [
              "[[1]]\n",
              " [1] \"A\" \" \" \"f\" \"i\" \"r\" \"s\" \"t\" \" \" \"s\" \"e\" \"n\" \"t\" \"e\" \"n\" \"c\" \"e\" \"!\" \" \" \"W\"\n",
              "[20] \"o\" \"w\" \",\" \" \" \"t\" \"w\" \"o\" \" \" \"s\" \"e\" \"n\" \"t\" \"e\" \"n\" \"c\" \"e\" \"s\" \".\"\n"
            ]
          },
          "metadata": {}
        }
      ]
    },
    {
      "cell_type": "markdown",
      "metadata": {
        "id": "O5I8lTAXTVv3"
      },
      "source": [
        "#### Quantifiers: * (zero or more of the previous)\n",
        "\n",
        "This is also known as the “Kleene star” (pronounced clean-ee), after its original user (Kleene) who introduced the notation in formal logic."
      ]
    },
    {
      "cell_type": "code",
      "metadata": {
        "colab": {
          "base_uri": "https://localhost:8080/",
          "height": 62
        },
        "id": "mI5wRYlNTVv3",
        "outputId": "cd710f8f-6294-4141-9555-3fc4c2a17f66"
      },
      "source": [
        "allchars <- str_extract_all(combined_string, \"\\\\d*\") # any string of 0 or more digits\n",
        "allchars"
      ],
      "execution_count": null,
      "outputs": [
        {
          "output_type": "display_data",
          "data": {
            "text/html": [
              "<ol>\n",
              "\t<li><style>\n",
              ".list-inline {list-style: none; margin:0; padding: 0}\n",
              ".list-inline>li {display: inline-block}\n",
              ".list-inline>li:not(:last-child)::after {content: \"\\00b7\"; padding: 0 .5ex}\n",
              "</style>\n",
              "<ol class=list-inline><li>''</li><li>''</li><li>''</li><li>''</li><li>''</li><li>''</li><li>''</li><li>''</li><li>''</li><li>''</li><li>''</li><li>''</li><li>''</li><li>''</li><li>''</li><li>''</li><li>''</li><li>''</li><li>''</li><li>''</li><li>''</li><li>''</li><li>''</li><li>''</li><li>''</li><li>''</li><li>''</li><li>''</li><li>''</li><li>''</li><li>''</li><li>''</li><li>''</li><li>''</li><li>''</li><li>''</li><li>''</li><li>''</li></ol>\n",
              "</li>\n",
              "</ol>\n"
            ],
            "text/markdown": "1. 1. ''\n2. ''\n3. ''\n4. ''\n5. ''\n6. ''\n7. ''\n8. ''\n9. ''\n10. ''\n11. ''\n12. ''\n13. ''\n14. ''\n15. ''\n16. ''\n17. ''\n18. ''\n19. ''\n20. ''\n21. ''\n22. ''\n23. ''\n24. ''\n25. ''\n26. ''\n27. ''\n28. ''\n29. ''\n30. ''\n31. ''\n32. ''\n33. ''\n34. ''\n35. ''\n36. ''\n37. ''\n38. ''\n\n\n\n\n\n",
            "text/latex": "\\begin{enumerate}\n\\item \\begin{enumerate*}\n\\item ''\n\\item ''\n\\item ''\n\\item ''\n\\item ''\n\\item ''\n\\item ''\n\\item ''\n\\item ''\n\\item ''\n\\item ''\n\\item ''\n\\item ''\n\\item ''\n\\item ''\n\\item ''\n\\item ''\n\\item ''\n\\item ''\n\\item ''\n\\item ''\n\\item ''\n\\item ''\n\\item ''\n\\item ''\n\\item ''\n\\item ''\n\\item ''\n\\item ''\n\\item ''\n\\item ''\n\\item ''\n\\item ''\n\\item ''\n\\item ''\n\\item ''\n\\item ''\n\\item ''\n\\end{enumerate*}\n\n\\end{enumerate}\n",
            "text/plain": [
              "[[1]]\n",
              " [1] \"\" \"\" \"\" \"\" \"\" \"\" \"\" \"\" \"\" \"\" \"\" \"\" \"\" \"\" \"\" \"\" \"\" \"\" \"\" \"\" \"\" \"\" \"\" \"\" \"\"\n",
              "[26] \"\" \"\" \"\" \"\" \"\" \"\" \"\" \"\" \"\" \"\" \"\" \"\" \"\"\n"
            ]
          },
          "metadata": {}
        }
      ]
    },
    {
      "cell_type": "markdown",
      "metadata": {
        "id": "LHciyytwTVv4"
      },
      "source": [
        "Note the \"zero\" or more led it to identify every position of the string as a match, many of them empty (containing no characters).\n",
        "\n",
        "#### Quantifiers: + (one or more of the previous)\n",
        "\n",
        "This is also known as the “Kleene plus.”"
      ]
    },
    {
      "cell_type": "code",
      "metadata": {
        "colab": {
          "base_uri": "https://localhost:8080/",
          "height": 62
        },
        "id": "5UWJ4wQ0TVv4",
        "outputId": "03b51d6a-bfb9-4418-aeb5-2f205eb9fdc4"
      },
      "source": [
        "allchars <- str_extract_all(combined_string, \"\\\\d+\")\n",
        "allchars"
      ],
      "execution_count": null,
      "outputs": [
        {
          "output_type": "display_data",
          "data": {
            "text/html": [
              "<ol>\n",
              "\t<li></li>\n",
              "</ol>\n"
            ],
            "text/markdown": "1. \n\n\n",
            "text/latex": "\\begin{enumerate}\n\\item \n\\end{enumerate}\n",
            "text/plain": [
              "[[1]]\n",
              "character(0)\n"
            ]
          },
          "metadata": {}
        }
      ]
    },
    {
      "cell_type": "markdown",
      "metadata": {
        "id": "ePy1u-XeTVv4"
      },
      "source": [
        "#### Quantifiers {n} {n,m} and {n,}\n",
        "\n",
        "{n} = “exactly n” of the previous\n",
        "{n,m} = “between n and m” of the previous\n",
        "{n,} = “n or more” of the previous"
      ]
    },
    {
      "cell_type": "code",
      "metadata": {
        "colab": {
          "base_uri": "https://localhost:8080/",
          "height": 62
        },
        "id": "apm_0J3xTVv4",
        "outputId": "e4547ac0-4f59-4f09-d769-004e4f832bd0"
      },
      "source": [
        "xstring <- c(\"x xx xxx xxxx xxxxx\")\n",
        "\n",
        "str_extract_all(xstring, \"x{3}\") # 3 x's\n"
      ],
      "execution_count": null,
      "outputs": [
        {
          "output_type": "display_data",
          "data": {
            "text/html": [
              "<ol>\n",
              "\t<li><style>\n",
              ".list-inline {list-style: none; margin:0; padding: 0}\n",
              ".list-inline>li {display: inline-block}\n",
              ".list-inline>li:not(:last-child)::after {content: \"\\00b7\"; padding: 0 .5ex}\n",
              "</style>\n",
              "<ol class=list-inline><li>'xxx'</li><li>'xxx'</li><li>'xxx'</li></ol>\n",
              "</li>\n",
              "</ol>\n"
            ],
            "text/markdown": "1. 1. 'xxx'\n2. 'xxx'\n3. 'xxx'\n\n\n\n\n\n",
            "text/latex": "\\begin{enumerate}\n\\item \\begin{enumerate*}\n\\item 'xxx'\n\\item 'xxx'\n\\item 'xxx'\n\\end{enumerate*}\n\n\\end{enumerate}\n",
            "text/plain": [
              "[[1]]\n",
              "[1] \"xxx\" \"xxx\" \"xxx\"\n"
            ]
          },
          "metadata": {}
        }
      ]
    },
    {
      "cell_type": "code",
      "metadata": {
        "colab": {
          "base_uri": "https://localhost:8080/",
          "height": 62
        },
        "id": "AP5_jjAWTVv4",
        "outputId": "8a6d0907-91af-4b90-a755-07d5366d48ab"
      },
      "source": [
        "str_extract_all(xstring, \"x{3,4}\") # 3 or 4 x's"
      ],
      "execution_count": null,
      "outputs": [
        {
          "output_type": "display_data",
          "data": {
            "text/html": [
              "<ol>\n",
              "\t<li><style>\n",
              ".list-inline {list-style: none; margin:0; padding: 0}\n",
              ".list-inline>li {display: inline-block}\n",
              ".list-inline>li:not(:last-child)::after {content: \"\\00b7\"; padding: 0 .5ex}\n",
              "</style>\n",
              "<ol class=list-inline><li>'xxx'</li><li>'xxxx'</li><li>'xxxx'</li></ol>\n",
              "</li>\n",
              "</ol>\n"
            ],
            "text/markdown": "1. 1. 'xxx'\n2. 'xxxx'\n3. 'xxxx'\n\n\n\n\n\n",
            "text/latex": "\\begin{enumerate}\n\\item \\begin{enumerate*}\n\\item 'xxx'\n\\item 'xxxx'\n\\item 'xxxx'\n\\end{enumerate*}\n\n\\end{enumerate}\n",
            "text/plain": [
              "[[1]]\n",
              "[1] \"xxx\"  \"xxxx\" \"xxxx\"\n"
            ]
          },
          "metadata": {}
        }
      ]
    },
    {
      "cell_type": "code",
      "metadata": {
        "colab": {
          "base_uri": "https://localhost:8080/",
          "height": 62
        },
        "id": "rWsT9DuaTVv4",
        "outputId": "75fe5873-491d-47a8-ef81-ad1ff3af3d53"
      },
      "source": [
        "str_extract_all(xstring, \"x{3,}\") # 3 or more x's"
      ],
      "execution_count": null,
      "outputs": [
        {
          "output_type": "display_data",
          "data": {
            "text/html": [
              "<ol>\n",
              "\t<li><style>\n",
              ".list-inline {list-style: none; margin:0; padding: 0}\n",
              ".list-inline>li {display: inline-block}\n",
              ".list-inline>li:not(:last-child)::after {content: \"\\00b7\"; padding: 0 .5ex}\n",
              "</style>\n",
              "<ol class=list-inline><li>'xxx'</li><li>'xxxx'</li><li>'xxxxx'</li></ol>\n",
              "</li>\n",
              "</ol>\n"
            ],
            "text/markdown": "1. 1. 'xxx'\n2. 'xxxx'\n3. 'xxxxx'\n\n\n\n\n\n",
            "text/latex": "\\begin{enumerate}\n\\item \\begin{enumerate*}\n\\item 'xxx'\n\\item 'xxxx'\n\\item 'xxxxx'\n\\end{enumerate*}\n\n\\end{enumerate}\n",
            "text/plain": [
              "[[1]]\n",
              "[1] \"xxx\"   \"xxxx\"  \"xxxxx\"\n"
            ]
          },
          "metadata": {}
        }
      ]
    },
    {
      "cell_type": "markdown",
      "metadata": {
        "id": "0P0Sc0zrTVv5"
      },
      "source": [
        "#### Quantifier ? (zero or one of the previous)"
      ]
    },
    {
      "cell_type": "code",
      "metadata": {
        "colab": {
          "base_uri": "https://localhost:8080/",
          "height": 62
        },
        "id": "ylhcx2U4TVv5",
        "outputId": "0914c05a-8588-4b4c-e404-2167814b4631"
      },
      "source": [
        "str_extract_all(combined_string, \"\\\\d?\")"
      ],
      "execution_count": null,
      "outputs": [
        {
          "output_type": "display_data",
          "data": {
            "text/html": [
              "<ol>\n",
              "\t<li><style>\n",
              ".list-inline {list-style: none; margin:0; padding: 0}\n",
              ".list-inline>li {display: inline-block}\n",
              ".list-inline>li:not(:last-child)::after {content: \"\\00b7\"; padding: 0 .5ex}\n",
              "</style>\n",
              "<ol class=list-inline><li>''</li><li>''</li><li>''</li><li>''</li><li>''</li><li>''</li><li>''</li><li>''</li><li>''</li><li>''</li><li>''</li><li>''</li><li>''</li><li>''</li><li>''</li><li>''</li><li>''</li><li>''</li><li>''</li><li>''</li><li>''</li><li>''</li><li>''</li><li>''</li><li>''</li><li>''</li><li>''</li><li>''</li><li>''</li><li>''</li><li>''</li><li>''</li><li>''</li><li>''</li><li>''</li><li>''</li><li>''</li><li>''</li></ol>\n",
              "</li>\n",
              "</ol>\n"
            ],
            "text/markdown": "1. 1. ''\n2. ''\n3. ''\n4. ''\n5. ''\n6. ''\n7. ''\n8. ''\n9. ''\n10. ''\n11. ''\n12. ''\n13. ''\n14. ''\n15. ''\n16. ''\n17. ''\n18. ''\n19. ''\n20. ''\n21. ''\n22. ''\n23. ''\n24. ''\n25. ''\n26. ''\n27. ''\n28. ''\n29. ''\n30. ''\n31. ''\n32. ''\n33. ''\n34. ''\n35. ''\n36. ''\n37. ''\n38. ''\n\n\n\n\n\n",
            "text/latex": "\\begin{enumerate}\n\\item \\begin{enumerate*}\n\\item ''\n\\item ''\n\\item ''\n\\item ''\n\\item ''\n\\item ''\n\\item ''\n\\item ''\n\\item ''\n\\item ''\n\\item ''\n\\item ''\n\\item ''\n\\item ''\n\\item ''\n\\item ''\n\\item ''\n\\item ''\n\\item ''\n\\item ''\n\\item ''\n\\item ''\n\\item ''\n\\item ''\n\\item ''\n\\item ''\n\\item ''\n\\item ''\n\\item ''\n\\item ''\n\\item ''\n\\item ''\n\\item ''\n\\item ''\n\\item ''\n\\item ''\n\\item ''\n\\item ''\n\\end{enumerate*}\n\n\\end{enumerate}\n",
            "text/plain": [
              "[[1]]\n",
              " [1] \"\" \"\" \"\" \"\" \"\" \"\" \"\" \"\" \"\" \"\" \"\" \"\" \"\" \"\" \"\" \"\" \"\" \"\" \"\" \"\" \"\" \"\" \"\" \"\" \"\"\n",
              "[26] \"\" \"\" \"\" \"\" \"\" \"\" \"\" \"\" \"\" \"\" \"\" \"\" \"\"\n"
            ]
          },
          "metadata": {}
        }
      ]
    },
    {
      "cell_type": "code",
      "metadata": {
        "colab": {
          "base_uri": "https://localhost:8080/",
          "height": 52
        },
        "id": "nUmPJ0v_TVv5",
        "outputId": "64210053-1cbb-4abd-b632-4c74f1aa131a"
      },
      "source": [
        "str_subset(sentences, \" [bp]?eat \")"
      ],
      "execution_count": null,
      "outputs": [
        {
          "output_type": "display_data",
          "data": {
            "text/html": [
              "<style>\n",
              ".list-inline {list-style: none; margin:0; padding: 0}\n",
              ".list-inline>li {display: inline-block}\n",
              ".list-inline>li:not(:last-child)::after {content: \"\\00b7\"; padding: 0 .5ex}\n",
              "</style>\n",
              "<ol class=list-inline><li>'The heart beat strongly and with firm strokes.'</li><li>'Burn peat after the logs give out.'</li><li>'A speedy man can beat this track mark.'</li><li>'Even the worst will beat his low score.'</li><li>'Quench your thirst, then eat the crackers.'</li></ol>\n"
            ],
            "text/markdown": "1. 'The heart beat strongly and with firm strokes.'\n2. 'Burn peat after the logs give out.'\n3. 'A speedy man can beat this track mark.'\n4. 'Even the worst will beat his low score.'\n5. 'Quench your thirst, then eat the crackers.'\n\n\n",
            "text/latex": "\\begin{enumerate*}\n\\item 'The heart beat strongly and with firm strokes.'\n\\item 'Burn peat after the logs give out.'\n\\item 'A speedy man can beat this track mark.'\n\\item 'Even the worst will beat his low score.'\n\\item 'Quench your thirst, then eat the crackers.'\n\\end{enumerate*}\n",
            "text/plain": [
              "[1] \"The heart beat strongly and with firm strokes.\"\n",
              "[2] \"Burn peat after the logs give out.\"            \n",
              "[3] \"A speedy man can beat this track mark.\"        \n",
              "[4] \"Even the worst will beat his low score.\"       \n",
              "[5] \"Quench your thirst, then eat the crackers.\"    "
            ]
          },
          "metadata": {}
        }
      ]
    },
    {
      "cell_type": "markdown",
      "metadata": {
        "id": "Esi7o-hxTVv6"
      },
      "source": [
        "#### Anchors at beginning and end of string"
      ]
    },
    {
      "cell_type": "code",
      "metadata": {
        "colab": {
          "base_uri": "https://localhost:8080/",
          "height": 62
        },
        "id": "VCUd22KbTVv6",
        "outputId": "c5286957-9751-4f90-b023-5bf66d4dee14"
      },
      "source": [
        "# beginning of string\n",
        "str_extract_all(combined_string, \"^.\")"
      ],
      "execution_count": null,
      "outputs": [
        {
          "output_type": "display_data",
          "data": {
            "text/html": [
              "<ol>\n",
              "\t<li>'A'</li>\n",
              "</ol>\n"
            ],
            "text/markdown": "1. 'A'\n\n\n",
            "text/latex": "\\begin{enumerate}\n\\item 'A'\n\\end{enumerate}\n",
            "text/plain": [
              "[[1]]\n",
              "[1] \"A\"\n"
            ]
          },
          "metadata": {}
        }
      ]
    },
    {
      "cell_type": "code",
      "metadata": {
        "colab": {
          "base_uri": "https://localhost:8080/",
          "height": 62
        },
        "id": "seXn9HB-TVv6",
        "outputId": "a080c16a-8a4e-421d-eac0-3b8ac23d5854"
      },
      "source": [
        "# end of string\n",
        "str_extract_all(combined_string, \".$\")"
      ],
      "execution_count": null,
      "outputs": [
        {
          "output_type": "display_data",
          "data": {
            "text/html": [
              "<ol>\n",
              "\t<li>'.'</li>\n",
              "</ol>\n"
            ],
            "text/markdown": "1. '.'\n\n\n",
            "text/latex": "\\begin{enumerate}\n\\item '.'\n\\end{enumerate}\n",
            "text/plain": [
              "[[1]]\n",
              "[1] \".\"\n"
            ]
          },
          "metadata": {}
        }
      ]
    },
    {
      "cell_type": "markdown",
      "metadata": {
        "id": "Ndd0HAcWTVv6"
      },
      "source": [
        "#### Anchors at word boundaries"
      ]
    },
    {
      "cell_type": "markdown",
      "metadata": {
        "id": "ENRwDSOzTVv7"
      },
      "source": [
        "Similarly, we can identify \"word boundaries\" with \\b. "
      ]
    },
    {
      "cell_type": "code",
      "metadata": {
        "colab": {
          "base_uri": "https://localhost:8080/",
          "height": 62
        },
        "id": "i9OWyEFKTVv7",
        "outputId": "cc24b6c4-cf0f-467b-9f4f-23d3f9dbe1a7"
      },
      "source": [
        "# word boundary\n",
        "str_extract_all(xstring, \"\\\\b\\\\w+?\\\\b\")"
      ],
      "execution_count": null,
      "outputs": [
        {
          "output_type": "display_data",
          "data": {
            "text/html": [
              "<ol>\n",
              "\t<li><style>\n",
              ".list-inline {list-style: none; margin:0; padding: 0}\n",
              ".list-inline>li {display: inline-block}\n",
              ".list-inline>li:not(:last-child)::after {content: \"\\00b7\"; padding: 0 .5ex}\n",
              "</style>\n",
              "<ol class=list-inline><li>'x'</li><li>'xx'</li><li>'xxx'</li><li>'xxxx'</li><li>'xxxxx'</li></ol>\n",
              "</li>\n",
              "</ol>\n"
            ],
            "text/markdown": "1. 1. 'x'\n2. 'xx'\n3. 'xxx'\n4. 'xxxx'\n5. 'xxxxx'\n\n\n\n\n\n",
            "text/latex": "\\begin{enumerate}\n\\item \\begin{enumerate*}\n\\item 'x'\n\\item 'xx'\n\\item 'xxx'\n\\item 'xxxx'\n\\item 'xxxxx'\n\\end{enumerate*}\n\n\\end{enumerate}\n",
            "text/plain": [
              "[[1]]\n",
              "[1] \"x\"     \"xx\"    \"xxx\"   \"xxxx\"  \"xxxxx\"\n"
            ]
          },
          "metadata": {}
        }
      ]
    },
    {
      "cell_type": "code",
      "metadata": {
        "colab": {
          "base_uri": "https://localhost:8080/",
          "height": 62
        },
        "id": "mJBoX67YTVv7",
        "outputId": "1024081d-a45c-4bf1-ac7c-261448a10d74"
      },
      "source": [
        "# word boundary\n",
        "str_extract_all(combined_string, \"\\\\b\\\\w+?\\\\b\")"
      ],
      "execution_count": null,
      "outputs": [
        {
          "output_type": "display_data",
          "data": {
            "text/html": [
              "<ol>\n",
              "\t<li><style>\n",
              ".list-inline {list-style: none; margin:0; padding: 0}\n",
              ".list-inline>li {display: inline-block}\n",
              ".list-inline>li:not(:last-child)::after {content: \"\\00b7\"; padding: 0 .5ex}\n",
              "</style>\n",
              "<ol class=list-inline><li>'A'</li><li>'first'</li><li>'sentence'</li><li>'Wow'</li><li>'two'</li><li>'sentences'</li></ol>\n",
              "</li>\n",
              "</ol>\n"
            ],
            "text/markdown": "1. 1. 'A'\n2. 'first'\n3. 'sentence'\n4. 'Wow'\n5. 'two'\n6. 'sentences'\n\n\n\n\n\n",
            "text/latex": "\\begin{enumerate}\n\\item \\begin{enumerate*}\n\\item 'A'\n\\item 'first'\n\\item 'sentence'\n\\item 'Wow'\n\\item 'two'\n\\item 'sentences'\n\\end{enumerate*}\n\n\\end{enumerate}\n",
            "text/plain": [
              "[[1]]\n",
              "[1] \"A\"         \"first\"     \"sentence\"  \"Wow\"       \"two\"       \"sentences\"\n"
            ]
          },
          "metadata": {}
        }
      ]
    },
    {
      "cell_type": "markdown",
      "metadata": {
        "id": "T5NffUPuTVv7"
      },
      "source": [
        "## An example\n",
        "\n",
        "Consider the following text from a Congressional Bill. We're going to try to use regular expressions to make data out of the appropriations dollars and purposes in bullets 1-9."
      ]
    },
    {
      "cell_type": "code",
      "metadata": {
        "id": "WTBvd-1jTVv8"
      },
      "source": [
        "text = \"SEC. 101. FISCAL YEAR 2017.\n",
        "(a) In General.--There are authorized to be appropriated to NASA\n",
        "for fiscal year 2017 $19,508,000,000, as follows:\n",
        "(1) For Exploration, $4,330,000,000.\n",
        "(2) For Space Operations, $5,023,000,000.\n",
        "(3) For Science, $5,500,000,000.\n",
        "(4) For Aeronautics, $640,000,000.\n",
        "(5) For Space Technology, $686,000,000.\n",
        "(6) For Education, $115,000,000.\n",
        "(7) For Safety, Security, and Mission Services,\n",
        "$2,788,600,000.\n",
        "(8) For Construction and Environmental Compliance and\n",
        "Restoration, $388,000,000.\n",
        "(9) For Inspector General, $37,400,000.\n",
        "(b) Exception.--In addition to the amounts authorized to be\n",
        "appropriated for each account under subsection (a), there are\n",
        "authorized to be appropriated additional funds for each such account,\n",
        "but only if the authorized amounts for all such accounts are fully\n",
        "provided for in annual appropriation Acts, consistent with the\n",
        "discretionary spending limits in section 251(c) of the Balanced Budget\n",
        "and Emergency Deficit Control Act of 1985.\""
      ],
      "execution_count": null,
      "outputs": []
    },
    {
      "cell_type": "markdown",
      "metadata": {
        "id": "-0_TtpbXdfro"
      },
      "source": [
        "Note that's *one* string with a bunch of newline characters."
      ]
    },
    {
      "cell_type": "code",
      "metadata": {
        "colab": {
          "base_uri": "https://localhost:8080/",
          "height": 121
        },
        "id": "naeIvs2MTVv8",
        "outputId": "16d900ac-30c8-4060-e16e-ee4938360d3e"
      },
      "source": [
        "text"
      ],
      "execution_count": null,
      "outputs": [
        {
          "output_type": "display_data",
          "data": {
            "text/html": [
              "'SEC. 101. FISCAL YEAR 2017.\\n(a) In General.--There are authorized to be appropriated to NASA\\nfor fiscal year 2017 $19,508,000,000, as follows:\\n(1) For Exploration, $4,330,000,000.\\n(2) For Space Operations, $5,023,000,000.\\n(3) For Science, $5,500,000,000.\\n(4) For Aeronautics, $640,000,000.\\n(5) For Space Technology, $686,000,000.\\n(6) For Education, $115,000,000.\\n(7) For Safety, Security, and Mission Services,\\n$2,788,600,000.\\n(8) For Construction and Environmental Compliance and\\nRestoration, $388,000,000.\\n(9) For Inspector General, $37,400,000.\\n(b) Exception.--In addition to the amounts authorized to be\\nappropriated for each account under subsection (a), there are\\nauthorized to be appropriated additional funds for each such account,\\nbut only if the authorized amounts for all such accounts are fully\\nprovided for in annual appropriation Acts, consistent with the\\ndiscretionary spending limits in section 251(c) of the Balanced Budget\\nand Emergency Deficit Control Act of 1985.'"
            ],
            "text/markdown": "'SEC. 101. FISCAL YEAR 2017.\\n(a) In General.--There are authorized to be appropriated to NASA\\nfor fiscal year 2017 $19,508,000,000, as follows:\\n(1) For Exploration, $4,330,000,000.\\n(2) For Space Operations, $5,023,000,000.\\n(3) For Science, $5,500,000,000.\\n(4) For Aeronautics, $640,000,000.\\n(5) For Space Technology, $686,000,000.\\n(6) For Education, $115,000,000.\\n(7) For Safety, Security, and Mission Services,\\n$2,788,600,000.\\n(8) For Construction and Environmental Compliance and\\nRestoration, $388,000,000.\\n(9) For Inspector General, $37,400,000.\\n(b) Exception.--In addition to the amounts authorized to be\\nappropriated for each account under subsection (a), there are\\nauthorized to be appropriated additional funds for each such account,\\nbut only if the authorized amounts for all such accounts are fully\\nprovided for in annual appropriation Acts, consistent with the\\ndiscretionary spending limits in section 251(c) of the Balanced Budget\\nand Emergency Deficit Control Act of 1985.'",
            "text/latex": "'SEC. 101. FISCAL YEAR 2017.\\textbackslash{}n(a) In General.--There are authorized to be appropriated to NASA\\textbackslash{}nfor fiscal year 2017 \\$19,508,000,000, as follows:\\textbackslash{}n(1) For Exploration, \\$4,330,000,000.\\textbackslash{}n(2) For Space Operations, \\$5,023,000,000.\\textbackslash{}n(3) For Science, \\$5,500,000,000.\\textbackslash{}n(4) For Aeronautics, \\$640,000,000.\\textbackslash{}n(5) For Space Technology, \\$686,000,000.\\textbackslash{}n(6) For Education, \\$115,000,000.\\textbackslash{}n(7) For Safety, Security, and Mission Services,\\textbackslash{}n\\$2,788,600,000.\\textbackslash{}n(8) For Construction and Environmental Compliance and\\textbackslash{}nRestoration, \\$388,000,000.\\textbackslash{}n(9) For Inspector General, \\$37,400,000.\\textbackslash{}n(b) Exception.--In addition to the amounts authorized to be\\textbackslash{}nappropriated for each account under subsection (a), there are\\textbackslash{}nauthorized to be appropriated additional funds for each such account,\\textbackslash{}nbut only if the authorized amounts for all such accounts are fully\\textbackslash{}nprovided for in annual appropriation Acts, consistent with the\\textbackslash{}ndiscretionary spending limits in section 251(c) of the Balanced Budget\\textbackslash{}nand Emergency Deficit Control Act of 1985.'",
            "text/plain": [
              "[1] \"SEC. 101. FISCAL YEAR 2017.\\n(a) In General.--There are authorized to be appropriated to NASA\\nfor fiscal year 2017 $19,508,000,000, as follows:\\n(1) For Exploration, $4,330,000,000.\\n(2) For Space Operations, $5,023,000,000.\\n(3) For Science, $5,500,000,000.\\n(4) For Aeronautics, $640,000,000.\\n(5) For Space Technology, $686,000,000.\\n(6) For Education, $115,000,000.\\n(7) For Safety, Security, and Mission Services,\\n$2,788,600,000.\\n(8) For Construction and Environmental Compliance and\\nRestoration, $388,000,000.\\n(9) For Inspector General, $37,400,000.\\n(b) Exception.--In addition to the amounts authorized to be\\nappropriated for each account under subsection (a), there are\\nauthorized to be appropriated additional funds for each such account,\\nbut only if the authorized amounts for all such accounts are fully\\nprovided for in annual appropriation Acts, consistent with the\\ndiscretionary spending limits in section 251(c) of the Balanced Budget\\nand Emergency Deficit Control Act of 1985.\""
            ]
          },
          "metadata": {}
        }
      ]
    },
    {
      "cell_type": "markdown",
      "metadata": {
        "id": "bQefqyzRTVv8"
      },
      "source": [
        "Lets play around with a few things. Extract all contiguous sequences of one or more numbers."
      ]
    },
    {
      "cell_type": "code",
      "metadata": {
        "colab": {
          "base_uri": "https://localhost:8080/",
          "height": 80
        },
        "id": "4sRXAYciTVv8",
        "outputId": "2b74dca7-0d77-41dc-a58e-4a35c7f2b062"
      },
      "source": [
        "digitmatches <- str_extract_all(text, '[0-9]+') # one or more consecutive digits\n",
        "digitmatches"
      ],
      "execution_count": null,
      "outputs": [
        {
          "output_type": "display_data",
          "data": {
            "text/html": [
              "<ol>\n",
              "\t<li><style>\n",
              ".list-inline {list-style: none; margin:0; padding: 0}\n",
              ".list-inline>li {display: inline-block}\n",
              ".list-inline>li:not(:last-child)::after {content: \"\\00b7\"; padding: 0 .5ex}\n",
              "</style>\n",
              "<ol class=list-inline><li>'101'</li><li>'2017'</li><li>'2017'</li><li>'19'</li><li>'508'</li><li>'000'</li><li>'000'</li><li>'1'</li><li>'4'</li><li>'330'</li><li>'000'</li><li>'000'</li><li>'2'</li><li>'5'</li><li>'023'</li><li>'000'</li><li>'000'</li><li>'3'</li><li>'5'</li><li>'500'</li><li>'000'</li><li>'000'</li><li>'4'</li><li>'640'</li><li>'000'</li><li>'000'</li><li>'5'</li><li>'686'</li><li>'000'</li><li>'000'</li><li>'6'</li><li>'115'</li><li>'000'</li><li>'000'</li><li>'7'</li><li>'2'</li><li>'788'</li><li>'600'</li><li>'000'</li><li>'8'</li><li>'388'</li><li>'000'</li><li>'000'</li><li>'9'</li><li>'37'</li><li>'400'</li><li>'000'</li><li>'251'</li><li>'1985'</li></ol>\n",
              "</li>\n",
              "</ol>\n"
            ],
            "text/markdown": "1. 1. '101'\n2. '2017'\n3. '2017'\n4. '19'\n5. '508'\n6. '000'\n7. '000'\n8. '1'\n9. '4'\n10. '330'\n11. '000'\n12. '000'\n13. '2'\n14. '5'\n15. '023'\n16. '000'\n17. '000'\n18. '3'\n19. '5'\n20. '500'\n21. '000'\n22. '000'\n23. '4'\n24. '640'\n25. '000'\n26. '000'\n27. '5'\n28. '686'\n29. '000'\n30. '000'\n31. '6'\n32. '115'\n33. '000'\n34. '000'\n35. '7'\n36. '2'\n37. '788'\n38. '600'\n39. '000'\n40. '8'\n41. '388'\n42. '000'\n43. '000'\n44. '9'\n45. '37'\n46. '400'\n47. '000'\n48. '251'\n49. '1985'\n\n\n\n\n\n",
            "text/latex": "\\begin{enumerate}\n\\item \\begin{enumerate*}\n\\item '101'\n\\item '2017'\n\\item '2017'\n\\item '19'\n\\item '508'\n\\item '000'\n\\item '000'\n\\item '1'\n\\item '4'\n\\item '330'\n\\item '000'\n\\item '000'\n\\item '2'\n\\item '5'\n\\item '023'\n\\item '000'\n\\item '000'\n\\item '3'\n\\item '5'\n\\item '500'\n\\item '000'\n\\item '000'\n\\item '4'\n\\item '640'\n\\item '000'\n\\item '000'\n\\item '5'\n\\item '686'\n\\item '000'\n\\item '000'\n\\item '6'\n\\item '115'\n\\item '000'\n\\item '000'\n\\item '7'\n\\item '2'\n\\item '788'\n\\item '600'\n\\item '000'\n\\item '8'\n\\item '388'\n\\item '000'\n\\item '000'\n\\item '9'\n\\item '37'\n\\item '400'\n\\item '000'\n\\item '251'\n\\item '1985'\n\\end{enumerate*}\n\n\\end{enumerate}\n",
            "text/plain": [
              "[[1]]\n",
              " [1] \"101\"  \"2017\" \"2017\" \"19\"   \"508\"  \"000\"  \"000\"  \"1\"    \"4\"    \"330\" \n",
              "[11] \"000\"  \"000\"  \"2\"    \"5\"    \"023\"  \"000\"  \"000\"  \"3\"    \"5\"    \"500\" \n",
              "[21] \"000\"  \"000\"  \"4\"    \"640\"  \"000\"  \"000\"  \"5\"    \"686\"  \"000\"  \"000\" \n",
              "[31] \"6\"    \"115\"  \"000\"  \"000\"  \"7\"    \"2\"    \"788\"  \"600\"  \"000\"  \"8\"   \n",
              "[41] \"388\"  \"000\"  \"000\"  \"9\"    \"37\"   \"400\"  \"000\"  \"251\"  \"1985\"\n"
            ]
          },
          "metadata": {}
        }
      ]
    },
    {
      "cell_type": "markdown",
      "metadata": {
        "id": "eltFzL6jTVv8"
      },
      "source": [
        "That does two things we don't like ... separates numbers at the 1000s separating comma and gets numbers (\"101\", \"2017\", etc.) that aren't dollar amounts. So, let's try getting everything that:\n",
        "* Starts with a \"$\" (which needs to be escaped)\n",
        "* Followed by one or more strings of commas or digits."
      ]
    },
    {
      "cell_type": "code",
      "metadata": {
        "colab": {
          "base_uri": "https://localhost:8080/",
          "height": 62
        },
        "id": "H5RHIc6pTVv9",
        "outputId": "208cee12-9a6d-4067-ddda-664b4f76c109"
      },
      "source": [
        "dollarmatches <- str_extract_all(text, '\\\\$[,0-9]+') # $ followed by one or more digits or commas\n",
        "dollarmatches"
      ],
      "execution_count": null,
      "outputs": [
        {
          "output_type": "display_data",
          "data": {
            "text/html": [
              "<ol>\n",
              "\t<li><style>\n",
              ".list-inline {list-style: none; margin:0; padding: 0}\n",
              ".list-inline>li {display: inline-block}\n",
              ".list-inline>li:not(:last-child)::after {content: \"\\00b7\"; padding: 0 .5ex}\n",
              "</style>\n",
              "<ol class=list-inline><li>'$19,508,000,000,'</li><li>'$4,330,000,000'</li><li>'$5,023,000,000'</li><li>'$5,500,000,000'</li><li>'$640,000,000'</li><li>'$686,000,000'</li><li>'$115,000,000'</li><li>'$2,788,600,000'</li><li>'$388,000,000'</li><li>'$37,400,000'</li></ol>\n",
              "</li>\n",
              "</ol>\n"
            ],
            "text/markdown": "1. 1. '$19,508,000,000,'\n2. '$4,330,000,000'\n3. '$5,023,000,000'\n4. '$5,500,000,000'\n5. '$640,000,000'\n6. '$686,000,000'\n7. '$115,000,000'\n8. '$2,788,600,000'\n9. '$388,000,000'\n10. '$37,400,000'\n\n\n\n\n\n",
            "text/latex": "\\begin{enumerate}\n\\item \\begin{enumerate*}\n\\item '\\$19,508,000,000,'\n\\item '\\$4,330,000,000'\n\\item '\\$5,023,000,000'\n\\item '\\$5,500,000,000'\n\\item '\\$640,000,000'\n\\item '\\$686,000,000'\n\\item '\\$115,000,000'\n\\item '\\$2,788,600,000'\n\\item '\\$388,000,000'\n\\item '\\$37,400,000'\n\\end{enumerate*}\n\n\\end{enumerate}\n",
            "text/plain": [
              "[[1]]\n",
              " [1] \"$19,508,000,000,\" \"$4,330,000,000\"   \"$5,023,000,000\"   \"$5,500,000,000\"  \n",
              " [5] \"$640,000,000\"     \"$686,000,000\"     \"$115,000,000\"     \"$2,788,600,000\"  \n",
              " [9] \"$388,000,000\"     \"$37,400,000\"     \n"
            ]
          },
          "metadata": {}
        }
      ]
    },
    {
      "cell_type": "markdown",
      "metadata": {
        "id": "wF7WKPJ0TVv_"
      },
      "source": [
        "Almost ... don't like that extra comma on the first number. Let's require it to end with a number."
      ]
    },
    {
      "cell_type": "code",
      "metadata": {
        "colab": {
          "base_uri": "https://localhost:8080/",
          "height": 62
        },
        "id": "_ZbwDeuTTVwA",
        "outputId": "9a86d2ef-c381-44e4-87fa-c5580a5f4e2f"
      },
      "source": [
        "dollarmatches <- str_extract_all(text, '\\\\$[,0-9]+[0-9]') # $ followed by one or more digits or commas and ends in a number\n",
        "dollarmatches"
      ],
      "execution_count": null,
      "outputs": [
        {
          "output_type": "display_data",
          "data": {
            "text/html": [
              "<ol>\n",
              "\t<li><style>\n",
              ".list-inline {list-style: none; margin:0; padding: 0}\n",
              ".list-inline>li {display: inline-block}\n",
              ".list-inline>li:not(:last-child)::after {content: \"\\00b7\"; padding: 0 .5ex}\n",
              "</style>\n",
              "<ol class=list-inline><li>'$19,508,000,000'</li><li>'$4,330,000,000'</li><li>'$5,023,000,000'</li><li>'$5,500,000,000'</li><li>'$640,000,000'</li><li>'$686,000,000'</li><li>'$115,000,000'</li><li>'$2,788,600,000'</li><li>'$388,000,000'</li><li>'$37,400,000'</li></ol>\n",
              "</li>\n",
              "</ol>\n"
            ],
            "text/markdown": "1. 1. '$19,508,000,000'\n2. '$4,330,000,000'\n3. '$5,023,000,000'\n4. '$5,500,000,000'\n5. '$640,000,000'\n6. '$686,000,000'\n7. '$115,000,000'\n8. '$2,788,600,000'\n9. '$388,000,000'\n10. '$37,400,000'\n\n\n\n\n\n",
            "text/latex": "\\begin{enumerate}\n\\item \\begin{enumerate*}\n\\item '\\$19,508,000,000'\n\\item '\\$4,330,000,000'\n\\item '\\$5,023,000,000'\n\\item '\\$5,500,000,000'\n\\item '\\$640,000,000'\n\\item '\\$686,000,000'\n\\item '\\$115,000,000'\n\\item '\\$2,788,600,000'\n\\item '\\$388,000,000'\n\\item '\\$37,400,000'\n\\end{enumerate*}\n\n\\end{enumerate}\n",
            "text/plain": [
              "[[1]]\n",
              " [1] \"$19,508,000,000\" \"$4,330,000,000\"  \"$5,023,000,000\"  \"$5,500,000,000\" \n",
              " [5] \"$640,000,000\"    \"$686,000,000\"    \"$115,000,000\"    \"$2,788,600,000\" \n",
              " [9] \"$388,000,000\"    \"$37,400,000\"    \n"
            ]
          },
          "metadata": {}
        }
      ]
    },
    {
      "cell_type": "markdown",
      "metadata": {
        "id": "obM-sCKHTVwA"
      },
      "source": [
        "The things we want are demarcated by numbered items in parentheses. Let's see if we can extract those:"
      ]
    },
    {
      "cell_type": "code",
      "metadata": {
        "colab": {
          "base_uri": "https://localhost:8080/",
          "height": 62
        },
        "id": "97pJfQXGTVwA",
        "outputId": "f7c37c51-9b4a-477e-858e-ab9c37ca5b1e"
      },
      "source": [
        "bulletmatches <- str_extract_all(text, '\\\\([0-9]+\\\\)') # ( followed by a digit followed by )\n",
        "bulletmatches\n",
        "\n"
      ],
      "execution_count": null,
      "outputs": [
        {
          "output_type": "display_data",
          "data": {
            "text/html": [
              "<ol>\n",
              "\t<li><style>\n",
              ".list-inline {list-style: none; margin:0; padding: 0}\n",
              ".list-inline>li {display: inline-block}\n",
              ".list-inline>li:not(:last-child)::after {content: \"\\00b7\"; padding: 0 .5ex}\n",
              "</style>\n",
              "<ol class=list-inline><li>'(1)'</li><li>'(2)'</li><li>'(3)'</li><li>'(4)'</li><li>'(5)'</li><li>'(6)'</li><li>'(7)'</li><li>'(8)'</li><li>'(9)'</li></ol>\n",
              "</li>\n",
              "</ol>\n"
            ],
            "text/markdown": "1. 1. '(1)'\n2. '(2)'\n3. '(3)'\n4. '(4)'\n5. '(5)'\n6. '(6)'\n7. '(7)'\n8. '(8)'\n9. '(9)'\n\n\n\n\n\n",
            "text/latex": "\\begin{enumerate}\n\\item \\begin{enumerate*}\n\\item '(1)'\n\\item '(2)'\n\\item '(3)'\n\\item '(4)'\n\\item '(5)'\n\\item '(6)'\n\\item '(7)'\n\\item '(8)'\n\\item '(9)'\n\\end{enumerate*}\n\n\\end{enumerate}\n",
            "text/plain": [
              "[[1]]\n",
              "[1] \"(1)\" \"(2)\" \"(3)\" \"(4)\" \"(5)\" \"(6)\" \"(7)\" \"(8)\" \"(9)\"\n"
            ]
          },
          "metadata": {}
        }
      ]
    },
    {
      "cell_type": "markdown",
      "metadata": {
        "id": "Ar_3FvHnTVwA"
      },
      "source": [
        "Let's go back to the original and get rid of the newlines. Note that the string.replace() method doesn't accept regular expressions and you need to use re.sub()."
      ]
    },
    {
      "cell_type": "code",
      "metadata": {
        "id": "09jJdhpJTVwA",
        "colab": {
          "base_uri": "https://localhost:8080/",
          "height": 121
        },
        "outputId": "0e6d75ad-38a9-4a2b-85e4-13d39a31addb"
      },
      "source": [
        "one_line <- str_replace(text, \"\\n\", \" \")\n",
        "one_line"
      ],
      "execution_count": null,
      "outputs": [
        {
          "output_type": "display_data",
          "data": {
            "text/html": [
              "'SEC. 101. FISCAL YEAR 2017. (a) In General.--There are authorized to be appropriated to NASA\\nfor fiscal year 2017 $19,508,000,000, as follows:\\n(1) For Exploration, $4,330,000,000.\\n(2) For Space Operations, $5,023,000,000.\\n(3) For Science, $5,500,000,000.\\n(4) For Aeronautics, $640,000,000.\\n(5) For Space Technology, $686,000,000.\\n(6) For Education, $115,000,000.\\n(7) For Safety, Security, and Mission Services,\\n$2,788,600,000.\\n(8) For Construction and Environmental Compliance and\\nRestoration, $388,000,000.\\n(9) For Inspector General, $37,400,000.\\n(b) Exception.--In addition to the amounts authorized to be\\nappropriated for each account under subsection (a), there are\\nauthorized to be appropriated additional funds for each such account,\\nbut only if the authorized amounts for all such accounts are fully\\nprovided for in annual appropriation Acts, consistent with the\\ndiscretionary spending limits in section 251(c) of the Balanced Budget\\nand Emergency Deficit Control Act of 1985.'"
            ],
            "text/markdown": "'SEC. 101. FISCAL YEAR 2017. (a) In General.--There are authorized to be appropriated to NASA\\nfor fiscal year 2017 $19,508,000,000, as follows:\\n(1) For Exploration, $4,330,000,000.\\n(2) For Space Operations, $5,023,000,000.\\n(3) For Science, $5,500,000,000.\\n(4) For Aeronautics, $640,000,000.\\n(5) For Space Technology, $686,000,000.\\n(6) For Education, $115,000,000.\\n(7) For Safety, Security, and Mission Services,\\n$2,788,600,000.\\n(8) For Construction and Environmental Compliance and\\nRestoration, $388,000,000.\\n(9) For Inspector General, $37,400,000.\\n(b) Exception.--In addition to the amounts authorized to be\\nappropriated for each account under subsection (a), there are\\nauthorized to be appropriated additional funds for each such account,\\nbut only if the authorized amounts for all such accounts are fully\\nprovided for in annual appropriation Acts, consistent with the\\ndiscretionary spending limits in section 251(c) of the Balanced Budget\\nand Emergency Deficit Control Act of 1985.'",
            "text/latex": "'SEC. 101. FISCAL YEAR 2017. (a) In General.--There are authorized to be appropriated to NASA\\textbackslash{}nfor fiscal year 2017 \\$19,508,000,000, as follows:\\textbackslash{}n(1) For Exploration, \\$4,330,000,000.\\textbackslash{}n(2) For Space Operations, \\$5,023,000,000.\\textbackslash{}n(3) For Science, \\$5,500,000,000.\\textbackslash{}n(4) For Aeronautics, \\$640,000,000.\\textbackslash{}n(5) For Space Technology, \\$686,000,000.\\textbackslash{}n(6) For Education, \\$115,000,000.\\textbackslash{}n(7) For Safety, Security, and Mission Services,\\textbackslash{}n\\$2,788,600,000.\\textbackslash{}n(8) For Construction and Environmental Compliance and\\textbackslash{}nRestoration, \\$388,000,000.\\textbackslash{}n(9) For Inspector General, \\$37,400,000.\\textbackslash{}n(b) Exception.--In addition to the amounts authorized to be\\textbackslash{}nappropriated for each account under subsection (a), there are\\textbackslash{}nauthorized to be appropriated additional funds for each such account,\\textbackslash{}nbut only if the authorized amounts for all such accounts are fully\\textbackslash{}nprovided for in annual appropriation Acts, consistent with the\\textbackslash{}ndiscretionary spending limits in section 251(c) of the Balanced Budget\\textbackslash{}nand Emergency Deficit Control Act of 1985.'",
            "text/plain": [
              "[1] \"SEC. 101. FISCAL YEAR 2017. (a) In General.--There are authorized to be appropriated to NASA\\nfor fiscal year 2017 $19,508,000,000, as follows:\\n(1) For Exploration, $4,330,000,000.\\n(2) For Space Operations, $5,023,000,000.\\n(3) For Science, $5,500,000,000.\\n(4) For Aeronautics, $640,000,000.\\n(5) For Space Technology, $686,000,000.\\n(6) For Education, $115,000,000.\\n(7) For Safety, Security, and Mission Services,\\n$2,788,600,000.\\n(8) For Construction and Environmental Compliance and\\nRestoration, $388,000,000.\\n(9) For Inspector General, $37,400,000.\\n(b) Exception.--In addition to the amounts authorized to be\\nappropriated for each account under subsection (a), there are\\nauthorized to be appropriated additional funds for each such account,\\nbut only if the authorized amounts for all such accounts are fully\\nprovided for in annual appropriation Acts, consistent with the\\ndiscretionary spending limits in section 251(c) of the Balanced Budget\\nand Emergency Deficit Control Act of 1985.\""
            ]
          },
          "metadata": {}
        }
      ]
    },
    {
      "cell_type": "markdown",
      "metadata": {
        "id": "kC3xoYluTVwA"
      },
      "source": [
        "and find all the matches from \"(number)\" to a period, lazily rather than greedily:"
      ]
    },
    {
      "cell_type": "code",
      "metadata": {
        "id": "rPlVW3KDTVwB",
        "colab": {
          "base_uri": "https://localhost:8080/"
        },
        "outputId": "d7ad9347-7fd0-4657-b72b-d1199c3af74a"
      },
      "source": [
        "item_strings = str_extract_all(one_line, \"\\\\(\\\\d\\\\).+?\\\\.\")\n",
        "item_strings"
      ],
      "execution_count": null,
      "outputs": [
        {
          "output_type": "stream",
          "name": "stdout",
          "text": [
            "[[1]]\n",
            "[1] \"(1) For Exploration, $4,330,000,000.\"     \n",
            "[2] \"(2) For Space Operations, $5,023,000,000.\"\n",
            "[3] \"(3) For Science, $5,500,000,000.\"         \n",
            "[4] \"(4) For Aeronautics, $640,000,000.\"       \n",
            "[5] \"(5) For Space Technology, $686,000,000.\"  \n",
            "[6] \"(6) For Education, $115,000,000.\"         \n",
            "[7] \"(9) For Inspector General, $37,400,000.\"  \n",
            "\n"
          ]
        }
      ]
    },
    {
      "cell_type": "markdown",
      "metadata": {
        "id": "Q8o6uIpGTVwB"
      },
      "source": [
        "We can use a capture group to gather just the \"for what\" data ..."
      ]
    },
    {
      "cell_type": "code",
      "metadata": {
        "colab": {
          "base_uri": "https://localhost:8080/",
          "height": 254
        },
        "id": "63GGcpWvTVwB",
        "outputId": "a298386d-e1cb-45b0-86d1-b42839e5e6bc"
      },
      "source": [
        "for_matches <- str_match(item_strings[[1]], '(For )(.+)(, \\\\$)')\n",
        "for_matches"
      ],
      "execution_count": null,
      "outputs": [
        {
          "output_type": "display_data",
          "data": {
            "text/html": [
              "<table class=\"dataframe\">\n",
              "<caption>A matrix: 7 × 4 of type chr</caption>\n",
              "<tbody>\n",
              "\t<tr><td>For Exploration, $      </td><td>For </td><td>Exploration      </td><td>, $</td></tr>\n",
              "\t<tr><td>For Space Operations, $ </td><td>For </td><td>Space Operations </td><td>, $</td></tr>\n",
              "\t<tr><td>For Science, $          </td><td>For </td><td>Science          </td><td>, $</td></tr>\n",
              "\t<tr><td>For Aeronautics, $      </td><td>For </td><td>Aeronautics      </td><td>, $</td></tr>\n",
              "\t<tr><td>For Space Technology, $ </td><td>For </td><td>Space Technology </td><td>, $</td></tr>\n",
              "\t<tr><td>For Education, $        </td><td>For </td><td>Education        </td><td>, $</td></tr>\n",
              "\t<tr><td>For Inspector General, $</td><td>For </td><td>Inspector General</td><td>, $</td></tr>\n",
              "</tbody>\n",
              "</table>\n"
            ],
            "text/markdown": "\nA matrix: 7 × 4 of type chr\n\n| For Exploration, $       | For  | Exploration       | , $ |\n| For Space Operations, $  | For  | Space Operations  | , $ |\n| For Science, $           | For  | Science           | , $ |\n| For Aeronautics, $       | For  | Aeronautics       | , $ |\n| For Space Technology, $  | For  | Space Technology  | , $ |\n| For Education, $         | For  | Education         | , $ |\n| For Inspector General, $ | For  | Inspector General | , $ |\n\n",
            "text/latex": "A matrix: 7 × 4 of type chr\n\\begin{tabular}{llll}\n\t For Exploration, \\$       & For  & Exploration       & , \\$\\\\\n\t For Space Operations, \\$  & For  & Space Operations  & , \\$\\\\\n\t For Science, \\$           & For  & Science           & , \\$\\\\\n\t For Aeronautics, \\$       & For  & Aeronautics       & , \\$\\\\\n\t For Space Technology, \\$  & For  & Space Technology  & , \\$\\\\\n\t For Education, \\$         & For  & Education         & , \\$\\\\\n\t For Inspector General, \\$ & For  & Inspector General & , \\$\\\\\n\\end{tabular}\n",
            "text/plain": [
              "     [,1]                     [,2] [,3]              [,4]\n",
              "[1,] For Exploration, $       For  Exploration       , $ \n",
              "[2,] For Space Operations, $  For  Space Operations  , $ \n",
              "[3,] For Science, $           For  Science           , $ \n",
              "[4,] For Aeronautics, $       For  Aeronautics       , $ \n",
              "[5,] For Space Technology, $  For  Space Technology  , $ \n",
              "[6,] For Education, $         For  Education         , $ \n",
              "[7,] For Inspector General, $ For  Inspector General , $ "
            ]
          },
          "metadata": {}
        }
      ]
    },
    {
      "cell_type": "markdown",
      "source": [
        "We can pull the type then from the third column. "
      ],
      "metadata": {
        "id": "X5suEfWSafr_"
      }
    },
    {
      "cell_type": "code",
      "source": [
        "for_matches[,3]"
      ],
      "metadata": {
        "colab": {
          "base_uri": "https://localhost:8080/",
          "height": 34
        },
        "id": "jzs-qfsDakHc",
        "outputId": "e97c43d9-7e19-4193-af97-ffe95b070962"
      },
      "execution_count": null,
      "outputs": [
        {
          "output_type": "display_data",
          "data": {
            "text/html": [
              "<style>\n",
              ".list-inline {list-style: none; margin:0; padding: 0}\n",
              ".list-inline>li {display: inline-block}\n",
              ".list-inline>li:not(:last-child)::after {content: \"\\00b7\"; padding: 0 .5ex}\n",
              "</style>\n",
              "<ol class=list-inline><li>'Exploration'</li><li>'Space Operations'</li><li>'Science'</li><li>'Aeronautics'</li><li>'Space Technology'</li><li>'Education'</li><li>'Inspector General'</li></ol>\n"
            ],
            "text/markdown": "1. 'Exploration'\n2. 'Space Operations'\n3. 'Science'\n4. 'Aeronautics'\n5. 'Space Technology'\n6. 'Education'\n7. 'Inspector General'\n\n\n",
            "text/latex": "\\begin{enumerate*}\n\\item 'Exploration'\n\\item 'Space Operations'\n\\item 'Science'\n\\item 'Aeronautics'\n\\item 'Space Technology'\n\\item 'Education'\n\\item 'Inspector General'\n\\end{enumerate*}\n",
            "text/plain": [
              "[1] \"Exploration\"       \"Space Operations\"  \"Science\"          \n",
              "[4] \"Aeronautics\"       \"Space Technology\"  \"Education\"        \n",
              "[7] \"Inspector General\""
            ]
          },
          "metadata": {}
        }
      ]
    },
    {
      "cell_type": "markdown",
      "metadata": {
        "id": "16OyEoExTVwB"
      },
      "source": [
        "We can also use a capture group just for the money data"
      ]
    },
    {
      "cell_type": "code",
      "metadata": {
        "colab": {
          "base_uri": "https://localhost:8080/",
          "height": 34
        },
        "id": "TCedwF-NTVwB",
        "outputId": "f420ad35-71e3-434d-dc16-d89aa3938e4d"
      },
      "source": [
        "money_matches <- str_match(item_strings[[1]], '\\\\$([, \\\\d]+)')\n",
        "money_matches[,2]"
      ],
      "execution_count": null,
      "outputs": [
        {
          "output_type": "display_data",
          "data": {
            "text/html": [
              "<style>\n",
              ".list-inline {list-style: none; margin:0; padding: 0}\n",
              ".list-inline>li {display: inline-block}\n",
              ".list-inline>li:not(:last-child)::after {content: \"\\00b7\"; padding: 0 .5ex}\n",
              "</style>\n",
              "<ol class=list-inline><li>'4,330,000,000'</li><li>'5,023,000,000'</li><li>'5,500,000,000'</li><li>'640,000,000'</li><li>'686,000,000'</li><li>'115,000,000'</li><li>'37,400,000'</li></ol>\n"
            ],
            "text/markdown": "1. '4,330,000,000'\n2. '5,023,000,000'\n3. '5,500,000,000'\n4. '640,000,000'\n5. '686,000,000'\n6. '115,000,000'\n7. '37,400,000'\n\n\n",
            "text/latex": "\\begin{enumerate*}\n\\item '4,330,000,000'\n\\item '5,023,000,000'\n\\item '5,500,000,000'\n\\item '640,000,000'\n\\item '686,000,000'\n\\item '115,000,000'\n\\item '37,400,000'\n\\end{enumerate*}\n",
            "text/plain": [
              "[1] \"4,330,000,000\" \"5,023,000,000\" \"5,500,000,000\" \"640,000,000\"  \n",
              "[5] \"686,000,000\"   \"115,000,000\"   \"37,400,000\"   "
            ]
          },
          "metadata": {}
        }
      ]
    },
    {
      "cell_type": "markdown",
      "metadata": {
        "id": "hDGE9dZrTVwB"
      },
      "source": [
        "We'll probably want those just to be numbers, so we'll strip the commas:"
      ]
    },
    {
      "cell_type": "code",
      "metadata": {
        "colab": {
          "base_uri": "https://localhost:8080/",
          "height": 34
        },
        "id": "VNra1_xETVwB",
        "outputId": "b5545aa5-abea-4565-ebb1-352e8f89f958"
      },
      "source": [
        "money_strings_clean <- str_replace_all(money_matches[,2], \",\", \"\")\n",
        "money_strings_clean"
      ],
      "execution_count": null,
      "outputs": [
        {
          "output_type": "display_data",
          "data": {
            "text/html": [
              "<style>\n",
              ".list-inline {list-style: none; margin:0; padding: 0}\n",
              ".list-inline>li {display: inline-block}\n",
              ".list-inline>li:not(:last-child)::after {content: \"\\00b7\"; padding: 0 .5ex}\n",
              "</style>\n",
              "<ol class=list-inline><li>'4330000000'</li><li>'5023000000'</li><li>'5500000000'</li><li>'640000000'</li><li>'686000000'</li><li>'115000000'</li><li>'37400000'</li></ol>\n"
            ],
            "text/markdown": "1. '4330000000'\n2. '5023000000'\n3. '5500000000'\n4. '640000000'\n5. '686000000'\n6. '115000000'\n7. '37400000'\n\n\n",
            "text/latex": "\\begin{enumerate*}\n\\item '4330000000'\n\\item '5023000000'\n\\item '5500000000'\n\\item '640000000'\n\\item '686000000'\n\\item '115000000'\n\\item '37400000'\n\\end{enumerate*}\n",
            "text/plain": [
              "[1] \"4330000000\" \"5023000000\" \"5500000000\" \"640000000\"  \"686000000\" \n",
              "[6] \"115000000\"  \"37400000\"  "
            ]
          },
          "metadata": {}
        }
      ]
    },
    {
      "cell_type": "markdown",
      "metadata": {
        "id": "yBef-b8Rfby5"
      },
      "source": [
        "We'll turn that into numbers and reformat them as millions."
      ]
    },
    {
      "cell_type": "code",
      "metadata": {
        "id": "4duIaPg_eyb0",
        "colab": {
          "base_uri": "https://localhost:8080/",
          "height": 34
        },
        "outputId": "f0c97266-80db-4ac9-ecd0-05d7174218b8"
      },
      "source": [
        "millions <- as.numeric(money_strings_clean)/10e6\n",
        "millions"
      ],
      "execution_count": null,
      "outputs": [
        {
          "output_type": "display_data",
          "data": {
            "text/html": [
              "<style>\n",
              ".list-inline {list-style: none; margin:0; padding: 0}\n",
              ".list-inline>li {display: inline-block}\n",
              ".list-inline>li:not(:last-child)::after {content: \"\\00b7\"; padding: 0 .5ex}\n",
              "</style>\n",
              "<ol class=list-inline><li>433</li><li>502.3</li><li>550</li><li>64</li><li>68.6</li><li>11.5</li><li>3.74</li></ol>\n"
            ],
            "text/markdown": "1. 433\n2. 502.3\n3. 550\n4. 64\n5. 68.6\n6. 11.5\n7. 3.74\n\n\n",
            "text/latex": "\\begin{enumerate*}\n\\item 433\n\\item 502.3\n\\item 550\n\\item 64\n\\item 68.6\n\\item 11.5\n\\item 3.74\n\\end{enumerate*}\n",
            "text/plain": [
              "[1] 433.00 502.30 550.00  64.00  68.60  11.50   3.74"
            ]
          },
          "metadata": {}
        }
      ]
    },
    {
      "cell_type": "markdown",
      "metadata": {
        "id": "0Q1H9WUVTVwC"
      },
      "source": [
        "Finally, we can format the data in a dataframe for later processing."
      ]
    },
    {
      "cell_type": "code",
      "metadata": {
        "id": "jkVqA9XneIk4"
      },
      "source": [
        "myDf <- as_tibble(as.matrix(cbind(for_matches[,3],millions)))"
      ],
      "execution_count": null,
      "outputs": []
    },
    {
      "cell_type": "code",
      "source": [
        "colnames(myDf) <- c(\"For\", \"Millions\")\n",
        "myDf"
      ],
      "metadata": {
        "colab": {
          "base_uri": "https://localhost:8080/",
          "height": 318
        },
        "id": "pztE0kLKbnCP",
        "outputId": "e3a0aa1d-834a-47bc-bf9b-9b520c928534"
      },
      "execution_count": null,
      "outputs": [
        {
          "output_type": "display_data",
          "data": {
            "text/html": [
              "<table class=\"dataframe\">\n",
              "<caption>A tibble: 7 × 2</caption>\n",
              "<thead>\n",
              "\t<tr><th scope=col>For</th><th scope=col>Millions</th></tr>\n",
              "\t<tr><th scope=col>&lt;chr&gt;</th><th scope=col>&lt;chr&gt;</th></tr>\n",
              "</thead>\n",
              "<tbody>\n",
              "\t<tr><td>Exploration      </td><td>433  </td></tr>\n",
              "\t<tr><td>Space Operations </td><td>502.3</td></tr>\n",
              "\t<tr><td>Science          </td><td>550  </td></tr>\n",
              "\t<tr><td>Aeronautics      </td><td>64   </td></tr>\n",
              "\t<tr><td>Space Technology </td><td>68.6 </td></tr>\n",
              "\t<tr><td>Education        </td><td>11.5 </td></tr>\n",
              "\t<tr><td>Inspector General</td><td>3.74 </td></tr>\n",
              "</tbody>\n",
              "</table>\n"
            ],
            "text/markdown": "\nA tibble: 7 × 2\n\n| For &lt;chr&gt; | Millions &lt;chr&gt; |\n|---|---|\n| Exploration       | 433   |\n| Space Operations  | 502.3 |\n| Science           | 550   |\n| Aeronautics       | 64    |\n| Space Technology  | 68.6  |\n| Education         | 11.5  |\n| Inspector General | 3.74  |\n\n",
            "text/latex": "A tibble: 7 × 2\n\\begin{tabular}{ll}\n For & Millions\\\\\n <chr> & <chr>\\\\\n\\hline\n\t Exploration       & 433  \\\\\n\t Space Operations  & 502.3\\\\\n\t Science           & 550  \\\\\n\t Aeronautics       & 64   \\\\\n\t Space Technology  & 68.6 \\\\\n\t Education         & 11.5 \\\\\n\t Inspector General & 3.74 \\\\\n\\end{tabular}\n",
            "text/plain": [
              "  For               Millions\n",
              "1 Exploration       433     \n",
              "2 Space Operations  502.3   \n",
              "3 Science           550     \n",
              "4 Aeronautics       64      \n",
              "5 Space Technology  68.6    \n",
              "6 Education         11.5    \n",
              "7 Inspector General 3.74    "
            ]
          },
          "metadata": {}
        }
      ]
    }
  ]
}